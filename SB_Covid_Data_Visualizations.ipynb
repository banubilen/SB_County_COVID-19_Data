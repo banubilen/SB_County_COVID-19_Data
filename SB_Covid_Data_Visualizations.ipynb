{
  "nbformat": 4,
  "nbformat_minor": 0,
  "metadata": {
    "colab": {
      "name": "SB_Covid_Data_Visualizations.ipynb",
      "provenance": [],
      "collapsed_sections": [],
      "toc_visible": true,
      "authorship_tag": "ABX9TyOwgdh0myQbk8cDZdDcVLFu",
      "include_colab_link": true
    },
    "kernelspec": {
      "name": "python3",
      "display_name": "Python 3"
    }
  },
  "cells": [
    {
      "cell_type": "markdown",
      "metadata": {
        "id": "view-in-github",
        "colab_type": "text"
      },
      "source": [
        "<a href=\"https://colab.research.google.com/github/bryandaetz1/SB_County_COVID-19_Data/blob/master/SB_Covid_Data_Visualizations.ipynb\" target=\"_parent\"><img src=\"https://colab.research.google.com/assets/colab-badge.svg\" alt=\"Open In Colab\"/></a>"
      ]
    },
    {
      "cell_type": "code",
      "metadata": {
        "id": "5m7YJl8Si-VK",
        "outputId": "51ca0a02-b862-45e4-de49-5f569e921096",
        "colab": {
          "base_uri": "https://localhost:8080/",
          "height": 187
        }
      },
      "source": [
        "%pip install plotly==4.12.0"
      ],
      "execution_count": 1,
      "outputs": [
        {
          "output_type": "stream",
          "text": [
            "Collecting plotly==4.12.0\n",
            "\u001b[?25l  Downloading https://files.pythonhosted.org/packages/a6/66/af86e9d9bf1a3e4f2dabebeabd02a32e8ddf671a5d072b3af2b011efea99/plotly-4.12.0-py2.py3-none-any.whl (13.1MB)\n",
            "\u001b[K     |████████████████████████████████| 13.1MB 311kB/s \n",
            "\u001b[?25hRequirement already satisfied: six in /usr/local/lib/python3.6/dist-packages (from plotly==4.12.0) (1.15.0)\n",
            "Requirement already satisfied: retrying>=1.3.3 in /usr/local/lib/python3.6/dist-packages (from plotly==4.12.0) (1.3.3)\n",
            "Installing collected packages: plotly\n",
            "  Found existing installation: plotly 4.4.1\n",
            "    Uninstalling plotly-4.4.1:\n",
            "      Successfully uninstalled plotly-4.4.1\n",
            "Successfully installed plotly-4.12.0\n"
          ],
          "name": "stdout"
        }
      ]
    },
    {
      "cell_type": "code",
      "metadata": {
        "id": "TS6Lc9hRGlvU"
      },
      "source": [
        "import pandas as pd\n",
        "import numpy as np\n",
        "import seaborn as sns\n",
        "from matplotlib import pyplot as plt\n",
        "import plotly.express as px\n",
        "import plotly.graph_objects as go"
      ],
      "execution_count": 2,
      "outputs": []
    },
    {
      "cell_type": "code",
      "metadata": {
        "id": "ca0FPnjWG8Yw"
      },
      "source": [
        "cases_by_age = pd.read_csv('https://raw.githubusercontent.com/bryandaetz1/SB_County_COVID-19_Data/master/CSV_Files/cases_by_age_10-20-20.csv')\n",
        "cases_by_area = pd.read_csv('https://raw.githubusercontent.com/bryandaetz1/SB_County_COVID-19_Data/master/CSV_Files/cases_by_area_10-20-20.csv')\n",
        "cases_by_gender = pd.read_csv('https://raw.githubusercontent.com/bryandaetz1/SB_County_COVID-19_Data/master/CSV_Files/cases_by_gender_10-20-20.csv')\n",
        "ethnicity = pd.read_csv('https://raw.githubusercontent.com/bryandaetz1/SB_County_COVID-19_Data/master/CSV_Files/ethnicity_10-20-20.csv')\n",
        "recovery_status = pd.read_csv('https://raw.githubusercontent.com/bryandaetz1/SB_County_COVID-19_Data/master/CSV_Files/recovery_status_10-20-20.csv')\n",
        "testing_status = pd.read_csv('https://raw.githubusercontent.com/bryandaetz1/SB_County_COVID-19_Data/master/CSV_Files/testing_status_10-20-20.csv')\n",
        "transmission_method = pd.read_csv('https://raw.githubusercontent.com/bryandaetz1/SB_County_COVID-19_Data/master/CSV_Files/transmission_method_10-20-20.csv')"
      ],
      "execution_count": 3,
      "outputs": []
    },
    {
      "cell_type": "markdown",
      "metadata": {
        "id": "SwcGWbTRsE0W"
      },
      "source": [
        "## Still Need to Add"
      ]
    },
    {
      "cell_type": "code",
      "metadata": {
        "id": "KjDZfLHbr6FJ",
        "outputId": "3c5391e0-da89-4358-cffa-485f140b2ecb",
        "colab": {
          "base_uri": "https://localhost:8080/",
          "height": 204
        }
      },
      "source": [
        "testing_status.head()"
      ],
      "execution_count": 4,
      "outputs": [
        {
          "output_type": "execute_result",
          "data": {
            "text/html": [
              "<div>\n",
              "<style scoped>\n",
              "    .dataframe tbody tr th:only-of-type {\n",
              "        vertical-align: middle;\n",
              "    }\n",
              "\n",
              "    .dataframe tbody tr th {\n",
              "        vertical-align: top;\n",
              "    }\n",
              "\n",
              "    .dataframe thead th {\n",
              "        text-align: right;\n",
              "    }\n",
              "</style>\n",
              "<table border=\"1\" class=\"dataframe\">\n",
              "  <thead>\n",
              "    <tr style=\"text-align: right;\">\n",
              "      <th></th>\n",
              "      <th>Testing Status</th>\n",
              "      <th>Total</th>\n",
              "      <th>Date</th>\n",
              "    </tr>\n",
              "  </thead>\n",
              "  <tbody>\n",
              "    <tr>\n",
              "      <th>0</th>\n",
              "      <td>Cumulative Positive</td>\n",
              "      <td>9671</td>\n",
              "      <td>October 20, 2020</td>\n",
              "    </tr>\n",
              "    <tr>\n",
              "      <th>1</th>\n",
              "      <td>Cumulative Negative</td>\n",
              "      <td>170215</td>\n",
              "      <td>October 20, 2020</td>\n",
              "    </tr>\n",
              "    <tr>\n",
              "      <th>2</th>\n",
              "      <td>Cumulative Inconclusive</td>\n",
              "      <td>449</td>\n",
              "      <td>October 20, 2020</td>\n",
              "    </tr>\n",
              "    <tr>\n",
              "      <th>3</th>\n",
              "      <td>Cumulative Pending6</td>\n",
              "      <td>191</td>\n",
              "      <td>October 20, 2020</td>\n",
              "    </tr>\n",
              "    <tr>\n",
              "      <th>4</th>\n",
              "      <td>Cumulative Invalid</td>\n",
              "      <td>89</td>\n",
              "      <td>October 20, 2020</td>\n",
              "    </tr>\n",
              "  </tbody>\n",
              "</table>\n",
              "</div>"
            ],
            "text/plain": [
              "            Testing Status  Total               Date\n",
              "0      Cumulative Positive    9671  October 20, 2020\n",
              "1      Cumulative Negative  170215  October 20, 2020\n",
              "2  Cumulative Inconclusive     449  October 20, 2020\n",
              "3      Cumulative Pending6     191  October 20, 2020\n",
              "4       Cumulative Invalid      89  October 20, 2020"
            ]
          },
          "metadata": {
            "tags": []
          },
          "execution_count": 4
        }
      ]
    },
    {
      "cell_type": "code",
      "metadata": {
        "id": "9xQkx1stsDmj",
        "outputId": "0bd872ff-7b3a-41d7-ff20-b6cb5aac6c9b",
        "colab": {
          "base_uri": "https://localhost:8080/",
          "height": 204
        }
      },
      "source": [
        "transmission_method.head()"
      ],
      "execution_count": 5,
      "outputs": [
        {
          "output_type": "execute_result",
          "data": {
            "text/html": [
              "<div>\n",
              "<style scoped>\n",
              "    .dataframe tbody tr th:only-of-type {\n",
              "        vertical-align: middle;\n",
              "    }\n",
              "\n",
              "    .dataframe tbody tr th {\n",
              "        vertical-align: top;\n",
              "    }\n",
              "\n",
              "    .dataframe thead th {\n",
              "        text-align: right;\n",
              "    }\n",
              "</style>\n",
              "<table border=\"1\" class=\"dataframe\">\n",
              "  <thead>\n",
              "    <tr style=\"text-align: right;\">\n",
              "      <th></th>\n",
              "      <th>Transmission Method</th>\n",
              "      <th>Total</th>\n",
              "      <th>Date</th>\n",
              "    </tr>\n",
              "  </thead>\n",
              "  <tbody>\n",
              "    <tr>\n",
              "      <th>0</th>\n",
              "      <td>Community Close Contact Transmission</td>\n",
              "      <td>3357</td>\n",
              "      <td>October 20, 2020</td>\n",
              "    </tr>\n",
              "    <tr>\n",
              "      <th>1</th>\n",
              "      <td>Persons Incarcerated at Federal Prison in Lomp...</td>\n",
              "      <td>1026</td>\n",
              "      <td>October 20, 2020</td>\n",
              "    </tr>\n",
              "    <tr>\n",
              "      <th>2</th>\n",
              "      <td>Travel Transmission</td>\n",
              "      <td>12</td>\n",
              "      <td>October 20, 2020</td>\n",
              "    </tr>\n",
              "    <tr>\n",
              "      <th>3</th>\n",
              "      <td>Community Transmission</td>\n",
              "      <td>2197</td>\n",
              "      <td>October 20, 2020</td>\n",
              "    </tr>\n",
              "    <tr>\n",
              "      <th>4</th>\n",
              "      <td>Unknown</td>\n",
              "      <td>2971</td>\n",
              "      <td>October 20, 2020</td>\n",
              "    </tr>\n",
              "  </tbody>\n",
              "</table>\n",
              "</div>"
            ],
            "text/plain": [
              "                                 Transmission Method  Total              Date\n",
              "0               Community Close Contact Transmission   3357  October 20, 2020\n",
              "1  Persons Incarcerated at Federal Prison in Lomp...   1026  October 20, 2020\n",
              "2                                Travel Transmission     12  October 20, 2020\n",
              "3                             Community Transmission   2197  October 20, 2020\n",
              "4                                            Unknown   2971  October 20, 2020"
            ]
          },
          "metadata": {
            "tags": []
          },
          "execution_count": 5
        }
      ]
    },
    {
      "cell_type": "code",
      "metadata": {
        "id": "gwuBNkQesKWt",
        "outputId": "17ed5057-b648-4d9e-97f6-c6a7de10cece",
        "colab": {
          "base_uri": "https://localhost:8080/",
          "height": 136
        }
      },
      "source": [
        "transmission_method['Transmission Method'].value_counts()"
      ],
      "execution_count": 6,
      "outputs": [
        {
          "output_type": "execute_result",
          "data": {
            "text/plain": [
              "Travel Transmission                                               75\n",
              "Under Investigation                                               75\n",
              "Persons Incarcerated at Federal Prison in Lompoc Close Contact    75\n",
              "Community Close Contact Transmission                              75\n",
              "Community Transmission                                            75\n",
              "Unknown                                                           56\n",
              "Name: Transmission Method, dtype: int64"
            ]
          },
          "metadata": {
            "tags": []
          },
          "execution_count": 6
        }
      ]
    },
    {
      "cell_type": "code",
      "metadata": {
        "id": "4LjSoJSeV1UK",
        "outputId": "9dbd764e-b65d-4b48-9195-03e51d308da5",
        "colab": {
          "base_uri": "https://localhost:8080/",
          "height": 204
        }
      },
      "source": [
        "# horizontal bar chart where values for each gender are going in opposite directions?, may not work if counting pending or unknown gender\n",
        "cases_by_gender.head()"
      ],
      "execution_count": 7,
      "outputs": [
        {
          "output_type": "execute_result",
          "data": {
            "text/html": [
              "<div>\n",
              "<style scoped>\n",
              "    .dataframe tbody tr th:only-of-type {\n",
              "        vertical-align: middle;\n",
              "    }\n",
              "\n",
              "    .dataframe tbody tr th {\n",
              "        vertical-align: top;\n",
              "    }\n",
              "\n",
              "    .dataframe thead th {\n",
              "        text-align: right;\n",
              "    }\n",
              "</style>\n",
              "<table border=\"1\" class=\"dataframe\">\n",
              "  <thead>\n",
              "    <tr style=\"text-align: right;\">\n",
              "      <th></th>\n",
              "      <th>Number of Cases by Gender</th>\n",
              "      <th>Daily</th>\n",
              "      <th>Community</th>\n",
              "      <th>Federal Prisonin Lompoc</th>\n",
              "      <th>Total  (Community &amp; Prison)</th>\n",
              "      <th>Date</th>\n",
              "    </tr>\n",
              "  </thead>\n",
              "  <tbody>\n",
              "    <tr>\n",
              "      <th>0</th>\n",
              "      <td>Female</td>\n",
              "      <td>16</td>\n",
              "      <td>4250</td>\n",
              "      <td>2</td>\n",
              "      <td>4252.0</td>\n",
              "      <td>October 20, 2020</td>\n",
              "    </tr>\n",
              "    <tr>\n",
              "      <th>1</th>\n",
              "      <td>Male</td>\n",
              "      <td>13</td>\n",
              "      <td>4300</td>\n",
              "      <td>1011</td>\n",
              "      <td>5311.0</td>\n",
              "      <td>October 20, 2020</td>\n",
              "    </tr>\n",
              "    <tr>\n",
              "      <th>2</th>\n",
              "      <td>Unknown</td>\n",
              "      <td>1</td>\n",
              "      <td>95</td>\n",
              "      <td>13</td>\n",
              "      <td>108.0</td>\n",
              "      <td>October 20, 2020</td>\n",
              "    </tr>\n",
              "    <tr>\n",
              "      <th>3</th>\n",
              "      <td>Pending</td>\n",
              "      <td>0</td>\n",
              "      <td>0</td>\n",
              "      <td>0</td>\n",
              "      <td>NaN</td>\n",
              "      <td>October 20, 2020</td>\n",
              "    </tr>\n",
              "    <tr>\n",
              "      <th>4</th>\n",
              "      <td>Female</td>\n",
              "      <td>9</td>\n",
              "      <td>4234</td>\n",
              "      <td>2</td>\n",
              "      <td>4236.0</td>\n",
              "      <td>October 19, 2020</td>\n",
              "    </tr>\n",
              "  </tbody>\n",
              "</table>\n",
              "</div>"
            ],
            "text/plain": [
              "  Number of Cases by Gender  ...              Date\n",
              "0                    Female  ...  October 20, 2020\n",
              "1                      Male  ...  October 20, 2020\n",
              "2                   Unknown  ...  October 20, 2020\n",
              "3                   Pending  ...  October 20, 2020\n",
              "4                    Female  ...  October 19, 2020\n",
              "\n",
              "[5 rows x 6 columns]"
            ]
          },
          "metadata": {
            "tags": []
          },
          "execution_count": 7
        }
      ]
    },
    {
      "cell_type": "markdown",
      "metadata": {
        "id": "HAl5nQx_dj4L"
      },
      "source": [
        "## Recovery Status"
      ]
    },
    {
      "cell_type": "code",
      "metadata": {
        "id": "kOZJv9g8c08O",
        "outputId": "946ff944-ed3c-45b5-f106-6dd82a78df78",
        "colab": {
          "base_uri": "https://localhost:8080/",
          "height": 204
        }
      },
      "source": [
        "recovery_status.head()"
      ],
      "execution_count": 8,
      "outputs": [
        {
          "output_type": "execute_result",
          "data": {
            "text/html": [
              "<div>\n",
              "<style scoped>\n",
              "    .dataframe tbody tr th:only-of-type {\n",
              "        vertical-align: middle;\n",
              "    }\n",
              "\n",
              "    .dataframe tbody tr th {\n",
              "        vertical-align: top;\n",
              "    }\n",
              "\n",
              "    .dataframe thead th {\n",
              "        text-align: right;\n",
              "    }\n",
              "</style>\n",
              "<table border=\"1\" class=\"dataframe\">\n",
              "  <thead>\n",
              "    <tr style=\"text-align: right;\">\n",
              "      <th></th>\n",
              "      <th>Recovery Status</th>\n",
              "      <th>Community</th>\n",
              "      <th>Federal Prison in Lompoc</th>\n",
              "      <th>Total(Community &amp; Prison)</th>\n",
              "      <th>Date</th>\n",
              "    </tr>\n",
              "  </thead>\n",
              "  <tbody>\n",
              "    <tr>\n",
              "      <th>0</th>\n",
              "      <td>Still Infectious Cases</td>\n",
              "      <td>118</td>\n",
              "      <td>0.0</td>\n",
              "      <td>118.0</td>\n",
              "      <td>October 20, 2020</td>\n",
              "    </tr>\n",
              "    <tr>\n",
              "      <th>1</th>\n",
              "      <td>Recovered Cases</td>\n",
              "      <td>8411</td>\n",
              "      <td>1023.0</td>\n",
              "      <td>9434.0</td>\n",
              "      <td>October 20, 2020</td>\n",
              "    </tr>\n",
              "    <tr>\n",
              "      <th>2</th>\n",
              "      <td>Recovering in Hospital</td>\n",
              "      <td>NaN</td>\n",
              "      <td>NaN</td>\n",
              "      <td>16.0</td>\n",
              "      <td>October 20, 2020</td>\n",
              "    </tr>\n",
              "    <tr>\n",
              "      <th>3</th>\n",
              "      <td>Recovering in ICU</td>\n",
              "      <td>NaN</td>\n",
              "      <td>NaN</td>\n",
              "      <td>5.0</td>\n",
              "      <td>October 20, 2020</td>\n",
              "    </tr>\n",
              "    <tr>\n",
              "      <th>4</th>\n",
              "      <td>Pending Information</td>\n",
              "      <td>NaN</td>\n",
              "      <td>NaN</td>\n",
              "      <td>NaN</td>\n",
              "      <td>October 20, 2020</td>\n",
              "    </tr>\n",
              "  </tbody>\n",
              "</table>\n",
              "</div>"
            ],
            "text/plain": [
              "          Recovery Status  ...              Date\n",
              "0  Still Infectious Cases  ...  October 20, 2020\n",
              "1         Recovered Cases  ...  October 20, 2020\n",
              "2  Recovering in Hospital  ...  October 20, 2020\n",
              "3       Recovering in ICU  ...  October 20, 2020\n",
              "4     Pending Information  ...  October 20, 2020\n",
              "\n",
              "[5 rows x 5 columns]"
            ]
          },
          "metadata": {
            "tags": []
          },
          "execution_count": 8
        }
      ]
    },
    {
      "cell_type": "code",
      "metadata": {
        "id": "wBy_R_TvdmFV",
        "outputId": "7504f458-e391-45c4-c4b9-fe199fef242b",
        "colab": {
          "base_uri": "https://localhost:8080/",
          "height": 170
        }
      },
      "source": [
        "recovery_status['Recovery Status'].value_counts()"
      ],
      "execution_count": 9,
      "outputs": [
        {
          "output_type": "execute_result",
          "data": {
            "text/plain": [
              "Recovered Cases           75\n",
              "Recovering in Hospital    75\n",
              "Recovering in ICU         75\n",
              "Pending Information       75\n",
              "Still Infectious Cases    57\n",
              "Active Cases              13\n",
              "Active Cases*              5\n",
              "Recovering at Home         3\n",
              "Name: Recovery Status, dtype: int64"
            ]
          },
          "metadata": {
            "tags": []
          },
          "execution_count": 9
        }
      ]
    },
    {
      "cell_type": "code",
      "metadata": {
        "id": "tfcOQZCmeCXv"
      },
      "source": [
        "#cleaning up recovery status values\n",
        "recovery_status['Recovery Status'].replace({'Still Infectious Cases':'Active Cases', \n",
        "                                            'Active Cases*':'Active Cases'},\n",
        "                                           inplace = True)\n",
        "\n",
        "#cleaning up column names\n",
        "recovery_status.rename({'Community ':'Community',\n",
        "                        'Federal Prison in Lompoc':'Lompoc Federal Prison',\n",
        "                        'Total(Community & Prison)':'Total'},\n",
        "                       axis = 1,\n",
        "                       inplace = True)"
      ],
      "execution_count": 10,
      "outputs": []
    },
    {
      "cell_type": "code",
      "metadata": {
        "id": "4hEilnHdefVc",
        "outputId": "cb1602c0-3680-44ab-a1d2-fb8ef3a4a0ff",
        "colab": {
          "base_uri": "https://localhost:8080/",
          "height": 136
        }
      },
      "source": [
        "recovery_status['Recovery Status'].value_counts()"
      ],
      "execution_count": 11,
      "outputs": [
        {
          "output_type": "execute_result",
          "data": {
            "text/plain": [
              "Active Cases              75\n",
              "Recovered Cases           75\n",
              "Recovering in Hospital    75\n",
              "Recovering in ICU         75\n",
              "Pending Information       75\n",
              "Recovering at Home         3\n",
              "Name: Recovery Status, dtype: int64"
            ]
          },
          "metadata": {
            "tags": []
          },
          "execution_count": 11
        }
      ]
    },
    {
      "cell_type": "code",
      "metadata": {
        "id": "FT6XQRepfHHg"
      },
      "source": [
        "#getting subset of data\n",
        "recovery = recovery_status[recovery_status['Recovery Status'].isin(['Active Cases','Recovered Cases'])]"
      ],
      "execution_count": 12,
      "outputs": []
    },
    {
      "cell_type": "code",
      "metadata": {
        "id": "7ccyRwvheg1g",
        "outputId": "b232f19f-98e3-4395-9225-49bd3b134242",
        "colab": {
          "base_uri": "https://localhost:8080/",
          "height": 119
        }
      },
      "source": [
        "recovery.isna().sum() "
      ],
      "execution_count": 13,
      "outputs": [
        {
          "output_type": "execute_result",
          "data": {
            "text/plain": [
              "Recovery Status          0\n",
              "Community                0\n",
              "Lompoc Federal Prison    0\n",
              "Total                    0\n",
              "Date                     0\n",
              "dtype: int64"
            ]
          },
          "metadata": {
            "tags": []
          },
          "execution_count": 13
        }
      ]
    },
    {
      "cell_type": "code",
      "metadata": {
        "id": "K6k-9on7iODo",
        "outputId": "26d28b0d-e297-4922-f3f1-50fc6102c4f1",
        "colab": {
          "base_uri": "https://localhost:8080/",
          "height": 119
        }
      },
      "source": [
        "recovery.dtypes"
      ],
      "execution_count": 14,
      "outputs": [
        {
          "output_type": "execute_result",
          "data": {
            "text/plain": [
              "Recovery Status           object\n",
              "Community                 object\n",
              "Lompoc Federal Prison    float64\n",
              "Total                    float64\n",
              "Date                      object\n",
              "dtype: object"
            ]
          },
          "metadata": {
            "tags": []
          },
          "execution_count": 14
        }
      ]
    },
    {
      "cell_type": "code",
      "metadata": {
        "id": "nA_g3hyLiSMU",
        "outputId": "804d274a-d209-4cb3-91a6-edcb7b609d62",
        "colab": {
          "base_uri": "https://localhost:8080/",
          "height": 153
        }
      },
      "source": [
        "#converting community column to numeric\n",
        "recovery['Community'] = pd.to_numeric(recovery['Community'])"
      ],
      "execution_count": 15,
      "outputs": [
        {
          "output_type": "stream",
          "text": [
            "/usr/local/lib/python3.6/dist-packages/ipykernel_launcher.py:2: SettingWithCopyWarning:\n",
            "\n",
            "\n",
            "A value is trying to be set on a copy of a slice from a DataFrame.\n",
            "Try using .loc[row_indexer,col_indexer] = value instead\n",
            "\n",
            "See the caveats in the documentation: https://pandas.pydata.org/pandas-docs/stable/user_guide/indexing.html#returning-a-view-versus-a-copy\n",
            "\n"
          ],
          "name": "stderr"
        }
      ]
    },
    {
      "cell_type": "code",
      "metadata": {
        "id": "MtIXXt5OfaOE"
      },
      "source": [
        "#function to return active cases for a given column and date\n",
        "def active_cases(date, column_name):\n",
        "  count = int(recovery.loc[(recovery['Recovery Status'] == 'Active Cases') & (recovery['Date'] == date), column_name].values)\n",
        "  return count\n",
        "\n",
        "#function to return recovered cases for a given column and date\n",
        "def recovered_cases(date, column_name):\n",
        "  count = int(recovery.loc[(recovery['Recovery Status'] == 'Recovered Cases') & (recovery['Date'] == date), column_name].values)\n",
        "  return count"
      ],
      "execution_count": 16,
      "outputs": []
    },
    {
      "cell_type": "markdown",
      "metadata": {
        "id": "C59uS6MxhMqo"
      },
      "source": [
        "### Validating that Functions are Working"
      ]
    },
    {
      "cell_type": "code",
      "metadata": {
        "id": "hCQ88P2shKWk",
        "outputId": "2ee9ff2e-5e4c-4a02-86d4-e9e95ce668ac",
        "colab": {
          "base_uri": "https://localhost:8080/",
          "height": 111
        }
      },
      "source": [
        "recovery.head(2)"
      ],
      "execution_count": 17,
      "outputs": [
        {
          "output_type": "execute_result",
          "data": {
            "text/html": [
              "<div>\n",
              "<style scoped>\n",
              "    .dataframe tbody tr th:only-of-type {\n",
              "        vertical-align: middle;\n",
              "    }\n",
              "\n",
              "    .dataframe tbody tr th {\n",
              "        vertical-align: top;\n",
              "    }\n",
              "\n",
              "    .dataframe thead th {\n",
              "        text-align: right;\n",
              "    }\n",
              "</style>\n",
              "<table border=\"1\" class=\"dataframe\">\n",
              "  <thead>\n",
              "    <tr style=\"text-align: right;\">\n",
              "      <th></th>\n",
              "      <th>Recovery Status</th>\n",
              "      <th>Community</th>\n",
              "      <th>Lompoc Federal Prison</th>\n",
              "      <th>Total</th>\n",
              "      <th>Date</th>\n",
              "    </tr>\n",
              "  </thead>\n",
              "  <tbody>\n",
              "    <tr>\n",
              "      <th>0</th>\n",
              "      <td>Active Cases</td>\n",
              "      <td>118</td>\n",
              "      <td>0.0</td>\n",
              "      <td>118.0</td>\n",
              "      <td>October 20, 2020</td>\n",
              "    </tr>\n",
              "    <tr>\n",
              "      <th>1</th>\n",
              "      <td>Recovered Cases</td>\n",
              "      <td>8411</td>\n",
              "      <td>1023.0</td>\n",
              "      <td>9434.0</td>\n",
              "      <td>October 20, 2020</td>\n",
              "    </tr>\n",
              "  </tbody>\n",
              "</table>\n",
              "</div>"
            ],
            "text/plain": [
              "   Recovery Status  Community  Lompoc Federal Prison   Total              Date\n",
              "0     Active Cases        118                    0.0   118.0  October 20, 2020\n",
              "1  Recovered Cases       8411                 1023.0  9434.0  October 20, 2020"
            ]
          },
          "metadata": {
            "tags": []
          },
          "execution_count": 17
        }
      ]
    },
    {
      "cell_type": "code",
      "metadata": {
        "id": "WoFvfNubgfQU",
        "outputId": "c47744ba-083d-46d7-f7bc-fb9d9f9fd1fb",
        "colab": {
          "base_uri": "https://localhost:8080/",
          "height": 170
        }
      },
      "source": [
        "for col in recovery.columns[1:4]:\n",
        "  print(col, '\\n', active_cases('October 20, 2020', col), '\\n')"
      ],
      "execution_count": 18,
      "outputs": [
        {
          "output_type": "stream",
          "text": [
            "Community \n",
            " 118 \n",
            "\n",
            "Lompoc Federal Prison \n",
            " 0 \n",
            "\n",
            "Total \n",
            " 118 \n",
            "\n"
          ],
          "name": "stdout"
        }
      ]
    },
    {
      "cell_type": "code",
      "metadata": {
        "id": "bo5OBcaTh1nN",
        "outputId": "8de5e48d-ad8a-4510-8868-ff6133a202fd",
        "colab": {
          "base_uri": "https://localhost:8080/",
          "height": 170
        }
      },
      "source": [
        "for col in recovery.columns[1:4]:\n",
        "  print(col, '\\n', recovered_cases('October 20, 2020', col), '\\n')"
      ],
      "execution_count": 19,
      "outputs": [
        {
          "output_type": "stream",
          "text": [
            "Community \n",
            " 8411 \n",
            "\n",
            "Lompoc Federal Prison \n",
            " 1023 \n",
            "\n",
            "Total \n",
            " 9434 \n",
            "\n"
          ],
          "name": "stdout"
        }
      ]
    },
    {
      "cell_type": "markdown",
      "metadata": {
        "id": "oZKcOGlugi3H"
      },
      "source": [
        "# Visualizations"
      ]
    },
    {
      "cell_type": "code",
      "metadata": {
        "id": "TXuKDLZJLPTH",
        "outputId": "4717cc49-d8da-4a74-9189-574fd734ab31",
        "colab": {
          "base_uri": "https://localhost:8080/",
          "height": 136
        }
      },
      "source": [
        "#view available plotly templates for visualizations\n",
        "import plotly.io as pio\n",
        "pio.templates"
      ],
      "execution_count": 20,
      "outputs": [
        {
          "output_type": "execute_result",
          "data": {
            "text/plain": [
              "Templates configuration\n",
              "-----------------------\n",
              "    Default template: 'plotly'\n",
              "    Available templates:\n",
              "        ['ggplot2', 'seaborn', 'simple_white', 'plotly',\n",
              "         'plotly_white', 'plotly_dark', 'presentation', 'xgridoff',\n",
              "         'ygridoff', 'gridon', 'none']"
            ]
          },
          "metadata": {
            "tags": []
          },
          "execution_count": 20
        }
      ]
    },
    {
      "cell_type": "markdown",
      "metadata": {
        "id": "XC8RL43UJBLE"
      },
      "source": [
        "#Cases by Age"
      ]
    },
    {
      "cell_type": "code",
      "metadata": {
        "id": "-TYywhC1NT3T",
        "outputId": "09781ac5-77dc-49d6-ff29-66102c340f71",
        "colab": {
          "base_uri": "https://localhost:8080/",
          "height": 34
        }
      },
      "source": [
        "cases_by_age.shape"
      ],
      "execution_count": 21,
      "outputs": [
        {
          "output_type": "execute_result",
          "data": {
            "text/plain": [
              "(521, 6)"
            ]
          },
          "metadata": {
            "tags": []
          },
          "execution_count": 21
        }
      ]
    },
    {
      "cell_type": "code",
      "metadata": {
        "id": "jaVd6jRrHn4C",
        "outputId": "39720314-a0fb-44a5-88c6-fa23012049b3",
        "colab": {
          "base_uri": "https://localhost:8080/",
          "height": 204
        }
      },
      "source": [
        "cases_by_age.head()"
      ],
      "execution_count": 22,
      "outputs": [
        {
          "output_type": "execute_result",
          "data": {
            "text/html": [
              "<div>\n",
              "<style scoped>\n",
              "    .dataframe tbody tr th:only-of-type {\n",
              "        vertical-align: middle;\n",
              "    }\n",
              "\n",
              "    .dataframe tbody tr th {\n",
              "        vertical-align: top;\n",
              "    }\n",
              "\n",
              "    .dataframe thead th {\n",
              "        text-align: right;\n",
              "    }\n",
              "</style>\n",
              "<table border=\"1\" class=\"dataframe\">\n",
              "  <thead>\n",
              "    <tr style=\"text-align: right;\">\n",
              "      <th></th>\n",
              "      <th>Number of Cases by Age</th>\n",
              "      <th>Daily</th>\n",
              "      <th>Community</th>\n",
              "      <th>Federal Prisonin Lompoc</th>\n",
              "      <th>Total(Community &amp; Prison)</th>\n",
              "      <th>Date</th>\n",
              "    </tr>\n",
              "  </thead>\n",
              "  <tbody>\n",
              "    <tr>\n",
              "      <th>0</th>\n",
              "      <td>0 – 17</td>\n",
              "      <td>1</td>\n",
              "      <td>807.0</td>\n",
              "      <td>0.0</td>\n",
              "      <td>807.0</td>\n",
              "      <td>October 20, 2020</td>\n",
              "    </tr>\n",
              "    <tr>\n",
              "      <th>1</th>\n",
              "      <td>18 – 29</td>\n",
              "      <td>10</td>\n",
              "      <td>2731.0</td>\n",
              "      <td>138.0</td>\n",
              "      <td>2869.0</td>\n",
              "      <td>October 20, 2020</td>\n",
              "    </tr>\n",
              "    <tr>\n",
              "      <th>2</th>\n",
              "      <td>30 – 49</td>\n",
              "      <td>9</td>\n",
              "      <td>2977.0</td>\n",
              "      <td>544.0</td>\n",
              "      <td>3521.0</td>\n",
              "      <td>October 20, 2020</td>\n",
              "    </tr>\n",
              "    <tr>\n",
              "      <th>3</th>\n",
              "      <td>50 – 69</td>\n",
              "      <td>9</td>\n",
              "      <td>1609.0</td>\n",
              "      <td>311.0</td>\n",
              "      <td>1920.0</td>\n",
              "      <td>October 20, 2020</td>\n",
              "    </tr>\n",
              "    <tr>\n",
              "      <th>4</th>\n",
              "      <td>70+3</td>\n",
              "      <td>1</td>\n",
              "      <td>519.0</td>\n",
              "      <td>33.0</td>\n",
              "      <td>552.0</td>\n",
              "      <td>October 20, 2020</td>\n",
              "    </tr>\n",
              "  </tbody>\n",
              "</table>\n",
              "</div>"
            ],
            "text/plain": [
              "  Number of Cases by Age Daily   ...  Total(Community & Prison)              Date\n",
              "0                 0 – 17      1  ...                      807.0  October 20, 2020\n",
              "1                18 – 29     10  ...                     2869.0  October 20, 2020\n",
              "2                30 – 49      9  ...                     3521.0  October 20, 2020\n",
              "3                50 – 69      9  ...                     1920.0  October 20, 2020\n",
              "4                   70+3      1  ...                      552.0  October 20, 2020\n",
              "\n",
              "[5 rows x 6 columns]"
            ]
          },
          "metadata": {
            "tags": []
          },
          "execution_count": 22
        }
      ]
    },
    {
      "cell_type": "code",
      "metadata": {
        "id": "1cBI1HKfHsMR"
      },
      "source": [
        "#rename columns\n",
        "cases_by_age.rename(columns = {'Number of Cases by Age':'Age',\n",
        "                               'Federal Prisonin Lompoc':'Lompoc Federal Prison',\n",
        "                               'Total(Community & Prison)':'Total'}, inplace = True)"
      ],
      "execution_count": 23,
      "outputs": []
    },
    {
      "cell_type": "code",
      "metadata": {
        "id": "zd1-bZSaH9B8",
        "outputId": "0cfa3613-9d47-4dcf-e06b-0b0b51ebaf2b",
        "colab": {
          "base_uri": "https://localhost:8080/",
          "height": 204
        }
      },
      "source": [
        "cases_by_age.head()"
      ],
      "execution_count": 24,
      "outputs": [
        {
          "output_type": "execute_result",
          "data": {
            "text/html": [
              "<div>\n",
              "<style scoped>\n",
              "    .dataframe tbody tr th:only-of-type {\n",
              "        vertical-align: middle;\n",
              "    }\n",
              "\n",
              "    .dataframe tbody tr th {\n",
              "        vertical-align: top;\n",
              "    }\n",
              "\n",
              "    .dataframe thead th {\n",
              "        text-align: right;\n",
              "    }\n",
              "</style>\n",
              "<table border=\"1\" class=\"dataframe\">\n",
              "  <thead>\n",
              "    <tr style=\"text-align: right;\">\n",
              "      <th></th>\n",
              "      <th>Age</th>\n",
              "      <th>Daily</th>\n",
              "      <th>Community</th>\n",
              "      <th>Lompoc Federal Prison</th>\n",
              "      <th>Total</th>\n",
              "      <th>Date</th>\n",
              "    </tr>\n",
              "  </thead>\n",
              "  <tbody>\n",
              "    <tr>\n",
              "      <th>0</th>\n",
              "      <td>0 – 17</td>\n",
              "      <td>1</td>\n",
              "      <td>807.0</td>\n",
              "      <td>0.0</td>\n",
              "      <td>807.0</td>\n",
              "      <td>October 20, 2020</td>\n",
              "    </tr>\n",
              "    <tr>\n",
              "      <th>1</th>\n",
              "      <td>18 – 29</td>\n",
              "      <td>10</td>\n",
              "      <td>2731.0</td>\n",
              "      <td>138.0</td>\n",
              "      <td>2869.0</td>\n",
              "      <td>October 20, 2020</td>\n",
              "    </tr>\n",
              "    <tr>\n",
              "      <th>2</th>\n",
              "      <td>30 – 49</td>\n",
              "      <td>9</td>\n",
              "      <td>2977.0</td>\n",
              "      <td>544.0</td>\n",
              "      <td>3521.0</td>\n",
              "      <td>October 20, 2020</td>\n",
              "    </tr>\n",
              "    <tr>\n",
              "      <th>3</th>\n",
              "      <td>50 – 69</td>\n",
              "      <td>9</td>\n",
              "      <td>1609.0</td>\n",
              "      <td>311.0</td>\n",
              "      <td>1920.0</td>\n",
              "      <td>October 20, 2020</td>\n",
              "    </tr>\n",
              "    <tr>\n",
              "      <th>4</th>\n",
              "      <td>70+3</td>\n",
              "      <td>1</td>\n",
              "      <td>519.0</td>\n",
              "      <td>33.0</td>\n",
              "      <td>552.0</td>\n",
              "      <td>October 20, 2020</td>\n",
              "    </tr>\n",
              "  </tbody>\n",
              "</table>\n",
              "</div>"
            ],
            "text/plain": [
              "       Age Daily   Community  Lompoc Federal Prison   Total              Date\n",
              "0   0 – 17      1      807.0                    0.0   807.0  October 20, 2020\n",
              "1  18 – 29     10     2731.0                  138.0  2869.0  October 20, 2020\n",
              "2  30 – 49      9     2977.0                  544.0  3521.0  October 20, 2020\n",
              "3  50 – 69      9     1609.0                  311.0  1920.0  October 20, 2020\n",
              "4     70+3      1      519.0                   33.0   552.0  October 20, 2020"
            ]
          },
          "metadata": {
            "tags": []
          },
          "execution_count": 24
        }
      ]
    },
    {
      "cell_type": "code",
      "metadata": {
        "id": "63_oy8o5H-zO",
        "outputId": "92d6614b-e4f0-4c6c-a323-c4f08fad59b2",
        "colab": {
          "base_uri": "https://localhost:8080/",
          "height": 170
        }
      },
      "source": [
        "cases_by_age.Age.value_counts()"
      ],
      "execution_count": 25,
      "outputs": [
        {
          "output_type": "execute_result",
          "data": {
            "text/plain": [
              "Age Suppressed    75\n",
              "30 – 49           75\n",
              "0 – 17            75\n",
              "18 – 29           75\n",
              "50 – 69           75\n",
              "Pending           71\n",
              "70+               62\n",
              "70+3              13\n",
              "Name: Age, dtype: int64"
            ]
          },
          "metadata": {
            "tags": []
          },
          "execution_count": 25
        }
      ]
    },
    {
      "cell_type": "code",
      "metadata": {
        "id": "TE1371XDJF1g"
      },
      "source": [
        "#fix duplicate age groups\n",
        "cases_by_age['Age'].replace({'70+3':'70+'}, inplace = True)"
      ],
      "execution_count": 26,
      "outputs": []
    },
    {
      "cell_type": "code",
      "metadata": {
        "id": "529PIMMKLmxI"
      },
      "source": [
        "#creating new dataframe without age suppressed and pending age values for visualization\n",
        "age_viz = cases_by_age[~cases_by_age['Age'].isin(['Age Suppressed','Pending'])]"
      ],
      "execution_count": 27,
      "outputs": []
    },
    {
      "cell_type": "code",
      "metadata": {
        "id": "ItmCFLPjJ85S",
        "outputId": "e9e0a5df-3904-49d7-aca3-949e5f9f1d8c",
        "colab": {
          "base_uri": "https://localhost:8080/",
          "height": 136
        }
      },
      "source": [
        "age_viz.isna().sum()"
      ],
      "execution_count": 28,
      "outputs": [
        {
          "output_type": "execute_result",
          "data": {
            "text/plain": [
              "Age                      0\n",
              "Daily                    0\n",
              "Community                0\n",
              "Lompoc Federal Prison    0\n",
              "Total                    0\n",
              "Date                     0\n",
              "dtype: int64"
            ]
          },
          "metadata": {
            "tags": []
          },
          "execution_count": 28
        }
      ]
    },
    {
      "cell_type": "code",
      "metadata": {
        "id": "FB--6L4TPKdj"
      },
      "source": [
        "#transforming dataframe into wide format\n",
        "#cases_by_age_viz = cases_by_age[['Age','Community','Lompoc Federal Prison','Date']][~cases_by_age['Age'].isin(['Age Suppressed','Pending'])]\n",
        "#cases_by_age_viz = pd.melt(cases_by_age_viz, id_vars=['Age','Date'], var_name='Location', value_name='Count')\n",
        "#cases_by_age_viz.head()"
      ],
      "execution_count": 29,
      "outputs": []
    },
    {
      "cell_type": "markdown",
      "metadata": {
        "id": "AtrzmkcIKT3n"
      },
      "source": [
        "#### Creating Function for Data Transformations Required for Visualization"
      ]
    },
    {
      "cell_type": "code",
      "metadata": {
        "id": "23EKzERuJOAK"
      },
      "source": [
        "#def cases_by_age_transform(cases_by_age):\n",
        "#  #import dataframe\n",
        "#  cases_by_age = pd.read_csv('https://raw.githubusercontent.com/bryandaetz1/SB_County_COVID-19_Data/master/CSV_Files/cases_by_age_10-20-20.csv')\n",
        "\n",
        "  #rename columns\n",
        "#  cases_by_age.rename(columns = {'Number of Cases by Age':'Age',\n",
        "#                                 'Federal Prisonin Lompoc':'Lompoc Federal Prison',\n",
        "#                                 'Daily ':'Daily'}, inplace = True) \n",
        "\n",
        "  #fix duplicate age groups\n",
        "#  cases_by_age.Age.replace({'70+3':'70+'}, inplace = True)\n",
        "\n",
        "  #dropping null values\n",
        "#  cases_by_age.dropna(axis = 0, inplace = True)\n",
        "\n",
        "  #transforming dataframe into wide format\n",
        "#  cases_by_age_viz = cases_by_age[['Age','Community','Lompoc Federal Prison','Date']][~cases_by_age['Age'].isin(['Age Suppressed','Pending'])]\n",
        "#  cases_by_age_viz = pd.melt(cases_by_age_viz,id_vars=['Age','Date'],var_name='Location', value_name='Count')\n",
        "\n",
        "#  return cases_by_age_viz\n"
      ],
      "execution_count": 30,
      "outputs": []
    },
    {
      "cell_type": "code",
      "metadata": {
        "id": "SnFaQKr1U3p0",
        "outputId": "a7e624a4-ef1f-4836-ef67-801f4ba7066e",
        "colab": {
          "base_uri": "https://localhost:8080/",
          "height": 777
        }
      },
      "source": [
        "#viewing plotly express qualitative color scheme options\n",
        "fig = px.colors.qualitative.swatches()\n",
        "fig.show()"
      ],
      "execution_count": 31,
      "outputs": [
        {
          "output_type": "display_data",
          "data": {
            "text/html": [
              "<html>\n",
              "<head><meta charset=\"utf-8\" /></head>\n",
              "<body>\n",
              "    <div>            <script src=\"https://cdnjs.cloudflare.com/ajax/libs/mathjax/2.7.5/MathJax.js?config=TeX-AMS-MML_SVG\"></script><script type=\"text/javascript\">if (window.MathJax) {MathJax.Hub.Config({SVG: {font: \"STIX-Web\"}});}</script>                <script type=\"text/javascript\">window.PlotlyConfig = {MathJaxConfig: 'local'};</script>\n",
              "        <script src=\"https://cdn.plot.ly/plotly-latest.min.js\"></script>                <div id=\"01778328-0813-4199-8ce1-a5e5462e05ba\" class=\"plotly-graph-div\" style=\"height:760px; width:100%;\"></div>            <script type=\"text/javascript\">                                    window.PLOTLYENV=window.PLOTLYENV || {};                                    if (document.getElementById(\"01778328-0813-4199-8ce1-a5e5462e05ba\")) {                    Plotly.newPlot(                        \"01778328-0813-4199-8ce1-a5e5462e05ba\",                        [{\"customdata\": [0, 1, 2, 3, 4, 5, 6, 7, 8, 9, 10], \"hovertemplate\": \"%{y}[%{customdata}] = %{marker.color}<extra></extra>\", \"marker\": {\"color\": [\"rgb(229, 134, 6)\", \"rgb(93, 105, 177)\", \"rgb(82, 188, 163)\", \"rgb(153, 201, 69)\", \"rgb(204, 97, 176)\", \"rgb(36, 121, 108)\", \"rgb(218, 165, 27)\", \"rgb(47, 138, 196)\", \"rgb(118, 78, 159)\", \"rgb(237, 100, 90)\", \"rgb(165, 170, 153)\"]}, \"orientation\": \"h\", \"type\": \"bar\", \"x\": [1, 1, 1, 1, 1, 1, 1, 1, 1, 1, 1], \"y\": [\"Vivid\", \"Vivid\", \"Vivid\", \"Vivid\", \"Vivid\", \"Vivid\", \"Vivid\", \"Vivid\", \"Vivid\", \"Vivid\", \"Vivid\"]}, {\"customdata\": [0, 1, 2, 3, 4, 5, 6, 7, 8, 9, 10], \"hovertemplate\": \"%{y}[%{customdata}] = %{marker.color}<extra></extra>\", \"marker\": {\"color\": [\"rgb(136, 204, 238)\", \"rgb(204, 102, 119)\", \"rgb(221, 204, 119)\", \"rgb(17, 119, 51)\", \"rgb(51, 34, 136)\", \"rgb(170, 68, 153)\", \"rgb(68, 170, 153)\", \"rgb(153, 153, 51)\", \"rgb(136, 34, 85)\", \"rgb(102, 17, 0)\", \"rgb(136, 136, 136)\"]}, \"orientation\": \"h\", \"type\": \"bar\", \"x\": [1, 1, 1, 1, 1, 1, 1, 1, 1, 1, 1], \"y\": [\"Safe\", \"Safe\", \"Safe\", \"Safe\", \"Safe\", \"Safe\", \"Safe\", \"Safe\", \"Safe\", \"Safe\", \"Safe\"]}, {\"customdata\": [0, 1, 2, 3, 4, 5, 6, 7, 8, 9, 10], \"hovertemplate\": \"%{y}[%{customdata}] = %{marker.color}<extra></extra>\", \"marker\": {\"color\": [\"rgb(95, 70, 144)\", \"rgb(29, 105, 150)\", \"rgb(56, 166, 165)\", \"rgb(15, 133, 84)\", \"rgb(115, 175, 72)\", \"rgb(237, 173, 8)\", \"rgb(225, 124, 5)\", \"rgb(204, 80, 62)\", \"rgb(148, 52, 110)\", \"rgb(111, 64, 112)\", \"rgb(102, 102, 102)\"]}, \"orientation\": \"h\", \"type\": \"bar\", \"x\": [1, 1, 1, 1, 1, 1, 1, 1, 1, 1, 1], \"y\": [\"Prism\", \"Prism\", \"Prism\", \"Prism\", \"Prism\", \"Prism\", \"Prism\", \"Prism\", \"Prism\", \"Prism\", \"Prism\"]}, {\"customdata\": [0, 1, 2, 3, 4, 5, 6, 7, 8, 9, 10], \"hovertemplate\": \"%{y}[%{customdata}] = %{marker.color}<extra></extra>\", \"marker\": {\"color\": [\"rgb(102, 197, 204)\", \"rgb(246, 207, 113)\", \"rgb(248, 156, 116)\", \"rgb(220, 176, 242)\", \"rgb(135, 197, 95)\", \"rgb(158, 185, 243)\", \"rgb(254, 136, 177)\", \"rgb(201, 219, 116)\", \"rgb(139, 224, 164)\", \"rgb(180, 151, 231)\", \"rgb(179, 179, 179)\"]}, \"orientation\": \"h\", \"type\": \"bar\", \"x\": [1, 1, 1, 1, 1, 1, 1, 1, 1, 1, 1], \"y\": [\"Pastel\", \"Pastel\", \"Pastel\", \"Pastel\", \"Pastel\", \"Pastel\", \"Pastel\", \"Pastel\", \"Pastel\", \"Pastel\", \"Pastel\"]}, {\"customdata\": [0, 1, 2, 3, 4, 5, 6, 7, 8, 9, 10], \"hovertemplate\": \"%{y}[%{customdata}] = %{marker.color}<extra></extra>\", \"marker\": {\"color\": [\"rgb(127, 60, 141)\", \"rgb(17, 165, 121)\", \"rgb(57, 105, 172)\", \"rgb(242, 183, 1)\", \"rgb(231, 63, 116)\", \"rgb(128, 186, 90)\", \"rgb(230, 131, 16)\", \"rgb(0, 134, 149)\", \"rgb(207, 28, 144)\", \"rgb(249, 123, 114)\", \"rgb(165, 170, 153)\"]}, \"orientation\": \"h\", \"type\": \"bar\", \"x\": [1, 1, 1, 1, 1, 1, 1, 1, 1, 1, 1], \"y\": [\"Bold\", \"Bold\", \"Bold\", \"Bold\", \"Bold\", \"Bold\", \"Bold\", \"Bold\", \"Bold\", \"Bold\", \"Bold\"]}, {\"customdata\": [0, 1, 2, 3, 4, 5, 6, 7, 8, 9, 10], \"hovertemplate\": \"%{y}[%{customdata}] = %{marker.color}<extra></extra>\", \"marker\": {\"color\": [\"rgb(133, 92, 117)\", \"rgb(217, 175, 107)\", \"rgb(175, 100, 88)\", \"rgb(115, 111, 76)\", \"rgb(82, 106, 131)\", \"rgb(98, 83, 119)\", \"rgb(104, 133, 92)\", \"rgb(156, 156, 94)\", \"rgb(160, 97, 119)\", \"rgb(140, 120, 93)\", \"rgb(124, 124, 124)\"]}, \"orientation\": \"h\", \"type\": \"bar\", \"x\": [1, 1, 1, 1, 1, 1, 1, 1, 1, 1, 1], \"y\": [\"Antique\", \"Antique\", \"Antique\", \"Antique\", \"Antique\", \"Antique\", \"Antique\", \"Antique\", \"Antique\", \"Antique\", \"Antique\"]}, {\"customdata\": [0, 1, 2, 3, 4, 5, 6, 7, 8, 9, 10, 11], \"hovertemplate\": \"%{y}[%{customdata}] = %{marker.color}<extra></extra>\", \"marker\": {\"color\": [\"rgb(141,211,199)\", \"rgb(255,255,179)\", \"rgb(190,186,218)\", \"rgb(251,128,114)\", \"rgb(128,177,211)\", \"rgb(253,180,98)\", \"rgb(179,222,105)\", \"rgb(252,205,229)\", \"rgb(217,217,217)\", \"rgb(188,128,189)\", \"rgb(204,235,197)\", \"rgb(255,237,111)\"]}, \"orientation\": \"h\", \"type\": \"bar\", \"x\": [1, 1, 1, 1, 1, 1, 1, 1, 1, 1, 1, 1], \"y\": [\"Set3\", \"Set3\", \"Set3\", \"Set3\", \"Set3\", \"Set3\", \"Set3\", \"Set3\", \"Set3\", \"Set3\", \"Set3\", \"Set3\"]}, {\"customdata\": [0, 1, 2, 3, 4, 5, 6, 7], \"hovertemplate\": \"%{y}[%{customdata}] = %{marker.color}<extra></extra>\", \"marker\": {\"color\": [\"rgb(179,226,205)\", \"rgb(253,205,172)\", \"rgb(203,213,232)\", \"rgb(244,202,228)\", \"rgb(230,245,201)\", \"rgb(255,242,174)\", \"rgb(241,226,204)\", \"rgb(204,204,204)\"]}, \"orientation\": \"h\", \"type\": \"bar\", \"x\": [1, 1, 1, 1, 1, 1, 1, 1], \"y\": [\"Pastel2\", \"Pastel2\", \"Pastel2\", \"Pastel2\", \"Pastel2\", \"Pastel2\", \"Pastel2\", \"Pastel2\"]}, {\"customdata\": [0, 1, 2, 3, 4, 5, 6, 7], \"hovertemplate\": \"%{y}[%{customdata}] = %{marker.color}<extra></extra>\", \"marker\": {\"color\": [\"rgb(102,194,165)\", \"rgb(252,141,98)\", \"rgb(141,160,203)\", \"rgb(231,138,195)\", \"rgb(166,216,84)\", \"rgb(255,217,47)\", \"rgb(229,196,148)\", \"rgb(179,179,179)\"]}, \"orientation\": \"h\", \"type\": \"bar\", \"x\": [1, 1, 1, 1, 1, 1, 1, 1], \"y\": [\"Set2\", \"Set2\", \"Set2\", \"Set2\", \"Set2\", \"Set2\", \"Set2\", \"Set2\"]}, {\"customdata\": [0, 1, 2, 3, 4, 5, 6, 7], \"hovertemplate\": \"%{y}[%{customdata}] = %{marker.color}<extra></extra>\", \"marker\": {\"color\": [\"rgb(27,158,119)\", \"rgb(217,95,2)\", \"rgb(117,112,179)\", \"rgb(231,41,138)\", \"rgb(102,166,30)\", \"rgb(230,171,2)\", \"rgb(166,118,29)\", \"rgb(102,102,102)\"]}, \"orientation\": \"h\", \"type\": \"bar\", \"x\": [1, 1, 1, 1, 1, 1, 1, 1], \"y\": [\"Dark2\", \"Dark2\", \"Dark2\", \"Dark2\", \"Dark2\", \"Dark2\", \"Dark2\", \"Dark2\"]}, {\"customdata\": [0, 1, 2, 3, 4, 5, 6, 7, 8], \"hovertemplate\": \"%{y}[%{customdata}] = %{marker.color}<extra></extra>\", \"marker\": {\"color\": [\"rgb(251,180,174)\", \"rgb(179,205,227)\", \"rgb(204,235,197)\", \"rgb(222,203,228)\", \"rgb(254,217,166)\", \"rgb(255,255,204)\", \"rgb(229,216,189)\", \"rgb(253,218,236)\", \"rgb(242,242,242)\"]}, \"orientation\": \"h\", \"type\": \"bar\", \"x\": [1, 1, 1, 1, 1, 1, 1, 1, 1], \"y\": [\"Pastel1\", \"Pastel1\", \"Pastel1\", \"Pastel1\", \"Pastel1\", \"Pastel1\", \"Pastel1\", \"Pastel1\", \"Pastel1\"]}, {\"customdata\": [0, 1, 2, 3, 4, 5, 6, 7, 8], \"hovertemplate\": \"%{y}[%{customdata}] = %{marker.color}<extra></extra>\", \"marker\": {\"color\": [\"rgb(228,26,28)\", \"rgb(55,126,184)\", \"rgb(77,175,74)\", \"rgb(152,78,163)\", \"rgb(255,127,0)\", \"rgb(255,255,51)\", \"rgb(166,86,40)\", \"rgb(247,129,191)\", \"rgb(153,153,153)\"]}, \"orientation\": \"h\", \"type\": \"bar\", \"x\": [1, 1, 1, 1, 1, 1, 1, 1, 1], \"y\": [\"Set1\", \"Set1\", \"Set1\", \"Set1\", \"Set1\", \"Set1\", \"Set1\", \"Set1\", \"Set1\"]}, {\"customdata\": [0, 1, 2, 3, 4, 5, 6, 7, 8, 9, 10, 11, 12, 13, 14, 15, 16, 17, 18, 19, 20, 21, 22, 23], \"hovertemplate\": \"%{y}[%{customdata}] = %{marker.color}<extra></extra>\", \"marker\": {\"color\": [\"#FD3216\", \"#00FE35\", \"#6A76FC\", \"#FED4C4\", \"#FE00CE\", \"#0DF9FF\", \"#F6F926\", \"#FF9616\", \"#479B55\", \"#EEA6FB\", \"#DC587D\", \"#D626FF\", \"#6E899C\", \"#00B5F7\", \"#B68E00\", \"#C9FBE5\", \"#FF0092\", \"#22FFA7\", \"#E3EE9E\", \"#86CE00\", \"#BC7196\", \"#7E7DCD\", \"#FC6955\", \"#E48F72\"]}, \"orientation\": \"h\", \"type\": \"bar\", \"x\": [1, 1, 1, 1, 1, 1, 1, 1, 1, 1, 1, 1, 1, 1, 1, 1, 1, 1, 1, 1, 1, 1, 1, 1], \"y\": [\"Light24\", \"Light24\", \"Light24\", \"Light24\", \"Light24\", \"Light24\", \"Light24\", \"Light24\", \"Light24\", \"Light24\", \"Light24\", \"Light24\", \"Light24\", \"Light24\", \"Light24\", \"Light24\", \"Light24\", \"Light24\", \"Light24\", \"Light24\", \"Light24\", \"Light24\", \"Light24\", \"Light24\"]}, {\"customdata\": [0, 1, 2, 3, 4, 5, 6, 7, 8, 9, 10, 11, 12, 13, 14, 15, 16, 17, 18, 19, 20, 21, 22, 23], \"hovertemplate\": \"%{y}[%{customdata}] = %{marker.color}<extra></extra>\", \"marker\": {\"color\": [\"#2E91E5\", \"#E15F99\", \"#1CA71C\", \"#FB0D0D\", \"#DA16FF\", \"#222A2A\", \"#B68100\", \"#750D86\", \"#EB663B\", \"#511CFB\", \"#00A08B\", \"#FB00D1\", \"#FC0080\", \"#B2828D\", \"#6C7C32\", \"#778AAE\", \"#862A16\", \"#A777F1\", \"#620042\", \"#1616A7\", \"#DA60CA\", \"#6C4516\", \"#0D2A63\", \"#AF0038\"]}, \"orientation\": \"h\", \"type\": \"bar\", \"x\": [1, 1, 1, 1, 1, 1, 1, 1, 1, 1, 1, 1, 1, 1, 1, 1, 1, 1, 1, 1, 1, 1, 1, 1], \"y\": [\"Dark24\", \"Dark24\", \"Dark24\", \"Dark24\", \"Dark24\", \"Dark24\", \"Dark24\", \"Dark24\", \"Dark24\", \"Dark24\", \"Dark24\", \"Dark24\", \"Dark24\", \"Dark24\", \"Dark24\", \"Dark24\", \"Dark24\", \"Dark24\", \"Dark24\", \"Dark24\", \"Dark24\", \"Dark24\", \"Dark24\", \"Dark24\"]}, {\"customdata\": [0, 1, 2, 3, 4, 5, 6, 7, 8, 9, 10, 11, 12, 13, 14, 15, 16, 17, 18, 19, 20, 21, 22, 23, 24, 25], \"hovertemplate\": \"%{y}[%{customdata}] = %{marker.color}<extra></extra>\", \"marker\": {\"color\": [\"#AA0DFE\", \"#3283FE\", \"#85660D\", \"#782AB6\", \"#565656\", \"#1C8356\", \"#16FF32\", \"#F7E1A0\", \"#E2E2E2\", \"#1CBE4F\", \"#C4451C\", \"#DEA0FD\", \"#FE00FA\", \"#325A9B\", \"#FEAF16\", \"#F8A19F\", \"#90AD1C\", \"#F6222E\", \"#1CFFCE\", \"#2ED9FF\", \"#B10DA1\", \"#C075A6\", \"#FC1CBF\", \"#B00068\", \"#FBE426\", \"#FA0087\"]}, \"orientation\": \"h\", \"type\": \"bar\", \"x\": [1, 1, 1, 1, 1, 1, 1, 1, 1, 1, 1, 1, 1, 1, 1, 1, 1, 1, 1, 1, 1, 1, 1, 1, 1, 1], \"y\": [\"Alphabet\", \"Alphabet\", \"Alphabet\", \"Alphabet\", \"Alphabet\", \"Alphabet\", \"Alphabet\", \"Alphabet\", \"Alphabet\", \"Alphabet\", \"Alphabet\", \"Alphabet\", \"Alphabet\", \"Alphabet\", \"Alphabet\", \"Alphabet\", \"Alphabet\", \"Alphabet\", \"Alphabet\", \"Alphabet\", \"Alphabet\", \"Alphabet\", \"Alphabet\", \"Alphabet\", \"Alphabet\", \"Alphabet\"]}, {\"customdata\": [0, 1, 2, 3, 4, 5, 6, 7, 8, 9], \"hovertemplate\": \"%{y}[%{customdata}] = %{marker.color}<extra></extra>\", \"marker\": {\"color\": [\"#4C78A8\", \"#F58518\", \"#E45756\", \"#72B7B2\", \"#54A24B\", \"#EECA3B\", \"#B279A2\", \"#FF9DA6\", \"#9D755D\", \"#BAB0AC\"]}, \"orientation\": \"h\", \"type\": \"bar\", \"x\": [1, 1, 1, 1, 1, 1, 1, 1, 1, 1], \"y\": [\"T10\", \"T10\", \"T10\", \"T10\", \"T10\", \"T10\", \"T10\", \"T10\", \"T10\", \"T10\"]}, {\"customdata\": [0, 1, 2, 3, 4, 5, 6, 7, 8, 9], \"hovertemplate\": \"%{y}[%{customdata}] = %{marker.color}<extra></extra>\", \"marker\": {\"color\": [\"#3366CC\", \"#DC3912\", \"#FF9900\", \"#109618\", \"#990099\", \"#0099C6\", \"#DD4477\", \"#66AA00\", \"#B82E2E\", \"#316395\"]}, \"orientation\": \"h\", \"type\": \"bar\", \"x\": [1, 1, 1, 1, 1, 1, 1, 1, 1, 1], \"y\": [\"G10\", \"G10\", \"G10\", \"G10\", \"G10\", \"G10\", \"G10\", \"G10\", \"G10\", \"G10\"]}, {\"customdata\": [0, 1, 2, 3, 4, 5, 6, 7, 8, 9], \"hovertemplate\": \"%{y}[%{customdata}] = %{marker.color}<extra></extra>\", \"marker\": {\"color\": [\"#1F77B4\", \"#FF7F0E\", \"#2CA02C\", \"#D62728\", \"#9467BD\", \"#8C564B\", \"#E377C2\", \"#7F7F7F\", \"#BCBD22\", \"#17BECF\"]}, \"orientation\": \"h\", \"type\": \"bar\", \"x\": [1, 1, 1, 1, 1, 1, 1, 1, 1, 1], \"y\": [\"D3\", \"D3\", \"D3\", \"D3\", \"D3\", \"D3\", \"D3\", \"D3\", \"D3\", \"D3\"]}, {\"customdata\": [0, 1, 2, 3, 4, 5, 6, 7, 8, 9], \"hovertemplate\": \"%{y}[%{customdata}] = %{marker.color}<extra></extra>\", \"marker\": {\"color\": [\"#636EFA\", \"#EF553B\", \"#00CC96\", \"#AB63FA\", \"#FFA15A\", \"#19D3F3\", \"#FF6692\", \"#B6E880\", \"#FF97FF\", \"#FECB52\"]}, \"orientation\": \"h\", \"type\": \"bar\", \"x\": [1, 1, 1, 1, 1, 1, 1, 1, 1, 1], \"y\": [\"Plotly\", \"Plotly\", \"Plotly\", \"Plotly\", \"Plotly\", \"Plotly\", \"Plotly\", \"Plotly\", \"Plotly\", \"Plotly\"]}],                        {\"bargap\": 0.5, \"barmode\": \"stack\", \"barnorm\": \"fraction\", \"height\": 760, \"margin\": {\"b\": 10}, \"showlegend\": false, \"template\": {\"data\": {\"bar\": [{\"error_x\": {\"color\": \"#2a3f5f\"}, \"error_y\": {\"color\": \"#2a3f5f\"}, \"marker\": {\"line\": {\"color\": \"#E5ECF6\", \"width\": 0.5}}, \"type\": \"bar\"}], \"barpolar\": [{\"marker\": {\"line\": {\"color\": \"#E5ECF6\", \"width\": 0.5}}, \"type\": \"barpolar\"}], \"carpet\": [{\"aaxis\": {\"endlinecolor\": \"#2a3f5f\", \"gridcolor\": \"white\", \"linecolor\": \"white\", \"minorgridcolor\": \"white\", \"startlinecolor\": \"#2a3f5f\"}, \"baxis\": {\"endlinecolor\": \"#2a3f5f\", \"gridcolor\": \"white\", \"linecolor\": \"white\", \"minorgridcolor\": \"white\", \"startlinecolor\": \"#2a3f5f\"}, \"type\": \"carpet\"}], \"choropleth\": [{\"colorbar\": {\"outlinewidth\": 0, \"ticks\": \"\"}, \"type\": \"choropleth\"}], \"contour\": [{\"colorbar\": {\"outlinewidth\": 0, \"ticks\": \"\"}, \"colorscale\": [[0.0, \"#0d0887\"], [0.1111111111111111, \"#46039f\"], [0.2222222222222222, \"#7201a8\"], [0.3333333333333333, \"#9c179e\"], [0.4444444444444444, \"#bd3786\"], [0.5555555555555556, \"#d8576b\"], [0.6666666666666666, \"#ed7953\"], [0.7777777777777778, \"#fb9f3a\"], [0.8888888888888888, \"#fdca26\"], [1.0, \"#f0f921\"]], \"type\": \"contour\"}], \"contourcarpet\": [{\"colorbar\": {\"outlinewidth\": 0, \"ticks\": \"\"}, \"type\": \"contourcarpet\"}], \"heatmap\": [{\"colorbar\": {\"outlinewidth\": 0, \"ticks\": \"\"}, \"colorscale\": [[0.0, \"#0d0887\"], [0.1111111111111111, \"#46039f\"], [0.2222222222222222, \"#7201a8\"], [0.3333333333333333, \"#9c179e\"], [0.4444444444444444, \"#bd3786\"], [0.5555555555555556, \"#d8576b\"], [0.6666666666666666, \"#ed7953\"], [0.7777777777777778, \"#fb9f3a\"], [0.8888888888888888, \"#fdca26\"], [1.0, \"#f0f921\"]], \"type\": \"heatmap\"}], \"heatmapgl\": [{\"colorbar\": {\"outlinewidth\": 0, \"ticks\": \"\"}, \"colorscale\": [[0.0, \"#0d0887\"], [0.1111111111111111, \"#46039f\"], [0.2222222222222222, \"#7201a8\"], [0.3333333333333333, \"#9c179e\"], [0.4444444444444444, \"#bd3786\"], [0.5555555555555556, \"#d8576b\"], [0.6666666666666666, \"#ed7953\"], [0.7777777777777778, \"#fb9f3a\"], [0.8888888888888888, \"#fdca26\"], [1.0, \"#f0f921\"]], \"type\": \"heatmapgl\"}], \"histogram\": [{\"marker\": {\"colorbar\": {\"outlinewidth\": 0, \"ticks\": \"\"}}, \"type\": \"histogram\"}], \"histogram2d\": [{\"colorbar\": {\"outlinewidth\": 0, \"ticks\": \"\"}, \"colorscale\": [[0.0, \"#0d0887\"], [0.1111111111111111, \"#46039f\"], [0.2222222222222222, \"#7201a8\"], [0.3333333333333333, \"#9c179e\"], [0.4444444444444444, \"#bd3786\"], [0.5555555555555556, \"#d8576b\"], [0.6666666666666666, \"#ed7953\"], [0.7777777777777778, \"#fb9f3a\"], [0.8888888888888888, \"#fdca26\"], [1.0, \"#f0f921\"]], \"type\": \"histogram2d\"}], \"histogram2dcontour\": [{\"colorbar\": {\"outlinewidth\": 0, \"ticks\": \"\"}, \"colorscale\": [[0.0, \"#0d0887\"], [0.1111111111111111, \"#46039f\"], [0.2222222222222222, \"#7201a8\"], [0.3333333333333333, \"#9c179e\"], [0.4444444444444444, \"#bd3786\"], [0.5555555555555556, \"#d8576b\"], [0.6666666666666666, \"#ed7953\"], [0.7777777777777778, \"#fb9f3a\"], [0.8888888888888888, \"#fdca26\"], [1.0, \"#f0f921\"]], \"type\": \"histogram2dcontour\"}], \"mesh3d\": [{\"colorbar\": {\"outlinewidth\": 0, \"ticks\": \"\"}, \"type\": \"mesh3d\"}], \"parcoords\": [{\"line\": {\"colorbar\": {\"outlinewidth\": 0, \"ticks\": \"\"}}, \"type\": \"parcoords\"}], \"pie\": [{\"automargin\": true, \"type\": \"pie\"}], \"scatter\": [{\"marker\": {\"colorbar\": {\"outlinewidth\": 0, \"ticks\": \"\"}}, \"type\": \"scatter\"}], \"scatter3d\": [{\"line\": {\"colorbar\": {\"outlinewidth\": 0, \"ticks\": \"\"}}, \"marker\": {\"colorbar\": {\"outlinewidth\": 0, \"ticks\": \"\"}}, \"type\": \"scatter3d\"}], \"scattercarpet\": [{\"marker\": {\"colorbar\": {\"outlinewidth\": 0, \"ticks\": \"\"}}, \"type\": \"scattercarpet\"}], \"scattergeo\": [{\"marker\": {\"colorbar\": {\"outlinewidth\": 0, \"ticks\": \"\"}}, \"type\": \"scattergeo\"}], \"scattergl\": [{\"marker\": {\"colorbar\": {\"outlinewidth\": 0, \"ticks\": \"\"}}, \"type\": \"scattergl\"}], \"scattermapbox\": [{\"marker\": {\"colorbar\": {\"outlinewidth\": 0, \"ticks\": \"\"}}, \"type\": \"scattermapbox\"}], \"scatterpolar\": [{\"marker\": {\"colorbar\": {\"outlinewidth\": 0, \"ticks\": \"\"}}, \"type\": \"scatterpolar\"}], \"scatterpolargl\": [{\"marker\": {\"colorbar\": {\"outlinewidth\": 0, \"ticks\": \"\"}}, \"type\": \"scatterpolargl\"}], \"scatterternary\": [{\"marker\": {\"colorbar\": {\"outlinewidth\": 0, \"ticks\": \"\"}}, \"type\": \"scatterternary\"}], \"surface\": [{\"colorbar\": {\"outlinewidth\": 0, \"ticks\": \"\"}, \"colorscale\": [[0.0, \"#0d0887\"], [0.1111111111111111, \"#46039f\"], [0.2222222222222222, \"#7201a8\"], [0.3333333333333333, \"#9c179e\"], [0.4444444444444444, \"#bd3786\"], [0.5555555555555556, \"#d8576b\"], [0.6666666666666666, \"#ed7953\"], [0.7777777777777778, \"#fb9f3a\"], [0.8888888888888888, \"#fdca26\"], [1.0, \"#f0f921\"]], \"type\": \"surface\"}], \"table\": [{\"cells\": {\"fill\": {\"color\": \"#EBF0F8\"}, \"line\": {\"color\": \"white\"}}, \"header\": {\"fill\": {\"color\": \"#C8D4E3\"}, \"line\": {\"color\": \"white\"}}, \"type\": \"table\"}]}, \"layout\": {\"annotationdefaults\": {\"arrowcolor\": \"#2a3f5f\", \"arrowhead\": 0, \"arrowwidth\": 1}, \"coloraxis\": {\"colorbar\": {\"outlinewidth\": 0, \"ticks\": \"\"}}, \"colorscale\": {\"diverging\": [[0, \"#8e0152\"], [0.1, \"#c51b7d\"], [0.2, \"#de77ae\"], [0.3, \"#f1b6da\"], [0.4, \"#fde0ef\"], [0.5, \"#f7f7f7\"], [0.6, \"#e6f5d0\"], [0.7, \"#b8e186\"], [0.8, \"#7fbc41\"], [0.9, \"#4d9221\"], [1, \"#276419\"]], \"sequential\": [[0.0, \"#0d0887\"], [0.1111111111111111, \"#46039f\"], [0.2222222222222222, \"#7201a8\"], [0.3333333333333333, \"#9c179e\"], [0.4444444444444444, \"#bd3786\"], [0.5555555555555556, \"#d8576b\"], [0.6666666666666666, \"#ed7953\"], [0.7777777777777778, \"#fb9f3a\"], [0.8888888888888888, \"#fdca26\"], [1.0, \"#f0f921\"]], \"sequentialminus\": [[0.0, \"#0d0887\"], [0.1111111111111111, \"#46039f\"], [0.2222222222222222, \"#7201a8\"], [0.3333333333333333, \"#9c179e\"], [0.4444444444444444, \"#bd3786\"], [0.5555555555555556, \"#d8576b\"], [0.6666666666666666, \"#ed7953\"], [0.7777777777777778, \"#fb9f3a\"], [0.8888888888888888, \"#fdca26\"], [1.0, \"#f0f921\"]]}, \"colorway\": [\"#636efa\", \"#EF553B\", \"#00cc96\", \"#ab63fa\", \"#FFA15A\", \"#19d3f3\", \"#FF6692\", \"#B6E880\", \"#FF97FF\", \"#FECB52\"], \"font\": {\"color\": \"#2a3f5f\"}, \"geo\": {\"bgcolor\": \"white\", \"lakecolor\": \"white\", \"landcolor\": \"#E5ECF6\", \"showlakes\": true, \"showland\": true, \"subunitcolor\": \"white\"}, \"hoverlabel\": {\"align\": \"left\"}, \"hovermode\": \"closest\", \"mapbox\": {\"style\": \"light\"}, \"paper_bgcolor\": \"white\", \"plot_bgcolor\": \"#E5ECF6\", \"polar\": {\"angularaxis\": {\"gridcolor\": \"white\", \"linecolor\": \"white\", \"ticks\": \"\"}, \"bgcolor\": \"#E5ECF6\", \"radialaxis\": {\"gridcolor\": \"white\", \"linecolor\": \"white\", \"ticks\": \"\"}}, \"scene\": {\"xaxis\": {\"backgroundcolor\": \"#E5ECF6\", \"gridcolor\": \"white\", \"gridwidth\": 2, \"linecolor\": \"white\", \"showbackground\": true, \"ticks\": \"\", \"zerolinecolor\": \"white\"}, \"yaxis\": {\"backgroundcolor\": \"#E5ECF6\", \"gridcolor\": \"white\", \"gridwidth\": 2, \"linecolor\": \"white\", \"showbackground\": true, \"ticks\": \"\", \"zerolinecolor\": \"white\"}, \"zaxis\": {\"backgroundcolor\": \"#E5ECF6\", \"gridcolor\": \"white\", \"gridwidth\": 2, \"linecolor\": \"white\", \"showbackground\": true, \"ticks\": \"\", \"zerolinecolor\": \"white\"}}, \"shapedefaults\": {\"line\": {\"color\": \"#2a3f5f\"}}, \"ternary\": {\"aaxis\": {\"gridcolor\": \"white\", \"linecolor\": \"white\", \"ticks\": \"\"}, \"baxis\": {\"gridcolor\": \"white\", \"linecolor\": \"white\", \"ticks\": \"\"}, \"bgcolor\": \"#E5ECF6\", \"caxis\": {\"gridcolor\": \"white\", \"linecolor\": \"white\", \"ticks\": \"\"}}, \"title\": {\"x\": 0.05}, \"xaxis\": {\"automargin\": true, \"gridcolor\": \"white\", \"linecolor\": \"white\", \"ticks\": \"\", \"title\": {\"standoff\": 15}, \"zerolinecolor\": \"white\", \"zerolinewidth\": 2}, \"yaxis\": {\"automargin\": true, \"gridcolor\": \"white\", \"linecolor\": \"white\", \"ticks\": \"\", \"title\": {\"standoff\": 15}, \"zerolinecolor\": \"white\", \"zerolinewidth\": 2}}}, \"title\": {\"text\": \"plotly.colors.qualitative\"}, \"xaxis\": {\"range\": [-0.02, 1.02], \"showgrid\": false, \"showticklabels\": false}},                        {\"responsive\": true}                    ).then(function(){\n",
              "                            \n",
              "var gd = document.getElementById('01778328-0813-4199-8ce1-a5e5462e05ba');\n",
              "var x = new MutationObserver(function (mutations, observer) {{\n",
              "        var display = window.getComputedStyle(gd).display;\n",
              "        if (!display || display === 'none') {{\n",
              "            console.log([gd, 'removed!']);\n",
              "            Plotly.purge(gd);\n",
              "            observer.disconnect();\n",
              "        }}\n",
              "}});\n",
              "\n",
              "// Listen for the removal of the full notebook cells\n",
              "var notebookContainer = gd.closest('#notebook-container');\n",
              "if (notebookContainer) {{\n",
              "    x.observe(notebookContainer, {childList: true});\n",
              "}}\n",
              "\n",
              "// Listen for the clearing of the current output cell\n",
              "var outputEl = gd.closest('.output');\n",
              "if (outputEl) {{\n",
              "    x.observe(outputEl, {childList: true});\n",
              "}}\n",
              "\n",
              "                        })                };                            </script>        </div>\n",
              "</body>\n",
              "</html>"
            ]
          },
          "metadata": {
            "tags": []
          }
        }
      ]
    },
    {
      "cell_type": "code",
      "metadata": {
        "id": "Cs2HVBdwJRL4"
      },
      "source": [
        "#def create_barplot(date):\n",
        "#  fig = px.bar(cases_by_age_viz[cases_by_age_viz['Date'] == date], \n",
        "#               x = 'Count', \n",
        "#               y = 'Age',\n",
        "#               orientation = 'h', \n",
        "#               color = 'Location', \n",
        "#               template = 'plotly_dark',\n",
        "#               color_discrete_sequence = px.colors.qualitative.D3,\n",
        "#               title = 'Total Covid Cases by Age Group as of ' + date)\n",
        "  \n",
        "#  fig.update_layout(\n",
        "#      hovermode = 'closest',\n",
        "#      title_font_family = 'Courier',\n",
        "#      title_font_color = 'white',\n",
        "#      title_font_size = 24,\n",
        "#      legend = dict(\n",
        "#          orientation = 'h',\n",
        "#          yanchor = 'bottom',\n",
        "#          y = 1.02,\n",
        "#          xanchor = 'left',\n",
        "#          x = 0,\n",
        "#          font = dict(\n",
        "#              family = 'Courier',\n",
        "#              size = 12,\n",
        "#              color = 'white'\n",
        "#          )\n",
        "#      )\n",
        "#  )\n",
        "\n",
        "#  fig.show()"
      ],
      "execution_count": 32,
      "outputs": []
    },
    {
      "cell_type": "code",
      "metadata": {
        "id": "jjSCHrz7MsIa",
        "outputId": "1f8d75dc-64fc-41d6-8e57-47e74b4df9d8",
        "colab": {
          "base_uri": "https://localhost:8080/",
          "height": 204
        }
      },
      "source": [
        "age_viz.head()"
      ],
      "execution_count": 33,
      "outputs": [
        {
          "output_type": "execute_result",
          "data": {
            "text/html": [
              "<div>\n",
              "<style scoped>\n",
              "    .dataframe tbody tr th:only-of-type {\n",
              "        vertical-align: middle;\n",
              "    }\n",
              "\n",
              "    .dataframe tbody tr th {\n",
              "        vertical-align: top;\n",
              "    }\n",
              "\n",
              "    .dataframe thead th {\n",
              "        text-align: right;\n",
              "    }\n",
              "</style>\n",
              "<table border=\"1\" class=\"dataframe\">\n",
              "  <thead>\n",
              "    <tr style=\"text-align: right;\">\n",
              "      <th></th>\n",
              "      <th>Age</th>\n",
              "      <th>Daily</th>\n",
              "      <th>Community</th>\n",
              "      <th>Lompoc Federal Prison</th>\n",
              "      <th>Total</th>\n",
              "      <th>Date</th>\n",
              "    </tr>\n",
              "  </thead>\n",
              "  <tbody>\n",
              "    <tr>\n",
              "      <th>0</th>\n",
              "      <td>0 – 17</td>\n",
              "      <td>1</td>\n",
              "      <td>807.0</td>\n",
              "      <td>0.0</td>\n",
              "      <td>807.0</td>\n",
              "      <td>October 20, 2020</td>\n",
              "    </tr>\n",
              "    <tr>\n",
              "      <th>1</th>\n",
              "      <td>18 – 29</td>\n",
              "      <td>10</td>\n",
              "      <td>2731.0</td>\n",
              "      <td>138.0</td>\n",
              "      <td>2869.0</td>\n",
              "      <td>October 20, 2020</td>\n",
              "    </tr>\n",
              "    <tr>\n",
              "      <th>2</th>\n",
              "      <td>30 – 49</td>\n",
              "      <td>9</td>\n",
              "      <td>2977.0</td>\n",
              "      <td>544.0</td>\n",
              "      <td>3521.0</td>\n",
              "      <td>October 20, 2020</td>\n",
              "    </tr>\n",
              "    <tr>\n",
              "      <th>3</th>\n",
              "      <td>50 – 69</td>\n",
              "      <td>9</td>\n",
              "      <td>1609.0</td>\n",
              "      <td>311.0</td>\n",
              "      <td>1920.0</td>\n",
              "      <td>October 20, 2020</td>\n",
              "    </tr>\n",
              "    <tr>\n",
              "      <th>4</th>\n",
              "      <td>70+</td>\n",
              "      <td>1</td>\n",
              "      <td>519.0</td>\n",
              "      <td>33.0</td>\n",
              "      <td>552.0</td>\n",
              "      <td>October 20, 2020</td>\n",
              "    </tr>\n",
              "  </tbody>\n",
              "</table>\n",
              "</div>"
            ],
            "text/plain": [
              "       Age Daily   Community  Lompoc Federal Prison   Total              Date\n",
              "0   0 – 17      1      807.0                    0.0   807.0  October 20, 2020\n",
              "1  18 – 29     10     2731.0                  138.0  2869.0  October 20, 2020\n",
              "2  30 – 49      9     2977.0                  544.0  3521.0  October 20, 2020\n",
              "3  50 – 69      9     1609.0                  311.0  1920.0  October 20, 2020\n",
              "4      70+      1      519.0                   33.0   552.0  October 20, 2020"
            ]
          },
          "metadata": {
            "tags": []
          },
          "execution_count": 33
        }
      ]
    },
    {
      "cell_type": "code",
      "metadata": {
        "id": "hUaP7_8JHtk1",
        "outputId": "06feb9a0-aabd-4894-edec-993772264177",
        "colab": {
          "base_uri": "https://localhost:8080/",
          "height": 85
        }
      },
      "source": [
        "age_viz.Date.unique()[:10]"
      ],
      "execution_count": 177,
      "outputs": [
        {
          "output_type": "execute_result",
          "data": {
            "text/plain": [
              "array(['October 20, 2020', 'October 19, 2020', 'October 16, 2020',\n",
              "       'October 15, 2020', 'October 14, 2020', 'October 13, 2020',\n",
              "       'October 12, 2020', 'October 9, 2020', 'October 8, 2020',\n",
              "       'October 7, 2020'], dtype=object)"
            ]
          },
          "metadata": {
            "tags": []
          },
          "execution_count": 177
        }
      ]
    },
    {
      "cell_type": "code",
      "metadata": {
        "id": "1tZADurQIX4R",
        "outputId": "ce318d2d-b114-459e-d1a4-0bec468e26b0",
        "colab": {
          "base_uri": "https://localhost:8080/",
          "height": 34
        }
      },
      "source": [
        "age_viz.columns[2:5].to_list()"
      ],
      "execution_count": 180,
      "outputs": [
        {
          "output_type": "execute_result",
          "data": {
            "text/plain": [
              "['Community', 'Lompoc Federal Prison', 'Total']"
            ]
          },
          "metadata": {
            "tags": []
          },
          "execution_count": 180
        }
      ]
    },
    {
      "cell_type": "code",
      "metadata": {
        "id": "las61EP6MjuO"
      },
      "source": [
        "def create_age_barplot(date, column_name):\n",
        "  fig = px.bar(age_viz[age_viz['Date'] == date],\n",
        "               x = 'Age',\n",
        "               y = column_name,\n",
        "               color = 'Age',\n",
        "               color_discrete_sequence = px.colors.qualitative.D3,\n",
        "               template = 'plotly_dark',\n",
        "               title = column_name + ' Cases by Age as of ' + date)\n",
        "  \n",
        "  fig.update_layout(\n",
        "      hovermode = 'closest',\n",
        "      font_family = 'Courier',\n",
        "      font_color = 'white',\n",
        "      title_font_size = 24,\n",
        "      yaxis = dict(title = None),\n",
        "      xaxis = dict(title = 'Age Group'),\n",
        "      showlegend = False\n",
        "      #legend = dict(\n",
        "      #    orientation = 'h',\n",
        "      #    yanchor = 'bottom',\n",
        "      #    y = 1.02,\n",
        "      #    xanchor = 'left',\n",
        "      #    x=0\n",
        "      #)\n",
        "  )\n",
        "\n",
        "  fig.show()"
      ],
      "execution_count": 158,
      "outputs": []
    },
    {
      "cell_type": "code",
      "metadata": {
        "id": "XNvGsvDCMLMg",
        "outputId": "c2e58599-b4a7-4878-ed84-97437053653a",
        "colab": {
          "base_uri": "https://localhost:8080/",
          "height": 542
        }
      },
      "source": [
        "create_age_barplot('October 20, 2020','Community')"
      ],
      "execution_count": 159,
      "outputs": [
        {
          "output_type": "display_data",
          "data": {
            "text/html": [
              "<html>\n",
              "<head><meta charset=\"utf-8\" /></head>\n",
              "<body>\n",
              "    <div>            <script src=\"https://cdnjs.cloudflare.com/ajax/libs/mathjax/2.7.5/MathJax.js?config=TeX-AMS-MML_SVG\"></script><script type=\"text/javascript\">if (window.MathJax) {MathJax.Hub.Config({SVG: {font: \"STIX-Web\"}});}</script>                <script type=\"text/javascript\">window.PlotlyConfig = {MathJaxConfig: 'local'};</script>\n",
              "        <script src=\"https://cdn.plot.ly/plotly-latest.min.js\"></script>                <div id=\"7dc13545-9a22-4d28-bf8b-ebdd1fe14a6a\" class=\"plotly-graph-div\" style=\"height:525px; width:100%;\"></div>            <script type=\"text/javascript\">                                    window.PLOTLYENV=window.PLOTLYENV || {};                                    if (document.getElementById(\"7dc13545-9a22-4d28-bf8b-ebdd1fe14a6a\")) {                    Plotly.newPlot(                        \"7dc13545-9a22-4d28-bf8b-ebdd1fe14a6a\",                        [{\"alignmentgroup\": \"True\", \"hovertemplate\": \"Age=%{x}<br>Community=%{y}<extra></extra>\", \"legendgroup\": \"0 \\u2013 17\", \"marker\": {\"color\": \"#1F77B4\"}, \"name\": \"0 \\u2013 17\", \"offsetgroup\": \"0 \\u2013 17\", \"orientation\": \"v\", \"showlegend\": true, \"textposition\": \"auto\", \"type\": \"bar\", \"x\": [\"0 \\u2013 17\"], \"xaxis\": \"x\", \"y\": [807.0], \"yaxis\": \"y\"}, {\"alignmentgroup\": \"True\", \"hovertemplate\": \"Age=%{x}<br>Community=%{y}<extra></extra>\", \"legendgroup\": \"18 \\u2013 29\", \"marker\": {\"color\": \"#FF7F0E\"}, \"name\": \"18 \\u2013 29\", \"offsetgroup\": \"18 \\u2013 29\", \"orientation\": \"v\", \"showlegend\": true, \"textposition\": \"auto\", \"type\": \"bar\", \"x\": [\"18 \\u2013 29\"], \"xaxis\": \"x\", \"y\": [2731.0], \"yaxis\": \"y\"}, {\"alignmentgroup\": \"True\", \"hovertemplate\": \"Age=%{x}<br>Community=%{y}<extra></extra>\", \"legendgroup\": \"30 \\u2013 49\", \"marker\": {\"color\": \"#2CA02C\"}, \"name\": \"30 \\u2013 49\", \"offsetgroup\": \"30 \\u2013 49\", \"orientation\": \"v\", \"showlegend\": true, \"textposition\": \"auto\", \"type\": \"bar\", \"x\": [\"30 \\u2013 49\"], \"xaxis\": \"x\", \"y\": [2977.0], \"yaxis\": \"y\"}, {\"alignmentgroup\": \"True\", \"hovertemplate\": \"Age=%{x}<br>Community=%{y}<extra></extra>\", \"legendgroup\": \"50 \\u2013 69\", \"marker\": {\"color\": \"#D62728\"}, \"name\": \"50 \\u2013 69\", \"offsetgroup\": \"50 \\u2013 69\", \"orientation\": \"v\", \"showlegend\": true, \"textposition\": \"auto\", \"type\": \"bar\", \"x\": [\"50 \\u2013 69\"], \"xaxis\": \"x\", \"y\": [1609.0], \"yaxis\": \"y\"}, {\"alignmentgroup\": \"True\", \"hovertemplate\": \"Age=%{x}<br>Community=%{y}<extra></extra>\", \"legendgroup\": \"70+\", \"marker\": {\"color\": \"#9467BD\"}, \"name\": \"70+\", \"offsetgroup\": \"70+\", \"orientation\": \"v\", \"showlegend\": true, \"textposition\": \"auto\", \"type\": \"bar\", \"x\": [\"70+\"], \"xaxis\": \"x\", \"y\": [519.0], \"yaxis\": \"y\"}],                        {\"barmode\": \"relative\", \"font\": {\"color\": \"white\", \"family\": \"Courier\"}, \"hovermode\": \"closest\", \"legend\": {\"title\": {\"text\": \"Age\"}, \"tracegroupgap\": 0}, \"showlegend\": false, \"template\": {\"data\": {\"bar\": [{\"error_x\": {\"color\": \"#f2f5fa\"}, \"error_y\": {\"color\": \"#f2f5fa\"}, \"marker\": {\"line\": {\"color\": \"rgb(17,17,17)\", \"width\": 0.5}}, \"type\": \"bar\"}], \"barpolar\": [{\"marker\": {\"line\": {\"color\": \"rgb(17,17,17)\", \"width\": 0.5}}, \"type\": \"barpolar\"}], \"carpet\": [{\"aaxis\": {\"endlinecolor\": \"#A2B1C6\", \"gridcolor\": \"#506784\", \"linecolor\": \"#506784\", \"minorgridcolor\": \"#506784\", \"startlinecolor\": \"#A2B1C6\"}, \"baxis\": {\"endlinecolor\": \"#A2B1C6\", \"gridcolor\": \"#506784\", \"linecolor\": \"#506784\", \"minorgridcolor\": \"#506784\", \"startlinecolor\": \"#A2B1C6\"}, \"type\": \"carpet\"}], \"choropleth\": [{\"colorbar\": {\"outlinewidth\": 0, \"ticks\": \"\"}, \"type\": \"choropleth\"}], \"contour\": [{\"colorbar\": {\"outlinewidth\": 0, \"ticks\": \"\"}, \"colorscale\": [[0.0, \"#0d0887\"], [0.1111111111111111, \"#46039f\"], [0.2222222222222222, \"#7201a8\"], [0.3333333333333333, \"#9c179e\"], [0.4444444444444444, \"#bd3786\"], [0.5555555555555556, \"#d8576b\"], [0.6666666666666666, \"#ed7953\"], [0.7777777777777778, \"#fb9f3a\"], [0.8888888888888888, \"#fdca26\"], [1.0, \"#f0f921\"]], \"type\": \"contour\"}], \"contourcarpet\": [{\"colorbar\": {\"outlinewidth\": 0, \"ticks\": \"\"}, \"type\": \"contourcarpet\"}], \"heatmap\": [{\"colorbar\": {\"outlinewidth\": 0, \"ticks\": \"\"}, \"colorscale\": [[0.0, \"#0d0887\"], [0.1111111111111111, \"#46039f\"], [0.2222222222222222, \"#7201a8\"], [0.3333333333333333, \"#9c179e\"], [0.4444444444444444, \"#bd3786\"], [0.5555555555555556, \"#d8576b\"], [0.6666666666666666, \"#ed7953\"], [0.7777777777777778, \"#fb9f3a\"], [0.8888888888888888, \"#fdca26\"], [1.0, \"#f0f921\"]], \"type\": \"heatmap\"}], \"heatmapgl\": [{\"colorbar\": {\"outlinewidth\": 0, \"ticks\": \"\"}, \"colorscale\": [[0.0, \"#0d0887\"], [0.1111111111111111, \"#46039f\"], [0.2222222222222222, \"#7201a8\"], [0.3333333333333333, \"#9c179e\"], [0.4444444444444444, \"#bd3786\"], [0.5555555555555556, \"#d8576b\"], [0.6666666666666666, \"#ed7953\"], [0.7777777777777778, \"#fb9f3a\"], [0.8888888888888888, \"#fdca26\"], [1.0, \"#f0f921\"]], \"type\": \"heatmapgl\"}], \"histogram\": [{\"marker\": {\"colorbar\": {\"outlinewidth\": 0, \"ticks\": \"\"}}, \"type\": \"histogram\"}], \"histogram2d\": [{\"colorbar\": {\"outlinewidth\": 0, \"ticks\": \"\"}, \"colorscale\": [[0.0, \"#0d0887\"], [0.1111111111111111, \"#46039f\"], [0.2222222222222222, \"#7201a8\"], [0.3333333333333333, \"#9c179e\"], [0.4444444444444444, \"#bd3786\"], [0.5555555555555556, \"#d8576b\"], [0.6666666666666666, \"#ed7953\"], [0.7777777777777778, \"#fb9f3a\"], [0.8888888888888888, \"#fdca26\"], [1.0, \"#f0f921\"]], \"type\": \"histogram2d\"}], \"histogram2dcontour\": [{\"colorbar\": {\"outlinewidth\": 0, \"ticks\": \"\"}, \"colorscale\": [[0.0, \"#0d0887\"], [0.1111111111111111, \"#46039f\"], [0.2222222222222222, \"#7201a8\"], [0.3333333333333333, \"#9c179e\"], [0.4444444444444444, \"#bd3786\"], [0.5555555555555556, \"#d8576b\"], [0.6666666666666666, \"#ed7953\"], [0.7777777777777778, \"#fb9f3a\"], [0.8888888888888888, \"#fdca26\"], [1.0, \"#f0f921\"]], \"type\": \"histogram2dcontour\"}], \"mesh3d\": [{\"colorbar\": {\"outlinewidth\": 0, \"ticks\": \"\"}, \"type\": \"mesh3d\"}], \"parcoords\": [{\"line\": {\"colorbar\": {\"outlinewidth\": 0, \"ticks\": \"\"}}, \"type\": \"parcoords\"}], \"pie\": [{\"automargin\": true, \"type\": \"pie\"}], \"scatter\": [{\"marker\": {\"line\": {\"color\": \"#283442\"}}, \"type\": \"scatter\"}], \"scatter3d\": [{\"line\": {\"colorbar\": {\"outlinewidth\": 0, \"ticks\": \"\"}}, \"marker\": {\"colorbar\": {\"outlinewidth\": 0, \"ticks\": \"\"}}, \"type\": \"scatter3d\"}], \"scattercarpet\": [{\"marker\": {\"colorbar\": {\"outlinewidth\": 0, \"ticks\": \"\"}}, \"type\": \"scattercarpet\"}], \"scattergeo\": [{\"marker\": {\"colorbar\": {\"outlinewidth\": 0, \"ticks\": \"\"}}, \"type\": \"scattergeo\"}], \"scattergl\": [{\"marker\": {\"line\": {\"color\": \"#283442\"}}, \"type\": \"scattergl\"}], \"scattermapbox\": [{\"marker\": {\"colorbar\": {\"outlinewidth\": 0, \"ticks\": \"\"}}, \"type\": \"scattermapbox\"}], \"scatterpolar\": [{\"marker\": {\"colorbar\": {\"outlinewidth\": 0, \"ticks\": \"\"}}, \"type\": \"scatterpolar\"}], \"scatterpolargl\": [{\"marker\": {\"colorbar\": {\"outlinewidth\": 0, \"ticks\": \"\"}}, \"type\": \"scatterpolargl\"}], \"scatterternary\": [{\"marker\": {\"colorbar\": {\"outlinewidth\": 0, \"ticks\": \"\"}}, \"type\": \"scatterternary\"}], \"surface\": [{\"colorbar\": {\"outlinewidth\": 0, \"ticks\": \"\"}, \"colorscale\": [[0.0, \"#0d0887\"], [0.1111111111111111, \"#46039f\"], [0.2222222222222222, \"#7201a8\"], [0.3333333333333333, \"#9c179e\"], [0.4444444444444444, \"#bd3786\"], [0.5555555555555556, \"#d8576b\"], [0.6666666666666666, \"#ed7953\"], [0.7777777777777778, \"#fb9f3a\"], [0.8888888888888888, \"#fdca26\"], [1.0, \"#f0f921\"]], \"type\": \"surface\"}], \"table\": [{\"cells\": {\"fill\": {\"color\": \"#506784\"}, \"line\": {\"color\": \"rgb(17,17,17)\"}}, \"header\": {\"fill\": {\"color\": \"#2a3f5f\"}, \"line\": {\"color\": \"rgb(17,17,17)\"}}, \"type\": \"table\"}]}, \"layout\": {\"annotationdefaults\": {\"arrowcolor\": \"#f2f5fa\", \"arrowhead\": 0, \"arrowwidth\": 1}, \"coloraxis\": {\"colorbar\": {\"outlinewidth\": 0, \"ticks\": \"\"}}, \"colorscale\": {\"diverging\": [[0, \"#8e0152\"], [0.1, \"#c51b7d\"], [0.2, \"#de77ae\"], [0.3, \"#f1b6da\"], [0.4, \"#fde0ef\"], [0.5, \"#f7f7f7\"], [0.6, \"#e6f5d0\"], [0.7, \"#b8e186\"], [0.8, \"#7fbc41\"], [0.9, \"#4d9221\"], [1, \"#276419\"]], \"sequential\": [[0.0, \"#0d0887\"], [0.1111111111111111, \"#46039f\"], [0.2222222222222222, \"#7201a8\"], [0.3333333333333333, \"#9c179e\"], [0.4444444444444444, \"#bd3786\"], [0.5555555555555556, \"#d8576b\"], [0.6666666666666666, \"#ed7953\"], [0.7777777777777778, \"#fb9f3a\"], [0.8888888888888888, \"#fdca26\"], [1.0, \"#f0f921\"]], \"sequentialminus\": [[0.0, \"#0d0887\"], [0.1111111111111111, \"#46039f\"], [0.2222222222222222, \"#7201a8\"], [0.3333333333333333, \"#9c179e\"], [0.4444444444444444, \"#bd3786\"], [0.5555555555555556, \"#d8576b\"], [0.6666666666666666, \"#ed7953\"], [0.7777777777777778, \"#fb9f3a\"], [0.8888888888888888, \"#fdca26\"], [1.0, \"#f0f921\"]]}, \"colorway\": [\"#636efa\", \"#EF553B\", \"#00cc96\", \"#ab63fa\", \"#FFA15A\", \"#19d3f3\", \"#FF6692\", \"#B6E880\", \"#FF97FF\", \"#FECB52\"], \"font\": {\"color\": \"#f2f5fa\"}, \"geo\": {\"bgcolor\": \"rgb(17,17,17)\", \"lakecolor\": \"rgb(17,17,17)\", \"landcolor\": \"rgb(17,17,17)\", \"showlakes\": true, \"showland\": true, \"subunitcolor\": \"#506784\"}, \"hoverlabel\": {\"align\": \"left\"}, \"hovermode\": \"closest\", \"mapbox\": {\"style\": \"dark\"}, \"paper_bgcolor\": \"rgb(17,17,17)\", \"plot_bgcolor\": \"rgb(17,17,17)\", \"polar\": {\"angularaxis\": {\"gridcolor\": \"#506784\", \"linecolor\": \"#506784\", \"ticks\": \"\"}, \"bgcolor\": \"rgb(17,17,17)\", \"radialaxis\": {\"gridcolor\": \"#506784\", \"linecolor\": \"#506784\", \"ticks\": \"\"}}, \"scene\": {\"xaxis\": {\"backgroundcolor\": \"rgb(17,17,17)\", \"gridcolor\": \"#506784\", \"gridwidth\": 2, \"linecolor\": \"#506784\", \"showbackground\": true, \"ticks\": \"\", \"zerolinecolor\": \"#C8D4E3\"}, \"yaxis\": {\"backgroundcolor\": \"rgb(17,17,17)\", \"gridcolor\": \"#506784\", \"gridwidth\": 2, \"linecolor\": \"#506784\", \"showbackground\": true, \"ticks\": \"\", \"zerolinecolor\": \"#C8D4E3\"}, \"zaxis\": {\"backgroundcolor\": \"rgb(17,17,17)\", \"gridcolor\": \"#506784\", \"gridwidth\": 2, \"linecolor\": \"#506784\", \"showbackground\": true, \"ticks\": \"\", \"zerolinecolor\": \"#C8D4E3\"}}, \"shapedefaults\": {\"line\": {\"color\": \"#f2f5fa\"}}, \"sliderdefaults\": {\"bgcolor\": \"#C8D4E3\", \"bordercolor\": \"rgb(17,17,17)\", \"borderwidth\": 1, \"tickwidth\": 0}, \"ternary\": {\"aaxis\": {\"gridcolor\": \"#506784\", \"linecolor\": \"#506784\", \"ticks\": \"\"}, \"baxis\": {\"gridcolor\": \"#506784\", \"linecolor\": \"#506784\", \"ticks\": \"\"}, \"bgcolor\": \"rgb(17,17,17)\", \"caxis\": {\"gridcolor\": \"#506784\", \"linecolor\": \"#506784\", \"ticks\": \"\"}}, \"title\": {\"x\": 0.05}, \"updatemenudefaults\": {\"bgcolor\": \"#506784\", \"borderwidth\": 0}, \"xaxis\": {\"automargin\": true, \"gridcolor\": \"#283442\", \"linecolor\": \"#506784\", \"ticks\": \"\", \"title\": {\"standoff\": 15}, \"zerolinecolor\": \"#283442\", \"zerolinewidth\": 2}, \"yaxis\": {\"automargin\": true, \"gridcolor\": \"#283442\", \"linecolor\": \"#506784\", \"ticks\": \"\", \"title\": {\"standoff\": 15}, \"zerolinecolor\": \"#283442\", \"zerolinewidth\": 2}}}, \"title\": {\"font\": {\"size\": 24}, \"text\": \"Community Cases by Age as of October 20, 2020\"}, \"xaxis\": {\"anchor\": \"y\", \"categoryarray\": [\"0 \\u2013 17\", \"18 \\u2013 29\", \"30 \\u2013 49\", \"50 \\u2013 69\", \"70+\"], \"categoryorder\": \"array\", \"domain\": [0.0, 1.0], \"title\": {\"text\": \"Age Group\"}}, \"yaxis\": {\"anchor\": \"x\", \"domain\": [0.0, 1.0], \"title\": {}}},                        {\"responsive\": true}                    ).then(function(){\n",
              "                            \n",
              "var gd = document.getElementById('7dc13545-9a22-4d28-bf8b-ebdd1fe14a6a');\n",
              "var x = new MutationObserver(function (mutations, observer) {{\n",
              "        var display = window.getComputedStyle(gd).display;\n",
              "        if (!display || display === 'none') {{\n",
              "            console.log([gd, 'removed!']);\n",
              "            Plotly.purge(gd);\n",
              "            observer.disconnect();\n",
              "        }}\n",
              "}});\n",
              "\n",
              "// Listen for the removal of the full notebook cells\n",
              "var notebookContainer = gd.closest('#notebook-container');\n",
              "if (notebookContainer) {{\n",
              "    x.observe(notebookContainer, {childList: true});\n",
              "}}\n",
              "\n",
              "// Listen for the clearing of the current output cell\n",
              "var outputEl = gd.closest('.output');\n",
              "if (outputEl) {{\n",
              "    x.observe(outputEl, {childList: true});\n",
              "}}\n",
              "\n",
              "                        })                };                            </script>        </div>\n",
              "</body>\n",
              "</html>"
            ]
          },
          "metadata": {
            "tags": []
          }
        }
      ]
    },
    {
      "cell_type": "code",
      "metadata": {
        "id": "kdR5scHPOaqx",
        "outputId": "c40198a3-7a33-4a4a-e81c-31dd02cba473",
        "colab": {
          "base_uri": "https://localhost:8080/",
          "height": 542
        }
      },
      "source": [
        "create_age_barplot('October 20, 2020','Lompoc Federal Prison')"
      ],
      "execution_count": 160,
      "outputs": [
        {
          "output_type": "display_data",
          "data": {
            "text/html": [
              "<html>\n",
              "<head><meta charset=\"utf-8\" /></head>\n",
              "<body>\n",
              "    <div>            <script src=\"https://cdnjs.cloudflare.com/ajax/libs/mathjax/2.7.5/MathJax.js?config=TeX-AMS-MML_SVG\"></script><script type=\"text/javascript\">if (window.MathJax) {MathJax.Hub.Config({SVG: {font: \"STIX-Web\"}});}</script>                <script type=\"text/javascript\">window.PlotlyConfig = {MathJaxConfig: 'local'};</script>\n",
              "        <script src=\"https://cdn.plot.ly/plotly-latest.min.js\"></script>                <div id=\"7c8375fe-afcc-45b1-9a96-90b2b9b0b453\" class=\"plotly-graph-div\" style=\"height:525px; width:100%;\"></div>            <script type=\"text/javascript\">                                    window.PLOTLYENV=window.PLOTLYENV || {};                                    if (document.getElementById(\"7c8375fe-afcc-45b1-9a96-90b2b9b0b453\")) {                    Plotly.newPlot(                        \"7c8375fe-afcc-45b1-9a96-90b2b9b0b453\",                        [{\"alignmentgroup\": \"True\", \"hovertemplate\": \"Age=%{x}<br>Lompoc Federal Prison=%{y}<extra></extra>\", \"legendgroup\": \"0 \\u2013 17\", \"marker\": {\"color\": \"#1F77B4\"}, \"name\": \"0 \\u2013 17\", \"offsetgroup\": \"0 \\u2013 17\", \"orientation\": \"v\", \"showlegend\": true, \"textposition\": \"auto\", \"type\": \"bar\", \"x\": [\"0 \\u2013 17\"], \"xaxis\": \"x\", \"y\": [0.0], \"yaxis\": \"y\"}, {\"alignmentgroup\": \"True\", \"hovertemplate\": \"Age=%{x}<br>Lompoc Federal Prison=%{y}<extra></extra>\", \"legendgroup\": \"18 \\u2013 29\", \"marker\": {\"color\": \"#FF7F0E\"}, \"name\": \"18 \\u2013 29\", \"offsetgroup\": \"18 \\u2013 29\", \"orientation\": \"v\", \"showlegend\": true, \"textposition\": \"auto\", \"type\": \"bar\", \"x\": [\"18 \\u2013 29\"], \"xaxis\": \"x\", \"y\": [138.0], \"yaxis\": \"y\"}, {\"alignmentgroup\": \"True\", \"hovertemplate\": \"Age=%{x}<br>Lompoc Federal Prison=%{y}<extra></extra>\", \"legendgroup\": \"30 \\u2013 49\", \"marker\": {\"color\": \"#2CA02C\"}, \"name\": \"30 \\u2013 49\", \"offsetgroup\": \"30 \\u2013 49\", \"orientation\": \"v\", \"showlegend\": true, \"textposition\": \"auto\", \"type\": \"bar\", \"x\": [\"30 \\u2013 49\"], \"xaxis\": \"x\", \"y\": [544.0], \"yaxis\": \"y\"}, {\"alignmentgroup\": \"True\", \"hovertemplate\": \"Age=%{x}<br>Lompoc Federal Prison=%{y}<extra></extra>\", \"legendgroup\": \"50 \\u2013 69\", \"marker\": {\"color\": \"#D62728\"}, \"name\": \"50 \\u2013 69\", \"offsetgroup\": \"50 \\u2013 69\", \"orientation\": \"v\", \"showlegend\": true, \"textposition\": \"auto\", \"type\": \"bar\", \"x\": [\"50 \\u2013 69\"], \"xaxis\": \"x\", \"y\": [311.0], \"yaxis\": \"y\"}, {\"alignmentgroup\": \"True\", \"hovertemplate\": \"Age=%{x}<br>Lompoc Federal Prison=%{y}<extra></extra>\", \"legendgroup\": \"70+\", \"marker\": {\"color\": \"#9467BD\"}, \"name\": \"70+\", \"offsetgroup\": \"70+\", \"orientation\": \"v\", \"showlegend\": true, \"textposition\": \"auto\", \"type\": \"bar\", \"x\": [\"70+\"], \"xaxis\": \"x\", \"y\": [33.0], \"yaxis\": \"y\"}],                        {\"barmode\": \"relative\", \"font\": {\"color\": \"white\", \"family\": \"Courier\"}, \"hovermode\": \"closest\", \"legend\": {\"title\": {\"text\": \"Age\"}, \"tracegroupgap\": 0}, \"showlegend\": false, \"template\": {\"data\": {\"bar\": [{\"error_x\": {\"color\": \"#f2f5fa\"}, \"error_y\": {\"color\": \"#f2f5fa\"}, \"marker\": {\"line\": {\"color\": \"rgb(17,17,17)\", \"width\": 0.5}}, \"type\": \"bar\"}], \"barpolar\": [{\"marker\": {\"line\": {\"color\": \"rgb(17,17,17)\", \"width\": 0.5}}, \"type\": \"barpolar\"}], \"carpet\": [{\"aaxis\": {\"endlinecolor\": \"#A2B1C6\", \"gridcolor\": \"#506784\", \"linecolor\": \"#506784\", \"minorgridcolor\": \"#506784\", \"startlinecolor\": \"#A2B1C6\"}, \"baxis\": {\"endlinecolor\": \"#A2B1C6\", \"gridcolor\": \"#506784\", \"linecolor\": \"#506784\", \"minorgridcolor\": \"#506784\", \"startlinecolor\": \"#A2B1C6\"}, \"type\": \"carpet\"}], \"choropleth\": [{\"colorbar\": {\"outlinewidth\": 0, \"ticks\": \"\"}, \"type\": \"choropleth\"}], \"contour\": [{\"colorbar\": {\"outlinewidth\": 0, \"ticks\": \"\"}, \"colorscale\": [[0.0, \"#0d0887\"], [0.1111111111111111, \"#46039f\"], [0.2222222222222222, \"#7201a8\"], [0.3333333333333333, \"#9c179e\"], [0.4444444444444444, \"#bd3786\"], [0.5555555555555556, \"#d8576b\"], [0.6666666666666666, \"#ed7953\"], [0.7777777777777778, \"#fb9f3a\"], [0.8888888888888888, \"#fdca26\"], [1.0, \"#f0f921\"]], \"type\": \"contour\"}], \"contourcarpet\": [{\"colorbar\": {\"outlinewidth\": 0, \"ticks\": \"\"}, \"type\": \"contourcarpet\"}], \"heatmap\": [{\"colorbar\": {\"outlinewidth\": 0, \"ticks\": \"\"}, \"colorscale\": [[0.0, \"#0d0887\"], [0.1111111111111111, \"#46039f\"], [0.2222222222222222, \"#7201a8\"], [0.3333333333333333, \"#9c179e\"], [0.4444444444444444, \"#bd3786\"], [0.5555555555555556, \"#d8576b\"], [0.6666666666666666, \"#ed7953\"], [0.7777777777777778, \"#fb9f3a\"], [0.8888888888888888, \"#fdca26\"], [1.0, \"#f0f921\"]], \"type\": \"heatmap\"}], \"heatmapgl\": [{\"colorbar\": {\"outlinewidth\": 0, \"ticks\": \"\"}, \"colorscale\": [[0.0, \"#0d0887\"], [0.1111111111111111, \"#46039f\"], [0.2222222222222222, \"#7201a8\"], [0.3333333333333333, \"#9c179e\"], [0.4444444444444444, \"#bd3786\"], [0.5555555555555556, \"#d8576b\"], [0.6666666666666666, \"#ed7953\"], [0.7777777777777778, \"#fb9f3a\"], [0.8888888888888888, \"#fdca26\"], [1.0, \"#f0f921\"]], \"type\": \"heatmapgl\"}], \"histogram\": [{\"marker\": {\"colorbar\": {\"outlinewidth\": 0, \"ticks\": \"\"}}, \"type\": \"histogram\"}], \"histogram2d\": [{\"colorbar\": {\"outlinewidth\": 0, \"ticks\": \"\"}, \"colorscale\": [[0.0, \"#0d0887\"], [0.1111111111111111, \"#46039f\"], [0.2222222222222222, \"#7201a8\"], [0.3333333333333333, \"#9c179e\"], [0.4444444444444444, \"#bd3786\"], [0.5555555555555556, \"#d8576b\"], [0.6666666666666666, \"#ed7953\"], [0.7777777777777778, \"#fb9f3a\"], [0.8888888888888888, \"#fdca26\"], [1.0, \"#f0f921\"]], \"type\": \"histogram2d\"}], \"histogram2dcontour\": [{\"colorbar\": {\"outlinewidth\": 0, \"ticks\": \"\"}, \"colorscale\": [[0.0, \"#0d0887\"], [0.1111111111111111, \"#46039f\"], [0.2222222222222222, \"#7201a8\"], [0.3333333333333333, \"#9c179e\"], [0.4444444444444444, \"#bd3786\"], [0.5555555555555556, \"#d8576b\"], [0.6666666666666666, \"#ed7953\"], [0.7777777777777778, \"#fb9f3a\"], [0.8888888888888888, \"#fdca26\"], [1.0, \"#f0f921\"]], \"type\": \"histogram2dcontour\"}], \"mesh3d\": [{\"colorbar\": {\"outlinewidth\": 0, \"ticks\": \"\"}, \"type\": \"mesh3d\"}], \"parcoords\": [{\"line\": {\"colorbar\": {\"outlinewidth\": 0, \"ticks\": \"\"}}, \"type\": \"parcoords\"}], \"pie\": [{\"automargin\": true, \"type\": \"pie\"}], \"scatter\": [{\"marker\": {\"line\": {\"color\": \"#283442\"}}, \"type\": \"scatter\"}], \"scatter3d\": [{\"line\": {\"colorbar\": {\"outlinewidth\": 0, \"ticks\": \"\"}}, \"marker\": {\"colorbar\": {\"outlinewidth\": 0, \"ticks\": \"\"}}, \"type\": \"scatter3d\"}], \"scattercarpet\": [{\"marker\": {\"colorbar\": {\"outlinewidth\": 0, \"ticks\": \"\"}}, \"type\": \"scattercarpet\"}], \"scattergeo\": [{\"marker\": {\"colorbar\": {\"outlinewidth\": 0, \"ticks\": \"\"}}, \"type\": \"scattergeo\"}], \"scattergl\": [{\"marker\": {\"line\": {\"color\": \"#283442\"}}, \"type\": \"scattergl\"}], \"scattermapbox\": [{\"marker\": {\"colorbar\": {\"outlinewidth\": 0, \"ticks\": \"\"}}, \"type\": \"scattermapbox\"}], \"scatterpolar\": [{\"marker\": {\"colorbar\": {\"outlinewidth\": 0, \"ticks\": \"\"}}, \"type\": \"scatterpolar\"}], \"scatterpolargl\": [{\"marker\": {\"colorbar\": {\"outlinewidth\": 0, \"ticks\": \"\"}}, \"type\": \"scatterpolargl\"}], \"scatterternary\": [{\"marker\": {\"colorbar\": {\"outlinewidth\": 0, \"ticks\": \"\"}}, \"type\": \"scatterternary\"}], \"surface\": [{\"colorbar\": {\"outlinewidth\": 0, \"ticks\": \"\"}, \"colorscale\": [[0.0, \"#0d0887\"], [0.1111111111111111, \"#46039f\"], [0.2222222222222222, \"#7201a8\"], [0.3333333333333333, \"#9c179e\"], [0.4444444444444444, \"#bd3786\"], [0.5555555555555556, \"#d8576b\"], [0.6666666666666666, \"#ed7953\"], [0.7777777777777778, \"#fb9f3a\"], [0.8888888888888888, \"#fdca26\"], [1.0, \"#f0f921\"]], \"type\": \"surface\"}], \"table\": [{\"cells\": {\"fill\": {\"color\": \"#506784\"}, \"line\": {\"color\": \"rgb(17,17,17)\"}}, \"header\": {\"fill\": {\"color\": \"#2a3f5f\"}, \"line\": {\"color\": \"rgb(17,17,17)\"}}, \"type\": \"table\"}]}, \"layout\": {\"annotationdefaults\": {\"arrowcolor\": \"#f2f5fa\", \"arrowhead\": 0, \"arrowwidth\": 1}, \"coloraxis\": {\"colorbar\": {\"outlinewidth\": 0, \"ticks\": \"\"}}, \"colorscale\": {\"diverging\": [[0, \"#8e0152\"], [0.1, \"#c51b7d\"], [0.2, \"#de77ae\"], [0.3, \"#f1b6da\"], [0.4, \"#fde0ef\"], [0.5, \"#f7f7f7\"], [0.6, \"#e6f5d0\"], [0.7, \"#b8e186\"], [0.8, \"#7fbc41\"], [0.9, \"#4d9221\"], [1, \"#276419\"]], \"sequential\": [[0.0, \"#0d0887\"], [0.1111111111111111, \"#46039f\"], [0.2222222222222222, \"#7201a8\"], [0.3333333333333333, \"#9c179e\"], [0.4444444444444444, \"#bd3786\"], [0.5555555555555556, \"#d8576b\"], [0.6666666666666666, \"#ed7953\"], [0.7777777777777778, \"#fb9f3a\"], [0.8888888888888888, \"#fdca26\"], [1.0, \"#f0f921\"]], \"sequentialminus\": [[0.0, \"#0d0887\"], [0.1111111111111111, \"#46039f\"], [0.2222222222222222, \"#7201a8\"], [0.3333333333333333, \"#9c179e\"], [0.4444444444444444, \"#bd3786\"], [0.5555555555555556, \"#d8576b\"], [0.6666666666666666, \"#ed7953\"], [0.7777777777777778, \"#fb9f3a\"], [0.8888888888888888, \"#fdca26\"], [1.0, \"#f0f921\"]]}, \"colorway\": [\"#636efa\", \"#EF553B\", \"#00cc96\", \"#ab63fa\", \"#FFA15A\", \"#19d3f3\", \"#FF6692\", \"#B6E880\", \"#FF97FF\", \"#FECB52\"], \"font\": {\"color\": \"#f2f5fa\"}, \"geo\": {\"bgcolor\": \"rgb(17,17,17)\", \"lakecolor\": \"rgb(17,17,17)\", \"landcolor\": \"rgb(17,17,17)\", \"showlakes\": true, \"showland\": true, \"subunitcolor\": \"#506784\"}, \"hoverlabel\": {\"align\": \"left\"}, \"hovermode\": \"closest\", \"mapbox\": {\"style\": \"dark\"}, \"paper_bgcolor\": \"rgb(17,17,17)\", \"plot_bgcolor\": \"rgb(17,17,17)\", \"polar\": {\"angularaxis\": {\"gridcolor\": \"#506784\", \"linecolor\": \"#506784\", \"ticks\": \"\"}, \"bgcolor\": \"rgb(17,17,17)\", \"radialaxis\": {\"gridcolor\": \"#506784\", \"linecolor\": \"#506784\", \"ticks\": \"\"}}, \"scene\": {\"xaxis\": {\"backgroundcolor\": \"rgb(17,17,17)\", \"gridcolor\": \"#506784\", \"gridwidth\": 2, \"linecolor\": \"#506784\", \"showbackground\": true, \"ticks\": \"\", \"zerolinecolor\": \"#C8D4E3\"}, \"yaxis\": {\"backgroundcolor\": \"rgb(17,17,17)\", \"gridcolor\": \"#506784\", \"gridwidth\": 2, \"linecolor\": \"#506784\", \"showbackground\": true, \"ticks\": \"\", \"zerolinecolor\": \"#C8D4E3\"}, \"zaxis\": {\"backgroundcolor\": \"rgb(17,17,17)\", \"gridcolor\": \"#506784\", \"gridwidth\": 2, \"linecolor\": \"#506784\", \"showbackground\": true, \"ticks\": \"\", \"zerolinecolor\": \"#C8D4E3\"}}, \"shapedefaults\": {\"line\": {\"color\": \"#f2f5fa\"}}, \"sliderdefaults\": {\"bgcolor\": \"#C8D4E3\", \"bordercolor\": \"rgb(17,17,17)\", \"borderwidth\": 1, \"tickwidth\": 0}, \"ternary\": {\"aaxis\": {\"gridcolor\": \"#506784\", \"linecolor\": \"#506784\", \"ticks\": \"\"}, \"baxis\": {\"gridcolor\": \"#506784\", \"linecolor\": \"#506784\", \"ticks\": \"\"}, \"bgcolor\": \"rgb(17,17,17)\", \"caxis\": {\"gridcolor\": \"#506784\", \"linecolor\": \"#506784\", \"ticks\": \"\"}}, \"title\": {\"x\": 0.05}, \"updatemenudefaults\": {\"bgcolor\": \"#506784\", \"borderwidth\": 0}, \"xaxis\": {\"automargin\": true, \"gridcolor\": \"#283442\", \"linecolor\": \"#506784\", \"ticks\": \"\", \"title\": {\"standoff\": 15}, \"zerolinecolor\": \"#283442\", \"zerolinewidth\": 2}, \"yaxis\": {\"automargin\": true, \"gridcolor\": \"#283442\", \"linecolor\": \"#506784\", \"ticks\": \"\", \"title\": {\"standoff\": 15}, \"zerolinecolor\": \"#283442\", \"zerolinewidth\": 2}}}, \"title\": {\"font\": {\"size\": 24}, \"text\": \"Lompoc Federal Prison Cases by Age as of October 20, 2020\"}, \"xaxis\": {\"anchor\": \"y\", \"categoryarray\": [\"0 \\u2013 17\", \"18 \\u2013 29\", \"30 \\u2013 49\", \"50 \\u2013 69\", \"70+\"], \"categoryorder\": \"array\", \"domain\": [0.0, 1.0], \"title\": {\"text\": \"Age Group\"}}, \"yaxis\": {\"anchor\": \"x\", \"domain\": [0.0, 1.0], \"title\": {}}},                        {\"responsive\": true}                    ).then(function(){\n",
              "                            \n",
              "var gd = document.getElementById('7c8375fe-afcc-45b1-9a96-90b2b9b0b453');\n",
              "var x = new MutationObserver(function (mutations, observer) {{\n",
              "        var display = window.getComputedStyle(gd).display;\n",
              "        if (!display || display === 'none') {{\n",
              "            console.log([gd, 'removed!']);\n",
              "            Plotly.purge(gd);\n",
              "            observer.disconnect();\n",
              "        }}\n",
              "}});\n",
              "\n",
              "// Listen for the removal of the full notebook cells\n",
              "var notebookContainer = gd.closest('#notebook-container');\n",
              "if (notebookContainer) {{\n",
              "    x.observe(notebookContainer, {childList: true});\n",
              "}}\n",
              "\n",
              "// Listen for the clearing of the current output cell\n",
              "var outputEl = gd.closest('.output');\n",
              "if (outputEl) {{\n",
              "    x.observe(outputEl, {childList: true});\n",
              "}}\n",
              "\n",
              "                        })                };                            </script>        </div>\n",
              "</body>\n",
              "</html>"
            ]
          },
          "metadata": {
            "tags": []
          }
        }
      ]
    },
    {
      "cell_type": "code",
      "metadata": {
        "id": "mQGOB7rtPbFK",
        "outputId": "e305025c-f232-4af5-cc9c-195a15ab64cd",
        "colab": {
          "base_uri": "https://localhost:8080/",
          "height": 542
        }
      },
      "source": [
        "create_age_barplot('October 20, 2020','Total')"
      ],
      "execution_count": 161,
      "outputs": [
        {
          "output_type": "display_data",
          "data": {
            "text/html": [
              "<html>\n",
              "<head><meta charset=\"utf-8\" /></head>\n",
              "<body>\n",
              "    <div>            <script src=\"https://cdnjs.cloudflare.com/ajax/libs/mathjax/2.7.5/MathJax.js?config=TeX-AMS-MML_SVG\"></script><script type=\"text/javascript\">if (window.MathJax) {MathJax.Hub.Config({SVG: {font: \"STIX-Web\"}});}</script>                <script type=\"text/javascript\">window.PlotlyConfig = {MathJaxConfig: 'local'};</script>\n",
              "        <script src=\"https://cdn.plot.ly/plotly-latest.min.js\"></script>                <div id=\"322b80e9-93ae-4a75-bf82-70f5cc37cc8f\" class=\"plotly-graph-div\" style=\"height:525px; width:100%;\"></div>            <script type=\"text/javascript\">                                    window.PLOTLYENV=window.PLOTLYENV || {};                                    if (document.getElementById(\"322b80e9-93ae-4a75-bf82-70f5cc37cc8f\")) {                    Plotly.newPlot(                        \"322b80e9-93ae-4a75-bf82-70f5cc37cc8f\",                        [{\"alignmentgroup\": \"True\", \"hovertemplate\": \"Age=%{x}<br>Total=%{y}<extra></extra>\", \"legendgroup\": \"0 \\u2013 17\", \"marker\": {\"color\": \"#1F77B4\"}, \"name\": \"0 \\u2013 17\", \"offsetgroup\": \"0 \\u2013 17\", \"orientation\": \"v\", \"showlegend\": true, \"textposition\": \"auto\", \"type\": \"bar\", \"x\": [\"0 \\u2013 17\"], \"xaxis\": \"x\", \"y\": [807.0], \"yaxis\": \"y\"}, {\"alignmentgroup\": \"True\", \"hovertemplate\": \"Age=%{x}<br>Total=%{y}<extra></extra>\", \"legendgroup\": \"18 \\u2013 29\", \"marker\": {\"color\": \"#FF7F0E\"}, \"name\": \"18 \\u2013 29\", \"offsetgroup\": \"18 \\u2013 29\", \"orientation\": \"v\", \"showlegend\": true, \"textposition\": \"auto\", \"type\": \"bar\", \"x\": [\"18 \\u2013 29\"], \"xaxis\": \"x\", \"y\": [2869.0], \"yaxis\": \"y\"}, {\"alignmentgroup\": \"True\", \"hovertemplate\": \"Age=%{x}<br>Total=%{y}<extra></extra>\", \"legendgroup\": \"30 \\u2013 49\", \"marker\": {\"color\": \"#2CA02C\"}, \"name\": \"30 \\u2013 49\", \"offsetgroup\": \"30 \\u2013 49\", \"orientation\": \"v\", \"showlegend\": true, \"textposition\": \"auto\", \"type\": \"bar\", \"x\": [\"30 \\u2013 49\"], \"xaxis\": \"x\", \"y\": [3521.0], \"yaxis\": \"y\"}, {\"alignmentgroup\": \"True\", \"hovertemplate\": \"Age=%{x}<br>Total=%{y}<extra></extra>\", \"legendgroup\": \"50 \\u2013 69\", \"marker\": {\"color\": \"#D62728\"}, \"name\": \"50 \\u2013 69\", \"offsetgroup\": \"50 \\u2013 69\", \"orientation\": \"v\", \"showlegend\": true, \"textposition\": \"auto\", \"type\": \"bar\", \"x\": [\"50 \\u2013 69\"], \"xaxis\": \"x\", \"y\": [1920.0], \"yaxis\": \"y\"}, {\"alignmentgroup\": \"True\", \"hovertemplate\": \"Age=%{x}<br>Total=%{y}<extra></extra>\", \"legendgroup\": \"70+\", \"marker\": {\"color\": \"#9467BD\"}, \"name\": \"70+\", \"offsetgroup\": \"70+\", \"orientation\": \"v\", \"showlegend\": true, \"textposition\": \"auto\", \"type\": \"bar\", \"x\": [\"70+\"], \"xaxis\": \"x\", \"y\": [552.0], \"yaxis\": \"y\"}],                        {\"barmode\": \"relative\", \"font\": {\"color\": \"white\", \"family\": \"Courier\"}, \"hovermode\": \"closest\", \"legend\": {\"title\": {\"text\": \"Age\"}, \"tracegroupgap\": 0}, \"showlegend\": false, \"template\": {\"data\": {\"bar\": [{\"error_x\": {\"color\": \"#f2f5fa\"}, \"error_y\": {\"color\": \"#f2f5fa\"}, \"marker\": {\"line\": {\"color\": \"rgb(17,17,17)\", \"width\": 0.5}}, \"type\": \"bar\"}], \"barpolar\": [{\"marker\": {\"line\": {\"color\": \"rgb(17,17,17)\", \"width\": 0.5}}, \"type\": \"barpolar\"}], \"carpet\": [{\"aaxis\": {\"endlinecolor\": \"#A2B1C6\", \"gridcolor\": \"#506784\", \"linecolor\": \"#506784\", \"minorgridcolor\": \"#506784\", \"startlinecolor\": \"#A2B1C6\"}, \"baxis\": {\"endlinecolor\": \"#A2B1C6\", \"gridcolor\": \"#506784\", \"linecolor\": \"#506784\", \"minorgridcolor\": \"#506784\", \"startlinecolor\": \"#A2B1C6\"}, \"type\": \"carpet\"}], \"choropleth\": [{\"colorbar\": {\"outlinewidth\": 0, \"ticks\": \"\"}, \"type\": \"choropleth\"}], \"contour\": [{\"colorbar\": {\"outlinewidth\": 0, \"ticks\": \"\"}, \"colorscale\": [[0.0, \"#0d0887\"], [0.1111111111111111, \"#46039f\"], [0.2222222222222222, \"#7201a8\"], [0.3333333333333333, \"#9c179e\"], [0.4444444444444444, \"#bd3786\"], [0.5555555555555556, \"#d8576b\"], [0.6666666666666666, \"#ed7953\"], [0.7777777777777778, \"#fb9f3a\"], [0.8888888888888888, \"#fdca26\"], [1.0, \"#f0f921\"]], \"type\": \"contour\"}], \"contourcarpet\": [{\"colorbar\": {\"outlinewidth\": 0, \"ticks\": \"\"}, \"type\": \"contourcarpet\"}], \"heatmap\": [{\"colorbar\": {\"outlinewidth\": 0, \"ticks\": \"\"}, \"colorscale\": [[0.0, \"#0d0887\"], [0.1111111111111111, \"#46039f\"], [0.2222222222222222, \"#7201a8\"], [0.3333333333333333, \"#9c179e\"], [0.4444444444444444, \"#bd3786\"], [0.5555555555555556, \"#d8576b\"], [0.6666666666666666, \"#ed7953\"], [0.7777777777777778, \"#fb9f3a\"], [0.8888888888888888, \"#fdca26\"], [1.0, \"#f0f921\"]], \"type\": \"heatmap\"}], \"heatmapgl\": [{\"colorbar\": {\"outlinewidth\": 0, \"ticks\": \"\"}, \"colorscale\": [[0.0, \"#0d0887\"], [0.1111111111111111, \"#46039f\"], [0.2222222222222222, \"#7201a8\"], [0.3333333333333333, \"#9c179e\"], [0.4444444444444444, \"#bd3786\"], [0.5555555555555556, \"#d8576b\"], [0.6666666666666666, \"#ed7953\"], [0.7777777777777778, \"#fb9f3a\"], [0.8888888888888888, \"#fdca26\"], [1.0, \"#f0f921\"]], \"type\": \"heatmapgl\"}], \"histogram\": [{\"marker\": {\"colorbar\": {\"outlinewidth\": 0, \"ticks\": \"\"}}, \"type\": \"histogram\"}], \"histogram2d\": [{\"colorbar\": {\"outlinewidth\": 0, \"ticks\": \"\"}, \"colorscale\": [[0.0, \"#0d0887\"], [0.1111111111111111, \"#46039f\"], [0.2222222222222222, \"#7201a8\"], [0.3333333333333333, \"#9c179e\"], [0.4444444444444444, \"#bd3786\"], [0.5555555555555556, \"#d8576b\"], [0.6666666666666666, \"#ed7953\"], [0.7777777777777778, \"#fb9f3a\"], [0.8888888888888888, \"#fdca26\"], [1.0, \"#f0f921\"]], \"type\": \"histogram2d\"}], \"histogram2dcontour\": [{\"colorbar\": {\"outlinewidth\": 0, \"ticks\": \"\"}, \"colorscale\": [[0.0, \"#0d0887\"], [0.1111111111111111, \"#46039f\"], [0.2222222222222222, \"#7201a8\"], [0.3333333333333333, \"#9c179e\"], [0.4444444444444444, \"#bd3786\"], [0.5555555555555556, \"#d8576b\"], [0.6666666666666666, \"#ed7953\"], [0.7777777777777778, \"#fb9f3a\"], [0.8888888888888888, \"#fdca26\"], [1.0, \"#f0f921\"]], \"type\": \"histogram2dcontour\"}], \"mesh3d\": [{\"colorbar\": {\"outlinewidth\": 0, \"ticks\": \"\"}, \"type\": \"mesh3d\"}], \"parcoords\": [{\"line\": {\"colorbar\": {\"outlinewidth\": 0, \"ticks\": \"\"}}, \"type\": \"parcoords\"}], \"pie\": [{\"automargin\": true, \"type\": \"pie\"}], \"scatter\": [{\"marker\": {\"line\": {\"color\": \"#283442\"}}, \"type\": \"scatter\"}], \"scatter3d\": [{\"line\": {\"colorbar\": {\"outlinewidth\": 0, \"ticks\": \"\"}}, \"marker\": {\"colorbar\": {\"outlinewidth\": 0, \"ticks\": \"\"}}, \"type\": \"scatter3d\"}], \"scattercarpet\": [{\"marker\": {\"colorbar\": {\"outlinewidth\": 0, \"ticks\": \"\"}}, \"type\": \"scattercarpet\"}], \"scattergeo\": [{\"marker\": {\"colorbar\": {\"outlinewidth\": 0, \"ticks\": \"\"}}, \"type\": \"scattergeo\"}], \"scattergl\": [{\"marker\": {\"line\": {\"color\": \"#283442\"}}, \"type\": \"scattergl\"}], \"scattermapbox\": [{\"marker\": {\"colorbar\": {\"outlinewidth\": 0, \"ticks\": \"\"}}, \"type\": \"scattermapbox\"}], \"scatterpolar\": [{\"marker\": {\"colorbar\": {\"outlinewidth\": 0, \"ticks\": \"\"}}, \"type\": \"scatterpolar\"}], \"scatterpolargl\": [{\"marker\": {\"colorbar\": {\"outlinewidth\": 0, \"ticks\": \"\"}}, \"type\": \"scatterpolargl\"}], \"scatterternary\": [{\"marker\": {\"colorbar\": {\"outlinewidth\": 0, \"ticks\": \"\"}}, \"type\": \"scatterternary\"}], \"surface\": [{\"colorbar\": {\"outlinewidth\": 0, \"ticks\": \"\"}, \"colorscale\": [[0.0, \"#0d0887\"], [0.1111111111111111, \"#46039f\"], [0.2222222222222222, \"#7201a8\"], [0.3333333333333333, \"#9c179e\"], [0.4444444444444444, \"#bd3786\"], [0.5555555555555556, \"#d8576b\"], [0.6666666666666666, \"#ed7953\"], [0.7777777777777778, \"#fb9f3a\"], [0.8888888888888888, \"#fdca26\"], [1.0, \"#f0f921\"]], \"type\": \"surface\"}], \"table\": [{\"cells\": {\"fill\": {\"color\": \"#506784\"}, \"line\": {\"color\": \"rgb(17,17,17)\"}}, \"header\": {\"fill\": {\"color\": \"#2a3f5f\"}, \"line\": {\"color\": \"rgb(17,17,17)\"}}, \"type\": \"table\"}]}, \"layout\": {\"annotationdefaults\": {\"arrowcolor\": \"#f2f5fa\", \"arrowhead\": 0, \"arrowwidth\": 1}, \"coloraxis\": {\"colorbar\": {\"outlinewidth\": 0, \"ticks\": \"\"}}, \"colorscale\": {\"diverging\": [[0, \"#8e0152\"], [0.1, \"#c51b7d\"], [0.2, \"#de77ae\"], [0.3, \"#f1b6da\"], [0.4, \"#fde0ef\"], [0.5, \"#f7f7f7\"], [0.6, \"#e6f5d0\"], [0.7, \"#b8e186\"], [0.8, \"#7fbc41\"], [0.9, \"#4d9221\"], [1, \"#276419\"]], \"sequential\": [[0.0, \"#0d0887\"], [0.1111111111111111, \"#46039f\"], [0.2222222222222222, \"#7201a8\"], [0.3333333333333333, \"#9c179e\"], [0.4444444444444444, \"#bd3786\"], [0.5555555555555556, \"#d8576b\"], [0.6666666666666666, \"#ed7953\"], [0.7777777777777778, \"#fb9f3a\"], [0.8888888888888888, \"#fdca26\"], [1.0, \"#f0f921\"]], \"sequentialminus\": [[0.0, \"#0d0887\"], [0.1111111111111111, \"#46039f\"], [0.2222222222222222, \"#7201a8\"], [0.3333333333333333, \"#9c179e\"], [0.4444444444444444, \"#bd3786\"], [0.5555555555555556, \"#d8576b\"], [0.6666666666666666, \"#ed7953\"], [0.7777777777777778, \"#fb9f3a\"], [0.8888888888888888, \"#fdca26\"], [1.0, \"#f0f921\"]]}, \"colorway\": [\"#636efa\", \"#EF553B\", \"#00cc96\", \"#ab63fa\", \"#FFA15A\", \"#19d3f3\", \"#FF6692\", \"#B6E880\", \"#FF97FF\", \"#FECB52\"], \"font\": {\"color\": \"#f2f5fa\"}, \"geo\": {\"bgcolor\": \"rgb(17,17,17)\", \"lakecolor\": \"rgb(17,17,17)\", \"landcolor\": \"rgb(17,17,17)\", \"showlakes\": true, \"showland\": true, \"subunitcolor\": \"#506784\"}, \"hoverlabel\": {\"align\": \"left\"}, \"hovermode\": \"closest\", \"mapbox\": {\"style\": \"dark\"}, \"paper_bgcolor\": \"rgb(17,17,17)\", \"plot_bgcolor\": \"rgb(17,17,17)\", \"polar\": {\"angularaxis\": {\"gridcolor\": \"#506784\", \"linecolor\": \"#506784\", \"ticks\": \"\"}, \"bgcolor\": \"rgb(17,17,17)\", \"radialaxis\": {\"gridcolor\": \"#506784\", \"linecolor\": \"#506784\", \"ticks\": \"\"}}, \"scene\": {\"xaxis\": {\"backgroundcolor\": \"rgb(17,17,17)\", \"gridcolor\": \"#506784\", \"gridwidth\": 2, \"linecolor\": \"#506784\", \"showbackground\": true, \"ticks\": \"\", \"zerolinecolor\": \"#C8D4E3\"}, \"yaxis\": {\"backgroundcolor\": \"rgb(17,17,17)\", \"gridcolor\": \"#506784\", \"gridwidth\": 2, \"linecolor\": \"#506784\", \"showbackground\": true, \"ticks\": \"\", \"zerolinecolor\": \"#C8D4E3\"}, \"zaxis\": {\"backgroundcolor\": \"rgb(17,17,17)\", \"gridcolor\": \"#506784\", \"gridwidth\": 2, \"linecolor\": \"#506784\", \"showbackground\": true, \"ticks\": \"\", \"zerolinecolor\": \"#C8D4E3\"}}, \"shapedefaults\": {\"line\": {\"color\": \"#f2f5fa\"}}, \"sliderdefaults\": {\"bgcolor\": \"#C8D4E3\", \"bordercolor\": \"rgb(17,17,17)\", \"borderwidth\": 1, \"tickwidth\": 0}, \"ternary\": {\"aaxis\": {\"gridcolor\": \"#506784\", \"linecolor\": \"#506784\", \"ticks\": \"\"}, \"baxis\": {\"gridcolor\": \"#506784\", \"linecolor\": \"#506784\", \"ticks\": \"\"}, \"bgcolor\": \"rgb(17,17,17)\", \"caxis\": {\"gridcolor\": \"#506784\", \"linecolor\": \"#506784\", \"ticks\": \"\"}}, \"title\": {\"x\": 0.05}, \"updatemenudefaults\": {\"bgcolor\": \"#506784\", \"borderwidth\": 0}, \"xaxis\": {\"automargin\": true, \"gridcolor\": \"#283442\", \"linecolor\": \"#506784\", \"ticks\": \"\", \"title\": {\"standoff\": 15}, \"zerolinecolor\": \"#283442\", \"zerolinewidth\": 2}, \"yaxis\": {\"automargin\": true, \"gridcolor\": \"#283442\", \"linecolor\": \"#506784\", \"ticks\": \"\", \"title\": {\"standoff\": 15}, \"zerolinecolor\": \"#283442\", \"zerolinewidth\": 2}}}, \"title\": {\"font\": {\"size\": 24}, \"text\": \"Total Cases by Age as of October 20, 2020\"}, \"xaxis\": {\"anchor\": \"y\", \"categoryarray\": [\"0 \\u2013 17\", \"18 \\u2013 29\", \"30 \\u2013 49\", \"50 \\u2013 69\", \"70+\"], \"categoryorder\": \"array\", \"domain\": [0.0, 1.0], \"title\": {\"text\": \"Age Group\"}}, \"yaxis\": {\"anchor\": \"x\", \"domain\": [0.0, 1.0], \"title\": {}}},                        {\"responsive\": true}                    ).then(function(){\n",
              "                            \n",
              "var gd = document.getElementById('322b80e9-93ae-4a75-bf82-70f5cc37cc8f');\n",
              "var x = new MutationObserver(function (mutations, observer) {{\n",
              "        var display = window.getComputedStyle(gd).display;\n",
              "        if (!display || display === 'none') {{\n",
              "            console.log([gd, 'removed!']);\n",
              "            Plotly.purge(gd);\n",
              "            observer.disconnect();\n",
              "        }}\n",
              "}});\n",
              "\n",
              "// Listen for the removal of the full notebook cells\n",
              "var notebookContainer = gd.closest('#notebook-container');\n",
              "if (notebookContainer) {{\n",
              "    x.observe(notebookContainer, {childList: true});\n",
              "}}\n",
              "\n",
              "// Listen for the clearing of the current output cell\n",
              "var outputEl = gd.closest('.output');\n",
              "if (outputEl) {{\n",
              "    x.observe(outputEl, {childList: true});\n",
              "}}\n",
              "\n",
              "                        })                };                            </script>        </div>\n",
              "</body>\n",
              "</html>"
            ]
          },
          "metadata": {
            "tags": []
          }
        }
      ]
    },
    {
      "cell_type": "markdown",
      "metadata": {
        "id": "pv8ysthsE0jG"
      },
      "source": [
        "# Cases by Gender"
      ]
    },
    {
      "cell_type": "code",
      "metadata": {
        "id": "_mnaI0rjE2UV",
        "outputId": "1fce3221-e1b2-4e19-c18b-d3272e978d67",
        "colab": {
          "base_uri": "https://localhost:8080/",
          "height": 204
        }
      },
      "source": [
        "cases_by_gender.head()"
      ],
      "execution_count": 38,
      "outputs": [
        {
          "output_type": "execute_result",
          "data": {
            "text/html": [
              "<div>\n",
              "<style scoped>\n",
              "    .dataframe tbody tr th:only-of-type {\n",
              "        vertical-align: middle;\n",
              "    }\n",
              "\n",
              "    .dataframe tbody tr th {\n",
              "        vertical-align: top;\n",
              "    }\n",
              "\n",
              "    .dataframe thead th {\n",
              "        text-align: right;\n",
              "    }\n",
              "</style>\n",
              "<table border=\"1\" class=\"dataframe\">\n",
              "  <thead>\n",
              "    <tr style=\"text-align: right;\">\n",
              "      <th></th>\n",
              "      <th>Number of Cases by Gender</th>\n",
              "      <th>Daily</th>\n",
              "      <th>Community</th>\n",
              "      <th>Federal Prisonin Lompoc</th>\n",
              "      <th>Total  (Community &amp; Prison)</th>\n",
              "      <th>Date</th>\n",
              "    </tr>\n",
              "  </thead>\n",
              "  <tbody>\n",
              "    <tr>\n",
              "      <th>0</th>\n",
              "      <td>Female</td>\n",
              "      <td>16</td>\n",
              "      <td>4250</td>\n",
              "      <td>2</td>\n",
              "      <td>4252.0</td>\n",
              "      <td>October 20, 2020</td>\n",
              "    </tr>\n",
              "    <tr>\n",
              "      <th>1</th>\n",
              "      <td>Male</td>\n",
              "      <td>13</td>\n",
              "      <td>4300</td>\n",
              "      <td>1011</td>\n",
              "      <td>5311.0</td>\n",
              "      <td>October 20, 2020</td>\n",
              "    </tr>\n",
              "    <tr>\n",
              "      <th>2</th>\n",
              "      <td>Unknown</td>\n",
              "      <td>1</td>\n",
              "      <td>95</td>\n",
              "      <td>13</td>\n",
              "      <td>108.0</td>\n",
              "      <td>October 20, 2020</td>\n",
              "    </tr>\n",
              "    <tr>\n",
              "      <th>3</th>\n",
              "      <td>Pending</td>\n",
              "      <td>0</td>\n",
              "      <td>0</td>\n",
              "      <td>0</td>\n",
              "      <td>NaN</td>\n",
              "      <td>October 20, 2020</td>\n",
              "    </tr>\n",
              "    <tr>\n",
              "      <th>4</th>\n",
              "      <td>Female</td>\n",
              "      <td>9</td>\n",
              "      <td>4234</td>\n",
              "      <td>2</td>\n",
              "      <td>4236.0</td>\n",
              "      <td>October 19, 2020</td>\n",
              "    </tr>\n",
              "  </tbody>\n",
              "</table>\n",
              "</div>"
            ],
            "text/plain": [
              "  Number of Cases by Gender  ...              Date\n",
              "0                    Female  ...  October 20, 2020\n",
              "1                      Male  ...  October 20, 2020\n",
              "2                   Unknown  ...  October 20, 2020\n",
              "3                   Pending  ...  October 20, 2020\n",
              "4                    Female  ...  October 19, 2020\n",
              "\n",
              "[5 rows x 6 columns]"
            ]
          },
          "metadata": {
            "tags": []
          },
          "execution_count": 38
        }
      ]
    },
    {
      "cell_type": "code",
      "metadata": {
        "id": "LE9h-Oh8FC6J",
        "outputId": "2dfd2ca0-922d-4308-e657-61cd47a9b6d6",
        "colab": {
          "base_uri": "https://localhost:8080/",
          "height": 119
        }
      },
      "source": [
        "cases_by_gender.columns.to_list()"
      ],
      "execution_count": 39,
      "outputs": [
        {
          "output_type": "execute_result",
          "data": {
            "text/plain": [
              "['Number of Cases by Gender',\n",
              " 'Daily',\n",
              " 'Community',\n",
              " 'Federal Prisonin Lompoc',\n",
              " ' Total\\xa0 (Community & Prison)',\n",
              " 'Date']"
            ]
          },
          "metadata": {
            "tags": []
          },
          "execution_count": 39
        }
      ]
    },
    {
      "cell_type": "code",
      "metadata": {
        "id": "DEIEwgdjE2W8"
      },
      "source": [
        "#rename columns\n",
        "cases_by_gender.rename(columns = {'Number of Cases by Gender':'Gender',\n",
        "                                  'Federal Prisonin Lompoc':'Lompoc Federal Prison',\n",
        "                                  ' Total\\xa0 (Community & Prison)':'Total'}, inplace = True)"
      ],
      "execution_count": 40,
      "outputs": []
    },
    {
      "cell_type": "code",
      "metadata": {
        "id": "Ab07BxRgE2bG",
        "outputId": "c4987f7c-7a45-4a07-fc06-b92ddef1bff5",
        "colab": {
          "base_uri": "https://localhost:8080/",
          "height": 102
        }
      },
      "source": [
        "cases_by_gender['Gender'].value_counts()"
      ],
      "execution_count": 41,
      "outputs": [
        {
          "output_type": "execute_result",
          "data": {
            "text/plain": [
              "Male       75\n",
              "Pending    75\n",
              "Female     75\n",
              "Unknown    75\n",
              "Name: Gender, dtype: int64"
            ]
          },
          "metadata": {
            "tags": []
          },
          "execution_count": 41
        }
      ]
    },
    {
      "cell_type": "code",
      "metadata": {
        "id": "IZp90MSGFZED"
      },
      "source": [
        "#creating new dataframe for visualizations\n",
        "cases_by_gender['Gender'].replace({'Unknown':'Other'}, inplace = True)\n",
        "\n",
        "gender_viz = cases_by_gender[cases_by_gender['Gender'].isin(['Male','Female','Other'])]"
      ],
      "execution_count": 42,
      "outputs": []
    },
    {
      "cell_type": "code",
      "metadata": {
        "id": "8MSJymRcFwBQ",
        "outputId": "4156a692-d87b-4386-ad6b-10ef675ffa3b",
        "colab": {
          "base_uri": "https://localhost:8080/",
          "height": 136
        }
      },
      "source": [
        "gender_viz.isna().sum()"
      ],
      "execution_count": 43,
      "outputs": [
        {
          "output_type": "execute_result",
          "data": {
            "text/plain": [
              "Gender                   0\n",
              "Daily                    0\n",
              "Community                0\n",
              "Lompoc Federal Prison    0\n",
              "Total                    0\n",
              "Date                     0\n",
              "dtype: int64"
            ]
          },
          "metadata": {
            "tags": []
          },
          "execution_count": 43
        }
      ]
    },
    {
      "cell_type": "code",
      "metadata": {
        "id": "Nr6D0813n9q2",
        "outputId": "d9242bd9-0a26-43a5-c417-82147f19623b",
        "colab": {
          "base_uri": "https://localhost:8080/",
          "height": 204
        }
      },
      "source": [
        "gender_viz.head()"
      ],
      "execution_count": 101,
      "outputs": [
        {
          "output_type": "execute_result",
          "data": {
            "text/html": [
              "<div>\n",
              "<style scoped>\n",
              "    .dataframe tbody tr th:only-of-type {\n",
              "        vertical-align: middle;\n",
              "    }\n",
              "\n",
              "    .dataframe tbody tr th {\n",
              "        vertical-align: top;\n",
              "    }\n",
              "\n",
              "    .dataframe thead th {\n",
              "        text-align: right;\n",
              "    }\n",
              "</style>\n",
              "<table border=\"1\" class=\"dataframe\">\n",
              "  <thead>\n",
              "    <tr style=\"text-align: right;\">\n",
              "      <th></th>\n",
              "      <th>Gender</th>\n",
              "      <th>Daily</th>\n",
              "      <th>Community</th>\n",
              "      <th>Lompoc Federal Prison</th>\n",
              "      <th>Total</th>\n",
              "      <th>Date</th>\n",
              "    </tr>\n",
              "  </thead>\n",
              "  <tbody>\n",
              "    <tr>\n",
              "      <th>0</th>\n",
              "      <td>Female</td>\n",
              "      <td>16</td>\n",
              "      <td>4250</td>\n",
              "      <td>2</td>\n",
              "      <td>4252.0</td>\n",
              "      <td>October 20, 2020</td>\n",
              "    </tr>\n",
              "    <tr>\n",
              "      <th>1</th>\n",
              "      <td>Male</td>\n",
              "      <td>13</td>\n",
              "      <td>4300</td>\n",
              "      <td>1011</td>\n",
              "      <td>5311.0</td>\n",
              "      <td>October 20, 2020</td>\n",
              "    </tr>\n",
              "    <tr>\n",
              "      <th>2</th>\n",
              "      <td>Other</td>\n",
              "      <td>1</td>\n",
              "      <td>95</td>\n",
              "      <td>13</td>\n",
              "      <td>108.0</td>\n",
              "      <td>October 20, 2020</td>\n",
              "    </tr>\n",
              "    <tr>\n",
              "      <th>4</th>\n",
              "      <td>Female</td>\n",
              "      <td>9</td>\n",
              "      <td>4234</td>\n",
              "      <td>2</td>\n",
              "      <td>4236.0</td>\n",
              "      <td>October 19, 2020</td>\n",
              "    </tr>\n",
              "    <tr>\n",
              "      <th>5</th>\n",
              "      <td>Male</td>\n",
              "      <td>15</td>\n",
              "      <td>4287</td>\n",
              "      <td>1011</td>\n",
              "      <td>5298.0</td>\n",
              "      <td>October 19, 2020</td>\n",
              "    </tr>\n",
              "  </tbody>\n",
              "</table>\n",
              "</div>"
            ],
            "text/plain": [
              "   Gender  Daily  Community  Lompoc Federal Prison   Total              Date\n",
              "0  Female     16       4250                      2  4252.0  October 20, 2020\n",
              "1    Male     13       4300                   1011  5311.0  October 20, 2020\n",
              "2   Other      1         95                     13   108.0  October 20, 2020\n",
              "4  Female      9       4234                      2  4236.0  October 19, 2020\n",
              "5    Male     15       4287                   1011  5298.0  October 19, 2020"
            ]
          },
          "metadata": {
            "tags": []
          },
          "execution_count": 101
        }
      ]
    },
    {
      "cell_type": "code",
      "metadata": {
        "id": "qZqfGDe3oAfe"
      },
      "source": [
        "#calculating totals by date to calculate percentage of total for each gender\n",
        "totals_community = gender_viz.groupby('Date')['Community'].agg('sum')\n",
        "totals_prison = gender_viz.groupby('Date')['Lompoc Federal Prison'].agg('sum')\n",
        "totals = gender_viz.groupby('Date')['Total'].agg('sum')"
      ],
      "execution_count": 107,
      "outputs": []
    },
    {
      "cell_type": "code",
      "metadata": {
        "id": "kg5DSLTqomb7",
        "outputId": "c267d2f0-5419-4256-f913-a8f30aec91e5",
        "colab": {
          "base_uri": "https://localhost:8080/",
          "height": 425
        }
      },
      "source": [
        "#creating new columns showing the case count as a percentage of the total\n",
        "gender_viz['Percentage of Community Cases'] = gender_viz.apply(lambda x: round(((x.Community / totals_community[totals_community.index == x.Date].values[0]) * 100), 2), axis = 1)\n",
        "\n",
        "gender_viz['Percentage of Prison Cases'] = gender_viz.apply(lambda x: round(((x['Lompoc Federal Prison'] / totals_prison[totals_prison.index == x.Date].values[0]) * 100), 2), axis = 1)\n",
        "\n",
        "gender_viz['Percentage of Total Cases'] = gender_viz.apply(lambda x: round(((x.Total / totals[totals.index == x.Date].values[0]) * 100), 2), axis = 1)"
      ],
      "execution_count": 108,
      "outputs": [
        {
          "output_type": "stream",
          "text": [
            "/usr/local/lib/python3.6/dist-packages/ipykernel_launcher.py:2: SettingWithCopyWarning:\n",
            "\n",
            "\n",
            "A value is trying to be set on a copy of a slice from a DataFrame.\n",
            "Try using .loc[row_indexer,col_indexer] = value instead\n",
            "\n",
            "See the caveats in the documentation: https://pandas.pydata.org/pandas-docs/stable/user_guide/indexing.html#returning-a-view-versus-a-copy\n",
            "\n",
            "/usr/local/lib/python3.6/dist-packages/ipykernel_launcher.py:4: SettingWithCopyWarning:\n",
            "\n",
            "\n",
            "A value is trying to be set on a copy of a slice from a DataFrame.\n",
            "Try using .loc[row_indexer,col_indexer] = value instead\n",
            "\n",
            "See the caveats in the documentation: https://pandas.pydata.org/pandas-docs/stable/user_guide/indexing.html#returning-a-view-versus-a-copy\n",
            "\n",
            "/usr/local/lib/python3.6/dist-packages/ipykernel_launcher.py:6: SettingWithCopyWarning:\n",
            "\n",
            "\n",
            "A value is trying to be set on a copy of a slice from a DataFrame.\n",
            "Try using .loc[row_indexer,col_indexer] = value instead\n",
            "\n",
            "See the caveats in the documentation: https://pandas.pydata.org/pandas-docs/stable/user_guide/indexing.html#returning-a-view-versus-a-copy\n",
            "\n"
          ],
          "name": "stderr"
        }
      ]
    },
    {
      "cell_type": "code",
      "metadata": {
        "id": "9thmaB49pIkn",
        "outputId": "4bba83b6-4869-49b2-c80d-25f0db52f4c2",
        "colab": {
          "base_uri": "https://localhost:8080/",
          "height": 204
        }
      },
      "source": [
        "gender_viz.head()"
      ],
      "execution_count": 109,
      "outputs": [
        {
          "output_type": "execute_result",
          "data": {
            "text/html": [
              "<div>\n",
              "<style scoped>\n",
              "    .dataframe tbody tr th:only-of-type {\n",
              "        vertical-align: middle;\n",
              "    }\n",
              "\n",
              "    .dataframe tbody tr th {\n",
              "        vertical-align: top;\n",
              "    }\n",
              "\n",
              "    .dataframe thead th {\n",
              "        text-align: right;\n",
              "    }\n",
              "</style>\n",
              "<table border=\"1\" class=\"dataframe\">\n",
              "  <thead>\n",
              "    <tr style=\"text-align: right;\">\n",
              "      <th></th>\n",
              "      <th>Gender</th>\n",
              "      <th>Daily</th>\n",
              "      <th>Community</th>\n",
              "      <th>Lompoc Federal Prison</th>\n",
              "      <th>Total</th>\n",
              "      <th>Date</th>\n",
              "      <th>Percentage of Community Cases</th>\n",
              "      <th>Percentage of Prison Cases</th>\n",
              "      <th>Percentage of Total Cases</th>\n",
              "    </tr>\n",
              "  </thead>\n",
              "  <tbody>\n",
              "    <tr>\n",
              "      <th>0</th>\n",
              "      <td>Female</td>\n",
              "      <td>16</td>\n",
              "      <td>4250</td>\n",
              "      <td>2</td>\n",
              "      <td>4252.0</td>\n",
              "      <td>October 20, 2020</td>\n",
              "      <td>49.16</td>\n",
              "      <td>0.19</td>\n",
              "      <td>43.97</td>\n",
              "    </tr>\n",
              "    <tr>\n",
              "      <th>1</th>\n",
              "      <td>Male</td>\n",
              "      <td>13</td>\n",
              "      <td>4300</td>\n",
              "      <td>1011</td>\n",
              "      <td>5311.0</td>\n",
              "      <td>October 20, 2020</td>\n",
              "      <td>49.74</td>\n",
              "      <td>98.54</td>\n",
              "      <td>54.92</td>\n",
              "    </tr>\n",
              "    <tr>\n",
              "      <th>2</th>\n",
              "      <td>Other</td>\n",
              "      <td>1</td>\n",
              "      <td>95</td>\n",
              "      <td>13</td>\n",
              "      <td>108.0</td>\n",
              "      <td>October 20, 2020</td>\n",
              "      <td>1.10</td>\n",
              "      <td>1.27</td>\n",
              "      <td>1.12</td>\n",
              "    </tr>\n",
              "    <tr>\n",
              "      <th>4</th>\n",
              "      <td>Female</td>\n",
              "      <td>9</td>\n",
              "      <td>4234</td>\n",
              "      <td>2</td>\n",
              "      <td>4236.0</td>\n",
              "      <td>October 19, 2020</td>\n",
              "      <td>49.15</td>\n",
              "      <td>0.19</td>\n",
              "      <td>43.94</td>\n",
              "    </tr>\n",
              "    <tr>\n",
              "      <th>5</th>\n",
              "      <td>Male</td>\n",
              "      <td>15</td>\n",
              "      <td>4287</td>\n",
              "      <td>1011</td>\n",
              "      <td>5298.0</td>\n",
              "      <td>October 19, 2020</td>\n",
              "      <td>49.76</td>\n",
              "      <td>98.54</td>\n",
              "      <td>54.95</td>\n",
              "    </tr>\n",
              "  </tbody>\n",
              "</table>\n",
              "</div>"
            ],
            "text/plain": [
              "   Gender  Daily  ...  Percentage of Prison Cases  Percentage of Total Cases\n",
              "0  Female     16  ...                        0.19                      43.97\n",
              "1    Male     13  ...                       98.54                      54.92\n",
              "2   Other      1  ...                        1.27                       1.12\n",
              "4  Female      9  ...                        0.19                      43.94\n",
              "5    Male     15  ...                       98.54                      54.95\n",
              "\n",
              "[5 rows x 9 columns]"
            ]
          },
          "metadata": {
            "tags": []
          },
          "execution_count": 109
        }
      ]
    },
    {
      "cell_type": "code",
      "metadata": {
        "id": "BngF-62Hqgh-"
      },
      "source": [
        "#creating dictionary so that the following function can be run with a single input across the entire dashboard\n",
        "column_dict = {'Community':'Percentage of Community Cases',\n",
        "               'Lompoc Federal Prison':'Percentage of Prison Cases',\n",
        "               'Total':'Percentage of Total Cases'}"
      ],
      "execution_count": 110,
      "outputs": []
    },
    {
      "cell_type": "code",
      "metadata": {
        "id": "H8KXQx3EqJMQ"
      },
      "source": [
        "def create_pie_chart(date, column_name):\n",
        "  fig = px.pie(gender_viz[gender_viz['Date'] == date],\n",
        "               values = column_dict[column_name],\n",
        "               names = 'Gender',\n",
        "               color = 'Gender',\n",
        "               template = 'plotly_dark',\n",
        "               title = column_dict[column_name] + ' by Gender<br>as of ' + date,\n",
        "               color_discrete_sequence = px.colors.qualitative.D3,\n",
        "               width = 650)\n",
        "  \n",
        "  fig.update_layout(font_family = 'Courier',\n",
        "                    font_color = 'white',\n",
        "                    title_font_size = 24,\n",
        "                    legend = dict(\n",
        "                        orientation = 'h',\n",
        "                        yanchor = 'bottom',\n",
        "                        y = -0.2,\n",
        "                        xanchor = 'left',\n",
        "                        x = -0.2\n",
        "                    ))\n",
        "\n",
        "  fig.show()"
      ],
      "execution_count": 128,
      "outputs": []
    },
    {
      "cell_type": "code",
      "metadata": {
        "id": "35keALs-qlPF",
        "outputId": "9f3a14fe-486b-49b9-f2fa-731b6819d9b9",
        "colab": {
          "base_uri": "https://localhost:8080/",
          "height": 542
        }
      },
      "source": [
        "create_pie_chart('October 20, 2020','Community')"
      ],
      "execution_count": 129,
      "outputs": [
        {
          "output_type": "display_data",
          "data": {
            "text/html": [
              "<html>\n",
              "<head><meta charset=\"utf-8\" /></head>\n",
              "<body>\n",
              "    <div>            <script src=\"https://cdnjs.cloudflare.com/ajax/libs/mathjax/2.7.5/MathJax.js?config=TeX-AMS-MML_SVG\"></script><script type=\"text/javascript\">if (window.MathJax) {MathJax.Hub.Config({SVG: {font: \"STIX-Web\"}});}</script>                <script type=\"text/javascript\">window.PlotlyConfig = {MathJaxConfig: 'local'};</script>\n",
              "        <script src=\"https://cdn.plot.ly/plotly-latest.min.js\"></script>                <div id=\"3053e3ff-71ba-4512-bea5-ed1e75b143da\" class=\"plotly-graph-div\" style=\"height:525px; width:650px;\"></div>            <script type=\"text/javascript\">                                    window.PLOTLYENV=window.PLOTLYENV || {};                                    if (document.getElementById(\"3053e3ff-71ba-4512-bea5-ed1e75b143da\")) {                    Plotly.newPlot(                        \"3053e3ff-71ba-4512-bea5-ed1e75b143da\",                        [{\"customdata\": [[\"Female\"], [\"Male\"], [\"Other\"]], \"domain\": {\"x\": [0.0, 1.0], \"y\": [0.0, 1.0]}, \"hovertemplate\": \"Gender=%{customdata[0]}<br>Percentage of Community Cases=%{value}<extra></extra>\", \"labels\": [\"Female\", \"Male\", \"Other\"], \"legendgroup\": \"\", \"marker\": {\"colors\": [\"#1F77B4\", \"#FF7F0E\", \"#2CA02C\"]}, \"name\": \"\", \"showlegend\": true, \"type\": \"pie\", \"values\": [49.16, 49.74, 1.1]}],                        {\"font\": {\"color\": \"white\", \"family\": \"Courier\"}, \"legend\": {\"orientation\": \"h\", \"tracegroupgap\": 0, \"x\": -0.2, \"xanchor\": \"left\", \"y\": -0.2, \"yanchor\": \"bottom\"}, \"piecolorway\": [\"#1F77B4\", \"#FF7F0E\", \"#2CA02C\", \"#D62728\", \"#9467BD\", \"#8C564B\", \"#E377C2\", \"#7F7F7F\", \"#BCBD22\", \"#17BECF\"], \"template\": {\"data\": {\"bar\": [{\"error_x\": {\"color\": \"#f2f5fa\"}, \"error_y\": {\"color\": \"#f2f5fa\"}, \"marker\": {\"line\": {\"color\": \"rgb(17,17,17)\", \"width\": 0.5}}, \"type\": \"bar\"}], \"barpolar\": [{\"marker\": {\"line\": {\"color\": \"rgb(17,17,17)\", \"width\": 0.5}}, \"type\": \"barpolar\"}], \"carpet\": [{\"aaxis\": {\"endlinecolor\": \"#A2B1C6\", \"gridcolor\": \"#506784\", \"linecolor\": \"#506784\", \"minorgridcolor\": \"#506784\", \"startlinecolor\": \"#A2B1C6\"}, \"baxis\": {\"endlinecolor\": \"#A2B1C6\", \"gridcolor\": \"#506784\", \"linecolor\": \"#506784\", \"minorgridcolor\": \"#506784\", \"startlinecolor\": \"#A2B1C6\"}, \"type\": \"carpet\"}], \"choropleth\": [{\"colorbar\": {\"outlinewidth\": 0, \"ticks\": \"\"}, \"type\": \"choropleth\"}], \"contour\": [{\"colorbar\": {\"outlinewidth\": 0, \"ticks\": \"\"}, \"colorscale\": [[0.0, \"#0d0887\"], [0.1111111111111111, \"#46039f\"], [0.2222222222222222, \"#7201a8\"], [0.3333333333333333, \"#9c179e\"], [0.4444444444444444, \"#bd3786\"], [0.5555555555555556, \"#d8576b\"], [0.6666666666666666, \"#ed7953\"], [0.7777777777777778, \"#fb9f3a\"], [0.8888888888888888, \"#fdca26\"], [1.0, \"#f0f921\"]], \"type\": \"contour\"}], \"contourcarpet\": [{\"colorbar\": {\"outlinewidth\": 0, \"ticks\": \"\"}, \"type\": \"contourcarpet\"}], \"heatmap\": [{\"colorbar\": {\"outlinewidth\": 0, \"ticks\": \"\"}, \"colorscale\": [[0.0, \"#0d0887\"], [0.1111111111111111, \"#46039f\"], [0.2222222222222222, \"#7201a8\"], [0.3333333333333333, \"#9c179e\"], [0.4444444444444444, \"#bd3786\"], [0.5555555555555556, \"#d8576b\"], [0.6666666666666666, \"#ed7953\"], [0.7777777777777778, \"#fb9f3a\"], [0.8888888888888888, \"#fdca26\"], [1.0, \"#f0f921\"]], \"type\": \"heatmap\"}], \"heatmapgl\": [{\"colorbar\": {\"outlinewidth\": 0, \"ticks\": \"\"}, \"colorscale\": [[0.0, \"#0d0887\"], [0.1111111111111111, \"#46039f\"], [0.2222222222222222, \"#7201a8\"], [0.3333333333333333, \"#9c179e\"], [0.4444444444444444, \"#bd3786\"], [0.5555555555555556, \"#d8576b\"], [0.6666666666666666, \"#ed7953\"], [0.7777777777777778, \"#fb9f3a\"], [0.8888888888888888, \"#fdca26\"], [1.0, \"#f0f921\"]], \"type\": \"heatmapgl\"}], \"histogram\": [{\"marker\": {\"colorbar\": {\"outlinewidth\": 0, \"ticks\": \"\"}}, \"type\": \"histogram\"}], \"histogram2d\": [{\"colorbar\": {\"outlinewidth\": 0, \"ticks\": \"\"}, \"colorscale\": [[0.0, \"#0d0887\"], [0.1111111111111111, \"#46039f\"], [0.2222222222222222, \"#7201a8\"], [0.3333333333333333, \"#9c179e\"], [0.4444444444444444, \"#bd3786\"], [0.5555555555555556, \"#d8576b\"], [0.6666666666666666, \"#ed7953\"], [0.7777777777777778, \"#fb9f3a\"], [0.8888888888888888, \"#fdca26\"], [1.0, \"#f0f921\"]], \"type\": \"histogram2d\"}], \"histogram2dcontour\": [{\"colorbar\": {\"outlinewidth\": 0, \"ticks\": \"\"}, \"colorscale\": [[0.0, \"#0d0887\"], [0.1111111111111111, \"#46039f\"], [0.2222222222222222, \"#7201a8\"], [0.3333333333333333, \"#9c179e\"], [0.4444444444444444, \"#bd3786\"], [0.5555555555555556, \"#d8576b\"], [0.6666666666666666, \"#ed7953\"], [0.7777777777777778, \"#fb9f3a\"], [0.8888888888888888, \"#fdca26\"], [1.0, \"#f0f921\"]], \"type\": \"histogram2dcontour\"}], \"mesh3d\": [{\"colorbar\": {\"outlinewidth\": 0, \"ticks\": \"\"}, \"type\": \"mesh3d\"}], \"parcoords\": [{\"line\": {\"colorbar\": {\"outlinewidth\": 0, \"ticks\": \"\"}}, \"type\": \"parcoords\"}], \"pie\": [{\"automargin\": true, \"type\": \"pie\"}], \"scatter\": [{\"marker\": {\"line\": {\"color\": \"#283442\"}}, \"type\": \"scatter\"}], \"scatter3d\": [{\"line\": {\"colorbar\": {\"outlinewidth\": 0, \"ticks\": \"\"}}, \"marker\": {\"colorbar\": {\"outlinewidth\": 0, \"ticks\": \"\"}}, \"type\": \"scatter3d\"}], \"scattercarpet\": [{\"marker\": {\"colorbar\": {\"outlinewidth\": 0, \"ticks\": \"\"}}, \"type\": \"scattercarpet\"}], \"scattergeo\": [{\"marker\": {\"colorbar\": {\"outlinewidth\": 0, \"ticks\": \"\"}}, \"type\": \"scattergeo\"}], \"scattergl\": [{\"marker\": {\"line\": {\"color\": \"#283442\"}}, \"type\": \"scattergl\"}], \"scattermapbox\": [{\"marker\": {\"colorbar\": {\"outlinewidth\": 0, \"ticks\": \"\"}}, \"type\": \"scattermapbox\"}], \"scatterpolar\": [{\"marker\": {\"colorbar\": {\"outlinewidth\": 0, \"ticks\": \"\"}}, \"type\": \"scatterpolar\"}], \"scatterpolargl\": [{\"marker\": {\"colorbar\": {\"outlinewidth\": 0, \"ticks\": \"\"}}, \"type\": \"scatterpolargl\"}], \"scatterternary\": [{\"marker\": {\"colorbar\": {\"outlinewidth\": 0, \"ticks\": \"\"}}, \"type\": \"scatterternary\"}], \"surface\": [{\"colorbar\": {\"outlinewidth\": 0, \"ticks\": \"\"}, \"colorscale\": [[0.0, \"#0d0887\"], [0.1111111111111111, \"#46039f\"], [0.2222222222222222, \"#7201a8\"], [0.3333333333333333, \"#9c179e\"], [0.4444444444444444, \"#bd3786\"], [0.5555555555555556, \"#d8576b\"], [0.6666666666666666, \"#ed7953\"], [0.7777777777777778, \"#fb9f3a\"], [0.8888888888888888, \"#fdca26\"], [1.0, \"#f0f921\"]], \"type\": \"surface\"}], \"table\": [{\"cells\": {\"fill\": {\"color\": \"#506784\"}, \"line\": {\"color\": \"rgb(17,17,17)\"}}, \"header\": {\"fill\": {\"color\": \"#2a3f5f\"}, \"line\": {\"color\": \"rgb(17,17,17)\"}}, \"type\": \"table\"}]}, \"layout\": {\"annotationdefaults\": {\"arrowcolor\": \"#f2f5fa\", \"arrowhead\": 0, \"arrowwidth\": 1}, \"coloraxis\": {\"colorbar\": {\"outlinewidth\": 0, \"ticks\": \"\"}}, \"colorscale\": {\"diverging\": [[0, \"#8e0152\"], [0.1, \"#c51b7d\"], [0.2, \"#de77ae\"], [0.3, \"#f1b6da\"], [0.4, \"#fde0ef\"], [0.5, \"#f7f7f7\"], [0.6, \"#e6f5d0\"], [0.7, \"#b8e186\"], [0.8, \"#7fbc41\"], [0.9, \"#4d9221\"], [1, \"#276419\"]], \"sequential\": [[0.0, \"#0d0887\"], [0.1111111111111111, \"#46039f\"], [0.2222222222222222, \"#7201a8\"], [0.3333333333333333, \"#9c179e\"], [0.4444444444444444, \"#bd3786\"], [0.5555555555555556, \"#d8576b\"], [0.6666666666666666, \"#ed7953\"], [0.7777777777777778, \"#fb9f3a\"], [0.8888888888888888, \"#fdca26\"], [1.0, \"#f0f921\"]], \"sequentialminus\": [[0.0, \"#0d0887\"], [0.1111111111111111, \"#46039f\"], [0.2222222222222222, \"#7201a8\"], [0.3333333333333333, \"#9c179e\"], [0.4444444444444444, \"#bd3786\"], [0.5555555555555556, \"#d8576b\"], [0.6666666666666666, \"#ed7953\"], [0.7777777777777778, \"#fb9f3a\"], [0.8888888888888888, \"#fdca26\"], [1.0, \"#f0f921\"]]}, \"colorway\": [\"#636efa\", \"#EF553B\", \"#00cc96\", \"#ab63fa\", \"#FFA15A\", \"#19d3f3\", \"#FF6692\", \"#B6E880\", \"#FF97FF\", \"#FECB52\"], \"font\": {\"color\": \"#f2f5fa\"}, \"geo\": {\"bgcolor\": \"rgb(17,17,17)\", \"lakecolor\": \"rgb(17,17,17)\", \"landcolor\": \"rgb(17,17,17)\", \"showlakes\": true, \"showland\": true, \"subunitcolor\": \"#506784\"}, \"hoverlabel\": {\"align\": \"left\"}, \"hovermode\": \"closest\", \"mapbox\": {\"style\": \"dark\"}, \"paper_bgcolor\": \"rgb(17,17,17)\", \"plot_bgcolor\": \"rgb(17,17,17)\", \"polar\": {\"angularaxis\": {\"gridcolor\": \"#506784\", \"linecolor\": \"#506784\", \"ticks\": \"\"}, \"bgcolor\": \"rgb(17,17,17)\", \"radialaxis\": {\"gridcolor\": \"#506784\", \"linecolor\": \"#506784\", \"ticks\": \"\"}}, \"scene\": {\"xaxis\": {\"backgroundcolor\": \"rgb(17,17,17)\", \"gridcolor\": \"#506784\", \"gridwidth\": 2, \"linecolor\": \"#506784\", \"showbackground\": true, \"ticks\": \"\", \"zerolinecolor\": \"#C8D4E3\"}, \"yaxis\": {\"backgroundcolor\": \"rgb(17,17,17)\", \"gridcolor\": \"#506784\", \"gridwidth\": 2, \"linecolor\": \"#506784\", \"showbackground\": true, \"ticks\": \"\", \"zerolinecolor\": \"#C8D4E3\"}, \"zaxis\": {\"backgroundcolor\": \"rgb(17,17,17)\", \"gridcolor\": \"#506784\", \"gridwidth\": 2, \"linecolor\": \"#506784\", \"showbackground\": true, \"ticks\": \"\", \"zerolinecolor\": \"#C8D4E3\"}}, \"shapedefaults\": {\"line\": {\"color\": \"#f2f5fa\"}}, \"sliderdefaults\": {\"bgcolor\": \"#C8D4E3\", \"bordercolor\": \"rgb(17,17,17)\", \"borderwidth\": 1, \"tickwidth\": 0}, \"ternary\": {\"aaxis\": {\"gridcolor\": \"#506784\", \"linecolor\": \"#506784\", \"ticks\": \"\"}, \"baxis\": {\"gridcolor\": \"#506784\", \"linecolor\": \"#506784\", \"ticks\": \"\"}, \"bgcolor\": \"rgb(17,17,17)\", \"caxis\": {\"gridcolor\": \"#506784\", \"linecolor\": \"#506784\", \"ticks\": \"\"}}, \"title\": {\"x\": 0.05}, \"updatemenudefaults\": {\"bgcolor\": \"#506784\", \"borderwidth\": 0}, \"xaxis\": {\"automargin\": true, \"gridcolor\": \"#283442\", \"linecolor\": \"#506784\", \"ticks\": \"\", \"title\": {\"standoff\": 15}, \"zerolinecolor\": \"#283442\", \"zerolinewidth\": 2}, \"yaxis\": {\"automargin\": true, \"gridcolor\": \"#283442\", \"linecolor\": \"#506784\", \"ticks\": \"\", \"title\": {\"standoff\": 15}, \"zerolinecolor\": \"#283442\", \"zerolinewidth\": 2}}}, \"title\": {\"font\": {\"size\": 24}, \"text\": \"Percentage of Community Cases by Gender<br>as of October 20, 2020\"}, \"width\": 650},                        {\"responsive\": true}                    ).then(function(){\n",
              "                            \n",
              "var gd = document.getElementById('3053e3ff-71ba-4512-bea5-ed1e75b143da');\n",
              "var x = new MutationObserver(function (mutations, observer) {{\n",
              "        var display = window.getComputedStyle(gd).display;\n",
              "        if (!display || display === 'none') {{\n",
              "            console.log([gd, 'removed!']);\n",
              "            Plotly.purge(gd);\n",
              "            observer.disconnect();\n",
              "        }}\n",
              "}});\n",
              "\n",
              "// Listen for the removal of the full notebook cells\n",
              "var notebookContainer = gd.closest('#notebook-container');\n",
              "if (notebookContainer) {{\n",
              "    x.observe(notebookContainer, {childList: true});\n",
              "}}\n",
              "\n",
              "// Listen for the clearing of the current output cell\n",
              "var outputEl = gd.closest('.output');\n",
              "if (outputEl) {{\n",
              "    x.observe(outputEl, {childList: true});\n",
              "}}\n",
              "\n",
              "                        })                };                            </script>        </div>\n",
              "</body>\n",
              "</html>"
            ]
          },
          "metadata": {
            "tags": []
          }
        }
      ]
    },
    {
      "cell_type": "code",
      "metadata": {
        "id": "R16pk8pzq2DU",
        "outputId": "b3f5ecef-0a6a-49ca-dc7f-ba487fc7b17d",
        "colab": {
          "base_uri": "https://localhost:8080/",
          "height": 542
        }
      },
      "source": [
        "create_pie_chart('October 20, 2020','Lompoc Federal Prison')"
      ],
      "execution_count": 130,
      "outputs": [
        {
          "output_type": "display_data",
          "data": {
            "text/html": [
              "<html>\n",
              "<head><meta charset=\"utf-8\" /></head>\n",
              "<body>\n",
              "    <div>            <script src=\"https://cdnjs.cloudflare.com/ajax/libs/mathjax/2.7.5/MathJax.js?config=TeX-AMS-MML_SVG\"></script><script type=\"text/javascript\">if (window.MathJax) {MathJax.Hub.Config({SVG: {font: \"STIX-Web\"}});}</script>                <script type=\"text/javascript\">window.PlotlyConfig = {MathJaxConfig: 'local'};</script>\n",
              "        <script src=\"https://cdn.plot.ly/plotly-latest.min.js\"></script>                <div id=\"efd4a0bc-0001-4aea-8720-44578704d6ce\" class=\"plotly-graph-div\" style=\"height:525px; width:650px;\"></div>            <script type=\"text/javascript\">                                    window.PLOTLYENV=window.PLOTLYENV || {};                                    if (document.getElementById(\"efd4a0bc-0001-4aea-8720-44578704d6ce\")) {                    Plotly.newPlot(                        \"efd4a0bc-0001-4aea-8720-44578704d6ce\",                        [{\"customdata\": [[\"Female\"], [\"Male\"], [\"Other\"]], \"domain\": {\"x\": [0.0, 1.0], \"y\": [0.0, 1.0]}, \"hovertemplate\": \"Gender=%{customdata[0]}<br>Percentage of Prison Cases=%{value}<extra></extra>\", \"labels\": [\"Female\", \"Male\", \"Other\"], \"legendgroup\": \"\", \"marker\": {\"colors\": [\"#1F77B4\", \"#FF7F0E\", \"#2CA02C\"]}, \"name\": \"\", \"showlegend\": true, \"type\": \"pie\", \"values\": [0.19, 98.54, 1.27]}],                        {\"font\": {\"color\": \"white\", \"family\": \"Courier\"}, \"legend\": {\"orientation\": \"h\", \"tracegroupgap\": 0, \"x\": -0.2, \"xanchor\": \"left\", \"y\": -0.2, \"yanchor\": \"bottom\"}, \"piecolorway\": [\"#1F77B4\", \"#FF7F0E\", \"#2CA02C\", \"#D62728\", \"#9467BD\", \"#8C564B\", \"#E377C2\", \"#7F7F7F\", \"#BCBD22\", \"#17BECF\"], \"template\": {\"data\": {\"bar\": [{\"error_x\": {\"color\": \"#f2f5fa\"}, \"error_y\": {\"color\": \"#f2f5fa\"}, \"marker\": {\"line\": {\"color\": \"rgb(17,17,17)\", \"width\": 0.5}}, \"type\": \"bar\"}], \"barpolar\": [{\"marker\": {\"line\": {\"color\": \"rgb(17,17,17)\", \"width\": 0.5}}, \"type\": \"barpolar\"}], \"carpet\": [{\"aaxis\": {\"endlinecolor\": \"#A2B1C6\", \"gridcolor\": \"#506784\", \"linecolor\": \"#506784\", \"minorgridcolor\": \"#506784\", \"startlinecolor\": \"#A2B1C6\"}, \"baxis\": {\"endlinecolor\": \"#A2B1C6\", \"gridcolor\": \"#506784\", \"linecolor\": \"#506784\", \"minorgridcolor\": \"#506784\", \"startlinecolor\": \"#A2B1C6\"}, \"type\": \"carpet\"}], \"choropleth\": [{\"colorbar\": {\"outlinewidth\": 0, \"ticks\": \"\"}, \"type\": \"choropleth\"}], \"contour\": [{\"colorbar\": {\"outlinewidth\": 0, \"ticks\": \"\"}, \"colorscale\": [[0.0, \"#0d0887\"], [0.1111111111111111, \"#46039f\"], [0.2222222222222222, \"#7201a8\"], [0.3333333333333333, \"#9c179e\"], [0.4444444444444444, \"#bd3786\"], [0.5555555555555556, \"#d8576b\"], [0.6666666666666666, \"#ed7953\"], [0.7777777777777778, \"#fb9f3a\"], [0.8888888888888888, \"#fdca26\"], [1.0, \"#f0f921\"]], \"type\": \"contour\"}], \"contourcarpet\": [{\"colorbar\": {\"outlinewidth\": 0, \"ticks\": \"\"}, \"type\": \"contourcarpet\"}], \"heatmap\": [{\"colorbar\": {\"outlinewidth\": 0, \"ticks\": \"\"}, \"colorscale\": [[0.0, \"#0d0887\"], [0.1111111111111111, \"#46039f\"], [0.2222222222222222, \"#7201a8\"], [0.3333333333333333, \"#9c179e\"], [0.4444444444444444, \"#bd3786\"], [0.5555555555555556, \"#d8576b\"], [0.6666666666666666, \"#ed7953\"], [0.7777777777777778, \"#fb9f3a\"], [0.8888888888888888, \"#fdca26\"], [1.0, \"#f0f921\"]], \"type\": \"heatmap\"}], \"heatmapgl\": [{\"colorbar\": {\"outlinewidth\": 0, \"ticks\": \"\"}, \"colorscale\": [[0.0, \"#0d0887\"], [0.1111111111111111, \"#46039f\"], [0.2222222222222222, \"#7201a8\"], [0.3333333333333333, \"#9c179e\"], [0.4444444444444444, \"#bd3786\"], [0.5555555555555556, \"#d8576b\"], [0.6666666666666666, \"#ed7953\"], [0.7777777777777778, \"#fb9f3a\"], [0.8888888888888888, \"#fdca26\"], [1.0, \"#f0f921\"]], \"type\": \"heatmapgl\"}], \"histogram\": [{\"marker\": {\"colorbar\": {\"outlinewidth\": 0, \"ticks\": \"\"}}, \"type\": \"histogram\"}], \"histogram2d\": [{\"colorbar\": {\"outlinewidth\": 0, \"ticks\": \"\"}, \"colorscale\": [[0.0, \"#0d0887\"], [0.1111111111111111, \"#46039f\"], [0.2222222222222222, \"#7201a8\"], [0.3333333333333333, \"#9c179e\"], [0.4444444444444444, \"#bd3786\"], [0.5555555555555556, \"#d8576b\"], [0.6666666666666666, \"#ed7953\"], [0.7777777777777778, \"#fb9f3a\"], [0.8888888888888888, \"#fdca26\"], [1.0, \"#f0f921\"]], \"type\": \"histogram2d\"}], \"histogram2dcontour\": [{\"colorbar\": {\"outlinewidth\": 0, \"ticks\": \"\"}, \"colorscale\": [[0.0, \"#0d0887\"], [0.1111111111111111, \"#46039f\"], [0.2222222222222222, \"#7201a8\"], [0.3333333333333333, \"#9c179e\"], [0.4444444444444444, \"#bd3786\"], [0.5555555555555556, \"#d8576b\"], [0.6666666666666666, \"#ed7953\"], [0.7777777777777778, \"#fb9f3a\"], [0.8888888888888888, \"#fdca26\"], [1.0, \"#f0f921\"]], \"type\": \"histogram2dcontour\"}], \"mesh3d\": [{\"colorbar\": {\"outlinewidth\": 0, \"ticks\": \"\"}, \"type\": \"mesh3d\"}], \"parcoords\": [{\"line\": {\"colorbar\": {\"outlinewidth\": 0, \"ticks\": \"\"}}, \"type\": \"parcoords\"}], \"pie\": [{\"automargin\": true, \"type\": \"pie\"}], \"scatter\": [{\"marker\": {\"line\": {\"color\": \"#283442\"}}, \"type\": \"scatter\"}], \"scatter3d\": [{\"line\": {\"colorbar\": {\"outlinewidth\": 0, \"ticks\": \"\"}}, \"marker\": {\"colorbar\": {\"outlinewidth\": 0, \"ticks\": \"\"}}, \"type\": \"scatter3d\"}], \"scattercarpet\": [{\"marker\": {\"colorbar\": {\"outlinewidth\": 0, \"ticks\": \"\"}}, \"type\": \"scattercarpet\"}], \"scattergeo\": [{\"marker\": {\"colorbar\": {\"outlinewidth\": 0, \"ticks\": \"\"}}, \"type\": \"scattergeo\"}], \"scattergl\": [{\"marker\": {\"line\": {\"color\": \"#283442\"}}, \"type\": \"scattergl\"}], \"scattermapbox\": [{\"marker\": {\"colorbar\": {\"outlinewidth\": 0, \"ticks\": \"\"}}, \"type\": \"scattermapbox\"}], \"scatterpolar\": [{\"marker\": {\"colorbar\": {\"outlinewidth\": 0, \"ticks\": \"\"}}, \"type\": \"scatterpolar\"}], \"scatterpolargl\": [{\"marker\": {\"colorbar\": {\"outlinewidth\": 0, \"ticks\": \"\"}}, \"type\": \"scatterpolargl\"}], \"scatterternary\": [{\"marker\": {\"colorbar\": {\"outlinewidth\": 0, \"ticks\": \"\"}}, \"type\": \"scatterternary\"}], \"surface\": [{\"colorbar\": {\"outlinewidth\": 0, \"ticks\": \"\"}, \"colorscale\": [[0.0, \"#0d0887\"], [0.1111111111111111, \"#46039f\"], [0.2222222222222222, \"#7201a8\"], [0.3333333333333333, \"#9c179e\"], [0.4444444444444444, \"#bd3786\"], [0.5555555555555556, \"#d8576b\"], [0.6666666666666666, \"#ed7953\"], [0.7777777777777778, \"#fb9f3a\"], [0.8888888888888888, \"#fdca26\"], [1.0, \"#f0f921\"]], \"type\": \"surface\"}], \"table\": [{\"cells\": {\"fill\": {\"color\": \"#506784\"}, \"line\": {\"color\": \"rgb(17,17,17)\"}}, \"header\": {\"fill\": {\"color\": \"#2a3f5f\"}, \"line\": {\"color\": \"rgb(17,17,17)\"}}, \"type\": \"table\"}]}, \"layout\": {\"annotationdefaults\": {\"arrowcolor\": \"#f2f5fa\", \"arrowhead\": 0, \"arrowwidth\": 1}, \"coloraxis\": {\"colorbar\": {\"outlinewidth\": 0, \"ticks\": \"\"}}, \"colorscale\": {\"diverging\": [[0, \"#8e0152\"], [0.1, \"#c51b7d\"], [0.2, \"#de77ae\"], [0.3, \"#f1b6da\"], [0.4, \"#fde0ef\"], [0.5, \"#f7f7f7\"], [0.6, \"#e6f5d0\"], [0.7, \"#b8e186\"], [0.8, \"#7fbc41\"], [0.9, \"#4d9221\"], [1, \"#276419\"]], \"sequential\": [[0.0, \"#0d0887\"], [0.1111111111111111, \"#46039f\"], [0.2222222222222222, \"#7201a8\"], [0.3333333333333333, \"#9c179e\"], [0.4444444444444444, \"#bd3786\"], [0.5555555555555556, \"#d8576b\"], [0.6666666666666666, \"#ed7953\"], [0.7777777777777778, \"#fb9f3a\"], [0.8888888888888888, \"#fdca26\"], [1.0, \"#f0f921\"]], \"sequentialminus\": [[0.0, \"#0d0887\"], [0.1111111111111111, \"#46039f\"], [0.2222222222222222, \"#7201a8\"], [0.3333333333333333, \"#9c179e\"], [0.4444444444444444, \"#bd3786\"], [0.5555555555555556, \"#d8576b\"], [0.6666666666666666, \"#ed7953\"], [0.7777777777777778, \"#fb9f3a\"], [0.8888888888888888, \"#fdca26\"], [1.0, \"#f0f921\"]]}, \"colorway\": [\"#636efa\", \"#EF553B\", \"#00cc96\", \"#ab63fa\", \"#FFA15A\", \"#19d3f3\", \"#FF6692\", \"#B6E880\", \"#FF97FF\", \"#FECB52\"], \"font\": {\"color\": \"#f2f5fa\"}, \"geo\": {\"bgcolor\": \"rgb(17,17,17)\", \"lakecolor\": \"rgb(17,17,17)\", \"landcolor\": \"rgb(17,17,17)\", \"showlakes\": true, \"showland\": true, \"subunitcolor\": \"#506784\"}, \"hoverlabel\": {\"align\": \"left\"}, \"hovermode\": \"closest\", \"mapbox\": {\"style\": \"dark\"}, \"paper_bgcolor\": \"rgb(17,17,17)\", \"plot_bgcolor\": \"rgb(17,17,17)\", \"polar\": {\"angularaxis\": {\"gridcolor\": \"#506784\", \"linecolor\": \"#506784\", \"ticks\": \"\"}, \"bgcolor\": \"rgb(17,17,17)\", \"radialaxis\": {\"gridcolor\": \"#506784\", \"linecolor\": \"#506784\", \"ticks\": \"\"}}, \"scene\": {\"xaxis\": {\"backgroundcolor\": \"rgb(17,17,17)\", \"gridcolor\": \"#506784\", \"gridwidth\": 2, \"linecolor\": \"#506784\", \"showbackground\": true, \"ticks\": \"\", \"zerolinecolor\": \"#C8D4E3\"}, \"yaxis\": {\"backgroundcolor\": \"rgb(17,17,17)\", \"gridcolor\": \"#506784\", \"gridwidth\": 2, \"linecolor\": \"#506784\", \"showbackground\": true, \"ticks\": \"\", \"zerolinecolor\": \"#C8D4E3\"}, \"zaxis\": {\"backgroundcolor\": \"rgb(17,17,17)\", \"gridcolor\": \"#506784\", \"gridwidth\": 2, \"linecolor\": \"#506784\", \"showbackground\": true, \"ticks\": \"\", \"zerolinecolor\": \"#C8D4E3\"}}, \"shapedefaults\": {\"line\": {\"color\": \"#f2f5fa\"}}, \"sliderdefaults\": {\"bgcolor\": \"#C8D4E3\", \"bordercolor\": \"rgb(17,17,17)\", \"borderwidth\": 1, \"tickwidth\": 0}, \"ternary\": {\"aaxis\": {\"gridcolor\": \"#506784\", \"linecolor\": \"#506784\", \"ticks\": \"\"}, \"baxis\": {\"gridcolor\": \"#506784\", \"linecolor\": \"#506784\", \"ticks\": \"\"}, \"bgcolor\": \"rgb(17,17,17)\", \"caxis\": {\"gridcolor\": \"#506784\", \"linecolor\": \"#506784\", \"ticks\": \"\"}}, \"title\": {\"x\": 0.05}, \"updatemenudefaults\": {\"bgcolor\": \"#506784\", \"borderwidth\": 0}, \"xaxis\": {\"automargin\": true, \"gridcolor\": \"#283442\", \"linecolor\": \"#506784\", \"ticks\": \"\", \"title\": {\"standoff\": 15}, \"zerolinecolor\": \"#283442\", \"zerolinewidth\": 2}, \"yaxis\": {\"automargin\": true, \"gridcolor\": \"#283442\", \"linecolor\": \"#506784\", \"ticks\": \"\", \"title\": {\"standoff\": 15}, \"zerolinecolor\": \"#283442\", \"zerolinewidth\": 2}}}, \"title\": {\"font\": {\"size\": 24}, \"text\": \"Percentage of Prison Cases by Gender<br>as of October 20, 2020\"}, \"width\": 650},                        {\"responsive\": true}                    ).then(function(){\n",
              "                            \n",
              "var gd = document.getElementById('efd4a0bc-0001-4aea-8720-44578704d6ce');\n",
              "var x = new MutationObserver(function (mutations, observer) {{\n",
              "        var display = window.getComputedStyle(gd).display;\n",
              "        if (!display || display === 'none') {{\n",
              "            console.log([gd, 'removed!']);\n",
              "            Plotly.purge(gd);\n",
              "            observer.disconnect();\n",
              "        }}\n",
              "}});\n",
              "\n",
              "// Listen for the removal of the full notebook cells\n",
              "var notebookContainer = gd.closest('#notebook-container');\n",
              "if (notebookContainer) {{\n",
              "    x.observe(notebookContainer, {childList: true});\n",
              "}}\n",
              "\n",
              "// Listen for the clearing of the current output cell\n",
              "var outputEl = gd.closest('.output');\n",
              "if (outputEl) {{\n",
              "    x.observe(outputEl, {childList: true});\n",
              "}}\n",
              "\n",
              "                        })                };                            </script>        </div>\n",
              "</body>\n",
              "</html>"
            ]
          },
          "metadata": {
            "tags": []
          }
        }
      ]
    },
    {
      "cell_type": "code",
      "metadata": {
        "id": "Bbb-WQAdq3NY",
        "outputId": "50f50a5e-457c-4977-e90f-e1d873c9d571",
        "colab": {
          "base_uri": "https://localhost:8080/",
          "height": 542
        }
      },
      "source": [
        "create_pie_chart('October 20, 2020','Total')"
      ],
      "execution_count": 131,
      "outputs": [
        {
          "output_type": "display_data",
          "data": {
            "text/html": [
              "<html>\n",
              "<head><meta charset=\"utf-8\" /></head>\n",
              "<body>\n",
              "    <div>            <script src=\"https://cdnjs.cloudflare.com/ajax/libs/mathjax/2.7.5/MathJax.js?config=TeX-AMS-MML_SVG\"></script><script type=\"text/javascript\">if (window.MathJax) {MathJax.Hub.Config({SVG: {font: \"STIX-Web\"}});}</script>                <script type=\"text/javascript\">window.PlotlyConfig = {MathJaxConfig: 'local'};</script>\n",
              "        <script src=\"https://cdn.plot.ly/plotly-latest.min.js\"></script>                <div id=\"b08190d7-9c8b-4d76-9aca-8c7487f990a5\" class=\"plotly-graph-div\" style=\"height:525px; width:650px;\"></div>            <script type=\"text/javascript\">                                    window.PLOTLYENV=window.PLOTLYENV || {};                                    if (document.getElementById(\"b08190d7-9c8b-4d76-9aca-8c7487f990a5\")) {                    Plotly.newPlot(                        \"b08190d7-9c8b-4d76-9aca-8c7487f990a5\",                        [{\"customdata\": [[\"Female\"], [\"Male\"], [\"Other\"]], \"domain\": {\"x\": [0.0, 1.0], \"y\": [0.0, 1.0]}, \"hovertemplate\": \"Gender=%{customdata[0]}<br>Percentage of Total Cases=%{value}<extra></extra>\", \"labels\": [\"Female\", \"Male\", \"Other\"], \"legendgroup\": \"\", \"marker\": {\"colors\": [\"#1F77B4\", \"#FF7F0E\", \"#2CA02C\"]}, \"name\": \"\", \"showlegend\": true, \"type\": \"pie\", \"values\": [43.97, 54.92, 1.12]}],                        {\"font\": {\"color\": \"white\", \"family\": \"Courier\"}, \"legend\": {\"orientation\": \"h\", \"tracegroupgap\": 0, \"x\": -0.2, \"xanchor\": \"left\", \"y\": -0.2, \"yanchor\": \"bottom\"}, \"piecolorway\": [\"#1F77B4\", \"#FF7F0E\", \"#2CA02C\", \"#D62728\", \"#9467BD\", \"#8C564B\", \"#E377C2\", \"#7F7F7F\", \"#BCBD22\", \"#17BECF\"], \"template\": {\"data\": {\"bar\": [{\"error_x\": {\"color\": \"#f2f5fa\"}, \"error_y\": {\"color\": \"#f2f5fa\"}, \"marker\": {\"line\": {\"color\": \"rgb(17,17,17)\", \"width\": 0.5}}, \"type\": \"bar\"}], \"barpolar\": [{\"marker\": {\"line\": {\"color\": \"rgb(17,17,17)\", \"width\": 0.5}}, \"type\": \"barpolar\"}], \"carpet\": [{\"aaxis\": {\"endlinecolor\": \"#A2B1C6\", \"gridcolor\": \"#506784\", \"linecolor\": \"#506784\", \"minorgridcolor\": \"#506784\", \"startlinecolor\": \"#A2B1C6\"}, \"baxis\": {\"endlinecolor\": \"#A2B1C6\", \"gridcolor\": \"#506784\", \"linecolor\": \"#506784\", \"minorgridcolor\": \"#506784\", \"startlinecolor\": \"#A2B1C6\"}, \"type\": \"carpet\"}], \"choropleth\": [{\"colorbar\": {\"outlinewidth\": 0, \"ticks\": \"\"}, \"type\": \"choropleth\"}], \"contour\": [{\"colorbar\": {\"outlinewidth\": 0, \"ticks\": \"\"}, \"colorscale\": [[0.0, \"#0d0887\"], [0.1111111111111111, \"#46039f\"], [0.2222222222222222, \"#7201a8\"], [0.3333333333333333, \"#9c179e\"], [0.4444444444444444, \"#bd3786\"], [0.5555555555555556, \"#d8576b\"], [0.6666666666666666, \"#ed7953\"], [0.7777777777777778, \"#fb9f3a\"], [0.8888888888888888, \"#fdca26\"], [1.0, \"#f0f921\"]], \"type\": \"contour\"}], \"contourcarpet\": [{\"colorbar\": {\"outlinewidth\": 0, \"ticks\": \"\"}, \"type\": \"contourcarpet\"}], \"heatmap\": [{\"colorbar\": {\"outlinewidth\": 0, \"ticks\": \"\"}, \"colorscale\": [[0.0, \"#0d0887\"], [0.1111111111111111, \"#46039f\"], [0.2222222222222222, \"#7201a8\"], [0.3333333333333333, \"#9c179e\"], [0.4444444444444444, \"#bd3786\"], [0.5555555555555556, \"#d8576b\"], [0.6666666666666666, \"#ed7953\"], [0.7777777777777778, \"#fb9f3a\"], [0.8888888888888888, \"#fdca26\"], [1.0, \"#f0f921\"]], \"type\": \"heatmap\"}], \"heatmapgl\": [{\"colorbar\": {\"outlinewidth\": 0, \"ticks\": \"\"}, \"colorscale\": [[0.0, \"#0d0887\"], [0.1111111111111111, \"#46039f\"], [0.2222222222222222, \"#7201a8\"], [0.3333333333333333, \"#9c179e\"], [0.4444444444444444, \"#bd3786\"], [0.5555555555555556, \"#d8576b\"], [0.6666666666666666, \"#ed7953\"], [0.7777777777777778, \"#fb9f3a\"], [0.8888888888888888, \"#fdca26\"], [1.0, \"#f0f921\"]], \"type\": \"heatmapgl\"}], \"histogram\": [{\"marker\": {\"colorbar\": {\"outlinewidth\": 0, \"ticks\": \"\"}}, \"type\": \"histogram\"}], \"histogram2d\": [{\"colorbar\": {\"outlinewidth\": 0, \"ticks\": \"\"}, \"colorscale\": [[0.0, \"#0d0887\"], [0.1111111111111111, \"#46039f\"], [0.2222222222222222, \"#7201a8\"], [0.3333333333333333, \"#9c179e\"], [0.4444444444444444, \"#bd3786\"], [0.5555555555555556, \"#d8576b\"], [0.6666666666666666, \"#ed7953\"], [0.7777777777777778, \"#fb9f3a\"], [0.8888888888888888, \"#fdca26\"], [1.0, \"#f0f921\"]], \"type\": \"histogram2d\"}], \"histogram2dcontour\": [{\"colorbar\": {\"outlinewidth\": 0, \"ticks\": \"\"}, \"colorscale\": [[0.0, \"#0d0887\"], [0.1111111111111111, \"#46039f\"], [0.2222222222222222, \"#7201a8\"], [0.3333333333333333, \"#9c179e\"], [0.4444444444444444, \"#bd3786\"], [0.5555555555555556, \"#d8576b\"], [0.6666666666666666, \"#ed7953\"], [0.7777777777777778, \"#fb9f3a\"], [0.8888888888888888, \"#fdca26\"], [1.0, \"#f0f921\"]], \"type\": \"histogram2dcontour\"}], \"mesh3d\": [{\"colorbar\": {\"outlinewidth\": 0, \"ticks\": \"\"}, \"type\": \"mesh3d\"}], \"parcoords\": [{\"line\": {\"colorbar\": {\"outlinewidth\": 0, \"ticks\": \"\"}}, \"type\": \"parcoords\"}], \"pie\": [{\"automargin\": true, \"type\": \"pie\"}], \"scatter\": [{\"marker\": {\"line\": {\"color\": \"#283442\"}}, \"type\": \"scatter\"}], \"scatter3d\": [{\"line\": {\"colorbar\": {\"outlinewidth\": 0, \"ticks\": \"\"}}, \"marker\": {\"colorbar\": {\"outlinewidth\": 0, \"ticks\": \"\"}}, \"type\": \"scatter3d\"}], \"scattercarpet\": [{\"marker\": {\"colorbar\": {\"outlinewidth\": 0, \"ticks\": \"\"}}, \"type\": \"scattercarpet\"}], \"scattergeo\": [{\"marker\": {\"colorbar\": {\"outlinewidth\": 0, \"ticks\": \"\"}}, \"type\": \"scattergeo\"}], \"scattergl\": [{\"marker\": {\"line\": {\"color\": \"#283442\"}}, \"type\": \"scattergl\"}], \"scattermapbox\": [{\"marker\": {\"colorbar\": {\"outlinewidth\": 0, \"ticks\": \"\"}}, \"type\": \"scattermapbox\"}], \"scatterpolar\": [{\"marker\": {\"colorbar\": {\"outlinewidth\": 0, \"ticks\": \"\"}}, \"type\": \"scatterpolar\"}], \"scatterpolargl\": [{\"marker\": {\"colorbar\": {\"outlinewidth\": 0, \"ticks\": \"\"}}, \"type\": \"scatterpolargl\"}], \"scatterternary\": [{\"marker\": {\"colorbar\": {\"outlinewidth\": 0, \"ticks\": \"\"}}, \"type\": \"scatterternary\"}], \"surface\": [{\"colorbar\": {\"outlinewidth\": 0, \"ticks\": \"\"}, \"colorscale\": [[0.0, \"#0d0887\"], [0.1111111111111111, \"#46039f\"], [0.2222222222222222, \"#7201a8\"], [0.3333333333333333, \"#9c179e\"], [0.4444444444444444, \"#bd3786\"], [0.5555555555555556, \"#d8576b\"], [0.6666666666666666, \"#ed7953\"], [0.7777777777777778, \"#fb9f3a\"], [0.8888888888888888, \"#fdca26\"], [1.0, \"#f0f921\"]], \"type\": \"surface\"}], \"table\": [{\"cells\": {\"fill\": {\"color\": \"#506784\"}, \"line\": {\"color\": \"rgb(17,17,17)\"}}, \"header\": {\"fill\": {\"color\": \"#2a3f5f\"}, \"line\": {\"color\": \"rgb(17,17,17)\"}}, \"type\": \"table\"}]}, \"layout\": {\"annotationdefaults\": {\"arrowcolor\": \"#f2f5fa\", \"arrowhead\": 0, \"arrowwidth\": 1}, \"coloraxis\": {\"colorbar\": {\"outlinewidth\": 0, \"ticks\": \"\"}}, \"colorscale\": {\"diverging\": [[0, \"#8e0152\"], [0.1, \"#c51b7d\"], [0.2, \"#de77ae\"], [0.3, \"#f1b6da\"], [0.4, \"#fde0ef\"], [0.5, \"#f7f7f7\"], [0.6, \"#e6f5d0\"], [0.7, \"#b8e186\"], [0.8, \"#7fbc41\"], [0.9, \"#4d9221\"], [1, \"#276419\"]], \"sequential\": [[0.0, \"#0d0887\"], [0.1111111111111111, \"#46039f\"], [0.2222222222222222, \"#7201a8\"], [0.3333333333333333, \"#9c179e\"], [0.4444444444444444, \"#bd3786\"], [0.5555555555555556, \"#d8576b\"], [0.6666666666666666, \"#ed7953\"], [0.7777777777777778, \"#fb9f3a\"], [0.8888888888888888, \"#fdca26\"], [1.0, \"#f0f921\"]], \"sequentialminus\": [[0.0, \"#0d0887\"], [0.1111111111111111, \"#46039f\"], [0.2222222222222222, \"#7201a8\"], [0.3333333333333333, \"#9c179e\"], [0.4444444444444444, \"#bd3786\"], [0.5555555555555556, \"#d8576b\"], [0.6666666666666666, \"#ed7953\"], [0.7777777777777778, \"#fb9f3a\"], [0.8888888888888888, \"#fdca26\"], [1.0, \"#f0f921\"]]}, \"colorway\": [\"#636efa\", \"#EF553B\", \"#00cc96\", \"#ab63fa\", \"#FFA15A\", \"#19d3f3\", \"#FF6692\", \"#B6E880\", \"#FF97FF\", \"#FECB52\"], \"font\": {\"color\": \"#f2f5fa\"}, \"geo\": {\"bgcolor\": \"rgb(17,17,17)\", \"lakecolor\": \"rgb(17,17,17)\", \"landcolor\": \"rgb(17,17,17)\", \"showlakes\": true, \"showland\": true, \"subunitcolor\": \"#506784\"}, \"hoverlabel\": {\"align\": \"left\"}, \"hovermode\": \"closest\", \"mapbox\": {\"style\": \"dark\"}, \"paper_bgcolor\": \"rgb(17,17,17)\", \"plot_bgcolor\": \"rgb(17,17,17)\", \"polar\": {\"angularaxis\": {\"gridcolor\": \"#506784\", \"linecolor\": \"#506784\", \"ticks\": \"\"}, \"bgcolor\": \"rgb(17,17,17)\", \"radialaxis\": {\"gridcolor\": \"#506784\", \"linecolor\": \"#506784\", \"ticks\": \"\"}}, \"scene\": {\"xaxis\": {\"backgroundcolor\": \"rgb(17,17,17)\", \"gridcolor\": \"#506784\", \"gridwidth\": 2, \"linecolor\": \"#506784\", \"showbackground\": true, \"ticks\": \"\", \"zerolinecolor\": \"#C8D4E3\"}, \"yaxis\": {\"backgroundcolor\": \"rgb(17,17,17)\", \"gridcolor\": \"#506784\", \"gridwidth\": 2, \"linecolor\": \"#506784\", \"showbackground\": true, \"ticks\": \"\", \"zerolinecolor\": \"#C8D4E3\"}, \"zaxis\": {\"backgroundcolor\": \"rgb(17,17,17)\", \"gridcolor\": \"#506784\", \"gridwidth\": 2, \"linecolor\": \"#506784\", \"showbackground\": true, \"ticks\": \"\", \"zerolinecolor\": \"#C8D4E3\"}}, \"shapedefaults\": {\"line\": {\"color\": \"#f2f5fa\"}}, \"sliderdefaults\": {\"bgcolor\": \"#C8D4E3\", \"bordercolor\": \"rgb(17,17,17)\", \"borderwidth\": 1, \"tickwidth\": 0}, \"ternary\": {\"aaxis\": {\"gridcolor\": \"#506784\", \"linecolor\": \"#506784\", \"ticks\": \"\"}, \"baxis\": {\"gridcolor\": \"#506784\", \"linecolor\": \"#506784\", \"ticks\": \"\"}, \"bgcolor\": \"rgb(17,17,17)\", \"caxis\": {\"gridcolor\": \"#506784\", \"linecolor\": \"#506784\", \"ticks\": \"\"}}, \"title\": {\"x\": 0.05}, \"updatemenudefaults\": {\"bgcolor\": \"#506784\", \"borderwidth\": 0}, \"xaxis\": {\"automargin\": true, \"gridcolor\": \"#283442\", \"linecolor\": \"#506784\", \"ticks\": \"\", \"title\": {\"standoff\": 15}, \"zerolinecolor\": \"#283442\", \"zerolinewidth\": 2}, \"yaxis\": {\"automargin\": true, \"gridcolor\": \"#283442\", \"linecolor\": \"#506784\", \"ticks\": \"\", \"title\": {\"standoff\": 15}, \"zerolinecolor\": \"#283442\", \"zerolinewidth\": 2}}}, \"title\": {\"font\": {\"size\": 24}, \"text\": \"Percentage of Total Cases by Gender<br>as of October 20, 2020\"}, \"width\": 650},                        {\"responsive\": true}                    ).then(function(){\n",
              "                            \n",
              "var gd = document.getElementById('b08190d7-9c8b-4d76-9aca-8c7487f990a5');\n",
              "var x = new MutationObserver(function (mutations, observer) {{\n",
              "        var display = window.getComputedStyle(gd).display;\n",
              "        if (!display || display === 'none') {{\n",
              "            console.log([gd, 'removed!']);\n",
              "            Plotly.purge(gd);\n",
              "            observer.disconnect();\n",
              "        }}\n",
              "}});\n",
              "\n",
              "// Listen for the removal of the full notebook cells\n",
              "var notebookContainer = gd.closest('#notebook-container');\n",
              "if (notebookContainer) {{\n",
              "    x.observe(notebookContainer, {childList: true});\n",
              "}}\n",
              "\n",
              "// Listen for the clearing of the current output cell\n",
              "var outputEl = gd.closest('.output');\n",
              "if (outputEl) {{\n",
              "    x.observe(outputEl, {childList: true});\n",
              "}}\n",
              "\n",
              "                        })                };                            </script>        </div>\n",
              "</body>\n",
              "</html>"
            ]
          },
          "metadata": {
            "tags": []
          }
        }
      ]
    },
    {
      "cell_type": "code",
      "metadata": {
        "id": "JLsZlldbF0Jb"
      },
      "source": [
        "#def create_gender_barplot(date, column_name):\n",
        "#  fig = px.bar(gender_viz[gender_viz['Date'] == date],\n",
        "#               x = column_name,\n",
        "#               y = 'Gender',\n",
        "#               orientation = 'h',\n",
        "               #x = 'Gender',\n",
        "               #y = column_name,\n",
        "#               color = 'Gender',\n",
        "#               template = 'plotly_dark',\n",
        "#               color_discrete_sequence = px.colors.qualitative.D3,\n",
        "#               title = column_name + ' Cases by Gender as of ' + date)\n",
        "  \n",
        "#  fig.update_layout(\n",
        "#      hovermode = 'closest',\n",
        "#      font_family = 'Courier',\n",
        "#      font_color = 'white',\n",
        "#      title_font_size = 24,\n",
        "#      legend = dict(\n",
        "#          orientation = 'h',\n",
        "#          yanchor = 'bottom',\n",
        "#          y = 1.02,\n",
        "#          xanchor = 'left',\n",
        "#          x = 0\n",
        "#      ),\n",
        "#      xaxis = dict(title=None)\n",
        "#  )\n",
        "\n",
        "#  fig.show()"
      ],
      "execution_count": 44,
      "outputs": []
    },
    {
      "cell_type": "markdown",
      "metadata": {
        "id": "QmOxdEfAyQES"
      },
      "source": [
        "# Cases by Ethnicity"
      ]
    },
    {
      "cell_type": "code",
      "metadata": {
        "id": "Uid5IMYrySBI",
        "outputId": "e49d350c-bdd2-4bc1-b88e-d390eff5e87a",
        "colab": {
          "base_uri": "https://localhost:8080/",
          "height": 204
        }
      },
      "source": [
        "ethnicity.head()"
      ],
      "execution_count": 48,
      "outputs": [
        {
          "output_type": "execute_result",
          "data": {
            "text/html": [
              "<div>\n",
              "<style scoped>\n",
              "    .dataframe tbody tr th:only-of-type {\n",
              "        vertical-align: middle;\n",
              "    }\n",
              "\n",
              "    .dataframe tbody tr th {\n",
              "        vertical-align: top;\n",
              "    }\n",
              "\n",
              "    .dataframe thead th {\n",
              "        text-align: right;\n",
              "    }\n",
              "</style>\n",
              "<table border=\"1\" class=\"dataframe\">\n",
              "  <thead>\n",
              "    <tr style=\"text-align: right;\">\n",
              "      <th></th>\n",
              "      <th>RACE/ETHNICITY</th>\n",
              "      <th>Daily</th>\n",
              "      <th>Community</th>\n",
              "      <th>Federal Prison in Lompoc</th>\n",
              "      <th>Total(Community &amp; Prison)</th>\n",
              "      <th>Date</th>\n",
              "    </tr>\n",
              "  </thead>\n",
              "  <tbody>\n",
              "    <tr>\n",
              "      <th>0</th>\n",
              "      <td>Hispanic/Latino</td>\n",
              "      <td>9</td>\n",
              "      <td>5398.0</td>\n",
              "      <td>372.0</td>\n",
              "      <td>5770.0</td>\n",
              "      <td>October 20, 2020</td>\n",
              "    </tr>\n",
              "    <tr>\n",
              "      <th>1</th>\n",
              "      <td>White</td>\n",
              "      <td>1</td>\n",
              "      <td>918.0</td>\n",
              "      <td>377.0</td>\n",
              "      <td>1295.0</td>\n",
              "      <td>October 20, 2020</td>\n",
              "    </tr>\n",
              "    <tr>\n",
              "      <th>2</th>\n",
              "      <td>Asian</td>\n",
              "      <td>1</td>\n",
              "      <td>119.0</td>\n",
              "      <td>51.0</td>\n",
              "      <td>170.0</td>\n",
              "      <td>October 20, 2020</td>\n",
              "    </tr>\n",
              "    <tr>\n",
              "      <th>3</th>\n",
              "      <td>Black/African American</td>\n",
              "      <td>0</td>\n",
              "      <td>49.0</td>\n",
              "      <td>145.0</td>\n",
              "      <td>194.0</td>\n",
              "      <td>October 20, 2020</td>\n",
              "    </tr>\n",
              "    <tr>\n",
              "      <th>4</th>\n",
              "      <td>American Indian/Native Alaskan</td>\n",
              "      <td>0</td>\n",
              "      <td>6.0</td>\n",
              "      <td>28.0</td>\n",
              "      <td>34.0</td>\n",
              "      <td>October 20, 2020</td>\n",
              "    </tr>\n",
              "  </tbody>\n",
              "</table>\n",
              "</div>"
            ],
            "text/plain": [
              "                   RACE/ETHNICITY  ...              Date\n",
              "0                 Hispanic/Latino  ...  October 20, 2020\n",
              "1                           White  ...  October 20, 2020\n",
              "2                           Asian  ...  October 20, 2020\n",
              "3          Black/African American  ...  October 20, 2020\n",
              "4  American Indian/Native Alaskan  ...  October 20, 2020\n",
              "\n",
              "[5 rows x 6 columns]"
            ]
          },
          "metadata": {
            "tags": []
          },
          "execution_count": 48
        }
      ]
    },
    {
      "cell_type": "code",
      "metadata": {
        "id": "vId-t2fBybSr",
        "outputId": "887f969e-6afb-47ba-c17e-8b2407abf828",
        "colab": {
          "base_uri": "https://localhost:8080/",
          "height": 510
        }
      },
      "source": [
        "ethnicity['RACE/ETHNICITY'].value_counts()"
      ],
      "execution_count": 49,
      "outputs": [
        {
          "output_type": "execute_result",
          "data": {
            "text/plain": [
              "Hispanic/Latino                                      75\n",
              "Total                                                75\n",
              "Unknown Ethnicity                                    75\n",
              "Unknown Race, Non-Hispanic                           75\n",
              "Missing                                              75\n",
              "Native Hawaiian or Pacific Islander, Non-Hispanic    57\n",
              "Multiracial, Non-Hispanic                            57\n",
              "American Indian/Native Alaskan, Non-Hispanic         57\n",
              "White, Non-Hispanic                                  57\n",
              "Black/African American, Non-Hispanic                 57\n",
              "Other, Non-Hispanic                                  57\n",
              "Asian, Non-Hispanic                                  57\n",
              "Suppressed                                           40\n",
              "Suppressed/Inmate                                    35\n",
              "Asian                                                13\n",
              "Multiracial                                          13\n",
              "White                                                13\n",
              "Other                                                13\n",
              "Native Hawaiian or Pacific Islander                  13\n",
              "Black/African American                               11\n",
              "American Indian/Native Alaskan                       11\n",
              "Black/African American                                7\n",
              "American Indian/Native Alaskan                        7\n",
              "White                                                 5\n",
              "Asian                                                 5\n",
              "Other                                                 5\n",
              "Multiracial                                           5\n",
              "Native Hawaiian or Pacific Islander                   5\n",
              "Name: RACE/ETHNICITY, dtype: int64"
            ]
          },
          "metadata": {
            "tags": []
          },
          "execution_count": 49
        }
      ]
    },
    {
      "cell_type": "code",
      "metadata": {
        "id": "2YUw6JTnyhA6"
      },
      "source": [
        "#looks like some duplicate values are the result of extra whitespaces, removing extra whitespaces\n",
        "ethnicity['RACE/ETHNICITY'] = ethnicity['RACE/ETHNICITY'].str.strip()"
      ],
      "execution_count": 50,
      "outputs": []
    },
    {
      "cell_type": "code",
      "metadata": {
        "id": "qT5HiDW8ynG8",
        "outputId": "d7b4509a-a34b-4ae8-bb75-c7e2dc8cf095",
        "colab": {
          "base_uri": "https://localhost:8080/",
          "height": 514
        }
      },
      "source": [
        "#looks like the change to remove \"Non-Hispanic\" from the various categories was a recent change, going to convert historical data to this format for consistency\n",
        "ethnicity[ethnicity['RACE/ETHNICITY'].isin(['Native Hawaiian or Pacific Islander','Other','Asian','Multiracial','White'])].head(15)"
      ],
      "execution_count": 51,
      "outputs": [
        {
          "output_type": "execute_result",
          "data": {
            "text/html": [
              "<div>\n",
              "<style scoped>\n",
              "    .dataframe tbody tr th:only-of-type {\n",
              "        vertical-align: middle;\n",
              "    }\n",
              "\n",
              "    .dataframe tbody tr th {\n",
              "        vertical-align: top;\n",
              "    }\n",
              "\n",
              "    .dataframe thead th {\n",
              "        text-align: right;\n",
              "    }\n",
              "</style>\n",
              "<table border=\"1\" class=\"dataframe\">\n",
              "  <thead>\n",
              "    <tr style=\"text-align: right;\">\n",
              "      <th></th>\n",
              "      <th>RACE/ETHNICITY</th>\n",
              "      <th>Daily</th>\n",
              "      <th>Community</th>\n",
              "      <th>Federal Prison in Lompoc</th>\n",
              "      <th>Total(Community &amp; Prison)</th>\n",
              "      <th>Date</th>\n",
              "    </tr>\n",
              "  </thead>\n",
              "  <tbody>\n",
              "    <tr>\n",
              "      <th>1</th>\n",
              "      <td>White</td>\n",
              "      <td>1</td>\n",
              "      <td>918.0</td>\n",
              "      <td>377.0</td>\n",
              "      <td>1295.0</td>\n",
              "      <td>October 20, 2020</td>\n",
              "    </tr>\n",
              "    <tr>\n",
              "      <th>2</th>\n",
              "      <td>Asian</td>\n",
              "      <td>1</td>\n",
              "      <td>119.0</td>\n",
              "      <td>51.0</td>\n",
              "      <td>170.0</td>\n",
              "      <td>October 20, 2020</td>\n",
              "    </tr>\n",
              "    <tr>\n",
              "      <th>5</th>\n",
              "      <td>Native Hawaiian or Pacific Islander</td>\n",
              "      <td>0</td>\n",
              "      <td>5.0</td>\n",
              "      <td>1.0</td>\n",
              "      <td>6.0</td>\n",
              "      <td>October 20, 2020</td>\n",
              "    </tr>\n",
              "    <tr>\n",
              "      <th>6</th>\n",
              "      <td>Multiracial</td>\n",
              "      <td>0</td>\n",
              "      <td>84.0</td>\n",
              "      <td>1.0</td>\n",
              "      <td>85.0</td>\n",
              "      <td>October 20, 2020</td>\n",
              "    </tr>\n",
              "    <tr>\n",
              "      <th>7</th>\n",
              "      <td>Other</td>\n",
              "      <td>0</td>\n",
              "      <td>82.0</td>\n",
              "      <td>0.0</td>\n",
              "      <td>82.0</td>\n",
              "      <td>October 20, 2020</td>\n",
              "    </tr>\n",
              "    <tr>\n",
              "      <th>14</th>\n",
              "      <td>White</td>\n",
              "      <td>1</td>\n",
              "      <td>917.0</td>\n",
              "      <td>377.0</td>\n",
              "      <td>1294.0</td>\n",
              "      <td>October 19, 2020</td>\n",
              "    </tr>\n",
              "    <tr>\n",
              "      <th>15</th>\n",
              "      <td>Asian</td>\n",
              "      <td>0</td>\n",
              "      <td>116.0</td>\n",
              "      <td>51.0</td>\n",
              "      <td>167.0</td>\n",
              "      <td>October 19, 2020</td>\n",
              "    </tr>\n",
              "    <tr>\n",
              "      <th>18</th>\n",
              "      <td>Native Hawaiian or Pacific Islander</td>\n",
              "      <td>0</td>\n",
              "      <td>5.0</td>\n",
              "      <td>1.0</td>\n",
              "      <td>6.0</td>\n",
              "      <td>October 19, 2020</td>\n",
              "    </tr>\n",
              "    <tr>\n",
              "      <th>19</th>\n",
              "      <td>Multiracial</td>\n",
              "      <td>0</td>\n",
              "      <td>83.0</td>\n",
              "      <td>1.0</td>\n",
              "      <td>84.0</td>\n",
              "      <td>October 19, 2020</td>\n",
              "    </tr>\n",
              "    <tr>\n",
              "      <th>20</th>\n",
              "      <td>Other</td>\n",
              "      <td>0</td>\n",
              "      <td>82.0</td>\n",
              "      <td>0.0</td>\n",
              "      <td>82.0</td>\n",
              "      <td>October 19, 2020</td>\n",
              "    </tr>\n",
              "    <tr>\n",
              "      <th>27</th>\n",
              "      <td>White</td>\n",
              "      <td>4</td>\n",
              "      <td>898.0</td>\n",
              "      <td>377.0</td>\n",
              "      <td>1275.0</td>\n",
              "      <td>October 16, 2020</td>\n",
              "    </tr>\n",
              "    <tr>\n",
              "      <th>28</th>\n",
              "      <td>Asian</td>\n",
              "      <td>0</td>\n",
              "      <td>113.0</td>\n",
              "      <td>51.0</td>\n",
              "      <td>164.0</td>\n",
              "      <td>October 16, 2020</td>\n",
              "    </tr>\n",
              "    <tr>\n",
              "      <th>31</th>\n",
              "      <td>Native Hawaiian or Pacific Islander</td>\n",
              "      <td>0</td>\n",
              "      <td>4.0</td>\n",
              "      <td>1.0</td>\n",
              "      <td>5.0</td>\n",
              "      <td>October 16, 2020</td>\n",
              "    </tr>\n",
              "    <tr>\n",
              "      <th>32</th>\n",
              "      <td>Multiracial</td>\n",
              "      <td>0</td>\n",
              "      <td>78.0</td>\n",
              "      <td>1.0</td>\n",
              "      <td>79.0</td>\n",
              "      <td>October 16, 2020</td>\n",
              "    </tr>\n",
              "    <tr>\n",
              "      <th>33</th>\n",
              "      <td>Other</td>\n",
              "      <td>0</td>\n",
              "      <td>83.0</td>\n",
              "      <td>0.0</td>\n",
              "      <td>83.0</td>\n",
              "      <td>October 16, 2020</td>\n",
              "    </tr>\n",
              "  </tbody>\n",
              "</table>\n",
              "</div>"
            ],
            "text/plain": [
              "                         RACE/ETHNICITY  ...              Date\n",
              "1                                 White  ...  October 20, 2020\n",
              "2                                 Asian  ...  October 20, 2020\n",
              "5   Native Hawaiian or Pacific Islander  ...  October 20, 2020\n",
              "6                           Multiracial  ...  October 20, 2020\n",
              "7                                 Other  ...  October 20, 2020\n",
              "14                                White  ...  October 19, 2020\n",
              "15                                Asian  ...  October 19, 2020\n",
              "18  Native Hawaiian or Pacific Islander  ...  October 19, 2020\n",
              "19                          Multiracial  ...  October 19, 2020\n",
              "20                                Other  ...  October 19, 2020\n",
              "27                                White  ...  October 16, 2020\n",
              "28                                Asian  ...  October 16, 2020\n",
              "31  Native Hawaiian or Pacific Islander  ...  October 16, 2020\n",
              "32                          Multiracial  ...  October 16, 2020\n",
              "33                                Other  ...  October 16, 2020\n",
              "\n",
              "[15 rows x 6 columns]"
            ]
          },
          "metadata": {
            "tags": []
          },
          "execution_count": 51
        }
      ]
    },
    {
      "cell_type": "code",
      "metadata": {
        "id": "bWalm-cayqag"
      },
      "source": [
        "#creating dictionary to replace values\n",
        "value_dict = {\n",
        "              'Asian, Non-Hispanic':'Asian',\n",
        "              'Other, Non-Hispanic':'Other',\n",
        "              'Native Hawaiian or Pacific Islander, Non-Hispanic':'Native Hawaiian or Pacific Islander',\n",
        "              'American Indian/Native Alaskan, Non-Hispanic':'American Indian/Native Alaskan',\n",
        "              'White, Non-Hispanic':'White',\n",
        "              'Multiracial, Non-Hispanic':'Multiracial',\n",
        "              'Black/African American, Non-Hispanic':'Black/African American',\n",
        "              'Suppressed/Inmate':'Suppressed'\n",
        "}\n",
        "\n",
        "ethnicity['RACE/ETHNICITY'].replace(value_dict, inplace = True)"
      ],
      "execution_count": 52,
      "outputs": []
    },
    {
      "cell_type": "code",
      "metadata": {
        "id": "TGalXKILytt4",
        "outputId": "3f9f0d64-def3-4fff-dcda-67423fe67c2e",
        "colab": {
          "base_uri": "https://localhost:8080/",
          "height": 255
        }
      },
      "source": [
        "#confirming that this worked\n",
        "ethnicity['RACE/ETHNICITY'].value_counts()"
      ],
      "execution_count": 53,
      "outputs": [
        {
          "output_type": "execute_result",
          "data": {
            "text/plain": [
              "Native Hawaiian or Pacific Islander    75\n",
              "Unknown Race, Non-Hispanic             75\n",
              "Total                                  75\n",
              "American Indian/Native Alaskan         75\n",
              "Suppressed                             75\n",
              "Unknown Ethnicity                      75\n",
              "White                                  75\n",
              "Black/African American                 75\n",
              "Missing                                75\n",
              "Asian                                  75\n",
              "Other                                  75\n",
              "Multiracial                            75\n",
              "Hispanic/Latino                        75\n",
              "Name: RACE/ETHNICITY, dtype: int64"
            ]
          },
          "metadata": {
            "tags": []
          },
          "execution_count": 53
        }
      ]
    },
    {
      "cell_type": "code",
      "metadata": {
        "id": "hV1JQETnywZw"
      },
      "source": [
        "# converting date column to pandas datetime format\n",
        "#ethnicity['Date'] = pd.to_datetime(ethnicity['Date'])"
      ],
      "execution_count": 54,
      "outputs": []
    },
    {
      "cell_type": "code",
      "metadata": {
        "id": "Iw23uHwdyyE7",
        "outputId": "2b5dfc45-539a-4b01-dabb-5a1ae83e5115",
        "colab": {
          "base_uri": "https://localhost:8080/",
          "height": 669
        }
      },
      "source": [
        "#creating new dataframe for visualizations\n",
        "ethnicity_viz = ethnicity.loc[ethnicity['RACE/ETHNICITY'].isin(['White',                               #filtering based on values in race/ethnicity column\n",
        "                                                         'American Indian/Native Alaskan',\n",
        "                                                         'Asian',\n",
        "                                                         'Multiracial',\n",
        "                                                         'Hispanic/Latino',\n",
        "                                                         'Native Hawaiian or Pacific Islander',\n",
        "                                                         'Black/African American']),\n",
        "                                                        ['RACE/ETHNICITY','Community','Federal Prison in Lompoc','Total(Community & Prison)','Date']]    #selecting only columns I'll need for visualization\n",
        "                                           \n",
        "ethnicity_viz.head(20)"
      ],
      "execution_count": 132,
      "outputs": [
        {
          "output_type": "execute_result",
          "data": {
            "text/html": [
              "<div>\n",
              "<style scoped>\n",
              "    .dataframe tbody tr th:only-of-type {\n",
              "        vertical-align: middle;\n",
              "    }\n",
              "\n",
              "    .dataframe tbody tr th {\n",
              "        vertical-align: top;\n",
              "    }\n",
              "\n",
              "    .dataframe thead th {\n",
              "        text-align: right;\n",
              "    }\n",
              "</style>\n",
              "<table border=\"1\" class=\"dataframe\">\n",
              "  <thead>\n",
              "    <tr style=\"text-align: right;\">\n",
              "      <th></th>\n",
              "      <th>RACE/ETHNICITY</th>\n",
              "      <th>Community</th>\n",
              "      <th>Federal Prison in Lompoc</th>\n",
              "      <th>Total(Community &amp; Prison)</th>\n",
              "      <th>Date</th>\n",
              "    </tr>\n",
              "  </thead>\n",
              "  <tbody>\n",
              "    <tr>\n",
              "      <th>0</th>\n",
              "      <td>Hispanic/Latino</td>\n",
              "      <td>5398.0</td>\n",
              "      <td>372.0</td>\n",
              "      <td>5770.0</td>\n",
              "      <td>October 20, 2020</td>\n",
              "    </tr>\n",
              "    <tr>\n",
              "      <th>1</th>\n",
              "      <td>White</td>\n",
              "      <td>918.0</td>\n",
              "      <td>377.0</td>\n",
              "      <td>1295.0</td>\n",
              "      <td>October 20, 2020</td>\n",
              "    </tr>\n",
              "    <tr>\n",
              "      <th>2</th>\n",
              "      <td>Asian</td>\n",
              "      <td>119.0</td>\n",
              "      <td>51.0</td>\n",
              "      <td>170.0</td>\n",
              "      <td>October 20, 2020</td>\n",
              "    </tr>\n",
              "    <tr>\n",
              "      <th>3</th>\n",
              "      <td>Black/African American</td>\n",
              "      <td>49.0</td>\n",
              "      <td>145.0</td>\n",
              "      <td>194.0</td>\n",
              "      <td>October 20, 2020</td>\n",
              "    </tr>\n",
              "    <tr>\n",
              "      <th>4</th>\n",
              "      <td>American Indian/Native Alaskan</td>\n",
              "      <td>6.0</td>\n",
              "      <td>28.0</td>\n",
              "      <td>34.0</td>\n",
              "      <td>October 20, 2020</td>\n",
              "    </tr>\n",
              "    <tr>\n",
              "      <th>5</th>\n",
              "      <td>Native Hawaiian or Pacific Islander</td>\n",
              "      <td>5.0</td>\n",
              "      <td>1.0</td>\n",
              "      <td>6.0</td>\n",
              "      <td>October 20, 2020</td>\n",
              "    </tr>\n",
              "    <tr>\n",
              "      <th>6</th>\n",
              "      <td>Multiracial</td>\n",
              "      <td>84.0</td>\n",
              "      <td>1.0</td>\n",
              "      <td>85.0</td>\n",
              "      <td>October 20, 2020</td>\n",
              "    </tr>\n",
              "    <tr>\n",
              "      <th>13</th>\n",
              "      <td>Hispanic/Latino</td>\n",
              "      <td>5386.0</td>\n",
              "      <td>372.0</td>\n",
              "      <td>5758.0</td>\n",
              "      <td>October 19, 2020</td>\n",
              "    </tr>\n",
              "    <tr>\n",
              "      <th>14</th>\n",
              "      <td>White</td>\n",
              "      <td>917.0</td>\n",
              "      <td>377.0</td>\n",
              "      <td>1294.0</td>\n",
              "      <td>October 19, 2020</td>\n",
              "    </tr>\n",
              "    <tr>\n",
              "      <th>15</th>\n",
              "      <td>Asian</td>\n",
              "      <td>116.0</td>\n",
              "      <td>51.0</td>\n",
              "      <td>167.0</td>\n",
              "      <td>October 19, 2020</td>\n",
              "    </tr>\n",
              "    <tr>\n",
              "      <th>16</th>\n",
              "      <td>Black/African American</td>\n",
              "      <td>48.0</td>\n",
              "      <td>145.0</td>\n",
              "      <td>193.0</td>\n",
              "      <td>October 19, 2020</td>\n",
              "    </tr>\n",
              "    <tr>\n",
              "      <th>17</th>\n",
              "      <td>American Indian/Native Alaskan</td>\n",
              "      <td>6.0</td>\n",
              "      <td>28.0</td>\n",
              "      <td>34.0</td>\n",
              "      <td>October 19, 2020</td>\n",
              "    </tr>\n",
              "    <tr>\n",
              "      <th>18</th>\n",
              "      <td>Native Hawaiian or Pacific Islander</td>\n",
              "      <td>5.0</td>\n",
              "      <td>1.0</td>\n",
              "      <td>6.0</td>\n",
              "      <td>October 19, 2020</td>\n",
              "    </tr>\n",
              "    <tr>\n",
              "      <th>19</th>\n",
              "      <td>Multiracial</td>\n",
              "      <td>83.0</td>\n",
              "      <td>1.0</td>\n",
              "      <td>84.0</td>\n",
              "      <td>October 19, 2020</td>\n",
              "    </tr>\n",
              "    <tr>\n",
              "      <th>26</th>\n",
              "      <td>Hispanic/Latino</td>\n",
              "      <td>5353.0</td>\n",
              "      <td>372.0</td>\n",
              "      <td>5725.0</td>\n",
              "      <td>October 16, 2020</td>\n",
              "    </tr>\n",
              "    <tr>\n",
              "      <th>27</th>\n",
              "      <td>White</td>\n",
              "      <td>898.0</td>\n",
              "      <td>377.0</td>\n",
              "      <td>1275.0</td>\n",
              "      <td>October 16, 2020</td>\n",
              "    </tr>\n",
              "    <tr>\n",
              "      <th>28</th>\n",
              "      <td>Asian</td>\n",
              "      <td>113.0</td>\n",
              "      <td>51.0</td>\n",
              "      <td>164.0</td>\n",
              "      <td>October 16, 2020</td>\n",
              "    </tr>\n",
              "    <tr>\n",
              "      <th>29</th>\n",
              "      <td>Black/African American</td>\n",
              "      <td>48.0</td>\n",
              "      <td>145.0</td>\n",
              "      <td>193.0</td>\n",
              "      <td>October 16, 2020</td>\n",
              "    </tr>\n",
              "    <tr>\n",
              "      <th>30</th>\n",
              "      <td>American Indian/Native Alaskan</td>\n",
              "      <td>6.0</td>\n",
              "      <td>28.0</td>\n",
              "      <td>34.0</td>\n",
              "      <td>October 16, 2020</td>\n",
              "    </tr>\n",
              "    <tr>\n",
              "      <th>31</th>\n",
              "      <td>Native Hawaiian or Pacific Islander</td>\n",
              "      <td>4.0</td>\n",
              "      <td>1.0</td>\n",
              "      <td>5.0</td>\n",
              "      <td>October 16, 2020</td>\n",
              "    </tr>\n",
              "  </tbody>\n",
              "</table>\n",
              "</div>"
            ],
            "text/plain": [
              "                         RACE/ETHNICITY  ...              Date\n",
              "0                       Hispanic/Latino  ...  October 20, 2020\n",
              "1                                 White  ...  October 20, 2020\n",
              "2                                 Asian  ...  October 20, 2020\n",
              "3                Black/African American  ...  October 20, 2020\n",
              "4        American Indian/Native Alaskan  ...  October 20, 2020\n",
              "5   Native Hawaiian or Pacific Islander  ...  October 20, 2020\n",
              "6                           Multiracial  ...  October 20, 2020\n",
              "13                      Hispanic/Latino  ...  October 19, 2020\n",
              "14                                White  ...  October 19, 2020\n",
              "15                                Asian  ...  October 19, 2020\n",
              "16               Black/African American  ...  October 19, 2020\n",
              "17       American Indian/Native Alaskan  ...  October 19, 2020\n",
              "18  Native Hawaiian or Pacific Islander  ...  October 19, 2020\n",
              "19                          Multiracial  ...  October 19, 2020\n",
              "26                      Hispanic/Latino  ...  October 16, 2020\n",
              "27                                White  ...  October 16, 2020\n",
              "28                                Asian  ...  October 16, 2020\n",
              "29               Black/African American  ...  October 16, 2020\n",
              "30       American Indian/Native Alaskan  ...  October 16, 2020\n",
              "31  Native Hawaiian or Pacific Islander  ...  October 16, 2020\n",
              "\n",
              "[20 rows x 5 columns]"
            ]
          },
          "metadata": {
            "tags": []
          },
          "execution_count": 132
        }
      ]
    },
    {
      "cell_type": "code",
      "metadata": {
        "id": "J275bZqpjR7Z",
        "outputId": "ebf375cb-a396-4207-fcf0-0a497308517e",
        "colab": {
          "base_uri": "https://localhost:8080/",
          "height": 119
        }
      },
      "source": [
        "ethnicity_viz.isna().sum()"
      ],
      "execution_count": 133,
      "outputs": [
        {
          "output_type": "execute_result",
          "data": {
            "text/plain": [
              "RACE/ETHNICITY               0\n",
              "Community                    0\n",
              "Federal Prison in Lompoc     0\n",
              "Total(Community & Prison)    0\n",
              "Date                         0\n",
              "dtype: int64"
            ]
          },
          "metadata": {
            "tags": []
          },
          "execution_count": 133
        }
      ]
    },
    {
      "cell_type": "code",
      "metadata": {
        "id": "Jz2VgC4LbL-C"
      },
      "source": [
        "#cleaning up column names\n",
        "ethnicity_viz.rename({'RACE/ETHNICITY':'Ethnicity',\n",
        "                      'Federal Prison in Lompoc':'Lompoc Federal Prison',\n",
        "                      'Total(Community & Prison)':'Total'}, \n",
        "                     axis = 1, \n",
        "                     inplace = True)"
      ],
      "execution_count": 134,
      "outputs": []
    },
    {
      "cell_type": "code",
      "metadata": {
        "id": "NXm_ea_dy_yg"
      },
      "source": [
        "#rather than use the total values from original dataframe (which included groups like unknown and suppressed that I removed), I'm calculating the totals based solely on the ethicity values that I'm using for the visualization\n",
        "#totals_community = ethnicity_viz.groupby('Date')['Community'].agg('sum')\n",
        "#totals_prison = ethnicity_viz.groupby('Date')['Lompoc Federal Prison'].agg('sum')\n",
        "#totals = ethnicity_viz.groupby('Date')['Total'].agg('sum')"
      ],
      "execution_count": 135,
      "outputs": []
    },
    {
      "cell_type": "code",
      "metadata": {
        "id": "IrIu5heFzHWX"
      },
      "source": [
        "#creating new column showing the case count as a percentage of the total\n",
        "#ethnicity_viz['Percentage of Community Cases'] = ethnicity_viz.apply(lambda x: round(((x.Community / totals_community[totals_community.index == x.Date].values[0]) * 100), 2), axis = 1)\n",
        "\n",
        "#ethnicity_viz['Percentage of Prison Cases'] = ethnicity_viz.apply(lambda x: round(((x['Lompoc Federal Prison'] / totals_prison[totals_prison.index == x.Date].values[0]) * 100), 2), axis = 1)\n",
        "\n",
        "#ethnicity_viz['Percentage of Total Cases'] = ethnicity_viz.apply(lambda x: round(((x.Total / totals[totals.index == x.Date].values[0]) * 100), 2), axis = 1)"
      ],
      "execution_count": 136,
      "outputs": []
    },
    {
      "cell_type": "code",
      "metadata": {
        "id": "R9r3XWJwzN2w",
        "outputId": "2c85b232-0505-4b45-8af6-8b987a9ee747",
        "colab": {
          "base_uri": "https://localhost:8080/",
          "height": 204
        }
      },
      "source": [
        "ethnicity_viz.head()"
      ],
      "execution_count": 137,
      "outputs": [
        {
          "output_type": "execute_result",
          "data": {
            "text/html": [
              "<div>\n",
              "<style scoped>\n",
              "    .dataframe tbody tr th:only-of-type {\n",
              "        vertical-align: middle;\n",
              "    }\n",
              "\n",
              "    .dataframe tbody tr th {\n",
              "        vertical-align: top;\n",
              "    }\n",
              "\n",
              "    .dataframe thead th {\n",
              "        text-align: right;\n",
              "    }\n",
              "</style>\n",
              "<table border=\"1\" class=\"dataframe\">\n",
              "  <thead>\n",
              "    <tr style=\"text-align: right;\">\n",
              "      <th></th>\n",
              "      <th>Ethnicity</th>\n",
              "      <th>Community</th>\n",
              "      <th>Lompoc Federal Prison</th>\n",
              "      <th>Total</th>\n",
              "      <th>Date</th>\n",
              "    </tr>\n",
              "  </thead>\n",
              "  <tbody>\n",
              "    <tr>\n",
              "      <th>0</th>\n",
              "      <td>Hispanic/Latino</td>\n",
              "      <td>5398.0</td>\n",
              "      <td>372.0</td>\n",
              "      <td>5770.0</td>\n",
              "      <td>October 20, 2020</td>\n",
              "    </tr>\n",
              "    <tr>\n",
              "      <th>1</th>\n",
              "      <td>White</td>\n",
              "      <td>918.0</td>\n",
              "      <td>377.0</td>\n",
              "      <td>1295.0</td>\n",
              "      <td>October 20, 2020</td>\n",
              "    </tr>\n",
              "    <tr>\n",
              "      <th>2</th>\n",
              "      <td>Asian</td>\n",
              "      <td>119.0</td>\n",
              "      <td>51.0</td>\n",
              "      <td>170.0</td>\n",
              "      <td>October 20, 2020</td>\n",
              "    </tr>\n",
              "    <tr>\n",
              "      <th>3</th>\n",
              "      <td>Black/African American</td>\n",
              "      <td>49.0</td>\n",
              "      <td>145.0</td>\n",
              "      <td>194.0</td>\n",
              "      <td>October 20, 2020</td>\n",
              "    </tr>\n",
              "    <tr>\n",
              "      <th>4</th>\n",
              "      <td>American Indian/Native Alaskan</td>\n",
              "      <td>6.0</td>\n",
              "      <td>28.0</td>\n",
              "      <td>34.0</td>\n",
              "      <td>October 20, 2020</td>\n",
              "    </tr>\n",
              "  </tbody>\n",
              "</table>\n",
              "</div>"
            ],
            "text/plain": [
              "                        Ethnicity  Community  ...   Total              Date\n",
              "0                 Hispanic/Latino     5398.0  ...  5770.0  October 20, 2020\n",
              "1                           White      918.0  ...  1295.0  October 20, 2020\n",
              "2                           Asian      119.0  ...   170.0  October 20, 2020\n",
              "3          Black/African American       49.0  ...   194.0  October 20, 2020\n",
              "4  American Indian/Native Alaskan        6.0  ...    34.0  October 20, 2020\n",
              "\n",
              "[5 rows x 5 columns]"
            ]
          },
          "metadata": {
            "tags": []
          },
          "execution_count": 137
        }
      ]
    },
    {
      "cell_type": "code",
      "metadata": {
        "id": "Pjnt3LdtlKJn"
      },
      "source": [
        "#creating dictionary so that the following function can be run with a single input across the entire dashboard\n",
        "#column_dict = {'Community':'Percentage of Community Cases',\n",
        "#               'Lompoc Federal Prison':'Percentage of Prison Cases',\n",
        "#               'Total':'Percentage of Total Cases'}"
      ],
      "execution_count": 61,
      "outputs": []
    },
    {
      "cell_type": "code",
      "metadata": {
        "id": "iRRSxdMOYAvZ"
      },
      "source": [
        "#def create_pie_chart(date, column_name):\n",
        "#  fig = px.pie(ethnicity_viz[ethnicity_viz['Date'] == date],\n",
        "#               values = column_dict[column_name],\n",
        "#               names = 'Ethnicity',\n",
        "#               color = 'Ethnicity',\n",
        "#               template = 'plotly_dark',\n",
        "#               title = column_dict[column_name] + ' by Ethnicity<br>as of ' + date,\n",
        "#               color_discrete_sequence = px.colors.qualitative.D3,\n",
        "#               width = 800)\n",
        "  \n",
        "#  fig.update_layout(font_family = 'Courier',\n",
        "#                    font_color = 'white',\n",
        "#                    title_font_size = 24)\n",
        "#\n",
        "#  fig.show()"
      ],
      "execution_count": 62,
      "outputs": []
    },
    {
      "cell_type": "code",
      "metadata": {
        "id": "_e_kodUklyC7"
      },
      "source": [
        "def create_ethnicity_barplot(date, column_name):\n",
        "  fig = px.bar(ethnicity_viz[ethnicity_viz['Date'] == date],\n",
        "               x = column_name,\n",
        "               y = 'Ethnicity',\n",
        "               color = 'Ethnicity',\n",
        "               orientation = 'h',\n",
        "               template = 'plotly_dark',\n",
        "               title = column_name + ' Cases by Ethnicity as of ' + date,\n",
        "               color_discrete_sequence = px.colors.qualitative.D3)\n",
        "  \n",
        "  fig.update_layout(\n",
        "      hovermode = 'closest',\n",
        "      font_family = 'Courier',\n",
        "      font_color = 'white',\n",
        "      title_font_size = 24,\n",
        "      xaxis = dict(title=None),\n",
        "      yaxis = dict(title=None),\n",
        "      showlegend = False\n",
        "      #legend = dict(\n",
        "      #    orientation = 'h',\n",
        "      #    yanchor = 'bottom',\n",
        "      #    y = -0.2,\n",
        "      #    xanchor = 'left',\n",
        "      #    x=-0.21\n",
        "      #)\n",
        "  )\n",
        "\n",
        "  fig.show()"
      ],
      "execution_count": 150,
      "outputs": []
    },
    {
      "cell_type": "code",
      "metadata": {
        "id": "xB-q7ke5mrgD",
        "outputId": "417a77d0-d528-49ff-f645-785b9e0de7a1",
        "colab": {
          "base_uri": "https://localhost:8080/",
          "height": 542
        }
      },
      "source": [
        "create_ethnicity_barplot('October 20, 2020','Community')"
      ],
      "execution_count": 151,
      "outputs": [
        {
          "output_type": "display_data",
          "data": {
            "text/html": [
              "<html>\n",
              "<head><meta charset=\"utf-8\" /></head>\n",
              "<body>\n",
              "    <div>            <script src=\"https://cdnjs.cloudflare.com/ajax/libs/mathjax/2.7.5/MathJax.js?config=TeX-AMS-MML_SVG\"></script><script type=\"text/javascript\">if (window.MathJax) {MathJax.Hub.Config({SVG: {font: \"STIX-Web\"}});}</script>                <script type=\"text/javascript\">window.PlotlyConfig = {MathJaxConfig: 'local'};</script>\n",
              "        <script src=\"https://cdn.plot.ly/plotly-latest.min.js\"></script>                <div id=\"f56c3034-e9de-42da-bb22-d0f98b400913\" class=\"plotly-graph-div\" style=\"height:525px; width:100%;\"></div>            <script type=\"text/javascript\">                                    window.PLOTLYENV=window.PLOTLYENV || {};                                    if (document.getElementById(\"f56c3034-e9de-42da-bb22-d0f98b400913\")) {                    Plotly.newPlot(                        \"f56c3034-e9de-42da-bb22-d0f98b400913\",                        [{\"alignmentgroup\": \"True\", \"hovertemplate\": \"Ethnicity=%{y}<br>Community=%{x}<extra></extra>\", \"legendgroup\": \"Hispanic/Latino\", \"marker\": {\"color\": \"#1F77B4\"}, \"name\": \"Hispanic/Latino\", \"offsetgroup\": \"Hispanic/Latino\", \"orientation\": \"h\", \"showlegend\": true, \"textposition\": \"auto\", \"type\": \"bar\", \"x\": [5398.0], \"xaxis\": \"x\", \"y\": [\"Hispanic/Latino\"], \"yaxis\": \"y\"}, {\"alignmentgroup\": \"True\", \"hovertemplate\": \"Ethnicity=%{y}<br>Community=%{x}<extra></extra>\", \"legendgroup\": \"White\", \"marker\": {\"color\": \"#FF7F0E\"}, \"name\": \"White\", \"offsetgroup\": \"White\", \"orientation\": \"h\", \"showlegend\": true, \"textposition\": \"auto\", \"type\": \"bar\", \"x\": [918.0], \"xaxis\": \"x\", \"y\": [\"White\"], \"yaxis\": \"y\"}, {\"alignmentgroup\": \"True\", \"hovertemplate\": \"Ethnicity=%{y}<br>Community=%{x}<extra></extra>\", \"legendgroup\": \"Asian\", \"marker\": {\"color\": \"#2CA02C\"}, \"name\": \"Asian\", \"offsetgroup\": \"Asian\", \"orientation\": \"h\", \"showlegend\": true, \"textposition\": \"auto\", \"type\": \"bar\", \"x\": [119.0], \"xaxis\": \"x\", \"y\": [\"Asian\"], \"yaxis\": \"y\"}, {\"alignmentgroup\": \"True\", \"hovertemplate\": \"Ethnicity=%{y}<br>Community=%{x}<extra></extra>\", \"legendgroup\": \"Black/African American\", \"marker\": {\"color\": \"#D62728\"}, \"name\": \"Black/African American\", \"offsetgroup\": \"Black/African American\", \"orientation\": \"h\", \"showlegend\": true, \"textposition\": \"auto\", \"type\": \"bar\", \"x\": [49.0], \"xaxis\": \"x\", \"y\": [\"Black/African American\"], \"yaxis\": \"y\"}, {\"alignmentgroup\": \"True\", \"hovertemplate\": \"Ethnicity=%{y}<br>Community=%{x}<extra></extra>\", \"legendgroup\": \"American Indian/Native Alaskan\", \"marker\": {\"color\": \"#9467BD\"}, \"name\": \"American Indian/Native Alaskan\", \"offsetgroup\": \"American Indian/Native Alaskan\", \"orientation\": \"h\", \"showlegend\": true, \"textposition\": \"auto\", \"type\": \"bar\", \"x\": [6.0], \"xaxis\": \"x\", \"y\": [\"American Indian/Native Alaskan\"], \"yaxis\": \"y\"}, {\"alignmentgroup\": \"True\", \"hovertemplate\": \"Ethnicity=%{y}<br>Community=%{x}<extra></extra>\", \"legendgroup\": \"Native Hawaiian or Pacific Islander\", \"marker\": {\"color\": \"#8C564B\"}, \"name\": \"Native Hawaiian or Pacific Islander\", \"offsetgroup\": \"Native Hawaiian or Pacific Islander\", \"orientation\": \"h\", \"showlegend\": true, \"textposition\": \"auto\", \"type\": \"bar\", \"x\": [5.0], \"xaxis\": \"x\", \"y\": [\"Native Hawaiian or Pacific Islander\"], \"yaxis\": \"y\"}, {\"alignmentgroup\": \"True\", \"hovertemplate\": \"Ethnicity=%{y}<br>Community=%{x}<extra></extra>\", \"legendgroup\": \"Multiracial\", \"marker\": {\"color\": \"#E377C2\"}, \"name\": \"Multiracial\", \"offsetgroup\": \"Multiracial\", \"orientation\": \"h\", \"showlegend\": true, \"textposition\": \"auto\", \"type\": \"bar\", \"x\": [84.0], \"xaxis\": \"x\", \"y\": [\"Multiracial\"], \"yaxis\": \"y\"}],                        {\"barmode\": \"relative\", \"font\": {\"color\": \"white\", \"family\": \"Courier\"}, \"hovermode\": \"closest\", \"legend\": {\"title\": {\"text\": \"Ethnicity\"}, \"tracegroupgap\": 0}, \"showlegend\": false, \"template\": {\"data\": {\"bar\": [{\"error_x\": {\"color\": \"#f2f5fa\"}, \"error_y\": {\"color\": \"#f2f5fa\"}, \"marker\": {\"line\": {\"color\": \"rgb(17,17,17)\", \"width\": 0.5}}, \"type\": \"bar\"}], \"barpolar\": [{\"marker\": {\"line\": {\"color\": \"rgb(17,17,17)\", \"width\": 0.5}}, \"type\": \"barpolar\"}], \"carpet\": [{\"aaxis\": {\"endlinecolor\": \"#A2B1C6\", \"gridcolor\": \"#506784\", \"linecolor\": \"#506784\", \"minorgridcolor\": \"#506784\", \"startlinecolor\": \"#A2B1C6\"}, \"baxis\": {\"endlinecolor\": \"#A2B1C6\", \"gridcolor\": \"#506784\", \"linecolor\": \"#506784\", \"minorgridcolor\": \"#506784\", \"startlinecolor\": \"#A2B1C6\"}, \"type\": \"carpet\"}], \"choropleth\": [{\"colorbar\": {\"outlinewidth\": 0, \"ticks\": \"\"}, \"type\": \"choropleth\"}], \"contour\": [{\"colorbar\": {\"outlinewidth\": 0, \"ticks\": \"\"}, \"colorscale\": [[0.0, \"#0d0887\"], [0.1111111111111111, \"#46039f\"], [0.2222222222222222, \"#7201a8\"], [0.3333333333333333, \"#9c179e\"], [0.4444444444444444, \"#bd3786\"], [0.5555555555555556, \"#d8576b\"], [0.6666666666666666, \"#ed7953\"], [0.7777777777777778, \"#fb9f3a\"], [0.8888888888888888, \"#fdca26\"], [1.0, \"#f0f921\"]], \"type\": \"contour\"}], \"contourcarpet\": [{\"colorbar\": {\"outlinewidth\": 0, \"ticks\": \"\"}, \"type\": \"contourcarpet\"}], \"heatmap\": [{\"colorbar\": {\"outlinewidth\": 0, \"ticks\": \"\"}, \"colorscale\": [[0.0, \"#0d0887\"], [0.1111111111111111, \"#46039f\"], [0.2222222222222222, \"#7201a8\"], [0.3333333333333333, \"#9c179e\"], [0.4444444444444444, \"#bd3786\"], [0.5555555555555556, \"#d8576b\"], [0.6666666666666666, \"#ed7953\"], [0.7777777777777778, \"#fb9f3a\"], [0.8888888888888888, \"#fdca26\"], [1.0, \"#f0f921\"]], \"type\": \"heatmap\"}], \"heatmapgl\": [{\"colorbar\": {\"outlinewidth\": 0, \"ticks\": \"\"}, \"colorscale\": [[0.0, \"#0d0887\"], [0.1111111111111111, \"#46039f\"], [0.2222222222222222, \"#7201a8\"], [0.3333333333333333, \"#9c179e\"], [0.4444444444444444, \"#bd3786\"], [0.5555555555555556, \"#d8576b\"], [0.6666666666666666, \"#ed7953\"], [0.7777777777777778, \"#fb9f3a\"], [0.8888888888888888, \"#fdca26\"], [1.0, \"#f0f921\"]], \"type\": \"heatmapgl\"}], \"histogram\": [{\"marker\": {\"colorbar\": {\"outlinewidth\": 0, \"ticks\": \"\"}}, \"type\": \"histogram\"}], \"histogram2d\": [{\"colorbar\": {\"outlinewidth\": 0, \"ticks\": \"\"}, \"colorscale\": [[0.0, \"#0d0887\"], [0.1111111111111111, \"#46039f\"], [0.2222222222222222, \"#7201a8\"], [0.3333333333333333, \"#9c179e\"], [0.4444444444444444, \"#bd3786\"], [0.5555555555555556, \"#d8576b\"], [0.6666666666666666, \"#ed7953\"], [0.7777777777777778, \"#fb9f3a\"], [0.8888888888888888, \"#fdca26\"], [1.0, \"#f0f921\"]], \"type\": \"histogram2d\"}], \"histogram2dcontour\": [{\"colorbar\": {\"outlinewidth\": 0, \"ticks\": \"\"}, \"colorscale\": [[0.0, \"#0d0887\"], [0.1111111111111111, \"#46039f\"], [0.2222222222222222, \"#7201a8\"], [0.3333333333333333, \"#9c179e\"], [0.4444444444444444, \"#bd3786\"], [0.5555555555555556, \"#d8576b\"], [0.6666666666666666, \"#ed7953\"], [0.7777777777777778, \"#fb9f3a\"], [0.8888888888888888, \"#fdca26\"], [1.0, \"#f0f921\"]], \"type\": \"histogram2dcontour\"}], \"mesh3d\": [{\"colorbar\": {\"outlinewidth\": 0, \"ticks\": \"\"}, \"type\": \"mesh3d\"}], \"parcoords\": [{\"line\": {\"colorbar\": {\"outlinewidth\": 0, \"ticks\": \"\"}}, \"type\": \"parcoords\"}], \"pie\": [{\"automargin\": true, \"type\": \"pie\"}], \"scatter\": [{\"marker\": {\"line\": {\"color\": \"#283442\"}}, \"type\": \"scatter\"}], \"scatter3d\": [{\"line\": {\"colorbar\": {\"outlinewidth\": 0, \"ticks\": \"\"}}, \"marker\": {\"colorbar\": {\"outlinewidth\": 0, \"ticks\": \"\"}}, \"type\": \"scatter3d\"}], \"scattercarpet\": [{\"marker\": {\"colorbar\": {\"outlinewidth\": 0, \"ticks\": \"\"}}, \"type\": \"scattercarpet\"}], \"scattergeo\": [{\"marker\": {\"colorbar\": {\"outlinewidth\": 0, \"ticks\": \"\"}}, \"type\": \"scattergeo\"}], \"scattergl\": [{\"marker\": {\"line\": {\"color\": \"#283442\"}}, \"type\": \"scattergl\"}], \"scattermapbox\": [{\"marker\": {\"colorbar\": {\"outlinewidth\": 0, \"ticks\": \"\"}}, \"type\": \"scattermapbox\"}], \"scatterpolar\": [{\"marker\": {\"colorbar\": {\"outlinewidth\": 0, \"ticks\": \"\"}}, \"type\": \"scatterpolar\"}], \"scatterpolargl\": [{\"marker\": {\"colorbar\": {\"outlinewidth\": 0, \"ticks\": \"\"}}, \"type\": \"scatterpolargl\"}], \"scatterternary\": [{\"marker\": {\"colorbar\": {\"outlinewidth\": 0, \"ticks\": \"\"}}, \"type\": \"scatterternary\"}], \"surface\": [{\"colorbar\": {\"outlinewidth\": 0, \"ticks\": \"\"}, \"colorscale\": [[0.0, \"#0d0887\"], [0.1111111111111111, \"#46039f\"], [0.2222222222222222, \"#7201a8\"], [0.3333333333333333, \"#9c179e\"], [0.4444444444444444, \"#bd3786\"], [0.5555555555555556, \"#d8576b\"], [0.6666666666666666, \"#ed7953\"], [0.7777777777777778, \"#fb9f3a\"], [0.8888888888888888, \"#fdca26\"], [1.0, \"#f0f921\"]], \"type\": \"surface\"}], \"table\": [{\"cells\": {\"fill\": {\"color\": \"#506784\"}, \"line\": {\"color\": \"rgb(17,17,17)\"}}, \"header\": {\"fill\": {\"color\": \"#2a3f5f\"}, \"line\": {\"color\": \"rgb(17,17,17)\"}}, \"type\": \"table\"}]}, \"layout\": {\"annotationdefaults\": {\"arrowcolor\": \"#f2f5fa\", \"arrowhead\": 0, \"arrowwidth\": 1}, \"coloraxis\": {\"colorbar\": {\"outlinewidth\": 0, \"ticks\": \"\"}}, \"colorscale\": {\"diverging\": [[0, \"#8e0152\"], [0.1, \"#c51b7d\"], [0.2, \"#de77ae\"], [0.3, \"#f1b6da\"], [0.4, \"#fde0ef\"], [0.5, \"#f7f7f7\"], [0.6, \"#e6f5d0\"], [0.7, \"#b8e186\"], [0.8, \"#7fbc41\"], [0.9, \"#4d9221\"], [1, \"#276419\"]], \"sequential\": [[0.0, \"#0d0887\"], [0.1111111111111111, \"#46039f\"], [0.2222222222222222, \"#7201a8\"], [0.3333333333333333, \"#9c179e\"], [0.4444444444444444, \"#bd3786\"], [0.5555555555555556, \"#d8576b\"], [0.6666666666666666, \"#ed7953\"], [0.7777777777777778, \"#fb9f3a\"], [0.8888888888888888, \"#fdca26\"], [1.0, \"#f0f921\"]], \"sequentialminus\": [[0.0, \"#0d0887\"], [0.1111111111111111, \"#46039f\"], [0.2222222222222222, \"#7201a8\"], [0.3333333333333333, \"#9c179e\"], [0.4444444444444444, \"#bd3786\"], [0.5555555555555556, \"#d8576b\"], [0.6666666666666666, \"#ed7953\"], [0.7777777777777778, \"#fb9f3a\"], [0.8888888888888888, \"#fdca26\"], [1.0, \"#f0f921\"]]}, \"colorway\": [\"#636efa\", \"#EF553B\", \"#00cc96\", \"#ab63fa\", \"#FFA15A\", \"#19d3f3\", \"#FF6692\", \"#B6E880\", \"#FF97FF\", \"#FECB52\"], \"font\": {\"color\": \"#f2f5fa\"}, \"geo\": {\"bgcolor\": \"rgb(17,17,17)\", \"lakecolor\": \"rgb(17,17,17)\", \"landcolor\": \"rgb(17,17,17)\", \"showlakes\": true, \"showland\": true, \"subunitcolor\": \"#506784\"}, \"hoverlabel\": {\"align\": \"left\"}, \"hovermode\": \"closest\", \"mapbox\": {\"style\": \"dark\"}, \"paper_bgcolor\": \"rgb(17,17,17)\", \"plot_bgcolor\": \"rgb(17,17,17)\", \"polar\": {\"angularaxis\": {\"gridcolor\": \"#506784\", \"linecolor\": \"#506784\", \"ticks\": \"\"}, \"bgcolor\": \"rgb(17,17,17)\", \"radialaxis\": {\"gridcolor\": \"#506784\", \"linecolor\": \"#506784\", \"ticks\": \"\"}}, \"scene\": {\"xaxis\": {\"backgroundcolor\": \"rgb(17,17,17)\", \"gridcolor\": \"#506784\", \"gridwidth\": 2, \"linecolor\": \"#506784\", \"showbackground\": true, \"ticks\": \"\", \"zerolinecolor\": \"#C8D4E3\"}, \"yaxis\": {\"backgroundcolor\": \"rgb(17,17,17)\", \"gridcolor\": \"#506784\", \"gridwidth\": 2, \"linecolor\": \"#506784\", \"showbackground\": true, \"ticks\": \"\", \"zerolinecolor\": \"#C8D4E3\"}, \"zaxis\": {\"backgroundcolor\": \"rgb(17,17,17)\", \"gridcolor\": \"#506784\", \"gridwidth\": 2, \"linecolor\": \"#506784\", \"showbackground\": true, \"ticks\": \"\", \"zerolinecolor\": \"#C8D4E3\"}}, \"shapedefaults\": {\"line\": {\"color\": \"#f2f5fa\"}}, \"sliderdefaults\": {\"bgcolor\": \"#C8D4E3\", \"bordercolor\": \"rgb(17,17,17)\", \"borderwidth\": 1, \"tickwidth\": 0}, \"ternary\": {\"aaxis\": {\"gridcolor\": \"#506784\", \"linecolor\": \"#506784\", \"ticks\": \"\"}, \"baxis\": {\"gridcolor\": \"#506784\", \"linecolor\": \"#506784\", \"ticks\": \"\"}, \"bgcolor\": \"rgb(17,17,17)\", \"caxis\": {\"gridcolor\": \"#506784\", \"linecolor\": \"#506784\", \"ticks\": \"\"}}, \"title\": {\"x\": 0.05}, \"updatemenudefaults\": {\"bgcolor\": \"#506784\", \"borderwidth\": 0}, \"xaxis\": {\"automargin\": true, \"gridcolor\": \"#283442\", \"linecolor\": \"#506784\", \"ticks\": \"\", \"title\": {\"standoff\": 15}, \"zerolinecolor\": \"#283442\", \"zerolinewidth\": 2}, \"yaxis\": {\"automargin\": true, \"gridcolor\": \"#283442\", \"linecolor\": \"#506784\", \"ticks\": \"\", \"title\": {\"standoff\": 15}, \"zerolinecolor\": \"#283442\", \"zerolinewidth\": 2}}}, \"title\": {\"font\": {\"size\": 24}, \"text\": \"Community Cases by Ethnicity as of October 20, 2020\"}, \"xaxis\": {\"anchor\": \"y\", \"domain\": [0.0, 1.0], \"title\": {}}, \"yaxis\": {\"anchor\": \"x\", \"categoryarray\": [\"Multiracial\", \"Native Hawaiian or Pacific Islander\", \"American Indian/Native Alaskan\", \"Black/African American\", \"Asian\", \"White\", \"Hispanic/Latino\"], \"categoryorder\": \"array\", \"domain\": [0.0, 1.0], \"title\": {}}},                        {\"responsive\": true}                    ).then(function(){\n",
              "                            \n",
              "var gd = document.getElementById('f56c3034-e9de-42da-bb22-d0f98b400913');\n",
              "var x = new MutationObserver(function (mutations, observer) {{\n",
              "        var display = window.getComputedStyle(gd).display;\n",
              "        if (!display || display === 'none') {{\n",
              "            console.log([gd, 'removed!']);\n",
              "            Plotly.purge(gd);\n",
              "            observer.disconnect();\n",
              "        }}\n",
              "}});\n",
              "\n",
              "// Listen for the removal of the full notebook cells\n",
              "var notebookContainer = gd.closest('#notebook-container');\n",
              "if (notebookContainer) {{\n",
              "    x.observe(notebookContainer, {childList: true});\n",
              "}}\n",
              "\n",
              "// Listen for the clearing of the current output cell\n",
              "var outputEl = gd.closest('.output');\n",
              "if (outputEl) {{\n",
              "    x.observe(outputEl, {childList: true});\n",
              "}}\n",
              "\n",
              "                        })                };                            </script>        </div>\n",
              "</body>\n",
              "</html>"
            ]
          },
          "metadata": {
            "tags": []
          }
        }
      ]
    },
    {
      "cell_type": "code",
      "metadata": {
        "id": "AiRV628_neNO",
        "outputId": "2446df40-98a0-4da0-d469-b1245b760803",
        "colab": {
          "base_uri": "https://localhost:8080/",
          "height": 542
        }
      },
      "source": [
        "create_ethnicity_barplot('October 20, 2020','Lompoc Federal Prison')"
      ],
      "execution_count": 152,
      "outputs": [
        {
          "output_type": "display_data",
          "data": {
            "text/html": [
              "<html>\n",
              "<head><meta charset=\"utf-8\" /></head>\n",
              "<body>\n",
              "    <div>            <script src=\"https://cdnjs.cloudflare.com/ajax/libs/mathjax/2.7.5/MathJax.js?config=TeX-AMS-MML_SVG\"></script><script type=\"text/javascript\">if (window.MathJax) {MathJax.Hub.Config({SVG: {font: \"STIX-Web\"}});}</script>                <script type=\"text/javascript\">window.PlotlyConfig = {MathJaxConfig: 'local'};</script>\n",
              "        <script src=\"https://cdn.plot.ly/plotly-latest.min.js\"></script>                <div id=\"3162b228-b6ec-46aa-b86e-94b5227d0bb2\" class=\"plotly-graph-div\" style=\"height:525px; width:100%;\"></div>            <script type=\"text/javascript\">                                    window.PLOTLYENV=window.PLOTLYENV || {};                                    if (document.getElementById(\"3162b228-b6ec-46aa-b86e-94b5227d0bb2\")) {                    Plotly.newPlot(                        \"3162b228-b6ec-46aa-b86e-94b5227d0bb2\",                        [{\"alignmentgroup\": \"True\", \"hovertemplate\": \"Ethnicity=%{y}<br>Lompoc Federal Prison=%{x}<extra></extra>\", \"legendgroup\": \"Hispanic/Latino\", \"marker\": {\"color\": \"#1F77B4\"}, \"name\": \"Hispanic/Latino\", \"offsetgroup\": \"Hispanic/Latino\", \"orientation\": \"h\", \"showlegend\": true, \"textposition\": \"auto\", \"type\": \"bar\", \"x\": [372.0], \"xaxis\": \"x\", \"y\": [\"Hispanic/Latino\"], \"yaxis\": \"y\"}, {\"alignmentgroup\": \"True\", \"hovertemplate\": \"Ethnicity=%{y}<br>Lompoc Federal Prison=%{x}<extra></extra>\", \"legendgroup\": \"White\", \"marker\": {\"color\": \"#FF7F0E\"}, \"name\": \"White\", \"offsetgroup\": \"White\", \"orientation\": \"h\", \"showlegend\": true, \"textposition\": \"auto\", \"type\": \"bar\", \"x\": [377.0], \"xaxis\": \"x\", \"y\": [\"White\"], \"yaxis\": \"y\"}, {\"alignmentgroup\": \"True\", \"hovertemplate\": \"Ethnicity=%{y}<br>Lompoc Federal Prison=%{x}<extra></extra>\", \"legendgroup\": \"Asian\", \"marker\": {\"color\": \"#2CA02C\"}, \"name\": \"Asian\", \"offsetgroup\": \"Asian\", \"orientation\": \"h\", \"showlegend\": true, \"textposition\": \"auto\", \"type\": \"bar\", \"x\": [51.0], \"xaxis\": \"x\", \"y\": [\"Asian\"], \"yaxis\": \"y\"}, {\"alignmentgroup\": \"True\", \"hovertemplate\": \"Ethnicity=%{y}<br>Lompoc Federal Prison=%{x}<extra></extra>\", \"legendgroup\": \"Black/African American\", \"marker\": {\"color\": \"#D62728\"}, \"name\": \"Black/African American\", \"offsetgroup\": \"Black/African American\", \"orientation\": \"h\", \"showlegend\": true, \"textposition\": \"auto\", \"type\": \"bar\", \"x\": [145.0], \"xaxis\": \"x\", \"y\": [\"Black/African American\"], \"yaxis\": \"y\"}, {\"alignmentgroup\": \"True\", \"hovertemplate\": \"Ethnicity=%{y}<br>Lompoc Federal Prison=%{x}<extra></extra>\", \"legendgroup\": \"American Indian/Native Alaskan\", \"marker\": {\"color\": \"#9467BD\"}, \"name\": \"American Indian/Native Alaskan\", \"offsetgroup\": \"American Indian/Native Alaskan\", \"orientation\": \"h\", \"showlegend\": true, \"textposition\": \"auto\", \"type\": \"bar\", \"x\": [28.0], \"xaxis\": \"x\", \"y\": [\"American Indian/Native Alaskan\"], \"yaxis\": \"y\"}, {\"alignmentgroup\": \"True\", \"hovertemplate\": \"Ethnicity=%{y}<br>Lompoc Federal Prison=%{x}<extra></extra>\", \"legendgroup\": \"Native Hawaiian or Pacific Islander\", \"marker\": {\"color\": \"#8C564B\"}, \"name\": \"Native Hawaiian or Pacific Islander\", \"offsetgroup\": \"Native Hawaiian or Pacific Islander\", \"orientation\": \"h\", \"showlegend\": true, \"textposition\": \"auto\", \"type\": \"bar\", \"x\": [1.0], \"xaxis\": \"x\", \"y\": [\"Native Hawaiian or Pacific Islander\"], \"yaxis\": \"y\"}, {\"alignmentgroup\": \"True\", \"hovertemplate\": \"Ethnicity=%{y}<br>Lompoc Federal Prison=%{x}<extra></extra>\", \"legendgroup\": \"Multiracial\", \"marker\": {\"color\": \"#E377C2\"}, \"name\": \"Multiracial\", \"offsetgroup\": \"Multiracial\", \"orientation\": \"h\", \"showlegend\": true, \"textposition\": \"auto\", \"type\": \"bar\", \"x\": [1.0], \"xaxis\": \"x\", \"y\": [\"Multiracial\"], \"yaxis\": \"y\"}],                        {\"barmode\": \"relative\", \"font\": {\"color\": \"white\", \"family\": \"Courier\"}, \"hovermode\": \"closest\", \"legend\": {\"title\": {\"text\": \"Ethnicity\"}, \"tracegroupgap\": 0}, \"showlegend\": false, \"template\": {\"data\": {\"bar\": [{\"error_x\": {\"color\": \"#f2f5fa\"}, \"error_y\": {\"color\": \"#f2f5fa\"}, \"marker\": {\"line\": {\"color\": \"rgb(17,17,17)\", \"width\": 0.5}}, \"type\": \"bar\"}], \"barpolar\": [{\"marker\": {\"line\": {\"color\": \"rgb(17,17,17)\", \"width\": 0.5}}, \"type\": \"barpolar\"}], \"carpet\": [{\"aaxis\": {\"endlinecolor\": \"#A2B1C6\", \"gridcolor\": \"#506784\", \"linecolor\": \"#506784\", \"minorgridcolor\": \"#506784\", \"startlinecolor\": \"#A2B1C6\"}, \"baxis\": {\"endlinecolor\": \"#A2B1C6\", \"gridcolor\": \"#506784\", \"linecolor\": \"#506784\", \"minorgridcolor\": \"#506784\", \"startlinecolor\": \"#A2B1C6\"}, \"type\": \"carpet\"}], \"choropleth\": [{\"colorbar\": {\"outlinewidth\": 0, \"ticks\": \"\"}, \"type\": \"choropleth\"}], \"contour\": [{\"colorbar\": {\"outlinewidth\": 0, \"ticks\": \"\"}, \"colorscale\": [[0.0, \"#0d0887\"], [0.1111111111111111, \"#46039f\"], [0.2222222222222222, \"#7201a8\"], [0.3333333333333333, \"#9c179e\"], [0.4444444444444444, \"#bd3786\"], [0.5555555555555556, \"#d8576b\"], [0.6666666666666666, \"#ed7953\"], [0.7777777777777778, \"#fb9f3a\"], [0.8888888888888888, \"#fdca26\"], [1.0, \"#f0f921\"]], \"type\": \"contour\"}], \"contourcarpet\": [{\"colorbar\": {\"outlinewidth\": 0, \"ticks\": \"\"}, \"type\": \"contourcarpet\"}], \"heatmap\": [{\"colorbar\": {\"outlinewidth\": 0, \"ticks\": \"\"}, \"colorscale\": [[0.0, \"#0d0887\"], [0.1111111111111111, \"#46039f\"], [0.2222222222222222, \"#7201a8\"], [0.3333333333333333, \"#9c179e\"], [0.4444444444444444, \"#bd3786\"], [0.5555555555555556, \"#d8576b\"], [0.6666666666666666, \"#ed7953\"], [0.7777777777777778, \"#fb9f3a\"], [0.8888888888888888, \"#fdca26\"], [1.0, \"#f0f921\"]], \"type\": \"heatmap\"}], \"heatmapgl\": [{\"colorbar\": {\"outlinewidth\": 0, \"ticks\": \"\"}, \"colorscale\": [[0.0, \"#0d0887\"], [0.1111111111111111, \"#46039f\"], [0.2222222222222222, \"#7201a8\"], [0.3333333333333333, \"#9c179e\"], [0.4444444444444444, \"#bd3786\"], [0.5555555555555556, \"#d8576b\"], [0.6666666666666666, \"#ed7953\"], [0.7777777777777778, \"#fb9f3a\"], [0.8888888888888888, \"#fdca26\"], [1.0, \"#f0f921\"]], \"type\": \"heatmapgl\"}], \"histogram\": [{\"marker\": {\"colorbar\": {\"outlinewidth\": 0, \"ticks\": \"\"}}, \"type\": \"histogram\"}], \"histogram2d\": [{\"colorbar\": {\"outlinewidth\": 0, \"ticks\": \"\"}, \"colorscale\": [[0.0, \"#0d0887\"], [0.1111111111111111, \"#46039f\"], [0.2222222222222222, \"#7201a8\"], [0.3333333333333333, \"#9c179e\"], [0.4444444444444444, \"#bd3786\"], [0.5555555555555556, \"#d8576b\"], [0.6666666666666666, \"#ed7953\"], [0.7777777777777778, \"#fb9f3a\"], [0.8888888888888888, \"#fdca26\"], [1.0, \"#f0f921\"]], \"type\": \"histogram2d\"}], \"histogram2dcontour\": [{\"colorbar\": {\"outlinewidth\": 0, \"ticks\": \"\"}, \"colorscale\": [[0.0, \"#0d0887\"], [0.1111111111111111, \"#46039f\"], [0.2222222222222222, \"#7201a8\"], [0.3333333333333333, \"#9c179e\"], [0.4444444444444444, \"#bd3786\"], [0.5555555555555556, \"#d8576b\"], [0.6666666666666666, \"#ed7953\"], [0.7777777777777778, \"#fb9f3a\"], [0.8888888888888888, \"#fdca26\"], [1.0, \"#f0f921\"]], \"type\": \"histogram2dcontour\"}], \"mesh3d\": [{\"colorbar\": {\"outlinewidth\": 0, \"ticks\": \"\"}, \"type\": \"mesh3d\"}], \"parcoords\": [{\"line\": {\"colorbar\": {\"outlinewidth\": 0, \"ticks\": \"\"}}, \"type\": \"parcoords\"}], \"pie\": [{\"automargin\": true, \"type\": \"pie\"}], \"scatter\": [{\"marker\": {\"line\": {\"color\": \"#283442\"}}, \"type\": \"scatter\"}], \"scatter3d\": [{\"line\": {\"colorbar\": {\"outlinewidth\": 0, \"ticks\": \"\"}}, \"marker\": {\"colorbar\": {\"outlinewidth\": 0, \"ticks\": \"\"}}, \"type\": \"scatter3d\"}], \"scattercarpet\": [{\"marker\": {\"colorbar\": {\"outlinewidth\": 0, \"ticks\": \"\"}}, \"type\": \"scattercarpet\"}], \"scattergeo\": [{\"marker\": {\"colorbar\": {\"outlinewidth\": 0, \"ticks\": \"\"}}, \"type\": \"scattergeo\"}], \"scattergl\": [{\"marker\": {\"line\": {\"color\": \"#283442\"}}, \"type\": \"scattergl\"}], \"scattermapbox\": [{\"marker\": {\"colorbar\": {\"outlinewidth\": 0, \"ticks\": \"\"}}, \"type\": \"scattermapbox\"}], \"scatterpolar\": [{\"marker\": {\"colorbar\": {\"outlinewidth\": 0, \"ticks\": \"\"}}, \"type\": \"scatterpolar\"}], \"scatterpolargl\": [{\"marker\": {\"colorbar\": {\"outlinewidth\": 0, \"ticks\": \"\"}}, \"type\": \"scatterpolargl\"}], \"scatterternary\": [{\"marker\": {\"colorbar\": {\"outlinewidth\": 0, \"ticks\": \"\"}}, \"type\": \"scatterternary\"}], \"surface\": [{\"colorbar\": {\"outlinewidth\": 0, \"ticks\": \"\"}, \"colorscale\": [[0.0, \"#0d0887\"], [0.1111111111111111, \"#46039f\"], [0.2222222222222222, \"#7201a8\"], [0.3333333333333333, \"#9c179e\"], [0.4444444444444444, \"#bd3786\"], [0.5555555555555556, \"#d8576b\"], [0.6666666666666666, \"#ed7953\"], [0.7777777777777778, \"#fb9f3a\"], [0.8888888888888888, \"#fdca26\"], [1.0, \"#f0f921\"]], \"type\": \"surface\"}], \"table\": [{\"cells\": {\"fill\": {\"color\": \"#506784\"}, \"line\": {\"color\": \"rgb(17,17,17)\"}}, \"header\": {\"fill\": {\"color\": \"#2a3f5f\"}, \"line\": {\"color\": \"rgb(17,17,17)\"}}, \"type\": \"table\"}]}, \"layout\": {\"annotationdefaults\": {\"arrowcolor\": \"#f2f5fa\", \"arrowhead\": 0, \"arrowwidth\": 1}, \"coloraxis\": {\"colorbar\": {\"outlinewidth\": 0, \"ticks\": \"\"}}, \"colorscale\": {\"diverging\": [[0, \"#8e0152\"], [0.1, \"#c51b7d\"], [0.2, \"#de77ae\"], [0.3, \"#f1b6da\"], [0.4, \"#fde0ef\"], [0.5, \"#f7f7f7\"], [0.6, \"#e6f5d0\"], [0.7, \"#b8e186\"], [0.8, \"#7fbc41\"], [0.9, \"#4d9221\"], [1, \"#276419\"]], \"sequential\": [[0.0, \"#0d0887\"], [0.1111111111111111, \"#46039f\"], [0.2222222222222222, \"#7201a8\"], [0.3333333333333333, \"#9c179e\"], [0.4444444444444444, \"#bd3786\"], [0.5555555555555556, \"#d8576b\"], [0.6666666666666666, \"#ed7953\"], [0.7777777777777778, \"#fb9f3a\"], [0.8888888888888888, \"#fdca26\"], [1.0, \"#f0f921\"]], \"sequentialminus\": [[0.0, \"#0d0887\"], [0.1111111111111111, \"#46039f\"], [0.2222222222222222, \"#7201a8\"], [0.3333333333333333, \"#9c179e\"], [0.4444444444444444, \"#bd3786\"], [0.5555555555555556, \"#d8576b\"], [0.6666666666666666, \"#ed7953\"], [0.7777777777777778, \"#fb9f3a\"], [0.8888888888888888, \"#fdca26\"], [1.0, \"#f0f921\"]]}, \"colorway\": [\"#636efa\", \"#EF553B\", \"#00cc96\", \"#ab63fa\", \"#FFA15A\", \"#19d3f3\", \"#FF6692\", \"#B6E880\", \"#FF97FF\", \"#FECB52\"], \"font\": {\"color\": \"#f2f5fa\"}, \"geo\": {\"bgcolor\": \"rgb(17,17,17)\", \"lakecolor\": \"rgb(17,17,17)\", \"landcolor\": \"rgb(17,17,17)\", \"showlakes\": true, \"showland\": true, \"subunitcolor\": \"#506784\"}, \"hoverlabel\": {\"align\": \"left\"}, \"hovermode\": \"closest\", \"mapbox\": {\"style\": \"dark\"}, \"paper_bgcolor\": \"rgb(17,17,17)\", \"plot_bgcolor\": \"rgb(17,17,17)\", \"polar\": {\"angularaxis\": {\"gridcolor\": \"#506784\", \"linecolor\": \"#506784\", \"ticks\": \"\"}, \"bgcolor\": \"rgb(17,17,17)\", \"radialaxis\": {\"gridcolor\": \"#506784\", \"linecolor\": \"#506784\", \"ticks\": \"\"}}, \"scene\": {\"xaxis\": {\"backgroundcolor\": \"rgb(17,17,17)\", \"gridcolor\": \"#506784\", \"gridwidth\": 2, \"linecolor\": \"#506784\", \"showbackground\": true, \"ticks\": \"\", \"zerolinecolor\": \"#C8D4E3\"}, \"yaxis\": {\"backgroundcolor\": \"rgb(17,17,17)\", \"gridcolor\": \"#506784\", \"gridwidth\": 2, \"linecolor\": \"#506784\", \"showbackground\": true, \"ticks\": \"\", \"zerolinecolor\": \"#C8D4E3\"}, \"zaxis\": {\"backgroundcolor\": \"rgb(17,17,17)\", \"gridcolor\": \"#506784\", \"gridwidth\": 2, \"linecolor\": \"#506784\", \"showbackground\": true, \"ticks\": \"\", \"zerolinecolor\": \"#C8D4E3\"}}, \"shapedefaults\": {\"line\": {\"color\": \"#f2f5fa\"}}, \"sliderdefaults\": {\"bgcolor\": \"#C8D4E3\", \"bordercolor\": \"rgb(17,17,17)\", \"borderwidth\": 1, \"tickwidth\": 0}, \"ternary\": {\"aaxis\": {\"gridcolor\": \"#506784\", \"linecolor\": \"#506784\", \"ticks\": \"\"}, \"baxis\": {\"gridcolor\": \"#506784\", \"linecolor\": \"#506784\", \"ticks\": \"\"}, \"bgcolor\": \"rgb(17,17,17)\", \"caxis\": {\"gridcolor\": \"#506784\", \"linecolor\": \"#506784\", \"ticks\": \"\"}}, \"title\": {\"x\": 0.05}, \"updatemenudefaults\": {\"bgcolor\": \"#506784\", \"borderwidth\": 0}, \"xaxis\": {\"automargin\": true, \"gridcolor\": \"#283442\", \"linecolor\": \"#506784\", \"ticks\": \"\", \"title\": {\"standoff\": 15}, \"zerolinecolor\": \"#283442\", \"zerolinewidth\": 2}, \"yaxis\": {\"automargin\": true, \"gridcolor\": \"#283442\", \"linecolor\": \"#506784\", \"ticks\": \"\", \"title\": {\"standoff\": 15}, \"zerolinecolor\": \"#283442\", \"zerolinewidth\": 2}}}, \"title\": {\"font\": {\"size\": 24}, \"text\": \"Lompoc Federal Prison Cases by Ethnicity as of October 20, 2020\"}, \"xaxis\": {\"anchor\": \"y\", \"domain\": [0.0, 1.0], \"title\": {}}, \"yaxis\": {\"anchor\": \"x\", \"categoryarray\": [\"Multiracial\", \"Native Hawaiian or Pacific Islander\", \"American Indian/Native Alaskan\", \"Black/African American\", \"Asian\", \"White\", \"Hispanic/Latino\"], \"categoryorder\": \"array\", \"domain\": [0.0, 1.0], \"title\": {}}},                        {\"responsive\": true}                    ).then(function(){\n",
              "                            \n",
              "var gd = document.getElementById('3162b228-b6ec-46aa-b86e-94b5227d0bb2');\n",
              "var x = new MutationObserver(function (mutations, observer) {{\n",
              "        var display = window.getComputedStyle(gd).display;\n",
              "        if (!display || display === 'none') {{\n",
              "            console.log([gd, 'removed!']);\n",
              "            Plotly.purge(gd);\n",
              "            observer.disconnect();\n",
              "        }}\n",
              "}});\n",
              "\n",
              "// Listen for the removal of the full notebook cells\n",
              "var notebookContainer = gd.closest('#notebook-container');\n",
              "if (notebookContainer) {{\n",
              "    x.observe(notebookContainer, {childList: true});\n",
              "}}\n",
              "\n",
              "// Listen for the clearing of the current output cell\n",
              "var outputEl = gd.closest('.output');\n",
              "if (outputEl) {{\n",
              "    x.observe(outputEl, {childList: true});\n",
              "}}\n",
              "\n",
              "                        })                };                            </script>        </div>\n",
              "</body>\n",
              "</html>"
            ]
          },
          "metadata": {
            "tags": []
          }
        }
      ]
    },
    {
      "cell_type": "code",
      "metadata": {
        "id": "28cy0ZKXnjms",
        "outputId": "470e6118-6d86-4e71-ecb6-7b34889852f9",
        "colab": {
          "base_uri": "https://localhost:8080/",
          "height": 542
        }
      },
      "source": [
        "create_ethnicity_barplot('October 20, 2020','Total')"
      ],
      "execution_count": 153,
      "outputs": [
        {
          "output_type": "display_data",
          "data": {
            "text/html": [
              "<html>\n",
              "<head><meta charset=\"utf-8\" /></head>\n",
              "<body>\n",
              "    <div>            <script src=\"https://cdnjs.cloudflare.com/ajax/libs/mathjax/2.7.5/MathJax.js?config=TeX-AMS-MML_SVG\"></script><script type=\"text/javascript\">if (window.MathJax) {MathJax.Hub.Config({SVG: {font: \"STIX-Web\"}});}</script>                <script type=\"text/javascript\">window.PlotlyConfig = {MathJaxConfig: 'local'};</script>\n",
              "        <script src=\"https://cdn.plot.ly/plotly-latest.min.js\"></script>                <div id=\"2a166d22-cdd1-4d81-b4ac-b4ea73fc16f3\" class=\"plotly-graph-div\" style=\"height:525px; width:100%;\"></div>            <script type=\"text/javascript\">                                    window.PLOTLYENV=window.PLOTLYENV || {};                                    if (document.getElementById(\"2a166d22-cdd1-4d81-b4ac-b4ea73fc16f3\")) {                    Plotly.newPlot(                        \"2a166d22-cdd1-4d81-b4ac-b4ea73fc16f3\",                        [{\"alignmentgroup\": \"True\", \"hovertemplate\": \"Ethnicity=%{y}<br>Total=%{x}<extra></extra>\", \"legendgroup\": \"Hispanic/Latino\", \"marker\": {\"color\": \"#1F77B4\"}, \"name\": \"Hispanic/Latino\", \"offsetgroup\": \"Hispanic/Latino\", \"orientation\": \"h\", \"showlegend\": true, \"textposition\": \"auto\", \"type\": \"bar\", \"x\": [5770.0], \"xaxis\": \"x\", \"y\": [\"Hispanic/Latino\"], \"yaxis\": \"y\"}, {\"alignmentgroup\": \"True\", \"hovertemplate\": \"Ethnicity=%{y}<br>Total=%{x}<extra></extra>\", \"legendgroup\": \"White\", \"marker\": {\"color\": \"#FF7F0E\"}, \"name\": \"White\", \"offsetgroup\": \"White\", \"orientation\": \"h\", \"showlegend\": true, \"textposition\": \"auto\", \"type\": \"bar\", \"x\": [1295.0], \"xaxis\": \"x\", \"y\": [\"White\"], \"yaxis\": \"y\"}, {\"alignmentgroup\": \"True\", \"hovertemplate\": \"Ethnicity=%{y}<br>Total=%{x}<extra></extra>\", \"legendgroup\": \"Asian\", \"marker\": {\"color\": \"#2CA02C\"}, \"name\": \"Asian\", \"offsetgroup\": \"Asian\", \"orientation\": \"h\", \"showlegend\": true, \"textposition\": \"auto\", \"type\": \"bar\", \"x\": [170.0], \"xaxis\": \"x\", \"y\": [\"Asian\"], \"yaxis\": \"y\"}, {\"alignmentgroup\": \"True\", \"hovertemplate\": \"Ethnicity=%{y}<br>Total=%{x}<extra></extra>\", \"legendgroup\": \"Black/African American\", \"marker\": {\"color\": \"#D62728\"}, \"name\": \"Black/African American\", \"offsetgroup\": \"Black/African American\", \"orientation\": \"h\", \"showlegend\": true, \"textposition\": \"auto\", \"type\": \"bar\", \"x\": [194.0], \"xaxis\": \"x\", \"y\": [\"Black/African American\"], \"yaxis\": \"y\"}, {\"alignmentgroup\": \"True\", \"hovertemplate\": \"Ethnicity=%{y}<br>Total=%{x}<extra></extra>\", \"legendgroup\": \"American Indian/Native Alaskan\", \"marker\": {\"color\": \"#9467BD\"}, \"name\": \"American Indian/Native Alaskan\", \"offsetgroup\": \"American Indian/Native Alaskan\", \"orientation\": \"h\", \"showlegend\": true, \"textposition\": \"auto\", \"type\": \"bar\", \"x\": [34.0], \"xaxis\": \"x\", \"y\": [\"American Indian/Native Alaskan\"], \"yaxis\": \"y\"}, {\"alignmentgroup\": \"True\", \"hovertemplate\": \"Ethnicity=%{y}<br>Total=%{x}<extra></extra>\", \"legendgroup\": \"Native Hawaiian or Pacific Islander\", \"marker\": {\"color\": \"#8C564B\"}, \"name\": \"Native Hawaiian or Pacific Islander\", \"offsetgroup\": \"Native Hawaiian or Pacific Islander\", \"orientation\": \"h\", \"showlegend\": true, \"textposition\": \"auto\", \"type\": \"bar\", \"x\": [6.0], \"xaxis\": \"x\", \"y\": [\"Native Hawaiian or Pacific Islander\"], \"yaxis\": \"y\"}, {\"alignmentgroup\": \"True\", \"hovertemplate\": \"Ethnicity=%{y}<br>Total=%{x}<extra></extra>\", \"legendgroup\": \"Multiracial\", \"marker\": {\"color\": \"#E377C2\"}, \"name\": \"Multiracial\", \"offsetgroup\": \"Multiracial\", \"orientation\": \"h\", \"showlegend\": true, \"textposition\": \"auto\", \"type\": \"bar\", \"x\": [85.0], \"xaxis\": \"x\", \"y\": [\"Multiracial\"], \"yaxis\": \"y\"}],                        {\"barmode\": \"relative\", \"font\": {\"color\": \"white\", \"family\": \"Courier\"}, \"hovermode\": \"closest\", \"legend\": {\"title\": {\"text\": \"Ethnicity\"}, \"tracegroupgap\": 0}, \"showlegend\": false, \"template\": {\"data\": {\"bar\": [{\"error_x\": {\"color\": \"#f2f5fa\"}, \"error_y\": {\"color\": \"#f2f5fa\"}, \"marker\": {\"line\": {\"color\": \"rgb(17,17,17)\", \"width\": 0.5}}, \"type\": \"bar\"}], \"barpolar\": [{\"marker\": {\"line\": {\"color\": \"rgb(17,17,17)\", \"width\": 0.5}}, \"type\": \"barpolar\"}], \"carpet\": [{\"aaxis\": {\"endlinecolor\": \"#A2B1C6\", \"gridcolor\": \"#506784\", \"linecolor\": \"#506784\", \"minorgridcolor\": \"#506784\", \"startlinecolor\": \"#A2B1C6\"}, \"baxis\": {\"endlinecolor\": \"#A2B1C6\", \"gridcolor\": \"#506784\", \"linecolor\": \"#506784\", \"minorgridcolor\": \"#506784\", \"startlinecolor\": \"#A2B1C6\"}, \"type\": \"carpet\"}], \"choropleth\": [{\"colorbar\": {\"outlinewidth\": 0, \"ticks\": \"\"}, \"type\": \"choropleth\"}], \"contour\": [{\"colorbar\": {\"outlinewidth\": 0, \"ticks\": \"\"}, \"colorscale\": [[0.0, \"#0d0887\"], [0.1111111111111111, \"#46039f\"], [0.2222222222222222, \"#7201a8\"], [0.3333333333333333, \"#9c179e\"], [0.4444444444444444, \"#bd3786\"], [0.5555555555555556, \"#d8576b\"], [0.6666666666666666, \"#ed7953\"], [0.7777777777777778, \"#fb9f3a\"], [0.8888888888888888, \"#fdca26\"], [1.0, \"#f0f921\"]], \"type\": \"contour\"}], \"contourcarpet\": [{\"colorbar\": {\"outlinewidth\": 0, \"ticks\": \"\"}, \"type\": \"contourcarpet\"}], \"heatmap\": [{\"colorbar\": {\"outlinewidth\": 0, \"ticks\": \"\"}, \"colorscale\": [[0.0, \"#0d0887\"], [0.1111111111111111, \"#46039f\"], [0.2222222222222222, \"#7201a8\"], [0.3333333333333333, \"#9c179e\"], [0.4444444444444444, \"#bd3786\"], [0.5555555555555556, \"#d8576b\"], [0.6666666666666666, \"#ed7953\"], [0.7777777777777778, \"#fb9f3a\"], [0.8888888888888888, \"#fdca26\"], [1.0, \"#f0f921\"]], \"type\": \"heatmap\"}], \"heatmapgl\": [{\"colorbar\": {\"outlinewidth\": 0, \"ticks\": \"\"}, \"colorscale\": [[0.0, \"#0d0887\"], [0.1111111111111111, \"#46039f\"], [0.2222222222222222, \"#7201a8\"], [0.3333333333333333, \"#9c179e\"], [0.4444444444444444, \"#bd3786\"], [0.5555555555555556, \"#d8576b\"], [0.6666666666666666, \"#ed7953\"], [0.7777777777777778, \"#fb9f3a\"], [0.8888888888888888, \"#fdca26\"], [1.0, \"#f0f921\"]], \"type\": \"heatmapgl\"}], \"histogram\": [{\"marker\": {\"colorbar\": {\"outlinewidth\": 0, \"ticks\": \"\"}}, \"type\": \"histogram\"}], \"histogram2d\": [{\"colorbar\": {\"outlinewidth\": 0, \"ticks\": \"\"}, \"colorscale\": [[0.0, \"#0d0887\"], [0.1111111111111111, \"#46039f\"], [0.2222222222222222, \"#7201a8\"], [0.3333333333333333, \"#9c179e\"], [0.4444444444444444, \"#bd3786\"], [0.5555555555555556, \"#d8576b\"], [0.6666666666666666, \"#ed7953\"], [0.7777777777777778, \"#fb9f3a\"], [0.8888888888888888, \"#fdca26\"], [1.0, \"#f0f921\"]], \"type\": \"histogram2d\"}], \"histogram2dcontour\": [{\"colorbar\": {\"outlinewidth\": 0, \"ticks\": \"\"}, \"colorscale\": [[0.0, \"#0d0887\"], [0.1111111111111111, \"#46039f\"], [0.2222222222222222, \"#7201a8\"], [0.3333333333333333, \"#9c179e\"], [0.4444444444444444, \"#bd3786\"], [0.5555555555555556, \"#d8576b\"], [0.6666666666666666, \"#ed7953\"], [0.7777777777777778, \"#fb9f3a\"], [0.8888888888888888, \"#fdca26\"], [1.0, \"#f0f921\"]], \"type\": \"histogram2dcontour\"}], \"mesh3d\": [{\"colorbar\": {\"outlinewidth\": 0, \"ticks\": \"\"}, \"type\": \"mesh3d\"}], \"parcoords\": [{\"line\": {\"colorbar\": {\"outlinewidth\": 0, \"ticks\": \"\"}}, \"type\": \"parcoords\"}], \"pie\": [{\"automargin\": true, \"type\": \"pie\"}], \"scatter\": [{\"marker\": {\"line\": {\"color\": \"#283442\"}}, \"type\": \"scatter\"}], \"scatter3d\": [{\"line\": {\"colorbar\": {\"outlinewidth\": 0, \"ticks\": \"\"}}, \"marker\": {\"colorbar\": {\"outlinewidth\": 0, \"ticks\": \"\"}}, \"type\": \"scatter3d\"}], \"scattercarpet\": [{\"marker\": {\"colorbar\": {\"outlinewidth\": 0, \"ticks\": \"\"}}, \"type\": \"scattercarpet\"}], \"scattergeo\": [{\"marker\": {\"colorbar\": {\"outlinewidth\": 0, \"ticks\": \"\"}}, \"type\": \"scattergeo\"}], \"scattergl\": [{\"marker\": {\"line\": {\"color\": \"#283442\"}}, \"type\": \"scattergl\"}], \"scattermapbox\": [{\"marker\": {\"colorbar\": {\"outlinewidth\": 0, \"ticks\": \"\"}}, \"type\": \"scattermapbox\"}], \"scatterpolar\": [{\"marker\": {\"colorbar\": {\"outlinewidth\": 0, \"ticks\": \"\"}}, \"type\": \"scatterpolar\"}], \"scatterpolargl\": [{\"marker\": {\"colorbar\": {\"outlinewidth\": 0, \"ticks\": \"\"}}, \"type\": \"scatterpolargl\"}], \"scatterternary\": [{\"marker\": {\"colorbar\": {\"outlinewidth\": 0, \"ticks\": \"\"}}, \"type\": \"scatterternary\"}], \"surface\": [{\"colorbar\": {\"outlinewidth\": 0, \"ticks\": \"\"}, \"colorscale\": [[0.0, \"#0d0887\"], [0.1111111111111111, \"#46039f\"], [0.2222222222222222, \"#7201a8\"], [0.3333333333333333, \"#9c179e\"], [0.4444444444444444, \"#bd3786\"], [0.5555555555555556, \"#d8576b\"], [0.6666666666666666, \"#ed7953\"], [0.7777777777777778, \"#fb9f3a\"], [0.8888888888888888, \"#fdca26\"], [1.0, \"#f0f921\"]], \"type\": \"surface\"}], \"table\": [{\"cells\": {\"fill\": {\"color\": \"#506784\"}, \"line\": {\"color\": \"rgb(17,17,17)\"}}, \"header\": {\"fill\": {\"color\": \"#2a3f5f\"}, \"line\": {\"color\": \"rgb(17,17,17)\"}}, \"type\": \"table\"}]}, \"layout\": {\"annotationdefaults\": {\"arrowcolor\": \"#f2f5fa\", \"arrowhead\": 0, \"arrowwidth\": 1}, \"coloraxis\": {\"colorbar\": {\"outlinewidth\": 0, \"ticks\": \"\"}}, \"colorscale\": {\"diverging\": [[0, \"#8e0152\"], [0.1, \"#c51b7d\"], [0.2, \"#de77ae\"], [0.3, \"#f1b6da\"], [0.4, \"#fde0ef\"], [0.5, \"#f7f7f7\"], [0.6, \"#e6f5d0\"], [0.7, \"#b8e186\"], [0.8, \"#7fbc41\"], [0.9, \"#4d9221\"], [1, \"#276419\"]], \"sequential\": [[0.0, \"#0d0887\"], [0.1111111111111111, \"#46039f\"], [0.2222222222222222, \"#7201a8\"], [0.3333333333333333, \"#9c179e\"], [0.4444444444444444, \"#bd3786\"], [0.5555555555555556, \"#d8576b\"], [0.6666666666666666, \"#ed7953\"], [0.7777777777777778, \"#fb9f3a\"], [0.8888888888888888, \"#fdca26\"], [1.0, \"#f0f921\"]], \"sequentialminus\": [[0.0, \"#0d0887\"], [0.1111111111111111, \"#46039f\"], [0.2222222222222222, \"#7201a8\"], [0.3333333333333333, \"#9c179e\"], [0.4444444444444444, \"#bd3786\"], [0.5555555555555556, \"#d8576b\"], [0.6666666666666666, \"#ed7953\"], [0.7777777777777778, \"#fb9f3a\"], [0.8888888888888888, \"#fdca26\"], [1.0, \"#f0f921\"]]}, \"colorway\": [\"#636efa\", \"#EF553B\", \"#00cc96\", \"#ab63fa\", \"#FFA15A\", \"#19d3f3\", \"#FF6692\", \"#B6E880\", \"#FF97FF\", \"#FECB52\"], \"font\": {\"color\": \"#f2f5fa\"}, \"geo\": {\"bgcolor\": \"rgb(17,17,17)\", \"lakecolor\": \"rgb(17,17,17)\", \"landcolor\": \"rgb(17,17,17)\", \"showlakes\": true, \"showland\": true, \"subunitcolor\": \"#506784\"}, \"hoverlabel\": {\"align\": \"left\"}, \"hovermode\": \"closest\", \"mapbox\": {\"style\": \"dark\"}, \"paper_bgcolor\": \"rgb(17,17,17)\", \"plot_bgcolor\": \"rgb(17,17,17)\", \"polar\": {\"angularaxis\": {\"gridcolor\": \"#506784\", \"linecolor\": \"#506784\", \"ticks\": \"\"}, \"bgcolor\": \"rgb(17,17,17)\", \"radialaxis\": {\"gridcolor\": \"#506784\", \"linecolor\": \"#506784\", \"ticks\": \"\"}}, \"scene\": {\"xaxis\": {\"backgroundcolor\": \"rgb(17,17,17)\", \"gridcolor\": \"#506784\", \"gridwidth\": 2, \"linecolor\": \"#506784\", \"showbackground\": true, \"ticks\": \"\", \"zerolinecolor\": \"#C8D4E3\"}, \"yaxis\": {\"backgroundcolor\": \"rgb(17,17,17)\", \"gridcolor\": \"#506784\", \"gridwidth\": 2, \"linecolor\": \"#506784\", \"showbackground\": true, \"ticks\": \"\", \"zerolinecolor\": \"#C8D4E3\"}, \"zaxis\": {\"backgroundcolor\": \"rgb(17,17,17)\", \"gridcolor\": \"#506784\", \"gridwidth\": 2, \"linecolor\": \"#506784\", \"showbackground\": true, \"ticks\": \"\", \"zerolinecolor\": \"#C8D4E3\"}}, \"shapedefaults\": {\"line\": {\"color\": \"#f2f5fa\"}}, \"sliderdefaults\": {\"bgcolor\": \"#C8D4E3\", \"bordercolor\": \"rgb(17,17,17)\", \"borderwidth\": 1, \"tickwidth\": 0}, \"ternary\": {\"aaxis\": {\"gridcolor\": \"#506784\", \"linecolor\": \"#506784\", \"ticks\": \"\"}, \"baxis\": {\"gridcolor\": \"#506784\", \"linecolor\": \"#506784\", \"ticks\": \"\"}, \"bgcolor\": \"rgb(17,17,17)\", \"caxis\": {\"gridcolor\": \"#506784\", \"linecolor\": \"#506784\", \"ticks\": \"\"}}, \"title\": {\"x\": 0.05}, \"updatemenudefaults\": {\"bgcolor\": \"#506784\", \"borderwidth\": 0}, \"xaxis\": {\"automargin\": true, \"gridcolor\": \"#283442\", \"linecolor\": \"#506784\", \"ticks\": \"\", \"title\": {\"standoff\": 15}, \"zerolinecolor\": \"#283442\", \"zerolinewidth\": 2}, \"yaxis\": {\"automargin\": true, \"gridcolor\": \"#283442\", \"linecolor\": \"#506784\", \"ticks\": \"\", \"title\": {\"standoff\": 15}, \"zerolinecolor\": \"#283442\", \"zerolinewidth\": 2}}}, \"title\": {\"font\": {\"size\": 24}, \"text\": \"Total Cases by Ethnicity as of October 20, 2020\"}, \"xaxis\": {\"anchor\": \"y\", \"domain\": [0.0, 1.0], \"title\": {}}, \"yaxis\": {\"anchor\": \"x\", \"categoryarray\": [\"Multiracial\", \"Native Hawaiian or Pacific Islander\", \"American Indian/Native Alaskan\", \"Black/African American\", \"Asian\", \"White\", \"Hispanic/Latino\"], \"categoryorder\": \"array\", \"domain\": [0.0, 1.0], \"title\": {}}},                        {\"responsive\": true}                    ).then(function(){\n",
              "                            \n",
              "var gd = document.getElementById('2a166d22-cdd1-4d81-b4ac-b4ea73fc16f3');\n",
              "var x = new MutationObserver(function (mutations, observer) {{\n",
              "        var display = window.getComputedStyle(gd).display;\n",
              "        if (!display || display === 'none') {{\n",
              "            console.log([gd, 'removed!']);\n",
              "            Plotly.purge(gd);\n",
              "            observer.disconnect();\n",
              "        }}\n",
              "}});\n",
              "\n",
              "// Listen for the removal of the full notebook cells\n",
              "var notebookContainer = gd.closest('#notebook-container');\n",
              "if (notebookContainer) {{\n",
              "    x.observe(notebookContainer, {childList: true});\n",
              "}}\n",
              "\n",
              "// Listen for the clearing of the current output cell\n",
              "var outputEl = gd.closest('.output');\n",
              "if (outputEl) {{\n",
              "    x.observe(outputEl, {childList: true});\n",
              "}}\n",
              "\n",
              "                        })                };                            </script>        </div>\n",
              "</body>\n",
              "</html>"
            ]
          },
          "metadata": {
            "tags": []
          }
        }
      ]
    },
    {
      "cell_type": "markdown",
      "metadata": {
        "id": "qQWGe7o0N-uh"
      },
      "source": [
        "# Cases by Area"
      ]
    },
    {
      "cell_type": "code",
      "metadata": {
        "id": "8LDCAI9MOAEC",
        "outputId": "343d0fd7-7300-4315-e5da-bccad6ca5b7b",
        "colab": {
          "base_uri": "https://localhost:8080/",
          "height": 204
        }
      },
      "source": [
        "cases_by_area.head()"
      ],
      "execution_count": 66,
      "outputs": [
        {
          "output_type": "execute_result",
          "data": {
            "text/html": [
              "<div>\n",
              "<style scoped>\n",
              "    .dataframe tbody tr th:only-of-type {\n",
              "        vertical-align: middle;\n",
              "    }\n",
              "\n",
              "    .dataframe tbody tr th {\n",
              "        vertical-align: top;\n",
              "    }\n",
              "\n",
              "    .dataframe thead th {\n",
              "        text-align: right;\n",
              "    }\n",
              "</style>\n",
              "<table border=\"1\" class=\"dataframe\">\n",
              "  <thead>\n",
              "    <tr style=\"text-align: right;\">\n",
              "      <th></th>\n",
              "      <th>Geographic Area</th>\n",
              "      <th>Daily Cases</th>\n",
              "      <th>Total  Confirmed Cases</th>\n",
              "      <th>Recovered by Region</th>\n",
              "      <th>Still infectious by Region</th>\n",
              "      <th>Number of Deaths</th>\n",
              "      <th>Date</th>\n",
              "    </tr>\n",
              "  </thead>\n",
              "  <tbody>\n",
              "    <tr>\n",
              "      <th>0</th>\n",
              "      <td>SOUTH COUNTY UNINCORPORATED AREA includes comm...</td>\n",
              "      <td>1</td>\n",
              "      <td>211.0</td>\n",
              "      <td>199</td>\n",
              "      <td>5</td>\n",
              "      <td>7.0</td>\n",
              "      <td>October 20, 2020</td>\n",
              "    </tr>\n",
              "    <tr>\n",
              "      <th>1</th>\n",
              "      <td>CITY OF SANTA BARBARA and the unincorporated a...</td>\n",
              "      <td>2</td>\n",
              "      <td>1263.0</td>\n",
              "      <td>1243</td>\n",
              "      <td>7</td>\n",
              "      <td>13.0</td>\n",
              "      <td>October 20, 2020</td>\n",
              "    </tr>\n",
              "    <tr>\n",
              "      <th>2</th>\n",
              "      <td>CITY OF GOLETA</td>\n",
              "      <td>1</td>\n",
              "      <td>273.0</td>\n",
              "      <td>265</td>\n",
              "      <td>4</td>\n",
              "      <td>4.0</td>\n",
              "      <td>October 20, 2020</td>\n",
              "    </tr>\n",
              "    <tr>\n",
              "      <th>3</th>\n",
              "      <td>COMMUNITY OF ISLA VISTA</td>\n",
              "      <td>4</td>\n",
              "      <td>298.0</td>\n",
              "      <td>265</td>\n",
              "      <td>32</td>\n",
              "      <td>1.0</td>\n",
              "      <td>October 20, 2020</td>\n",
              "    </tr>\n",
              "    <tr>\n",
              "      <th>4</th>\n",
              "      <td>UNINCORPORATED AREA OF THE GOLETA VALLEY AND G...</td>\n",
              "      <td>0</td>\n",
              "      <td>216.0</td>\n",
              "      <td>211</td>\n",
              "      <td>3</td>\n",
              "      <td>2.0</td>\n",
              "      <td>October 20, 2020</td>\n",
              "    </tr>\n",
              "  </tbody>\n",
              "</table>\n",
              "</div>"
            ],
            "text/plain": [
              "                                     Geographic Area  ...              Date\n",
              "0  SOUTH COUNTY UNINCORPORATED AREA includes comm...  ...  October 20, 2020\n",
              "1  CITY OF SANTA BARBARA and the unincorporated a...  ...  October 20, 2020\n",
              "2                                     CITY OF GOLETA  ...  October 20, 2020\n",
              "3                            COMMUNITY OF ISLA VISTA  ...  October 20, 2020\n",
              "4  UNINCORPORATED AREA OF THE GOLETA VALLEY AND G...  ...  October 20, 2020\n",
              "\n",
              "[5 rows x 7 columns]"
            ]
          },
          "metadata": {
            "tags": []
          },
          "execution_count": 66
        }
      ]
    },
    {
      "cell_type": "code",
      "metadata": {
        "id": "M9YFQWAvOFBT",
        "outputId": "a1ab5490-6323-44f8-f4d0-1f5f98b8d828",
        "colab": {
          "base_uri": "https://localhost:8080/",
          "height": 289
        }
      },
      "source": [
        "cases_by_area['Geographic Area'].value_counts()"
      ],
      "execution_count": 67,
      "outputs": [
        {
          "output_type": "execute_result",
          "data": {
            "text/plain": [
              "Out of County                                                                                                                          75\n",
              "FEDERAL PRISON IN LOMPOC                                                                                                               75\n",
              "SOUTH COUNTY UNINCORPORATED AREA includes communities of Montecito, Summerland and the City of Carpinteria                             75\n",
              "CITY OF GOLETA                                                                                                                         75\n",
              "Pending                                                                                                                                75\n",
              "CITY OF SANTA MARIA                                                                                                                    75\n",
              "CITY OF SANTA BARBARA and the unincorporated area of Mission Canyon                                                                    75\n",
              "COMMUNITY OF ISLA VISTA                                                                                                                75\n",
              "SANTA YNEZ VALLEY including the Cities of Solvang & Buellton, and the communities of Santa Ynez, Los Alamos, Los Olivos and Ballard    75\n",
              "UNINCORPORATED AREA OF THE GOLETA VALLEY AND GAVIOTA                                                                                   75\n",
              "CITY OF LOMPOC and the communities of Mission Hills and Vandenberg Village                                                             75\n",
              "COMMUNITY OF ORCUTT                                                                                                                    75\n",
              "UNINCORPORATED AREAS of Sisquoc, Casmalia, Garey,  Cuyama, New Cuyama, and the City of Guadalupe                                       75\n",
              "Total**                                                                                                                                62\n",
              "Total*                                                                                                                                 13\n",
              "Name: Geographic Area, dtype: int64"
            ]
          },
          "metadata": {
            "tags": []
          },
          "execution_count": 67
        }
      ]
    },
    {
      "cell_type": "code",
      "metadata": {
        "id": "sgwKon26ONe1"
      },
      "source": [
        "#cleaning up Geographic Area column\n",
        "area_dict = {'SOUTH COUNTY UNINCORPORATED AREA includes communities of Montecito, Summerland and the City of Carpinteria':'South County Unincorporated Area',\n",
        "             'CITY OF SANTA BARBARA and the unincorporated area of Mission Canyon':'Santa Barbara',\n",
        "             'CITY OF GOLETA':'Goleta',\n",
        "             'COMMUNITY OF ISLA VISTA':'Isla Vista',\n",
        "             'UNINCORPORATED AREA OF THE GOLETA VALLEY AND GAVIOTA':'Goleta Valley/Gaviota',\n",
        "             'SANTA YNEZ VALLEY including the Cities of Solvang & Buellton, and the communities of Santa Ynez, Los Alamos, Los Olivos and Ballard':'Santa Ynez Valley',\n",
        "             'CITY OF LOMPOC and the communities of Mission Hills and Vandenberg Village':'Lompoc',\n",
        "             'FEDERAL PRISON IN LOMPOC':'Federal Prison in Lompoc',\n",
        "             'CITY OF SANTA MARIA':'Santa Maria',\n",
        "             'COMMUNITY OF ORCUTT':'Orcutt',\n",
        "             'UNINCORPORATED AREAS of Sisquoc, Casmalia, Garey,\\xa0 Cuyama, New Cuyama, and the City of Guadalupe':'Other Unincorporated Areas',\n",
        "             'Total**':'Total',\n",
        "             'Total*':'Total'}\n",
        "\n",
        "cases_by_area['Area'] = cases_by_area['Geographic Area'].replace(area_dict)"
      ],
      "execution_count": 68,
      "outputs": []
    },
    {
      "cell_type": "code",
      "metadata": {
        "id": "gj-D2hgOUgwL",
        "outputId": "ef99dba7-7a78-4d9d-a479-f13557443962",
        "colab": {
          "base_uri": "https://localhost:8080/",
          "height": 272
        }
      },
      "source": [
        "cases_by_area.Area.value_counts()"
      ],
      "execution_count": 69,
      "outputs": [
        {
          "output_type": "execute_result",
          "data": {
            "text/plain": [
              "Out of County                       75\n",
              "Federal Prison in Lompoc            75\n",
              "Total                               75\n",
              "Orcutt                              75\n",
              "Goleta                              75\n",
              "Isla Vista                          75\n",
              "Pending                             75\n",
              "Santa Ynez Valley                   75\n",
              "Lompoc                              75\n",
              "Goleta Valley/Gaviota               75\n",
              "Other Unincorporated Areas          75\n",
              "Santa Maria                         75\n",
              "South County Unincorporated Area    75\n",
              "Santa Barbara                       75\n",
              "Name: Area, dtype: int64"
            ]
          },
          "metadata": {
            "tags": []
          },
          "execution_count": 69
        }
      ]
    },
    {
      "cell_type": "code",
      "metadata": {
        "id": "lfHsnVCNWZrQ",
        "outputId": "838d7af1-2667-4698-a7ee-ff06d6a720a3",
        "colab": {
          "base_uri": "https://localhost:8080/",
          "height": 170
        }
      },
      "source": [
        "cases_by_area.isna().sum()"
      ],
      "execution_count": 70,
      "outputs": [
        {
          "output_type": "execute_result",
          "data": {
            "text/plain": [
              "Geographic Area                0\n",
              "Daily Cases                   75\n",
              "Total  Confirmed Cases        75\n",
              "Recovered by Region            0\n",
              "Still infectious by Region     0\n",
              "Number of Deaths              80\n",
              "Date                           0\n",
              "Area                           0\n",
              "dtype: int64"
            ]
          },
          "metadata": {
            "tags": []
          },
          "execution_count": 70
        }
      ]
    },
    {
      "cell_type": "code",
      "metadata": {
        "id": "tKmcRcMpVOF5",
        "outputId": "96d90a0b-a164-4e25-a3f5-850f8adc66c4",
        "colab": {
          "base_uri": "https://localhost:8080/",
          "height": 170
        }
      },
      "source": [
        "cases_by_area.dtypes"
      ],
      "execution_count": 71,
      "outputs": [
        {
          "output_type": "execute_result",
          "data": {
            "text/plain": [
              "Geographic Area                object\n",
              "Daily Cases                    object\n",
              "Total  Confirmed Cases        float64\n",
              "Recovered by Region             int64\n",
              "Still infectious by Region      int64\n",
              "Number of Deaths              float64\n",
              "Date                           object\n",
              "Area                           object\n",
              "dtype: object"
            ]
          },
          "metadata": {
            "tags": []
          },
          "execution_count": 71
        }
      ]
    },
    {
      "cell_type": "code",
      "metadata": {
        "id": "lqfnl0jaU9UE"
      },
      "source": [
        "#cleaning up Daily Cases column and converting to numeric\n",
        "cases_by_area['Daily Cases'] = cases_by_area['Daily Cases'].apply(lambda x: x[:-1] if '*' in str(x) else x)    #there are a few cases where the number was follwed by an asterisk, removing asterisks\n",
        "cases_by_area['Daily Cases'] = cases_by_area['Daily Cases'].str.strip().replace('—',np.nan)   #changing missing values to null so they don't appear on graph \n",
        "cases_by_area['Daily Cases'] = pd.to_numeric(cases_by_area['Daily Cases'])     #converting to numeric"
      ],
      "execution_count": 72,
      "outputs": []
    },
    {
      "cell_type": "code",
      "metadata": {
        "id": "LTWP7su-Vwrt"
      },
      "source": [
        "#converting Date column to pandas datetime format\n",
        "cases_by_area['Date'] = pd.to_datetime(cases_by_area['Date'])"
      ],
      "execution_count": 73,
      "outputs": []
    },
    {
      "cell_type": "code",
      "metadata": {
        "id": "5vsJXjXFbSXv"
      },
      "source": [
        "#creating new dataframe for visualizations\n",
        "areas_to_plot = ['Lompoc',\n",
        "                 'Isla Vista',\n",
        "                 'Orcutt',\n",
        "                 'Federal Prison in Lompoc',\n",
        "                 'Goleta Valley/Gaviota',\n",
        "                 'Goleta',\n",
        "                 'Santa Barbara',\n",
        "                 'Santa Ynez Valley',\n",
        "                 'Santa Maria']\n",
        "\n",
        "#dropping original Geographic Area column and filtering for specific areas\n",
        "area_viz = cases_by_area[cases_by_area['Area'].isin(areas_to_plot)][cases_by_area.columns[1:]]    \n",
        "\n",
        "#renaming columns\n",
        "area_viz.rename({'Daily Cases':'New Cases',\n",
        "                 'Total\\xa0 Confirmed Cases':'Total Confirmed Cases',\n",
        "                 'Recovered by Region':'Recovered Cases',\n",
        "                 'Still infectious by Region':'Active Cases'},\n",
        "                axis = 1,\n",
        "                inplace = True)"
      ],
      "execution_count": 74,
      "outputs": []
    },
    {
      "cell_type": "code",
      "metadata": {
        "id": "cAarAIFUcBmD",
        "outputId": "4eea5a36-b8d9-474a-85cb-3c16f409fe95",
        "colab": {
          "base_uri": "https://localhost:8080/",
          "height": 204
        }
      },
      "source": [
        "area_viz.head()"
      ],
      "execution_count": 75,
      "outputs": [
        {
          "output_type": "execute_result",
          "data": {
            "text/html": [
              "<div>\n",
              "<style scoped>\n",
              "    .dataframe tbody tr th:only-of-type {\n",
              "        vertical-align: middle;\n",
              "    }\n",
              "\n",
              "    .dataframe tbody tr th {\n",
              "        vertical-align: top;\n",
              "    }\n",
              "\n",
              "    .dataframe thead th {\n",
              "        text-align: right;\n",
              "    }\n",
              "</style>\n",
              "<table border=\"1\" class=\"dataframe\">\n",
              "  <thead>\n",
              "    <tr style=\"text-align: right;\">\n",
              "      <th></th>\n",
              "      <th>New Cases</th>\n",
              "      <th>Total Confirmed Cases</th>\n",
              "      <th>Recovered</th>\n",
              "      <th>Active Cases</th>\n",
              "      <th>Number of Deaths</th>\n",
              "      <th>Date</th>\n",
              "      <th>Area</th>\n",
              "    </tr>\n",
              "  </thead>\n",
              "  <tbody>\n",
              "    <tr>\n",
              "      <th>1</th>\n",
              "      <td>2.0</td>\n",
              "      <td>1263.0</td>\n",
              "      <td>1243</td>\n",
              "      <td>7</td>\n",
              "      <td>13.0</td>\n",
              "      <td>2020-10-20</td>\n",
              "      <td>Santa Barbara</td>\n",
              "    </tr>\n",
              "    <tr>\n",
              "      <th>2</th>\n",
              "      <td>1.0</td>\n",
              "      <td>273.0</td>\n",
              "      <td>265</td>\n",
              "      <td>4</td>\n",
              "      <td>4.0</td>\n",
              "      <td>2020-10-20</td>\n",
              "      <td>Goleta</td>\n",
              "    </tr>\n",
              "    <tr>\n",
              "      <th>3</th>\n",
              "      <td>4.0</td>\n",
              "      <td>298.0</td>\n",
              "      <td>265</td>\n",
              "      <td>32</td>\n",
              "      <td>1.0</td>\n",
              "      <td>2020-10-20</td>\n",
              "      <td>Isla Vista</td>\n",
              "    </tr>\n",
              "    <tr>\n",
              "      <th>4</th>\n",
              "      <td>0.0</td>\n",
              "      <td>216.0</td>\n",
              "      <td>211</td>\n",
              "      <td>3</td>\n",
              "      <td>2.0</td>\n",
              "      <td>2020-10-20</td>\n",
              "      <td>Goleta Valley/Gaviota</td>\n",
              "    </tr>\n",
              "    <tr>\n",
              "      <th>5</th>\n",
              "      <td>2.0</td>\n",
              "      <td>178.0</td>\n",
              "      <td>165</td>\n",
              "      <td>6</td>\n",
              "      <td>7.0</td>\n",
              "      <td>2020-10-20</td>\n",
              "      <td>Santa Ynez Valley</td>\n",
              "    </tr>\n",
              "  </tbody>\n",
              "</table>\n",
              "</div>"
            ],
            "text/plain": [
              "   New Cases  Total Confirmed Cases  ...       Date                   Area\n",
              "1        2.0                 1263.0  ... 2020-10-20          Santa Barbara\n",
              "2        1.0                  273.0  ... 2020-10-20                 Goleta\n",
              "3        4.0                  298.0  ... 2020-10-20             Isla Vista\n",
              "4        0.0                  216.0  ... 2020-10-20  Goleta Valley/Gaviota\n",
              "5        2.0                  178.0  ... 2020-10-20      Santa Ynez Valley\n",
              "\n",
              "[5 rows x 7 columns]"
            ]
          },
          "metadata": {
            "tags": []
          },
          "execution_count": 75
        }
      ]
    },
    {
      "cell_type": "code",
      "metadata": {
        "id": "jIvWpTRncWHr",
        "outputId": "1e153f6f-3f35-41ba-ac34-91a1103e7207",
        "colab": {
          "base_uri": "https://localhost:8080/",
          "height": 542
        }
      },
      "source": [
        "fig = px.line(area_viz,\n",
        "              x = 'Date',\n",
        "              y = 'Active Cases',\n",
        "              color = 'Area')\n",
        "fig.show()"
      ],
      "execution_count": 76,
      "outputs": [
        {
          "output_type": "display_data",
          "data": {
            "text/html": [
              "<html>\n",
              "<head><meta charset=\"utf-8\" /></head>\n",
              "<body>\n",
              "    <div>            <script src=\"https://cdnjs.cloudflare.com/ajax/libs/mathjax/2.7.5/MathJax.js?config=TeX-AMS-MML_SVG\"></script><script type=\"text/javascript\">if (window.MathJax) {MathJax.Hub.Config({SVG: {font: \"STIX-Web\"}});}</script>                <script type=\"text/javascript\">window.PlotlyConfig = {MathJaxConfig: 'local'};</script>\n",
              "        <script src=\"https://cdn.plot.ly/plotly-latest.min.js\"></script>                <div id=\"0b52c732-1ded-4775-84e6-97421e3d1922\" class=\"plotly-graph-div\" style=\"height:525px; width:100%;\"></div>            <script type=\"text/javascript\">                                    window.PLOTLYENV=window.PLOTLYENV || {};                                    if (document.getElementById(\"0b52c732-1ded-4775-84e6-97421e3d1922\")) {                    Plotly.newPlot(                        \"0b52c732-1ded-4775-84e6-97421e3d1922\",                        [{\"hovertemplate\": \"Area=Santa Barbara<br>Date=%{x}<br>Active Cases=%{y}<extra></extra>\", \"legendgroup\": \"Santa Barbara\", \"line\": {\"color\": \"#636efa\", \"dash\": \"solid\"}, \"mode\": \"lines\", \"name\": \"Santa Barbara\", \"orientation\": \"v\", \"showlegend\": true, \"type\": \"scatter\", \"x\": [\"2020-10-20T00:00:00\", \"2020-10-19T00:00:00\", \"2020-10-16T00:00:00\", \"2020-10-15T00:00:00\", \"2020-10-14T00:00:00\", \"2020-10-13T00:00:00\", \"2020-10-12T00:00:00\", \"2020-10-09T00:00:00\", \"2020-10-08T00:00:00\", \"2020-10-07T00:00:00\", \"2020-10-06T00:00:00\", \"2020-10-05T00:00:00\", \"2020-10-02T00:00:00\", \"2020-10-01T00:00:00\", \"2020-09-30T00:00:00\", \"2020-09-29T00:00:00\", \"2020-09-28T00:00:00\", \"2020-09-25T00:00:00\", \"2020-09-24T00:00:00\", \"2020-09-23T00:00:00\", \"2020-09-22T00:00:00\", \"2020-09-21T00:00:00\", \"2020-09-18T00:00:00\", \"2020-09-17T00:00:00\", \"2020-09-16T00:00:00\", \"2020-09-15T00:00:00\", \"2020-09-14T00:00:00\", \"2020-09-11T00:00:00\", \"2020-09-10T00:00:00\", \"2020-09-09T00:00:00\", \"2020-09-08T00:00:00\", \"2020-09-04T00:00:00\", \"2020-09-03T00:00:00\", \"2020-09-02T00:00:00\", \"2020-09-01T00:00:00\", \"2020-08-31T00:00:00\", \"2020-08-28T00:00:00\", \"2020-08-27T00:00:00\", \"2020-08-26T00:00:00\", \"2020-08-25T00:00:00\", \"2020-08-25T00:00:00\", \"2020-08-24T00:00:00\", \"2020-08-21T00:00:00\", \"2020-08-20T00:00:00\", \"2020-08-19T00:00:00\", \"2020-08-18T00:00:00\", \"2020-08-17T00:00:00\", \"2020-08-14T00:00:00\", \"2020-08-13T00:00:00\", \"2020-08-12T00:00:00\", \"2020-08-11T00:00:00\", \"2020-08-10T00:00:00\", \"2020-08-07T00:00:00\", \"2020-08-06T00:00:00\", \"2020-08-05T00:00:00\", \"2020-08-04T00:00:00\", \"2020-08-03T00:00:00\", \"2020-07-31T00:00:00\", \"2020-07-30T00:00:00\", \"2020-07-29T00:00:00\", \"2020-07-28T00:00:00\", \"2020-07-27T00:00:00\", \"2020-07-24T00:00:00\", \"2020-07-23T00:00:00\", \"2020-07-22T00:00:00\", \"2020-07-21T00:00:00\", \"2020-07-20T00:00:00\", \"2020-07-17T00:00:00\", \"2020-07-16T00:00:00\", \"2020-07-15T00:00:00\", \"2020-07-14T00:00:00\", \"2020-07-13T00:00:00\", \"2020-07-10T00:00:00\", \"2020-07-09T00:00:00\", \"2020-07-08T00:00:00\"], \"xaxis\": \"x\", \"y\": [7, 6, 12, 11, 13, 12, 9, 11, 11, 11, 11, 11, 9, 10, 18, 13, 11, 15, 15, 16, 20, 19, 20, 23, 20, 19, 22, 26, 24, 26, 27, 30, 32, 30, 21, 27, 40, 37, 42, 37, 37, 42, 33, 31, 27, 31, 35, 43, 37, 38, 54, 49, 37, 40, 48, 47, 41, 44, 48, 57, 44, 37, 47, 52, 37, 36, 39, 51, 51, 42, 35, 52, 58, 53, 80], \"yaxis\": \"y\"}, {\"hovertemplate\": \"Area=Goleta<br>Date=%{x}<br>Active Cases=%{y}<extra></extra>\", \"legendgroup\": \"Goleta\", \"line\": {\"color\": \"#EF553B\", \"dash\": \"solid\"}, \"mode\": \"lines\", \"name\": \"Goleta\", \"orientation\": \"v\", \"showlegend\": true, \"type\": \"scatter\", \"x\": [\"2020-10-20T00:00:00\", \"2020-10-19T00:00:00\", \"2020-10-16T00:00:00\", \"2020-10-15T00:00:00\", \"2020-10-14T00:00:00\", \"2020-10-13T00:00:00\", \"2020-10-12T00:00:00\", \"2020-10-09T00:00:00\", \"2020-10-08T00:00:00\", \"2020-10-07T00:00:00\", \"2020-10-06T00:00:00\", \"2020-10-05T00:00:00\", \"2020-10-02T00:00:00\", \"2020-10-01T00:00:00\", \"2020-09-30T00:00:00\", \"2020-09-29T00:00:00\", \"2020-09-28T00:00:00\", \"2020-09-25T00:00:00\", \"2020-09-24T00:00:00\", \"2020-09-23T00:00:00\", \"2020-09-22T00:00:00\", \"2020-09-21T00:00:00\", \"2020-09-18T00:00:00\", \"2020-09-17T00:00:00\", \"2020-09-16T00:00:00\", \"2020-09-15T00:00:00\", \"2020-09-14T00:00:00\", \"2020-09-11T00:00:00\", \"2020-09-10T00:00:00\", \"2020-09-09T00:00:00\", \"2020-09-08T00:00:00\", \"2020-09-04T00:00:00\", \"2020-09-03T00:00:00\", \"2020-09-02T00:00:00\", \"2020-09-01T00:00:00\", \"2020-08-31T00:00:00\", \"2020-08-28T00:00:00\", \"2020-08-27T00:00:00\", \"2020-08-26T00:00:00\", \"2020-08-25T00:00:00\", \"2020-08-25T00:00:00\", \"2020-08-24T00:00:00\", \"2020-08-21T00:00:00\", \"2020-08-20T00:00:00\", \"2020-08-19T00:00:00\", \"2020-08-18T00:00:00\", \"2020-08-17T00:00:00\", \"2020-08-14T00:00:00\", \"2020-08-13T00:00:00\", \"2020-08-12T00:00:00\", \"2020-08-11T00:00:00\", \"2020-08-10T00:00:00\", \"2020-08-07T00:00:00\", \"2020-08-06T00:00:00\", \"2020-08-05T00:00:00\", \"2020-08-04T00:00:00\", \"2020-08-03T00:00:00\", \"2020-07-31T00:00:00\", \"2020-07-30T00:00:00\", \"2020-07-29T00:00:00\", \"2020-07-28T00:00:00\", \"2020-07-27T00:00:00\", \"2020-07-24T00:00:00\", \"2020-07-23T00:00:00\", \"2020-07-22T00:00:00\", \"2020-07-21T00:00:00\", \"2020-07-20T00:00:00\", \"2020-07-17T00:00:00\", \"2020-07-16T00:00:00\", \"2020-07-15T00:00:00\", \"2020-07-14T00:00:00\", \"2020-07-13T00:00:00\", \"2020-07-10T00:00:00\", \"2020-07-09T00:00:00\", \"2020-07-08T00:00:00\"], \"xaxis\": \"x\", \"y\": [4, 4, 4, 5, 6, 5, 4, 4, 7, 6, 5, 6, 5, 4, 4, 5, 5, 5, 5, 5, 5, 5, 8, 9, 9, 7, 9, 10, 8, 8, 8, 1, 2, 4, 3, 4, 6, 5, 6, 8, 8, 10, 13, 8, 6, 7, 8, 7, 5, 7, 14, 16, 5, 6, 6, 6, 6, 8, 9, 7, 7, 8, 6, 15, 11, 9, 9, 10, 7, 6, 10, 12, 13, 12, 10], \"yaxis\": \"y\"}, {\"hovertemplate\": \"Area=Isla Vista<br>Date=%{x}<br>Active Cases=%{y}<extra></extra>\", \"legendgroup\": \"Isla Vista\", \"line\": {\"color\": \"#00cc96\", \"dash\": \"solid\"}, \"mode\": \"lines\", \"name\": \"Isla Vista\", \"orientation\": \"v\", \"showlegend\": true, \"type\": \"scatter\", \"x\": [\"2020-10-20T00:00:00\", \"2020-10-19T00:00:00\", \"2020-10-16T00:00:00\", \"2020-10-15T00:00:00\", \"2020-10-14T00:00:00\", \"2020-10-13T00:00:00\", \"2020-10-12T00:00:00\", \"2020-10-09T00:00:00\", \"2020-10-08T00:00:00\", \"2020-10-07T00:00:00\", \"2020-10-06T00:00:00\", \"2020-10-05T00:00:00\", \"2020-10-02T00:00:00\", \"2020-10-01T00:00:00\", \"2020-09-30T00:00:00\", \"2020-09-29T00:00:00\", \"2020-09-28T00:00:00\", \"2020-09-25T00:00:00\", \"2020-09-24T00:00:00\", \"2020-09-23T00:00:00\", \"2020-09-22T00:00:00\", \"2020-09-21T00:00:00\", \"2020-09-18T00:00:00\", \"2020-09-17T00:00:00\", \"2020-09-16T00:00:00\", \"2020-09-15T00:00:00\", \"2020-09-14T00:00:00\", \"2020-09-11T00:00:00\", \"2020-09-10T00:00:00\", \"2020-09-09T00:00:00\", \"2020-09-08T00:00:00\", \"2020-09-04T00:00:00\", \"2020-09-03T00:00:00\", \"2020-09-02T00:00:00\", \"2020-09-01T00:00:00\", \"2020-08-31T00:00:00\", \"2020-08-28T00:00:00\", \"2020-08-27T00:00:00\", \"2020-08-26T00:00:00\", \"2020-08-25T00:00:00\", \"2020-08-25T00:00:00\", \"2020-08-24T00:00:00\", \"2020-08-21T00:00:00\", \"2020-08-20T00:00:00\", \"2020-08-19T00:00:00\", \"2020-08-18T00:00:00\", \"2020-08-17T00:00:00\", \"2020-08-14T00:00:00\", \"2020-08-13T00:00:00\", \"2020-08-12T00:00:00\", \"2020-08-11T00:00:00\", \"2020-08-10T00:00:00\", \"2020-08-07T00:00:00\", \"2020-08-06T00:00:00\", \"2020-08-05T00:00:00\", \"2020-08-04T00:00:00\", \"2020-08-03T00:00:00\", \"2020-07-31T00:00:00\", \"2020-07-30T00:00:00\", \"2020-07-29T00:00:00\", \"2020-07-28T00:00:00\", \"2020-07-27T00:00:00\", \"2020-07-24T00:00:00\", \"2020-07-23T00:00:00\", \"2020-07-22T00:00:00\", \"2020-07-21T00:00:00\", \"2020-07-20T00:00:00\", \"2020-07-17T00:00:00\", \"2020-07-16T00:00:00\", \"2020-07-15T00:00:00\", \"2020-07-14T00:00:00\", \"2020-07-13T00:00:00\", \"2020-07-10T00:00:00\", \"2020-07-09T00:00:00\", \"2020-07-08T00:00:00\"], \"xaxis\": \"x\", \"y\": [32, 32, 12, 10, 11, 6, 7, 8, 4, 4, 5, 3, 7, 10, 15, 12, 13, 15, 13, 11, 10, 11, 21, 24, 20, 10, 15, 16, 14, 13, 14, 12, 12, 6, 4, 6, 4, 4, 8, 8, 8, 10, 10, 16, 20, 22, 24, 24, 17, 14, 20, 25, 20, 17, 10, 10, 8, 3, 5, 6, 2, 2, 5, 3, 4, 2, 0, 1, 2, 2, 0, 4, 6, 3, 6], \"yaxis\": \"y\"}, {\"hovertemplate\": \"Area=Goleta Valley/Gaviota<br>Date=%{x}<br>Active Cases=%{y}<extra></extra>\", \"legendgroup\": \"Goleta Valley/Gaviota\", \"line\": {\"color\": \"#ab63fa\", \"dash\": \"solid\"}, \"mode\": \"lines\", \"name\": \"Goleta Valley/Gaviota\", \"orientation\": \"v\", \"showlegend\": true, \"type\": \"scatter\", \"x\": [\"2020-10-20T00:00:00\", \"2020-10-19T00:00:00\", \"2020-10-16T00:00:00\", \"2020-10-15T00:00:00\", \"2020-10-14T00:00:00\", \"2020-10-13T00:00:00\", \"2020-10-12T00:00:00\", \"2020-10-09T00:00:00\", \"2020-10-08T00:00:00\", \"2020-10-07T00:00:00\", \"2020-10-06T00:00:00\", \"2020-10-05T00:00:00\", \"2020-10-02T00:00:00\", \"2020-10-01T00:00:00\", \"2020-09-30T00:00:00\", \"2020-09-29T00:00:00\", \"2020-09-28T00:00:00\", \"2020-09-25T00:00:00\", \"2020-09-24T00:00:00\", \"2020-09-23T00:00:00\", \"2020-09-22T00:00:00\", \"2020-09-21T00:00:00\", \"2020-09-18T00:00:00\", \"2020-09-17T00:00:00\", \"2020-09-16T00:00:00\", \"2020-09-15T00:00:00\", \"2020-09-14T00:00:00\", \"2020-09-11T00:00:00\", \"2020-09-10T00:00:00\", \"2020-09-09T00:00:00\", \"2020-09-08T00:00:00\", \"2020-09-04T00:00:00\", \"2020-09-03T00:00:00\", \"2020-09-02T00:00:00\", \"2020-09-01T00:00:00\", \"2020-08-31T00:00:00\", \"2020-08-28T00:00:00\", \"2020-08-27T00:00:00\", \"2020-08-26T00:00:00\", \"2020-08-25T00:00:00\", \"2020-08-25T00:00:00\", \"2020-08-24T00:00:00\", \"2020-08-21T00:00:00\", \"2020-08-20T00:00:00\", \"2020-08-19T00:00:00\", \"2020-08-18T00:00:00\", \"2020-08-17T00:00:00\", \"2020-08-14T00:00:00\", \"2020-08-13T00:00:00\", \"2020-08-12T00:00:00\", \"2020-08-11T00:00:00\", \"2020-08-10T00:00:00\", \"2020-08-07T00:00:00\", \"2020-08-06T00:00:00\", \"2020-08-05T00:00:00\", \"2020-08-04T00:00:00\", \"2020-08-03T00:00:00\", \"2020-07-31T00:00:00\", \"2020-07-30T00:00:00\", \"2020-07-29T00:00:00\", \"2020-07-28T00:00:00\", \"2020-07-27T00:00:00\", \"2020-07-24T00:00:00\", \"2020-07-23T00:00:00\", \"2020-07-22T00:00:00\", \"2020-07-21T00:00:00\", \"2020-07-20T00:00:00\", \"2020-07-17T00:00:00\", \"2020-07-16T00:00:00\", \"2020-07-15T00:00:00\", \"2020-07-14T00:00:00\", \"2020-07-13T00:00:00\", \"2020-07-10T00:00:00\", \"2020-07-09T00:00:00\", \"2020-07-08T00:00:00\"], \"xaxis\": \"x\", \"y\": [3, 3, 5, 5, 5, 5, 3, 4, 2, 2, 2, 2, 3, 3, 3, 3, 2, 4, 4, 3, 3, 7, 8, 10, 11, 8, 8, 7, 7, 6, 3, 18, 18, 22, 22, 25, 13, 9, 8, 5, 5, 8, 11, 11, 12, 10, 4, 6, 5, 8, 9, 7, 1, 1, 2, 2, 2, 5, 6, 6, 5, 5, 6, 7, 13, 12, 6, 5, 7, 8, 7, 6, 7, 6, 11], \"yaxis\": \"y\"}, {\"hovertemplate\": \"Area=Santa Ynez Valley<br>Date=%{x}<br>Active Cases=%{y}<extra></extra>\", \"legendgroup\": \"Santa Ynez Valley\", \"line\": {\"color\": \"#FFA15A\", \"dash\": \"solid\"}, \"mode\": \"lines\", \"name\": \"Santa Ynez Valley\", \"orientation\": \"v\", \"showlegend\": true, \"type\": \"scatter\", \"x\": [\"2020-10-20T00:00:00\", \"2020-10-19T00:00:00\", \"2020-10-16T00:00:00\", \"2020-10-15T00:00:00\", \"2020-10-14T00:00:00\", \"2020-10-13T00:00:00\", \"2020-10-12T00:00:00\", \"2020-10-09T00:00:00\", \"2020-10-08T00:00:00\", \"2020-10-07T00:00:00\", \"2020-10-06T00:00:00\", \"2020-10-05T00:00:00\", \"2020-10-02T00:00:00\", \"2020-10-01T00:00:00\", \"2020-09-30T00:00:00\", \"2020-09-29T00:00:00\", \"2020-09-28T00:00:00\", \"2020-09-25T00:00:00\", \"2020-09-24T00:00:00\", \"2020-09-23T00:00:00\", \"2020-09-22T00:00:00\", \"2020-09-21T00:00:00\", \"2020-09-18T00:00:00\", \"2020-09-17T00:00:00\", \"2020-09-16T00:00:00\", \"2020-09-15T00:00:00\", \"2020-09-14T00:00:00\", \"2020-09-11T00:00:00\", \"2020-09-10T00:00:00\", \"2020-09-09T00:00:00\", \"2020-09-08T00:00:00\", \"2020-09-04T00:00:00\", \"2020-09-03T00:00:00\", \"2020-09-02T00:00:00\", \"2020-09-01T00:00:00\", \"2020-08-31T00:00:00\", \"2020-08-28T00:00:00\", \"2020-08-27T00:00:00\", \"2020-08-26T00:00:00\", \"2020-08-25T00:00:00\", \"2020-08-25T00:00:00\", \"2020-08-24T00:00:00\", \"2020-08-21T00:00:00\", \"2020-08-20T00:00:00\", \"2020-08-19T00:00:00\", \"2020-08-18T00:00:00\", \"2020-08-17T00:00:00\", \"2020-08-14T00:00:00\", \"2020-08-13T00:00:00\", \"2020-08-12T00:00:00\", \"2020-08-11T00:00:00\", \"2020-08-10T00:00:00\", \"2020-08-07T00:00:00\", \"2020-08-06T00:00:00\", \"2020-08-05T00:00:00\", \"2020-08-04T00:00:00\", \"2020-08-03T00:00:00\", \"2020-07-31T00:00:00\", \"2020-07-30T00:00:00\", \"2020-07-29T00:00:00\", \"2020-07-28T00:00:00\", \"2020-07-27T00:00:00\", \"2020-07-24T00:00:00\", \"2020-07-23T00:00:00\", \"2020-07-22T00:00:00\", \"2020-07-21T00:00:00\", \"2020-07-20T00:00:00\", \"2020-07-17T00:00:00\", \"2020-07-16T00:00:00\", \"2020-07-15T00:00:00\", \"2020-07-14T00:00:00\", \"2020-07-13T00:00:00\", \"2020-07-10T00:00:00\", \"2020-07-09T00:00:00\", \"2020-07-08T00:00:00\"], \"xaxis\": \"x\", \"y\": [6, 4, 8, 7, 10, 10, 8, 4, 5, 4, 3, 3, 3, 2, 1, 1, 3, 8, 8, 8, 6, 5, 7, 8, 8, 7, 10, 8, 9, 7, 5, 5, 6, 9, 8, 8, 11, 14, 14, 11, 11, 13, 10, 5, 1, 2, 5, 7, 8, 5, 4, 4, 1, 0, 0, 1, 1, 4, 4, 3, 4, 5, 7, 7, 8, 7, 2, 10, 12, 8, 8, 7, 8, 9, 7], \"yaxis\": \"y\"}, {\"hovertemplate\": \"Area=Lompoc<br>Date=%{x}<br>Active Cases=%{y}<extra></extra>\", \"legendgroup\": \"Lompoc\", \"line\": {\"color\": \"#19d3f3\", \"dash\": \"solid\"}, \"mode\": \"lines\", \"name\": \"Lompoc\", \"orientation\": \"v\", \"showlegend\": true, \"type\": \"scatter\", \"x\": [\"2020-10-20T00:00:00\", \"2020-10-19T00:00:00\", \"2020-10-16T00:00:00\", \"2020-10-15T00:00:00\", \"2020-10-14T00:00:00\", \"2020-10-13T00:00:00\", \"2020-10-12T00:00:00\", \"2020-10-09T00:00:00\", \"2020-10-08T00:00:00\", \"2020-10-07T00:00:00\", \"2020-10-06T00:00:00\", \"2020-10-05T00:00:00\", \"2020-10-02T00:00:00\", \"2020-10-01T00:00:00\", \"2020-09-30T00:00:00\", \"2020-09-29T00:00:00\", \"2020-09-28T00:00:00\", \"2020-09-25T00:00:00\", \"2020-09-24T00:00:00\", \"2020-09-23T00:00:00\", \"2020-09-22T00:00:00\", \"2020-09-21T00:00:00\", \"2020-09-18T00:00:00\", \"2020-09-17T00:00:00\", \"2020-09-16T00:00:00\", \"2020-09-15T00:00:00\", \"2020-09-14T00:00:00\", \"2020-09-11T00:00:00\", \"2020-09-10T00:00:00\", \"2020-09-09T00:00:00\", \"2020-09-08T00:00:00\", \"2020-09-04T00:00:00\", \"2020-09-03T00:00:00\", \"2020-09-02T00:00:00\", \"2020-09-01T00:00:00\", \"2020-08-31T00:00:00\", \"2020-08-28T00:00:00\", \"2020-08-27T00:00:00\", \"2020-08-26T00:00:00\", \"2020-08-25T00:00:00\", \"2020-08-25T00:00:00\", \"2020-08-24T00:00:00\", \"2020-08-21T00:00:00\", \"2020-08-20T00:00:00\", \"2020-08-19T00:00:00\", \"2020-08-18T00:00:00\", \"2020-08-17T00:00:00\", \"2020-08-14T00:00:00\", \"2020-08-13T00:00:00\", \"2020-08-12T00:00:00\", \"2020-08-11T00:00:00\", \"2020-08-10T00:00:00\", \"2020-08-07T00:00:00\", \"2020-08-06T00:00:00\", \"2020-08-05T00:00:00\", \"2020-08-04T00:00:00\", \"2020-08-03T00:00:00\", \"2020-07-31T00:00:00\", \"2020-07-30T00:00:00\", \"2020-07-29T00:00:00\", \"2020-07-28T00:00:00\", \"2020-07-27T00:00:00\", \"2020-07-24T00:00:00\", \"2020-07-23T00:00:00\", \"2020-07-22T00:00:00\", \"2020-07-21T00:00:00\", \"2020-07-20T00:00:00\", \"2020-07-17T00:00:00\", \"2020-07-16T00:00:00\", \"2020-07-15T00:00:00\", \"2020-07-14T00:00:00\", \"2020-07-13T00:00:00\", \"2020-07-10T00:00:00\", \"2020-07-09T00:00:00\", \"2020-07-08T00:00:00\"], \"xaxis\": \"x\", \"y\": [13, 16, 12, 12, 15, 17, 22, 24, 24, 23, 21, 22, 220, 20, 26, 25, 26, 19, 14, 15, 14, 18, 28, 22, 18, 18, 20, 18, 24, 36, 37, 38, 39, 35, 23, 28, 24, 19, 23, 24, 24, 23, 26, 25, 28, 30, 36, 28, 18, 23, 30, 32, 26, 24, 23, 23, 25, 27, 24, 34, 35, 31, 39, 41, 42, 33, 35, 43, 32, 25, 29, 25, 22, 24, 29], \"yaxis\": \"y\"}, {\"hovertemplate\": \"Area=Federal Prison in Lompoc<br>Date=%{x}<br>Active Cases=%{y}<extra></extra>\", \"legendgroup\": \"Federal Prison in Lompoc\", \"line\": {\"color\": \"#FF6692\", \"dash\": \"solid\"}, \"mode\": \"lines\", \"name\": \"Federal Prison in Lompoc\", \"orientation\": \"v\", \"showlegend\": true, \"type\": \"scatter\", \"x\": [\"2020-10-20T00:00:00\", \"2020-10-19T00:00:00\", \"2020-10-16T00:00:00\", \"2020-10-15T00:00:00\", \"2020-10-14T00:00:00\", \"2020-10-13T00:00:00\", \"2020-10-12T00:00:00\", \"2020-10-09T00:00:00\", \"2020-10-08T00:00:00\", \"2020-10-07T00:00:00\", \"2020-10-06T00:00:00\", \"2020-10-05T00:00:00\", \"2020-10-02T00:00:00\", \"2020-10-01T00:00:00\", \"2020-09-30T00:00:00\", \"2020-09-29T00:00:00\", \"2020-09-28T00:00:00\", \"2020-09-25T00:00:00\", \"2020-09-24T00:00:00\", \"2020-09-23T00:00:00\", \"2020-09-22T00:00:00\", \"2020-09-21T00:00:00\", \"2020-09-18T00:00:00\", \"2020-09-17T00:00:00\", \"2020-09-16T00:00:00\", \"2020-09-15T00:00:00\", \"2020-09-14T00:00:00\", \"2020-09-11T00:00:00\", \"2020-09-10T00:00:00\", \"2020-09-09T00:00:00\", \"2020-09-08T00:00:00\", \"2020-09-04T00:00:00\", \"2020-09-03T00:00:00\", \"2020-09-02T00:00:00\", \"2020-09-01T00:00:00\", \"2020-08-31T00:00:00\", \"2020-08-28T00:00:00\", \"2020-08-27T00:00:00\", \"2020-08-26T00:00:00\", \"2020-08-25T00:00:00\", \"2020-08-25T00:00:00\", \"2020-08-24T00:00:00\", \"2020-08-21T00:00:00\", \"2020-08-20T00:00:00\", \"2020-08-19T00:00:00\", \"2020-08-18T00:00:00\", \"2020-08-17T00:00:00\", \"2020-08-14T00:00:00\", \"2020-08-13T00:00:00\", \"2020-08-12T00:00:00\", \"2020-08-11T00:00:00\", \"2020-08-10T00:00:00\", \"2020-08-07T00:00:00\", \"2020-08-06T00:00:00\", \"2020-08-05T00:00:00\", \"2020-08-04T00:00:00\", \"2020-08-03T00:00:00\", \"2020-07-31T00:00:00\", \"2020-07-30T00:00:00\", \"2020-07-29T00:00:00\", \"2020-07-28T00:00:00\", \"2020-07-27T00:00:00\", \"2020-07-24T00:00:00\", \"2020-07-23T00:00:00\", \"2020-07-22T00:00:00\", \"2020-07-21T00:00:00\", \"2020-07-20T00:00:00\", \"2020-07-17T00:00:00\", \"2020-07-16T00:00:00\", \"2020-07-15T00:00:00\", \"2020-07-14T00:00:00\", \"2020-07-13T00:00:00\", \"2020-07-10T00:00:00\", \"2020-07-09T00:00:00\", \"2020-07-08T00:00:00\"], \"xaxis\": \"x\", \"y\": [0, 0, 1, 1, 1, 1, 0, 1, 1, 1, 1, 0, 0, 0, 0, 0, 0, 0, 0, 0, 0, 0, 2, 0, 0, 0, 0, 1, 1, 1, 0, 2, 3, 3, 3, 0, 0, 0, 0, 0, 0, 0, 0, 0, 0, 0, 0, 0, 0, 0, 0, 0, 0, 0, 0, 0, 0, 0, 0, 0, 0, 0, 7, 5, 8, 5, 7, 7, 3, 0, 1, 1, 1, 1, 0], \"yaxis\": \"y\"}, {\"hovertemplate\": \"Area=Santa Maria<br>Date=%{x}<br>Active Cases=%{y}<extra></extra>\", \"legendgroup\": \"Santa Maria\", \"line\": {\"color\": \"#B6E880\", \"dash\": \"solid\"}, \"mode\": \"lines\", \"name\": \"Santa Maria\", \"orientation\": \"v\", \"showlegend\": true, \"type\": \"scatter\", \"x\": [\"2020-10-20T00:00:00\", \"2020-10-19T00:00:00\", \"2020-10-16T00:00:00\", \"2020-10-15T00:00:00\", \"2020-10-14T00:00:00\", \"2020-10-13T00:00:00\", \"2020-10-12T00:00:00\", \"2020-10-09T00:00:00\", \"2020-10-08T00:00:00\", \"2020-10-07T00:00:00\", \"2020-10-06T00:00:00\", \"2020-10-05T00:00:00\", \"2020-10-02T00:00:00\", \"2020-10-01T00:00:00\", \"2020-09-30T00:00:00\", \"2020-09-29T00:00:00\", \"2020-09-28T00:00:00\", \"2020-09-25T00:00:00\", \"2020-09-24T00:00:00\", \"2020-09-23T00:00:00\", \"2020-09-22T00:00:00\", \"2020-09-21T00:00:00\", \"2020-09-18T00:00:00\", \"2020-09-17T00:00:00\", \"2020-09-16T00:00:00\", \"2020-09-15T00:00:00\", \"2020-09-14T00:00:00\", \"2020-09-11T00:00:00\", \"2020-09-10T00:00:00\", \"2020-09-09T00:00:00\", \"2020-09-08T00:00:00\", \"2020-09-04T00:00:00\", \"2020-09-03T00:00:00\", \"2020-09-02T00:00:00\", \"2020-09-01T00:00:00\", \"2020-08-31T00:00:00\", \"2020-08-28T00:00:00\", \"2020-08-27T00:00:00\", \"2020-08-26T00:00:00\", \"2020-08-25T00:00:00\", \"2020-08-25T00:00:00\", \"2020-08-24T00:00:00\", \"2020-08-21T00:00:00\", \"2020-08-20T00:00:00\", \"2020-08-19T00:00:00\", \"2020-08-18T00:00:00\", \"2020-08-17T00:00:00\", \"2020-08-14T00:00:00\", \"2020-08-13T00:00:00\", \"2020-08-12T00:00:00\", \"2020-08-11T00:00:00\", \"2020-08-10T00:00:00\", \"2020-08-07T00:00:00\", \"2020-08-06T00:00:00\", \"2020-08-05T00:00:00\", \"2020-08-04T00:00:00\", \"2020-08-03T00:00:00\", \"2020-07-31T00:00:00\", \"2020-07-30T00:00:00\", \"2020-07-29T00:00:00\", \"2020-07-28T00:00:00\", \"2020-07-27T00:00:00\", \"2020-07-24T00:00:00\", \"2020-07-23T00:00:00\", \"2020-07-22T00:00:00\", \"2020-07-21T00:00:00\", \"2020-07-20T00:00:00\", \"2020-07-17T00:00:00\", \"2020-07-16T00:00:00\", \"2020-07-15T00:00:00\", \"2020-07-14T00:00:00\", \"2020-07-13T00:00:00\", \"2020-07-10T00:00:00\", \"2020-07-09T00:00:00\", \"2020-07-08T00:00:00\"], \"xaxis\": \"x\", \"y\": [30, 27, 39, 42, 45, 45, 44, 49, 48, 54, 52, 56, 75, 70, 73, 63, 61, 54, 48, 52, 56, 56, 52, 46, 53, 44, 40, 51, 63, 77, 70, 78, 68, 79, 81, 85, 103, 94, 92, 93, 93, 87, 83, 69, 79, 91, 108, 121, 86, 106, 123, 116, 73, 78, 97, 98, 118, 97, 117, 158, 167, 164, 183, 168, 167, 136, 123, 220, 227, 193, 220, 167, 172, 189, 226], \"yaxis\": \"y\"}, {\"hovertemplate\": \"Area=Orcutt<br>Date=%{x}<br>Active Cases=%{y}<extra></extra>\", \"legendgroup\": \"Orcutt\", \"line\": {\"color\": \"#FF97FF\", \"dash\": \"solid\"}, \"mode\": \"lines\", \"name\": \"Orcutt\", \"orientation\": \"v\", \"showlegend\": true, \"type\": \"scatter\", \"x\": [\"2020-10-20T00:00:00\", \"2020-10-19T00:00:00\", \"2020-10-16T00:00:00\", \"2020-10-15T00:00:00\", \"2020-10-14T00:00:00\", \"2020-10-13T00:00:00\", \"2020-10-12T00:00:00\", \"2020-10-09T00:00:00\", \"2020-10-08T00:00:00\", \"2020-10-07T00:00:00\", \"2020-10-06T00:00:00\", \"2020-10-05T00:00:00\", \"2020-10-02T00:00:00\", \"2020-10-01T00:00:00\", \"2020-09-30T00:00:00\", \"2020-09-29T00:00:00\", \"2020-09-28T00:00:00\", \"2020-09-25T00:00:00\", \"2020-09-24T00:00:00\", \"2020-09-23T00:00:00\", \"2020-09-22T00:00:00\", \"2020-09-21T00:00:00\", \"2020-09-18T00:00:00\", \"2020-09-17T00:00:00\", \"2020-09-16T00:00:00\", \"2020-09-15T00:00:00\", \"2020-09-14T00:00:00\", \"2020-09-11T00:00:00\", \"2020-09-10T00:00:00\", \"2020-09-09T00:00:00\", \"2020-09-08T00:00:00\", \"2020-09-04T00:00:00\", \"2020-09-03T00:00:00\", \"2020-09-02T00:00:00\", \"2020-09-01T00:00:00\", \"2020-08-31T00:00:00\", \"2020-08-28T00:00:00\", \"2020-08-27T00:00:00\", \"2020-08-26T00:00:00\", \"2020-08-25T00:00:00\", \"2020-08-25T00:00:00\", \"2020-08-24T00:00:00\", \"2020-08-21T00:00:00\", \"2020-08-20T00:00:00\", \"2020-08-19T00:00:00\", \"2020-08-18T00:00:00\", \"2020-08-17T00:00:00\", \"2020-08-14T00:00:00\", \"2020-08-13T00:00:00\", \"2020-08-12T00:00:00\", \"2020-08-11T00:00:00\", \"2020-08-10T00:00:00\", \"2020-08-07T00:00:00\", \"2020-08-06T00:00:00\", \"2020-08-05T00:00:00\", \"2020-08-04T00:00:00\", \"2020-08-03T00:00:00\", \"2020-07-31T00:00:00\", \"2020-07-30T00:00:00\", \"2020-07-29T00:00:00\", \"2020-07-28T00:00:00\", \"2020-07-27T00:00:00\", \"2020-07-24T00:00:00\", \"2020-07-23T00:00:00\", \"2020-07-22T00:00:00\", \"2020-07-21T00:00:00\", \"2020-07-20T00:00:00\", \"2020-07-17T00:00:00\", \"2020-07-16T00:00:00\", \"2020-07-15T00:00:00\", \"2020-07-14T00:00:00\", \"2020-07-13T00:00:00\", \"2020-07-10T00:00:00\", \"2020-07-09T00:00:00\", \"2020-07-08T00:00:00\"], \"xaxis\": \"x\", \"y\": [3, 9, 4, 4, 8, 9, 8, 10, 10, 5, 5, 5, 9, 12, 12, 13, 14, 12, 9, 10, 8, 8, 8, 9, 12, 8, 6, 9, 10, 10, 9, 4, 6, 8, 7, 8, 7, 5, 6, 7, 7, 6, 11, 9, 8, 6, 6, 6, 7, 10, 14, 11, 3, 5, 4, 4, 6, 7, 10, 11, 12, 7, 10, 11, 12, 12, 10, 11, 14, 10, 12, 14, 10, 15, 17], \"yaxis\": \"y\"}],                        {\"legend\": {\"title\": {\"text\": \"Area\"}, \"tracegroupgap\": 0}, \"margin\": {\"t\": 60}, \"template\": {\"data\": {\"bar\": [{\"error_x\": {\"color\": \"#2a3f5f\"}, \"error_y\": {\"color\": \"#2a3f5f\"}, \"marker\": {\"line\": {\"color\": \"#E5ECF6\", \"width\": 0.5}}, \"type\": \"bar\"}], \"barpolar\": [{\"marker\": {\"line\": {\"color\": \"#E5ECF6\", \"width\": 0.5}}, \"type\": \"barpolar\"}], \"carpet\": [{\"aaxis\": {\"endlinecolor\": \"#2a3f5f\", \"gridcolor\": \"white\", \"linecolor\": \"white\", \"minorgridcolor\": \"white\", \"startlinecolor\": \"#2a3f5f\"}, \"baxis\": {\"endlinecolor\": \"#2a3f5f\", \"gridcolor\": \"white\", \"linecolor\": \"white\", \"minorgridcolor\": \"white\", \"startlinecolor\": \"#2a3f5f\"}, \"type\": \"carpet\"}], \"choropleth\": [{\"colorbar\": {\"outlinewidth\": 0, \"ticks\": \"\"}, \"type\": \"choropleth\"}], \"contour\": [{\"colorbar\": {\"outlinewidth\": 0, \"ticks\": \"\"}, \"colorscale\": [[0.0, \"#0d0887\"], [0.1111111111111111, \"#46039f\"], [0.2222222222222222, \"#7201a8\"], [0.3333333333333333, \"#9c179e\"], [0.4444444444444444, \"#bd3786\"], [0.5555555555555556, \"#d8576b\"], [0.6666666666666666, \"#ed7953\"], [0.7777777777777778, \"#fb9f3a\"], [0.8888888888888888, \"#fdca26\"], [1.0, \"#f0f921\"]], \"type\": \"contour\"}], \"contourcarpet\": [{\"colorbar\": {\"outlinewidth\": 0, \"ticks\": \"\"}, \"type\": \"contourcarpet\"}], \"heatmap\": [{\"colorbar\": {\"outlinewidth\": 0, \"ticks\": \"\"}, \"colorscale\": [[0.0, \"#0d0887\"], [0.1111111111111111, \"#46039f\"], [0.2222222222222222, \"#7201a8\"], [0.3333333333333333, \"#9c179e\"], [0.4444444444444444, \"#bd3786\"], [0.5555555555555556, \"#d8576b\"], [0.6666666666666666, \"#ed7953\"], [0.7777777777777778, \"#fb9f3a\"], [0.8888888888888888, \"#fdca26\"], [1.0, \"#f0f921\"]], \"type\": \"heatmap\"}], \"heatmapgl\": [{\"colorbar\": {\"outlinewidth\": 0, \"ticks\": \"\"}, \"colorscale\": [[0.0, \"#0d0887\"], [0.1111111111111111, \"#46039f\"], [0.2222222222222222, \"#7201a8\"], [0.3333333333333333, \"#9c179e\"], [0.4444444444444444, \"#bd3786\"], [0.5555555555555556, \"#d8576b\"], [0.6666666666666666, \"#ed7953\"], [0.7777777777777778, \"#fb9f3a\"], [0.8888888888888888, \"#fdca26\"], [1.0, \"#f0f921\"]], \"type\": \"heatmapgl\"}], \"histogram\": [{\"marker\": {\"colorbar\": {\"outlinewidth\": 0, \"ticks\": \"\"}}, \"type\": \"histogram\"}], \"histogram2d\": [{\"colorbar\": {\"outlinewidth\": 0, \"ticks\": \"\"}, \"colorscale\": [[0.0, \"#0d0887\"], [0.1111111111111111, \"#46039f\"], [0.2222222222222222, \"#7201a8\"], [0.3333333333333333, \"#9c179e\"], [0.4444444444444444, \"#bd3786\"], [0.5555555555555556, \"#d8576b\"], [0.6666666666666666, \"#ed7953\"], [0.7777777777777778, \"#fb9f3a\"], [0.8888888888888888, \"#fdca26\"], [1.0, \"#f0f921\"]], \"type\": \"histogram2d\"}], \"histogram2dcontour\": [{\"colorbar\": {\"outlinewidth\": 0, \"ticks\": \"\"}, \"colorscale\": [[0.0, \"#0d0887\"], [0.1111111111111111, \"#46039f\"], [0.2222222222222222, \"#7201a8\"], [0.3333333333333333, \"#9c179e\"], [0.4444444444444444, \"#bd3786\"], [0.5555555555555556, \"#d8576b\"], [0.6666666666666666, \"#ed7953\"], [0.7777777777777778, \"#fb9f3a\"], [0.8888888888888888, \"#fdca26\"], [1.0, \"#f0f921\"]], \"type\": \"histogram2dcontour\"}], \"mesh3d\": [{\"colorbar\": {\"outlinewidth\": 0, \"ticks\": \"\"}, \"type\": \"mesh3d\"}], \"parcoords\": [{\"line\": {\"colorbar\": {\"outlinewidth\": 0, \"ticks\": \"\"}}, \"type\": \"parcoords\"}], \"pie\": [{\"automargin\": true, \"type\": \"pie\"}], \"scatter\": [{\"marker\": {\"colorbar\": {\"outlinewidth\": 0, \"ticks\": \"\"}}, \"type\": \"scatter\"}], \"scatter3d\": [{\"line\": {\"colorbar\": {\"outlinewidth\": 0, \"ticks\": \"\"}}, \"marker\": {\"colorbar\": {\"outlinewidth\": 0, \"ticks\": \"\"}}, \"type\": \"scatter3d\"}], \"scattercarpet\": [{\"marker\": {\"colorbar\": {\"outlinewidth\": 0, \"ticks\": \"\"}}, \"type\": \"scattercarpet\"}], \"scattergeo\": [{\"marker\": {\"colorbar\": {\"outlinewidth\": 0, \"ticks\": \"\"}}, \"type\": \"scattergeo\"}], \"scattergl\": [{\"marker\": {\"colorbar\": {\"outlinewidth\": 0, \"ticks\": \"\"}}, \"type\": \"scattergl\"}], \"scattermapbox\": [{\"marker\": {\"colorbar\": {\"outlinewidth\": 0, \"ticks\": \"\"}}, \"type\": \"scattermapbox\"}], \"scatterpolar\": [{\"marker\": {\"colorbar\": {\"outlinewidth\": 0, \"ticks\": \"\"}}, \"type\": \"scatterpolar\"}], \"scatterpolargl\": [{\"marker\": {\"colorbar\": {\"outlinewidth\": 0, \"ticks\": \"\"}}, \"type\": \"scatterpolargl\"}], \"scatterternary\": [{\"marker\": {\"colorbar\": {\"outlinewidth\": 0, \"ticks\": \"\"}}, \"type\": \"scatterternary\"}], \"surface\": [{\"colorbar\": {\"outlinewidth\": 0, \"ticks\": \"\"}, \"colorscale\": [[0.0, \"#0d0887\"], [0.1111111111111111, \"#46039f\"], [0.2222222222222222, \"#7201a8\"], [0.3333333333333333, \"#9c179e\"], [0.4444444444444444, \"#bd3786\"], [0.5555555555555556, \"#d8576b\"], [0.6666666666666666, \"#ed7953\"], [0.7777777777777778, \"#fb9f3a\"], [0.8888888888888888, \"#fdca26\"], [1.0, \"#f0f921\"]], \"type\": \"surface\"}], \"table\": [{\"cells\": {\"fill\": {\"color\": \"#EBF0F8\"}, \"line\": {\"color\": \"white\"}}, \"header\": {\"fill\": {\"color\": \"#C8D4E3\"}, \"line\": {\"color\": \"white\"}}, \"type\": \"table\"}]}, \"layout\": {\"annotationdefaults\": {\"arrowcolor\": \"#2a3f5f\", \"arrowhead\": 0, \"arrowwidth\": 1}, \"coloraxis\": {\"colorbar\": {\"outlinewidth\": 0, \"ticks\": \"\"}}, \"colorscale\": {\"diverging\": [[0, \"#8e0152\"], [0.1, \"#c51b7d\"], [0.2, \"#de77ae\"], [0.3, \"#f1b6da\"], [0.4, \"#fde0ef\"], [0.5, \"#f7f7f7\"], [0.6, \"#e6f5d0\"], [0.7, \"#b8e186\"], [0.8, \"#7fbc41\"], [0.9, \"#4d9221\"], [1, \"#276419\"]], \"sequential\": [[0.0, \"#0d0887\"], [0.1111111111111111, \"#46039f\"], [0.2222222222222222, \"#7201a8\"], [0.3333333333333333, \"#9c179e\"], [0.4444444444444444, \"#bd3786\"], [0.5555555555555556, \"#d8576b\"], [0.6666666666666666, \"#ed7953\"], [0.7777777777777778, \"#fb9f3a\"], [0.8888888888888888, \"#fdca26\"], [1.0, \"#f0f921\"]], \"sequentialminus\": [[0.0, \"#0d0887\"], [0.1111111111111111, \"#46039f\"], [0.2222222222222222, \"#7201a8\"], [0.3333333333333333, \"#9c179e\"], [0.4444444444444444, \"#bd3786\"], [0.5555555555555556, \"#d8576b\"], [0.6666666666666666, \"#ed7953\"], [0.7777777777777778, \"#fb9f3a\"], [0.8888888888888888, \"#fdca26\"], [1.0, \"#f0f921\"]]}, \"colorway\": [\"#636efa\", \"#EF553B\", \"#00cc96\", \"#ab63fa\", \"#FFA15A\", \"#19d3f3\", \"#FF6692\", \"#B6E880\", \"#FF97FF\", \"#FECB52\"], \"font\": {\"color\": \"#2a3f5f\"}, \"geo\": {\"bgcolor\": \"white\", \"lakecolor\": \"white\", \"landcolor\": \"#E5ECF6\", \"showlakes\": true, \"showland\": true, \"subunitcolor\": \"white\"}, \"hoverlabel\": {\"align\": \"left\"}, \"hovermode\": \"closest\", \"mapbox\": {\"style\": \"light\"}, \"paper_bgcolor\": \"white\", \"plot_bgcolor\": \"#E5ECF6\", \"polar\": {\"angularaxis\": {\"gridcolor\": \"white\", \"linecolor\": \"white\", \"ticks\": \"\"}, \"bgcolor\": \"#E5ECF6\", \"radialaxis\": {\"gridcolor\": \"white\", \"linecolor\": \"white\", \"ticks\": \"\"}}, \"scene\": {\"xaxis\": {\"backgroundcolor\": \"#E5ECF6\", \"gridcolor\": \"white\", \"gridwidth\": 2, \"linecolor\": \"white\", \"showbackground\": true, \"ticks\": \"\", \"zerolinecolor\": \"white\"}, \"yaxis\": {\"backgroundcolor\": \"#E5ECF6\", \"gridcolor\": \"white\", \"gridwidth\": 2, \"linecolor\": \"white\", \"showbackground\": true, \"ticks\": \"\", \"zerolinecolor\": \"white\"}, \"zaxis\": {\"backgroundcolor\": \"#E5ECF6\", \"gridcolor\": \"white\", \"gridwidth\": 2, \"linecolor\": \"white\", \"showbackground\": true, \"ticks\": \"\", \"zerolinecolor\": \"white\"}}, \"shapedefaults\": {\"line\": {\"color\": \"#2a3f5f\"}}, \"ternary\": {\"aaxis\": {\"gridcolor\": \"white\", \"linecolor\": \"white\", \"ticks\": \"\"}, \"baxis\": {\"gridcolor\": \"white\", \"linecolor\": \"white\", \"ticks\": \"\"}, \"bgcolor\": \"#E5ECF6\", \"caxis\": {\"gridcolor\": \"white\", \"linecolor\": \"white\", \"ticks\": \"\"}}, \"title\": {\"x\": 0.05}, \"xaxis\": {\"automargin\": true, \"gridcolor\": \"white\", \"linecolor\": \"white\", \"ticks\": \"\", \"title\": {\"standoff\": 15}, \"zerolinecolor\": \"white\", \"zerolinewidth\": 2}, \"yaxis\": {\"automargin\": true, \"gridcolor\": \"white\", \"linecolor\": \"white\", \"ticks\": \"\", \"title\": {\"standoff\": 15}, \"zerolinecolor\": \"white\", \"zerolinewidth\": 2}}}, \"xaxis\": {\"anchor\": \"y\", \"domain\": [0.0, 1.0], \"title\": {\"text\": \"Date\"}}, \"yaxis\": {\"anchor\": \"x\", \"domain\": [0.0, 1.0], \"title\": {\"text\": \"Active Cases\"}}},                        {\"responsive\": true}                    ).then(function(){\n",
              "                            \n",
              "var gd = document.getElementById('0b52c732-1ded-4775-84e6-97421e3d1922');\n",
              "var x = new MutationObserver(function (mutations, observer) {{\n",
              "        var display = window.getComputedStyle(gd).display;\n",
              "        if (!display || display === 'none') {{\n",
              "            console.log([gd, 'removed!']);\n",
              "            Plotly.purge(gd);\n",
              "            observer.disconnect();\n",
              "        }}\n",
              "}});\n",
              "\n",
              "// Listen for the removal of the full notebook cells\n",
              "var notebookContainer = gd.closest('#notebook-container');\n",
              "if (notebookContainer) {{\n",
              "    x.observe(notebookContainer, {childList: true});\n",
              "}}\n",
              "\n",
              "// Listen for the clearing of the current output cell\n",
              "var outputEl = gd.closest('.output');\n",
              "if (outputEl) {{\n",
              "    x.observe(outputEl, {childList: true});\n",
              "}}\n",
              "\n",
              "                        })                };                            </script>        </div>\n",
              "</body>\n",
              "</html>"
            ]
          },
          "metadata": {
            "tags": []
          }
        }
      ]
    },
    {
      "cell_type": "code",
      "metadata": {
        "id": "-4zKqCERc-AN"
      },
      "source": [
        "#fixing outlier in Active Cases column for Lompoc, looks like an extra zero was added by mistake\n",
        "area_viz.loc[(area_viz['Area'] == 'Lompoc') & (area_viz['Active Cases'] > 200), ['Active Cases']] = 22\n",
        "\n",
        "#fixing outlier in Number of Deaths column for Santa Maria, looks like an extra 3 was added by mistake\n",
        "area_viz.loc[(area_viz['Area'] == 'Santa Maria') & (area_viz['Number of Deaths'] > 300), ['Number of Deaths']] = 34"
      ],
      "execution_count": 165,
      "outputs": []
    },
    {
      "cell_type": "code",
      "metadata": {
        "id": "xlWEP6W-dV2m",
        "outputId": "34eb02ae-6e14-4775-87bf-148c1cda55d8",
        "colab": {
          "base_uri": "https://localhost:8080/",
          "height": 542
        }
      },
      "source": [
        "fig = px.line(area_viz,\n",
        "              x = 'Date',\n",
        "              y = 'Active Cases',\n",
        "              title = 'Active Cases' + ' by Region',\n",
        "              template = 'plotly_dark',\n",
        "              #color_discrete_sequence = px.colors.qualitative.D3,\n",
        "              color = 'Area')\n",
        "fig.update_layout(\n",
        "    hovermode = 'closest',\n",
        "    title_font_family = 'Courier',\n",
        "    title_font_color = 'white',\n",
        "    title_font_size = 24,\n",
        "    legend = dict(\n",
        "        orientation='h',\n",
        "        yanchor='bottom',\n",
        "        y=1.02,\n",
        "        xanchor='left',\n",
        "        x=0,\n",
        "        font = dict(\n",
        "            family = 'Courier',\n",
        "            size = 12,\n",
        "            color = 'white')\n",
        "        )\n",
        ")\n",
        "\n",
        "                       \n",
        "fig.show()"
      ],
      "execution_count": 166,
      "outputs": [
        {
          "output_type": "display_data",
          "data": {
            "text/html": [
              "<html>\n",
              "<head><meta charset=\"utf-8\" /></head>\n",
              "<body>\n",
              "    <div>            <script src=\"https://cdnjs.cloudflare.com/ajax/libs/mathjax/2.7.5/MathJax.js?config=TeX-AMS-MML_SVG\"></script><script type=\"text/javascript\">if (window.MathJax) {MathJax.Hub.Config({SVG: {font: \"STIX-Web\"}});}</script>                <script type=\"text/javascript\">window.PlotlyConfig = {MathJaxConfig: 'local'};</script>\n",
              "        <script src=\"https://cdn.plot.ly/plotly-latest.min.js\"></script>                <div id=\"80128ef0-2546-4125-9d6a-3938ad86893e\" class=\"plotly-graph-div\" style=\"height:525px; width:100%;\"></div>            <script type=\"text/javascript\">                                    window.PLOTLYENV=window.PLOTLYENV || {};                                    if (document.getElementById(\"80128ef0-2546-4125-9d6a-3938ad86893e\")) {                    Plotly.newPlot(                        \"80128ef0-2546-4125-9d6a-3938ad86893e\",                        [{\"hovertemplate\": \"Area=Santa Barbara<br>Date=%{x}<br>Active Cases=%{y}<extra></extra>\", \"legendgroup\": \"Santa Barbara\", \"line\": {\"color\": \"#636efa\", \"dash\": \"solid\"}, \"mode\": \"lines\", \"name\": \"Santa Barbara\", \"orientation\": \"v\", \"showlegend\": true, \"type\": \"scatter\", \"x\": [\"2020-10-20T00:00:00\", \"2020-10-19T00:00:00\", \"2020-10-16T00:00:00\", \"2020-10-15T00:00:00\", \"2020-10-14T00:00:00\", \"2020-10-13T00:00:00\", \"2020-10-12T00:00:00\", \"2020-10-09T00:00:00\", \"2020-10-08T00:00:00\", \"2020-10-07T00:00:00\", \"2020-10-06T00:00:00\", \"2020-10-05T00:00:00\", \"2020-10-02T00:00:00\", \"2020-10-01T00:00:00\", \"2020-09-30T00:00:00\", \"2020-09-29T00:00:00\", \"2020-09-28T00:00:00\", \"2020-09-25T00:00:00\", \"2020-09-24T00:00:00\", \"2020-09-23T00:00:00\", \"2020-09-22T00:00:00\", \"2020-09-21T00:00:00\", \"2020-09-18T00:00:00\", \"2020-09-17T00:00:00\", \"2020-09-16T00:00:00\", \"2020-09-15T00:00:00\", \"2020-09-14T00:00:00\", \"2020-09-11T00:00:00\", \"2020-09-10T00:00:00\", \"2020-09-09T00:00:00\", \"2020-09-08T00:00:00\", \"2020-09-04T00:00:00\", \"2020-09-03T00:00:00\", \"2020-09-02T00:00:00\", \"2020-09-01T00:00:00\", \"2020-08-31T00:00:00\", \"2020-08-28T00:00:00\", \"2020-08-27T00:00:00\", \"2020-08-26T00:00:00\", \"2020-08-25T00:00:00\", \"2020-08-25T00:00:00\", \"2020-08-24T00:00:00\", \"2020-08-21T00:00:00\", \"2020-08-20T00:00:00\", \"2020-08-19T00:00:00\", \"2020-08-18T00:00:00\", \"2020-08-17T00:00:00\", \"2020-08-14T00:00:00\", \"2020-08-13T00:00:00\", \"2020-08-12T00:00:00\", \"2020-08-11T00:00:00\", \"2020-08-10T00:00:00\", \"2020-08-07T00:00:00\", \"2020-08-06T00:00:00\", \"2020-08-05T00:00:00\", \"2020-08-04T00:00:00\", \"2020-08-03T00:00:00\", \"2020-07-31T00:00:00\", \"2020-07-30T00:00:00\", \"2020-07-29T00:00:00\", \"2020-07-28T00:00:00\", \"2020-07-27T00:00:00\", \"2020-07-24T00:00:00\", \"2020-07-23T00:00:00\", \"2020-07-22T00:00:00\", \"2020-07-21T00:00:00\", \"2020-07-20T00:00:00\", \"2020-07-17T00:00:00\", \"2020-07-16T00:00:00\", \"2020-07-15T00:00:00\", \"2020-07-14T00:00:00\", \"2020-07-13T00:00:00\", \"2020-07-10T00:00:00\", \"2020-07-09T00:00:00\", \"2020-07-08T00:00:00\"], \"xaxis\": \"x\", \"y\": [7, 6, 12, 11, 13, 12, 9, 11, 11, 11, 11, 11, 9, 10, 18, 13, 11, 15, 15, 16, 20, 19, 20, 23, 20, 19, 22, 26, 24, 26, 27, 30, 32, 30, 21, 27, 40, 37, 42, 37, 37, 42, 33, 31, 27, 31, 35, 43, 37, 38, 54, 49, 37, 40, 48, 47, 41, 44, 48, 57, 44, 37, 47, 52, 37, 36, 39, 51, 51, 42, 35, 52, 58, 53, 80], \"yaxis\": \"y\"}, {\"hovertemplate\": \"Area=Goleta<br>Date=%{x}<br>Active Cases=%{y}<extra></extra>\", \"legendgroup\": \"Goleta\", \"line\": {\"color\": \"#EF553B\", \"dash\": \"solid\"}, \"mode\": \"lines\", \"name\": \"Goleta\", \"orientation\": \"v\", \"showlegend\": true, \"type\": \"scatter\", \"x\": [\"2020-10-20T00:00:00\", \"2020-10-19T00:00:00\", \"2020-10-16T00:00:00\", \"2020-10-15T00:00:00\", \"2020-10-14T00:00:00\", \"2020-10-13T00:00:00\", \"2020-10-12T00:00:00\", \"2020-10-09T00:00:00\", \"2020-10-08T00:00:00\", \"2020-10-07T00:00:00\", \"2020-10-06T00:00:00\", \"2020-10-05T00:00:00\", \"2020-10-02T00:00:00\", \"2020-10-01T00:00:00\", \"2020-09-30T00:00:00\", \"2020-09-29T00:00:00\", \"2020-09-28T00:00:00\", \"2020-09-25T00:00:00\", \"2020-09-24T00:00:00\", \"2020-09-23T00:00:00\", \"2020-09-22T00:00:00\", \"2020-09-21T00:00:00\", \"2020-09-18T00:00:00\", \"2020-09-17T00:00:00\", \"2020-09-16T00:00:00\", \"2020-09-15T00:00:00\", \"2020-09-14T00:00:00\", \"2020-09-11T00:00:00\", \"2020-09-10T00:00:00\", \"2020-09-09T00:00:00\", \"2020-09-08T00:00:00\", \"2020-09-04T00:00:00\", \"2020-09-03T00:00:00\", \"2020-09-02T00:00:00\", \"2020-09-01T00:00:00\", \"2020-08-31T00:00:00\", \"2020-08-28T00:00:00\", \"2020-08-27T00:00:00\", \"2020-08-26T00:00:00\", \"2020-08-25T00:00:00\", \"2020-08-25T00:00:00\", \"2020-08-24T00:00:00\", \"2020-08-21T00:00:00\", \"2020-08-20T00:00:00\", \"2020-08-19T00:00:00\", \"2020-08-18T00:00:00\", \"2020-08-17T00:00:00\", \"2020-08-14T00:00:00\", \"2020-08-13T00:00:00\", \"2020-08-12T00:00:00\", \"2020-08-11T00:00:00\", \"2020-08-10T00:00:00\", \"2020-08-07T00:00:00\", \"2020-08-06T00:00:00\", \"2020-08-05T00:00:00\", \"2020-08-04T00:00:00\", \"2020-08-03T00:00:00\", \"2020-07-31T00:00:00\", \"2020-07-30T00:00:00\", \"2020-07-29T00:00:00\", \"2020-07-28T00:00:00\", \"2020-07-27T00:00:00\", \"2020-07-24T00:00:00\", \"2020-07-23T00:00:00\", \"2020-07-22T00:00:00\", \"2020-07-21T00:00:00\", \"2020-07-20T00:00:00\", \"2020-07-17T00:00:00\", \"2020-07-16T00:00:00\", \"2020-07-15T00:00:00\", \"2020-07-14T00:00:00\", \"2020-07-13T00:00:00\", \"2020-07-10T00:00:00\", \"2020-07-09T00:00:00\", \"2020-07-08T00:00:00\"], \"xaxis\": \"x\", \"y\": [4, 4, 4, 5, 6, 5, 4, 4, 7, 6, 5, 6, 5, 4, 4, 5, 5, 5, 5, 5, 5, 5, 8, 9, 9, 7, 9, 10, 8, 8, 8, 1, 2, 4, 3, 4, 6, 5, 6, 8, 8, 10, 13, 8, 6, 7, 8, 7, 5, 7, 14, 16, 5, 6, 6, 6, 6, 8, 9, 7, 7, 8, 6, 15, 11, 9, 9, 10, 7, 6, 10, 12, 13, 12, 10], \"yaxis\": \"y\"}, {\"hovertemplate\": \"Area=Isla Vista<br>Date=%{x}<br>Active Cases=%{y}<extra></extra>\", \"legendgroup\": \"Isla Vista\", \"line\": {\"color\": \"#00cc96\", \"dash\": \"solid\"}, \"mode\": \"lines\", \"name\": \"Isla Vista\", \"orientation\": \"v\", \"showlegend\": true, \"type\": \"scatter\", \"x\": [\"2020-10-20T00:00:00\", \"2020-10-19T00:00:00\", \"2020-10-16T00:00:00\", \"2020-10-15T00:00:00\", \"2020-10-14T00:00:00\", \"2020-10-13T00:00:00\", \"2020-10-12T00:00:00\", \"2020-10-09T00:00:00\", \"2020-10-08T00:00:00\", \"2020-10-07T00:00:00\", \"2020-10-06T00:00:00\", \"2020-10-05T00:00:00\", \"2020-10-02T00:00:00\", \"2020-10-01T00:00:00\", \"2020-09-30T00:00:00\", \"2020-09-29T00:00:00\", \"2020-09-28T00:00:00\", \"2020-09-25T00:00:00\", \"2020-09-24T00:00:00\", \"2020-09-23T00:00:00\", \"2020-09-22T00:00:00\", \"2020-09-21T00:00:00\", \"2020-09-18T00:00:00\", \"2020-09-17T00:00:00\", \"2020-09-16T00:00:00\", \"2020-09-15T00:00:00\", \"2020-09-14T00:00:00\", \"2020-09-11T00:00:00\", \"2020-09-10T00:00:00\", \"2020-09-09T00:00:00\", \"2020-09-08T00:00:00\", \"2020-09-04T00:00:00\", \"2020-09-03T00:00:00\", \"2020-09-02T00:00:00\", \"2020-09-01T00:00:00\", \"2020-08-31T00:00:00\", \"2020-08-28T00:00:00\", \"2020-08-27T00:00:00\", \"2020-08-26T00:00:00\", \"2020-08-25T00:00:00\", \"2020-08-25T00:00:00\", \"2020-08-24T00:00:00\", \"2020-08-21T00:00:00\", \"2020-08-20T00:00:00\", \"2020-08-19T00:00:00\", \"2020-08-18T00:00:00\", \"2020-08-17T00:00:00\", \"2020-08-14T00:00:00\", \"2020-08-13T00:00:00\", \"2020-08-12T00:00:00\", \"2020-08-11T00:00:00\", \"2020-08-10T00:00:00\", \"2020-08-07T00:00:00\", \"2020-08-06T00:00:00\", \"2020-08-05T00:00:00\", \"2020-08-04T00:00:00\", \"2020-08-03T00:00:00\", \"2020-07-31T00:00:00\", \"2020-07-30T00:00:00\", \"2020-07-29T00:00:00\", \"2020-07-28T00:00:00\", \"2020-07-27T00:00:00\", \"2020-07-24T00:00:00\", \"2020-07-23T00:00:00\", \"2020-07-22T00:00:00\", \"2020-07-21T00:00:00\", \"2020-07-20T00:00:00\", \"2020-07-17T00:00:00\", \"2020-07-16T00:00:00\", \"2020-07-15T00:00:00\", \"2020-07-14T00:00:00\", \"2020-07-13T00:00:00\", \"2020-07-10T00:00:00\", \"2020-07-09T00:00:00\", \"2020-07-08T00:00:00\"], \"xaxis\": \"x\", \"y\": [32, 32, 12, 10, 11, 6, 7, 8, 4, 4, 5, 3, 7, 10, 15, 12, 13, 15, 13, 11, 10, 11, 21, 24, 20, 10, 15, 16, 14, 13, 14, 12, 12, 6, 4, 6, 4, 4, 8, 8, 8, 10, 10, 16, 20, 22, 24, 24, 17, 14, 20, 25, 20, 17, 10, 10, 8, 3, 5, 6, 2, 2, 5, 3, 4, 2, 0, 1, 2, 2, 0, 4, 6, 3, 6], \"yaxis\": \"y\"}, {\"hovertemplate\": \"Area=Goleta Valley/Gaviota<br>Date=%{x}<br>Active Cases=%{y}<extra></extra>\", \"legendgroup\": \"Goleta Valley/Gaviota\", \"line\": {\"color\": \"#ab63fa\", \"dash\": \"solid\"}, \"mode\": \"lines\", \"name\": \"Goleta Valley/Gaviota\", \"orientation\": \"v\", \"showlegend\": true, \"type\": \"scatter\", \"x\": [\"2020-10-20T00:00:00\", \"2020-10-19T00:00:00\", \"2020-10-16T00:00:00\", \"2020-10-15T00:00:00\", \"2020-10-14T00:00:00\", \"2020-10-13T00:00:00\", \"2020-10-12T00:00:00\", \"2020-10-09T00:00:00\", \"2020-10-08T00:00:00\", \"2020-10-07T00:00:00\", \"2020-10-06T00:00:00\", \"2020-10-05T00:00:00\", \"2020-10-02T00:00:00\", \"2020-10-01T00:00:00\", \"2020-09-30T00:00:00\", \"2020-09-29T00:00:00\", \"2020-09-28T00:00:00\", \"2020-09-25T00:00:00\", \"2020-09-24T00:00:00\", \"2020-09-23T00:00:00\", \"2020-09-22T00:00:00\", \"2020-09-21T00:00:00\", \"2020-09-18T00:00:00\", \"2020-09-17T00:00:00\", \"2020-09-16T00:00:00\", \"2020-09-15T00:00:00\", \"2020-09-14T00:00:00\", \"2020-09-11T00:00:00\", \"2020-09-10T00:00:00\", \"2020-09-09T00:00:00\", \"2020-09-08T00:00:00\", \"2020-09-04T00:00:00\", \"2020-09-03T00:00:00\", \"2020-09-02T00:00:00\", \"2020-09-01T00:00:00\", \"2020-08-31T00:00:00\", \"2020-08-28T00:00:00\", \"2020-08-27T00:00:00\", \"2020-08-26T00:00:00\", \"2020-08-25T00:00:00\", \"2020-08-25T00:00:00\", \"2020-08-24T00:00:00\", \"2020-08-21T00:00:00\", \"2020-08-20T00:00:00\", \"2020-08-19T00:00:00\", \"2020-08-18T00:00:00\", \"2020-08-17T00:00:00\", \"2020-08-14T00:00:00\", \"2020-08-13T00:00:00\", \"2020-08-12T00:00:00\", \"2020-08-11T00:00:00\", \"2020-08-10T00:00:00\", \"2020-08-07T00:00:00\", \"2020-08-06T00:00:00\", \"2020-08-05T00:00:00\", \"2020-08-04T00:00:00\", \"2020-08-03T00:00:00\", \"2020-07-31T00:00:00\", \"2020-07-30T00:00:00\", \"2020-07-29T00:00:00\", \"2020-07-28T00:00:00\", \"2020-07-27T00:00:00\", \"2020-07-24T00:00:00\", \"2020-07-23T00:00:00\", \"2020-07-22T00:00:00\", \"2020-07-21T00:00:00\", \"2020-07-20T00:00:00\", \"2020-07-17T00:00:00\", \"2020-07-16T00:00:00\", \"2020-07-15T00:00:00\", \"2020-07-14T00:00:00\", \"2020-07-13T00:00:00\", \"2020-07-10T00:00:00\", \"2020-07-09T00:00:00\", \"2020-07-08T00:00:00\"], \"xaxis\": \"x\", \"y\": [3, 3, 5, 5, 5, 5, 3, 4, 2, 2, 2, 2, 3, 3, 3, 3, 2, 4, 4, 3, 3, 7, 8, 10, 11, 8, 8, 7, 7, 6, 3, 18, 18, 22, 22, 25, 13, 9, 8, 5, 5, 8, 11, 11, 12, 10, 4, 6, 5, 8, 9, 7, 1, 1, 2, 2, 2, 5, 6, 6, 5, 5, 6, 7, 13, 12, 6, 5, 7, 8, 7, 6, 7, 6, 11], \"yaxis\": \"y\"}, {\"hovertemplate\": \"Area=Santa Ynez Valley<br>Date=%{x}<br>Active Cases=%{y}<extra></extra>\", \"legendgroup\": \"Santa Ynez Valley\", \"line\": {\"color\": \"#FFA15A\", \"dash\": \"solid\"}, \"mode\": \"lines\", \"name\": \"Santa Ynez Valley\", \"orientation\": \"v\", \"showlegend\": true, \"type\": \"scatter\", \"x\": [\"2020-10-20T00:00:00\", \"2020-10-19T00:00:00\", \"2020-10-16T00:00:00\", \"2020-10-15T00:00:00\", \"2020-10-14T00:00:00\", \"2020-10-13T00:00:00\", \"2020-10-12T00:00:00\", \"2020-10-09T00:00:00\", \"2020-10-08T00:00:00\", \"2020-10-07T00:00:00\", \"2020-10-06T00:00:00\", \"2020-10-05T00:00:00\", \"2020-10-02T00:00:00\", \"2020-10-01T00:00:00\", \"2020-09-30T00:00:00\", \"2020-09-29T00:00:00\", \"2020-09-28T00:00:00\", \"2020-09-25T00:00:00\", \"2020-09-24T00:00:00\", \"2020-09-23T00:00:00\", \"2020-09-22T00:00:00\", \"2020-09-21T00:00:00\", \"2020-09-18T00:00:00\", \"2020-09-17T00:00:00\", \"2020-09-16T00:00:00\", \"2020-09-15T00:00:00\", \"2020-09-14T00:00:00\", \"2020-09-11T00:00:00\", \"2020-09-10T00:00:00\", \"2020-09-09T00:00:00\", \"2020-09-08T00:00:00\", \"2020-09-04T00:00:00\", \"2020-09-03T00:00:00\", \"2020-09-02T00:00:00\", \"2020-09-01T00:00:00\", \"2020-08-31T00:00:00\", \"2020-08-28T00:00:00\", \"2020-08-27T00:00:00\", \"2020-08-26T00:00:00\", \"2020-08-25T00:00:00\", \"2020-08-25T00:00:00\", \"2020-08-24T00:00:00\", \"2020-08-21T00:00:00\", \"2020-08-20T00:00:00\", \"2020-08-19T00:00:00\", \"2020-08-18T00:00:00\", \"2020-08-17T00:00:00\", \"2020-08-14T00:00:00\", \"2020-08-13T00:00:00\", \"2020-08-12T00:00:00\", \"2020-08-11T00:00:00\", \"2020-08-10T00:00:00\", \"2020-08-07T00:00:00\", \"2020-08-06T00:00:00\", \"2020-08-05T00:00:00\", \"2020-08-04T00:00:00\", \"2020-08-03T00:00:00\", \"2020-07-31T00:00:00\", \"2020-07-30T00:00:00\", \"2020-07-29T00:00:00\", \"2020-07-28T00:00:00\", \"2020-07-27T00:00:00\", \"2020-07-24T00:00:00\", \"2020-07-23T00:00:00\", \"2020-07-22T00:00:00\", \"2020-07-21T00:00:00\", \"2020-07-20T00:00:00\", \"2020-07-17T00:00:00\", \"2020-07-16T00:00:00\", \"2020-07-15T00:00:00\", \"2020-07-14T00:00:00\", \"2020-07-13T00:00:00\", \"2020-07-10T00:00:00\", \"2020-07-09T00:00:00\", \"2020-07-08T00:00:00\"], \"xaxis\": \"x\", \"y\": [6, 4, 8, 7, 10, 10, 8, 4, 5, 4, 3, 3, 3, 2, 1, 1, 3, 8, 8, 8, 6, 5, 7, 8, 8, 7, 10, 8, 9, 7, 5, 5, 6, 9, 8, 8, 11, 14, 14, 11, 11, 13, 10, 5, 1, 2, 5, 7, 8, 5, 4, 4, 1, 0, 0, 1, 1, 4, 4, 3, 4, 5, 7, 7, 8, 7, 2, 10, 12, 8, 8, 7, 8, 9, 7], \"yaxis\": \"y\"}, {\"hovertemplate\": \"Area=Lompoc<br>Date=%{x}<br>Active Cases=%{y}<extra></extra>\", \"legendgroup\": \"Lompoc\", \"line\": {\"color\": \"#19d3f3\", \"dash\": \"solid\"}, \"mode\": \"lines\", \"name\": \"Lompoc\", \"orientation\": \"v\", \"showlegend\": true, \"type\": \"scatter\", \"x\": [\"2020-10-20T00:00:00\", \"2020-10-19T00:00:00\", \"2020-10-16T00:00:00\", \"2020-10-15T00:00:00\", \"2020-10-14T00:00:00\", \"2020-10-13T00:00:00\", \"2020-10-12T00:00:00\", \"2020-10-09T00:00:00\", \"2020-10-08T00:00:00\", \"2020-10-07T00:00:00\", \"2020-10-06T00:00:00\", \"2020-10-05T00:00:00\", \"2020-10-02T00:00:00\", \"2020-10-01T00:00:00\", \"2020-09-30T00:00:00\", \"2020-09-29T00:00:00\", \"2020-09-28T00:00:00\", \"2020-09-25T00:00:00\", \"2020-09-24T00:00:00\", \"2020-09-23T00:00:00\", \"2020-09-22T00:00:00\", \"2020-09-21T00:00:00\", \"2020-09-18T00:00:00\", \"2020-09-17T00:00:00\", \"2020-09-16T00:00:00\", \"2020-09-15T00:00:00\", \"2020-09-14T00:00:00\", \"2020-09-11T00:00:00\", \"2020-09-10T00:00:00\", \"2020-09-09T00:00:00\", \"2020-09-08T00:00:00\", \"2020-09-04T00:00:00\", \"2020-09-03T00:00:00\", \"2020-09-02T00:00:00\", \"2020-09-01T00:00:00\", \"2020-08-31T00:00:00\", \"2020-08-28T00:00:00\", \"2020-08-27T00:00:00\", \"2020-08-26T00:00:00\", \"2020-08-25T00:00:00\", \"2020-08-25T00:00:00\", \"2020-08-24T00:00:00\", \"2020-08-21T00:00:00\", \"2020-08-20T00:00:00\", \"2020-08-19T00:00:00\", \"2020-08-18T00:00:00\", \"2020-08-17T00:00:00\", \"2020-08-14T00:00:00\", \"2020-08-13T00:00:00\", \"2020-08-12T00:00:00\", \"2020-08-11T00:00:00\", \"2020-08-10T00:00:00\", \"2020-08-07T00:00:00\", \"2020-08-06T00:00:00\", \"2020-08-05T00:00:00\", \"2020-08-04T00:00:00\", \"2020-08-03T00:00:00\", \"2020-07-31T00:00:00\", \"2020-07-30T00:00:00\", \"2020-07-29T00:00:00\", \"2020-07-28T00:00:00\", \"2020-07-27T00:00:00\", \"2020-07-24T00:00:00\", \"2020-07-23T00:00:00\", \"2020-07-22T00:00:00\", \"2020-07-21T00:00:00\", \"2020-07-20T00:00:00\", \"2020-07-17T00:00:00\", \"2020-07-16T00:00:00\", \"2020-07-15T00:00:00\", \"2020-07-14T00:00:00\", \"2020-07-13T00:00:00\", \"2020-07-10T00:00:00\", \"2020-07-09T00:00:00\", \"2020-07-08T00:00:00\"], \"xaxis\": \"x\", \"y\": [13, 16, 12, 12, 15, 17, 22, 24, 24, 23, 21, 22, 22, 20, 26, 25, 26, 19, 14, 15, 14, 18, 28, 22, 18, 18, 20, 18, 24, 36, 37, 38, 39, 35, 23, 28, 24, 19, 23, 24, 24, 23, 26, 25, 28, 30, 36, 28, 18, 23, 30, 32, 26, 24, 23, 23, 25, 27, 24, 34, 35, 31, 39, 41, 42, 33, 35, 43, 32, 25, 29, 25, 22, 24, 29], \"yaxis\": \"y\"}, {\"hovertemplate\": \"Area=Federal Prison in Lompoc<br>Date=%{x}<br>Active Cases=%{y}<extra></extra>\", \"legendgroup\": \"Federal Prison in Lompoc\", \"line\": {\"color\": \"#FF6692\", \"dash\": \"solid\"}, \"mode\": \"lines\", \"name\": \"Federal Prison in Lompoc\", \"orientation\": \"v\", \"showlegend\": true, \"type\": \"scatter\", \"x\": [\"2020-10-20T00:00:00\", \"2020-10-19T00:00:00\", \"2020-10-16T00:00:00\", \"2020-10-15T00:00:00\", \"2020-10-14T00:00:00\", \"2020-10-13T00:00:00\", \"2020-10-12T00:00:00\", \"2020-10-09T00:00:00\", \"2020-10-08T00:00:00\", \"2020-10-07T00:00:00\", \"2020-10-06T00:00:00\", \"2020-10-05T00:00:00\", \"2020-10-02T00:00:00\", \"2020-10-01T00:00:00\", \"2020-09-30T00:00:00\", \"2020-09-29T00:00:00\", \"2020-09-28T00:00:00\", \"2020-09-25T00:00:00\", \"2020-09-24T00:00:00\", \"2020-09-23T00:00:00\", \"2020-09-22T00:00:00\", \"2020-09-21T00:00:00\", \"2020-09-18T00:00:00\", \"2020-09-17T00:00:00\", \"2020-09-16T00:00:00\", \"2020-09-15T00:00:00\", \"2020-09-14T00:00:00\", \"2020-09-11T00:00:00\", \"2020-09-10T00:00:00\", \"2020-09-09T00:00:00\", \"2020-09-08T00:00:00\", \"2020-09-04T00:00:00\", \"2020-09-03T00:00:00\", \"2020-09-02T00:00:00\", \"2020-09-01T00:00:00\", \"2020-08-31T00:00:00\", \"2020-08-28T00:00:00\", \"2020-08-27T00:00:00\", \"2020-08-26T00:00:00\", \"2020-08-25T00:00:00\", \"2020-08-25T00:00:00\", \"2020-08-24T00:00:00\", \"2020-08-21T00:00:00\", \"2020-08-20T00:00:00\", \"2020-08-19T00:00:00\", \"2020-08-18T00:00:00\", \"2020-08-17T00:00:00\", \"2020-08-14T00:00:00\", \"2020-08-13T00:00:00\", \"2020-08-12T00:00:00\", \"2020-08-11T00:00:00\", \"2020-08-10T00:00:00\", \"2020-08-07T00:00:00\", \"2020-08-06T00:00:00\", \"2020-08-05T00:00:00\", \"2020-08-04T00:00:00\", \"2020-08-03T00:00:00\", \"2020-07-31T00:00:00\", \"2020-07-30T00:00:00\", \"2020-07-29T00:00:00\", \"2020-07-28T00:00:00\", \"2020-07-27T00:00:00\", \"2020-07-24T00:00:00\", \"2020-07-23T00:00:00\", \"2020-07-22T00:00:00\", \"2020-07-21T00:00:00\", \"2020-07-20T00:00:00\", \"2020-07-17T00:00:00\", \"2020-07-16T00:00:00\", \"2020-07-15T00:00:00\", \"2020-07-14T00:00:00\", \"2020-07-13T00:00:00\", \"2020-07-10T00:00:00\", \"2020-07-09T00:00:00\", \"2020-07-08T00:00:00\"], \"xaxis\": \"x\", \"y\": [0, 0, 1, 1, 1, 1, 0, 1, 1, 1, 1, 0, 0, 0, 0, 0, 0, 0, 0, 0, 0, 0, 2, 0, 0, 0, 0, 1, 1, 1, 0, 2, 3, 3, 3, 0, 0, 0, 0, 0, 0, 0, 0, 0, 0, 0, 0, 0, 0, 0, 0, 0, 0, 0, 0, 0, 0, 0, 0, 0, 0, 0, 7, 5, 8, 5, 7, 7, 3, 0, 1, 1, 1, 1, 0], \"yaxis\": \"y\"}, {\"hovertemplate\": \"Area=Santa Maria<br>Date=%{x}<br>Active Cases=%{y}<extra></extra>\", \"legendgroup\": \"Santa Maria\", \"line\": {\"color\": \"#B6E880\", \"dash\": \"solid\"}, \"mode\": \"lines\", \"name\": \"Santa Maria\", \"orientation\": \"v\", \"showlegend\": true, \"type\": \"scatter\", \"x\": [\"2020-10-20T00:00:00\", \"2020-10-19T00:00:00\", \"2020-10-16T00:00:00\", \"2020-10-15T00:00:00\", \"2020-10-14T00:00:00\", \"2020-10-13T00:00:00\", \"2020-10-12T00:00:00\", \"2020-10-09T00:00:00\", \"2020-10-08T00:00:00\", \"2020-10-07T00:00:00\", \"2020-10-06T00:00:00\", \"2020-10-05T00:00:00\", \"2020-10-02T00:00:00\", \"2020-10-01T00:00:00\", \"2020-09-30T00:00:00\", \"2020-09-29T00:00:00\", \"2020-09-28T00:00:00\", \"2020-09-25T00:00:00\", \"2020-09-24T00:00:00\", \"2020-09-23T00:00:00\", \"2020-09-22T00:00:00\", \"2020-09-21T00:00:00\", \"2020-09-18T00:00:00\", \"2020-09-17T00:00:00\", \"2020-09-16T00:00:00\", \"2020-09-15T00:00:00\", \"2020-09-14T00:00:00\", \"2020-09-11T00:00:00\", \"2020-09-10T00:00:00\", \"2020-09-09T00:00:00\", \"2020-09-08T00:00:00\", \"2020-09-04T00:00:00\", \"2020-09-03T00:00:00\", \"2020-09-02T00:00:00\", \"2020-09-01T00:00:00\", \"2020-08-31T00:00:00\", \"2020-08-28T00:00:00\", \"2020-08-27T00:00:00\", \"2020-08-26T00:00:00\", \"2020-08-25T00:00:00\", \"2020-08-25T00:00:00\", \"2020-08-24T00:00:00\", \"2020-08-21T00:00:00\", \"2020-08-20T00:00:00\", \"2020-08-19T00:00:00\", \"2020-08-18T00:00:00\", \"2020-08-17T00:00:00\", \"2020-08-14T00:00:00\", \"2020-08-13T00:00:00\", \"2020-08-12T00:00:00\", \"2020-08-11T00:00:00\", \"2020-08-10T00:00:00\", \"2020-08-07T00:00:00\", \"2020-08-06T00:00:00\", \"2020-08-05T00:00:00\", \"2020-08-04T00:00:00\", \"2020-08-03T00:00:00\", \"2020-07-31T00:00:00\", \"2020-07-30T00:00:00\", \"2020-07-29T00:00:00\", \"2020-07-28T00:00:00\", \"2020-07-27T00:00:00\", \"2020-07-24T00:00:00\", \"2020-07-23T00:00:00\", \"2020-07-22T00:00:00\", \"2020-07-21T00:00:00\", \"2020-07-20T00:00:00\", \"2020-07-17T00:00:00\", \"2020-07-16T00:00:00\", \"2020-07-15T00:00:00\", \"2020-07-14T00:00:00\", \"2020-07-13T00:00:00\", \"2020-07-10T00:00:00\", \"2020-07-09T00:00:00\", \"2020-07-08T00:00:00\"], \"xaxis\": \"x\", \"y\": [30, 27, 39, 42, 45, 45, 44, 49, 48, 54, 52, 56, 75, 70, 73, 63, 61, 54, 48, 52, 56, 56, 52, 46, 53, 44, 40, 51, 63, 77, 70, 78, 68, 79, 81, 85, 103, 94, 92, 93, 93, 87, 83, 69, 79, 91, 108, 121, 86, 106, 123, 116, 73, 78, 97, 98, 118, 97, 117, 158, 167, 164, 183, 168, 167, 136, 123, 220, 227, 193, 220, 167, 172, 189, 226], \"yaxis\": \"y\"}, {\"hovertemplate\": \"Area=Orcutt<br>Date=%{x}<br>Active Cases=%{y}<extra></extra>\", \"legendgroup\": \"Orcutt\", \"line\": {\"color\": \"#FF97FF\", \"dash\": \"solid\"}, \"mode\": \"lines\", \"name\": \"Orcutt\", \"orientation\": \"v\", \"showlegend\": true, \"type\": \"scatter\", \"x\": [\"2020-10-20T00:00:00\", \"2020-10-19T00:00:00\", \"2020-10-16T00:00:00\", \"2020-10-15T00:00:00\", \"2020-10-14T00:00:00\", \"2020-10-13T00:00:00\", \"2020-10-12T00:00:00\", \"2020-10-09T00:00:00\", \"2020-10-08T00:00:00\", \"2020-10-07T00:00:00\", \"2020-10-06T00:00:00\", \"2020-10-05T00:00:00\", \"2020-10-02T00:00:00\", \"2020-10-01T00:00:00\", \"2020-09-30T00:00:00\", \"2020-09-29T00:00:00\", \"2020-09-28T00:00:00\", \"2020-09-25T00:00:00\", \"2020-09-24T00:00:00\", \"2020-09-23T00:00:00\", \"2020-09-22T00:00:00\", \"2020-09-21T00:00:00\", \"2020-09-18T00:00:00\", \"2020-09-17T00:00:00\", \"2020-09-16T00:00:00\", \"2020-09-15T00:00:00\", \"2020-09-14T00:00:00\", \"2020-09-11T00:00:00\", \"2020-09-10T00:00:00\", \"2020-09-09T00:00:00\", \"2020-09-08T00:00:00\", \"2020-09-04T00:00:00\", \"2020-09-03T00:00:00\", \"2020-09-02T00:00:00\", \"2020-09-01T00:00:00\", \"2020-08-31T00:00:00\", \"2020-08-28T00:00:00\", \"2020-08-27T00:00:00\", \"2020-08-26T00:00:00\", \"2020-08-25T00:00:00\", \"2020-08-25T00:00:00\", \"2020-08-24T00:00:00\", \"2020-08-21T00:00:00\", \"2020-08-20T00:00:00\", \"2020-08-19T00:00:00\", \"2020-08-18T00:00:00\", \"2020-08-17T00:00:00\", \"2020-08-14T00:00:00\", \"2020-08-13T00:00:00\", \"2020-08-12T00:00:00\", \"2020-08-11T00:00:00\", \"2020-08-10T00:00:00\", \"2020-08-07T00:00:00\", \"2020-08-06T00:00:00\", \"2020-08-05T00:00:00\", \"2020-08-04T00:00:00\", \"2020-08-03T00:00:00\", \"2020-07-31T00:00:00\", \"2020-07-30T00:00:00\", \"2020-07-29T00:00:00\", \"2020-07-28T00:00:00\", \"2020-07-27T00:00:00\", \"2020-07-24T00:00:00\", \"2020-07-23T00:00:00\", \"2020-07-22T00:00:00\", \"2020-07-21T00:00:00\", \"2020-07-20T00:00:00\", \"2020-07-17T00:00:00\", \"2020-07-16T00:00:00\", \"2020-07-15T00:00:00\", \"2020-07-14T00:00:00\", \"2020-07-13T00:00:00\", \"2020-07-10T00:00:00\", \"2020-07-09T00:00:00\", \"2020-07-08T00:00:00\"], \"xaxis\": \"x\", \"y\": [3, 9, 4, 4, 8, 9, 8, 10, 10, 5, 5, 5, 9, 12, 12, 13, 14, 12, 9, 10, 8, 8, 8, 9, 12, 8, 6, 9, 10, 10, 9, 4, 6, 8, 7, 8, 7, 5, 6, 7, 7, 6, 11, 9, 8, 6, 6, 6, 7, 10, 14, 11, 3, 5, 4, 4, 6, 7, 10, 11, 12, 7, 10, 11, 12, 12, 10, 11, 14, 10, 12, 14, 10, 15, 17], \"yaxis\": \"y\"}],                        {\"hovermode\": \"closest\", \"legend\": {\"font\": {\"color\": \"white\", \"family\": \"Courier\", \"size\": 12}, \"orientation\": \"h\", \"title\": {\"text\": \"Area\"}, \"tracegroupgap\": 0, \"x\": 0, \"xanchor\": \"left\", \"y\": 1.02, \"yanchor\": \"bottom\"}, \"template\": {\"data\": {\"bar\": [{\"error_x\": {\"color\": \"#f2f5fa\"}, \"error_y\": {\"color\": \"#f2f5fa\"}, \"marker\": {\"line\": {\"color\": \"rgb(17,17,17)\", \"width\": 0.5}}, \"type\": \"bar\"}], \"barpolar\": [{\"marker\": {\"line\": {\"color\": \"rgb(17,17,17)\", \"width\": 0.5}}, \"type\": \"barpolar\"}], \"carpet\": [{\"aaxis\": {\"endlinecolor\": \"#A2B1C6\", \"gridcolor\": \"#506784\", \"linecolor\": \"#506784\", \"minorgridcolor\": \"#506784\", \"startlinecolor\": \"#A2B1C6\"}, \"baxis\": {\"endlinecolor\": \"#A2B1C6\", \"gridcolor\": \"#506784\", \"linecolor\": \"#506784\", \"minorgridcolor\": \"#506784\", \"startlinecolor\": \"#A2B1C6\"}, \"type\": \"carpet\"}], \"choropleth\": [{\"colorbar\": {\"outlinewidth\": 0, \"ticks\": \"\"}, \"type\": \"choropleth\"}], \"contour\": [{\"colorbar\": {\"outlinewidth\": 0, \"ticks\": \"\"}, \"colorscale\": [[0.0, \"#0d0887\"], [0.1111111111111111, \"#46039f\"], [0.2222222222222222, \"#7201a8\"], [0.3333333333333333, \"#9c179e\"], [0.4444444444444444, \"#bd3786\"], [0.5555555555555556, \"#d8576b\"], [0.6666666666666666, \"#ed7953\"], [0.7777777777777778, \"#fb9f3a\"], [0.8888888888888888, \"#fdca26\"], [1.0, \"#f0f921\"]], \"type\": \"contour\"}], \"contourcarpet\": [{\"colorbar\": {\"outlinewidth\": 0, \"ticks\": \"\"}, \"type\": \"contourcarpet\"}], \"heatmap\": [{\"colorbar\": {\"outlinewidth\": 0, \"ticks\": \"\"}, \"colorscale\": [[0.0, \"#0d0887\"], [0.1111111111111111, \"#46039f\"], [0.2222222222222222, \"#7201a8\"], [0.3333333333333333, \"#9c179e\"], [0.4444444444444444, \"#bd3786\"], [0.5555555555555556, \"#d8576b\"], [0.6666666666666666, \"#ed7953\"], [0.7777777777777778, \"#fb9f3a\"], [0.8888888888888888, \"#fdca26\"], [1.0, \"#f0f921\"]], \"type\": \"heatmap\"}], \"heatmapgl\": [{\"colorbar\": {\"outlinewidth\": 0, \"ticks\": \"\"}, \"colorscale\": [[0.0, \"#0d0887\"], [0.1111111111111111, \"#46039f\"], [0.2222222222222222, \"#7201a8\"], [0.3333333333333333, \"#9c179e\"], [0.4444444444444444, \"#bd3786\"], [0.5555555555555556, \"#d8576b\"], [0.6666666666666666, \"#ed7953\"], [0.7777777777777778, \"#fb9f3a\"], [0.8888888888888888, \"#fdca26\"], [1.0, \"#f0f921\"]], \"type\": \"heatmapgl\"}], \"histogram\": [{\"marker\": {\"colorbar\": {\"outlinewidth\": 0, \"ticks\": \"\"}}, \"type\": \"histogram\"}], \"histogram2d\": [{\"colorbar\": {\"outlinewidth\": 0, \"ticks\": \"\"}, \"colorscale\": [[0.0, \"#0d0887\"], [0.1111111111111111, \"#46039f\"], [0.2222222222222222, \"#7201a8\"], [0.3333333333333333, \"#9c179e\"], [0.4444444444444444, \"#bd3786\"], [0.5555555555555556, \"#d8576b\"], [0.6666666666666666, \"#ed7953\"], [0.7777777777777778, \"#fb9f3a\"], [0.8888888888888888, \"#fdca26\"], [1.0, \"#f0f921\"]], \"type\": \"histogram2d\"}], \"histogram2dcontour\": [{\"colorbar\": {\"outlinewidth\": 0, \"ticks\": \"\"}, \"colorscale\": [[0.0, \"#0d0887\"], [0.1111111111111111, \"#46039f\"], [0.2222222222222222, \"#7201a8\"], [0.3333333333333333, \"#9c179e\"], [0.4444444444444444, \"#bd3786\"], [0.5555555555555556, \"#d8576b\"], [0.6666666666666666, \"#ed7953\"], [0.7777777777777778, \"#fb9f3a\"], [0.8888888888888888, \"#fdca26\"], [1.0, \"#f0f921\"]], \"type\": \"histogram2dcontour\"}], \"mesh3d\": [{\"colorbar\": {\"outlinewidth\": 0, \"ticks\": \"\"}, \"type\": \"mesh3d\"}], \"parcoords\": [{\"line\": {\"colorbar\": {\"outlinewidth\": 0, \"ticks\": \"\"}}, \"type\": \"parcoords\"}], \"pie\": [{\"automargin\": true, \"type\": \"pie\"}], \"scatter\": [{\"marker\": {\"line\": {\"color\": \"#283442\"}}, \"type\": \"scatter\"}], \"scatter3d\": [{\"line\": {\"colorbar\": {\"outlinewidth\": 0, \"ticks\": \"\"}}, \"marker\": {\"colorbar\": {\"outlinewidth\": 0, \"ticks\": \"\"}}, \"type\": \"scatter3d\"}], \"scattercarpet\": [{\"marker\": {\"colorbar\": {\"outlinewidth\": 0, \"ticks\": \"\"}}, \"type\": \"scattercarpet\"}], \"scattergeo\": [{\"marker\": {\"colorbar\": {\"outlinewidth\": 0, \"ticks\": \"\"}}, \"type\": \"scattergeo\"}], \"scattergl\": [{\"marker\": {\"line\": {\"color\": \"#283442\"}}, \"type\": \"scattergl\"}], \"scattermapbox\": [{\"marker\": {\"colorbar\": {\"outlinewidth\": 0, \"ticks\": \"\"}}, \"type\": \"scattermapbox\"}], \"scatterpolar\": [{\"marker\": {\"colorbar\": {\"outlinewidth\": 0, \"ticks\": \"\"}}, \"type\": \"scatterpolar\"}], \"scatterpolargl\": [{\"marker\": {\"colorbar\": {\"outlinewidth\": 0, \"ticks\": \"\"}}, \"type\": \"scatterpolargl\"}], \"scatterternary\": [{\"marker\": {\"colorbar\": {\"outlinewidth\": 0, \"ticks\": \"\"}}, \"type\": \"scatterternary\"}], \"surface\": [{\"colorbar\": {\"outlinewidth\": 0, \"ticks\": \"\"}, \"colorscale\": [[0.0, \"#0d0887\"], [0.1111111111111111, \"#46039f\"], [0.2222222222222222, \"#7201a8\"], [0.3333333333333333, \"#9c179e\"], [0.4444444444444444, \"#bd3786\"], [0.5555555555555556, \"#d8576b\"], [0.6666666666666666, \"#ed7953\"], [0.7777777777777778, \"#fb9f3a\"], [0.8888888888888888, \"#fdca26\"], [1.0, \"#f0f921\"]], \"type\": \"surface\"}], \"table\": [{\"cells\": {\"fill\": {\"color\": \"#506784\"}, \"line\": {\"color\": \"rgb(17,17,17)\"}}, \"header\": {\"fill\": {\"color\": \"#2a3f5f\"}, \"line\": {\"color\": \"rgb(17,17,17)\"}}, \"type\": \"table\"}]}, \"layout\": {\"annotationdefaults\": {\"arrowcolor\": \"#f2f5fa\", \"arrowhead\": 0, \"arrowwidth\": 1}, \"coloraxis\": {\"colorbar\": {\"outlinewidth\": 0, \"ticks\": \"\"}}, \"colorscale\": {\"diverging\": [[0, \"#8e0152\"], [0.1, \"#c51b7d\"], [0.2, \"#de77ae\"], [0.3, \"#f1b6da\"], [0.4, \"#fde0ef\"], [0.5, \"#f7f7f7\"], [0.6, \"#e6f5d0\"], [0.7, \"#b8e186\"], [0.8, \"#7fbc41\"], [0.9, \"#4d9221\"], [1, \"#276419\"]], \"sequential\": [[0.0, \"#0d0887\"], [0.1111111111111111, \"#46039f\"], [0.2222222222222222, \"#7201a8\"], [0.3333333333333333, \"#9c179e\"], [0.4444444444444444, \"#bd3786\"], [0.5555555555555556, \"#d8576b\"], [0.6666666666666666, \"#ed7953\"], [0.7777777777777778, \"#fb9f3a\"], [0.8888888888888888, \"#fdca26\"], [1.0, \"#f0f921\"]], \"sequentialminus\": [[0.0, \"#0d0887\"], [0.1111111111111111, \"#46039f\"], [0.2222222222222222, \"#7201a8\"], [0.3333333333333333, \"#9c179e\"], [0.4444444444444444, \"#bd3786\"], [0.5555555555555556, \"#d8576b\"], [0.6666666666666666, \"#ed7953\"], [0.7777777777777778, \"#fb9f3a\"], [0.8888888888888888, \"#fdca26\"], [1.0, \"#f0f921\"]]}, \"colorway\": [\"#636efa\", \"#EF553B\", \"#00cc96\", \"#ab63fa\", \"#FFA15A\", \"#19d3f3\", \"#FF6692\", \"#B6E880\", \"#FF97FF\", \"#FECB52\"], \"font\": {\"color\": \"#f2f5fa\"}, \"geo\": {\"bgcolor\": \"rgb(17,17,17)\", \"lakecolor\": \"rgb(17,17,17)\", \"landcolor\": \"rgb(17,17,17)\", \"showlakes\": true, \"showland\": true, \"subunitcolor\": \"#506784\"}, \"hoverlabel\": {\"align\": \"left\"}, \"hovermode\": \"closest\", \"mapbox\": {\"style\": \"dark\"}, \"paper_bgcolor\": \"rgb(17,17,17)\", \"plot_bgcolor\": \"rgb(17,17,17)\", \"polar\": {\"angularaxis\": {\"gridcolor\": \"#506784\", \"linecolor\": \"#506784\", \"ticks\": \"\"}, \"bgcolor\": \"rgb(17,17,17)\", \"radialaxis\": {\"gridcolor\": \"#506784\", \"linecolor\": \"#506784\", \"ticks\": \"\"}}, \"scene\": {\"xaxis\": {\"backgroundcolor\": \"rgb(17,17,17)\", \"gridcolor\": \"#506784\", \"gridwidth\": 2, \"linecolor\": \"#506784\", \"showbackground\": true, \"ticks\": \"\", \"zerolinecolor\": \"#C8D4E3\"}, \"yaxis\": {\"backgroundcolor\": \"rgb(17,17,17)\", \"gridcolor\": \"#506784\", \"gridwidth\": 2, \"linecolor\": \"#506784\", \"showbackground\": true, \"ticks\": \"\", \"zerolinecolor\": \"#C8D4E3\"}, \"zaxis\": {\"backgroundcolor\": \"rgb(17,17,17)\", \"gridcolor\": \"#506784\", \"gridwidth\": 2, \"linecolor\": \"#506784\", \"showbackground\": true, \"ticks\": \"\", \"zerolinecolor\": \"#C8D4E3\"}}, \"shapedefaults\": {\"line\": {\"color\": \"#f2f5fa\"}}, \"sliderdefaults\": {\"bgcolor\": \"#C8D4E3\", \"bordercolor\": \"rgb(17,17,17)\", \"borderwidth\": 1, \"tickwidth\": 0}, \"ternary\": {\"aaxis\": {\"gridcolor\": \"#506784\", \"linecolor\": \"#506784\", \"ticks\": \"\"}, \"baxis\": {\"gridcolor\": \"#506784\", \"linecolor\": \"#506784\", \"ticks\": \"\"}, \"bgcolor\": \"rgb(17,17,17)\", \"caxis\": {\"gridcolor\": \"#506784\", \"linecolor\": \"#506784\", \"ticks\": \"\"}}, \"title\": {\"x\": 0.05}, \"updatemenudefaults\": {\"bgcolor\": \"#506784\", \"borderwidth\": 0}, \"xaxis\": {\"automargin\": true, \"gridcolor\": \"#283442\", \"linecolor\": \"#506784\", \"ticks\": \"\", \"title\": {\"standoff\": 15}, \"zerolinecolor\": \"#283442\", \"zerolinewidth\": 2}, \"yaxis\": {\"automargin\": true, \"gridcolor\": \"#283442\", \"linecolor\": \"#506784\", \"ticks\": \"\", \"title\": {\"standoff\": 15}, \"zerolinecolor\": \"#283442\", \"zerolinewidth\": 2}}}, \"title\": {\"font\": {\"color\": \"white\", \"family\": \"Courier\", \"size\": 24}, \"text\": \"Active Cases by Region\"}, \"xaxis\": {\"anchor\": \"y\", \"domain\": [0.0, 1.0], \"title\": {\"text\": \"Date\"}}, \"yaxis\": {\"anchor\": \"x\", \"domain\": [0.0, 1.0], \"title\": {\"text\": \"Active Cases\"}}},                        {\"responsive\": true}                    ).then(function(){\n",
              "                            \n",
              "var gd = document.getElementById('80128ef0-2546-4125-9d6a-3938ad86893e');\n",
              "var x = new MutationObserver(function (mutations, observer) {{\n",
              "        var display = window.getComputedStyle(gd).display;\n",
              "        if (!display || display === 'none') {{\n",
              "            console.log([gd, 'removed!']);\n",
              "            Plotly.purge(gd);\n",
              "            observer.disconnect();\n",
              "        }}\n",
              "}});\n",
              "\n",
              "// Listen for the removal of the full notebook cells\n",
              "var notebookContainer = gd.closest('#notebook-container');\n",
              "if (notebookContainer) {{\n",
              "    x.observe(notebookContainer, {childList: true});\n",
              "}}\n",
              "\n",
              "// Listen for the clearing of the current output cell\n",
              "var outputEl = gd.closest('.output');\n",
              "if (outputEl) {{\n",
              "    x.observe(outputEl, {childList: true});\n",
              "}}\n",
              "\n",
              "                        })                };                            </script>        </div>\n",
              "</body>\n",
              "</html>"
            ]
          },
          "metadata": {
            "tags": []
          }
        }
      ]
    },
    {
      "cell_type": "code",
      "metadata": {
        "id": "OKbUdiXDitVD"
      },
      "source": [
        "#turning this into function so it can be used for any of the columns in the area_viz dataframe\n",
        "def create_line_plot(column_name):\n",
        "  fig = px.line(area_viz,\n",
        "              x = 'Date',\n",
        "              y = column_name,\n",
        "              title = column_name + ' by Region',\n",
        "              template = 'plotly_dark',\n",
        "              color = 'Area')\n",
        "  \n",
        "  fig.update_layout(\n",
        "      hovermode = 'closest',\n",
        "      title_font_size = 24,\n",
        "      font_family = 'Courier',    #setting font style and color globally, could also set locally by using a font dictionary for the legend or title_font_family/color for title\n",
        "      font_color = 'white',\n",
        "      legend = dict(\n",
        "          orientation='h',\n",
        "          yanchor='bottom',\n",
        "          y=1.02,\n",
        "          xanchor='left',\n",
        "          x=0\n",
        "          )\n",
        "  )\n",
        "                  \n",
        "  fig.show()"
      ],
      "execution_count": 167,
      "outputs": []
    },
    {
      "cell_type": "code",
      "metadata": {
        "id": "CzZeUGzHNooA",
        "outputId": "6e293fd8-f45b-4766-fd24-a070f4080d36",
        "colab": {
          "base_uri": "https://localhost:8080/",
          "height": 136
        }
      },
      "source": [
        "area_viz.columns.to_list()"
      ],
      "execution_count": 80,
      "outputs": [
        {
          "output_type": "execute_result",
          "data": {
            "text/plain": [
              "['New Cases',\n",
              " 'Total Confirmed Cases',\n",
              " 'Recovered',\n",
              " 'Active Cases',\n",
              " 'Number of Deaths',\n",
              " 'Date',\n",
              " 'Area']"
            ]
          },
          "metadata": {
            "tags": []
          },
          "execution_count": 80
        }
      ]
    },
    {
      "cell_type": "code",
      "metadata": {
        "id": "gnN3FJ3FNv75",
        "outputId": "59c60eab-a083-4834-c8f1-89c5c4cd1be4",
        "colab": {
          "base_uri": "https://localhost:8080/",
          "height": 542
        }
      },
      "source": [
        "create_line_plot('New Cases')"
      ],
      "execution_count": 81,
      "outputs": [
        {
          "output_type": "display_data",
          "data": {
            "text/html": [
              "<html>\n",
              "<head><meta charset=\"utf-8\" /></head>\n",
              "<body>\n",
              "    <div>            <script src=\"https://cdnjs.cloudflare.com/ajax/libs/mathjax/2.7.5/MathJax.js?config=TeX-AMS-MML_SVG\"></script><script type=\"text/javascript\">if (window.MathJax) {MathJax.Hub.Config({SVG: {font: \"STIX-Web\"}});}</script>                <script type=\"text/javascript\">window.PlotlyConfig = {MathJaxConfig: 'local'};</script>\n",
              "        <script src=\"https://cdn.plot.ly/plotly-latest.min.js\"></script>                <div id=\"e38e720d-4a0b-4f47-9156-06ada9f23006\" class=\"plotly-graph-div\" style=\"height:525px; width:100%;\"></div>            <script type=\"text/javascript\">                                    window.PLOTLYENV=window.PLOTLYENV || {};                                    if (document.getElementById(\"e38e720d-4a0b-4f47-9156-06ada9f23006\")) {                    Plotly.newPlot(                        \"e38e720d-4a0b-4f47-9156-06ada9f23006\",                        [{\"hovertemplate\": \"Area=Santa Barbara<br>Date=%{x}<br>New Cases=%{y}<extra></extra>\", \"legendgroup\": \"Santa Barbara\", \"line\": {\"color\": \"#636efa\", \"dash\": \"solid\"}, \"mode\": \"lines\", \"name\": \"Santa Barbara\", \"orientation\": \"v\", \"showlegend\": true, \"type\": \"scatter\", \"x\": [\"2020-10-20T00:00:00\", \"2020-10-19T00:00:00\", \"2020-10-16T00:00:00\", \"2020-10-15T00:00:00\", \"2020-10-14T00:00:00\", \"2020-10-13T00:00:00\", \"2020-10-12T00:00:00\", \"2020-10-09T00:00:00\", \"2020-10-08T00:00:00\", \"2020-10-07T00:00:00\", \"2020-10-06T00:00:00\", \"2020-10-05T00:00:00\", \"2020-10-02T00:00:00\", \"2020-10-01T00:00:00\", \"2020-09-30T00:00:00\", \"2020-09-29T00:00:00\", \"2020-09-28T00:00:00\", \"2020-09-25T00:00:00\", \"2020-09-24T00:00:00\", \"2020-09-23T00:00:00\", \"2020-09-22T00:00:00\", \"2020-09-21T00:00:00\", \"2020-09-18T00:00:00\", \"2020-09-17T00:00:00\", \"2020-09-16T00:00:00\", \"2020-09-15T00:00:00\", \"2020-09-14T00:00:00\", \"2020-09-11T00:00:00\", \"2020-09-10T00:00:00\", \"2020-09-09T00:00:00\", \"2020-09-08T00:00:00\", \"2020-09-04T00:00:00\", \"2020-09-03T00:00:00\", \"2020-09-02T00:00:00\", \"2020-09-01T00:00:00\", \"2020-08-31T00:00:00\", \"2020-08-28T00:00:00\", \"2020-08-27T00:00:00\", \"2020-08-26T00:00:00\", \"2020-08-25T00:00:00\", \"2020-08-25T00:00:00\", \"2020-08-24T00:00:00\", \"2020-08-21T00:00:00\", \"2020-08-20T00:00:00\", \"2020-08-19T00:00:00\", \"2020-08-18T00:00:00\", \"2020-08-17T00:00:00\", \"2020-08-14T00:00:00\", \"2020-08-13T00:00:00\", \"2020-08-12T00:00:00\", \"2020-08-11T00:00:00\", \"2020-08-10T00:00:00\", \"2020-08-07T00:00:00\", \"2020-08-06T00:00:00\", \"2020-08-05T00:00:00\", \"2020-08-04T00:00:00\", \"2020-08-03T00:00:00\", \"2020-07-31T00:00:00\", \"2020-07-30T00:00:00\", \"2020-07-29T00:00:00\", \"2020-07-28T00:00:00\", \"2020-07-27T00:00:00\", \"2020-07-24T00:00:00\", \"2020-07-23T00:00:00\", \"2020-07-22T00:00:00\", \"2020-07-21T00:00:00\", \"2020-07-20T00:00:00\", \"2020-07-17T00:00:00\", \"2020-07-16T00:00:00\", \"2020-07-15T00:00:00\", \"2020-07-14T00:00:00\", \"2020-07-13T00:00:00\", \"2020-07-10T00:00:00\", \"2020-07-09T00:00:00\", \"2020-07-08T00:00:00\"], \"xaxis\": \"x\", \"y\": [2.0, 2.0, 2.0, 1.0, 1.0, 6.0, 3.0, 0.0, 2.0, 3.0, 1.0, 1.0, 1.0, 2.0, 0.0, 3.0, 0.0, 1.0, 5.0, 1.0, 2.0, 6.0, 6.0, 4.0, 2.0, 2.0, 2.0, 12.0, 4.0, 5.0, 1.0, 3.0, 8.0, 16.0, 1.0, 6.0, 5.0, 3.0, 13.0, 7.0, 7.0, 12.0, 12.0, 13.0, 4.0, 6.0, 7.0, 13.0, 14.0, 2.0, 13.0, 30.0, 5.0, 6.0, 17.0, 29.0, 4.0, 5.0, 9.0, 20.0, 22.0, 5.0, 12.0, 11.0, 32.0, 19.0, 11.0, 19.0, 44.0, 10.0, 15.0, 4.0, 18.0, 13.0, 11.0], \"yaxis\": \"y\"}, {\"hovertemplate\": \"Area=Goleta<br>Date=%{x}<br>New Cases=%{y}<extra></extra>\", \"legendgroup\": \"Goleta\", \"line\": {\"color\": \"#EF553B\", \"dash\": \"solid\"}, \"mode\": \"lines\", \"name\": \"Goleta\", \"orientation\": \"v\", \"showlegend\": true, \"type\": \"scatter\", \"x\": [\"2020-10-20T00:00:00\", \"2020-10-19T00:00:00\", \"2020-10-16T00:00:00\", \"2020-10-15T00:00:00\", \"2020-10-14T00:00:00\", \"2020-10-13T00:00:00\", \"2020-10-12T00:00:00\", \"2020-10-09T00:00:00\", \"2020-10-08T00:00:00\", \"2020-10-07T00:00:00\", \"2020-10-06T00:00:00\", \"2020-10-05T00:00:00\", \"2020-10-02T00:00:00\", \"2020-10-01T00:00:00\", \"2020-09-30T00:00:00\", \"2020-09-29T00:00:00\", \"2020-09-28T00:00:00\", \"2020-09-25T00:00:00\", \"2020-09-24T00:00:00\", \"2020-09-23T00:00:00\", \"2020-09-22T00:00:00\", \"2020-09-21T00:00:00\", \"2020-09-18T00:00:00\", \"2020-09-17T00:00:00\", \"2020-09-16T00:00:00\", \"2020-09-15T00:00:00\", \"2020-09-14T00:00:00\", \"2020-09-11T00:00:00\", \"2020-09-10T00:00:00\", \"2020-09-09T00:00:00\", \"2020-09-08T00:00:00\", \"2020-09-04T00:00:00\", \"2020-09-03T00:00:00\", \"2020-09-02T00:00:00\", \"2020-09-01T00:00:00\", \"2020-08-31T00:00:00\", \"2020-08-28T00:00:00\", \"2020-08-27T00:00:00\", \"2020-08-26T00:00:00\", \"2020-08-25T00:00:00\", \"2020-08-25T00:00:00\", \"2020-08-24T00:00:00\", \"2020-08-21T00:00:00\", \"2020-08-20T00:00:00\", \"2020-08-19T00:00:00\", \"2020-08-18T00:00:00\", \"2020-08-17T00:00:00\", \"2020-08-14T00:00:00\", \"2020-08-13T00:00:00\", \"2020-08-12T00:00:00\", \"2020-08-11T00:00:00\", \"2020-08-10T00:00:00\", \"2020-08-07T00:00:00\", \"2020-08-06T00:00:00\", \"2020-08-05T00:00:00\", \"2020-08-04T00:00:00\", \"2020-08-03T00:00:00\", \"2020-07-31T00:00:00\", \"2020-07-30T00:00:00\", \"2020-07-29T00:00:00\", \"2020-07-28T00:00:00\", \"2020-07-27T00:00:00\", \"2020-07-24T00:00:00\", \"2020-07-23T00:00:00\", \"2020-07-22T00:00:00\", \"2020-07-21T00:00:00\", \"2020-07-20T00:00:00\", \"2020-07-17T00:00:00\", \"2020-07-16T00:00:00\", \"2020-07-15T00:00:00\", \"2020-07-14T00:00:00\", \"2020-07-13T00:00:00\", \"2020-07-10T00:00:00\", \"2020-07-09T00:00:00\", \"2020-07-08T00:00:00\"], \"xaxis\": \"x\", \"y\": [1.0, 0.0, 0.0, 0.0, 2.0, 1.0, 1.0, 0.0, 1.0, 2.0, 1.0, 1.0, 2.0, 1.0, 0.0, 1.0, 1.0, 1.0, 2.0, 1.0, 2.0, 1.0, 1.0, 0.0, 3.0, 0.0, 3.0, 2.0, 2.0, 2.0, 0.0, 0.0, 0.0, 1.0, 0.0, 1.0, 2.0, 1.0, 1.0, 1.0, 1.0, 2.0, 7.0, 4.0, 2.0, 2.0, 3.0, 4.0, 3.0, 0.0, 1.0, 13.0, 1.0, 3.0, 4.0, 3.0, 0.0, 1.0, 3.0, 3.0, 0.0, 1.0, 3.0, 0.0, 4.0, 3.0, 5.0, 4.0, 5.0, 2.0, 5.0, 1.0, 0.0, 3.0, 4.0], \"yaxis\": \"y\"}, {\"hovertemplate\": \"Area=Isla Vista<br>Date=%{x}<br>New Cases=%{y}<extra></extra>\", \"legendgroup\": \"Isla Vista\", \"line\": {\"color\": \"#00cc96\", \"dash\": \"solid\"}, \"mode\": \"lines\", \"name\": \"Isla Vista\", \"orientation\": \"v\", \"showlegend\": true, \"type\": \"scatter\", \"x\": [\"2020-10-20T00:00:00\", \"2020-10-19T00:00:00\", \"2020-10-16T00:00:00\", \"2020-10-15T00:00:00\", \"2020-10-14T00:00:00\", \"2020-10-13T00:00:00\", \"2020-10-12T00:00:00\", \"2020-10-09T00:00:00\", \"2020-10-08T00:00:00\", \"2020-10-07T00:00:00\", \"2020-10-06T00:00:00\", \"2020-10-05T00:00:00\", \"2020-10-02T00:00:00\", \"2020-10-01T00:00:00\", \"2020-09-30T00:00:00\", \"2020-09-29T00:00:00\", \"2020-09-28T00:00:00\", \"2020-09-25T00:00:00\", \"2020-09-24T00:00:00\", \"2020-09-23T00:00:00\", \"2020-09-22T00:00:00\", \"2020-09-21T00:00:00\", \"2020-09-18T00:00:00\", \"2020-09-17T00:00:00\", \"2020-09-16T00:00:00\", \"2020-09-15T00:00:00\", \"2020-09-14T00:00:00\", \"2020-09-11T00:00:00\", \"2020-09-10T00:00:00\", \"2020-09-09T00:00:00\", \"2020-09-08T00:00:00\", \"2020-09-04T00:00:00\", \"2020-09-03T00:00:00\", \"2020-09-02T00:00:00\", \"2020-09-01T00:00:00\", \"2020-08-31T00:00:00\", \"2020-08-28T00:00:00\", \"2020-08-27T00:00:00\", \"2020-08-26T00:00:00\", \"2020-08-25T00:00:00\", \"2020-08-25T00:00:00\", \"2020-08-24T00:00:00\", \"2020-08-21T00:00:00\", \"2020-08-20T00:00:00\", \"2020-08-19T00:00:00\", \"2020-08-18T00:00:00\", \"2020-08-17T00:00:00\", \"2020-08-14T00:00:00\", \"2020-08-13T00:00:00\", \"2020-08-12T00:00:00\", \"2020-08-11T00:00:00\", \"2020-08-10T00:00:00\", \"2020-08-07T00:00:00\", \"2020-08-06T00:00:00\", \"2020-08-05T00:00:00\", \"2020-08-04T00:00:00\", \"2020-08-03T00:00:00\", \"2020-07-31T00:00:00\", \"2020-07-30T00:00:00\", \"2020-07-29T00:00:00\", \"2020-07-28T00:00:00\", \"2020-07-27T00:00:00\", \"2020-07-24T00:00:00\", \"2020-07-23T00:00:00\", \"2020-07-22T00:00:00\", \"2020-07-21T00:00:00\", \"2020-07-20T00:00:00\", \"2020-07-17T00:00:00\", \"2020-07-16T00:00:00\", \"2020-07-15T00:00:00\", \"2020-07-14T00:00:00\", \"2020-07-13T00:00:00\", \"2020-07-10T00:00:00\", \"2020-07-09T00:00:00\", \"2020-07-08T00:00:00\"], \"xaxis\": \"x\", \"y\": [4.0, 14.0, 4.0, 4.0, 7.0, 1.0, 1.0, 4.0, 2.0, 0.0, 2.0, 0.0, 1.0, 1.0, 4.0, 0.0, 2.0, 3.0, 7.0, 1.0, 4.0, 1.0, 2.0, 7.0, 7.0, 6.0, 3.0, 6.0, 6.0, 4.0, 0.0, 1.0, 7.0, 5.0, 0.0, 3.0, 1.0, 0.0, 1.0, 0.0, 0.0, 1.0, 4.0, 2.0, 1.0, 0.0, 1.0, 12.0, 9.0, 1.0, 2.0, 14.0, 5.0, 13.0, 1.0, 2.0, 0.0, 0.0, 0.0, 4.0, 0.0, 1.0, 3.0, 2.0, 1.0, 3.0, 0.0, 0.0, 1.0, 0.0, 0.0, 1.0, 1.0, 0.0, 0.0], \"yaxis\": \"y\"}, {\"hovertemplate\": \"Area=Goleta Valley/Gaviota<br>Date=%{x}<br>New Cases=%{y}<extra></extra>\", \"legendgroup\": \"Goleta Valley/Gaviota\", \"line\": {\"color\": \"#ab63fa\", \"dash\": \"solid\"}, \"mode\": \"lines\", \"name\": \"Goleta Valley/Gaviota\", \"orientation\": \"v\", \"showlegend\": true, \"type\": \"scatter\", \"x\": [\"2020-10-20T00:00:00\", \"2020-10-19T00:00:00\", \"2020-10-16T00:00:00\", \"2020-10-15T00:00:00\", \"2020-10-14T00:00:00\", \"2020-10-13T00:00:00\", \"2020-10-12T00:00:00\", \"2020-10-09T00:00:00\", \"2020-10-08T00:00:00\", \"2020-10-07T00:00:00\", \"2020-10-06T00:00:00\", \"2020-10-05T00:00:00\", \"2020-10-02T00:00:00\", \"2020-10-01T00:00:00\", \"2020-09-30T00:00:00\", \"2020-09-29T00:00:00\", \"2020-09-28T00:00:00\", \"2020-09-25T00:00:00\", \"2020-09-24T00:00:00\", \"2020-09-23T00:00:00\", \"2020-09-22T00:00:00\", \"2020-09-21T00:00:00\", \"2020-09-18T00:00:00\", \"2020-09-17T00:00:00\", \"2020-09-16T00:00:00\", \"2020-09-15T00:00:00\", \"2020-09-14T00:00:00\", \"2020-09-11T00:00:00\", \"2020-09-10T00:00:00\", \"2020-09-09T00:00:00\", \"2020-09-08T00:00:00\", \"2020-09-04T00:00:00\", \"2020-09-03T00:00:00\", \"2020-09-02T00:00:00\", \"2020-09-01T00:00:00\", \"2020-08-31T00:00:00\", \"2020-08-28T00:00:00\", \"2020-08-27T00:00:00\", \"2020-08-26T00:00:00\", \"2020-08-25T00:00:00\", \"2020-08-25T00:00:00\", \"2020-08-24T00:00:00\", \"2020-08-21T00:00:00\", \"2020-08-20T00:00:00\", \"2020-08-19T00:00:00\", \"2020-08-18T00:00:00\", \"2020-08-17T00:00:00\", \"2020-08-14T00:00:00\", \"2020-08-13T00:00:00\", \"2020-08-12T00:00:00\", \"2020-08-11T00:00:00\", \"2020-08-10T00:00:00\", \"2020-08-07T00:00:00\", \"2020-08-06T00:00:00\", \"2020-08-05T00:00:00\", \"2020-08-04T00:00:00\", \"2020-08-03T00:00:00\", \"2020-07-31T00:00:00\", \"2020-07-30T00:00:00\", \"2020-07-29T00:00:00\", \"2020-07-28T00:00:00\", \"2020-07-27T00:00:00\", \"2020-07-24T00:00:00\", \"2020-07-23T00:00:00\", \"2020-07-22T00:00:00\", \"2020-07-21T00:00:00\", \"2020-07-20T00:00:00\", \"2020-07-17T00:00:00\", \"2020-07-16T00:00:00\", \"2020-07-15T00:00:00\", \"2020-07-14T00:00:00\", \"2020-07-13T00:00:00\", \"2020-07-10T00:00:00\", \"2020-07-09T00:00:00\", \"2020-07-08T00:00:00\"], \"xaxis\": \"x\", \"y\": [0.0, 0.0, 2.0, 1.0, 0.0, 2.0, 0.0, 2.0, 1.0, 0.0, 0.0, 0.0, 0.0, 0.0, 1.0, 1.0, 0.0, 0.0, 1.0, 0.0, 2.0, 1.0, 0.0, 0.0, 3.0, 1.0, 0.0, 1.0, 1.0, 3.0, 0.0, 2.0, 1.0, 1.0, 0.0, 1.0, 4.0, 2.0, 3.0, 1.0, 1.0, 4.0, 0.0, 0.0, 2.0, 6.0, 1.0, 2.0, 0.0, 0.0, 2.0, 5.0, 1.0, 1.0, 2.0, 4.0, 0.0, 3.0, 0.0, 3.0, 1.0, 1.0, 0.0, 3.0, 6.0, 2.0, 2.0, 3.0, 5.0, 0.0, 1.0, 2.0, 2.0, 1.0, 1.0], \"yaxis\": \"y\"}, {\"hovertemplate\": \"Area=Santa Ynez Valley<br>Date=%{x}<br>New Cases=%{y}<extra></extra>\", \"legendgroup\": \"Santa Ynez Valley\", \"line\": {\"color\": \"#FFA15A\", \"dash\": \"solid\"}, \"mode\": \"lines\", \"name\": \"Santa Ynez Valley\", \"orientation\": \"v\", \"showlegend\": true, \"type\": \"scatter\", \"x\": [\"2020-10-20T00:00:00\", \"2020-10-19T00:00:00\", \"2020-10-16T00:00:00\", \"2020-10-15T00:00:00\", \"2020-10-14T00:00:00\", \"2020-10-13T00:00:00\", \"2020-10-12T00:00:00\", \"2020-10-09T00:00:00\", \"2020-10-08T00:00:00\", \"2020-10-07T00:00:00\", \"2020-10-06T00:00:00\", \"2020-10-05T00:00:00\", \"2020-10-02T00:00:00\", \"2020-10-01T00:00:00\", \"2020-09-30T00:00:00\", \"2020-09-29T00:00:00\", \"2020-09-28T00:00:00\", \"2020-09-25T00:00:00\", \"2020-09-24T00:00:00\", \"2020-09-23T00:00:00\", \"2020-09-22T00:00:00\", \"2020-09-21T00:00:00\", \"2020-09-18T00:00:00\", \"2020-09-17T00:00:00\", \"2020-09-16T00:00:00\", \"2020-09-15T00:00:00\", \"2020-09-14T00:00:00\", \"2020-09-11T00:00:00\", \"2020-09-10T00:00:00\", \"2020-09-09T00:00:00\", \"2020-09-08T00:00:00\", \"2020-09-04T00:00:00\", \"2020-09-03T00:00:00\", \"2020-09-02T00:00:00\", \"2020-09-01T00:00:00\", \"2020-08-31T00:00:00\", \"2020-08-28T00:00:00\", \"2020-08-27T00:00:00\", \"2020-08-26T00:00:00\", \"2020-08-25T00:00:00\", \"2020-08-25T00:00:00\", \"2020-08-24T00:00:00\", \"2020-08-21T00:00:00\", \"2020-08-20T00:00:00\", \"2020-08-19T00:00:00\", \"2020-08-18T00:00:00\", \"2020-08-17T00:00:00\", \"2020-08-14T00:00:00\", \"2020-08-13T00:00:00\", \"2020-08-12T00:00:00\", \"2020-08-11T00:00:00\", \"2020-08-10T00:00:00\", \"2020-08-07T00:00:00\", \"2020-08-06T00:00:00\", \"2020-08-05T00:00:00\", \"2020-08-04T00:00:00\", \"2020-08-03T00:00:00\", \"2020-07-31T00:00:00\", \"2020-07-30T00:00:00\", \"2020-07-29T00:00:00\", \"2020-07-28T00:00:00\", \"2020-07-27T00:00:00\", \"2020-07-24T00:00:00\", \"2020-07-23T00:00:00\", \"2020-07-22T00:00:00\", \"2020-07-21T00:00:00\", \"2020-07-20T00:00:00\", \"2020-07-17T00:00:00\", \"2020-07-16T00:00:00\", \"2020-07-15T00:00:00\", \"2020-07-14T00:00:00\", \"2020-07-13T00:00:00\", \"2020-07-10T00:00:00\", \"2020-07-09T00:00:00\", \"2020-07-08T00:00:00\"], \"xaxis\": \"x\", \"y\": [2.0, 0.0, 2.0, 2.0, 1.0, 2.0, 5.0, 1.0, 0.0, 2.0, 1.0, 1.0, 2.0, 1.0, 0.0, 0.0, 0.0, 0.0, 1.0, 2.0, 3.0, 2.0, 0.0, 0.0, 1.0, 0.0, 1.0, 2.0, 3.0, 2.0, 0.0, 1.0, 0.0, 2.0, 1.0, 1.0, 3.0, 2.0, 3.0, 2.0, 2.0, 2.0, 6.0, 4.0, 0.0, 0.0, 0.0, 1.0, 4.0, 1.0, 0.0, 2.0, 1.0, 0.0, 0.0, 0.0, 0.0, 0.0, 4.0, 0.0, 0.0, 0.0, 2.0, 2.0, 1.0, 4.0, 0.0, 2.0, 6.0, 4.0, 5.0, 0.0, 2.0, 3.0, 1.0], \"yaxis\": \"y\"}, {\"hovertemplate\": \"Area=Lompoc<br>Date=%{x}<br>New Cases=%{y}<extra></extra>\", \"legendgroup\": \"Lompoc\", \"line\": {\"color\": \"#19d3f3\", \"dash\": \"solid\"}, \"mode\": \"lines\", \"name\": \"Lompoc\", \"orientation\": \"v\", \"showlegend\": true, \"type\": \"scatter\", \"x\": [\"2020-10-20T00:00:00\", \"2020-10-19T00:00:00\", \"2020-10-16T00:00:00\", \"2020-10-15T00:00:00\", \"2020-10-14T00:00:00\", \"2020-10-13T00:00:00\", \"2020-10-12T00:00:00\", \"2020-10-09T00:00:00\", \"2020-10-08T00:00:00\", \"2020-10-07T00:00:00\", \"2020-10-06T00:00:00\", \"2020-10-05T00:00:00\", \"2020-10-02T00:00:00\", \"2020-10-01T00:00:00\", \"2020-09-30T00:00:00\", \"2020-09-29T00:00:00\", \"2020-09-28T00:00:00\", \"2020-09-25T00:00:00\", \"2020-09-24T00:00:00\", \"2020-09-23T00:00:00\", \"2020-09-22T00:00:00\", \"2020-09-21T00:00:00\", \"2020-09-18T00:00:00\", \"2020-09-17T00:00:00\", \"2020-09-16T00:00:00\", \"2020-09-15T00:00:00\", \"2020-09-14T00:00:00\", \"2020-09-11T00:00:00\", \"2020-09-10T00:00:00\", \"2020-09-09T00:00:00\", \"2020-09-08T00:00:00\", \"2020-09-04T00:00:00\", \"2020-09-03T00:00:00\", \"2020-09-02T00:00:00\", \"2020-09-01T00:00:00\", \"2020-08-31T00:00:00\", \"2020-08-28T00:00:00\", \"2020-08-27T00:00:00\", \"2020-08-26T00:00:00\", \"2020-08-25T00:00:00\", \"2020-08-25T00:00:00\", \"2020-08-24T00:00:00\", \"2020-08-21T00:00:00\", \"2020-08-20T00:00:00\", \"2020-08-19T00:00:00\", \"2020-08-18T00:00:00\", \"2020-08-17T00:00:00\", \"2020-08-14T00:00:00\", \"2020-08-13T00:00:00\", \"2020-08-12T00:00:00\", \"2020-08-11T00:00:00\", \"2020-08-10T00:00:00\", \"2020-08-07T00:00:00\", \"2020-08-06T00:00:00\", \"2020-08-05T00:00:00\", \"2020-08-04T00:00:00\", \"2020-08-03T00:00:00\", \"2020-07-31T00:00:00\", \"2020-07-30T00:00:00\", \"2020-07-29T00:00:00\", \"2020-07-28T00:00:00\", \"2020-07-27T00:00:00\", \"2020-07-24T00:00:00\", \"2020-07-23T00:00:00\", \"2020-07-22T00:00:00\", \"2020-07-21T00:00:00\", \"2020-07-20T00:00:00\", \"2020-07-17T00:00:00\", \"2020-07-16T00:00:00\", \"2020-07-15T00:00:00\", \"2020-07-14T00:00:00\", \"2020-07-13T00:00:00\", \"2020-07-10T00:00:00\", \"2020-07-09T00:00:00\", \"2020-07-08T00:00:00\"], \"xaxis\": \"x\", \"y\": [2.0, 2.0, 1.0, 3.0, 2.0, 1.0, 1.0, 5.0, 3.0, 5.0, 4.0, 6.0, 5.0, 2.0, 6.0, 4.0, 5.0, 10.0, 4.0, 1.0, 11.0, 2.0, 8.0, 4.0, 6.0, 0.0, 6.0, 3.0, 3.0, 5.0, 0.0, 23.0, 25.0, 14.0, 1.0, 11.0, 8.0, 4.0, 1.0, 17.0, 17.0, 5.0, 6.0, 6.0, 2.0, 2.0, 10.0, 12.0, 7.0, 3.0, 5.0, 20.0, 8.0, 5.0, 6.0, 1.0, 2.0, 4.0, 11.0, 6.0, 9.0, 11.0, 12.0, 16.0, 21.0, 12.0, 9.0, 18.0, 19.0, 6.0, 15.0, 1.0, 11.0, 6.0, 5.0], \"yaxis\": \"y\"}, {\"hovertemplate\": \"Area=Federal Prison in Lompoc<br>Date=%{x}<br>New Cases=%{y}<extra></extra>\", \"legendgroup\": \"Federal Prison in Lompoc\", \"line\": {\"color\": \"#FF6692\", \"dash\": \"solid\"}, \"mode\": \"lines\", \"name\": \"Federal Prison in Lompoc\", \"orientation\": \"v\", \"showlegend\": true, \"type\": \"scatter\", \"x\": [\"2020-10-20T00:00:00\", \"2020-10-19T00:00:00\", \"2020-10-16T00:00:00\", \"2020-10-15T00:00:00\", \"2020-10-14T00:00:00\", \"2020-10-13T00:00:00\", \"2020-10-12T00:00:00\", \"2020-10-09T00:00:00\", \"2020-10-08T00:00:00\", \"2020-10-07T00:00:00\", \"2020-10-06T00:00:00\", \"2020-10-05T00:00:00\", \"2020-10-02T00:00:00\", \"2020-10-01T00:00:00\", \"2020-09-30T00:00:00\", \"2020-09-29T00:00:00\", \"2020-09-28T00:00:00\", \"2020-09-25T00:00:00\", \"2020-09-24T00:00:00\", \"2020-09-23T00:00:00\", \"2020-09-22T00:00:00\", \"2020-09-21T00:00:00\", \"2020-09-18T00:00:00\", \"2020-09-17T00:00:00\", \"2020-09-16T00:00:00\", \"2020-09-15T00:00:00\", \"2020-09-14T00:00:00\", \"2020-09-11T00:00:00\", \"2020-09-10T00:00:00\", \"2020-09-09T00:00:00\", \"2020-09-08T00:00:00\", \"2020-09-04T00:00:00\", \"2020-09-03T00:00:00\", \"2020-09-02T00:00:00\", \"2020-09-01T00:00:00\", \"2020-08-31T00:00:00\", \"2020-08-28T00:00:00\", \"2020-08-27T00:00:00\", \"2020-08-26T00:00:00\", \"2020-08-25T00:00:00\", \"2020-08-25T00:00:00\", \"2020-08-24T00:00:00\", \"2020-08-21T00:00:00\", \"2020-08-20T00:00:00\", \"2020-08-19T00:00:00\", \"2020-08-18T00:00:00\", \"2020-08-17T00:00:00\", \"2020-08-14T00:00:00\", \"2020-08-13T00:00:00\", \"2020-08-12T00:00:00\", \"2020-08-11T00:00:00\", \"2020-08-10T00:00:00\", \"2020-08-07T00:00:00\", \"2020-08-06T00:00:00\", \"2020-08-05T00:00:00\", \"2020-08-04T00:00:00\", \"2020-08-03T00:00:00\", \"2020-07-31T00:00:00\", \"2020-07-30T00:00:00\", \"2020-07-29T00:00:00\", \"2020-07-28T00:00:00\", \"2020-07-27T00:00:00\", \"2020-07-24T00:00:00\", \"2020-07-23T00:00:00\", \"2020-07-22T00:00:00\", \"2020-07-21T00:00:00\", \"2020-07-20T00:00:00\", \"2020-07-17T00:00:00\", \"2020-07-16T00:00:00\", \"2020-07-15T00:00:00\", \"2020-07-14T00:00:00\", \"2020-07-13T00:00:00\", \"2020-07-10T00:00:00\", \"2020-07-09T00:00:00\", \"2020-07-08T00:00:00\"], \"xaxis\": \"x\", \"y\": [0.0, 0.0, 0.0, 0.0, 0.0, 1.0, 0.0, 0.0, 0.0, 0.0, 1.0, 0.0, 0.0, 0.0, 0.0, 0.0, 0.0, 0.0, 0.0, 0.0, 0.0, 0.0, 2.0, 0.0, 0.0, 0.0, 0.0, 0.0, 0.0, 1.0, 0.0, 0.0, 1.0, 0.0, 3.0, 0.0, 0.0, 0.0, 0.0, 0.0, 0.0, 0.0, 0.0, 0.0, 0.0, 0.0, 0.0, 0.0, 0.0, 0.0, 0.0, 0.0, 0.0, 0.0, 0.0, 0.0, 0.0, 0.0, 0.0, 0.0, 0.0, 0.0, 1.0, 0.0, 0.0, 1.0, 2.0, 6.0, 1.0, 2.0, 0.0, 0.0, 0.0, 0.0, 0.0], \"yaxis\": \"y\"}, {\"hovertemplate\": \"Area=Santa Maria<br>Date=%{x}<br>New Cases=%{y}<extra></extra>\", \"legendgroup\": \"Santa Maria\", \"line\": {\"color\": \"#B6E880\", \"dash\": \"solid\"}, \"mode\": \"lines\", \"name\": \"Santa Maria\", \"orientation\": \"v\", \"showlegend\": true, \"type\": \"scatter\", \"x\": [\"2020-10-20T00:00:00\", \"2020-10-19T00:00:00\", \"2020-10-16T00:00:00\", \"2020-10-15T00:00:00\", \"2020-10-14T00:00:00\", \"2020-10-13T00:00:00\", \"2020-10-12T00:00:00\", \"2020-10-09T00:00:00\", \"2020-10-08T00:00:00\", \"2020-10-07T00:00:00\", \"2020-10-06T00:00:00\", \"2020-10-05T00:00:00\", \"2020-10-02T00:00:00\", \"2020-10-01T00:00:00\", \"2020-09-30T00:00:00\", \"2020-09-29T00:00:00\", \"2020-09-28T00:00:00\", \"2020-09-25T00:00:00\", \"2020-09-24T00:00:00\", \"2020-09-23T00:00:00\", \"2020-09-22T00:00:00\", \"2020-09-21T00:00:00\", \"2020-09-18T00:00:00\", \"2020-09-17T00:00:00\", \"2020-09-16T00:00:00\", \"2020-09-15T00:00:00\", \"2020-09-14T00:00:00\", \"2020-09-11T00:00:00\", \"2020-09-10T00:00:00\", \"2020-09-09T00:00:00\", \"2020-09-08T00:00:00\", \"2020-09-04T00:00:00\", \"2020-09-03T00:00:00\", \"2020-09-02T00:00:00\", \"2020-09-01T00:00:00\", \"2020-08-31T00:00:00\", \"2020-08-28T00:00:00\", \"2020-08-27T00:00:00\", \"2020-08-26T00:00:00\", \"2020-08-25T00:00:00\", \"2020-08-25T00:00:00\", \"2020-08-24T00:00:00\", \"2020-08-21T00:00:00\", \"2020-08-20T00:00:00\", \"2020-08-19T00:00:00\", \"2020-08-18T00:00:00\", \"2020-08-17T00:00:00\", \"2020-08-14T00:00:00\", \"2020-08-13T00:00:00\", \"2020-08-12T00:00:00\", \"2020-08-11T00:00:00\", \"2020-08-10T00:00:00\", \"2020-08-07T00:00:00\", \"2020-08-06T00:00:00\", \"2020-08-05T00:00:00\", \"2020-08-04T00:00:00\", \"2020-08-03T00:00:00\", \"2020-07-31T00:00:00\", \"2020-07-30T00:00:00\", \"2020-07-29T00:00:00\", \"2020-07-28T00:00:00\", \"2020-07-27T00:00:00\", \"2020-07-24T00:00:00\", \"2020-07-23T00:00:00\", \"2020-07-22T00:00:00\", \"2020-07-21T00:00:00\", \"2020-07-20T00:00:00\", \"2020-07-17T00:00:00\", \"2020-07-16T00:00:00\", \"2020-07-15T00:00:00\", \"2020-07-14T00:00:00\", \"2020-07-13T00:00:00\", \"2020-07-10T00:00:00\", \"2020-07-09T00:00:00\", \"2020-07-08T00:00:00\"], \"xaxis\": \"x\", \"y\": [11.0, 2.0, 5.0, 4.0, 4.0, 8.0, 13.0, 8.0, 4.0, 7.0, 8.0, 20.0, 12.0, 14.0, 15.0, 14.0, 16.0, 12.0, 6.0, 4.0, 0.0, 10.0, 17.0, 4.0, 10.0, 12.0, 0.0, 5.0, 5.0, 17.0, 0.0, 26.0, 21.0, 14.0, 11.0, 18.0, 32.0, 16.0, 17.0, 34.0, 34.0, 27.0, 25.0, 30.0, 9.0, 2.0, 34.0, 60.0, 28.0, 2.0, 45.0, 69.0, 26.0, 35.0, 19.0, 12.0, 18.0, 47.0, 33.0, 30.0, 41.0, 38.0, 77.0, 93.0, 63.0, 66.0, 43.0, 69.0, 112.0, 47.0, 113.0, 38.0, 31.0, 33.0, 73.0], \"yaxis\": \"y\"}, {\"hovertemplate\": \"Area=Orcutt<br>Date=%{x}<br>New Cases=%{y}<extra></extra>\", \"legendgroup\": \"Orcutt\", \"line\": {\"color\": \"#FF97FF\", \"dash\": \"solid\"}, \"mode\": \"lines\", \"name\": \"Orcutt\", \"orientation\": \"v\", \"showlegend\": true, \"type\": \"scatter\", \"x\": [\"2020-10-20T00:00:00\", \"2020-10-19T00:00:00\", \"2020-10-16T00:00:00\", \"2020-10-15T00:00:00\", \"2020-10-14T00:00:00\", \"2020-10-13T00:00:00\", \"2020-10-12T00:00:00\", \"2020-10-09T00:00:00\", \"2020-10-08T00:00:00\", \"2020-10-07T00:00:00\", \"2020-10-06T00:00:00\", \"2020-10-05T00:00:00\", \"2020-10-02T00:00:00\", \"2020-10-01T00:00:00\", \"2020-09-30T00:00:00\", \"2020-09-29T00:00:00\", \"2020-09-28T00:00:00\", \"2020-09-25T00:00:00\", \"2020-09-24T00:00:00\", \"2020-09-23T00:00:00\", \"2020-09-22T00:00:00\", \"2020-09-21T00:00:00\", \"2020-09-18T00:00:00\", \"2020-09-17T00:00:00\", \"2020-09-16T00:00:00\", \"2020-09-15T00:00:00\", \"2020-09-14T00:00:00\", \"2020-09-11T00:00:00\", \"2020-09-10T00:00:00\", \"2020-09-09T00:00:00\", \"2020-09-08T00:00:00\", \"2020-09-04T00:00:00\", \"2020-09-03T00:00:00\", \"2020-09-02T00:00:00\", \"2020-09-01T00:00:00\", \"2020-08-31T00:00:00\", \"2020-08-28T00:00:00\", \"2020-08-27T00:00:00\", \"2020-08-26T00:00:00\", \"2020-08-25T00:00:00\", \"2020-08-25T00:00:00\", \"2020-08-24T00:00:00\", \"2020-08-21T00:00:00\", \"2020-08-20T00:00:00\", \"2020-08-19T00:00:00\", \"2020-08-18T00:00:00\", \"2020-08-17T00:00:00\", \"2020-08-14T00:00:00\", \"2020-08-13T00:00:00\", \"2020-08-12T00:00:00\", \"2020-08-11T00:00:00\", \"2020-08-10T00:00:00\", \"2020-08-07T00:00:00\", \"2020-08-06T00:00:00\", \"2020-08-05T00:00:00\", \"2020-08-04T00:00:00\", \"2020-08-03T00:00:00\", \"2020-07-31T00:00:00\", \"2020-07-30T00:00:00\", \"2020-07-29T00:00:00\", \"2020-07-28T00:00:00\", \"2020-07-27T00:00:00\", \"2020-07-24T00:00:00\", \"2020-07-23T00:00:00\", \"2020-07-22T00:00:00\", \"2020-07-21T00:00:00\", \"2020-07-20T00:00:00\", \"2020-07-17T00:00:00\", \"2020-07-16T00:00:00\", \"2020-07-15T00:00:00\", \"2020-07-14T00:00:00\", \"2020-07-13T00:00:00\", \"2020-07-10T00:00:00\", \"2020-07-09T00:00:00\", \"2020-07-08T00:00:00\"], \"xaxis\": \"x\", \"y\": [2.0, 0.0, 4.0, 0.0, 0.0, 2.0, 0.0, 1.0, 5.0, 1.0, 0.0, 4.0, 1.0, 1.0, 1.0, 0.0, 5.0, 4.0, 1.0, 3.0, 0.0, 3.0, 0.0, 0.0, 7.0, 3.0, 2.0, 0.0, 2.0, 2.0, 0.0, 0.0, 2.0, 2.0, 1.0, 2.0, 5.0, 1.0, 0.0, 2.0, 2.0, 1.0, 4.0, 1.0, 3.0, 0.0, 3.0, 3.0, 2.0, 1.0, 3.0, 6.0, 2.0, 3.0, 2.0, 1.0, 0.0, 1.0, 1.0, 3.0, 4.0, 1.0, 1.0, 9.0, 6.0, 6.0, 3.0, 5.0, 4.0, 3.0, 8.0, 2.0, 2.0, 0.0, 4.0], \"yaxis\": \"y\"}],                        {\"font\": {\"color\": \"white\", \"family\": \"Courier\"}, \"hovermode\": \"closest\", \"legend\": {\"orientation\": \"h\", \"title\": {\"text\": \"Area\"}, \"tracegroupgap\": 0, \"x\": 0, \"xanchor\": \"left\", \"y\": 1.02, \"yanchor\": \"bottom\"}, \"template\": {\"data\": {\"bar\": [{\"error_x\": {\"color\": \"#f2f5fa\"}, \"error_y\": {\"color\": \"#f2f5fa\"}, \"marker\": {\"line\": {\"color\": \"rgb(17,17,17)\", \"width\": 0.5}}, \"type\": \"bar\"}], \"barpolar\": [{\"marker\": {\"line\": {\"color\": \"rgb(17,17,17)\", \"width\": 0.5}}, \"type\": \"barpolar\"}], \"carpet\": [{\"aaxis\": {\"endlinecolor\": \"#A2B1C6\", \"gridcolor\": \"#506784\", \"linecolor\": \"#506784\", \"minorgridcolor\": \"#506784\", \"startlinecolor\": \"#A2B1C6\"}, \"baxis\": {\"endlinecolor\": \"#A2B1C6\", \"gridcolor\": \"#506784\", \"linecolor\": \"#506784\", \"minorgridcolor\": \"#506784\", \"startlinecolor\": \"#A2B1C6\"}, \"type\": \"carpet\"}], \"choropleth\": [{\"colorbar\": {\"outlinewidth\": 0, \"ticks\": \"\"}, \"type\": \"choropleth\"}], \"contour\": [{\"colorbar\": {\"outlinewidth\": 0, \"ticks\": \"\"}, \"colorscale\": [[0.0, \"#0d0887\"], [0.1111111111111111, \"#46039f\"], [0.2222222222222222, \"#7201a8\"], [0.3333333333333333, \"#9c179e\"], [0.4444444444444444, \"#bd3786\"], [0.5555555555555556, \"#d8576b\"], [0.6666666666666666, \"#ed7953\"], [0.7777777777777778, \"#fb9f3a\"], [0.8888888888888888, \"#fdca26\"], [1.0, \"#f0f921\"]], \"type\": \"contour\"}], \"contourcarpet\": [{\"colorbar\": {\"outlinewidth\": 0, \"ticks\": \"\"}, \"type\": \"contourcarpet\"}], \"heatmap\": [{\"colorbar\": {\"outlinewidth\": 0, \"ticks\": \"\"}, \"colorscale\": [[0.0, \"#0d0887\"], [0.1111111111111111, \"#46039f\"], [0.2222222222222222, \"#7201a8\"], [0.3333333333333333, \"#9c179e\"], [0.4444444444444444, \"#bd3786\"], [0.5555555555555556, \"#d8576b\"], [0.6666666666666666, \"#ed7953\"], [0.7777777777777778, \"#fb9f3a\"], [0.8888888888888888, \"#fdca26\"], [1.0, \"#f0f921\"]], \"type\": \"heatmap\"}], \"heatmapgl\": [{\"colorbar\": {\"outlinewidth\": 0, \"ticks\": \"\"}, \"colorscale\": [[0.0, \"#0d0887\"], [0.1111111111111111, \"#46039f\"], [0.2222222222222222, \"#7201a8\"], [0.3333333333333333, \"#9c179e\"], [0.4444444444444444, \"#bd3786\"], [0.5555555555555556, \"#d8576b\"], [0.6666666666666666, \"#ed7953\"], [0.7777777777777778, \"#fb9f3a\"], [0.8888888888888888, \"#fdca26\"], [1.0, \"#f0f921\"]], \"type\": \"heatmapgl\"}], \"histogram\": [{\"marker\": {\"colorbar\": {\"outlinewidth\": 0, \"ticks\": \"\"}}, \"type\": \"histogram\"}], \"histogram2d\": [{\"colorbar\": {\"outlinewidth\": 0, \"ticks\": \"\"}, \"colorscale\": [[0.0, \"#0d0887\"], [0.1111111111111111, \"#46039f\"], [0.2222222222222222, \"#7201a8\"], [0.3333333333333333, \"#9c179e\"], [0.4444444444444444, \"#bd3786\"], [0.5555555555555556, \"#d8576b\"], [0.6666666666666666, \"#ed7953\"], [0.7777777777777778, \"#fb9f3a\"], [0.8888888888888888, \"#fdca26\"], [1.0, \"#f0f921\"]], \"type\": \"histogram2d\"}], \"histogram2dcontour\": [{\"colorbar\": {\"outlinewidth\": 0, \"ticks\": \"\"}, \"colorscale\": [[0.0, \"#0d0887\"], [0.1111111111111111, \"#46039f\"], [0.2222222222222222, \"#7201a8\"], [0.3333333333333333, \"#9c179e\"], [0.4444444444444444, \"#bd3786\"], [0.5555555555555556, \"#d8576b\"], [0.6666666666666666, \"#ed7953\"], [0.7777777777777778, \"#fb9f3a\"], [0.8888888888888888, \"#fdca26\"], [1.0, \"#f0f921\"]], \"type\": \"histogram2dcontour\"}], \"mesh3d\": [{\"colorbar\": {\"outlinewidth\": 0, \"ticks\": \"\"}, \"type\": \"mesh3d\"}], \"parcoords\": [{\"line\": {\"colorbar\": {\"outlinewidth\": 0, \"ticks\": \"\"}}, \"type\": \"parcoords\"}], \"pie\": [{\"automargin\": true, \"type\": \"pie\"}], \"scatter\": [{\"marker\": {\"line\": {\"color\": \"#283442\"}}, \"type\": \"scatter\"}], \"scatter3d\": [{\"line\": {\"colorbar\": {\"outlinewidth\": 0, \"ticks\": \"\"}}, \"marker\": {\"colorbar\": {\"outlinewidth\": 0, \"ticks\": \"\"}}, \"type\": \"scatter3d\"}], \"scattercarpet\": [{\"marker\": {\"colorbar\": {\"outlinewidth\": 0, \"ticks\": \"\"}}, \"type\": \"scattercarpet\"}], \"scattergeo\": [{\"marker\": {\"colorbar\": {\"outlinewidth\": 0, \"ticks\": \"\"}}, \"type\": \"scattergeo\"}], \"scattergl\": [{\"marker\": {\"line\": {\"color\": \"#283442\"}}, \"type\": \"scattergl\"}], \"scattermapbox\": [{\"marker\": {\"colorbar\": {\"outlinewidth\": 0, \"ticks\": \"\"}}, \"type\": \"scattermapbox\"}], \"scatterpolar\": [{\"marker\": {\"colorbar\": {\"outlinewidth\": 0, \"ticks\": \"\"}}, \"type\": \"scatterpolar\"}], \"scatterpolargl\": [{\"marker\": {\"colorbar\": {\"outlinewidth\": 0, \"ticks\": \"\"}}, \"type\": \"scatterpolargl\"}], \"scatterternary\": [{\"marker\": {\"colorbar\": {\"outlinewidth\": 0, \"ticks\": \"\"}}, \"type\": \"scatterternary\"}], \"surface\": [{\"colorbar\": {\"outlinewidth\": 0, \"ticks\": \"\"}, \"colorscale\": [[0.0, \"#0d0887\"], [0.1111111111111111, \"#46039f\"], [0.2222222222222222, \"#7201a8\"], [0.3333333333333333, \"#9c179e\"], [0.4444444444444444, \"#bd3786\"], [0.5555555555555556, \"#d8576b\"], [0.6666666666666666, \"#ed7953\"], [0.7777777777777778, \"#fb9f3a\"], [0.8888888888888888, \"#fdca26\"], [1.0, \"#f0f921\"]], \"type\": \"surface\"}], \"table\": [{\"cells\": {\"fill\": {\"color\": \"#506784\"}, \"line\": {\"color\": \"rgb(17,17,17)\"}}, \"header\": {\"fill\": {\"color\": \"#2a3f5f\"}, \"line\": {\"color\": \"rgb(17,17,17)\"}}, \"type\": \"table\"}]}, \"layout\": {\"annotationdefaults\": {\"arrowcolor\": \"#f2f5fa\", \"arrowhead\": 0, \"arrowwidth\": 1}, \"coloraxis\": {\"colorbar\": {\"outlinewidth\": 0, \"ticks\": \"\"}}, \"colorscale\": {\"diverging\": [[0, \"#8e0152\"], [0.1, \"#c51b7d\"], [0.2, \"#de77ae\"], [0.3, \"#f1b6da\"], [0.4, \"#fde0ef\"], [0.5, \"#f7f7f7\"], [0.6, \"#e6f5d0\"], [0.7, \"#b8e186\"], [0.8, \"#7fbc41\"], [0.9, \"#4d9221\"], [1, \"#276419\"]], \"sequential\": [[0.0, \"#0d0887\"], [0.1111111111111111, \"#46039f\"], [0.2222222222222222, \"#7201a8\"], [0.3333333333333333, \"#9c179e\"], [0.4444444444444444, \"#bd3786\"], [0.5555555555555556, \"#d8576b\"], [0.6666666666666666, \"#ed7953\"], [0.7777777777777778, \"#fb9f3a\"], [0.8888888888888888, \"#fdca26\"], [1.0, \"#f0f921\"]], \"sequentialminus\": [[0.0, \"#0d0887\"], [0.1111111111111111, \"#46039f\"], [0.2222222222222222, \"#7201a8\"], [0.3333333333333333, \"#9c179e\"], [0.4444444444444444, \"#bd3786\"], [0.5555555555555556, \"#d8576b\"], [0.6666666666666666, \"#ed7953\"], [0.7777777777777778, \"#fb9f3a\"], [0.8888888888888888, \"#fdca26\"], [1.0, \"#f0f921\"]]}, \"colorway\": [\"#636efa\", \"#EF553B\", \"#00cc96\", \"#ab63fa\", \"#FFA15A\", \"#19d3f3\", \"#FF6692\", \"#B6E880\", \"#FF97FF\", \"#FECB52\"], \"font\": {\"color\": \"#f2f5fa\"}, \"geo\": {\"bgcolor\": \"rgb(17,17,17)\", \"lakecolor\": \"rgb(17,17,17)\", \"landcolor\": \"rgb(17,17,17)\", \"showlakes\": true, \"showland\": true, \"subunitcolor\": \"#506784\"}, \"hoverlabel\": {\"align\": \"left\"}, \"hovermode\": \"closest\", \"mapbox\": {\"style\": \"dark\"}, \"paper_bgcolor\": \"rgb(17,17,17)\", \"plot_bgcolor\": \"rgb(17,17,17)\", \"polar\": {\"angularaxis\": {\"gridcolor\": \"#506784\", \"linecolor\": \"#506784\", \"ticks\": \"\"}, \"bgcolor\": \"rgb(17,17,17)\", \"radialaxis\": {\"gridcolor\": \"#506784\", \"linecolor\": \"#506784\", \"ticks\": \"\"}}, \"scene\": {\"xaxis\": {\"backgroundcolor\": \"rgb(17,17,17)\", \"gridcolor\": \"#506784\", \"gridwidth\": 2, \"linecolor\": \"#506784\", \"showbackground\": true, \"ticks\": \"\", \"zerolinecolor\": \"#C8D4E3\"}, \"yaxis\": {\"backgroundcolor\": \"rgb(17,17,17)\", \"gridcolor\": \"#506784\", \"gridwidth\": 2, \"linecolor\": \"#506784\", \"showbackground\": true, \"ticks\": \"\", \"zerolinecolor\": \"#C8D4E3\"}, \"zaxis\": {\"backgroundcolor\": \"rgb(17,17,17)\", \"gridcolor\": \"#506784\", \"gridwidth\": 2, \"linecolor\": \"#506784\", \"showbackground\": true, \"ticks\": \"\", \"zerolinecolor\": \"#C8D4E3\"}}, \"shapedefaults\": {\"line\": {\"color\": \"#f2f5fa\"}}, \"sliderdefaults\": {\"bgcolor\": \"#C8D4E3\", \"bordercolor\": \"rgb(17,17,17)\", \"borderwidth\": 1, \"tickwidth\": 0}, \"ternary\": {\"aaxis\": {\"gridcolor\": \"#506784\", \"linecolor\": \"#506784\", \"ticks\": \"\"}, \"baxis\": {\"gridcolor\": \"#506784\", \"linecolor\": \"#506784\", \"ticks\": \"\"}, \"bgcolor\": \"rgb(17,17,17)\", \"caxis\": {\"gridcolor\": \"#506784\", \"linecolor\": \"#506784\", \"ticks\": \"\"}}, \"title\": {\"x\": 0.05}, \"updatemenudefaults\": {\"bgcolor\": \"#506784\", \"borderwidth\": 0}, \"xaxis\": {\"automargin\": true, \"gridcolor\": \"#283442\", \"linecolor\": \"#506784\", \"ticks\": \"\", \"title\": {\"standoff\": 15}, \"zerolinecolor\": \"#283442\", \"zerolinewidth\": 2}, \"yaxis\": {\"automargin\": true, \"gridcolor\": \"#283442\", \"linecolor\": \"#506784\", \"ticks\": \"\", \"title\": {\"standoff\": 15}, \"zerolinecolor\": \"#283442\", \"zerolinewidth\": 2}}}, \"title\": {\"font\": {\"size\": 24}, \"text\": \"New Cases by Region\"}, \"xaxis\": {\"anchor\": \"y\", \"domain\": [0.0, 1.0], \"title\": {\"text\": \"Date\"}}, \"yaxis\": {\"anchor\": \"x\", \"domain\": [0.0, 1.0], \"title\": {\"text\": \"New Cases\"}}},                        {\"responsive\": true}                    ).then(function(){\n",
              "                            \n",
              "var gd = document.getElementById('e38e720d-4a0b-4f47-9156-06ada9f23006');\n",
              "var x = new MutationObserver(function (mutations, observer) {{\n",
              "        var display = window.getComputedStyle(gd).display;\n",
              "        if (!display || display === 'none') {{\n",
              "            console.log([gd, 'removed!']);\n",
              "            Plotly.purge(gd);\n",
              "            observer.disconnect();\n",
              "        }}\n",
              "}});\n",
              "\n",
              "// Listen for the removal of the full notebook cells\n",
              "var notebookContainer = gd.closest('#notebook-container');\n",
              "if (notebookContainer) {{\n",
              "    x.observe(notebookContainer, {childList: true});\n",
              "}}\n",
              "\n",
              "// Listen for the clearing of the current output cell\n",
              "var outputEl = gd.closest('.output');\n",
              "if (outputEl) {{\n",
              "    x.observe(outputEl, {childList: true});\n",
              "}}\n",
              "\n",
              "                        })                };                            </script>        </div>\n",
              "</body>\n",
              "</html>"
            ]
          },
          "metadata": {
            "tags": []
          }
        }
      ]
    },
    {
      "cell_type": "code",
      "metadata": {
        "id": "F91aRUcfTza6",
        "outputId": "125497e0-8fde-4a72-f67d-ade6f7bda8b9",
        "colab": {
          "base_uri": "https://localhost:8080/",
          "height": 542
        }
      },
      "source": [
        "create_line_plot('Total Confirmed Cases')"
      ],
      "execution_count": 82,
      "outputs": [
        {
          "output_type": "display_data",
          "data": {
            "text/html": [
              "<html>\n",
              "<head><meta charset=\"utf-8\" /></head>\n",
              "<body>\n",
              "    <div>            <script src=\"https://cdnjs.cloudflare.com/ajax/libs/mathjax/2.7.5/MathJax.js?config=TeX-AMS-MML_SVG\"></script><script type=\"text/javascript\">if (window.MathJax) {MathJax.Hub.Config({SVG: {font: \"STIX-Web\"}});}</script>                <script type=\"text/javascript\">window.PlotlyConfig = {MathJaxConfig: 'local'};</script>\n",
              "        <script src=\"https://cdn.plot.ly/plotly-latest.min.js\"></script>                <div id=\"ef59bdca-eb0e-429e-a2e7-fb0c58e83f32\" class=\"plotly-graph-div\" style=\"height:525px; width:100%;\"></div>            <script type=\"text/javascript\">                                    window.PLOTLYENV=window.PLOTLYENV || {};                                    if (document.getElementById(\"ef59bdca-eb0e-429e-a2e7-fb0c58e83f32\")) {                    Plotly.newPlot(                        \"ef59bdca-eb0e-429e-a2e7-fb0c58e83f32\",                        [{\"hovertemplate\": \"Area=Santa Barbara<br>Date=%{x}<br>Total Confirmed Cases=%{y}<extra></extra>\", \"legendgroup\": \"Santa Barbara\", \"line\": {\"color\": \"#636efa\", \"dash\": \"solid\"}, \"mode\": \"lines\", \"name\": \"Santa Barbara\", \"orientation\": \"v\", \"showlegend\": true, \"type\": \"scatter\", \"x\": [\"2020-10-20T00:00:00\", \"2020-10-19T00:00:00\", \"2020-10-16T00:00:00\", \"2020-10-15T00:00:00\", \"2020-10-14T00:00:00\", \"2020-10-13T00:00:00\", \"2020-10-12T00:00:00\", \"2020-10-09T00:00:00\", \"2020-10-08T00:00:00\", \"2020-10-07T00:00:00\", \"2020-10-06T00:00:00\", \"2020-10-05T00:00:00\", \"2020-10-02T00:00:00\", \"2020-10-01T00:00:00\", \"2020-09-30T00:00:00\", \"2020-09-29T00:00:00\", \"2020-09-28T00:00:00\", \"2020-09-25T00:00:00\", \"2020-09-24T00:00:00\", \"2020-09-23T00:00:00\", \"2020-09-22T00:00:00\", \"2020-09-21T00:00:00\", \"2020-09-18T00:00:00\", \"2020-09-17T00:00:00\", \"2020-09-16T00:00:00\", \"2020-09-15T00:00:00\", \"2020-09-14T00:00:00\", \"2020-09-11T00:00:00\", \"2020-09-10T00:00:00\", \"2020-09-09T00:00:00\", \"2020-09-08T00:00:00\", \"2020-09-04T00:00:00\", \"2020-09-03T00:00:00\", \"2020-09-02T00:00:00\", \"2020-09-01T00:00:00\", \"2020-08-31T00:00:00\", \"2020-08-28T00:00:00\", \"2020-08-27T00:00:00\", \"2020-08-26T00:00:00\", \"2020-08-25T00:00:00\", \"2020-08-25T00:00:00\", \"2020-08-24T00:00:00\", \"2020-08-21T00:00:00\", \"2020-08-20T00:00:00\", \"2020-08-19T00:00:00\", \"2020-08-18T00:00:00\", \"2020-08-17T00:00:00\", \"2020-08-14T00:00:00\", \"2020-08-13T00:00:00\", \"2020-08-12T00:00:00\", \"2020-08-11T00:00:00\", \"2020-08-10T00:00:00\", \"2020-08-07T00:00:00\", \"2020-08-06T00:00:00\", \"2020-08-05T00:00:00\", \"2020-08-04T00:00:00\", \"2020-08-03T00:00:00\", \"2020-07-31T00:00:00\", \"2020-07-30T00:00:00\", \"2020-07-29T00:00:00\", \"2020-07-28T00:00:00\", \"2020-07-27T00:00:00\", \"2020-07-24T00:00:00\", \"2020-07-23T00:00:00\", \"2020-07-22T00:00:00\", \"2020-07-21T00:00:00\", \"2020-07-20T00:00:00\", \"2020-07-17T00:00:00\", \"2020-07-16T00:00:00\", \"2020-07-15T00:00:00\", \"2020-07-14T00:00:00\", \"2020-07-13T00:00:00\", \"2020-07-10T00:00:00\", \"2020-07-09T00:00:00\", \"2020-07-08T00:00:00\"], \"xaxis\": \"x\", \"y\": [1263.0, 1261.0, 1257.0, 1255.0, 1254.0, 1255.0, 1249.0, 1239.0, 1239.0, 1237.0, 1234.0, 1233.0, 1225.0, 1224.0, 1222.0, 1222.0, 1218.0, 1212.0, 1211.0, 1206.0, 1205.0, 1203.0, 1189.0, 1183.0, 1179.0, 1177.0, 1167.0, 1160.0, 1148.0, 1144.0, 1139.0, 1123.0, 1122.0, 1114.0, 1093.0, 1092.0, 1077.0, 1072.0, 1069.0, 1056.0, 1056.0, 1049.0, 1015.0, 1003.0, 991.0, 985.0, 980.0, 956.0, 942.0, 929.0, 928.0, 915.0, 876.0, 871.0, 866.0, 849.0, 820.0, 768.0, 763.0, 754.0, 734.0, 706.0, 667.0, 655.0, 644.0, 611.0, 593.0, 562.0, 544.0, 500.0, 490.0, 471.0, 451.0, 437.0, 424.0], \"yaxis\": \"y\"}, {\"hovertemplate\": \"Area=Goleta<br>Date=%{x}<br>Total Confirmed Cases=%{y}<extra></extra>\", \"legendgroup\": \"Goleta\", \"line\": {\"color\": \"#EF553B\", \"dash\": \"solid\"}, \"mode\": \"lines\", \"name\": \"Goleta\", \"orientation\": \"v\", \"showlegend\": true, \"type\": \"scatter\", \"x\": [\"2020-10-20T00:00:00\", \"2020-10-19T00:00:00\", \"2020-10-16T00:00:00\", \"2020-10-15T00:00:00\", \"2020-10-14T00:00:00\", \"2020-10-13T00:00:00\", \"2020-10-12T00:00:00\", \"2020-10-09T00:00:00\", \"2020-10-08T00:00:00\", \"2020-10-07T00:00:00\", \"2020-10-06T00:00:00\", \"2020-10-05T00:00:00\", \"2020-10-02T00:00:00\", \"2020-10-01T00:00:00\", \"2020-09-30T00:00:00\", \"2020-09-29T00:00:00\", \"2020-09-28T00:00:00\", \"2020-09-25T00:00:00\", \"2020-09-24T00:00:00\", \"2020-09-23T00:00:00\", \"2020-09-22T00:00:00\", \"2020-09-21T00:00:00\", \"2020-09-18T00:00:00\", \"2020-09-17T00:00:00\", \"2020-09-16T00:00:00\", \"2020-09-15T00:00:00\", \"2020-09-14T00:00:00\", \"2020-09-11T00:00:00\", \"2020-09-10T00:00:00\", \"2020-09-09T00:00:00\", \"2020-09-08T00:00:00\", \"2020-09-04T00:00:00\", \"2020-09-03T00:00:00\", \"2020-09-02T00:00:00\", \"2020-09-01T00:00:00\", \"2020-08-31T00:00:00\", \"2020-08-28T00:00:00\", \"2020-08-27T00:00:00\", \"2020-08-26T00:00:00\", \"2020-08-25T00:00:00\", \"2020-08-25T00:00:00\", \"2020-08-24T00:00:00\", \"2020-08-21T00:00:00\", \"2020-08-20T00:00:00\", \"2020-08-19T00:00:00\", \"2020-08-18T00:00:00\", \"2020-08-17T00:00:00\", \"2020-08-14T00:00:00\", \"2020-08-13T00:00:00\", \"2020-08-12T00:00:00\", \"2020-08-11T00:00:00\", \"2020-08-10T00:00:00\", \"2020-08-07T00:00:00\", \"2020-08-06T00:00:00\", \"2020-08-05T00:00:00\", \"2020-08-04T00:00:00\", \"2020-08-03T00:00:00\", \"2020-07-31T00:00:00\", \"2020-07-30T00:00:00\", \"2020-07-29T00:00:00\", \"2020-07-28T00:00:00\", \"2020-07-27T00:00:00\", \"2020-07-24T00:00:00\", \"2020-07-23T00:00:00\", \"2020-07-22T00:00:00\", \"2020-07-21T00:00:00\", \"2020-07-20T00:00:00\", \"2020-07-17T00:00:00\", \"2020-07-16T00:00:00\", \"2020-07-15T00:00:00\", \"2020-07-14T00:00:00\", \"2020-07-13T00:00:00\", \"2020-07-10T00:00:00\", \"2020-07-09T00:00:00\", \"2020-07-08T00:00:00\"], \"xaxis\": \"x\", \"y\": [273.0, 272.0, 270.0, 271.0, 271.0, 269.0, 268.0, 266.0, 266.0, 265.0, 263.0, 262.0, 259.0, 257.0, 256.0, 256.0, 255.0, 254.0, 253.0, 251.0, 250.0, 248.0, 246.0, 245.0, 245.0, 242.0, 240.0, 233.0, 231.0, 229.0, 227.0, 216.0, 217.0, 217.0, 212.0, 212.0, 207.0, 205.0, 204.0, 203.0, 203.0, 202.0, 199.0, 193.0, 189.0, 187.0, 185.0, 174.0, 172.0, 169.0, 170.0, 169.0, 155.0, 154.0, 151.0, 147.0, 144.0, 138.0, 137.0, 134.0, 131.0, 131.0, 121.0, 118.0, 118.0, 114.0, 111.0, 101.0, 98.0, 93.0, 90.0, 85.0, 82.0, 82.0, 79.0], \"yaxis\": \"y\"}, {\"hovertemplate\": \"Area=Isla Vista<br>Date=%{x}<br>Total Confirmed Cases=%{y}<extra></extra>\", \"legendgroup\": \"Isla Vista\", \"line\": {\"color\": \"#00cc96\", \"dash\": \"solid\"}, \"mode\": \"lines\", \"name\": \"Isla Vista\", \"orientation\": \"v\", \"showlegend\": true, \"type\": \"scatter\", \"x\": [\"2020-10-20T00:00:00\", \"2020-10-19T00:00:00\", \"2020-10-16T00:00:00\", \"2020-10-15T00:00:00\", \"2020-10-14T00:00:00\", \"2020-10-13T00:00:00\", \"2020-10-12T00:00:00\", \"2020-10-09T00:00:00\", \"2020-10-08T00:00:00\", \"2020-10-07T00:00:00\", \"2020-10-06T00:00:00\", \"2020-10-05T00:00:00\", \"2020-10-02T00:00:00\", \"2020-10-01T00:00:00\", \"2020-09-30T00:00:00\", \"2020-09-29T00:00:00\", \"2020-09-28T00:00:00\", \"2020-09-25T00:00:00\", \"2020-09-24T00:00:00\", \"2020-09-23T00:00:00\", \"2020-09-22T00:00:00\", \"2020-09-21T00:00:00\", \"2020-09-18T00:00:00\", \"2020-09-17T00:00:00\", \"2020-09-16T00:00:00\", \"2020-09-15T00:00:00\", \"2020-09-14T00:00:00\", \"2020-09-11T00:00:00\", \"2020-09-10T00:00:00\", \"2020-09-09T00:00:00\", \"2020-09-08T00:00:00\", \"2020-09-04T00:00:00\", \"2020-09-03T00:00:00\", \"2020-09-02T00:00:00\", \"2020-09-01T00:00:00\", \"2020-08-31T00:00:00\", \"2020-08-28T00:00:00\", \"2020-08-27T00:00:00\", \"2020-08-26T00:00:00\", \"2020-08-25T00:00:00\", \"2020-08-25T00:00:00\", \"2020-08-24T00:00:00\", \"2020-08-21T00:00:00\", \"2020-08-20T00:00:00\", \"2020-08-19T00:00:00\", \"2020-08-18T00:00:00\", \"2020-08-17T00:00:00\", \"2020-08-14T00:00:00\", \"2020-08-13T00:00:00\", \"2020-08-12T00:00:00\", \"2020-08-11T00:00:00\", \"2020-08-10T00:00:00\", \"2020-08-07T00:00:00\", \"2020-08-06T00:00:00\", \"2020-08-05T00:00:00\", \"2020-08-04T00:00:00\", \"2020-08-03T00:00:00\", \"2020-07-31T00:00:00\", \"2020-07-30T00:00:00\", \"2020-07-29T00:00:00\", \"2020-07-28T00:00:00\", \"2020-07-27T00:00:00\", \"2020-07-24T00:00:00\", \"2020-07-23T00:00:00\", \"2020-07-22T00:00:00\", \"2020-07-21T00:00:00\", \"2020-07-20T00:00:00\", \"2020-07-17T00:00:00\", \"2020-07-16T00:00:00\", \"2020-07-15T00:00:00\", \"2020-07-14T00:00:00\", \"2020-07-13T00:00:00\", \"2020-07-10T00:00:00\", \"2020-07-09T00:00:00\", \"2020-07-08T00:00:00\"], \"xaxis\": \"x\", \"y\": [298.0, 293.0, 269.0, 266.0, 262.0, 255.0, 255.0, 250.0, 246.0, 244.0, 244.0, 242.0, 240.0, 239.0, 238.0, 234.0, 234.0, 229.0, 226.0, 219.0, 218.0, 214.0, 209.0, 207.0, 200.0, 193.0, 186.0, 180.0, 178.0, 172.0, 168.0, 161.0, 160.0, 153.0, 146.0, 146.0, 142.0, 141.0, 141.0, 140.0, 140.0, 141.0, 135.0, 131.0, 128.0, 127.0, 127.0, 116.0, 103.0, 97.0, 96.0, 94.0, 74.0, 69.0, 56.0, 55.0, 53.0, 45.0, 45.0, 45.0, 41.0, 41.0, 40.0, 37.0, 35.0, 34.0, 31.0, 29.0, 29.0, 28.0, 28.0, 28.0, 27.0, 26.0, 26.0], \"yaxis\": \"y\"}, {\"hovertemplate\": \"Area=Goleta Valley/Gaviota<br>Date=%{x}<br>Total Confirmed Cases=%{y}<extra></extra>\", \"legendgroup\": \"Goleta Valley/Gaviota\", \"line\": {\"color\": \"#ab63fa\", \"dash\": \"solid\"}, \"mode\": \"lines\", \"name\": \"Goleta Valley/Gaviota\", \"orientation\": \"v\", \"showlegend\": true, \"type\": \"scatter\", \"x\": [\"2020-10-20T00:00:00\", \"2020-10-19T00:00:00\", \"2020-10-16T00:00:00\", \"2020-10-15T00:00:00\", \"2020-10-14T00:00:00\", \"2020-10-13T00:00:00\", \"2020-10-12T00:00:00\", \"2020-10-09T00:00:00\", \"2020-10-08T00:00:00\", \"2020-10-07T00:00:00\", \"2020-10-06T00:00:00\", \"2020-10-05T00:00:00\", \"2020-10-02T00:00:00\", \"2020-10-01T00:00:00\", \"2020-09-30T00:00:00\", \"2020-09-29T00:00:00\", \"2020-09-28T00:00:00\", \"2020-09-25T00:00:00\", \"2020-09-24T00:00:00\", \"2020-09-23T00:00:00\", \"2020-09-22T00:00:00\", \"2020-09-21T00:00:00\", \"2020-09-18T00:00:00\", \"2020-09-17T00:00:00\", \"2020-09-16T00:00:00\", \"2020-09-15T00:00:00\", \"2020-09-14T00:00:00\", \"2020-09-11T00:00:00\", \"2020-09-10T00:00:00\", \"2020-09-09T00:00:00\", \"2020-09-08T00:00:00\", \"2020-09-04T00:00:00\", \"2020-09-03T00:00:00\", \"2020-09-02T00:00:00\", \"2020-09-01T00:00:00\", \"2020-08-31T00:00:00\", \"2020-08-28T00:00:00\", \"2020-08-27T00:00:00\", \"2020-08-26T00:00:00\", \"2020-08-25T00:00:00\", \"2020-08-25T00:00:00\", \"2020-08-24T00:00:00\", \"2020-08-21T00:00:00\", \"2020-08-20T00:00:00\", \"2020-08-19T00:00:00\", \"2020-08-18T00:00:00\", \"2020-08-17T00:00:00\", \"2020-08-14T00:00:00\", \"2020-08-13T00:00:00\", \"2020-08-12T00:00:00\", \"2020-08-11T00:00:00\", \"2020-08-10T00:00:00\", \"2020-08-07T00:00:00\", \"2020-08-06T00:00:00\", \"2020-08-05T00:00:00\", \"2020-08-04T00:00:00\", \"2020-08-03T00:00:00\", \"2020-07-31T00:00:00\", \"2020-07-30T00:00:00\", \"2020-07-29T00:00:00\", \"2020-07-28T00:00:00\", \"2020-07-27T00:00:00\", \"2020-07-24T00:00:00\", \"2020-07-23T00:00:00\", \"2020-07-22T00:00:00\", \"2020-07-21T00:00:00\", \"2020-07-20T00:00:00\", \"2020-07-17T00:00:00\", \"2020-07-16T00:00:00\", \"2020-07-15T00:00:00\", \"2020-07-14T00:00:00\", \"2020-07-13T00:00:00\", \"2020-07-10T00:00:00\", \"2020-07-09T00:00:00\", \"2020-07-08T00:00:00\"], \"xaxis\": \"x\", \"y\": [216.0, 216.0, 214.0, 212.0, 211.0, 211.0, 209.0, 205.0, 203.0, 202.0, 202.0, 202.0, 201.0, 201.0, 201.0, 200.0, 199.0, 198.0, 198.0, 197.0, 197.0, 197.0, 192.0, 192.0, 192.0, 189.0, 187.0, 183.0, 182.0, 181.0, 178.0, 176.0, 174.0, 173.0, 171.0, 171.0, 155.0, 151.0, 149.0, 146.0, 146.0, 145.0, 139.0, 139.0, 139.0, 137.0, 131.0, 127.0, 125.0, 125.0, 125.0, 123.0, 116.0, 115.0, 114.0, 112.0, 108.0, 105.0, 102.0, 102.0, 99.0, 97.0, 94.0, 95.0, 92.0, 86.0, 84.0, 77.0, 74.0, 69.0, 69.0, 68.0, 61.0, 59.0, 58.0], \"yaxis\": \"y\"}, {\"hovertemplate\": \"Area=Santa Ynez Valley<br>Date=%{x}<br>Total Confirmed Cases=%{y}<extra></extra>\", \"legendgroup\": \"Santa Ynez Valley\", \"line\": {\"color\": \"#FFA15A\", \"dash\": \"solid\"}, \"mode\": \"lines\", \"name\": \"Santa Ynez Valley\", \"orientation\": \"v\", \"showlegend\": true, \"type\": \"scatter\", \"x\": [\"2020-10-20T00:00:00\", \"2020-10-19T00:00:00\", \"2020-10-16T00:00:00\", \"2020-10-15T00:00:00\", \"2020-10-14T00:00:00\", \"2020-10-13T00:00:00\", \"2020-10-12T00:00:00\", \"2020-10-09T00:00:00\", \"2020-10-08T00:00:00\", \"2020-10-07T00:00:00\", \"2020-10-06T00:00:00\", \"2020-10-05T00:00:00\", \"2020-10-02T00:00:00\", \"2020-10-01T00:00:00\", \"2020-09-30T00:00:00\", \"2020-09-29T00:00:00\", \"2020-09-28T00:00:00\", \"2020-09-25T00:00:00\", \"2020-09-24T00:00:00\", \"2020-09-23T00:00:00\", \"2020-09-22T00:00:00\", \"2020-09-21T00:00:00\", \"2020-09-18T00:00:00\", \"2020-09-17T00:00:00\", \"2020-09-16T00:00:00\", \"2020-09-15T00:00:00\", \"2020-09-14T00:00:00\", \"2020-09-11T00:00:00\", \"2020-09-10T00:00:00\", \"2020-09-09T00:00:00\", \"2020-09-08T00:00:00\", \"2020-09-04T00:00:00\", \"2020-09-03T00:00:00\", \"2020-09-02T00:00:00\", \"2020-09-01T00:00:00\", \"2020-08-31T00:00:00\", \"2020-08-28T00:00:00\", \"2020-08-27T00:00:00\", \"2020-08-26T00:00:00\", \"2020-08-25T00:00:00\", \"2020-08-25T00:00:00\", \"2020-08-24T00:00:00\", \"2020-08-21T00:00:00\", \"2020-08-20T00:00:00\", \"2020-08-19T00:00:00\", \"2020-08-18T00:00:00\", \"2020-08-17T00:00:00\", \"2020-08-14T00:00:00\", \"2020-08-13T00:00:00\", \"2020-08-12T00:00:00\", \"2020-08-11T00:00:00\", \"2020-08-10T00:00:00\", \"2020-08-07T00:00:00\", \"2020-08-06T00:00:00\", \"2020-08-05T00:00:00\", \"2020-08-04T00:00:00\", \"2020-08-03T00:00:00\", \"2020-07-31T00:00:00\", \"2020-07-30T00:00:00\", \"2020-07-29T00:00:00\", \"2020-07-28T00:00:00\", \"2020-07-27T00:00:00\", \"2020-07-24T00:00:00\", \"2020-07-23T00:00:00\", \"2020-07-22T00:00:00\", \"2020-07-21T00:00:00\", \"2020-07-20T00:00:00\", \"2020-07-17T00:00:00\", \"2020-07-16T00:00:00\", \"2020-07-15T00:00:00\", \"2020-07-14T00:00:00\", \"2020-07-13T00:00:00\", \"2020-07-10T00:00:00\", \"2020-07-09T00:00:00\", \"2020-07-08T00:00:00\"], \"xaxis\": \"x\", \"y\": [178.0, 177.0, 176.0, 174.0, 172.0, 170.0, 168.0, 160.0, 160.0, 160.0, 158.0, 157.0, 155.0, 153.0, 152.0, 152.0, 152.0, 152.0, 153.0, 151.0, 149.0, 147.0, 142.0, 142.0, 142.0, 141.0, 138.0, 131.0, 131.0, 128.0, 126.0, 122.0, 121.0, 121.0, 119.0, 118.0, 113.0, 110.0, 108.0, 105.0, 105.0, 103.0, 97.0, 91.0, 87.0, 87.0, 87.0, 86.0, 85.0, 81.0, 80.0, 80.0, 75.0, 74.0, 74.0, 74.0, 74.0, 71.0, 71.0, 67.0, 67.0, 66.0, 63.0, 61.0, 59.0, 58.0, 54.0, 51.0, 49.0, 43.0, 39.0, 34.0, 32.0, 30.0, 27.0], \"yaxis\": \"y\"}, {\"hovertemplate\": \"Area=Lompoc<br>Date=%{x}<br>Total Confirmed Cases=%{y}<extra></extra>\", \"legendgroup\": \"Lompoc\", \"line\": {\"color\": \"#19d3f3\", \"dash\": \"solid\"}, \"mode\": \"lines\", \"name\": \"Lompoc\", \"orientation\": \"v\", \"showlegend\": true, \"type\": \"scatter\", \"x\": [\"2020-10-20T00:00:00\", \"2020-10-19T00:00:00\", \"2020-10-16T00:00:00\", \"2020-10-15T00:00:00\", \"2020-10-14T00:00:00\", \"2020-10-13T00:00:00\", \"2020-10-12T00:00:00\", \"2020-10-09T00:00:00\", \"2020-10-08T00:00:00\", \"2020-10-07T00:00:00\", \"2020-10-06T00:00:00\", \"2020-10-05T00:00:00\", \"2020-10-02T00:00:00\", \"2020-10-01T00:00:00\", \"2020-09-30T00:00:00\", \"2020-09-29T00:00:00\", \"2020-09-28T00:00:00\", \"2020-09-25T00:00:00\", \"2020-09-24T00:00:00\", \"2020-09-23T00:00:00\", \"2020-09-22T00:00:00\", \"2020-09-21T00:00:00\", \"2020-09-18T00:00:00\", \"2020-09-17T00:00:00\", \"2020-09-16T00:00:00\", \"2020-09-15T00:00:00\", \"2020-09-14T00:00:00\", \"2020-09-11T00:00:00\", \"2020-09-10T00:00:00\", \"2020-09-09T00:00:00\", \"2020-09-08T00:00:00\", \"2020-09-04T00:00:00\", \"2020-09-03T00:00:00\", \"2020-09-02T00:00:00\", \"2020-09-01T00:00:00\", \"2020-08-31T00:00:00\", \"2020-08-28T00:00:00\", \"2020-08-27T00:00:00\", \"2020-08-26T00:00:00\", \"2020-08-25T00:00:00\", \"2020-08-25T00:00:00\", \"2020-08-24T00:00:00\", \"2020-08-21T00:00:00\", \"2020-08-20T00:00:00\", \"2020-08-19T00:00:00\", \"2020-08-18T00:00:00\", \"2020-08-17T00:00:00\", \"2020-08-14T00:00:00\", \"2020-08-13T00:00:00\", \"2020-08-12T00:00:00\", \"2020-08-11T00:00:00\", \"2020-08-10T00:00:00\", \"2020-08-07T00:00:00\", \"2020-08-06T00:00:00\", \"2020-08-05T00:00:00\", \"2020-08-04T00:00:00\", \"2020-08-03T00:00:00\", \"2020-07-31T00:00:00\", \"2020-07-30T00:00:00\", \"2020-07-29T00:00:00\", \"2020-07-28T00:00:00\", \"2020-07-27T00:00:00\", \"2020-07-24T00:00:00\", \"2020-07-23T00:00:00\", \"2020-07-22T00:00:00\", \"2020-07-21T00:00:00\", \"2020-07-20T00:00:00\", \"2020-07-17T00:00:00\", \"2020-07-16T00:00:00\", \"2020-07-15T00:00:00\", \"2020-07-14T00:00:00\", \"2020-07-13T00:00:00\", \"2020-07-10T00:00:00\", \"2020-07-09T00:00:00\", \"2020-07-08T00:00:00\"], \"xaxis\": \"x\", \"y\": [912.0, 910.0, 899.0, 899.0, 896.0, 895.0, 894.0, 882.0, 877.0, 874.0, 869.0, 865.0, 851.0, 846.0, 844.0, 838.0, 834.0, 820.0, 810.0, 806.0, 805.0, 802.0, 793.0, 785.0, 781.0, 775.0, 770.0, 753.0, 750.0, 748.0, 743.0, 723.0, 700.0, 675.0, 654.0, 653.0, 637.0, 629.0, 625.0, 624.0, 624.0, 607.0, 590.0, 585.0, 579.0, 576.0, 574.0, 554.0, 542.0, 536.0, 533.0, 528.0, 499.0, 491.0, 486.0, 480.0, 479.0, 447.0, 442.0, 431.0, 425.0, 415.0, 382.0, 370.0, 354.0, 333.0, 321.0, 288.0, 271.0, 252.0, 242.0, 226.0, 216.0, 206.0, 201.0], \"yaxis\": \"y\"}, {\"hovertemplate\": \"Area=Federal Prison in Lompoc<br>Date=%{x}<br>Total Confirmed Cases=%{y}<extra></extra>\", \"legendgroup\": \"Federal Prison in Lompoc\", \"line\": {\"color\": \"#FF6692\", \"dash\": \"solid\"}, \"mode\": \"lines\", \"name\": \"Federal Prison in Lompoc\", \"orientation\": \"v\", \"showlegend\": true, \"type\": \"scatter\", \"x\": [\"2020-10-20T00:00:00\", \"2020-10-19T00:00:00\", \"2020-10-16T00:00:00\", \"2020-10-15T00:00:00\", \"2020-10-14T00:00:00\", \"2020-10-13T00:00:00\", \"2020-10-12T00:00:00\", \"2020-10-09T00:00:00\", \"2020-10-08T00:00:00\", \"2020-10-07T00:00:00\", \"2020-10-06T00:00:00\", \"2020-10-05T00:00:00\", \"2020-10-02T00:00:00\", \"2020-10-01T00:00:00\", \"2020-09-30T00:00:00\", \"2020-09-29T00:00:00\", \"2020-09-28T00:00:00\", \"2020-09-25T00:00:00\", \"2020-09-24T00:00:00\", \"2020-09-23T00:00:00\", \"2020-09-22T00:00:00\", \"2020-09-21T00:00:00\", \"2020-09-18T00:00:00\", \"2020-09-17T00:00:00\", \"2020-09-16T00:00:00\", \"2020-09-15T00:00:00\", \"2020-09-14T00:00:00\", \"2020-09-11T00:00:00\", \"2020-09-10T00:00:00\", \"2020-09-09T00:00:00\", \"2020-09-08T00:00:00\", \"2020-09-04T00:00:00\", \"2020-09-03T00:00:00\", \"2020-09-02T00:00:00\", \"2020-09-01T00:00:00\", \"2020-08-31T00:00:00\", \"2020-08-28T00:00:00\", \"2020-08-27T00:00:00\", \"2020-08-26T00:00:00\", \"2020-08-25T00:00:00\", \"2020-08-25T00:00:00\", \"2020-08-24T00:00:00\", \"2020-08-21T00:00:00\", \"2020-08-20T00:00:00\", \"2020-08-19T00:00:00\", \"2020-08-18T00:00:00\", \"2020-08-17T00:00:00\", \"2020-08-14T00:00:00\", \"2020-08-13T00:00:00\", \"2020-08-12T00:00:00\", \"2020-08-11T00:00:00\", \"2020-08-10T00:00:00\", \"2020-08-07T00:00:00\", \"2020-08-06T00:00:00\", \"2020-08-05T00:00:00\", \"2020-08-04T00:00:00\", \"2020-08-03T00:00:00\", \"2020-07-31T00:00:00\", \"2020-07-30T00:00:00\", \"2020-07-29T00:00:00\", \"2020-07-28T00:00:00\", \"2020-07-27T00:00:00\", \"2020-07-24T00:00:00\", \"2020-07-23T00:00:00\", \"2020-07-22T00:00:00\", \"2020-07-21T00:00:00\", \"2020-07-20T00:00:00\", \"2020-07-17T00:00:00\", \"2020-07-16T00:00:00\", \"2020-07-15T00:00:00\", \"2020-07-14T00:00:00\", \"2020-07-13T00:00:00\", \"2020-07-10T00:00:00\", \"2020-07-09T00:00:00\", \"2020-07-08T00:00:00\"], \"xaxis\": \"x\", \"y\": [1026.0, 1026.0, 1026.0, 1026.0, 1026.0, 1026.0, 1025.0, 1025.0, 1025.0, 1025.0, 1025.0, 1024.0, 1024.0, 1024.0, 1024.0, 1024.0, 1024.0, 1024.0, 1024.0, 1024.0, 1024.0, 1024.0, 1026.0, 1024.0, 1024.0, 1024.0, 1024.0, 1024.0, 1024.0, 1024.0, 1023.0, 1023.0, 1023.0, 1022.0, 1022.0, 1019.0, 1019.0, 1019.0, 1019.0, 1019.0, 1019.0, 1019.0, 1019.0, 1019.0, 1019.0, 1019.0, 1019.0, 1019.0, 1019.0, 1019.0, 1019.0, 1019.0, 1019.0, 1019.0, 1019.0, 1019.0, 1019.0, 1011.0, 1011.0, 1011.0, 1011.0, 1011.0, 1011.0, 1010.0, 1010.0, 1010.0, 1009.0, 1007.0, 1001.0, 1000.0, 998.0, 998.0, 998.0, 998.0, 984.0], \"yaxis\": \"y\"}, {\"hovertemplate\": \"Area=Santa Maria<br>Date=%{x}<br>Total Confirmed Cases=%{y}<extra></extra>\", \"legendgroup\": \"Santa Maria\", \"line\": {\"color\": \"#B6E880\", \"dash\": \"solid\"}, \"mode\": \"lines\", \"name\": \"Santa Maria\", \"orientation\": \"v\", \"showlegend\": true, \"type\": \"scatter\", \"x\": [\"2020-10-20T00:00:00\", \"2020-10-19T00:00:00\", \"2020-10-16T00:00:00\", \"2020-10-15T00:00:00\", \"2020-10-14T00:00:00\", \"2020-10-13T00:00:00\", \"2020-10-12T00:00:00\", \"2020-10-09T00:00:00\", \"2020-10-08T00:00:00\", \"2020-10-07T00:00:00\", \"2020-10-06T00:00:00\", \"2020-10-05T00:00:00\", \"2020-10-02T00:00:00\", \"2020-10-01T00:00:00\", \"2020-09-30T00:00:00\", \"2020-09-29T00:00:00\", \"2020-09-28T00:00:00\", \"2020-09-25T00:00:00\", \"2020-09-24T00:00:00\", \"2020-09-23T00:00:00\", \"2020-09-22T00:00:00\", \"2020-09-21T00:00:00\", \"2020-09-18T00:00:00\", \"2020-09-17T00:00:00\", \"2020-09-16T00:00:00\", \"2020-09-15T00:00:00\", \"2020-09-14T00:00:00\", \"2020-09-11T00:00:00\", \"2020-09-10T00:00:00\", \"2020-09-09T00:00:00\", \"2020-09-08T00:00:00\", \"2020-09-04T00:00:00\", \"2020-09-03T00:00:00\", \"2020-09-02T00:00:00\", \"2020-09-01T00:00:00\", \"2020-08-31T00:00:00\", \"2020-08-28T00:00:00\", \"2020-08-27T00:00:00\", \"2020-08-26T00:00:00\", \"2020-08-25T00:00:00\", \"2020-08-25T00:00:00\", \"2020-08-24T00:00:00\", \"2020-08-21T00:00:00\", \"2020-08-20T00:00:00\", \"2020-08-19T00:00:00\", \"2020-08-18T00:00:00\", \"2020-08-17T00:00:00\", \"2020-08-14T00:00:00\", \"2020-08-13T00:00:00\", \"2020-08-12T00:00:00\", \"2020-08-11T00:00:00\", \"2020-08-10T00:00:00\", \"2020-08-07T00:00:00\", \"2020-08-06T00:00:00\", \"2020-08-05T00:00:00\", \"2020-08-04T00:00:00\", \"2020-08-03T00:00:00\", \"2020-07-31T00:00:00\", \"2020-07-30T00:00:00\", \"2020-07-29T00:00:00\", \"2020-07-28T00:00:00\", \"2020-07-27T00:00:00\", \"2020-07-24T00:00:00\", \"2020-07-23T00:00:00\", \"2020-07-22T00:00:00\", \"2020-07-21T00:00:00\", \"2020-07-20T00:00:00\", \"2020-07-17T00:00:00\", \"2020-07-16T00:00:00\", \"2020-07-15T00:00:00\", \"2020-07-14T00:00:00\", \"2020-07-13T00:00:00\", \"2020-07-10T00:00:00\", \"2020-07-09T00:00:00\", \"2020-07-08T00:00:00\"], \"xaxis\": \"x\", \"y\": [4089.0, 4091.0, 4073.0, 4068.0, 4064.0, 4060.0, 4052.0, 4012.0, 4004.0, 4000.0, 3991.0, 3984.0, 3953.0, 3941.0, 3927.0, 3913.0, 3900.0, 3859.0, 3848.0, 3842.0, 3838.0, 3827.0, 3795.0, 3778.0, 3774.0, 3764.0, 3748.0, 3715.0, 3708.0, 3702.0, 3685.0, 3651.0, 3625.0, 3604.0, 3574.0, 3564.0, 3536.0, 3508.0, 3492.0, 3475.0, 3475.0, 3441.0, 3387.0, 3364.0, 3334.0, 3324.0, 3323.0, 3252.0, 3199.0, 3175.0, 3176.0, 3129.0, 3012.0, 2990.0, 2960.0, 2941.0, 2929.0, 2789.0, 2742.0, 2709.0, 2677.0, 2622.0, 2496.0, 2420.0, 2327.0, 2265.0, 2199.0, 2099.0, 2036.0, 1924.0, 1869.0, 1754.0, 1628.0, 1601.0, 1572.0], \"yaxis\": \"y\"}, {\"hovertemplate\": \"Area=Orcutt<br>Date=%{x}<br>Total Confirmed Cases=%{y}<extra></extra>\", \"legendgroup\": \"Orcutt\", \"line\": {\"color\": \"#FF97FF\", \"dash\": \"solid\"}, \"mode\": \"lines\", \"name\": \"Orcutt\", \"orientation\": \"v\", \"showlegend\": true, \"type\": \"scatter\", \"x\": [\"2020-10-20T00:00:00\", \"2020-10-19T00:00:00\", \"2020-10-16T00:00:00\", \"2020-10-15T00:00:00\", \"2020-10-14T00:00:00\", \"2020-10-13T00:00:00\", \"2020-10-12T00:00:00\", \"2020-10-09T00:00:00\", \"2020-10-08T00:00:00\", \"2020-10-07T00:00:00\", \"2020-10-06T00:00:00\", \"2020-10-05T00:00:00\", \"2020-10-02T00:00:00\", \"2020-10-01T00:00:00\", \"2020-09-30T00:00:00\", \"2020-09-29T00:00:00\", \"2020-09-28T00:00:00\", \"2020-09-25T00:00:00\", \"2020-09-24T00:00:00\", \"2020-09-23T00:00:00\", \"2020-09-22T00:00:00\", \"2020-09-21T00:00:00\", \"2020-09-18T00:00:00\", \"2020-09-17T00:00:00\", \"2020-09-16T00:00:00\", \"2020-09-15T00:00:00\", \"2020-09-14T00:00:00\", \"2020-09-11T00:00:00\", \"2020-09-10T00:00:00\", \"2020-09-09T00:00:00\", \"2020-09-08T00:00:00\", \"2020-09-04T00:00:00\", \"2020-09-03T00:00:00\", \"2020-09-02T00:00:00\", \"2020-09-01T00:00:00\", \"2020-08-31T00:00:00\", \"2020-08-28T00:00:00\", \"2020-08-27T00:00:00\", \"2020-08-26T00:00:00\", \"2020-08-25T00:00:00\", \"2020-08-25T00:00:00\", \"2020-08-24T00:00:00\", \"2020-08-21T00:00:00\", \"2020-08-20T00:00:00\", \"2020-08-19T00:00:00\", \"2020-08-18T00:00:00\", \"2020-08-17T00:00:00\", \"2020-08-14T00:00:00\", \"2020-08-13T00:00:00\", \"2020-08-12T00:00:00\", \"2020-08-11T00:00:00\", \"2020-08-10T00:00:00\", \"2020-08-07T00:00:00\", \"2020-08-06T00:00:00\", \"2020-08-05T00:00:00\", \"2020-08-04T00:00:00\", \"2020-08-03T00:00:00\", \"2020-07-31T00:00:00\", \"2020-07-30T00:00:00\", \"2020-07-29T00:00:00\", \"2020-07-28T00:00:00\", \"2020-07-27T00:00:00\", \"2020-07-24T00:00:00\", \"2020-07-23T00:00:00\", \"2020-07-22T00:00:00\", \"2020-07-21T00:00:00\", \"2020-07-20T00:00:00\", \"2020-07-17T00:00:00\", \"2020-07-16T00:00:00\", \"2020-07-15T00:00:00\", \"2020-07-14T00:00:00\", \"2020-07-13T00:00:00\", \"2020-07-10T00:00:00\", \"2020-07-09T00:00:00\", \"2020-07-08T00:00:00\"], \"xaxis\": \"x\", \"y\": [363.0, 357.0, 351.0, 347.0, 347.0, 347.0, 345.0, 341.0, 340.0, 335.0, 334.0, 334.0, 330.0, 329.0, 328.0, 327.0, 326.0, 318.0, 314.0, 313.0, 310.0, 310.0, 305.0, 305.0, 305.0, 298.0, 293.0, 287.0, 287.0, 285.0, 283.0, 274.0, 274.0, 272.0, 269.0, 268.0, 260.0, 255.0, 254.0, 254.0, 254.0, 252.0, 247.0, 244.0, 243.0, 240.0, 240.0, 233.0, 229.0, 227.0, 226.0, 223.0, 214.0, 213.0, 210.0, 208.0, 207.0, 197.0, 196.0, 195.0, 192.0, 187.0, 173.0, 172.0, 163.0, 157.0, 151.0, 143.0, 138.0, 134.0, 131.0, 123.0, 113.0, 111.0, 111.0], \"yaxis\": \"y\"}],                        {\"font\": {\"color\": \"white\", \"family\": \"Courier\"}, \"hovermode\": \"closest\", \"legend\": {\"orientation\": \"h\", \"title\": {\"text\": \"Area\"}, \"tracegroupgap\": 0, \"x\": 0, \"xanchor\": \"left\", \"y\": 1.02, \"yanchor\": \"bottom\"}, \"template\": {\"data\": {\"bar\": [{\"error_x\": {\"color\": \"#f2f5fa\"}, \"error_y\": {\"color\": \"#f2f5fa\"}, \"marker\": {\"line\": {\"color\": \"rgb(17,17,17)\", \"width\": 0.5}}, \"type\": \"bar\"}], \"barpolar\": [{\"marker\": {\"line\": {\"color\": \"rgb(17,17,17)\", \"width\": 0.5}}, \"type\": \"barpolar\"}], \"carpet\": [{\"aaxis\": {\"endlinecolor\": \"#A2B1C6\", \"gridcolor\": \"#506784\", \"linecolor\": \"#506784\", \"minorgridcolor\": \"#506784\", \"startlinecolor\": \"#A2B1C6\"}, \"baxis\": {\"endlinecolor\": \"#A2B1C6\", \"gridcolor\": \"#506784\", \"linecolor\": \"#506784\", \"minorgridcolor\": \"#506784\", \"startlinecolor\": \"#A2B1C6\"}, \"type\": \"carpet\"}], \"choropleth\": [{\"colorbar\": {\"outlinewidth\": 0, \"ticks\": \"\"}, \"type\": \"choropleth\"}], \"contour\": [{\"colorbar\": {\"outlinewidth\": 0, \"ticks\": \"\"}, \"colorscale\": [[0.0, \"#0d0887\"], [0.1111111111111111, \"#46039f\"], [0.2222222222222222, \"#7201a8\"], [0.3333333333333333, \"#9c179e\"], [0.4444444444444444, \"#bd3786\"], [0.5555555555555556, \"#d8576b\"], [0.6666666666666666, \"#ed7953\"], [0.7777777777777778, \"#fb9f3a\"], [0.8888888888888888, \"#fdca26\"], [1.0, \"#f0f921\"]], \"type\": \"contour\"}], \"contourcarpet\": [{\"colorbar\": {\"outlinewidth\": 0, \"ticks\": \"\"}, \"type\": \"contourcarpet\"}], \"heatmap\": [{\"colorbar\": {\"outlinewidth\": 0, \"ticks\": \"\"}, \"colorscale\": [[0.0, \"#0d0887\"], [0.1111111111111111, \"#46039f\"], [0.2222222222222222, \"#7201a8\"], [0.3333333333333333, \"#9c179e\"], [0.4444444444444444, \"#bd3786\"], [0.5555555555555556, \"#d8576b\"], [0.6666666666666666, \"#ed7953\"], [0.7777777777777778, \"#fb9f3a\"], [0.8888888888888888, \"#fdca26\"], [1.0, \"#f0f921\"]], \"type\": \"heatmap\"}], \"heatmapgl\": [{\"colorbar\": {\"outlinewidth\": 0, \"ticks\": \"\"}, \"colorscale\": [[0.0, \"#0d0887\"], [0.1111111111111111, \"#46039f\"], [0.2222222222222222, \"#7201a8\"], [0.3333333333333333, \"#9c179e\"], [0.4444444444444444, \"#bd3786\"], [0.5555555555555556, \"#d8576b\"], [0.6666666666666666, \"#ed7953\"], [0.7777777777777778, \"#fb9f3a\"], [0.8888888888888888, \"#fdca26\"], [1.0, \"#f0f921\"]], \"type\": \"heatmapgl\"}], \"histogram\": [{\"marker\": {\"colorbar\": {\"outlinewidth\": 0, \"ticks\": \"\"}}, \"type\": \"histogram\"}], \"histogram2d\": [{\"colorbar\": {\"outlinewidth\": 0, \"ticks\": \"\"}, \"colorscale\": [[0.0, \"#0d0887\"], [0.1111111111111111, \"#46039f\"], [0.2222222222222222, \"#7201a8\"], [0.3333333333333333, \"#9c179e\"], [0.4444444444444444, \"#bd3786\"], [0.5555555555555556, \"#d8576b\"], [0.6666666666666666, \"#ed7953\"], [0.7777777777777778, \"#fb9f3a\"], [0.8888888888888888, \"#fdca26\"], [1.0, \"#f0f921\"]], \"type\": \"histogram2d\"}], \"histogram2dcontour\": [{\"colorbar\": {\"outlinewidth\": 0, \"ticks\": \"\"}, \"colorscale\": [[0.0, \"#0d0887\"], [0.1111111111111111, \"#46039f\"], [0.2222222222222222, \"#7201a8\"], [0.3333333333333333, \"#9c179e\"], [0.4444444444444444, \"#bd3786\"], [0.5555555555555556, \"#d8576b\"], [0.6666666666666666, \"#ed7953\"], [0.7777777777777778, \"#fb9f3a\"], [0.8888888888888888, \"#fdca26\"], [1.0, \"#f0f921\"]], \"type\": \"histogram2dcontour\"}], \"mesh3d\": [{\"colorbar\": {\"outlinewidth\": 0, \"ticks\": \"\"}, \"type\": \"mesh3d\"}], \"parcoords\": [{\"line\": {\"colorbar\": {\"outlinewidth\": 0, \"ticks\": \"\"}}, \"type\": \"parcoords\"}], \"pie\": [{\"automargin\": true, \"type\": \"pie\"}], \"scatter\": [{\"marker\": {\"line\": {\"color\": \"#283442\"}}, \"type\": \"scatter\"}], \"scatter3d\": [{\"line\": {\"colorbar\": {\"outlinewidth\": 0, \"ticks\": \"\"}}, \"marker\": {\"colorbar\": {\"outlinewidth\": 0, \"ticks\": \"\"}}, \"type\": \"scatter3d\"}], \"scattercarpet\": [{\"marker\": {\"colorbar\": {\"outlinewidth\": 0, \"ticks\": \"\"}}, \"type\": \"scattercarpet\"}], \"scattergeo\": [{\"marker\": {\"colorbar\": {\"outlinewidth\": 0, \"ticks\": \"\"}}, \"type\": \"scattergeo\"}], \"scattergl\": [{\"marker\": {\"line\": {\"color\": \"#283442\"}}, \"type\": \"scattergl\"}], \"scattermapbox\": [{\"marker\": {\"colorbar\": {\"outlinewidth\": 0, \"ticks\": \"\"}}, \"type\": \"scattermapbox\"}], \"scatterpolar\": [{\"marker\": {\"colorbar\": {\"outlinewidth\": 0, \"ticks\": \"\"}}, \"type\": \"scatterpolar\"}], \"scatterpolargl\": [{\"marker\": {\"colorbar\": {\"outlinewidth\": 0, \"ticks\": \"\"}}, \"type\": \"scatterpolargl\"}], \"scatterternary\": [{\"marker\": {\"colorbar\": {\"outlinewidth\": 0, \"ticks\": \"\"}}, \"type\": \"scatterternary\"}], \"surface\": [{\"colorbar\": {\"outlinewidth\": 0, \"ticks\": \"\"}, \"colorscale\": [[0.0, \"#0d0887\"], [0.1111111111111111, \"#46039f\"], [0.2222222222222222, \"#7201a8\"], [0.3333333333333333, \"#9c179e\"], [0.4444444444444444, \"#bd3786\"], [0.5555555555555556, \"#d8576b\"], [0.6666666666666666, \"#ed7953\"], [0.7777777777777778, \"#fb9f3a\"], [0.8888888888888888, \"#fdca26\"], [1.0, \"#f0f921\"]], \"type\": \"surface\"}], \"table\": [{\"cells\": {\"fill\": {\"color\": \"#506784\"}, \"line\": {\"color\": \"rgb(17,17,17)\"}}, \"header\": {\"fill\": {\"color\": \"#2a3f5f\"}, \"line\": {\"color\": \"rgb(17,17,17)\"}}, \"type\": \"table\"}]}, \"layout\": {\"annotationdefaults\": {\"arrowcolor\": \"#f2f5fa\", \"arrowhead\": 0, \"arrowwidth\": 1}, \"coloraxis\": {\"colorbar\": {\"outlinewidth\": 0, \"ticks\": \"\"}}, \"colorscale\": {\"diverging\": [[0, \"#8e0152\"], [0.1, \"#c51b7d\"], [0.2, \"#de77ae\"], [0.3, \"#f1b6da\"], [0.4, \"#fde0ef\"], [0.5, \"#f7f7f7\"], [0.6, \"#e6f5d0\"], [0.7, \"#b8e186\"], [0.8, \"#7fbc41\"], [0.9, \"#4d9221\"], [1, \"#276419\"]], \"sequential\": [[0.0, \"#0d0887\"], [0.1111111111111111, \"#46039f\"], [0.2222222222222222, \"#7201a8\"], [0.3333333333333333, \"#9c179e\"], [0.4444444444444444, \"#bd3786\"], [0.5555555555555556, \"#d8576b\"], [0.6666666666666666, \"#ed7953\"], [0.7777777777777778, \"#fb9f3a\"], [0.8888888888888888, \"#fdca26\"], [1.0, \"#f0f921\"]], \"sequentialminus\": [[0.0, \"#0d0887\"], [0.1111111111111111, \"#46039f\"], [0.2222222222222222, \"#7201a8\"], [0.3333333333333333, \"#9c179e\"], [0.4444444444444444, \"#bd3786\"], [0.5555555555555556, \"#d8576b\"], [0.6666666666666666, \"#ed7953\"], [0.7777777777777778, \"#fb9f3a\"], [0.8888888888888888, \"#fdca26\"], [1.0, \"#f0f921\"]]}, \"colorway\": [\"#636efa\", \"#EF553B\", \"#00cc96\", \"#ab63fa\", \"#FFA15A\", \"#19d3f3\", \"#FF6692\", \"#B6E880\", \"#FF97FF\", \"#FECB52\"], \"font\": {\"color\": \"#f2f5fa\"}, \"geo\": {\"bgcolor\": \"rgb(17,17,17)\", \"lakecolor\": \"rgb(17,17,17)\", \"landcolor\": \"rgb(17,17,17)\", \"showlakes\": true, \"showland\": true, \"subunitcolor\": \"#506784\"}, \"hoverlabel\": {\"align\": \"left\"}, \"hovermode\": \"closest\", \"mapbox\": {\"style\": \"dark\"}, \"paper_bgcolor\": \"rgb(17,17,17)\", \"plot_bgcolor\": \"rgb(17,17,17)\", \"polar\": {\"angularaxis\": {\"gridcolor\": \"#506784\", \"linecolor\": \"#506784\", \"ticks\": \"\"}, \"bgcolor\": \"rgb(17,17,17)\", \"radialaxis\": {\"gridcolor\": \"#506784\", \"linecolor\": \"#506784\", \"ticks\": \"\"}}, \"scene\": {\"xaxis\": {\"backgroundcolor\": \"rgb(17,17,17)\", \"gridcolor\": \"#506784\", \"gridwidth\": 2, \"linecolor\": \"#506784\", \"showbackground\": true, \"ticks\": \"\", \"zerolinecolor\": \"#C8D4E3\"}, \"yaxis\": {\"backgroundcolor\": \"rgb(17,17,17)\", \"gridcolor\": \"#506784\", \"gridwidth\": 2, \"linecolor\": \"#506784\", \"showbackground\": true, \"ticks\": \"\", \"zerolinecolor\": \"#C8D4E3\"}, \"zaxis\": {\"backgroundcolor\": \"rgb(17,17,17)\", \"gridcolor\": \"#506784\", \"gridwidth\": 2, \"linecolor\": \"#506784\", \"showbackground\": true, \"ticks\": \"\", \"zerolinecolor\": \"#C8D4E3\"}}, \"shapedefaults\": {\"line\": {\"color\": \"#f2f5fa\"}}, \"sliderdefaults\": {\"bgcolor\": \"#C8D4E3\", \"bordercolor\": \"rgb(17,17,17)\", \"borderwidth\": 1, \"tickwidth\": 0}, \"ternary\": {\"aaxis\": {\"gridcolor\": \"#506784\", \"linecolor\": \"#506784\", \"ticks\": \"\"}, \"baxis\": {\"gridcolor\": \"#506784\", \"linecolor\": \"#506784\", \"ticks\": \"\"}, \"bgcolor\": \"rgb(17,17,17)\", \"caxis\": {\"gridcolor\": \"#506784\", \"linecolor\": \"#506784\", \"ticks\": \"\"}}, \"title\": {\"x\": 0.05}, \"updatemenudefaults\": {\"bgcolor\": \"#506784\", \"borderwidth\": 0}, \"xaxis\": {\"automargin\": true, \"gridcolor\": \"#283442\", \"linecolor\": \"#506784\", \"ticks\": \"\", \"title\": {\"standoff\": 15}, \"zerolinecolor\": \"#283442\", \"zerolinewidth\": 2}, \"yaxis\": {\"automargin\": true, \"gridcolor\": \"#283442\", \"linecolor\": \"#506784\", \"ticks\": \"\", \"title\": {\"standoff\": 15}, \"zerolinecolor\": \"#283442\", \"zerolinewidth\": 2}}}, \"title\": {\"font\": {\"size\": 24}, \"text\": \"Total Confirmed Cases by Region\"}, \"xaxis\": {\"anchor\": \"y\", \"domain\": [0.0, 1.0], \"title\": {\"text\": \"Date\"}}, \"yaxis\": {\"anchor\": \"x\", \"domain\": [0.0, 1.0], \"title\": {\"text\": \"Total Confirmed Cases\"}}},                        {\"responsive\": true}                    ).then(function(){\n",
              "                            \n",
              "var gd = document.getElementById('ef59bdca-eb0e-429e-a2e7-fb0c58e83f32');\n",
              "var x = new MutationObserver(function (mutations, observer) {{\n",
              "        var display = window.getComputedStyle(gd).display;\n",
              "        if (!display || display === 'none') {{\n",
              "            console.log([gd, 'removed!']);\n",
              "            Plotly.purge(gd);\n",
              "            observer.disconnect();\n",
              "        }}\n",
              "}});\n",
              "\n",
              "// Listen for the removal of the full notebook cells\n",
              "var notebookContainer = gd.closest('#notebook-container');\n",
              "if (notebookContainer) {{\n",
              "    x.observe(notebookContainer, {childList: true});\n",
              "}}\n",
              "\n",
              "// Listen for the clearing of the current output cell\n",
              "var outputEl = gd.closest('.output');\n",
              "if (outputEl) {{\n",
              "    x.observe(outputEl, {childList: true});\n",
              "}}\n",
              "\n",
              "                        })                };                            </script>        </div>\n",
              "</body>\n",
              "</html>"
            ]
          },
          "metadata": {
            "tags": []
          }
        }
      ]
    },
    {
      "cell_type": "code",
      "metadata": {
        "id": "bKAoBRm1qoXd",
        "outputId": "19d2b3cd-498e-4f33-fd3b-150b043ebc46",
        "colab": {
          "base_uri": "https://localhost:8080/",
          "height": 542
        }
      },
      "source": [
        "create_line_plot('Recovered Cases')"
      ],
      "execution_count": 162,
      "outputs": [
        {
          "output_type": "display_data",
          "data": {
            "text/html": [
              "<html>\n",
              "<head><meta charset=\"utf-8\" /></head>\n",
              "<body>\n",
              "    <div>            <script src=\"https://cdnjs.cloudflare.com/ajax/libs/mathjax/2.7.5/MathJax.js?config=TeX-AMS-MML_SVG\"></script><script type=\"text/javascript\">if (window.MathJax) {MathJax.Hub.Config({SVG: {font: \"STIX-Web\"}});}</script>                <script type=\"text/javascript\">window.PlotlyConfig = {MathJaxConfig: 'local'};</script>\n",
              "        <script src=\"https://cdn.plot.ly/plotly-latest.min.js\"></script>                <div id=\"e67cce74-f46d-4204-80b7-4c2405649186\" class=\"plotly-graph-div\" style=\"height:525px; width:100%;\"></div>            <script type=\"text/javascript\">                                    window.PLOTLYENV=window.PLOTLYENV || {};                                    if (document.getElementById(\"e67cce74-f46d-4204-80b7-4c2405649186\")) {                    Plotly.newPlot(                        \"e67cce74-f46d-4204-80b7-4c2405649186\",                        [{\"hovertemplate\": \"Area=Santa Barbara<br>Date=%{x}<br>Recovered=%{y}<extra></extra>\", \"legendgroup\": \"Santa Barbara\", \"line\": {\"color\": \"#636efa\", \"dash\": \"solid\"}, \"mode\": \"lines\", \"name\": \"Santa Barbara\", \"orientation\": \"v\", \"showlegend\": true, \"type\": \"scatter\", \"x\": [\"2020-10-20T00:00:00\", \"2020-10-19T00:00:00\", \"2020-10-16T00:00:00\", \"2020-10-15T00:00:00\", \"2020-10-14T00:00:00\", \"2020-10-13T00:00:00\", \"2020-10-12T00:00:00\", \"2020-10-09T00:00:00\", \"2020-10-08T00:00:00\", \"2020-10-07T00:00:00\", \"2020-10-06T00:00:00\", \"2020-10-05T00:00:00\", \"2020-10-02T00:00:00\", \"2020-10-01T00:00:00\", \"2020-09-30T00:00:00\", \"2020-09-29T00:00:00\", \"2020-09-28T00:00:00\", \"2020-09-25T00:00:00\", \"2020-09-24T00:00:00\", \"2020-09-23T00:00:00\", \"2020-09-22T00:00:00\", \"2020-09-21T00:00:00\", \"2020-09-18T00:00:00\", \"2020-09-17T00:00:00\", \"2020-09-16T00:00:00\", \"2020-09-15T00:00:00\", \"2020-09-14T00:00:00\", \"2020-09-11T00:00:00\", \"2020-09-10T00:00:00\", \"2020-09-09T00:00:00\", \"2020-09-08T00:00:00\", \"2020-09-04T00:00:00\", \"2020-09-03T00:00:00\", \"2020-09-02T00:00:00\", \"2020-09-01T00:00:00\", \"2020-08-31T00:00:00\", \"2020-08-28T00:00:00\", \"2020-08-27T00:00:00\", \"2020-08-26T00:00:00\", \"2020-08-25T00:00:00\", \"2020-08-25T00:00:00\", \"2020-08-24T00:00:00\", \"2020-08-21T00:00:00\", \"2020-08-20T00:00:00\", \"2020-08-19T00:00:00\", \"2020-08-18T00:00:00\", \"2020-08-17T00:00:00\", \"2020-08-14T00:00:00\", \"2020-08-13T00:00:00\", \"2020-08-12T00:00:00\", \"2020-08-11T00:00:00\", \"2020-08-10T00:00:00\", \"2020-08-07T00:00:00\", \"2020-08-06T00:00:00\", \"2020-08-05T00:00:00\", \"2020-08-04T00:00:00\", \"2020-08-03T00:00:00\", \"2020-07-31T00:00:00\", \"2020-07-30T00:00:00\", \"2020-07-29T00:00:00\", \"2020-07-28T00:00:00\", \"2020-07-27T00:00:00\", \"2020-07-24T00:00:00\", \"2020-07-23T00:00:00\", \"2020-07-22T00:00:00\", \"2020-07-21T00:00:00\", \"2020-07-20T00:00:00\", \"2020-07-17T00:00:00\", \"2020-07-16T00:00:00\", \"2020-07-15T00:00:00\", \"2020-07-14T00:00:00\", \"2020-07-13T00:00:00\", \"2020-07-10T00:00:00\", \"2020-07-09T00:00:00\", \"2020-07-08T00:00:00\"], \"xaxis\": \"x\", \"y\": [1243, 1242, 1232, 1231, 1228, 1230, 1227, 1215, 1215, 1217, 1210, 1209, 1203, 1201, 1198, 1196, 1194, 1184, 1183, 1177, 1172, 1171, 1156, 1147, 1146, 1146, 1141, 1122, 1112, 1106, 1100, 1081, 1078, 1072, 1061, 1054, 1025, 1023, 1015, 1008, 1008, 996, 972, 962, 954, 944, 936, 905, 898, 884, 867, 860, 833, 825, 813, 797, 774, 719, 713, 695, 688, 667, 618, 601, 605, 573, 552, 509, 491, 456, 453, 417, 391, 382, 342], \"yaxis\": \"y\"}, {\"hovertemplate\": \"Area=Goleta<br>Date=%{x}<br>Recovered=%{y}<extra></extra>\", \"legendgroup\": \"Goleta\", \"line\": {\"color\": \"#EF553B\", \"dash\": \"solid\"}, \"mode\": \"lines\", \"name\": \"Goleta\", \"orientation\": \"v\", \"showlegend\": true, \"type\": \"scatter\", \"x\": [\"2020-10-20T00:00:00\", \"2020-10-19T00:00:00\", \"2020-10-16T00:00:00\", \"2020-10-15T00:00:00\", \"2020-10-14T00:00:00\", \"2020-10-13T00:00:00\", \"2020-10-12T00:00:00\", \"2020-10-09T00:00:00\", \"2020-10-08T00:00:00\", \"2020-10-07T00:00:00\", \"2020-10-06T00:00:00\", \"2020-10-05T00:00:00\", \"2020-10-02T00:00:00\", \"2020-10-01T00:00:00\", \"2020-09-30T00:00:00\", \"2020-09-29T00:00:00\", \"2020-09-28T00:00:00\", \"2020-09-25T00:00:00\", \"2020-09-24T00:00:00\", \"2020-09-23T00:00:00\", \"2020-09-22T00:00:00\", \"2020-09-21T00:00:00\", \"2020-09-18T00:00:00\", \"2020-09-17T00:00:00\", \"2020-09-16T00:00:00\", \"2020-09-15T00:00:00\", \"2020-09-14T00:00:00\", \"2020-09-11T00:00:00\", \"2020-09-10T00:00:00\", \"2020-09-09T00:00:00\", \"2020-09-08T00:00:00\", \"2020-09-04T00:00:00\", \"2020-09-03T00:00:00\", \"2020-09-02T00:00:00\", \"2020-09-01T00:00:00\", \"2020-08-31T00:00:00\", \"2020-08-28T00:00:00\", \"2020-08-27T00:00:00\", \"2020-08-26T00:00:00\", \"2020-08-25T00:00:00\", \"2020-08-25T00:00:00\", \"2020-08-24T00:00:00\", \"2020-08-21T00:00:00\", \"2020-08-20T00:00:00\", \"2020-08-19T00:00:00\", \"2020-08-18T00:00:00\", \"2020-08-17T00:00:00\", \"2020-08-14T00:00:00\", \"2020-08-13T00:00:00\", \"2020-08-12T00:00:00\", \"2020-08-11T00:00:00\", \"2020-08-10T00:00:00\", \"2020-08-07T00:00:00\", \"2020-08-06T00:00:00\", \"2020-08-05T00:00:00\", \"2020-08-04T00:00:00\", \"2020-08-03T00:00:00\", \"2020-07-31T00:00:00\", \"2020-07-30T00:00:00\", \"2020-07-29T00:00:00\", \"2020-07-28T00:00:00\", \"2020-07-27T00:00:00\", \"2020-07-24T00:00:00\", \"2020-07-23T00:00:00\", \"2020-07-22T00:00:00\", \"2020-07-21T00:00:00\", \"2020-07-20T00:00:00\", \"2020-07-17T00:00:00\", \"2020-07-16T00:00:00\", \"2020-07-15T00:00:00\", \"2020-07-14T00:00:00\", \"2020-07-13T00:00:00\", \"2020-07-10T00:00:00\", \"2020-07-09T00:00:00\", \"2020-07-08T00:00:00\"], \"xaxis\": \"x\", \"y\": [265, 264, 262, 262, 261, 260, 260, 258, 255, 255, 254, 252, 250, 249, 248, 247, 246, 245, 244, 242, 241, 239, 234, 232, 232, 231, 229, 219, 219, 217, 215, 211, 211, 209, 205, 204, 198, 197, 195, 192, 192, 189, 183, 182, 180, 177, 174, 164, 164, 159, 153, 150, 147, 145, 142, 138, 135, 127, 126, 125, 122, 121, 113, 101, 105, 103, 100, 89, 89, 85, 78, 71, 67, 68, 67], \"yaxis\": \"y\"}, {\"hovertemplate\": \"Area=Isla Vista<br>Date=%{x}<br>Recovered=%{y}<extra></extra>\", \"legendgroup\": \"Isla Vista\", \"line\": {\"color\": \"#00cc96\", \"dash\": \"solid\"}, \"mode\": \"lines\", \"name\": \"Isla Vista\", \"orientation\": \"v\", \"showlegend\": true, \"type\": \"scatter\", \"x\": [\"2020-10-20T00:00:00\", \"2020-10-19T00:00:00\", \"2020-10-16T00:00:00\", \"2020-10-15T00:00:00\", \"2020-10-14T00:00:00\", \"2020-10-13T00:00:00\", \"2020-10-12T00:00:00\", \"2020-10-09T00:00:00\", \"2020-10-08T00:00:00\", \"2020-10-07T00:00:00\", \"2020-10-06T00:00:00\", \"2020-10-05T00:00:00\", \"2020-10-02T00:00:00\", \"2020-10-01T00:00:00\", \"2020-09-30T00:00:00\", \"2020-09-29T00:00:00\", \"2020-09-28T00:00:00\", \"2020-09-25T00:00:00\", \"2020-09-24T00:00:00\", \"2020-09-23T00:00:00\", \"2020-09-22T00:00:00\", \"2020-09-21T00:00:00\", \"2020-09-18T00:00:00\", \"2020-09-17T00:00:00\", \"2020-09-16T00:00:00\", \"2020-09-15T00:00:00\", \"2020-09-14T00:00:00\", \"2020-09-11T00:00:00\", \"2020-09-10T00:00:00\", \"2020-09-09T00:00:00\", \"2020-09-08T00:00:00\", \"2020-09-04T00:00:00\", \"2020-09-03T00:00:00\", \"2020-09-02T00:00:00\", \"2020-09-01T00:00:00\", \"2020-08-31T00:00:00\", \"2020-08-28T00:00:00\", \"2020-08-27T00:00:00\", \"2020-08-26T00:00:00\", \"2020-08-25T00:00:00\", \"2020-08-25T00:00:00\", \"2020-08-24T00:00:00\", \"2020-08-21T00:00:00\", \"2020-08-20T00:00:00\", \"2020-08-19T00:00:00\", \"2020-08-18T00:00:00\", \"2020-08-17T00:00:00\", \"2020-08-14T00:00:00\", \"2020-08-13T00:00:00\", \"2020-08-12T00:00:00\", \"2020-08-11T00:00:00\", \"2020-08-10T00:00:00\", \"2020-08-07T00:00:00\", \"2020-08-06T00:00:00\", \"2020-08-05T00:00:00\", \"2020-08-04T00:00:00\", \"2020-08-03T00:00:00\", \"2020-07-31T00:00:00\", \"2020-07-30T00:00:00\", \"2020-07-29T00:00:00\", \"2020-07-28T00:00:00\", \"2020-07-27T00:00:00\", \"2020-07-24T00:00:00\", \"2020-07-23T00:00:00\", \"2020-07-22T00:00:00\", \"2020-07-21T00:00:00\", \"2020-07-20T00:00:00\", \"2020-07-17T00:00:00\", \"2020-07-16T00:00:00\", \"2020-07-15T00:00:00\", \"2020-07-14T00:00:00\", \"2020-07-13T00:00:00\", \"2020-07-10T00:00:00\", \"2020-07-09T00:00:00\", \"2020-07-08T00:00:00\"], \"xaxis\": \"x\", \"y\": [265, 260, 256, 255, 250, 248, 247, 241, 241, 239, 238, 238, 232, 228, 222, 221, 220, 213, 212, 207, 207, 202, 187, 182, 179, 182, 171, 163, 163, 158, 153, 148, 147, 146, 141, 139, 137, 136, 132, 131, 131, 130, 124, 114, 108, 105, 103, 92, 86, 83, 76, 69, 54, 52, 46, 45, 45, 42, 40, 39, 39, 39, 35, 34, 31, 32, 31, 28, 27, 26, 28, 24, 21, 23, 20], \"yaxis\": \"y\"}, {\"hovertemplate\": \"Area=Goleta Valley/Gaviota<br>Date=%{x}<br>Recovered=%{y}<extra></extra>\", \"legendgroup\": \"Goleta Valley/Gaviota\", \"line\": {\"color\": \"#ab63fa\", \"dash\": \"solid\"}, \"mode\": \"lines\", \"name\": \"Goleta Valley/Gaviota\", \"orientation\": \"v\", \"showlegend\": true, \"type\": \"scatter\", \"x\": [\"2020-10-20T00:00:00\", \"2020-10-19T00:00:00\", \"2020-10-16T00:00:00\", \"2020-10-15T00:00:00\", \"2020-10-14T00:00:00\", \"2020-10-13T00:00:00\", \"2020-10-12T00:00:00\", \"2020-10-09T00:00:00\", \"2020-10-08T00:00:00\", \"2020-10-07T00:00:00\", \"2020-10-06T00:00:00\", \"2020-10-05T00:00:00\", \"2020-10-02T00:00:00\", \"2020-10-01T00:00:00\", \"2020-09-30T00:00:00\", \"2020-09-29T00:00:00\", \"2020-09-28T00:00:00\", \"2020-09-25T00:00:00\", \"2020-09-24T00:00:00\", \"2020-09-23T00:00:00\", \"2020-09-22T00:00:00\", \"2020-09-21T00:00:00\", \"2020-09-18T00:00:00\", \"2020-09-17T00:00:00\", \"2020-09-16T00:00:00\", \"2020-09-15T00:00:00\", \"2020-09-14T00:00:00\", \"2020-09-11T00:00:00\", \"2020-09-10T00:00:00\", \"2020-09-09T00:00:00\", \"2020-09-08T00:00:00\", \"2020-09-04T00:00:00\", \"2020-09-03T00:00:00\", \"2020-09-02T00:00:00\", \"2020-09-01T00:00:00\", \"2020-08-31T00:00:00\", \"2020-08-28T00:00:00\", \"2020-08-27T00:00:00\", \"2020-08-26T00:00:00\", \"2020-08-25T00:00:00\", \"2020-08-25T00:00:00\", \"2020-08-24T00:00:00\", \"2020-08-21T00:00:00\", \"2020-08-20T00:00:00\", \"2020-08-19T00:00:00\", \"2020-08-18T00:00:00\", \"2020-08-17T00:00:00\", \"2020-08-14T00:00:00\", \"2020-08-13T00:00:00\", \"2020-08-12T00:00:00\", \"2020-08-11T00:00:00\", \"2020-08-10T00:00:00\", \"2020-08-07T00:00:00\", \"2020-08-06T00:00:00\", \"2020-08-05T00:00:00\", \"2020-08-04T00:00:00\", \"2020-08-03T00:00:00\", \"2020-07-31T00:00:00\", \"2020-07-30T00:00:00\", \"2020-07-29T00:00:00\", \"2020-07-28T00:00:00\", \"2020-07-27T00:00:00\", \"2020-07-24T00:00:00\", \"2020-07-23T00:00:00\", \"2020-07-22T00:00:00\", \"2020-07-21T00:00:00\", \"2020-07-20T00:00:00\", \"2020-07-17T00:00:00\", \"2020-07-16T00:00:00\", \"2020-07-15T00:00:00\", \"2020-07-14T00:00:00\", \"2020-07-13T00:00:00\", \"2020-07-10T00:00:00\", \"2020-07-09T00:00:00\", \"2020-07-08T00:00:00\"], \"xaxis\": \"x\", \"y\": [211, 211, 207, 205, 204, 204, 204, 199, 199, 198, 198, 198, 196, 196, 196, 195, 195, 192, 192, 192, 192, 189, 183, 181, 180, 180, 179, 175, 174, 174, 174, 157, 155, 150, 148, 145, 141, 141, 140, 140, 140, 136, 127, 127, 126, 126, 126, 120, 119, 116, 115, 115, 114, 113, 111, 109, 105, 99, 95, 95, 93, 91, 87, 87, 78, 73, 77, 71, 66, 60, 61, 61, 53, 52, 46], \"yaxis\": \"y\"}, {\"hovertemplate\": \"Area=Santa Ynez Valley<br>Date=%{x}<br>Recovered=%{y}<extra></extra>\", \"legendgroup\": \"Santa Ynez Valley\", \"line\": {\"color\": \"#FFA15A\", \"dash\": \"solid\"}, \"mode\": \"lines\", \"name\": \"Santa Ynez Valley\", \"orientation\": \"v\", \"showlegend\": true, \"type\": \"scatter\", \"x\": [\"2020-10-20T00:00:00\", \"2020-10-19T00:00:00\", \"2020-10-16T00:00:00\", \"2020-10-15T00:00:00\", \"2020-10-14T00:00:00\", \"2020-10-13T00:00:00\", \"2020-10-12T00:00:00\", \"2020-10-09T00:00:00\", \"2020-10-08T00:00:00\", \"2020-10-07T00:00:00\", \"2020-10-06T00:00:00\", \"2020-10-05T00:00:00\", \"2020-10-02T00:00:00\", \"2020-10-01T00:00:00\", \"2020-09-30T00:00:00\", \"2020-09-29T00:00:00\", \"2020-09-28T00:00:00\", \"2020-09-25T00:00:00\", \"2020-09-24T00:00:00\", \"2020-09-23T00:00:00\", \"2020-09-22T00:00:00\", \"2020-09-21T00:00:00\", \"2020-09-18T00:00:00\", \"2020-09-17T00:00:00\", \"2020-09-16T00:00:00\", \"2020-09-15T00:00:00\", \"2020-09-14T00:00:00\", \"2020-09-11T00:00:00\", \"2020-09-10T00:00:00\", \"2020-09-09T00:00:00\", \"2020-09-08T00:00:00\", \"2020-09-04T00:00:00\", \"2020-09-03T00:00:00\", \"2020-09-02T00:00:00\", \"2020-09-01T00:00:00\", \"2020-08-31T00:00:00\", \"2020-08-28T00:00:00\", \"2020-08-27T00:00:00\", \"2020-08-26T00:00:00\", \"2020-08-25T00:00:00\", \"2020-08-25T00:00:00\", \"2020-08-24T00:00:00\", \"2020-08-21T00:00:00\", \"2020-08-20T00:00:00\", \"2020-08-19T00:00:00\", \"2020-08-18T00:00:00\", \"2020-08-17T00:00:00\", \"2020-08-14T00:00:00\", \"2020-08-13T00:00:00\", \"2020-08-12T00:00:00\", \"2020-08-11T00:00:00\", \"2020-08-10T00:00:00\", \"2020-08-07T00:00:00\", \"2020-08-06T00:00:00\", \"2020-08-05T00:00:00\", \"2020-08-04T00:00:00\", \"2020-08-03T00:00:00\", \"2020-07-31T00:00:00\", \"2020-07-30T00:00:00\", \"2020-07-29T00:00:00\", \"2020-07-28T00:00:00\", \"2020-07-27T00:00:00\", \"2020-07-24T00:00:00\", \"2020-07-23T00:00:00\", \"2020-07-22T00:00:00\", \"2020-07-21T00:00:00\", \"2020-07-20T00:00:00\", \"2020-07-17T00:00:00\", \"2020-07-16T00:00:00\", \"2020-07-15T00:00:00\", \"2020-07-14T00:00:00\", \"2020-07-13T00:00:00\", \"2020-07-10T00:00:00\", \"2020-07-09T00:00:00\", \"2020-07-08T00:00:00\"], \"xaxis\": \"x\", \"y\": [165, 166, 161, 160, 155, 153, 153, 149, 148, 149, 148, 147, 145, 144, 144, 145, 143, 138, 138, 137, 138, 137, 130, 129, 129, 130, 126, 121, 118, 119, 119, 115, 113, 110, 109, 108, 100, 94, 92, 92, 92, 88, 85, 84, 84, 83, 80, 77, 75, 74, 74, 74, 72, 72, 72, 71, 71, 65, 67, 64, 63, 61, 56, 54, 51, 51, 52, 41, 37, 35, 31, 27, 24, 21, 20], \"yaxis\": \"y\"}, {\"hovertemplate\": \"Area=Lompoc<br>Date=%{x}<br>Recovered=%{y}<extra></extra>\", \"legendgroup\": \"Lompoc\", \"line\": {\"color\": \"#19d3f3\", \"dash\": \"solid\"}, \"mode\": \"lines\", \"name\": \"Lompoc\", \"orientation\": \"v\", \"showlegend\": true, \"type\": \"scatter\", \"x\": [\"2020-10-20T00:00:00\", \"2020-10-19T00:00:00\", \"2020-10-16T00:00:00\", \"2020-10-15T00:00:00\", \"2020-10-14T00:00:00\", \"2020-10-13T00:00:00\", \"2020-10-12T00:00:00\", \"2020-10-09T00:00:00\", \"2020-10-08T00:00:00\", \"2020-10-07T00:00:00\", \"2020-10-06T00:00:00\", \"2020-10-05T00:00:00\", \"2020-10-02T00:00:00\", \"2020-10-01T00:00:00\", \"2020-09-30T00:00:00\", \"2020-09-29T00:00:00\", \"2020-09-28T00:00:00\", \"2020-09-25T00:00:00\", \"2020-09-24T00:00:00\", \"2020-09-23T00:00:00\", \"2020-09-22T00:00:00\", \"2020-09-21T00:00:00\", \"2020-09-18T00:00:00\", \"2020-09-17T00:00:00\", \"2020-09-16T00:00:00\", \"2020-09-15T00:00:00\", \"2020-09-14T00:00:00\", \"2020-09-11T00:00:00\", \"2020-09-10T00:00:00\", \"2020-09-09T00:00:00\", \"2020-09-08T00:00:00\", \"2020-09-04T00:00:00\", \"2020-09-03T00:00:00\", \"2020-09-02T00:00:00\", \"2020-09-01T00:00:00\", \"2020-08-31T00:00:00\", \"2020-08-28T00:00:00\", \"2020-08-27T00:00:00\", \"2020-08-26T00:00:00\", \"2020-08-25T00:00:00\", \"2020-08-25T00:00:00\", \"2020-08-24T00:00:00\", \"2020-08-21T00:00:00\", \"2020-08-20T00:00:00\", \"2020-08-19T00:00:00\", \"2020-08-18T00:00:00\", \"2020-08-17T00:00:00\", \"2020-08-14T00:00:00\", \"2020-08-13T00:00:00\", \"2020-08-12T00:00:00\", \"2020-08-11T00:00:00\", \"2020-08-10T00:00:00\", \"2020-08-07T00:00:00\", \"2020-08-06T00:00:00\", \"2020-08-05T00:00:00\", \"2020-08-04T00:00:00\", \"2020-08-03T00:00:00\", \"2020-07-31T00:00:00\", \"2020-07-30T00:00:00\", \"2020-07-29T00:00:00\", \"2020-07-28T00:00:00\", \"2020-07-27T00:00:00\", \"2020-07-24T00:00:00\", \"2020-07-23T00:00:00\", \"2020-07-22T00:00:00\", \"2020-07-21T00:00:00\", \"2020-07-20T00:00:00\", \"2020-07-17T00:00:00\", \"2020-07-16T00:00:00\", \"2020-07-15T00:00:00\", \"2020-07-14T00:00:00\", \"2020-07-13T00:00:00\", \"2020-07-10T00:00:00\", \"2020-07-09T00:00:00\", \"2020-07-08T00:00:00\"], \"xaxis\": \"x\", \"y\": [891, 886, 879, 879, 873, 870, 864, 850, 845, 843, 840, 835, 821, 818, 810, 805, 800, 793, 788, 783, 783, 776, 757, 755, 755, 749, 747, 727, 718, 704, 698, 677, 653, 632, 623, 617, 605, 602, 595, 593, 593, 577, 557, 553, 544, 539, 531, 519, 517, 506, 496, 489, 466, 460, 456, 450, 448, 414, 414, 393, 386, 380, 339, 325, 308, 296, 282, 241, 235, 223, 209, 197, 190, 178, 168], \"yaxis\": \"y\"}, {\"hovertemplate\": \"Area=Federal Prison in Lompoc<br>Date=%{x}<br>Recovered=%{y}<extra></extra>\", \"legendgroup\": \"Federal Prison in Lompoc\", \"line\": {\"color\": \"#FF6692\", \"dash\": \"solid\"}, \"mode\": \"lines\", \"name\": \"Federal Prison in Lompoc\", \"orientation\": \"v\", \"showlegend\": true, \"type\": \"scatter\", \"x\": [\"2020-10-20T00:00:00\", \"2020-10-19T00:00:00\", \"2020-10-16T00:00:00\", \"2020-10-15T00:00:00\", \"2020-10-14T00:00:00\", \"2020-10-13T00:00:00\", \"2020-10-12T00:00:00\", \"2020-10-09T00:00:00\", \"2020-10-08T00:00:00\", \"2020-10-07T00:00:00\", \"2020-10-06T00:00:00\", \"2020-10-05T00:00:00\", \"2020-10-02T00:00:00\", \"2020-10-01T00:00:00\", \"2020-09-30T00:00:00\", \"2020-09-29T00:00:00\", \"2020-09-28T00:00:00\", \"2020-09-25T00:00:00\", \"2020-09-24T00:00:00\", \"2020-09-23T00:00:00\", \"2020-09-22T00:00:00\", \"2020-09-21T00:00:00\", \"2020-09-18T00:00:00\", \"2020-09-17T00:00:00\", \"2020-09-16T00:00:00\", \"2020-09-15T00:00:00\", \"2020-09-14T00:00:00\", \"2020-09-11T00:00:00\", \"2020-09-10T00:00:00\", \"2020-09-09T00:00:00\", \"2020-09-08T00:00:00\", \"2020-09-04T00:00:00\", \"2020-09-03T00:00:00\", \"2020-09-02T00:00:00\", \"2020-09-01T00:00:00\", \"2020-08-31T00:00:00\", \"2020-08-28T00:00:00\", \"2020-08-27T00:00:00\", \"2020-08-26T00:00:00\", \"2020-08-25T00:00:00\", \"2020-08-25T00:00:00\", \"2020-08-24T00:00:00\", \"2020-08-21T00:00:00\", \"2020-08-20T00:00:00\", \"2020-08-19T00:00:00\", \"2020-08-18T00:00:00\", \"2020-08-17T00:00:00\", \"2020-08-14T00:00:00\", \"2020-08-13T00:00:00\", \"2020-08-12T00:00:00\", \"2020-08-11T00:00:00\", \"2020-08-10T00:00:00\", \"2020-08-07T00:00:00\", \"2020-08-06T00:00:00\", \"2020-08-05T00:00:00\", \"2020-08-04T00:00:00\", \"2020-08-03T00:00:00\", \"2020-07-31T00:00:00\", \"2020-07-30T00:00:00\", \"2020-07-29T00:00:00\", \"2020-07-28T00:00:00\", \"2020-07-27T00:00:00\", \"2020-07-24T00:00:00\", \"2020-07-23T00:00:00\", \"2020-07-22T00:00:00\", \"2020-07-21T00:00:00\", \"2020-07-20T00:00:00\", \"2020-07-17T00:00:00\", \"2020-07-16T00:00:00\", \"2020-07-15T00:00:00\", \"2020-07-14T00:00:00\", \"2020-07-13T00:00:00\", \"2020-07-10T00:00:00\", \"2020-07-09T00:00:00\", \"2020-07-08T00:00:00\"], \"xaxis\": \"x\", \"y\": [1023, 1023, 1022, 1022, 1022, 1022, 1022, 1021, 1021, 1021, 1021, 1021, 1021, 1021, 1021, 1021, 1021, 1021, 1021, 1021, 1021, 1021, 1021, 1021, 1021, 1021, 1021, 1020, 1020, 1020, 1020, 1018, 1017, 1016, 1016, 1016, 1016, 1016, 1016, 1016, 1016, 1016, 1016, 1016, 1016, 1016, 1016, 1016, 1016, 1016, 1016, 1016, 1016, 1016, 1016, 1016, 1016, 1008, 1008, 1008, 1008, 1008, 1001, 1002, 999, 1002, 999, 997, 995, 997, 995, 994, 994, 994, 981], \"yaxis\": \"y\"}, {\"hovertemplate\": \"Area=Santa Maria<br>Date=%{x}<br>Recovered=%{y}<extra></extra>\", \"legendgroup\": \"Santa Maria\", \"line\": {\"color\": \"#B6E880\", \"dash\": \"solid\"}, \"mode\": \"lines\", \"name\": \"Santa Maria\", \"orientation\": \"v\", \"showlegend\": true, \"type\": \"scatter\", \"x\": [\"2020-10-20T00:00:00\", \"2020-10-19T00:00:00\", \"2020-10-16T00:00:00\", \"2020-10-15T00:00:00\", \"2020-10-14T00:00:00\", \"2020-10-13T00:00:00\", \"2020-10-12T00:00:00\", \"2020-10-09T00:00:00\", \"2020-10-08T00:00:00\", \"2020-10-07T00:00:00\", \"2020-10-06T00:00:00\", \"2020-10-05T00:00:00\", \"2020-10-02T00:00:00\", \"2020-10-01T00:00:00\", \"2020-09-30T00:00:00\", \"2020-09-29T00:00:00\", \"2020-09-28T00:00:00\", \"2020-09-25T00:00:00\", \"2020-09-24T00:00:00\", \"2020-09-23T00:00:00\", \"2020-09-22T00:00:00\", \"2020-09-21T00:00:00\", \"2020-09-18T00:00:00\", \"2020-09-17T00:00:00\", \"2020-09-16T00:00:00\", \"2020-09-15T00:00:00\", \"2020-09-14T00:00:00\", \"2020-09-11T00:00:00\", \"2020-09-10T00:00:00\", \"2020-09-09T00:00:00\", \"2020-09-08T00:00:00\", \"2020-09-04T00:00:00\", \"2020-09-03T00:00:00\", \"2020-09-02T00:00:00\", \"2020-09-01T00:00:00\", \"2020-08-31T00:00:00\", \"2020-08-28T00:00:00\", \"2020-08-27T00:00:00\", \"2020-08-26T00:00:00\", \"2020-08-25T00:00:00\", \"2020-08-25T00:00:00\", \"2020-08-24T00:00:00\", \"2020-08-21T00:00:00\", \"2020-08-20T00:00:00\", \"2020-08-19T00:00:00\", \"2020-08-18T00:00:00\", \"2020-08-17T00:00:00\", \"2020-08-14T00:00:00\", \"2020-08-13T00:00:00\", \"2020-08-12T00:00:00\", \"2020-08-11T00:00:00\", \"2020-08-10T00:00:00\", \"2020-08-07T00:00:00\", \"2020-08-06T00:00:00\", \"2020-08-05T00:00:00\", \"2020-08-04T00:00:00\", \"2020-08-03T00:00:00\", \"2020-07-31T00:00:00\", \"2020-07-30T00:00:00\", \"2020-07-29T00:00:00\", \"2020-07-28T00:00:00\", \"2020-07-27T00:00:00\", \"2020-07-24T00:00:00\", \"2020-07-23T00:00:00\", \"2020-07-22T00:00:00\", \"2020-07-21T00:00:00\", \"2020-07-20T00:00:00\", \"2020-07-17T00:00:00\", \"2020-07-16T00:00:00\", \"2020-07-15T00:00:00\", \"2020-07-14T00:00:00\", \"2020-07-13T00:00:00\", \"2020-07-10T00:00:00\", \"2020-07-09T00:00:00\", \"2020-07-08T00:00:00\"], \"xaxis\": \"x\", \"y\": [3994, 3998, 3968, 3961, 3955, 3952, 3945, 3900, 3894, 3884, 3877, 3866, 3816, 3809, 3793, 3789, 3778, 3744, 3739, 3729, 3722, 3711, 3682, 3673, 3662, 3661, 3654, 3607, 3590, 3572, 3564, 3522, 3506, 3474, 3442, 3429, 3385, 3367, 3353, 3335, 3335, 3307, 3257, 3251, 3212, 3191, 3173, 3091, 3073, 3030, 3013, 2973, 2901, 2875, 2826, 2807, 2776, 2658, 2607, 2533, 2492, 2441, 2296, 2235, 2143, 2112, 2059, 1862, 1792, 1714, 1632, 1570, 1439, 1397, 1331], \"yaxis\": \"y\"}, {\"hovertemplate\": \"Area=Orcutt<br>Date=%{x}<br>Recovered=%{y}<extra></extra>\", \"legendgroup\": \"Orcutt\", \"line\": {\"color\": \"#FF97FF\", \"dash\": \"solid\"}, \"mode\": \"lines\", \"name\": \"Orcutt\", \"orientation\": \"v\", \"showlegend\": true, \"type\": \"scatter\", \"x\": [\"2020-10-20T00:00:00\", \"2020-10-19T00:00:00\", \"2020-10-16T00:00:00\", \"2020-10-15T00:00:00\", \"2020-10-14T00:00:00\", \"2020-10-13T00:00:00\", \"2020-10-12T00:00:00\", \"2020-10-09T00:00:00\", \"2020-10-08T00:00:00\", \"2020-10-07T00:00:00\", \"2020-10-06T00:00:00\", \"2020-10-05T00:00:00\", \"2020-10-02T00:00:00\", \"2020-10-01T00:00:00\", \"2020-09-30T00:00:00\", \"2020-09-29T00:00:00\", \"2020-09-28T00:00:00\", \"2020-09-25T00:00:00\", \"2020-09-24T00:00:00\", \"2020-09-23T00:00:00\", \"2020-09-22T00:00:00\", \"2020-09-21T00:00:00\", \"2020-09-18T00:00:00\", \"2020-09-17T00:00:00\", \"2020-09-16T00:00:00\", \"2020-09-15T00:00:00\", \"2020-09-14T00:00:00\", \"2020-09-11T00:00:00\", \"2020-09-10T00:00:00\", \"2020-09-09T00:00:00\", \"2020-09-08T00:00:00\", \"2020-09-04T00:00:00\", \"2020-09-03T00:00:00\", \"2020-09-02T00:00:00\", \"2020-09-01T00:00:00\", \"2020-08-31T00:00:00\", \"2020-08-28T00:00:00\", \"2020-08-27T00:00:00\", \"2020-08-26T00:00:00\", \"2020-08-25T00:00:00\", \"2020-08-25T00:00:00\", \"2020-08-24T00:00:00\", \"2020-08-21T00:00:00\", \"2020-08-20T00:00:00\", \"2020-08-19T00:00:00\", \"2020-08-18T00:00:00\", \"2020-08-17T00:00:00\", \"2020-08-14T00:00:00\", \"2020-08-13T00:00:00\", \"2020-08-12T00:00:00\", \"2020-08-11T00:00:00\", \"2020-08-10T00:00:00\", \"2020-08-07T00:00:00\", \"2020-08-06T00:00:00\", \"2020-08-05T00:00:00\", \"2020-08-04T00:00:00\", \"2020-08-03T00:00:00\", \"2020-07-31T00:00:00\", \"2020-07-30T00:00:00\", \"2020-07-29T00:00:00\", \"2020-07-28T00:00:00\", \"2020-07-27T00:00:00\", \"2020-07-24T00:00:00\", \"2020-07-23T00:00:00\", \"2020-07-22T00:00:00\", \"2020-07-21T00:00:00\", \"2020-07-20T00:00:00\", \"2020-07-17T00:00:00\", \"2020-07-16T00:00:00\", \"2020-07-15T00:00:00\", \"2020-07-14T00:00:00\", \"2020-07-13T00:00:00\", \"2020-07-10T00:00:00\", \"2020-07-09T00:00:00\", \"2020-07-08T00:00:00\"], \"xaxis\": \"x\", \"y\": [356, 345, 344, 340, 336, 335, 334, 328, 327, 327, 326, 326, 318, 314, 313, 311, 309, 303, 302, 300, 299, 299, 294, 293, 290, 287, 286, 275, 274, 272, 271, 267, 265, 261, 259, 257, 249, 246, 244, 243, 243, 242, 232, 231, 231, 230, 230, 223, 219, 214, 209, 209, 208, 205, 203, 201, 198, 187, 185, 183, 179, 179, 162, 160, 150, 144, 140, 131, 123, 123, 118, 108, 102, 95, 93], \"yaxis\": \"y\"}],                        {\"font\": {\"color\": \"white\", \"family\": \"Courier\"}, \"hovermode\": \"closest\", \"legend\": {\"orientation\": \"h\", \"title\": {\"text\": \"Area\"}, \"tracegroupgap\": 0, \"x\": 0, \"xanchor\": \"left\", \"y\": 1.02, \"yanchor\": \"bottom\"}, \"template\": {\"data\": {\"bar\": [{\"error_x\": {\"color\": \"#f2f5fa\"}, \"error_y\": {\"color\": \"#f2f5fa\"}, \"marker\": {\"line\": {\"color\": \"rgb(17,17,17)\", \"width\": 0.5}}, \"type\": \"bar\"}], \"barpolar\": [{\"marker\": {\"line\": {\"color\": \"rgb(17,17,17)\", \"width\": 0.5}}, \"type\": \"barpolar\"}], \"carpet\": [{\"aaxis\": {\"endlinecolor\": \"#A2B1C6\", \"gridcolor\": \"#506784\", \"linecolor\": \"#506784\", \"minorgridcolor\": \"#506784\", \"startlinecolor\": \"#A2B1C6\"}, \"baxis\": {\"endlinecolor\": \"#A2B1C6\", \"gridcolor\": \"#506784\", \"linecolor\": \"#506784\", \"minorgridcolor\": \"#506784\", \"startlinecolor\": \"#A2B1C6\"}, \"type\": \"carpet\"}], \"choropleth\": [{\"colorbar\": {\"outlinewidth\": 0, \"ticks\": \"\"}, \"type\": \"choropleth\"}], \"contour\": [{\"colorbar\": {\"outlinewidth\": 0, \"ticks\": \"\"}, \"colorscale\": [[0.0, \"#0d0887\"], [0.1111111111111111, \"#46039f\"], [0.2222222222222222, \"#7201a8\"], [0.3333333333333333, \"#9c179e\"], [0.4444444444444444, \"#bd3786\"], [0.5555555555555556, \"#d8576b\"], [0.6666666666666666, \"#ed7953\"], [0.7777777777777778, \"#fb9f3a\"], [0.8888888888888888, \"#fdca26\"], [1.0, \"#f0f921\"]], \"type\": \"contour\"}], \"contourcarpet\": [{\"colorbar\": {\"outlinewidth\": 0, \"ticks\": \"\"}, \"type\": \"contourcarpet\"}], \"heatmap\": [{\"colorbar\": {\"outlinewidth\": 0, \"ticks\": \"\"}, \"colorscale\": [[0.0, \"#0d0887\"], [0.1111111111111111, \"#46039f\"], [0.2222222222222222, \"#7201a8\"], [0.3333333333333333, \"#9c179e\"], [0.4444444444444444, \"#bd3786\"], [0.5555555555555556, \"#d8576b\"], [0.6666666666666666, \"#ed7953\"], [0.7777777777777778, \"#fb9f3a\"], [0.8888888888888888, \"#fdca26\"], [1.0, \"#f0f921\"]], \"type\": \"heatmap\"}], \"heatmapgl\": [{\"colorbar\": {\"outlinewidth\": 0, \"ticks\": \"\"}, \"colorscale\": [[0.0, \"#0d0887\"], [0.1111111111111111, \"#46039f\"], [0.2222222222222222, \"#7201a8\"], [0.3333333333333333, \"#9c179e\"], [0.4444444444444444, \"#bd3786\"], [0.5555555555555556, \"#d8576b\"], [0.6666666666666666, \"#ed7953\"], [0.7777777777777778, \"#fb9f3a\"], [0.8888888888888888, \"#fdca26\"], [1.0, \"#f0f921\"]], \"type\": \"heatmapgl\"}], \"histogram\": [{\"marker\": {\"colorbar\": {\"outlinewidth\": 0, \"ticks\": \"\"}}, \"type\": \"histogram\"}], \"histogram2d\": [{\"colorbar\": {\"outlinewidth\": 0, \"ticks\": \"\"}, \"colorscale\": [[0.0, \"#0d0887\"], [0.1111111111111111, \"#46039f\"], [0.2222222222222222, \"#7201a8\"], [0.3333333333333333, \"#9c179e\"], [0.4444444444444444, \"#bd3786\"], [0.5555555555555556, \"#d8576b\"], [0.6666666666666666, \"#ed7953\"], [0.7777777777777778, \"#fb9f3a\"], [0.8888888888888888, \"#fdca26\"], [1.0, \"#f0f921\"]], \"type\": \"histogram2d\"}], \"histogram2dcontour\": [{\"colorbar\": {\"outlinewidth\": 0, \"ticks\": \"\"}, \"colorscale\": [[0.0, \"#0d0887\"], [0.1111111111111111, \"#46039f\"], [0.2222222222222222, \"#7201a8\"], [0.3333333333333333, \"#9c179e\"], [0.4444444444444444, \"#bd3786\"], [0.5555555555555556, \"#d8576b\"], [0.6666666666666666, \"#ed7953\"], [0.7777777777777778, \"#fb9f3a\"], [0.8888888888888888, \"#fdca26\"], [1.0, \"#f0f921\"]], \"type\": \"histogram2dcontour\"}], \"mesh3d\": [{\"colorbar\": {\"outlinewidth\": 0, \"ticks\": \"\"}, \"type\": \"mesh3d\"}], \"parcoords\": [{\"line\": {\"colorbar\": {\"outlinewidth\": 0, \"ticks\": \"\"}}, \"type\": \"parcoords\"}], \"pie\": [{\"automargin\": true, \"type\": \"pie\"}], \"scatter\": [{\"marker\": {\"line\": {\"color\": \"#283442\"}}, \"type\": \"scatter\"}], \"scatter3d\": [{\"line\": {\"colorbar\": {\"outlinewidth\": 0, \"ticks\": \"\"}}, \"marker\": {\"colorbar\": {\"outlinewidth\": 0, \"ticks\": \"\"}}, \"type\": \"scatter3d\"}], \"scattercarpet\": [{\"marker\": {\"colorbar\": {\"outlinewidth\": 0, \"ticks\": \"\"}}, \"type\": \"scattercarpet\"}], \"scattergeo\": [{\"marker\": {\"colorbar\": {\"outlinewidth\": 0, \"ticks\": \"\"}}, \"type\": \"scattergeo\"}], \"scattergl\": [{\"marker\": {\"line\": {\"color\": \"#283442\"}}, \"type\": \"scattergl\"}], \"scattermapbox\": [{\"marker\": {\"colorbar\": {\"outlinewidth\": 0, \"ticks\": \"\"}}, \"type\": \"scattermapbox\"}], \"scatterpolar\": [{\"marker\": {\"colorbar\": {\"outlinewidth\": 0, \"ticks\": \"\"}}, \"type\": \"scatterpolar\"}], \"scatterpolargl\": [{\"marker\": {\"colorbar\": {\"outlinewidth\": 0, \"ticks\": \"\"}}, \"type\": \"scatterpolargl\"}], \"scatterternary\": [{\"marker\": {\"colorbar\": {\"outlinewidth\": 0, \"ticks\": \"\"}}, \"type\": \"scatterternary\"}], \"surface\": [{\"colorbar\": {\"outlinewidth\": 0, \"ticks\": \"\"}, \"colorscale\": [[0.0, \"#0d0887\"], [0.1111111111111111, \"#46039f\"], [0.2222222222222222, \"#7201a8\"], [0.3333333333333333, \"#9c179e\"], [0.4444444444444444, \"#bd3786\"], [0.5555555555555556, \"#d8576b\"], [0.6666666666666666, \"#ed7953\"], [0.7777777777777778, \"#fb9f3a\"], [0.8888888888888888, \"#fdca26\"], [1.0, \"#f0f921\"]], \"type\": \"surface\"}], \"table\": [{\"cells\": {\"fill\": {\"color\": \"#506784\"}, \"line\": {\"color\": \"rgb(17,17,17)\"}}, \"header\": {\"fill\": {\"color\": \"#2a3f5f\"}, \"line\": {\"color\": \"rgb(17,17,17)\"}}, \"type\": \"table\"}]}, \"layout\": {\"annotationdefaults\": {\"arrowcolor\": \"#f2f5fa\", \"arrowhead\": 0, \"arrowwidth\": 1}, \"coloraxis\": {\"colorbar\": {\"outlinewidth\": 0, \"ticks\": \"\"}}, \"colorscale\": {\"diverging\": [[0, \"#8e0152\"], [0.1, \"#c51b7d\"], [0.2, \"#de77ae\"], [0.3, \"#f1b6da\"], [0.4, \"#fde0ef\"], [0.5, \"#f7f7f7\"], [0.6, \"#e6f5d0\"], [0.7, \"#b8e186\"], [0.8, \"#7fbc41\"], [0.9, \"#4d9221\"], [1, \"#276419\"]], \"sequential\": [[0.0, \"#0d0887\"], [0.1111111111111111, \"#46039f\"], [0.2222222222222222, \"#7201a8\"], [0.3333333333333333, \"#9c179e\"], [0.4444444444444444, \"#bd3786\"], [0.5555555555555556, \"#d8576b\"], [0.6666666666666666, \"#ed7953\"], [0.7777777777777778, \"#fb9f3a\"], [0.8888888888888888, \"#fdca26\"], [1.0, \"#f0f921\"]], \"sequentialminus\": [[0.0, \"#0d0887\"], [0.1111111111111111, \"#46039f\"], [0.2222222222222222, \"#7201a8\"], [0.3333333333333333, \"#9c179e\"], [0.4444444444444444, \"#bd3786\"], [0.5555555555555556, \"#d8576b\"], [0.6666666666666666, \"#ed7953\"], [0.7777777777777778, \"#fb9f3a\"], [0.8888888888888888, \"#fdca26\"], [1.0, \"#f0f921\"]]}, \"colorway\": [\"#636efa\", \"#EF553B\", \"#00cc96\", \"#ab63fa\", \"#FFA15A\", \"#19d3f3\", \"#FF6692\", \"#B6E880\", \"#FF97FF\", \"#FECB52\"], \"font\": {\"color\": \"#f2f5fa\"}, \"geo\": {\"bgcolor\": \"rgb(17,17,17)\", \"lakecolor\": \"rgb(17,17,17)\", \"landcolor\": \"rgb(17,17,17)\", \"showlakes\": true, \"showland\": true, \"subunitcolor\": \"#506784\"}, \"hoverlabel\": {\"align\": \"left\"}, \"hovermode\": \"closest\", \"mapbox\": {\"style\": \"dark\"}, \"paper_bgcolor\": \"rgb(17,17,17)\", \"plot_bgcolor\": \"rgb(17,17,17)\", \"polar\": {\"angularaxis\": {\"gridcolor\": \"#506784\", \"linecolor\": \"#506784\", \"ticks\": \"\"}, \"bgcolor\": \"rgb(17,17,17)\", \"radialaxis\": {\"gridcolor\": \"#506784\", \"linecolor\": \"#506784\", \"ticks\": \"\"}}, \"scene\": {\"xaxis\": {\"backgroundcolor\": \"rgb(17,17,17)\", \"gridcolor\": \"#506784\", \"gridwidth\": 2, \"linecolor\": \"#506784\", \"showbackground\": true, \"ticks\": \"\", \"zerolinecolor\": \"#C8D4E3\"}, \"yaxis\": {\"backgroundcolor\": \"rgb(17,17,17)\", \"gridcolor\": \"#506784\", \"gridwidth\": 2, \"linecolor\": \"#506784\", \"showbackground\": true, \"ticks\": \"\", \"zerolinecolor\": \"#C8D4E3\"}, \"zaxis\": {\"backgroundcolor\": \"rgb(17,17,17)\", \"gridcolor\": \"#506784\", \"gridwidth\": 2, \"linecolor\": \"#506784\", \"showbackground\": true, \"ticks\": \"\", \"zerolinecolor\": \"#C8D4E3\"}}, \"shapedefaults\": {\"line\": {\"color\": \"#f2f5fa\"}}, \"sliderdefaults\": {\"bgcolor\": \"#C8D4E3\", \"bordercolor\": \"rgb(17,17,17)\", \"borderwidth\": 1, \"tickwidth\": 0}, \"ternary\": {\"aaxis\": {\"gridcolor\": \"#506784\", \"linecolor\": \"#506784\", \"ticks\": \"\"}, \"baxis\": {\"gridcolor\": \"#506784\", \"linecolor\": \"#506784\", \"ticks\": \"\"}, \"bgcolor\": \"rgb(17,17,17)\", \"caxis\": {\"gridcolor\": \"#506784\", \"linecolor\": \"#506784\", \"ticks\": \"\"}}, \"title\": {\"x\": 0.05}, \"updatemenudefaults\": {\"bgcolor\": \"#506784\", \"borderwidth\": 0}, \"xaxis\": {\"automargin\": true, \"gridcolor\": \"#283442\", \"linecolor\": \"#506784\", \"ticks\": \"\", \"title\": {\"standoff\": 15}, \"zerolinecolor\": \"#283442\", \"zerolinewidth\": 2}, \"yaxis\": {\"automargin\": true, \"gridcolor\": \"#283442\", \"linecolor\": \"#506784\", \"ticks\": \"\", \"title\": {\"standoff\": 15}, \"zerolinecolor\": \"#283442\", \"zerolinewidth\": 2}}}, \"title\": {\"font\": {\"size\": 24}, \"text\": \"Recovered by Region\"}, \"xaxis\": {\"anchor\": \"y\", \"domain\": [0.0, 1.0], \"title\": {\"text\": \"Date\"}}, \"yaxis\": {\"anchor\": \"x\", \"domain\": [0.0, 1.0], \"title\": {\"text\": \"Recovered\"}}},                        {\"responsive\": true}                    ).then(function(){\n",
              "                            \n",
              "var gd = document.getElementById('e67cce74-f46d-4204-80b7-4c2405649186');\n",
              "var x = new MutationObserver(function (mutations, observer) {{\n",
              "        var display = window.getComputedStyle(gd).display;\n",
              "        if (!display || display === 'none') {{\n",
              "            console.log([gd, 'removed!']);\n",
              "            Plotly.purge(gd);\n",
              "            observer.disconnect();\n",
              "        }}\n",
              "}});\n",
              "\n",
              "// Listen for the removal of the full notebook cells\n",
              "var notebookContainer = gd.closest('#notebook-container');\n",
              "if (notebookContainer) {{\n",
              "    x.observe(notebookContainer, {childList: true});\n",
              "}}\n",
              "\n",
              "// Listen for the clearing of the current output cell\n",
              "var outputEl = gd.closest('.output');\n",
              "if (outputEl) {{\n",
              "    x.observe(outputEl, {childList: true});\n",
              "}}\n",
              "\n",
              "                        })                };                            </script>        </div>\n",
              "</body>\n",
              "</html>"
            ]
          },
          "metadata": {
            "tags": []
          }
        }
      ]
    },
    {
      "cell_type": "code",
      "metadata": {
        "id": "oQf6u9PvwE4i",
        "outputId": "b30208e6-d45b-4ffe-8cbe-3223fc0c7082",
        "colab": {
          "base_uri": "https://localhost:8080/",
          "height": 542
        }
      },
      "source": [
        "create_line_plot('Active Cases')"
      ],
      "execution_count": 163,
      "outputs": [
        {
          "output_type": "display_data",
          "data": {
            "text/html": [
              "<html>\n",
              "<head><meta charset=\"utf-8\" /></head>\n",
              "<body>\n",
              "    <div>            <script src=\"https://cdnjs.cloudflare.com/ajax/libs/mathjax/2.7.5/MathJax.js?config=TeX-AMS-MML_SVG\"></script><script type=\"text/javascript\">if (window.MathJax) {MathJax.Hub.Config({SVG: {font: \"STIX-Web\"}});}</script>                <script type=\"text/javascript\">window.PlotlyConfig = {MathJaxConfig: 'local'};</script>\n",
              "        <script src=\"https://cdn.plot.ly/plotly-latest.min.js\"></script>                <div id=\"03144744-624b-46ba-86a3-ea6aa16fdd1a\" class=\"plotly-graph-div\" style=\"height:525px; width:100%;\"></div>            <script type=\"text/javascript\">                                    window.PLOTLYENV=window.PLOTLYENV || {};                                    if (document.getElementById(\"03144744-624b-46ba-86a3-ea6aa16fdd1a\")) {                    Plotly.newPlot(                        \"03144744-624b-46ba-86a3-ea6aa16fdd1a\",                        [{\"hovertemplate\": \"Area=Santa Barbara<br>Date=%{x}<br>Active Cases=%{y}<extra></extra>\", \"legendgroup\": \"Santa Barbara\", \"line\": {\"color\": \"#636efa\", \"dash\": \"solid\"}, \"mode\": \"lines\", \"name\": \"Santa Barbara\", \"orientation\": \"v\", \"showlegend\": true, \"type\": \"scatter\", \"x\": [\"2020-10-20T00:00:00\", \"2020-10-19T00:00:00\", \"2020-10-16T00:00:00\", \"2020-10-15T00:00:00\", \"2020-10-14T00:00:00\", \"2020-10-13T00:00:00\", \"2020-10-12T00:00:00\", \"2020-10-09T00:00:00\", \"2020-10-08T00:00:00\", \"2020-10-07T00:00:00\", \"2020-10-06T00:00:00\", \"2020-10-05T00:00:00\", \"2020-10-02T00:00:00\", \"2020-10-01T00:00:00\", \"2020-09-30T00:00:00\", \"2020-09-29T00:00:00\", \"2020-09-28T00:00:00\", \"2020-09-25T00:00:00\", \"2020-09-24T00:00:00\", \"2020-09-23T00:00:00\", \"2020-09-22T00:00:00\", \"2020-09-21T00:00:00\", \"2020-09-18T00:00:00\", \"2020-09-17T00:00:00\", \"2020-09-16T00:00:00\", \"2020-09-15T00:00:00\", \"2020-09-14T00:00:00\", \"2020-09-11T00:00:00\", \"2020-09-10T00:00:00\", \"2020-09-09T00:00:00\", \"2020-09-08T00:00:00\", \"2020-09-04T00:00:00\", \"2020-09-03T00:00:00\", \"2020-09-02T00:00:00\", \"2020-09-01T00:00:00\", \"2020-08-31T00:00:00\", \"2020-08-28T00:00:00\", \"2020-08-27T00:00:00\", \"2020-08-26T00:00:00\", \"2020-08-25T00:00:00\", \"2020-08-25T00:00:00\", \"2020-08-24T00:00:00\", \"2020-08-21T00:00:00\", \"2020-08-20T00:00:00\", \"2020-08-19T00:00:00\", \"2020-08-18T00:00:00\", \"2020-08-17T00:00:00\", \"2020-08-14T00:00:00\", \"2020-08-13T00:00:00\", \"2020-08-12T00:00:00\", \"2020-08-11T00:00:00\", \"2020-08-10T00:00:00\", \"2020-08-07T00:00:00\", \"2020-08-06T00:00:00\", \"2020-08-05T00:00:00\", \"2020-08-04T00:00:00\", \"2020-08-03T00:00:00\", \"2020-07-31T00:00:00\", \"2020-07-30T00:00:00\", \"2020-07-29T00:00:00\", \"2020-07-28T00:00:00\", \"2020-07-27T00:00:00\", \"2020-07-24T00:00:00\", \"2020-07-23T00:00:00\", \"2020-07-22T00:00:00\", \"2020-07-21T00:00:00\", \"2020-07-20T00:00:00\", \"2020-07-17T00:00:00\", \"2020-07-16T00:00:00\", \"2020-07-15T00:00:00\", \"2020-07-14T00:00:00\", \"2020-07-13T00:00:00\", \"2020-07-10T00:00:00\", \"2020-07-09T00:00:00\", \"2020-07-08T00:00:00\"], \"xaxis\": \"x\", \"y\": [7, 6, 12, 11, 13, 12, 9, 11, 11, 11, 11, 11, 9, 10, 18, 13, 11, 15, 15, 16, 20, 19, 20, 23, 20, 19, 22, 26, 24, 26, 27, 30, 32, 30, 21, 27, 40, 37, 42, 37, 37, 42, 33, 31, 27, 31, 35, 43, 37, 38, 54, 49, 37, 40, 48, 47, 41, 44, 48, 57, 44, 37, 47, 52, 37, 36, 39, 51, 51, 42, 35, 52, 58, 53, 80], \"yaxis\": \"y\"}, {\"hovertemplate\": \"Area=Goleta<br>Date=%{x}<br>Active Cases=%{y}<extra></extra>\", \"legendgroup\": \"Goleta\", \"line\": {\"color\": \"#EF553B\", \"dash\": \"solid\"}, \"mode\": \"lines\", \"name\": \"Goleta\", \"orientation\": \"v\", \"showlegend\": true, \"type\": \"scatter\", \"x\": [\"2020-10-20T00:00:00\", \"2020-10-19T00:00:00\", \"2020-10-16T00:00:00\", \"2020-10-15T00:00:00\", \"2020-10-14T00:00:00\", \"2020-10-13T00:00:00\", \"2020-10-12T00:00:00\", \"2020-10-09T00:00:00\", \"2020-10-08T00:00:00\", \"2020-10-07T00:00:00\", \"2020-10-06T00:00:00\", \"2020-10-05T00:00:00\", \"2020-10-02T00:00:00\", \"2020-10-01T00:00:00\", \"2020-09-30T00:00:00\", \"2020-09-29T00:00:00\", \"2020-09-28T00:00:00\", \"2020-09-25T00:00:00\", \"2020-09-24T00:00:00\", \"2020-09-23T00:00:00\", \"2020-09-22T00:00:00\", \"2020-09-21T00:00:00\", \"2020-09-18T00:00:00\", \"2020-09-17T00:00:00\", \"2020-09-16T00:00:00\", \"2020-09-15T00:00:00\", \"2020-09-14T00:00:00\", \"2020-09-11T00:00:00\", \"2020-09-10T00:00:00\", \"2020-09-09T00:00:00\", \"2020-09-08T00:00:00\", \"2020-09-04T00:00:00\", \"2020-09-03T00:00:00\", \"2020-09-02T00:00:00\", \"2020-09-01T00:00:00\", \"2020-08-31T00:00:00\", \"2020-08-28T00:00:00\", \"2020-08-27T00:00:00\", \"2020-08-26T00:00:00\", \"2020-08-25T00:00:00\", \"2020-08-25T00:00:00\", \"2020-08-24T00:00:00\", \"2020-08-21T00:00:00\", \"2020-08-20T00:00:00\", \"2020-08-19T00:00:00\", \"2020-08-18T00:00:00\", \"2020-08-17T00:00:00\", \"2020-08-14T00:00:00\", \"2020-08-13T00:00:00\", \"2020-08-12T00:00:00\", \"2020-08-11T00:00:00\", \"2020-08-10T00:00:00\", \"2020-08-07T00:00:00\", \"2020-08-06T00:00:00\", \"2020-08-05T00:00:00\", \"2020-08-04T00:00:00\", \"2020-08-03T00:00:00\", \"2020-07-31T00:00:00\", \"2020-07-30T00:00:00\", \"2020-07-29T00:00:00\", \"2020-07-28T00:00:00\", \"2020-07-27T00:00:00\", \"2020-07-24T00:00:00\", \"2020-07-23T00:00:00\", \"2020-07-22T00:00:00\", \"2020-07-21T00:00:00\", \"2020-07-20T00:00:00\", \"2020-07-17T00:00:00\", \"2020-07-16T00:00:00\", \"2020-07-15T00:00:00\", \"2020-07-14T00:00:00\", \"2020-07-13T00:00:00\", \"2020-07-10T00:00:00\", \"2020-07-09T00:00:00\", \"2020-07-08T00:00:00\"], \"xaxis\": \"x\", \"y\": [4, 4, 4, 5, 6, 5, 4, 4, 7, 6, 5, 6, 5, 4, 4, 5, 5, 5, 5, 5, 5, 5, 8, 9, 9, 7, 9, 10, 8, 8, 8, 1, 2, 4, 3, 4, 6, 5, 6, 8, 8, 10, 13, 8, 6, 7, 8, 7, 5, 7, 14, 16, 5, 6, 6, 6, 6, 8, 9, 7, 7, 8, 6, 15, 11, 9, 9, 10, 7, 6, 10, 12, 13, 12, 10], \"yaxis\": \"y\"}, {\"hovertemplate\": \"Area=Isla Vista<br>Date=%{x}<br>Active Cases=%{y}<extra></extra>\", \"legendgroup\": \"Isla Vista\", \"line\": {\"color\": \"#00cc96\", \"dash\": \"solid\"}, \"mode\": \"lines\", \"name\": \"Isla Vista\", \"orientation\": \"v\", \"showlegend\": true, \"type\": \"scatter\", \"x\": [\"2020-10-20T00:00:00\", \"2020-10-19T00:00:00\", \"2020-10-16T00:00:00\", \"2020-10-15T00:00:00\", \"2020-10-14T00:00:00\", \"2020-10-13T00:00:00\", \"2020-10-12T00:00:00\", \"2020-10-09T00:00:00\", \"2020-10-08T00:00:00\", \"2020-10-07T00:00:00\", \"2020-10-06T00:00:00\", \"2020-10-05T00:00:00\", \"2020-10-02T00:00:00\", \"2020-10-01T00:00:00\", \"2020-09-30T00:00:00\", \"2020-09-29T00:00:00\", \"2020-09-28T00:00:00\", \"2020-09-25T00:00:00\", \"2020-09-24T00:00:00\", \"2020-09-23T00:00:00\", \"2020-09-22T00:00:00\", \"2020-09-21T00:00:00\", \"2020-09-18T00:00:00\", \"2020-09-17T00:00:00\", \"2020-09-16T00:00:00\", \"2020-09-15T00:00:00\", \"2020-09-14T00:00:00\", \"2020-09-11T00:00:00\", \"2020-09-10T00:00:00\", \"2020-09-09T00:00:00\", \"2020-09-08T00:00:00\", \"2020-09-04T00:00:00\", \"2020-09-03T00:00:00\", \"2020-09-02T00:00:00\", \"2020-09-01T00:00:00\", \"2020-08-31T00:00:00\", \"2020-08-28T00:00:00\", \"2020-08-27T00:00:00\", \"2020-08-26T00:00:00\", \"2020-08-25T00:00:00\", \"2020-08-25T00:00:00\", \"2020-08-24T00:00:00\", \"2020-08-21T00:00:00\", \"2020-08-20T00:00:00\", \"2020-08-19T00:00:00\", \"2020-08-18T00:00:00\", \"2020-08-17T00:00:00\", \"2020-08-14T00:00:00\", \"2020-08-13T00:00:00\", \"2020-08-12T00:00:00\", \"2020-08-11T00:00:00\", \"2020-08-10T00:00:00\", \"2020-08-07T00:00:00\", \"2020-08-06T00:00:00\", \"2020-08-05T00:00:00\", \"2020-08-04T00:00:00\", \"2020-08-03T00:00:00\", \"2020-07-31T00:00:00\", \"2020-07-30T00:00:00\", \"2020-07-29T00:00:00\", \"2020-07-28T00:00:00\", \"2020-07-27T00:00:00\", \"2020-07-24T00:00:00\", \"2020-07-23T00:00:00\", \"2020-07-22T00:00:00\", \"2020-07-21T00:00:00\", \"2020-07-20T00:00:00\", \"2020-07-17T00:00:00\", \"2020-07-16T00:00:00\", \"2020-07-15T00:00:00\", \"2020-07-14T00:00:00\", \"2020-07-13T00:00:00\", \"2020-07-10T00:00:00\", \"2020-07-09T00:00:00\", \"2020-07-08T00:00:00\"], \"xaxis\": \"x\", \"y\": [32, 32, 12, 10, 11, 6, 7, 8, 4, 4, 5, 3, 7, 10, 15, 12, 13, 15, 13, 11, 10, 11, 21, 24, 20, 10, 15, 16, 14, 13, 14, 12, 12, 6, 4, 6, 4, 4, 8, 8, 8, 10, 10, 16, 20, 22, 24, 24, 17, 14, 20, 25, 20, 17, 10, 10, 8, 3, 5, 6, 2, 2, 5, 3, 4, 2, 0, 1, 2, 2, 0, 4, 6, 3, 6], \"yaxis\": \"y\"}, {\"hovertemplate\": \"Area=Goleta Valley/Gaviota<br>Date=%{x}<br>Active Cases=%{y}<extra></extra>\", \"legendgroup\": \"Goleta Valley/Gaviota\", \"line\": {\"color\": \"#ab63fa\", \"dash\": \"solid\"}, \"mode\": \"lines\", \"name\": \"Goleta Valley/Gaviota\", \"orientation\": \"v\", \"showlegend\": true, \"type\": \"scatter\", \"x\": [\"2020-10-20T00:00:00\", \"2020-10-19T00:00:00\", \"2020-10-16T00:00:00\", \"2020-10-15T00:00:00\", \"2020-10-14T00:00:00\", \"2020-10-13T00:00:00\", \"2020-10-12T00:00:00\", \"2020-10-09T00:00:00\", \"2020-10-08T00:00:00\", \"2020-10-07T00:00:00\", \"2020-10-06T00:00:00\", \"2020-10-05T00:00:00\", \"2020-10-02T00:00:00\", \"2020-10-01T00:00:00\", \"2020-09-30T00:00:00\", \"2020-09-29T00:00:00\", \"2020-09-28T00:00:00\", \"2020-09-25T00:00:00\", \"2020-09-24T00:00:00\", \"2020-09-23T00:00:00\", \"2020-09-22T00:00:00\", \"2020-09-21T00:00:00\", \"2020-09-18T00:00:00\", \"2020-09-17T00:00:00\", \"2020-09-16T00:00:00\", \"2020-09-15T00:00:00\", \"2020-09-14T00:00:00\", \"2020-09-11T00:00:00\", \"2020-09-10T00:00:00\", \"2020-09-09T00:00:00\", \"2020-09-08T00:00:00\", \"2020-09-04T00:00:00\", \"2020-09-03T00:00:00\", \"2020-09-02T00:00:00\", \"2020-09-01T00:00:00\", \"2020-08-31T00:00:00\", \"2020-08-28T00:00:00\", \"2020-08-27T00:00:00\", \"2020-08-26T00:00:00\", \"2020-08-25T00:00:00\", \"2020-08-25T00:00:00\", \"2020-08-24T00:00:00\", \"2020-08-21T00:00:00\", \"2020-08-20T00:00:00\", \"2020-08-19T00:00:00\", \"2020-08-18T00:00:00\", \"2020-08-17T00:00:00\", \"2020-08-14T00:00:00\", \"2020-08-13T00:00:00\", \"2020-08-12T00:00:00\", \"2020-08-11T00:00:00\", \"2020-08-10T00:00:00\", \"2020-08-07T00:00:00\", \"2020-08-06T00:00:00\", \"2020-08-05T00:00:00\", \"2020-08-04T00:00:00\", \"2020-08-03T00:00:00\", \"2020-07-31T00:00:00\", \"2020-07-30T00:00:00\", \"2020-07-29T00:00:00\", \"2020-07-28T00:00:00\", \"2020-07-27T00:00:00\", \"2020-07-24T00:00:00\", \"2020-07-23T00:00:00\", \"2020-07-22T00:00:00\", \"2020-07-21T00:00:00\", \"2020-07-20T00:00:00\", \"2020-07-17T00:00:00\", \"2020-07-16T00:00:00\", \"2020-07-15T00:00:00\", \"2020-07-14T00:00:00\", \"2020-07-13T00:00:00\", \"2020-07-10T00:00:00\", \"2020-07-09T00:00:00\", \"2020-07-08T00:00:00\"], \"xaxis\": \"x\", \"y\": [3, 3, 5, 5, 5, 5, 3, 4, 2, 2, 2, 2, 3, 3, 3, 3, 2, 4, 4, 3, 3, 7, 8, 10, 11, 8, 8, 7, 7, 6, 3, 18, 18, 22, 22, 25, 13, 9, 8, 5, 5, 8, 11, 11, 12, 10, 4, 6, 5, 8, 9, 7, 1, 1, 2, 2, 2, 5, 6, 6, 5, 5, 6, 7, 13, 12, 6, 5, 7, 8, 7, 6, 7, 6, 11], \"yaxis\": \"y\"}, {\"hovertemplate\": \"Area=Santa Ynez Valley<br>Date=%{x}<br>Active Cases=%{y}<extra></extra>\", \"legendgroup\": \"Santa Ynez Valley\", \"line\": {\"color\": \"#FFA15A\", \"dash\": \"solid\"}, \"mode\": \"lines\", \"name\": \"Santa Ynez Valley\", \"orientation\": \"v\", \"showlegend\": true, \"type\": \"scatter\", \"x\": [\"2020-10-20T00:00:00\", \"2020-10-19T00:00:00\", \"2020-10-16T00:00:00\", \"2020-10-15T00:00:00\", \"2020-10-14T00:00:00\", \"2020-10-13T00:00:00\", \"2020-10-12T00:00:00\", \"2020-10-09T00:00:00\", \"2020-10-08T00:00:00\", \"2020-10-07T00:00:00\", \"2020-10-06T00:00:00\", \"2020-10-05T00:00:00\", \"2020-10-02T00:00:00\", \"2020-10-01T00:00:00\", \"2020-09-30T00:00:00\", \"2020-09-29T00:00:00\", \"2020-09-28T00:00:00\", \"2020-09-25T00:00:00\", \"2020-09-24T00:00:00\", \"2020-09-23T00:00:00\", \"2020-09-22T00:00:00\", \"2020-09-21T00:00:00\", \"2020-09-18T00:00:00\", \"2020-09-17T00:00:00\", \"2020-09-16T00:00:00\", \"2020-09-15T00:00:00\", \"2020-09-14T00:00:00\", \"2020-09-11T00:00:00\", \"2020-09-10T00:00:00\", \"2020-09-09T00:00:00\", \"2020-09-08T00:00:00\", \"2020-09-04T00:00:00\", \"2020-09-03T00:00:00\", \"2020-09-02T00:00:00\", \"2020-09-01T00:00:00\", \"2020-08-31T00:00:00\", \"2020-08-28T00:00:00\", \"2020-08-27T00:00:00\", \"2020-08-26T00:00:00\", \"2020-08-25T00:00:00\", \"2020-08-25T00:00:00\", \"2020-08-24T00:00:00\", \"2020-08-21T00:00:00\", \"2020-08-20T00:00:00\", \"2020-08-19T00:00:00\", \"2020-08-18T00:00:00\", \"2020-08-17T00:00:00\", \"2020-08-14T00:00:00\", \"2020-08-13T00:00:00\", \"2020-08-12T00:00:00\", \"2020-08-11T00:00:00\", \"2020-08-10T00:00:00\", \"2020-08-07T00:00:00\", \"2020-08-06T00:00:00\", \"2020-08-05T00:00:00\", \"2020-08-04T00:00:00\", \"2020-08-03T00:00:00\", \"2020-07-31T00:00:00\", \"2020-07-30T00:00:00\", \"2020-07-29T00:00:00\", \"2020-07-28T00:00:00\", \"2020-07-27T00:00:00\", \"2020-07-24T00:00:00\", \"2020-07-23T00:00:00\", \"2020-07-22T00:00:00\", \"2020-07-21T00:00:00\", \"2020-07-20T00:00:00\", \"2020-07-17T00:00:00\", \"2020-07-16T00:00:00\", \"2020-07-15T00:00:00\", \"2020-07-14T00:00:00\", \"2020-07-13T00:00:00\", \"2020-07-10T00:00:00\", \"2020-07-09T00:00:00\", \"2020-07-08T00:00:00\"], \"xaxis\": \"x\", \"y\": [6, 4, 8, 7, 10, 10, 8, 4, 5, 4, 3, 3, 3, 2, 1, 1, 3, 8, 8, 8, 6, 5, 7, 8, 8, 7, 10, 8, 9, 7, 5, 5, 6, 9, 8, 8, 11, 14, 14, 11, 11, 13, 10, 5, 1, 2, 5, 7, 8, 5, 4, 4, 1, 0, 0, 1, 1, 4, 4, 3, 4, 5, 7, 7, 8, 7, 2, 10, 12, 8, 8, 7, 8, 9, 7], \"yaxis\": \"y\"}, {\"hovertemplate\": \"Area=Lompoc<br>Date=%{x}<br>Active Cases=%{y}<extra></extra>\", \"legendgroup\": \"Lompoc\", \"line\": {\"color\": \"#19d3f3\", \"dash\": \"solid\"}, \"mode\": \"lines\", \"name\": \"Lompoc\", \"orientation\": \"v\", \"showlegend\": true, \"type\": \"scatter\", \"x\": [\"2020-10-20T00:00:00\", \"2020-10-19T00:00:00\", \"2020-10-16T00:00:00\", \"2020-10-15T00:00:00\", \"2020-10-14T00:00:00\", \"2020-10-13T00:00:00\", \"2020-10-12T00:00:00\", \"2020-10-09T00:00:00\", \"2020-10-08T00:00:00\", \"2020-10-07T00:00:00\", \"2020-10-06T00:00:00\", \"2020-10-05T00:00:00\", \"2020-10-02T00:00:00\", \"2020-10-01T00:00:00\", \"2020-09-30T00:00:00\", \"2020-09-29T00:00:00\", \"2020-09-28T00:00:00\", \"2020-09-25T00:00:00\", \"2020-09-24T00:00:00\", \"2020-09-23T00:00:00\", \"2020-09-22T00:00:00\", \"2020-09-21T00:00:00\", \"2020-09-18T00:00:00\", \"2020-09-17T00:00:00\", \"2020-09-16T00:00:00\", \"2020-09-15T00:00:00\", \"2020-09-14T00:00:00\", \"2020-09-11T00:00:00\", \"2020-09-10T00:00:00\", \"2020-09-09T00:00:00\", \"2020-09-08T00:00:00\", \"2020-09-04T00:00:00\", \"2020-09-03T00:00:00\", \"2020-09-02T00:00:00\", \"2020-09-01T00:00:00\", \"2020-08-31T00:00:00\", \"2020-08-28T00:00:00\", \"2020-08-27T00:00:00\", \"2020-08-26T00:00:00\", \"2020-08-25T00:00:00\", \"2020-08-25T00:00:00\", \"2020-08-24T00:00:00\", \"2020-08-21T00:00:00\", \"2020-08-20T00:00:00\", \"2020-08-19T00:00:00\", \"2020-08-18T00:00:00\", \"2020-08-17T00:00:00\", \"2020-08-14T00:00:00\", \"2020-08-13T00:00:00\", \"2020-08-12T00:00:00\", \"2020-08-11T00:00:00\", \"2020-08-10T00:00:00\", \"2020-08-07T00:00:00\", \"2020-08-06T00:00:00\", \"2020-08-05T00:00:00\", \"2020-08-04T00:00:00\", \"2020-08-03T00:00:00\", \"2020-07-31T00:00:00\", \"2020-07-30T00:00:00\", \"2020-07-29T00:00:00\", \"2020-07-28T00:00:00\", \"2020-07-27T00:00:00\", \"2020-07-24T00:00:00\", \"2020-07-23T00:00:00\", \"2020-07-22T00:00:00\", \"2020-07-21T00:00:00\", \"2020-07-20T00:00:00\", \"2020-07-17T00:00:00\", \"2020-07-16T00:00:00\", \"2020-07-15T00:00:00\", \"2020-07-14T00:00:00\", \"2020-07-13T00:00:00\", \"2020-07-10T00:00:00\", \"2020-07-09T00:00:00\", \"2020-07-08T00:00:00\"], \"xaxis\": \"x\", \"y\": [13, 16, 12, 12, 15, 17, 22, 24, 24, 23, 21, 22, 22, 20, 26, 25, 26, 19, 14, 15, 14, 18, 28, 22, 18, 18, 20, 18, 24, 36, 37, 38, 39, 35, 23, 28, 24, 19, 23, 24, 24, 23, 26, 25, 28, 30, 36, 28, 18, 23, 30, 32, 26, 24, 23, 23, 25, 27, 24, 34, 35, 31, 39, 41, 42, 33, 35, 43, 32, 25, 29, 25, 22, 24, 29], \"yaxis\": \"y\"}, {\"hovertemplate\": \"Area=Federal Prison in Lompoc<br>Date=%{x}<br>Active Cases=%{y}<extra></extra>\", \"legendgroup\": \"Federal Prison in Lompoc\", \"line\": {\"color\": \"#FF6692\", \"dash\": \"solid\"}, \"mode\": \"lines\", \"name\": \"Federal Prison in Lompoc\", \"orientation\": \"v\", \"showlegend\": true, \"type\": \"scatter\", \"x\": [\"2020-10-20T00:00:00\", \"2020-10-19T00:00:00\", \"2020-10-16T00:00:00\", \"2020-10-15T00:00:00\", \"2020-10-14T00:00:00\", \"2020-10-13T00:00:00\", \"2020-10-12T00:00:00\", \"2020-10-09T00:00:00\", \"2020-10-08T00:00:00\", \"2020-10-07T00:00:00\", \"2020-10-06T00:00:00\", \"2020-10-05T00:00:00\", \"2020-10-02T00:00:00\", \"2020-10-01T00:00:00\", \"2020-09-30T00:00:00\", \"2020-09-29T00:00:00\", \"2020-09-28T00:00:00\", \"2020-09-25T00:00:00\", \"2020-09-24T00:00:00\", \"2020-09-23T00:00:00\", \"2020-09-22T00:00:00\", \"2020-09-21T00:00:00\", \"2020-09-18T00:00:00\", \"2020-09-17T00:00:00\", \"2020-09-16T00:00:00\", \"2020-09-15T00:00:00\", \"2020-09-14T00:00:00\", \"2020-09-11T00:00:00\", \"2020-09-10T00:00:00\", \"2020-09-09T00:00:00\", \"2020-09-08T00:00:00\", \"2020-09-04T00:00:00\", \"2020-09-03T00:00:00\", \"2020-09-02T00:00:00\", \"2020-09-01T00:00:00\", \"2020-08-31T00:00:00\", \"2020-08-28T00:00:00\", \"2020-08-27T00:00:00\", \"2020-08-26T00:00:00\", \"2020-08-25T00:00:00\", \"2020-08-25T00:00:00\", \"2020-08-24T00:00:00\", \"2020-08-21T00:00:00\", \"2020-08-20T00:00:00\", \"2020-08-19T00:00:00\", \"2020-08-18T00:00:00\", \"2020-08-17T00:00:00\", \"2020-08-14T00:00:00\", \"2020-08-13T00:00:00\", \"2020-08-12T00:00:00\", \"2020-08-11T00:00:00\", \"2020-08-10T00:00:00\", \"2020-08-07T00:00:00\", \"2020-08-06T00:00:00\", \"2020-08-05T00:00:00\", \"2020-08-04T00:00:00\", \"2020-08-03T00:00:00\", \"2020-07-31T00:00:00\", \"2020-07-30T00:00:00\", \"2020-07-29T00:00:00\", \"2020-07-28T00:00:00\", \"2020-07-27T00:00:00\", \"2020-07-24T00:00:00\", \"2020-07-23T00:00:00\", \"2020-07-22T00:00:00\", \"2020-07-21T00:00:00\", \"2020-07-20T00:00:00\", \"2020-07-17T00:00:00\", \"2020-07-16T00:00:00\", \"2020-07-15T00:00:00\", \"2020-07-14T00:00:00\", \"2020-07-13T00:00:00\", \"2020-07-10T00:00:00\", \"2020-07-09T00:00:00\", \"2020-07-08T00:00:00\"], \"xaxis\": \"x\", \"y\": [0, 0, 1, 1, 1, 1, 0, 1, 1, 1, 1, 0, 0, 0, 0, 0, 0, 0, 0, 0, 0, 0, 2, 0, 0, 0, 0, 1, 1, 1, 0, 2, 3, 3, 3, 0, 0, 0, 0, 0, 0, 0, 0, 0, 0, 0, 0, 0, 0, 0, 0, 0, 0, 0, 0, 0, 0, 0, 0, 0, 0, 0, 7, 5, 8, 5, 7, 7, 3, 0, 1, 1, 1, 1, 0], \"yaxis\": \"y\"}, {\"hovertemplate\": \"Area=Santa Maria<br>Date=%{x}<br>Active Cases=%{y}<extra></extra>\", \"legendgroup\": \"Santa Maria\", \"line\": {\"color\": \"#B6E880\", \"dash\": \"solid\"}, \"mode\": \"lines\", \"name\": \"Santa Maria\", \"orientation\": \"v\", \"showlegend\": true, \"type\": \"scatter\", \"x\": [\"2020-10-20T00:00:00\", \"2020-10-19T00:00:00\", \"2020-10-16T00:00:00\", \"2020-10-15T00:00:00\", \"2020-10-14T00:00:00\", \"2020-10-13T00:00:00\", \"2020-10-12T00:00:00\", \"2020-10-09T00:00:00\", \"2020-10-08T00:00:00\", \"2020-10-07T00:00:00\", \"2020-10-06T00:00:00\", \"2020-10-05T00:00:00\", \"2020-10-02T00:00:00\", \"2020-10-01T00:00:00\", \"2020-09-30T00:00:00\", \"2020-09-29T00:00:00\", \"2020-09-28T00:00:00\", \"2020-09-25T00:00:00\", \"2020-09-24T00:00:00\", \"2020-09-23T00:00:00\", \"2020-09-22T00:00:00\", \"2020-09-21T00:00:00\", \"2020-09-18T00:00:00\", \"2020-09-17T00:00:00\", \"2020-09-16T00:00:00\", \"2020-09-15T00:00:00\", \"2020-09-14T00:00:00\", \"2020-09-11T00:00:00\", \"2020-09-10T00:00:00\", \"2020-09-09T00:00:00\", \"2020-09-08T00:00:00\", \"2020-09-04T00:00:00\", \"2020-09-03T00:00:00\", \"2020-09-02T00:00:00\", \"2020-09-01T00:00:00\", \"2020-08-31T00:00:00\", \"2020-08-28T00:00:00\", \"2020-08-27T00:00:00\", \"2020-08-26T00:00:00\", \"2020-08-25T00:00:00\", \"2020-08-25T00:00:00\", \"2020-08-24T00:00:00\", \"2020-08-21T00:00:00\", \"2020-08-20T00:00:00\", \"2020-08-19T00:00:00\", \"2020-08-18T00:00:00\", \"2020-08-17T00:00:00\", \"2020-08-14T00:00:00\", \"2020-08-13T00:00:00\", \"2020-08-12T00:00:00\", \"2020-08-11T00:00:00\", \"2020-08-10T00:00:00\", \"2020-08-07T00:00:00\", \"2020-08-06T00:00:00\", \"2020-08-05T00:00:00\", \"2020-08-04T00:00:00\", \"2020-08-03T00:00:00\", \"2020-07-31T00:00:00\", \"2020-07-30T00:00:00\", \"2020-07-29T00:00:00\", \"2020-07-28T00:00:00\", \"2020-07-27T00:00:00\", \"2020-07-24T00:00:00\", \"2020-07-23T00:00:00\", \"2020-07-22T00:00:00\", \"2020-07-21T00:00:00\", \"2020-07-20T00:00:00\", \"2020-07-17T00:00:00\", \"2020-07-16T00:00:00\", \"2020-07-15T00:00:00\", \"2020-07-14T00:00:00\", \"2020-07-13T00:00:00\", \"2020-07-10T00:00:00\", \"2020-07-09T00:00:00\", \"2020-07-08T00:00:00\"], \"xaxis\": \"x\", \"y\": [30, 27, 39, 42, 45, 45, 44, 49, 48, 54, 52, 56, 75, 70, 73, 63, 61, 54, 48, 52, 56, 56, 52, 46, 53, 44, 40, 51, 63, 77, 70, 78, 68, 79, 81, 85, 103, 94, 92, 93, 93, 87, 83, 69, 79, 91, 108, 121, 86, 106, 123, 116, 73, 78, 97, 98, 118, 97, 117, 158, 167, 164, 183, 168, 167, 136, 123, 220, 227, 193, 220, 167, 172, 189, 226], \"yaxis\": \"y\"}, {\"hovertemplate\": \"Area=Orcutt<br>Date=%{x}<br>Active Cases=%{y}<extra></extra>\", \"legendgroup\": \"Orcutt\", \"line\": {\"color\": \"#FF97FF\", \"dash\": \"solid\"}, \"mode\": \"lines\", \"name\": \"Orcutt\", \"orientation\": \"v\", \"showlegend\": true, \"type\": \"scatter\", \"x\": [\"2020-10-20T00:00:00\", \"2020-10-19T00:00:00\", \"2020-10-16T00:00:00\", \"2020-10-15T00:00:00\", \"2020-10-14T00:00:00\", \"2020-10-13T00:00:00\", \"2020-10-12T00:00:00\", \"2020-10-09T00:00:00\", \"2020-10-08T00:00:00\", \"2020-10-07T00:00:00\", \"2020-10-06T00:00:00\", \"2020-10-05T00:00:00\", \"2020-10-02T00:00:00\", \"2020-10-01T00:00:00\", \"2020-09-30T00:00:00\", \"2020-09-29T00:00:00\", \"2020-09-28T00:00:00\", \"2020-09-25T00:00:00\", \"2020-09-24T00:00:00\", \"2020-09-23T00:00:00\", \"2020-09-22T00:00:00\", \"2020-09-21T00:00:00\", \"2020-09-18T00:00:00\", \"2020-09-17T00:00:00\", \"2020-09-16T00:00:00\", \"2020-09-15T00:00:00\", \"2020-09-14T00:00:00\", \"2020-09-11T00:00:00\", \"2020-09-10T00:00:00\", \"2020-09-09T00:00:00\", \"2020-09-08T00:00:00\", \"2020-09-04T00:00:00\", \"2020-09-03T00:00:00\", \"2020-09-02T00:00:00\", \"2020-09-01T00:00:00\", \"2020-08-31T00:00:00\", \"2020-08-28T00:00:00\", \"2020-08-27T00:00:00\", \"2020-08-26T00:00:00\", \"2020-08-25T00:00:00\", \"2020-08-25T00:00:00\", \"2020-08-24T00:00:00\", \"2020-08-21T00:00:00\", \"2020-08-20T00:00:00\", \"2020-08-19T00:00:00\", \"2020-08-18T00:00:00\", \"2020-08-17T00:00:00\", \"2020-08-14T00:00:00\", \"2020-08-13T00:00:00\", \"2020-08-12T00:00:00\", \"2020-08-11T00:00:00\", \"2020-08-10T00:00:00\", \"2020-08-07T00:00:00\", \"2020-08-06T00:00:00\", \"2020-08-05T00:00:00\", \"2020-08-04T00:00:00\", \"2020-08-03T00:00:00\", \"2020-07-31T00:00:00\", \"2020-07-30T00:00:00\", \"2020-07-29T00:00:00\", \"2020-07-28T00:00:00\", \"2020-07-27T00:00:00\", \"2020-07-24T00:00:00\", \"2020-07-23T00:00:00\", \"2020-07-22T00:00:00\", \"2020-07-21T00:00:00\", \"2020-07-20T00:00:00\", \"2020-07-17T00:00:00\", \"2020-07-16T00:00:00\", \"2020-07-15T00:00:00\", \"2020-07-14T00:00:00\", \"2020-07-13T00:00:00\", \"2020-07-10T00:00:00\", \"2020-07-09T00:00:00\", \"2020-07-08T00:00:00\"], \"xaxis\": \"x\", \"y\": [3, 9, 4, 4, 8, 9, 8, 10, 10, 5, 5, 5, 9, 12, 12, 13, 14, 12, 9, 10, 8, 8, 8, 9, 12, 8, 6, 9, 10, 10, 9, 4, 6, 8, 7, 8, 7, 5, 6, 7, 7, 6, 11, 9, 8, 6, 6, 6, 7, 10, 14, 11, 3, 5, 4, 4, 6, 7, 10, 11, 12, 7, 10, 11, 12, 12, 10, 11, 14, 10, 12, 14, 10, 15, 17], \"yaxis\": \"y\"}],                        {\"font\": {\"color\": \"white\", \"family\": \"Courier\"}, \"hovermode\": \"closest\", \"legend\": {\"orientation\": \"h\", \"title\": {\"text\": \"Area\"}, \"tracegroupgap\": 0, \"x\": 0, \"xanchor\": \"left\", \"y\": 1.02, \"yanchor\": \"bottom\"}, \"template\": {\"data\": {\"bar\": [{\"error_x\": {\"color\": \"#f2f5fa\"}, \"error_y\": {\"color\": \"#f2f5fa\"}, \"marker\": {\"line\": {\"color\": \"rgb(17,17,17)\", \"width\": 0.5}}, \"type\": \"bar\"}], \"barpolar\": [{\"marker\": {\"line\": {\"color\": \"rgb(17,17,17)\", \"width\": 0.5}}, \"type\": \"barpolar\"}], \"carpet\": [{\"aaxis\": {\"endlinecolor\": \"#A2B1C6\", \"gridcolor\": \"#506784\", \"linecolor\": \"#506784\", \"minorgridcolor\": \"#506784\", \"startlinecolor\": \"#A2B1C6\"}, \"baxis\": {\"endlinecolor\": \"#A2B1C6\", \"gridcolor\": \"#506784\", \"linecolor\": \"#506784\", \"minorgridcolor\": \"#506784\", \"startlinecolor\": \"#A2B1C6\"}, \"type\": \"carpet\"}], \"choropleth\": [{\"colorbar\": {\"outlinewidth\": 0, \"ticks\": \"\"}, \"type\": \"choropleth\"}], \"contour\": [{\"colorbar\": {\"outlinewidth\": 0, \"ticks\": \"\"}, \"colorscale\": [[0.0, \"#0d0887\"], [0.1111111111111111, \"#46039f\"], [0.2222222222222222, \"#7201a8\"], [0.3333333333333333, \"#9c179e\"], [0.4444444444444444, \"#bd3786\"], [0.5555555555555556, \"#d8576b\"], [0.6666666666666666, \"#ed7953\"], [0.7777777777777778, \"#fb9f3a\"], [0.8888888888888888, \"#fdca26\"], [1.0, \"#f0f921\"]], \"type\": \"contour\"}], \"contourcarpet\": [{\"colorbar\": {\"outlinewidth\": 0, \"ticks\": \"\"}, \"type\": \"contourcarpet\"}], \"heatmap\": [{\"colorbar\": {\"outlinewidth\": 0, \"ticks\": \"\"}, \"colorscale\": [[0.0, \"#0d0887\"], [0.1111111111111111, \"#46039f\"], [0.2222222222222222, \"#7201a8\"], [0.3333333333333333, \"#9c179e\"], [0.4444444444444444, \"#bd3786\"], [0.5555555555555556, \"#d8576b\"], [0.6666666666666666, \"#ed7953\"], [0.7777777777777778, \"#fb9f3a\"], [0.8888888888888888, \"#fdca26\"], [1.0, \"#f0f921\"]], \"type\": \"heatmap\"}], \"heatmapgl\": [{\"colorbar\": {\"outlinewidth\": 0, \"ticks\": \"\"}, \"colorscale\": [[0.0, \"#0d0887\"], [0.1111111111111111, \"#46039f\"], [0.2222222222222222, \"#7201a8\"], [0.3333333333333333, \"#9c179e\"], [0.4444444444444444, \"#bd3786\"], [0.5555555555555556, \"#d8576b\"], [0.6666666666666666, \"#ed7953\"], [0.7777777777777778, \"#fb9f3a\"], [0.8888888888888888, \"#fdca26\"], [1.0, \"#f0f921\"]], \"type\": \"heatmapgl\"}], \"histogram\": [{\"marker\": {\"colorbar\": {\"outlinewidth\": 0, \"ticks\": \"\"}}, \"type\": \"histogram\"}], \"histogram2d\": [{\"colorbar\": {\"outlinewidth\": 0, \"ticks\": \"\"}, \"colorscale\": [[0.0, \"#0d0887\"], [0.1111111111111111, \"#46039f\"], [0.2222222222222222, \"#7201a8\"], [0.3333333333333333, \"#9c179e\"], [0.4444444444444444, \"#bd3786\"], [0.5555555555555556, \"#d8576b\"], [0.6666666666666666, \"#ed7953\"], [0.7777777777777778, \"#fb9f3a\"], [0.8888888888888888, \"#fdca26\"], [1.0, \"#f0f921\"]], \"type\": \"histogram2d\"}], \"histogram2dcontour\": [{\"colorbar\": {\"outlinewidth\": 0, \"ticks\": \"\"}, \"colorscale\": [[0.0, \"#0d0887\"], [0.1111111111111111, \"#46039f\"], [0.2222222222222222, \"#7201a8\"], [0.3333333333333333, \"#9c179e\"], [0.4444444444444444, \"#bd3786\"], [0.5555555555555556, \"#d8576b\"], [0.6666666666666666, \"#ed7953\"], [0.7777777777777778, \"#fb9f3a\"], [0.8888888888888888, \"#fdca26\"], [1.0, \"#f0f921\"]], \"type\": \"histogram2dcontour\"}], \"mesh3d\": [{\"colorbar\": {\"outlinewidth\": 0, \"ticks\": \"\"}, \"type\": \"mesh3d\"}], \"parcoords\": [{\"line\": {\"colorbar\": {\"outlinewidth\": 0, \"ticks\": \"\"}}, \"type\": \"parcoords\"}], \"pie\": [{\"automargin\": true, \"type\": \"pie\"}], \"scatter\": [{\"marker\": {\"line\": {\"color\": \"#283442\"}}, \"type\": \"scatter\"}], \"scatter3d\": [{\"line\": {\"colorbar\": {\"outlinewidth\": 0, \"ticks\": \"\"}}, \"marker\": {\"colorbar\": {\"outlinewidth\": 0, \"ticks\": \"\"}}, \"type\": \"scatter3d\"}], \"scattercarpet\": [{\"marker\": {\"colorbar\": {\"outlinewidth\": 0, \"ticks\": \"\"}}, \"type\": \"scattercarpet\"}], \"scattergeo\": [{\"marker\": {\"colorbar\": {\"outlinewidth\": 0, \"ticks\": \"\"}}, \"type\": \"scattergeo\"}], \"scattergl\": [{\"marker\": {\"line\": {\"color\": \"#283442\"}}, \"type\": \"scattergl\"}], \"scattermapbox\": [{\"marker\": {\"colorbar\": {\"outlinewidth\": 0, \"ticks\": \"\"}}, \"type\": \"scattermapbox\"}], \"scatterpolar\": [{\"marker\": {\"colorbar\": {\"outlinewidth\": 0, \"ticks\": \"\"}}, \"type\": \"scatterpolar\"}], \"scatterpolargl\": [{\"marker\": {\"colorbar\": {\"outlinewidth\": 0, \"ticks\": \"\"}}, \"type\": \"scatterpolargl\"}], \"scatterternary\": [{\"marker\": {\"colorbar\": {\"outlinewidth\": 0, \"ticks\": \"\"}}, \"type\": \"scatterternary\"}], \"surface\": [{\"colorbar\": {\"outlinewidth\": 0, \"ticks\": \"\"}, \"colorscale\": [[0.0, \"#0d0887\"], [0.1111111111111111, \"#46039f\"], [0.2222222222222222, \"#7201a8\"], [0.3333333333333333, \"#9c179e\"], [0.4444444444444444, \"#bd3786\"], [0.5555555555555556, \"#d8576b\"], [0.6666666666666666, \"#ed7953\"], [0.7777777777777778, \"#fb9f3a\"], [0.8888888888888888, \"#fdca26\"], [1.0, \"#f0f921\"]], \"type\": \"surface\"}], \"table\": [{\"cells\": {\"fill\": {\"color\": \"#506784\"}, \"line\": {\"color\": \"rgb(17,17,17)\"}}, \"header\": {\"fill\": {\"color\": \"#2a3f5f\"}, \"line\": {\"color\": \"rgb(17,17,17)\"}}, \"type\": \"table\"}]}, \"layout\": {\"annotationdefaults\": {\"arrowcolor\": \"#f2f5fa\", \"arrowhead\": 0, \"arrowwidth\": 1}, \"coloraxis\": {\"colorbar\": {\"outlinewidth\": 0, \"ticks\": \"\"}}, \"colorscale\": {\"diverging\": [[0, \"#8e0152\"], [0.1, \"#c51b7d\"], [0.2, \"#de77ae\"], [0.3, \"#f1b6da\"], [0.4, \"#fde0ef\"], [0.5, \"#f7f7f7\"], [0.6, \"#e6f5d0\"], [0.7, \"#b8e186\"], [0.8, \"#7fbc41\"], [0.9, \"#4d9221\"], [1, \"#276419\"]], \"sequential\": [[0.0, \"#0d0887\"], [0.1111111111111111, \"#46039f\"], [0.2222222222222222, \"#7201a8\"], [0.3333333333333333, \"#9c179e\"], [0.4444444444444444, \"#bd3786\"], [0.5555555555555556, \"#d8576b\"], [0.6666666666666666, \"#ed7953\"], [0.7777777777777778, \"#fb9f3a\"], [0.8888888888888888, \"#fdca26\"], [1.0, \"#f0f921\"]], \"sequentialminus\": [[0.0, \"#0d0887\"], [0.1111111111111111, \"#46039f\"], [0.2222222222222222, \"#7201a8\"], [0.3333333333333333, \"#9c179e\"], [0.4444444444444444, \"#bd3786\"], [0.5555555555555556, \"#d8576b\"], [0.6666666666666666, \"#ed7953\"], [0.7777777777777778, \"#fb9f3a\"], [0.8888888888888888, \"#fdca26\"], [1.0, \"#f0f921\"]]}, \"colorway\": [\"#636efa\", \"#EF553B\", \"#00cc96\", \"#ab63fa\", \"#FFA15A\", \"#19d3f3\", \"#FF6692\", \"#B6E880\", \"#FF97FF\", \"#FECB52\"], \"font\": {\"color\": \"#f2f5fa\"}, \"geo\": {\"bgcolor\": \"rgb(17,17,17)\", \"lakecolor\": \"rgb(17,17,17)\", \"landcolor\": \"rgb(17,17,17)\", \"showlakes\": true, \"showland\": true, \"subunitcolor\": \"#506784\"}, \"hoverlabel\": {\"align\": \"left\"}, \"hovermode\": \"closest\", \"mapbox\": {\"style\": \"dark\"}, \"paper_bgcolor\": \"rgb(17,17,17)\", \"plot_bgcolor\": \"rgb(17,17,17)\", \"polar\": {\"angularaxis\": {\"gridcolor\": \"#506784\", \"linecolor\": \"#506784\", \"ticks\": \"\"}, \"bgcolor\": \"rgb(17,17,17)\", \"radialaxis\": {\"gridcolor\": \"#506784\", \"linecolor\": \"#506784\", \"ticks\": \"\"}}, \"scene\": {\"xaxis\": {\"backgroundcolor\": \"rgb(17,17,17)\", \"gridcolor\": \"#506784\", \"gridwidth\": 2, \"linecolor\": \"#506784\", \"showbackground\": true, \"ticks\": \"\", \"zerolinecolor\": \"#C8D4E3\"}, \"yaxis\": {\"backgroundcolor\": \"rgb(17,17,17)\", \"gridcolor\": \"#506784\", \"gridwidth\": 2, \"linecolor\": \"#506784\", \"showbackground\": true, \"ticks\": \"\", \"zerolinecolor\": \"#C8D4E3\"}, \"zaxis\": {\"backgroundcolor\": \"rgb(17,17,17)\", \"gridcolor\": \"#506784\", \"gridwidth\": 2, \"linecolor\": \"#506784\", \"showbackground\": true, \"ticks\": \"\", \"zerolinecolor\": \"#C8D4E3\"}}, \"shapedefaults\": {\"line\": {\"color\": \"#f2f5fa\"}}, \"sliderdefaults\": {\"bgcolor\": \"#C8D4E3\", \"bordercolor\": \"rgb(17,17,17)\", \"borderwidth\": 1, \"tickwidth\": 0}, \"ternary\": {\"aaxis\": {\"gridcolor\": \"#506784\", \"linecolor\": \"#506784\", \"ticks\": \"\"}, \"baxis\": {\"gridcolor\": \"#506784\", \"linecolor\": \"#506784\", \"ticks\": \"\"}, \"bgcolor\": \"rgb(17,17,17)\", \"caxis\": {\"gridcolor\": \"#506784\", \"linecolor\": \"#506784\", \"ticks\": \"\"}}, \"title\": {\"x\": 0.05}, \"updatemenudefaults\": {\"bgcolor\": \"#506784\", \"borderwidth\": 0}, \"xaxis\": {\"automargin\": true, \"gridcolor\": \"#283442\", \"linecolor\": \"#506784\", \"ticks\": \"\", \"title\": {\"standoff\": 15}, \"zerolinecolor\": \"#283442\", \"zerolinewidth\": 2}, \"yaxis\": {\"automargin\": true, \"gridcolor\": \"#283442\", \"linecolor\": \"#506784\", \"ticks\": \"\", \"title\": {\"standoff\": 15}, \"zerolinecolor\": \"#283442\", \"zerolinewidth\": 2}}}, \"title\": {\"font\": {\"size\": 24}, \"text\": \"Active Cases by Region\"}, \"xaxis\": {\"anchor\": \"y\", \"domain\": [0.0, 1.0], \"title\": {\"text\": \"Date\"}}, \"yaxis\": {\"anchor\": \"x\", \"domain\": [0.0, 1.0], \"title\": {\"text\": \"Active Cases\"}}},                        {\"responsive\": true}                    ).then(function(){\n",
              "                            \n",
              "var gd = document.getElementById('03144744-624b-46ba-86a3-ea6aa16fdd1a');\n",
              "var x = new MutationObserver(function (mutations, observer) {{\n",
              "        var display = window.getComputedStyle(gd).display;\n",
              "        if (!display || display === 'none') {{\n",
              "            console.log([gd, 'removed!']);\n",
              "            Plotly.purge(gd);\n",
              "            observer.disconnect();\n",
              "        }}\n",
              "}});\n",
              "\n",
              "// Listen for the removal of the full notebook cells\n",
              "var notebookContainer = gd.closest('#notebook-container');\n",
              "if (notebookContainer) {{\n",
              "    x.observe(notebookContainer, {childList: true});\n",
              "}}\n",
              "\n",
              "// Listen for the clearing of the current output cell\n",
              "var outputEl = gd.closest('.output');\n",
              "if (outputEl) {{\n",
              "    x.observe(outputEl, {childList: true});\n",
              "}}\n",
              "\n",
              "                        })                };                            </script>        </div>\n",
              "</body>\n",
              "</html>"
            ]
          },
          "metadata": {
            "tags": []
          }
        }
      ]
    },
    {
      "cell_type": "code",
      "metadata": {
        "id": "MMhpFj0FwMU5",
        "outputId": "b21b05a6-cc2d-4876-db24-3db1d6892baa",
        "colab": {
          "base_uri": "https://localhost:8080/",
          "height": 542
        }
      },
      "source": [
        "create_line_plot('Number of Deaths')"
      ],
      "execution_count": 168,
      "outputs": [
        {
          "output_type": "display_data",
          "data": {
            "text/html": [
              "<html>\n",
              "<head><meta charset=\"utf-8\" /></head>\n",
              "<body>\n",
              "    <div>            <script src=\"https://cdnjs.cloudflare.com/ajax/libs/mathjax/2.7.5/MathJax.js?config=TeX-AMS-MML_SVG\"></script><script type=\"text/javascript\">if (window.MathJax) {MathJax.Hub.Config({SVG: {font: \"STIX-Web\"}});}</script>                <script type=\"text/javascript\">window.PlotlyConfig = {MathJaxConfig: 'local'};</script>\n",
              "        <script src=\"https://cdn.plot.ly/plotly-latest.min.js\"></script>                <div id=\"88dad245-5ee5-461e-8b8d-3455a0494d58\" class=\"plotly-graph-div\" style=\"height:525px; width:100%;\"></div>            <script type=\"text/javascript\">                                    window.PLOTLYENV=window.PLOTLYENV || {};                                    if (document.getElementById(\"88dad245-5ee5-461e-8b8d-3455a0494d58\")) {                    Plotly.newPlot(                        \"88dad245-5ee5-461e-8b8d-3455a0494d58\",                        [{\"hovertemplate\": \"Area=Santa Barbara<br>Date=%{x}<br>Number of Deaths=%{y}<extra></extra>\", \"legendgroup\": \"Santa Barbara\", \"line\": {\"color\": \"#636efa\", \"dash\": \"solid\"}, \"mode\": \"lines\", \"name\": \"Santa Barbara\", \"orientation\": \"v\", \"showlegend\": true, \"type\": \"scatter\", \"x\": [\"2020-10-20T00:00:00\", \"2020-10-19T00:00:00\", \"2020-10-16T00:00:00\", \"2020-10-15T00:00:00\", \"2020-10-14T00:00:00\", \"2020-10-13T00:00:00\", \"2020-10-12T00:00:00\", \"2020-10-09T00:00:00\", \"2020-10-08T00:00:00\", \"2020-10-07T00:00:00\", \"2020-10-06T00:00:00\", \"2020-10-05T00:00:00\", \"2020-10-02T00:00:00\", \"2020-10-01T00:00:00\", \"2020-09-30T00:00:00\", \"2020-09-29T00:00:00\", \"2020-09-28T00:00:00\", \"2020-09-25T00:00:00\", \"2020-09-24T00:00:00\", \"2020-09-23T00:00:00\", \"2020-09-22T00:00:00\", \"2020-09-21T00:00:00\", \"2020-09-18T00:00:00\", \"2020-09-17T00:00:00\", \"2020-09-16T00:00:00\", \"2020-09-15T00:00:00\", \"2020-09-14T00:00:00\", \"2020-09-11T00:00:00\", \"2020-09-10T00:00:00\", \"2020-09-09T00:00:00\", \"2020-09-08T00:00:00\", \"2020-09-04T00:00:00\", \"2020-09-03T00:00:00\", \"2020-09-02T00:00:00\", \"2020-09-01T00:00:00\", \"2020-08-31T00:00:00\", \"2020-08-28T00:00:00\", \"2020-08-27T00:00:00\", \"2020-08-26T00:00:00\", \"2020-08-25T00:00:00\", \"2020-08-25T00:00:00\", \"2020-08-24T00:00:00\", \"2020-08-21T00:00:00\", \"2020-08-20T00:00:00\", \"2020-08-19T00:00:00\", \"2020-08-18T00:00:00\", \"2020-08-17T00:00:00\", \"2020-08-14T00:00:00\", \"2020-08-13T00:00:00\", \"2020-08-12T00:00:00\", \"2020-08-11T00:00:00\", \"2020-08-10T00:00:00\", \"2020-08-07T00:00:00\", \"2020-08-06T00:00:00\", \"2020-08-05T00:00:00\", \"2020-08-04T00:00:00\", \"2020-08-03T00:00:00\", \"2020-07-31T00:00:00\", \"2020-07-30T00:00:00\", \"2020-07-29T00:00:00\", \"2020-07-28T00:00:00\", \"2020-07-27T00:00:00\", \"2020-07-24T00:00:00\", \"2020-07-23T00:00:00\", \"2020-07-22T00:00:00\", \"2020-07-21T00:00:00\", \"2020-07-20T00:00:00\", \"2020-07-17T00:00:00\", \"2020-07-16T00:00:00\", \"2020-07-15T00:00:00\", \"2020-07-14T00:00:00\", \"2020-07-13T00:00:00\", \"2020-07-10T00:00:00\", \"2020-07-09T00:00:00\", \"2020-07-08T00:00:00\"], \"xaxis\": \"x\", \"y\": [13.0, 13.0, 13.0, 13.0, 13.0, 13.0, 13.0, 13.0, 13.0, 13.0, 13.0, 13.0, 13.0, 13.0, 13.0, 13.0, 13.0, 13.0, 13.0, 13.0, 13.0, 13.0, 13.0, 13.0, 13.0, 12.0, 12.0, 12.0, 12.0, 12.0, 12.0, 12.0, 12.0, 12.0, 11.0, 11.0, 12.0, 12.0, 12.0, 11.0, 11.0, 11.0, 10.0, 10.0, 10.0, 10.0, 9.0, 8.0, 7.0, 7.0, 7.0, 6.0, 6.0, 6.0, 5.0, 5.0, 5.0, 6.0, 3.0, 3.0, 3.0, 3.0, 3.0, 3.0, 3.0, 3.0, 3.0, 3.0, 3.0, 3.0, 3.0, 3.0, 3.0, 3.0, 3.0], \"yaxis\": \"y\"}, {\"hovertemplate\": \"Area=Goleta<br>Date=%{x}<br>Number of Deaths=%{y}<extra></extra>\", \"legendgroup\": \"Goleta\", \"line\": {\"color\": \"#EF553B\", \"dash\": \"solid\"}, \"mode\": \"lines\", \"name\": \"Goleta\", \"orientation\": \"v\", \"showlegend\": true, \"type\": \"scatter\", \"x\": [\"2020-10-20T00:00:00\", \"2020-10-19T00:00:00\", \"2020-10-16T00:00:00\", \"2020-10-15T00:00:00\", \"2020-10-14T00:00:00\", \"2020-10-13T00:00:00\", \"2020-10-12T00:00:00\", \"2020-10-09T00:00:00\", \"2020-10-08T00:00:00\", \"2020-10-07T00:00:00\", \"2020-10-06T00:00:00\", \"2020-10-05T00:00:00\", \"2020-10-02T00:00:00\", \"2020-10-01T00:00:00\", \"2020-09-30T00:00:00\", \"2020-09-29T00:00:00\", \"2020-09-28T00:00:00\", \"2020-09-25T00:00:00\", \"2020-09-24T00:00:00\", \"2020-09-23T00:00:00\", \"2020-09-22T00:00:00\", \"2020-09-21T00:00:00\", \"2020-09-18T00:00:00\", \"2020-09-17T00:00:00\", \"2020-09-16T00:00:00\", \"2020-09-15T00:00:00\", \"2020-09-14T00:00:00\", \"2020-09-11T00:00:00\", \"2020-09-10T00:00:00\", \"2020-09-09T00:00:00\", \"2020-09-08T00:00:00\", \"2020-09-04T00:00:00\", \"2020-09-03T00:00:00\", \"2020-09-02T00:00:00\", \"2020-09-01T00:00:00\", \"2020-08-31T00:00:00\", \"2020-08-28T00:00:00\", \"2020-08-27T00:00:00\", \"2020-08-26T00:00:00\", \"2020-08-25T00:00:00\", \"2020-08-25T00:00:00\", \"2020-08-24T00:00:00\", \"2020-08-21T00:00:00\", \"2020-08-20T00:00:00\", \"2020-08-19T00:00:00\", \"2020-08-18T00:00:00\", \"2020-08-17T00:00:00\", \"2020-08-14T00:00:00\", \"2020-08-13T00:00:00\", \"2020-08-12T00:00:00\", \"2020-08-11T00:00:00\", \"2020-08-10T00:00:00\", \"2020-08-07T00:00:00\", \"2020-08-06T00:00:00\", \"2020-08-05T00:00:00\", \"2020-08-04T00:00:00\", \"2020-08-03T00:00:00\", \"2020-07-31T00:00:00\", \"2020-07-30T00:00:00\", \"2020-07-29T00:00:00\", \"2020-07-28T00:00:00\", \"2020-07-27T00:00:00\", \"2020-07-24T00:00:00\", \"2020-07-23T00:00:00\", \"2020-07-22T00:00:00\", \"2020-07-21T00:00:00\", \"2020-07-20T00:00:00\", \"2020-07-17T00:00:00\", \"2020-07-16T00:00:00\", \"2020-07-15T00:00:00\", \"2020-07-14T00:00:00\", \"2020-07-13T00:00:00\", \"2020-07-10T00:00:00\", \"2020-07-09T00:00:00\", \"2020-07-08T00:00:00\"], \"xaxis\": \"x\", \"y\": [4.0, 4.0, 4.0, 4.0, 4.0, 4.0, 4.0, 4.0, 4.0, 4.0, 4.0, 4.0, 4.0, 4.0, 4.0, 4.0, 4.0, 4.0, 4.0, 4.0, 4.0, 4.0, 4.0, 4.0, 4.0, 4.0, 4.0, 4.0, 4.0, 4.0, 4.0, 4.0, 4.0, 4.0, 4.0, 4.0, 3.0, 3.0, 3.0, 3.0, 3.0, 3.0, 3.0, 3.0, 3.0, 3.0, 3.0, 3.0, 3.0, 3.0, 3.0, 3.0, 3.0, 3.0, 3.0, 3.0, 3.0, 3.0, 2.0, 2.0, 2.0, 2.0, 2.0, 2.0, 2.0, 2.0, 2.0, 2.0, 2.0, 2.0, 2.0, 2.0, 2.0, 2.0, 2.0], \"yaxis\": \"y\"}, {\"hovertemplate\": \"Area=Isla Vista<br>Date=%{x}<br>Number of Deaths=%{y}<extra></extra>\", \"legendgroup\": \"Isla Vista\", \"line\": {\"color\": \"#00cc96\", \"dash\": \"solid\"}, \"mode\": \"lines\", \"name\": \"Isla Vista\", \"orientation\": \"v\", \"showlegend\": true, \"type\": \"scatter\", \"x\": [\"2020-10-20T00:00:00\", \"2020-10-19T00:00:00\", \"2020-10-16T00:00:00\", \"2020-10-15T00:00:00\", \"2020-10-14T00:00:00\", \"2020-10-13T00:00:00\", \"2020-10-12T00:00:00\", \"2020-10-09T00:00:00\", \"2020-10-08T00:00:00\", \"2020-10-07T00:00:00\", \"2020-10-06T00:00:00\", \"2020-10-05T00:00:00\", \"2020-10-02T00:00:00\", \"2020-10-01T00:00:00\", \"2020-09-30T00:00:00\", \"2020-09-29T00:00:00\", \"2020-09-28T00:00:00\", \"2020-09-25T00:00:00\", \"2020-09-24T00:00:00\", \"2020-09-23T00:00:00\", \"2020-09-22T00:00:00\", \"2020-09-21T00:00:00\", \"2020-09-18T00:00:00\", \"2020-09-17T00:00:00\", \"2020-09-16T00:00:00\", \"2020-09-15T00:00:00\", \"2020-09-14T00:00:00\", \"2020-09-11T00:00:00\", \"2020-09-10T00:00:00\", \"2020-09-09T00:00:00\", \"2020-09-08T00:00:00\", \"2020-09-04T00:00:00\", \"2020-09-03T00:00:00\", \"2020-09-02T00:00:00\", \"2020-09-01T00:00:00\", \"2020-08-31T00:00:00\", \"2020-08-28T00:00:00\", \"2020-08-27T00:00:00\", \"2020-08-26T00:00:00\", \"2020-08-25T00:00:00\", \"2020-08-25T00:00:00\", \"2020-08-24T00:00:00\", \"2020-08-21T00:00:00\", \"2020-08-20T00:00:00\", \"2020-08-19T00:00:00\", \"2020-08-18T00:00:00\", \"2020-08-17T00:00:00\", \"2020-08-14T00:00:00\", \"2020-08-13T00:00:00\", \"2020-08-12T00:00:00\", \"2020-08-11T00:00:00\", \"2020-08-10T00:00:00\", \"2020-08-07T00:00:00\", \"2020-08-06T00:00:00\", \"2020-08-05T00:00:00\", \"2020-08-04T00:00:00\", \"2020-08-03T00:00:00\", \"2020-07-31T00:00:00\", \"2020-07-30T00:00:00\", \"2020-07-29T00:00:00\", \"2020-07-28T00:00:00\", \"2020-07-27T00:00:00\", \"2020-07-24T00:00:00\", \"2020-07-23T00:00:00\", \"2020-07-22T00:00:00\", \"2020-07-21T00:00:00\", \"2020-07-20T00:00:00\", \"2020-07-17T00:00:00\", \"2020-07-16T00:00:00\", \"2020-07-15T00:00:00\", \"2020-07-14T00:00:00\", \"2020-07-13T00:00:00\", \"2020-07-10T00:00:00\", \"2020-07-09T00:00:00\", \"2020-07-08T00:00:00\"], \"xaxis\": \"x\", \"y\": [1.0, 1.0, 1.0, 1.0, 1.0, 1.0, 1.0, 1.0, 1.0, 1.0, 1.0, 1.0, 1.0, 1.0, 1.0, 1.0, 1.0, 1.0, 1.0, 1.0, 1.0, 1.0, 1.0, 1.0, 1.0, 1.0, 1.0, 1.0, 1.0, 1.0, 1.0, 1.0, 1.0, 1.0, 1.0, 1.0, 1.0, 1.0, 1.0, 1.0, 1.0, 1.0, 1.0, 1.0, 0.0, 0.0, 0.0, 0.0, 0.0, 0.0, 0.0, 0.0, 0.0, 0.0, 0.0, 0.0, 0.0, 0.0, 0.0, 0.0, 0.0, 0.0, 0.0, 0.0, 0.0, 0.0, 0.0, 0.0, 0.0, 0.0, 0.0, 0.0, 0.0, 0.0, 0.0], \"yaxis\": \"y\"}, {\"hovertemplate\": \"Area=Goleta Valley/Gaviota<br>Date=%{x}<br>Number of Deaths=%{y}<extra></extra>\", \"legendgroup\": \"Goleta Valley/Gaviota\", \"line\": {\"color\": \"#ab63fa\", \"dash\": \"solid\"}, \"mode\": \"lines\", \"name\": \"Goleta Valley/Gaviota\", \"orientation\": \"v\", \"showlegend\": true, \"type\": \"scatter\", \"x\": [\"2020-10-20T00:00:00\", \"2020-10-19T00:00:00\", \"2020-10-16T00:00:00\", \"2020-10-15T00:00:00\", \"2020-10-14T00:00:00\", \"2020-10-13T00:00:00\", \"2020-10-12T00:00:00\", \"2020-10-09T00:00:00\", \"2020-10-08T00:00:00\", \"2020-10-07T00:00:00\", \"2020-10-06T00:00:00\", \"2020-10-05T00:00:00\", \"2020-10-02T00:00:00\", \"2020-10-01T00:00:00\", \"2020-09-30T00:00:00\", \"2020-09-29T00:00:00\", \"2020-09-28T00:00:00\", \"2020-09-25T00:00:00\", \"2020-09-24T00:00:00\", \"2020-09-23T00:00:00\", \"2020-09-22T00:00:00\", \"2020-09-21T00:00:00\", \"2020-09-18T00:00:00\", \"2020-09-17T00:00:00\", \"2020-09-16T00:00:00\", \"2020-09-15T00:00:00\", \"2020-09-14T00:00:00\", \"2020-09-11T00:00:00\", \"2020-09-10T00:00:00\", \"2020-09-09T00:00:00\", \"2020-09-08T00:00:00\", \"2020-09-04T00:00:00\", \"2020-09-03T00:00:00\", \"2020-09-02T00:00:00\", \"2020-09-01T00:00:00\", \"2020-08-31T00:00:00\", \"2020-08-28T00:00:00\", \"2020-08-27T00:00:00\", \"2020-08-26T00:00:00\", \"2020-08-25T00:00:00\", \"2020-08-25T00:00:00\", \"2020-08-24T00:00:00\", \"2020-08-21T00:00:00\", \"2020-08-20T00:00:00\", \"2020-08-19T00:00:00\", \"2020-08-18T00:00:00\", \"2020-08-17T00:00:00\", \"2020-08-14T00:00:00\", \"2020-08-13T00:00:00\", \"2020-08-12T00:00:00\", \"2020-08-11T00:00:00\", \"2020-08-10T00:00:00\", \"2020-08-07T00:00:00\", \"2020-08-06T00:00:00\", \"2020-08-05T00:00:00\", \"2020-08-04T00:00:00\", \"2020-08-03T00:00:00\", \"2020-07-31T00:00:00\", \"2020-07-30T00:00:00\", \"2020-07-29T00:00:00\", \"2020-07-28T00:00:00\", \"2020-07-27T00:00:00\", \"2020-07-24T00:00:00\", \"2020-07-23T00:00:00\", \"2020-07-22T00:00:00\", \"2020-07-21T00:00:00\", \"2020-07-20T00:00:00\", \"2020-07-17T00:00:00\", \"2020-07-16T00:00:00\", \"2020-07-15T00:00:00\", \"2020-07-14T00:00:00\", \"2020-07-13T00:00:00\", \"2020-07-10T00:00:00\", \"2020-07-09T00:00:00\", \"2020-07-08T00:00:00\"], \"xaxis\": \"x\", \"y\": [2.0, 2.0, 2.0, 2.0, 2.0, 2.0, 2.0, 2.0, 2.0, 2.0, 2.0, 2.0, 2.0, 2.0, 2.0, 2.0, 2.0, 2.0, 2.0, 2.0, 2.0, 1.0, 1.0, 1.0, 1.0, 1.0, 1.0, 1.0, 1.0, 1.0, 1.0, 1.0, 1.0, 1.0, 1.0, 1.0, 1.0, 1.0, 1.0, 1.0, 1.0, 1.0, 1.0, 1.0, 1.0, 1.0, 1.0, 1.0, 1.0, 1.0, 1.0, 1.0, 1.0, 1.0, 1.0, 1.0, 1.0, 1.0, 1.0, 1.0, 1.0, 1.0, 1.0, 1.0, 1.0, 1.0, 1.0, 1.0, 1.0, 1.0, 1.0, 1.0, 1.0, 1.0, 1.0], \"yaxis\": \"y\"}, {\"hovertemplate\": \"Area=Santa Ynez Valley<br>Date=%{x}<br>Number of Deaths=%{y}<extra></extra>\", \"legendgroup\": \"Santa Ynez Valley\", \"line\": {\"color\": \"#FFA15A\", \"dash\": \"solid\"}, \"mode\": \"lines\", \"name\": \"Santa Ynez Valley\", \"orientation\": \"v\", \"showlegend\": true, \"type\": \"scatter\", \"x\": [\"2020-10-20T00:00:00\", \"2020-10-19T00:00:00\", \"2020-10-16T00:00:00\", \"2020-10-15T00:00:00\", \"2020-10-14T00:00:00\", \"2020-10-13T00:00:00\", \"2020-10-12T00:00:00\", \"2020-10-09T00:00:00\", \"2020-10-08T00:00:00\", \"2020-10-07T00:00:00\", \"2020-10-06T00:00:00\", \"2020-10-05T00:00:00\", \"2020-10-02T00:00:00\", \"2020-10-01T00:00:00\", \"2020-09-30T00:00:00\", \"2020-09-29T00:00:00\", \"2020-09-28T00:00:00\", \"2020-09-25T00:00:00\", \"2020-09-24T00:00:00\", \"2020-09-23T00:00:00\", \"2020-09-22T00:00:00\", \"2020-09-21T00:00:00\", \"2020-09-18T00:00:00\", \"2020-09-17T00:00:00\", \"2020-09-16T00:00:00\", \"2020-09-15T00:00:00\", \"2020-09-14T00:00:00\", \"2020-09-11T00:00:00\", \"2020-09-10T00:00:00\", \"2020-09-09T00:00:00\", \"2020-09-08T00:00:00\", \"2020-09-04T00:00:00\", \"2020-09-03T00:00:00\", \"2020-09-02T00:00:00\", \"2020-09-01T00:00:00\", \"2020-08-31T00:00:00\", \"2020-08-28T00:00:00\", \"2020-08-27T00:00:00\", \"2020-08-26T00:00:00\", \"2020-08-25T00:00:00\", \"2020-08-25T00:00:00\", \"2020-08-24T00:00:00\", \"2020-08-21T00:00:00\", \"2020-08-20T00:00:00\", \"2020-08-19T00:00:00\", \"2020-08-18T00:00:00\", \"2020-08-17T00:00:00\", \"2020-08-14T00:00:00\", \"2020-08-13T00:00:00\", \"2020-08-12T00:00:00\", \"2020-08-11T00:00:00\", \"2020-08-10T00:00:00\", \"2020-08-07T00:00:00\", \"2020-08-06T00:00:00\", \"2020-08-05T00:00:00\", \"2020-08-04T00:00:00\", \"2020-08-03T00:00:00\", \"2020-07-31T00:00:00\", \"2020-07-30T00:00:00\", \"2020-07-29T00:00:00\", \"2020-07-28T00:00:00\", \"2020-07-27T00:00:00\", \"2020-07-24T00:00:00\", \"2020-07-23T00:00:00\", \"2020-07-22T00:00:00\", \"2020-07-21T00:00:00\", \"2020-07-20T00:00:00\", \"2020-07-17T00:00:00\", \"2020-07-16T00:00:00\", \"2020-07-15T00:00:00\", \"2020-07-14T00:00:00\", \"2020-07-13T00:00:00\", \"2020-07-10T00:00:00\", \"2020-07-09T00:00:00\", \"2020-07-08T00:00:00\"], \"xaxis\": \"x\", \"y\": [7.0, 7.0, 7.0, 7.0, 7.0, 7.0, 7.0, 7.0, 7.0, 7.0, 7.0, 7.0, 7.0, 7.0, 7.0, 6.0, 6.0, 6.0, 6.0, 6.0, 5.0, 5.0, 5.0, 5.0, 5.0, 4.0, 4.0, 4.0, 4.0, 2.0, 2.0, 2.0, 2.0, 2.0, 2.0, 2.0, 2.0, 2.0, 2.0, 2.0, 2.0, 2.0, 2.0, 2.0, 2.0, 2.0, 2.0, 2.0, 2.0, 2.0, 2.0, 2.0, 2.0, 2.0, 2.0, 2.0, 2.0, 2.0, 0.0, 0.0, 0.0, 0.0, 0.0, 0.0, 0.0, 0.0, 0.0, 0.0, 0.0, 0.0, 0.0, 0.0, 0.0, 0.0, 0.0], \"yaxis\": \"y\"}, {\"hovertemplate\": \"Area=Lompoc<br>Date=%{x}<br>Number of Deaths=%{y}<extra></extra>\", \"legendgroup\": \"Lompoc\", \"line\": {\"color\": \"#19d3f3\", \"dash\": \"solid\"}, \"mode\": \"lines\", \"name\": \"Lompoc\", \"orientation\": \"v\", \"showlegend\": true, \"type\": \"scatter\", \"x\": [\"2020-10-20T00:00:00\", \"2020-10-19T00:00:00\", \"2020-10-16T00:00:00\", \"2020-10-15T00:00:00\", \"2020-10-14T00:00:00\", \"2020-10-13T00:00:00\", \"2020-10-12T00:00:00\", \"2020-10-09T00:00:00\", \"2020-10-08T00:00:00\", \"2020-10-07T00:00:00\", \"2020-10-06T00:00:00\", \"2020-10-05T00:00:00\", \"2020-10-02T00:00:00\", \"2020-10-01T00:00:00\", \"2020-09-30T00:00:00\", \"2020-09-29T00:00:00\", \"2020-09-28T00:00:00\", \"2020-09-25T00:00:00\", \"2020-09-24T00:00:00\", \"2020-09-23T00:00:00\", \"2020-09-22T00:00:00\", \"2020-09-21T00:00:00\", \"2020-09-18T00:00:00\", \"2020-09-17T00:00:00\", \"2020-09-16T00:00:00\", \"2020-09-15T00:00:00\", \"2020-09-14T00:00:00\", \"2020-09-11T00:00:00\", \"2020-09-10T00:00:00\", \"2020-09-09T00:00:00\", \"2020-09-08T00:00:00\", \"2020-09-04T00:00:00\", \"2020-09-03T00:00:00\", \"2020-09-02T00:00:00\", \"2020-09-01T00:00:00\", \"2020-08-31T00:00:00\", \"2020-08-28T00:00:00\", \"2020-08-27T00:00:00\", \"2020-08-26T00:00:00\", \"2020-08-25T00:00:00\", \"2020-08-25T00:00:00\", \"2020-08-24T00:00:00\", \"2020-08-21T00:00:00\", \"2020-08-20T00:00:00\", \"2020-08-19T00:00:00\", \"2020-08-18T00:00:00\", \"2020-08-17T00:00:00\", \"2020-08-14T00:00:00\", \"2020-08-13T00:00:00\", \"2020-08-12T00:00:00\", \"2020-08-11T00:00:00\", \"2020-08-10T00:00:00\", \"2020-08-07T00:00:00\", \"2020-08-06T00:00:00\", \"2020-08-05T00:00:00\", \"2020-08-04T00:00:00\", \"2020-08-03T00:00:00\", \"2020-07-31T00:00:00\", \"2020-07-30T00:00:00\", \"2020-07-29T00:00:00\", \"2020-07-28T00:00:00\", \"2020-07-27T00:00:00\", \"2020-07-24T00:00:00\", \"2020-07-23T00:00:00\", \"2020-07-22T00:00:00\", \"2020-07-21T00:00:00\", \"2020-07-20T00:00:00\", \"2020-07-17T00:00:00\", \"2020-07-16T00:00:00\", \"2020-07-15T00:00:00\", \"2020-07-14T00:00:00\", \"2020-07-13T00:00:00\", \"2020-07-10T00:00:00\", \"2020-07-09T00:00:00\", \"2020-07-08T00:00:00\"], \"xaxis\": \"x\", \"y\": [8.0, 8.0, 8.0, 8.0, 8.0, 8.0, 8.0, 8.0, 8.0, 8.0, 8.0, 8.0, 8.0, 8.0, 8.0, 8.0, 8.0, 8.0, 8.0, 8.0, 8.0, 8.0, 8.0, 8.0, 8.0, 8.0, 8.0, 8.0, 8.0, 8.0, 8.0, 8.0, 8.0, 8.0, 8.0, 8.0, 8.0, 8.0, 7.0, 7.0, 7.0, 7.0, 7.0, 7.0, 7.0, 7.0, 7.0, 7.0, 7.0, 7.0, 7.0, 7.0, 7.0, 7.0, 7.0, 7.0, 6.0, 6.0, 4.0, 4.0, 4.0, 4.0, 4.0, 4.0, 4.0, 4.0, 4.0, 4.0, 4.0, 4.0, 4.0, 4.0, 4.0, 4.0, 4.0], \"yaxis\": \"y\"}, {\"hovertemplate\": \"Area=Federal Prison in Lompoc<br>Date=%{x}<br>Number of Deaths=%{y}<extra></extra>\", \"legendgroup\": \"Federal Prison in Lompoc\", \"line\": {\"color\": \"#FF6692\", \"dash\": \"solid\"}, \"mode\": \"lines\", \"name\": \"Federal Prison in Lompoc\", \"orientation\": \"v\", \"showlegend\": true, \"type\": \"scatter\", \"x\": [\"2020-10-20T00:00:00\", \"2020-10-19T00:00:00\", \"2020-10-16T00:00:00\", \"2020-10-15T00:00:00\", \"2020-10-14T00:00:00\", \"2020-10-13T00:00:00\", \"2020-10-12T00:00:00\", \"2020-10-09T00:00:00\", \"2020-10-08T00:00:00\", \"2020-10-07T00:00:00\", \"2020-10-06T00:00:00\", \"2020-10-05T00:00:00\", \"2020-10-02T00:00:00\", \"2020-10-01T00:00:00\", \"2020-09-30T00:00:00\", \"2020-09-29T00:00:00\", \"2020-09-28T00:00:00\", \"2020-09-25T00:00:00\", \"2020-09-24T00:00:00\", \"2020-09-23T00:00:00\", \"2020-09-22T00:00:00\", \"2020-09-21T00:00:00\", \"2020-09-18T00:00:00\", \"2020-09-17T00:00:00\", \"2020-09-16T00:00:00\", \"2020-09-15T00:00:00\", \"2020-09-14T00:00:00\", \"2020-09-11T00:00:00\", \"2020-09-10T00:00:00\", \"2020-09-09T00:00:00\", \"2020-09-08T00:00:00\", \"2020-09-04T00:00:00\", \"2020-09-03T00:00:00\", \"2020-09-02T00:00:00\", \"2020-09-01T00:00:00\", \"2020-08-31T00:00:00\", \"2020-08-28T00:00:00\", \"2020-08-27T00:00:00\", \"2020-08-26T00:00:00\", \"2020-08-25T00:00:00\", \"2020-08-25T00:00:00\", \"2020-08-24T00:00:00\", \"2020-08-21T00:00:00\", \"2020-08-20T00:00:00\", \"2020-08-19T00:00:00\", \"2020-08-18T00:00:00\", \"2020-08-17T00:00:00\", \"2020-08-14T00:00:00\", \"2020-08-13T00:00:00\", \"2020-08-12T00:00:00\", \"2020-08-11T00:00:00\", \"2020-08-10T00:00:00\", \"2020-08-07T00:00:00\", \"2020-08-06T00:00:00\", \"2020-08-05T00:00:00\", \"2020-08-04T00:00:00\", \"2020-08-03T00:00:00\", \"2020-07-31T00:00:00\", \"2020-07-30T00:00:00\", \"2020-07-29T00:00:00\", \"2020-07-28T00:00:00\", \"2020-07-27T00:00:00\", \"2020-07-24T00:00:00\", \"2020-07-23T00:00:00\", \"2020-07-22T00:00:00\", \"2020-07-21T00:00:00\", \"2020-07-20T00:00:00\", \"2020-07-17T00:00:00\", \"2020-07-16T00:00:00\", \"2020-07-15T00:00:00\", \"2020-07-14T00:00:00\", \"2020-07-13T00:00:00\", \"2020-07-10T00:00:00\", \"2020-07-09T00:00:00\", \"2020-07-08T00:00:00\"], \"xaxis\": \"x\", \"y\": [3.0, 3.0, 3.0, 3.0, 3.0, 3.0, 3.0, 3.0, 3.0, 3.0, 3.0, 3.0, 3.0, 3.0, 3.0, 3.0, 3.0, 3.0, 3.0, 3.0, 3.0, 3.0, 3.0, 3.0, 3.0, 3.0, 3.0, 3.0, 3.0, 3.0, 3.0, 3.0, 3.0, 3.0, 3.0, 3.0, 3.0, 3.0, 3.0, 3.0, 3.0, 3.0, 3.0, 3.0, 3.0, 3.0, 3.0, 3.0, 3.0, 3.0, 3.0, 3.0, 3.0, 3.0, 3.0, 3.0, 3.0, 3.0, 3.0, 3.0, 3.0, 3.0, 3.0, 3.0, 3.0, 3.0, 3.0, 3.0, 3.0, 3.0, 3.0, 3.0, 3.0, 3.0, 3.0], \"yaxis\": \"y\"}, {\"hovertemplate\": \"Area=Santa Maria<br>Date=%{x}<br>Number of Deaths=%{y}<extra></extra>\", \"legendgroup\": \"Santa Maria\", \"line\": {\"color\": \"#B6E880\", \"dash\": \"solid\"}, \"mode\": \"lines\", \"name\": \"Santa Maria\", \"orientation\": \"v\", \"showlegend\": true, \"type\": \"scatter\", \"x\": [\"2020-10-20T00:00:00\", \"2020-10-19T00:00:00\", \"2020-10-16T00:00:00\", \"2020-10-15T00:00:00\", \"2020-10-14T00:00:00\", \"2020-10-13T00:00:00\", \"2020-10-12T00:00:00\", \"2020-10-09T00:00:00\", \"2020-10-08T00:00:00\", \"2020-10-07T00:00:00\", \"2020-10-06T00:00:00\", \"2020-10-05T00:00:00\", \"2020-10-02T00:00:00\", \"2020-10-01T00:00:00\", \"2020-09-30T00:00:00\", \"2020-09-29T00:00:00\", \"2020-09-28T00:00:00\", \"2020-09-25T00:00:00\", \"2020-09-24T00:00:00\", \"2020-09-23T00:00:00\", \"2020-09-22T00:00:00\", \"2020-09-21T00:00:00\", \"2020-09-18T00:00:00\", \"2020-09-17T00:00:00\", \"2020-09-16T00:00:00\", \"2020-09-15T00:00:00\", \"2020-09-14T00:00:00\", \"2020-09-11T00:00:00\", \"2020-09-10T00:00:00\", \"2020-09-09T00:00:00\", \"2020-09-08T00:00:00\", \"2020-09-04T00:00:00\", \"2020-09-03T00:00:00\", \"2020-09-02T00:00:00\", \"2020-09-01T00:00:00\", \"2020-08-31T00:00:00\", \"2020-08-28T00:00:00\", \"2020-08-27T00:00:00\", \"2020-08-26T00:00:00\", \"2020-08-25T00:00:00\", \"2020-08-25T00:00:00\", \"2020-08-24T00:00:00\", \"2020-08-21T00:00:00\", \"2020-08-20T00:00:00\", \"2020-08-19T00:00:00\", \"2020-08-18T00:00:00\", \"2020-08-17T00:00:00\", \"2020-08-14T00:00:00\", \"2020-08-13T00:00:00\", \"2020-08-12T00:00:00\", \"2020-08-11T00:00:00\", \"2020-08-10T00:00:00\", \"2020-08-07T00:00:00\", \"2020-08-06T00:00:00\", \"2020-08-05T00:00:00\", \"2020-08-04T00:00:00\", \"2020-08-03T00:00:00\", \"2020-07-31T00:00:00\", \"2020-07-30T00:00:00\", \"2020-07-29T00:00:00\", \"2020-07-28T00:00:00\", \"2020-07-27T00:00:00\", \"2020-07-24T00:00:00\", \"2020-07-23T00:00:00\", \"2020-07-22T00:00:00\", \"2020-07-21T00:00:00\", \"2020-07-20T00:00:00\", \"2020-07-17T00:00:00\", \"2020-07-16T00:00:00\", \"2020-07-15T00:00:00\", \"2020-07-14T00:00:00\", \"2020-07-13T00:00:00\", \"2020-07-10T00:00:00\", \"2020-07-09T00:00:00\", \"2020-07-08T00:00:00\"], \"xaxis\": \"x\", \"y\": [66.0, 66.0, 66.0, 65.0, 64.0, 63.0, 63.0, 63.0, 62.0, 62.0, 62.0, 62.0, 62.0, 62.0, 61.0, 61.0, 61.0, 61.0, 61.0, 61.0, 60.0, 60.0, 60.0, 59.0, 59.0, 59.0, 58.0, 57.0, 55.0, 53.0, 51.0, 51.0, 51.0, 51.0, 51.0, 50.0, 48.0, 47.0, 47.0, 47.0, 47.0, 47.0, 47.0, 44.0, 43.0, 42.0, 42.0, 40.0, 40.0, 39.0, 40.0, 40.0, 37.0, 36.0, 36.0, 35.0, 34.0, 34.0, 18.0, 18.0, 18.0, 18.0, 18.0, 18.0, 18.0, 18.0, 18.0, 18.0, 18.0, 18.0, 18.0, 18.0, 18.0, 16.0, 16.0], \"yaxis\": \"y\"}, {\"hovertemplate\": \"Area=Orcutt<br>Date=%{x}<br>Number of Deaths=%{y}<extra></extra>\", \"legendgroup\": \"Orcutt\", \"line\": {\"color\": \"#FF97FF\", \"dash\": \"solid\"}, \"mode\": \"lines\", \"name\": \"Orcutt\", \"orientation\": \"v\", \"showlegend\": true, \"type\": \"scatter\", \"x\": [\"2020-10-20T00:00:00\", \"2020-10-19T00:00:00\", \"2020-10-16T00:00:00\", \"2020-10-15T00:00:00\", \"2020-10-14T00:00:00\", \"2020-10-13T00:00:00\", \"2020-10-12T00:00:00\", \"2020-10-09T00:00:00\", \"2020-10-08T00:00:00\", \"2020-10-07T00:00:00\", \"2020-10-06T00:00:00\", \"2020-10-05T00:00:00\", \"2020-10-02T00:00:00\", \"2020-10-01T00:00:00\", \"2020-09-30T00:00:00\", \"2020-09-29T00:00:00\", \"2020-09-28T00:00:00\", \"2020-09-25T00:00:00\", \"2020-09-24T00:00:00\", \"2020-09-23T00:00:00\", \"2020-09-22T00:00:00\", \"2020-09-21T00:00:00\", \"2020-09-18T00:00:00\", \"2020-09-17T00:00:00\", \"2020-09-16T00:00:00\", \"2020-09-15T00:00:00\", \"2020-09-14T00:00:00\", \"2020-09-11T00:00:00\", \"2020-09-10T00:00:00\", \"2020-09-09T00:00:00\", \"2020-09-08T00:00:00\", \"2020-09-04T00:00:00\", \"2020-09-03T00:00:00\", \"2020-09-02T00:00:00\", \"2020-09-01T00:00:00\", \"2020-08-31T00:00:00\", \"2020-08-28T00:00:00\", \"2020-08-27T00:00:00\", \"2020-08-26T00:00:00\", \"2020-08-25T00:00:00\", \"2020-08-25T00:00:00\", \"2020-08-24T00:00:00\", \"2020-08-21T00:00:00\", \"2020-08-20T00:00:00\", \"2020-08-19T00:00:00\", \"2020-08-18T00:00:00\", \"2020-08-17T00:00:00\", \"2020-08-14T00:00:00\", \"2020-08-13T00:00:00\", \"2020-08-12T00:00:00\", \"2020-08-11T00:00:00\", \"2020-08-10T00:00:00\", \"2020-08-07T00:00:00\", \"2020-08-06T00:00:00\", \"2020-08-05T00:00:00\", \"2020-08-04T00:00:00\", \"2020-08-03T00:00:00\", \"2020-07-31T00:00:00\", \"2020-07-30T00:00:00\", \"2020-07-29T00:00:00\", \"2020-07-28T00:00:00\", \"2020-07-27T00:00:00\", \"2020-07-24T00:00:00\", \"2020-07-23T00:00:00\", \"2020-07-22T00:00:00\", \"2020-07-21T00:00:00\", \"2020-07-20T00:00:00\", \"2020-07-17T00:00:00\", \"2020-07-16T00:00:00\", \"2020-07-15T00:00:00\", \"2020-07-14T00:00:00\", \"2020-07-13T00:00:00\", \"2020-07-10T00:00:00\", \"2020-07-09T00:00:00\", \"2020-07-08T00:00:00\"], \"xaxis\": \"x\", \"y\": [3.0, 3.0, 3.0, 3.0, 3.0, 3.0, 3.0, 3.0, 3.0, 3.0, 3.0, 3.0, 3.0, 3.0, 3.0, 3.0, 3.0, 3.0, 3.0, 3.0, 3.0, 3.0, 3.0, 3.0, 3.0, 3.0, 3.0, 3.0, 3.0, 3.0, 3.0, 3.0, 3.0, 3.0, 3.0, 3.0, 4.0, 4.0, 4.0, 4.0, 4.0, 4.0, 4.0, 4.0, 4.0, 4.0, 4.0, 4.0, 3.0, 3.0, 3.0, 3.0, 3.0, 3.0, 3.0, 3.0, 3.0, 2.0, 0.0, 0.0, 0.0, 0.0, 0.0, 0.0, 0.0, 0.0, 0.0, 0.0, 0.0, 0.0, 0.0, 0.0, 0.0, 0.0, 0.0], \"yaxis\": \"y\"}],                        {\"font\": {\"color\": \"white\", \"family\": \"Courier\"}, \"hovermode\": \"closest\", \"legend\": {\"orientation\": \"h\", \"title\": {\"text\": \"Area\"}, \"tracegroupgap\": 0, \"x\": 0, \"xanchor\": \"left\", \"y\": 1.02, \"yanchor\": \"bottom\"}, \"template\": {\"data\": {\"bar\": [{\"error_x\": {\"color\": \"#f2f5fa\"}, \"error_y\": {\"color\": \"#f2f5fa\"}, \"marker\": {\"line\": {\"color\": \"rgb(17,17,17)\", \"width\": 0.5}}, \"type\": \"bar\"}], \"barpolar\": [{\"marker\": {\"line\": {\"color\": \"rgb(17,17,17)\", \"width\": 0.5}}, \"type\": \"barpolar\"}], \"carpet\": [{\"aaxis\": {\"endlinecolor\": \"#A2B1C6\", \"gridcolor\": \"#506784\", \"linecolor\": \"#506784\", \"minorgridcolor\": \"#506784\", \"startlinecolor\": \"#A2B1C6\"}, \"baxis\": {\"endlinecolor\": \"#A2B1C6\", \"gridcolor\": \"#506784\", \"linecolor\": \"#506784\", \"minorgridcolor\": \"#506784\", \"startlinecolor\": \"#A2B1C6\"}, \"type\": \"carpet\"}], \"choropleth\": [{\"colorbar\": {\"outlinewidth\": 0, \"ticks\": \"\"}, \"type\": \"choropleth\"}], \"contour\": [{\"colorbar\": {\"outlinewidth\": 0, \"ticks\": \"\"}, \"colorscale\": [[0.0, \"#0d0887\"], [0.1111111111111111, \"#46039f\"], [0.2222222222222222, \"#7201a8\"], [0.3333333333333333, \"#9c179e\"], [0.4444444444444444, \"#bd3786\"], [0.5555555555555556, \"#d8576b\"], [0.6666666666666666, \"#ed7953\"], [0.7777777777777778, \"#fb9f3a\"], [0.8888888888888888, \"#fdca26\"], [1.0, \"#f0f921\"]], \"type\": \"contour\"}], \"contourcarpet\": [{\"colorbar\": {\"outlinewidth\": 0, \"ticks\": \"\"}, \"type\": \"contourcarpet\"}], \"heatmap\": [{\"colorbar\": {\"outlinewidth\": 0, \"ticks\": \"\"}, \"colorscale\": [[0.0, \"#0d0887\"], [0.1111111111111111, \"#46039f\"], [0.2222222222222222, \"#7201a8\"], [0.3333333333333333, \"#9c179e\"], [0.4444444444444444, \"#bd3786\"], [0.5555555555555556, \"#d8576b\"], [0.6666666666666666, \"#ed7953\"], [0.7777777777777778, \"#fb9f3a\"], [0.8888888888888888, \"#fdca26\"], [1.0, \"#f0f921\"]], \"type\": \"heatmap\"}], \"heatmapgl\": [{\"colorbar\": {\"outlinewidth\": 0, \"ticks\": \"\"}, \"colorscale\": [[0.0, \"#0d0887\"], [0.1111111111111111, \"#46039f\"], [0.2222222222222222, \"#7201a8\"], [0.3333333333333333, \"#9c179e\"], [0.4444444444444444, \"#bd3786\"], [0.5555555555555556, \"#d8576b\"], [0.6666666666666666, \"#ed7953\"], [0.7777777777777778, \"#fb9f3a\"], [0.8888888888888888, \"#fdca26\"], [1.0, \"#f0f921\"]], \"type\": \"heatmapgl\"}], \"histogram\": [{\"marker\": {\"colorbar\": {\"outlinewidth\": 0, \"ticks\": \"\"}}, \"type\": \"histogram\"}], \"histogram2d\": [{\"colorbar\": {\"outlinewidth\": 0, \"ticks\": \"\"}, \"colorscale\": [[0.0, \"#0d0887\"], [0.1111111111111111, \"#46039f\"], [0.2222222222222222, \"#7201a8\"], [0.3333333333333333, \"#9c179e\"], [0.4444444444444444, \"#bd3786\"], [0.5555555555555556, \"#d8576b\"], [0.6666666666666666, \"#ed7953\"], [0.7777777777777778, \"#fb9f3a\"], [0.8888888888888888, \"#fdca26\"], [1.0, \"#f0f921\"]], \"type\": \"histogram2d\"}], \"histogram2dcontour\": [{\"colorbar\": {\"outlinewidth\": 0, \"ticks\": \"\"}, \"colorscale\": [[0.0, \"#0d0887\"], [0.1111111111111111, \"#46039f\"], [0.2222222222222222, \"#7201a8\"], [0.3333333333333333, \"#9c179e\"], [0.4444444444444444, \"#bd3786\"], [0.5555555555555556, \"#d8576b\"], [0.6666666666666666, \"#ed7953\"], [0.7777777777777778, \"#fb9f3a\"], [0.8888888888888888, \"#fdca26\"], [1.0, \"#f0f921\"]], \"type\": \"histogram2dcontour\"}], \"mesh3d\": [{\"colorbar\": {\"outlinewidth\": 0, \"ticks\": \"\"}, \"type\": \"mesh3d\"}], \"parcoords\": [{\"line\": {\"colorbar\": {\"outlinewidth\": 0, \"ticks\": \"\"}}, \"type\": \"parcoords\"}], \"pie\": [{\"automargin\": true, \"type\": \"pie\"}], \"scatter\": [{\"marker\": {\"line\": {\"color\": \"#283442\"}}, \"type\": \"scatter\"}], \"scatter3d\": [{\"line\": {\"colorbar\": {\"outlinewidth\": 0, \"ticks\": \"\"}}, \"marker\": {\"colorbar\": {\"outlinewidth\": 0, \"ticks\": \"\"}}, \"type\": \"scatter3d\"}], \"scattercarpet\": [{\"marker\": {\"colorbar\": {\"outlinewidth\": 0, \"ticks\": \"\"}}, \"type\": \"scattercarpet\"}], \"scattergeo\": [{\"marker\": {\"colorbar\": {\"outlinewidth\": 0, \"ticks\": \"\"}}, \"type\": \"scattergeo\"}], \"scattergl\": [{\"marker\": {\"line\": {\"color\": \"#283442\"}}, \"type\": \"scattergl\"}], \"scattermapbox\": [{\"marker\": {\"colorbar\": {\"outlinewidth\": 0, \"ticks\": \"\"}}, \"type\": \"scattermapbox\"}], \"scatterpolar\": [{\"marker\": {\"colorbar\": {\"outlinewidth\": 0, \"ticks\": \"\"}}, \"type\": \"scatterpolar\"}], \"scatterpolargl\": [{\"marker\": {\"colorbar\": {\"outlinewidth\": 0, \"ticks\": \"\"}}, \"type\": \"scatterpolargl\"}], \"scatterternary\": [{\"marker\": {\"colorbar\": {\"outlinewidth\": 0, \"ticks\": \"\"}}, \"type\": \"scatterternary\"}], \"surface\": [{\"colorbar\": {\"outlinewidth\": 0, \"ticks\": \"\"}, \"colorscale\": [[0.0, \"#0d0887\"], [0.1111111111111111, \"#46039f\"], [0.2222222222222222, \"#7201a8\"], [0.3333333333333333, \"#9c179e\"], [0.4444444444444444, \"#bd3786\"], [0.5555555555555556, \"#d8576b\"], [0.6666666666666666, \"#ed7953\"], [0.7777777777777778, \"#fb9f3a\"], [0.8888888888888888, \"#fdca26\"], [1.0, \"#f0f921\"]], \"type\": \"surface\"}], \"table\": [{\"cells\": {\"fill\": {\"color\": \"#506784\"}, \"line\": {\"color\": \"rgb(17,17,17)\"}}, \"header\": {\"fill\": {\"color\": \"#2a3f5f\"}, \"line\": {\"color\": \"rgb(17,17,17)\"}}, \"type\": \"table\"}]}, \"layout\": {\"annotationdefaults\": {\"arrowcolor\": \"#f2f5fa\", \"arrowhead\": 0, \"arrowwidth\": 1}, \"coloraxis\": {\"colorbar\": {\"outlinewidth\": 0, \"ticks\": \"\"}}, \"colorscale\": {\"diverging\": [[0, \"#8e0152\"], [0.1, \"#c51b7d\"], [0.2, \"#de77ae\"], [0.3, \"#f1b6da\"], [0.4, \"#fde0ef\"], [0.5, \"#f7f7f7\"], [0.6, \"#e6f5d0\"], [0.7, \"#b8e186\"], [0.8, \"#7fbc41\"], [0.9, \"#4d9221\"], [1, \"#276419\"]], \"sequential\": [[0.0, \"#0d0887\"], [0.1111111111111111, \"#46039f\"], [0.2222222222222222, \"#7201a8\"], [0.3333333333333333, \"#9c179e\"], [0.4444444444444444, \"#bd3786\"], [0.5555555555555556, \"#d8576b\"], [0.6666666666666666, \"#ed7953\"], [0.7777777777777778, \"#fb9f3a\"], [0.8888888888888888, \"#fdca26\"], [1.0, \"#f0f921\"]], \"sequentialminus\": [[0.0, \"#0d0887\"], [0.1111111111111111, \"#46039f\"], [0.2222222222222222, \"#7201a8\"], [0.3333333333333333, \"#9c179e\"], [0.4444444444444444, \"#bd3786\"], [0.5555555555555556, \"#d8576b\"], [0.6666666666666666, \"#ed7953\"], [0.7777777777777778, \"#fb9f3a\"], [0.8888888888888888, \"#fdca26\"], [1.0, \"#f0f921\"]]}, \"colorway\": [\"#636efa\", \"#EF553B\", \"#00cc96\", \"#ab63fa\", \"#FFA15A\", \"#19d3f3\", \"#FF6692\", \"#B6E880\", \"#FF97FF\", \"#FECB52\"], \"font\": {\"color\": \"#f2f5fa\"}, \"geo\": {\"bgcolor\": \"rgb(17,17,17)\", \"lakecolor\": \"rgb(17,17,17)\", \"landcolor\": \"rgb(17,17,17)\", \"showlakes\": true, \"showland\": true, \"subunitcolor\": \"#506784\"}, \"hoverlabel\": {\"align\": \"left\"}, \"hovermode\": \"closest\", \"mapbox\": {\"style\": \"dark\"}, \"paper_bgcolor\": \"rgb(17,17,17)\", \"plot_bgcolor\": \"rgb(17,17,17)\", \"polar\": {\"angularaxis\": {\"gridcolor\": \"#506784\", \"linecolor\": \"#506784\", \"ticks\": \"\"}, \"bgcolor\": \"rgb(17,17,17)\", \"radialaxis\": {\"gridcolor\": \"#506784\", \"linecolor\": \"#506784\", \"ticks\": \"\"}}, \"scene\": {\"xaxis\": {\"backgroundcolor\": \"rgb(17,17,17)\", \"gridcolor\": \"#506784\", \"gridwidth\": 2, \"linecolor\": \"#506784\", \"showbackground\": true, \"ticks\": \"\", \"zerolinecolor\": \"#C8D4E3\"}, \"yaxis\": {\"backgroundcolor\": \"rgb(17,17,17)\", \"gridcolor\": \"#506784\", \"gridwidth\": 2, \"linecolor\": \"#506784\", \"showbackground\": true, \"ticks\": \"\", \"zerolinecolor\": \"#C8D4E3\"}, \"zaxis\": {\"backgroundcolor\": \"rgb(17,17,17)\", \"gridcolor\": \"#506784\", \"gridwidth\": 2, \"linecolor\": \"#506784\", \"showbackground\": true, \"ticks\": \"\", \"zerolinecolor\": \"#C8D4E3\"}}, \"shapedefaults\": {\"line\": {\"color\": \"#f2f5fa\"}}, \"sliderdefaults\": {\"bgcolor\": \"#C8D4E3\", \"bordercolor\": \"rgb(17,17,17)\", \"borderwidth\": 1, \"tickwidth\": 0}, \"ternary\": {\"aaxis\": {\"gridcolor\": \"#506784\", \"linecolor\": \"#506784\", \"ticks\": \"\"}, \"baxis\": {\"gridcolor\": \"#506784\", \"linecolor\": \"#506784\", \"ticks\": \"\"}, \"bgcolor\": \"rgb(17,17,17)\", \"caxis\": {\"gridcolor\": \"#506784\", \"linecolor\": \"#506784\", \"ticks\": \"\"}}, \"title\": {\"x\": 0.05}, \"updatemenudefaults\": {\"bgcolor\": \"#506784\", \"borderwidth\": 0}, \"xaxis\": {\"automargin\": true, \"gridcolor\": \"#283442\", \"linecolor\": \"#506784\", \"ticks\": \"\", \"title\": {\"standoff\": 15}, \"zerolinecolor\": \"#283442\", \"zerolinewidth\": 2}, \"yaxis\": {\"automargin\": true, \"gridcolor\": \"#283442\", \"linecolor\": \"#506784\", \"ticks\": \"\", \"title\": {\"standoff\": 15}, \"zerolinecolor\": \"#283442\", \"zerolinewidth\": 2}}}, \"title\": {\"font\": {\"size\": 24}, \"text\": \"Number of Deaths by Region\"}, \"xaxis\": {\"anchor\": \"y\", \"domain\": [0.0, 1.0], \"title\": {\"text\": \"Date\"}}, \"yaxis\": {\"anchor\": \"x\", \"domain\": [0.0, 1.0], \"title\": {\"text\": \"Number of Deaths\"}}},                        {\"responsive\": true}                    ).then(function(){\n",
              "                            \n",
              "var gd = document.getElementById('88dad245-5ee5-461e-8b8d-3455a0494d58');\n",
              "var x = new MutationObserver(function (mutations, observer) {{\n",
              "        var display = window.getComputedStyle(gd).display;\n",
              "        if (!display || display === 'none') {{\n",
              "            console.log([gd, 'removed!']);\n",
              "            Plotly.purge(gd);\n",
              "            observer.disconnect();\n",
              "        }}\n",
              "}});\n",
              "\n",
              "// Listen for the removal of the full notebook cells\n",
              "var notebookContainer = gd.closest('#notebook-container');\n",
              "if (notebookContainer) {{\n",
              "    x.observe(notebookContainer, {childList: true});\n",
              "}}\n",
              "\n",
              "// Listen for the clearing of the current output cell\n",
              "var outputEl = gd.closest('.output');\n",
              "if (outputEl) {{\n",
              "    x.observe(outputEl, {childList: true});\n",
              "}}\n",
              "\n",
              "                        })                };                            </script>        </div>\n",
              "</body>\n",
              "</html>"
            ]
          },
          "metadata": {
            "tags": []
          }
        }
      ]
    },
    {
      "cell_type": "code",
      "metadata": {
        "id": "9ZQ4F056wQOb"
      },
      "source": [
        ""
      ],
      "execution_count": null,
      "outputs": []
    }
  ]
}