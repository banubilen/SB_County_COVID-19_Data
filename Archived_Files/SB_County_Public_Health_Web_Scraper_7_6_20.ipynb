{
  "nbformat": 4,
  "nbformat_minor": 0,
  "metadata": {
    "colab": {
      "name": "SB_County_Public_Health_Web_Scraper_7-6-20.ipynb",
      "provenance": [],
      "collapsed_sections": [],
      "authorship_tag": "ABX9TyNcjPzKZOMQdBK8gyqVFBlg",
      "include_colab_link": true
    },
    "kernelspec": {
      "name": "python3",
      "display_name": "Python 3"
    }
  },
  "cells": [
    {
      "cell_type": "markdown",
      "metadata": {
        "id": "view-in-github",
        "colab_type": "text"
      },
      "source": [
        "<a href=\"https://colab.research.google.com/github/bryandaetz1/SB_County_COVID-19_Data/blob/master/SB_County_Public_Health_Web_Scraper_7_6_20.ipynb\" target=\"_parent\"><img src=\"https://colab.research.google.com/assets/colab-badge.svg\" alt=\"Open In Colab\"/></a>"
      ]
    },
    {
      "cell_type": "code",
      "metadata": {
        "id": "YwEDv1lsiSRE",
        "colab_type": "code",
        "colab": {}
      },
      "source": [
        "from bs4 import BeautifulSoup\n",
        "import requests\n",
        "import pandas as pd\n",
        "import numpy as np"
      ],
      "execution_count": 49,
      "outputs": []
    },
    {
      "cell_type": "code",
      "metadata": {
        "id": "RvVOwn3oiUA8",
        "colab_type": "code",
        "colab": {}
      },
      "source": [
        "#specify URL/web page to scrape\n",
        "url = 'https://publichealthsbc.org/status-reports/'\n",
        "\n",
        "#create user-agent (Windows 10 with Google Chrome)\n",
        "user_agent = 'Mozilla/5.0 (Windows NT 10.0; Win64; x64) '\\\n",
        "'AppleWebKit/537.36 (KHTML, like Gecko) Chrome/80.03987.149 '\\\n",
        "'Safara/537.36'\n",
        "\n",
        "headers = {'User-Agent': user_agent}\n",
        "\n",
        "response = requests.get(url, headers = headers).text"
      ],
      "execution_count": 50,
      "outputs": []
    },
    {
      "cell_type": "code",
      "metadata": {
        "id": "U_Y4mRHWieSI",
        "colab_type": "code",
        "colab": {}
      },
      "source": [
        "#parse the HTML from the URL into the BeautifulSoup parse tree format\n",
        "soup = BeautifulSoup(response, 'html.parser')"
      ],
      "execution_count": 51,
      "outputs": []
    },
    {
      "cell_type": "code",
      "metadata": {
        "id": "f4d4nsmLiniy",
        "colab_type": "code",
        "colab": {
          "base_uri": "https://localhost:8080/",
          "height": 35
        },
        "outputId": "0226cca0-a318-4644-cb53-e920f29aa67a"
      },
      "source": [
        "#grabbing page title to verify that we were able to successfully get requests from webpage \n",
        "soup.title"
      ],
      "execution_count": 52,
      "outputs": [
        {
          "output_type": "execute_result",
          "data": {
            "text/plain": [
              "<title>Status Reports – County of Santa Barbara</title>"
            ]
          },
          "metadata": {
            "tags": []
          },
          "execution_count": 52
        }
      ]
    },
    {
      "cell_type": "code",
      "metadata": {
        "id": "8aqILRBk6xa8",
        "colab_type": "code",
        "colab": {
          "base_uri": "https://localhost:8080/",
          "height": 35
        },
        "outputId": "aaf6e30f-4db3-4213-d470-4d9a306c7c84"
      },
      "source": [
        "#after inspecting the page, it looks like all the tables that contain data we want have id = 'stats'\n",
        "tables = soup.find_all('div', {'class': 'elementor-text-editor elementor-clearfix'})\n",
        "len(tables)"
      ],
      "execution_count": 53,
      "outputs": [
        {
          "output_type": "execute_result",
          "data": {
            "text/plain": [
              "8"
            ]
          },
          "metadata": {
            "tags": []
          },
          "execution_count": 53
        }
      ]
    },
    {
      "cell_type": "code",
      "metadata": {
        "id": "-tbvIZqCPeG8",
        "colab_type": "code",
        "colab": {}
      },
      "source": [
        "#trying to create function to convert html table to pandas dataframe, had to break this into two functions\n",
        "\n",
        "def TableToList(table):\n",
        "  #getting contents of table and converting the text into a list\n",
        "  raw = list(table.find_all('td'))\n",
        "  text = []\n",
        "  for i in raw:\n",
        "    text.append(i.text)\n",
        "  return text\n",
        "\n",
        "def ListToDf(list, no_columns):\n",
        "  # calculating number of rows for dataframe\n",
        "  rows = int(len(list) / no_columns)\n",
        "\n",
        "  # converting list to numpy array to reshape\n",
        "  array = np.array(list)\n",
        "  array = np.reshape(array, (rows, no_columns))\n",
        "\n",
        "  #converting array to pandas dataframe\n",
        "  df = pd.DataFrame(array[1:], columns = array[0])\n",
        "  return df\n"
      ],
      "execution_count": 54,
      "outputs": []
    },
    {
      "cell_type": "code",
      "metadata": {
        "id": "3k0FWra9WL3y",
        "colab_type": "code",
        "colab": {}
      },
      "source": [
        "table1 = TableToList(tables[0])\n",
        "#table1"
      ],
      "execution_count": 55,
      "outputs": []
    },
    {
      "cell_type": "code",
      "metadata": {
        "id": "XypPdnxrWejR",
        "colab_type": "code",
        "colab": {
          "base_uri": "https://localhost:8080/",
          "height": 458
        },
        "outputId": "8c066148-774b-4ed6-c12c-d61040da89b4"
      },
      "source": [
        "current_stats = ListToDf(table1, 6)\n",
        "current_stats"
      ],
      "execution_count": 56,
      "outputs": [
        {
          "output_type": "execute_result",
          "data": {
            "text/html": [
              "<div>\n",
              "<style scoped>\n",
              "    .dataframe tbody tr th:only-of-type {\n",
              "        vertical-align: middle;\n",
              "    }\n",
              "\n",
              "    .dataframe tbody tr th {\n",
              "        vertical-align: top;\n",
              "    }\n",
              "\n",
              "    .dataframe thead th {\n",
              "        text-align: right;\n",
              "    }\n",
              "</style>\n",
              "<table border=\"1\" class=\"dataframe\">\n",
              "  <thead>\n",
              "    <tr style=\"text-align: right;\">\n",
              "      <th></th>\n",
              "      <th>Geographic Area as of 7/5/2020</th>\n",
              "      <th>DailyCases</th>\n",
              "      <th>Total Confirmed Cases</th>\n",
              "      <th>Recovered by Region</th>\n",
              "      <th>Active Cases by Region</th>\n",
              "      <th>Number of Deaths</th>\n",
              "    </tr>\n",
              "  </thead>\n",
              "  <tbody>\n",
              "    <tr>\n",
              "      <th>0</th>\n",
              "      <td>SOUTH COUNTY UNINCORPORATED AREA includes comm...</td>\n",
              "      <td>0</td>\n",
              "      <td>64</td>\n",
              "      <td>53</td>\n",
              "      <td>10</td>\n",
              "      <td>0</td>\n",
              "    </tr>\n",
              "    <tr>\n",
              "      <th>1</th>\n",
              "      <td>CITY OF SANTA BARBARA and the unincorporated a...</td>\n",
              "      <td>8</td>\n",
              "      <td>368</td>\n",
              "      <td>308</td>\n",
              "      <td>58</td>\n",
              "      <td>3</td>\n",
              "    </tr>\n",
              "    <tr>\n",
              "      <th>2</th>\n",
              "      <td>CITY OF GOLETA</td>\n",
              "      <td>0</td>\n",
              "      <td>68</td>\n",
              "      <td>59</td>\n",
              "      <td>7</td>\n",
              "      <td>2</td>\n",
              "    </tr>\n",
              "    <tr>\n",
              "      <th>3</th>\n",
              "      <td>COMMUNITY OF ISLA VISTA</td>\n",
              "      <td>2</td>\n",
              "      <td>20</td>\n",
              "      <td>19</td>\n",
              "      <td>1</td>\n",
              "      <td>0</td>\n",
              "    </tr>\n",
              "    <tr>\n",
              "      <th>4</th>\n",
              "      <td>UNINCORPORATED AREA OF THE GOLETA VALLEY AND G...</td>\n",
              "      <td>1</td>\n",
              "      <td>55</td>\n",
              "      <td>42</td>\n",
              "      <td>12</td>\n",
              "      <td>1</td>\n",
              "    </tr>\n",
              "    <tr>\n",
              "      <th>5</th>\n",
              "      <td>SANTA YNEZ VALLEY including the Cities of Solv...</td>\n",
              "      <td>0</td>\n",
              "      <td>25</td>\n",
              "      <td>23</td>\n",
              "      <td>2</td>\n",
              "      <td>0</td>\n",
              "    </tr>\n",
              "    <tr>\n",
              "      <th>6</th>\n",
              "      <td>CITY OF LOMPOC and the communities of Mission ...</td>\n",
              "      <td>5</td>\n",
              "      <td>177</td>\n",
              "      <td>159</td>\n",
              "      <td>14</td>\n",
              "      <td>4</td>\n",
              "    </tr>\n",
              "    <tr>\n",
              "      <th>7</th>\n",
              "      <td>FEDERAL PRISON IN LOMPOC</td>\n",
              "      <td>0</td>\n",
              "      <td>994</td>\n",
              "      <td>991</td>\n",
              "      <td>0</td>\n",
              "      <td>3</td>\n",
              "    </tr>\n",
              "    <tr>\n",
              "      <th>8</th>\n",
              "      <td>CITY OF SANTA MARIA</td>\n",
              "      <td>42</td>\n",
              "      <td>1392</td>\n",
              "      <td>1214</td>\n",
              "      <td>164</td>\n",
              "      <td>15</td>\n",
              "    </tr>\n",
              "    <tr>\n",
              "      <th>9</th>\n",
              "      <td>COMMUNITY OF ORCUTT</td>\n",
              "      <td>7</td>\n",
              "      <td>93</td>\n",
              "      <td>82</td>\n",
              "      <td>10</td>\n",
              "      <td>0</td>\n",
              "    </tr>\n",
              "    <tr>\n",
              "      <th>10</th>\n",
              "      <td>UNINCORPORATED AREAS of Sisquoc, Casmalia, Gar...</td>\n",
              "      <td>7</td>\n",
              "      <td>130</td>\n",
              "      <td>116</td>\n",
              "      <td>13</td>\n",
              "      <td>1</td>\n",
              "    </tr>\n",
              "    <tr>\n",
              "      <th>11</th>\n",
              "      <td>Out of County</td>\n",
              "      <td>—</td>\n",
              "      <td>—</td>\n",
              "      <td>0</td>\n",
              "      <td>0</td>\n",
              "      <td>—</td>\n",
              "    </tr>\n",
              "    <tr>\n",
              "      <th>12</th>\n",
              "      <td>Pending</td>\n",
              "      <td>4</td>\n",
              "      <td>98</td>\n",
              "      <td>84</td>\n",
              "      <td>14</td>\n",
              "      <td>—</td>\n",
              "    </tr>\n",
              "    <tr>\n",
              "      <th>13</th>\n",
              "      <td>Total</td>\n",
              "      <td>76</td>\n",
              "      <td>3484</td>\n",
              "      <td>3150</td>\n",
              "      <td>305</td>\n",
              "      <td>29</td>\n",
              "    </tr>\n",
              "  </tbody>\n",
              "</table>\n",
              "</div>"
            ],
            "text/plain": [
              "                       Geographic Area as of 7/5/2020  ... Number of Deaths\n",
              "0   SOUTH COUNTY UNINCORPORATED AREA includes comm...  ...                0\n",
              "1   CITY OF SANTA BARBARA and the unincorporated a...  ...                3\n",
              "2                                      CITY OF GOLETA  ...                2\n",
              "3                             COMMUNITY OF ISLA VISTA  ...                0\n",
              "4   UNINCORPORATED AREA OF THE GOLETA VALLEY AND G...  ...                1\n",
              "5   SANTA YNEZ VALLEY including the Cities of Solv...  ...                0\n",
              "6   CITY OF LOMPOC and the communities of Mission ...  ...                4\n",
              "7                            FEDERAL PRISON IN LOMPOC  ...                3\n",
              "8                                 CITY OF SANTA MARIA  ...               15\n",
              "9                                 COMMUNITY OF ORCUTT  ...                0\n",
              "10  UNINCORPORATED AREAS of Sisquoc, Casmalia, Gar...  ...                1\n",
              "11                                      Out of County  ...                —\n",
              "12                                            Pending  ...                —\n",
              "13                                              Total  ...               29\n",
              "\n",
              "[14 rows x 6 columns]"
            ]
          },
          "metadata": {
            "tags": []
          },
          "execution_count": 56
        }
      ]
    },
    {
      "cell_type": "code",
      "metadata": {
        "id": "Ajc5c7yISNBv",
        "colab_type": "code",
        "colab": {}
      },
      "source": [
        "table2 = TableToList(tables[1])\n",
        "table2 = table2[1:]\n",
        "#table2"
      ],
      "execution_count": 57,
      "outputs": []
    },
    {
      "cell_type": "code",
      "metadata": {
        "id": "HfiSEJEpSQAz",
        "colab_type": "code",
        "colab": {
          "base_uri": "https://localhost:8080/",
          "height": 223
        },
        "outputId": "6a541fee-dbad-47e9-cf64-163a97f254d1"
      },
      "source": [
        "cases_by_age = ListToDf(table2, 5)\n",
        "cases_by_age"
      ],
      "execution_count": 58,
      "outputs": [
        {
          "output_type": "execute_result",
          "data": {
            "text/html": [
              "<div>\n",
              "<style scoped>\n",
              "    .dataframe tbody tr th:only-of-type {\n",
              "        vertical-align: middle;\n",
              "    }\n",
              "\n",
              "    .dataframe tbody tr th {\n",
              "        vertical-align: top;\n",
              "    }\n",
              "\n",
              "    .dataframe thead th {\n",
              "        text-align: right;\n",
              "    }\n",
              "</style>\n",
              "<table border=\"1\" class=\"dataframe\">\n",
              "  <thead>\n",
              "    <tr style=\"text-align: right;\">\n",
              "      <th></th>\n",
              "      <th>Age Range</th>\n",
              "      <th>Daily</th>\n",
              "      <th>Community</th>\n",
              "      <th>Federal Prisonin Lompoc</th>\n",
              "      <th>Total(Community&amp; Prison)</th>\n",
              "    </tr>\n",
              "  </thead>\n",
              "  <tbody>\n",
              "    <tr>\n",
              "      <th>0</th>\n",
              "      <td>0 – 17</td>\n",
              "      <td>6</td>\n",
              "      <td>226</td>\n",
              "      <td>0</td>\n",
              "      <td>226</td>\n",
              "    </tr>\n",
              "    <tr>\n",
              "      <th>1</th>\n",
              "      <td>18 – 29</td>\n",
              "      <td>25</td>\n",
              "      <td>705</td>\n",
              "      <td>134</td>\n",
              "      <td>839</td>\n",
              "    </tr>\n",
              "    <tr>\n",
              "      <th>2</th>\n",
              "      <td>30 – 49</td>\n",
              "      <td>28</td>\n",
              "      <td>916</td>\n",
              "      <td>526</td>\n",
              "      <td>1442</td>\n",
              "    </tr>\n",
              "    <tr>\n",
              "      <th>3</th>\n",
              "      <td>50 – 69</td>\n",
              "      <td>11</td>\n",
              "      <td>500</td>\n",
              "      <td>302</td>\n",
              "      <td>802</td>\n",
              "    </tr>\n",
              "    <tr>\n",
              "      <th>4</th>\n",
              "      <td>70+</td>\n",
              "      <td>6</td>\n",
              "      <td>143</td>\n",
              "      <td>32</td>\n",
              "      <td>175</td>\n",
              "    </tr>\n",
              "    <tr>\n",
              "      <th>5</th>\n",
              "      <td>Age Suppressed</td>\n",
              "      <td>0</td>\n",
              "      <td>—</td>\n",
              "      <td>—</td>\n",
              "      <td>—</td>\n",
              "    </tr>\n",
              "  </tbody>\n",
              "</table>\n",
              "</div>"
            ],
            "text/plain": [
              "        Age Range Daily  ... Federal Prisonin Lompoc Total(Community& Prison)\n",
              "0          0 – 17     6  ...                       0                      226\n",
              "1         18 – 29    25  ...                     134                      839\n",
              "2         30 – 49    28  ...                     526                     1442\n",
              "3         50 – 69    11  ...                     302                      802\n",
              "4             70+     6  ...                      32                      175\n",
              "5  Age Suppressed     0  ...                       —                        —\n",
              "\n",
              "[6 rows x 5 columns]"
            ]
          },
          "metadata": {
            "tags": []
          },
          "execution_count": 58
        }
      ]
    },
    {
      "cell_type": "code",
      "metadata": {
        "id": "SzuQu9wUUbQ7",
        "colab_type": "code",
        "colab": {}
      },
      "source": [
        "table3 = TableToList(tables[2])\n",
        "table3 = table3[1:]\n",
        "#table3"
      ],
      "execution_count": 59,
      "outputs": []
    },
    {
      "cell_type": "code",
      "metadata": {
        "id": "Q4Dc8z8qW9xd",
        "colab_type": "code",
        "colab": {
          "base_uri": "https://localhost:8080/",
          "height": 164
        },
        "outputId": "b52fc2bf-73ff-4a04-ba32-a0b0af9319d9"
      },
      "source": [
        "cases_by_sex = ListToDf(table3, 5)\n",
        "cases_by_sex.columns.values[0] = 'Sex'\n",
        "cases_by_sex"
      ],
      "execution_count": 60,
      "outputs": [
        {
          "output_type": "execute_result",
          "data": {
            "text/html": [
              "<div>\n",
              "<style scoped>\n",
              "    .dataframe tbody tr th:only-of-type {\n",
              "        vertical-align: middle;\n",
              "    }\n",
              "\n",
              "    .dataframe tbody tr th {\n",
              "        vertical-align: top;\n",
              "    }\n",
              "\n",
              "    .dataframe thead th {\n",
              "        text-align: right;\n",
              "    }\n",
              "</style>\n",
              "<table border=\"1\" class=\"dataframe\">\n",
              "  <thead>\n",
              "    <tr style=\"text-align: right;\">\n",
              "      <th></th>\n",
              "      <th>Sex</th>\n",
              "      <th>Daily</th>\n",
              "      <th>Community</th>\n",
              "      <th>Federal Prisonin Lompoc</th>\n",
              "      <th>Total(Community&amp; Prison)</th>\n",
              "    </tr>\n",
              "  </thead>\n",
              "  <tbody>\n",
              "    <tr>\n",
              "      <th>0</th>\n",
              "      <td>Female</td>\n",
              "      <td>44</td>\n",
              "      <td>1200</td>\n",
              "      <td>2</td>\n",
              "      <td>1202</td>\n",
              "    </tr>\n",
              "    <tr>\n",
              "      <th>1</th>\n",
              "      <td>Male</td>\n",
              "      <td>31</td>\n",
              "      <td>1273</td>\n",
              "      <td>979</td>\n",
              "      <td>2252</td>\n",
              "    </tr>\n",
              "    <tr>\n",
              "      <th>2</th>\n",
              "      <td>Unknown</td>\n",
              "      <td>1</td>\n",
              "      <td>17</td>\n",
              "      <td>13</td>\n",
              "      <td>30</td>\n",
              "    </tr>\n",
              "    <tr>\n",
              "      <th>3</th>\n",
              "      <td>Pending</td>\n",
              "      <td>0</td>\n",
              "      <td>0</td>\n",
              "      <td>0</td>\n",
              "      <td>0</td>\n",
              "    </tr>\n",
              "  </tbody>\n",
              "</table>\n",
              "</div>"
            ],
            "text/plain": [
              "       Sex  Daily Community Federal Prisonin Lompoc  Total(Community& Prison)\n",
              "0   Female     44      1200                       2                      1202\n",
              "1     Male     31      1273                     979                      2252\n",
              "2  Unknown      1        17                      13                        30\n",
              "3  Pending      0         0                       0                         0"
            ]
          },
          "metadata": {
            "tags": []
          },
          "execution_count": 60
        }
      ]
    },
    {
      "cell_type": "code",
      "metadata": {
        "id": "fIdreoOvXUMI",
        "colab_type": "code",
        "colab": {}
      },
      "source": [
        "table4 = TableToList(tables[3])\n",
        "#table4"
      ],
      "execution_count": 61,
      "outputs": []
    },
    {
      "cell_type": "code",
      "metadata": {
        "id": "3Y2N4-nzYF_S",
        "colab_type": "code",
        "colab": {
          "base_uri": "https://localhost:8080/",
          "height": 164
        },
        "outputId": "167272e5-7ab8-4190-bad8-15021032c802"
      },
      "source": [
        "testing_status = ListToDf(table4, 2)\n",
        "testing_status"
      ],
      "execution_count": 62,
      "outputs": [
        {
          "output_type": "execute_result",
          "data": {
            "text/html": [
              "<div>\n",
              "<style scoped>\n",
              "    .dataframe tbody tr th:only-of-type {\n",
              "        vertical-align: middle;\n",
              "    }\n",
              "\n",
              "    .dataframe tbody tr th {\n",
              "        vertical-align: top;\n",
              "    }\n",
              "\n",
              "    .dataframe thead th {\n",
              "        text-align: right;\n",
              "    }\n",
              "</style>\n",
              "<table border=\"1\" class=\"dataframe\">\n",
              "  <thead>\n",
              "    <tr style=\"text-align: right;\">\n",
              "      <th></th>\n",
              "      <th>Testing Status</th>\n",
              "      <th>Total</th>\n",
              "    </tr>\n",
              "  </thead>\n",
              "  <tbody>\n",
              "    <tr>\n",
              "      <th>0</th>\n",
              "      <td>Positive</td>\n",
              "      <td>3484</td>\n",
              "    </tr>\n",
              "    <tr>\n",
              "      <th>1</th>\n",
              "      <td>Negative</td>\n",
              "      <td>45496</td>\n",
              "    </tr>\n",
              "    <tr>\n",
              "      <th>2</th>\n",
              "      <td>Inconclusive</td>\n",
              "      <td>145</td>\n",
              "    </tr>\n",
              "    <tr>\n",
              "      <th>3</th>\n",
              "      <td>Total Tests</td>\n",
              "      <td>49125</td>\n",
              "    </tr>\n",
              "  </tbody>\n",
              "</table>\n",
              "</div>"
            ],
            "text/plain": [
              "  Testing Status Total \n",
              "0       Positive   3484\n",
              "1       Negative  45496\n",
              "2   Inconclusive    145\n",
              "3   Total Tests   49125"
            ]
          },
          "metadata": {
            "tags": []
          },
          "execution_count": 62
        }
      ]
    },
    {
      "cell_type": "code",
      "metadata": {
        "id": "xm1FU8Y5Yz5p",
        "colab_type": "code",
        "colab": {}
      },
      "source": [
        "table5 = TableToList(tables[4])\n",
        "#table5"
      ],
      "execution_count": 63,
      "outputs": []
    },
    {
      "cell_type": "code",
      "metadata": {
        "id": "5m1r48rgQRZk",
        "colab_type": "code",
        "colab": {
          "base_uri": "https://localhost:8080/",
          "height": 76
        },
        "outputId": "d062fdb3-8922-4a9e-d702-fc1c96a7d457"
      },
      "source": [
        "high_risk = ListToDf(table5[:4],2)\n",
        "high_risk"
      ],
      "execution_count": 64,
      "outputs": [
        {
          "output_type": "execute_result",
          "data": {
            "text/html": [
              "<div>\n",
              "<style scoped>\n",
              "    .dataframe tbody tr th:only-of-type {\n",
              "        vertical-align: middle;\n",
              "    }\n",
              "\n",
              "    .dataframe tbody tr th {\n",
              "        vertical-align: top;\n",
              "    }\n",
              "\n",
              "    .dataframe thead th {\n",
              "        text-align: right;\n",
              "    }\n",
              "</style>\n",
              "<table border=\"1\" class=\"dataframe\">\n",
              "  <thead>\n",
              "    <tr style=\"text-align: right;\">\n",
              "      <th></th>\n",
              "      <th>High Risk</th>\n",
              "      <th>Total</th>\n",
              "    </tr>\n",
              "  </thead>\n",
              "  <tbody>\n",
              "    <tr>\n",
              "      <th>0</th>\n",
              "      <td>Health Care Workers (HCW)</td>\n",
              "      <td>157</td>\n",
              "    </tr>\n",
              "  </tbody>\n",
              "</table>\n",
              "</div>"
            ],
            "text/plain": [
              "                   High Risk Total \n",
              "0  Health Care Workers (HCW)    157"
            ]
          },
          "metadata": {
            "tags": []
          },
          "execution_count": 64
        }
      ]
    },
    {
      "cell_type": "code",
      "metadata": {
        "id": "bCpw50bVY5RQ",
        "colab_type": "code",
        "colab": {
          "base_uri": "https://localhost:8080/",
          "height": 194
        },
        "outputId": "386e45e9-e74f-4df1-e1e1-997e3dae23ab"
      },
      "source": [
        "transmission_method = ListToDf(table5[4:], 2)\n",
        "transmission_method"
      ],
      "execution_count": 65,
      "outputs": [
        {
          "output_type": "execute_result",
          "data": {
            "text/html": [
              "<div>\n",
              "<style scoped>\n",
              "    .dataframe tbody tr th:only-of-type {\n",
              "        vertical-align: middle;\n",
              "    }\n",
              "\n",
              "    .dataframe tbody tr th {\n",
              "        vertical-align: top;\n",
              "    }\n",
              "\n",
              "    .dataframe thead th {\n",
              "        text-align: right;\n",
              "    }\n",
              "</style>\n",
              "<table border=\"1\" class=\"dataframe\">\n",
              "  <thead>\n",
              "    <tr style=\"text-align: right;\">\n",
              "      <th></th>\n",
              "      <th>Transmission Method</th>\n",
              "      <th>Total</th>\n",
              "    </tr>\n",
              "  </thead>\n",
              "  <tbody>\n",
              "    <tr>\n",
              "      <th>0</th>\n",
              "      <td>Community Close Contact Transmission</td>\n",
              "      <td>741</td>\n",
              "    </tr>\n",
              "    <tr>\n",
              "      <th>1</th>\n",
              "      <td>Persons Incarcerated at Federal Prison in Lomp...</td>\n",
              "      <td>994</td>\n",
              "    </tr>\n",
              "    <tr>\n",
              "      <th>2</th>\n",
              "      <td>Travel Transmission</td>\n",
              "      <td>12</td>\n",
              "    </tr>\n",
              "    <tr>\n",
              "      <th>3</th>\n",
              "      <td>Community Transmission</td>\n",
              "      <td>546</td>\n",
              "    </tr>\n",
              "    <tr>\n",
              "      <th>4</th>\n",
              "      <td>Under Investigation</td>\n",
              "      <td>1193</td>\n",
              "    </tr>\n",
              "  </tbody>\n",
              "</table>\n",
              "</div>"
            ],
            "text/plain": [
              "                                 Transmission Method Total\n",
              "0               Community Close Contact Transmission   741\n",
              "1  Persons Incarcerated at Federal Prison in Lomp...   994\n",
              "2                                Travel Transmission    12\n",
              "3                             Community Transmission   546\n",
              "4                                Under Investigation  1193"
            ]
          },
          "metadata": {
            "tags": []
          },
          "execution_count": 65
        }
      ]
    },
    {
      "cell_type": "code",
      "metadata": {
        "id": "1uT_3X0iZCwF",
        "colab_type": "code",
        "colab": {}
      },
      "source": [
        "table6 = TableToList(tables[5])\n",
        "\n",
        "#ran into an issue convering list to dataframe because website had missing values after 'Recovering in Home' and 'NO LONGER REPORTING', using a rough workaround for now to add \"--\" to the places where values were missing\n",
        "table6.insert(13, '--')\n",
        "table6.insert(15, '--')\n",
        "#table6"
      ],
      "execution_count": 66,
      "outputs": []
    },
    {
      "cell_type": "code",
      "metadata": {
        "id": "jKmWG45rZKFz",
        "colab_type": "code",
        "colab": {
          "base_uri": "https://localhost:8080/",
          "height": 223
        },
        "outputId": "1dfa5075-5c41-43eb-c13d-8ef13fd078f9"
      },
      "source": [
        "recovery_status = ListToDf(table6, 4)\n",
        "recovery_status"
      ],
      "execution_count": 67,
      "outputs": [
        {
          "output_type": "execute_result",
          "data": {
            "text/html": [
              "<div>\n",
              "<style scoped>\n",
              "    .dataframe tbody tr th:only-of-type {\n",
              "        vertical-align: middle;\n",
              "    }\n",
              "\n",
              "    .dataframe tbody tr th {\n",
              "        vertical-align: top;\n",
              "    }\n",
              "\n",
              "    .dataframe thead th {\n",
              "        text-align: right;\n",
              "    }\n",
              "</style>\n",
              "<table border=\"1\" class=\"dataframe\">\n",
              "  <thead>\n",
              "    <tr style=\"text-align: right;\">\n",
              "      <th></th>\n",
              "      <th>RECOVERY STATUS</th>\n",
              "      <th>Community</th>\n",
              "      <th>Federal Prison in Lompoc</th>\n",
              "      <th>Total(Community &amp; Prison)</th>\n",
              "    </tr>\n",
              "  </thead>\n",
              "  <tbody>\n",
              "    <tr>\n",
              "      <th>0</th>\n",
              "      <td>Active Cases</td>\n",
              "      <td>305</td>\n",
              "      <td>0</td>\n",
              "      <td>305</td>\n",
              "    </tr>\n",
              "    <tr>\n",
              "      <th>1</th>\n",
              "      <td>Recovered Cases</td>\n",
              "      <td>2159</td>\n",
              "      <td>991</td>\n",
              "      <td>3150</td>\n",
              "    </tr>\n",
              "    <tr>\n",
              "      <th>2</th>\n",
              "      <td>Recovering at Home</td>\n",
              "      <td>--</td>\n",
              "      <td>NO LONGER REPORTING</td>\n",
              "      <td>--</td>\n",
              "    </tr>\n",
              "    <tr>\n",
              "      <th>3</th>\n",
              "      <td>Recovering in Hospital</td>\n",
              "      <td>71</td>\n",
              "      <td>—</td>\n",
              "      <td>—</td>\n",
              "    </tr>\n",
              "    <tr>\n",
              "      <th>4</th>\n",
              "      <td>Recovering in ICU</td>\n",
              "      <td>21</td>\n",
              "      <td>—</td>\n",
              "      <td>—</td>\n",
              "    </tr>\n",
              "    <tr>\n",
              "      <th>5</th>\n",
              "      <td>Pending Information</td>\n",
              "      <td>—</td>\n",
              "      <td>—</td>\n",
              "      <td>—</td>\n",
              "    </tr>\n",
              "  </tbody>\n",
              "</table>\n",
              "</div>"
            ],
            "text/plain": [
              "          RECOVERY STATUS  ... Total(Community & Prison)\n",
              "0            Active Cases  ...                       305\n",
              "1         Recovered Cases  ...                      3150\n",
              "2      Recovering at Home  ...                        --\n",
              "3  Recovering in Hospital  ...                         —\n",
              "4       Recovering in ICU  ...                         —\n",
              "5     Pending Information  ...                         —\n",
              "\n",
              "[6 rows x 4 columns]"
            ]
          },
          "metadata": {
            "tags": []
          },
          "execution_count": 67
        }
      ]
    },
    {
      "cell_type": "code",
      "metadata": {
        "id": "ykPSGht7ZTww",
        "colab_type": "code",
        "colab": {}
      },
      "source": [
        "table7 = TableToList(tables[6])\n",
        "#table7"
      ],
      "execution_count": 68,
      "outputs": []
    },
    {
      "cell_type": "code",
      "metadata": {
        "id": "00OQxZfkZr_D",
        "colab_type": "code",
        "colab": {
          "base_uri": "https://localhost:8080/",
          "height": 428
        },
        "outputId": "d2774777-e7c1-44d3-c1c1-041b0fac445d"
      },
      "source": [
        "ethnicity = ListToDf(table7, 5)\n",
        "ethnicity"
      ],
      "execution_count": 69,
      "outputs": [
        {
          "output_type": "execute_result",
          "data": {
            "text/html": [
              "<div>\n",
              "<style scoped>\n",
              "    .dataframe tbody tr th:only-of-type {\n",
              "        vertical-align: middle;\n",
              "    }\n",
              "\n",
              "    .dataframe tbody tr th {\n",
              "        vertical-align: top;\n",
              "    }\n",
              "\n",
              "    .dataframe thead th {\n",
              "        text-align: right;\n",
              "    }\n",
              "</style>\n",
              "<table border=\"1\" class=\"dataframe\">\n",
              "  <thead>\n",
              "    <tr style=\"text-align: right;\">\n",
              "      <th></th>\n",
              "      <th>RACE/ETHNICITY</th>\n",
              "      <th>Daily</th>\n",
              "      <th>Community</th>\n",
              "      <th>Federal Prison in Lompoc</th>\n",
              "      <th>Total(Community &amp; Prison)</th>\n",
              "    </tr>\n",
              "  </thead>\n",
              "  <tbody>\n",
              "    <tr>\n",
              "      <th>0</th>\n",
              "      <td>Hispanic/Latino</td>\n",
              "      <td>37</td>\n",
              "      <td>1234</td>\n",
              "      <td>377</td>\n",
              "      <td>1611</td>\n",
              "    </tr>\n",
              "    <tr>\n",
              "      <th>1</th>\n",
              "      <td>White, Non-Hispanic</td>\n",
              "      <td>4</td>\n",
              "      <td>189</td>\n",
              "      <td>383</td>\n",
              "      <td>571</td>\n",
              "    </tr>\n",
              "    <tr>\n",
              "      <th>2</th>\n",
              "      <td>Asian, Non-Hispanic</td>\n",
              "      <td>0</td>\n",
              "      <td>12</td>\n",
              "      <td>51</td>\n",
              "      <td>63</td>\n",
              "    </tr>\n",
              "    <tr>\n",
              "      <th>3</th>\n",
              "      <td>Black/African American, Non-Hispanic</td>\n",
              "      <td>1</td>\n",
              "      <td>9</td>\n",
              "      <td>147</td>\n",
              "      <td>156</td>\n",
              "    </tr>\n",
              "    <tr>\n",
              "      <th>4</th>\n",
              "      <td>American Indian/Native Alaskan, Non-Hispanic</td>\n",
              "      <td>0</td>\n",
              "      <td>5</td>\n",
              "      <td>28</td>\n",
              "      <td>33</td>\n",
              "    </tr>\n",
              "    <tr>\n",
              "      <th>5</th>\n",
              "      <td>Native Hawaiian or Pacific Islander, Non-Hispanic</td>\n",
              "      <td>0</td>\n",
              "      <td>2</td>\n",
              "      <td>1</td>\n",
              "      <td>3</td>\n",
              "    </tr>\n",
              "    <tr>\n",
              "      <th>6</th>\n",
              "      <td>Multiracial, Non-Hispanic</td>\n",
              "      <td>0</td>\n",
              "      <td>5</td>\n",
              "      <td>0</td>\n",
              "      <td>5</td>\n",
              "    </tr>\n",
              "    <tr>\n",
              "      <th>7</th>\n",
              "      <td>Other, Non-Hispanic</td>\n",
              "      <td>2</td>\n",
              "      <td>21</td>\n",
              "      <td>0</td>\n",
              "      <td>21</td>\n",
              "    </tr>\n",
              "    <tr>\n",
              "      <th>8</th>\n",
              "      <td>Unknown Ethnicity</td>\n",
              "      <td>6</td>\n",
              "      <td>108</td>\n",
              "      <td>0</td>\n",
              "      <td>108</td>\n",
              "    </tr>\n",
              "    <tr>\n",
              "      <th>9</th>\n",
              "      <td>Unknown Race, Non-Hispanic</td>\n",
              "      <td>1</td>\n",
              "      <td>14</td>\n",
              "      <td>0</td>\n",
              "      <td>14</td>\n",
              "    </tr>\n",
              "    <tr>\n",
              "      <th>10</th>\n",
              "      <td>Missing</td>\n",
              "      <td>25</td>\n",
              "      <td>891</td>\n",
              "      <td>7</td>\n",
              "      <td>898</td>\n",
              "    </tr>\n",
              "    <tr>\n",
              "      <th>11</th>\n",
              "      <td>Suppressed</td>\n",
              "      <td>0</td>\n",
              "      <td>—</td>\n",
              "      <td>—</td>\n",
              "      <td>—</td>\n",
              "    </tr>\n",
              "    <tr>\n",
              "      <th>12</th>\n",
              "      <td>Totals</td>\n",
              "      <td>76</td>\n",
              "      <td>2490</td>\n",
              "      <td>994</td>\n",
              "      <td>3484</td>\n",
              "    </tr>\n",
              "  </tbody>\n",
              "</table>\n",
              "</div>"
            ],
            "text/plain": [
              "                                       RACE/ETHNICITY  ... Total(Community & Prison)\n",
              "0                                     Hispanic/Latino  ...                      1611\n",
              "1                                 White, Non-Hispanic  ...                       571\n",
              "2                                 Asian, Non-Hispanic  ...                        63\n",
              "3                Black/African American, Non-Hispanic  ...                       156\n",
              "4        American Indian/Native Alaskan, Non-Hispanic  ...                        33\n",
              "5   Native Hawaiian or Pacific Islander, Non-Hispanic  ...                         3\n",
              "6                           Multiracial, Non-Hispanic  ...                         5\n",
              "7                                 Other, Non-Hispanic  ...                        21\n",
              "8                                   Unknown Ethnicity  ...                       108\n",
              "9                          Unknown Race, Non-Hispanic  ...                        14\n",
              "10                                            Missing  ...                       898\n",
              "11                                         Suppressed  ...                         —\n",
              "12                                             Totals  ...                      3484\n",
              "\n",
              "[13 rows x 5 columns]"
            ]
          },
          "metadata": {
            "tags": []
          },
          "execution_count": 69
        }
      ]
    },
    {
      "cell_type": "code",
      "metadata": {
        "id": "wRAxuiU5Z4dO",
        "colab_type": "code",
        "colab": {}
      },
      "source": [
        ""
      ],
      "execution_count": 69,
      "outputs": []
    }
  ]
}
