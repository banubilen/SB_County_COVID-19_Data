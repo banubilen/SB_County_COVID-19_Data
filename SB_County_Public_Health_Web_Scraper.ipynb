{
  "nbformat": 4,
  "nbformat_minor": 0,
  "metadata": {
    "colab": {
      "name": "SB_County_Public_Health_Web_Scraper.ipynb",
      "provenance": [],
      "collapsed_sections": [],
      "authorship_tag": "ABX9TyNn8oNQbS6nARScTbyCtUz8",
      "include_colab_link": true
    },
    "kernelspec": {
      "name": "python3",
      "display_name": "Python 3"
    }
  },
  "cells": [
    {
      "cell_type": "markdown",
      "metadata": {
        "id": "view-in-github",
        "colab_type": "text"
      },
      "source": [
        "<a href=\"https://colab.research.google.com/github/bryandaetz1/SB_County_COVID-19_Data/blob/master/SB_County_Public_Health_Web_Scraper.ipynb\" target=\"_parent\"><img src=\"https://colab.research.google.com/assets/colab-badge.svg\" alt=\"Open In Colab\"/></a>"
      ]
    },
    {
      "cell_type": "code",
      "metadata": {
        "id": "YwEDv1lsiSRE",
        "colab_type": "code",
        "colab": {}
      },
      "source": [
        "from bs4 import BeautifulSoup\n",
        "import requests\n",
        "import pandas as pd\n",
        "import numpy as np"
      ],
      "execution_count": 33,
      "outputs": []
    },
    {
      "cell_type": "code",
      "metadata": {
        "id": "RvVOwn3oiUA8",
        "colab_type": "code",
        "colab": {}
      },
      "source": [
        "#specify URL/web page to scrape\n",
        "url = 'https://publichealthsbc.org/status-reports/'\n",
        "\n",
        "#create user-agent (Windows 10 with Google Chrome)\n",
        "user_agent = 'Mozilla/5.0 (Windows NT 10.0; Win64; x64) '\\\n",
        "'AppleWebKit/537.36 (KHTML, like Gecko) Chrome/80.03987.149 '\\\n",
        "'Safara/537.36'\n",
        "\n",
        "headers = {'User-Agent': user_agent}\n",
        "\n",
        "response = requests.get(url, headers = headers).text"
      ],
      "execution_count": 34,
      "outputs": []
    },
    {
      "cell_type": "code",
      "metadata": {
        "id": "U_Y4mRHWieSI",
        "colab_type": "code",
        "colab": {}
      },
      "source": [
        "#parse the HTML from the URL into the BeautifulSoup parse tree format\n",
        "soup = BeautifulSoup(response, 'html.parser')"
      ],
      "execution_count": 35,
      "outputs": []
    },
    {
      "cell_type": "code",
      "metadata": {
        "id": "f4d4nsmLiniy",
        "colab_type": "code",
        "colab": {
          "base_uri": "https://localhost:8080/",
          "height": 35
        },
        "outputId": "5cb1eec1-fc98-433e-9f8c-3f124be14d0c"
      },
      "source": [
        "#grabbing page title to verify that we were able to successfully get requests from webpage \n",
        "soup.title"
      ],
      "execution_count": 36,
      "outputs": [
        {
          "output_type": "execute_result",
          "data": {
            "text/plain": [
              "<title>Status Reports – County of Santa Barbara</title>"
            ]
          },
          "metadata": {
            "tags": []
          },
          "execution_count": 36
        }
      ]
    },
    {
      "cell_type": "code",
      "metadata": {
        "id": "8aqILRBk6xa8",
        "colab_type": "code",
        "colab": {
          "base_uri": "https://localhost:8080/",
          "height": 35
        },
        "outputId": "40a0d580-e50b-4758-c3e5-8d776e43005f"
      },
      "source": [
        "#after inspecting the page, it looks like all the tables that contain data we want have id = 'stats'\n",
        "tables = soup.find_all('table', {'id':'stats'})\n",
        "len(tables)"
      ],
      "execution_count": 37,
      "outputs": [
        {
          "output_type": "execute_result",
          "data": {
            "text/plain": [
              "8"
            ]
          },
          "metadata": {
            "tags": []
          },
          "execution_count": 37
        }
      ]
    },
    {
      "cell_type": "code",
      "metadata": {
        "id": "-tbvIZqCPeG8",
        "colab_type": "code",
        "colab": {}
      },
      "source": [
        "#trying to create function to convert html table to pandas dataframe, had to break this into two functions\n",
        "\n",
        "def TableToList(table):\n",
        "  #getting contents of table and converting the text into a list\n",
        "  raw = list(table.find_all('td'))\n",
        "  text = []\n",
        "  for i in raw:\n",
        "    text.append(i.text)\n",
        "  return text\n",
        "\n",
        "def ListToDf(list, no_columns):\n",
        "  # calculating number of rows for dataframe\n",
        "  rows = int(len(list) / no_columns)\n",
        "\n",
        "  # converting list to numpy array to reshape\n",
        "  array = np.array(list)\n",
        "  array = np.reshape(array, (rows, no_columns))\n",
        "\n",
        "  #converting array to pandas dataframe\n",
        "  df = pd.DataFrame(array[1:], columns = array[0])\n",
        "  return df\n"
      ],
      "execution_count": 38,
      "outputs": []
    },
    {
      "cell_type": "code",
      "metadata": {
        "id": "3k0FWra9WL3y",
        "colab_type": "code",
        "colab": {}
      },
      "source": [
        "table1 = TableToList(tables[0])\n",
        "#table1"
      ],
      "execution_count": 39,
      "outputs": []
    },
    {
      "cell_type": "code",
      "metadata": {
        "id": "XypPdnxrWejR",
        "colab_type": "code",
        "colab": {
          "base_uri": "https://localhost:8080/",
          "height": 458
        },
        "outputId": "2dc41c83-8a66-4951-80d3-1681200cfa0a"
      },
      "source": [
        "current_stats = ListToDf(table1, 6)\n",
        "current_stats"
      ],
      "execution_count": 40,
      "outputs": [
        {
          "output_type": "execute_result",
          "data": {
            "text/html": [
              "<div>\n",
              "<style scoped>\n",
              "    .dataframe tbody tr th:only-of-type {\n",
              "        vertical-align: middle;\n",
              "    }\n",
              "\n",
              "    .dataframe tbody tr th {\n",
              "        vertical-align: top;\n",
              "    }\n",
              "\n",
              "    .dataframe thead th {\n",
              "        text-align: right;\n",
              "    }\n",
              "</style>\n",
              "<table border=\"1\" class=\"dataframe\">\n",
              "  <thead>\n",
              "    <tr style=\"text-align: right;\">\n",
              "      <th></th>\n",
              "      <th>Geographic Area as of 7/2/2020</th>\n",
              "      <th>DailyCases</th>\n",
              "      <th>Total Confirmed Cases</th>\n",
              "      <th>Recovered by Region</th>\n",
              "      <th>Active Cases by Region</th>\n",
              "      <th>Number of Deaths</th>\n",
              "    </tr>\n",
              "  </thead>\n",
              "  <tbody>\n",
              "    <tr>\n",
              "      <th>0</th>\n",
              "      <td>SOUTH COUNTY UNINCORPORATED AREA includes comm...</td>\n",
              "      <td>2</td>\n",
              "      <td>58</td>\n",
              "      <td>48</td>\n",
              "      <td>9</td>\n",
              "      <td>0</td>\n",
              "    </tr>\n",
              "    <tr>\n",
              "      <th>1</th>\n",
              "      <td>CITY OF SANTA BARBARA and the unincorporated a...</td>\n",
              "      <td>18</td>\n",
              "      <td>334</td>\n",
              "      <td>273</td>\n",
              "      <td>59</td>\n",
              "      <td>3</td>\n",
              "    </tr>\n",
              "    <tr>\n",
              "      <th>2</th>\n",
              "      <td>CITY OF GOLETA</td>\n",
              "      <td>2</td>\n",
              "      <td>66</td>\n",
              "      <td>50</td>\n",
              "      <td>14</td>\n",
              "      <td>2</td>\n",
              "    </tr>\n",
              "    <tr>\n",
              "      <th>3</th>\n",
              "      <td>COMMUNITY OF ISLA VISTA</td>\n",
              "      <td>0</td>\n",
              "      <td>17</td>\n",
              "      <td>12</td>\n",
              "      <td>5</td>\n",
              "      <td>0</td>\n",
              "    </tr>\n",
              "    <tr>\n",
              "      <th>4</th>\n",
              "      <td>UNINCORPORATED AREA OF THE GOLETA VALLEY AND G...</td>\n",
              "      <td>0</td>\n",
              "      <td>47</td>\n",
              "      <td>40</td>\n",
              "      <td>6</td>\n",
              "      <td>1</td>\n",
              "    </tr>\n",
              "    <tr>\n",
              "      <th>5</th>\n",
              "      <td>SANTA YNEZ VALLEY including the Cities of Solv...</td>\n",
              "      <td>0</td>\n",
              "      <td>21</td>\n",
              "      <td>20</td>\n",
              "      <td>1</td>\n",
              "      <td>0</td>\n",
              "    </tr>\n",
              "    <tr>\n",
              "      <th>6</th>\n",
              "      <td>CITY OF LOMPOC and the communities of Mission ...</td>\n",
              "      <td>5</td>\n",
              "      <td>161</td>\n",
              "      <td>142</td>\n",
              "      <td>15</td>\n",
              "      <td>4</td>\n",
              "    </tr>\n",
              "    <tr>\n",
              "      <th>7</th>\n",
              "      <td>FEDERAL PRISON IN LOMPOC</td>\n",
              "      <td>0</td>\n",
              "      <td>994</td>\n",
              "      <td>991</td>\n",
              "      <td>0</td>\n",
              "      <td>3</td>\n",
              "    </tr>\n",
              "    <tr>\n",
              "      <th>8</th>\n",
              "      <td>CITY OF SANTA MARIA</td>\n",
              "      <td>69</td>\n",
              "      <td>1275</td>\n",
              "      <td>1041</td>\n",
              "      <td>220</td>\n",
              "      <td>15</td>\n",
              "    </tr>\n",
              "    <tr>\n",
              "      <th>9</th>\n",
              "      <td>COMMUNITY OF ORCUTT</td>\n",
              "      <td>3</td>\n",
              "      <td>81</td>\n",
              "      <td>71</td>\n",
              "      <td>9</td>\n",
              "      <td>0</td>\n",
              "    </tr>\n",
              "    <tr>\n",
              "      <th>10</th>\n",
              "      <td>UNINCORPORATED AREAS of Sisquoc, Casmalia, Gar...</td>\n",
              "      <td>3</td>\n",
              "      <td>119</td>\n",
              "      <td>106</td>\n",
              "      <td>12</td>\n",
              "      <td>1</td>\n",
              "    </tr>\n",
              "    <tr>\n",
              "      <th>11</th>\n",
              "      <td>Out of County</td>\n",
              "      <td>—</td>\n",
              "      <td>—</td>\n",
              "      <td>8</td>\n",
              "      <td>1</td>\n",
              "      <td>—</td>\n",
              "    </tr>\n",
              "    <tr>\n",
              "      <th>12</th>\n",
              "      <td>Pending</td>\n",
              "      <td>9</td>\n",
              "      <td>88</td>\n",
              "      <td>56</td>\n",
              "      <td>23</td>\n",
              "      <td>—</td>\n",
              "    </tr>\n",
              "    <tr>\n",
              "      <th>13</th>\n",
              "      <td>Total</td>\n",
              "      <td>111</td>\n",
              "      <td>3261</td>\n",
              "      <td>2858</td>\n",
              "      <td>374</td>\n",
              "      <td>29</td>\n",
              "    </tr>\n",
              "  </tbody>\n",
              "</table>\n",
              "</div>"
            ],
            "text/plain": [
              "                       Geographic Area as of 7/2/2020  ... Number of Deaths\n",
              "0   SOUTH COUNTY UNINCORPORATED AREA includes comm...  ...                0\n",
              "1   CITY OF SANTA BARBARA and the unincorporated a...  ...                3\n",
              "2                                      CITY OF GOLETA  ...                2\n",
              "3                             COMMUNITY OF ISLA VISTA  ...                0\n",
              "4   UNINCORPORATED AREA OF THE GOLETA VALLEY AND G...  ...                1\n",
              "5   SANTA YNEZ VALLEY including the Cities of Solv...  ...                0\n",
              "6   CITY OF LOMPOC and the communities of Mission ...  ...                4\n",
              "7                            FEDERAL PRISON IN LOMPOC  ...                3\n",
              "8                                 CITY OF SANTA MARIA  ...               15\n",
              "9                                 COMMUNITY OF ORCUTT  ...                0\n",
              "10  UNINCORPORATED AREAS of Sisquoc, Casmalia, Gar...  ...                1\n",
              "11                                      Out of County  ...                —\n",
              "12                                            Pending  ...                —\n",
              "13                                              Total  ...               29\n",
              "\n",
              "[14 rows x 6 columns]"
            ]
          },
          "metadata": {
            "tags": []
          },
          "execution_count": 40
        }
      ]
    },
    {
      "cell_type": "code",
      "metadata": {
        "id": "Ajc5c7yISNBv",
        "colab_type": "code",
        "colab": {}
      },
      "source": [
        "table2 = TableToList(tables[1])\n",
        "table2 = table2[1:]\n",
        "#table2"
      ],
      "execution_count": 41,
      "outputs": []
    },
    {
      "cell_type": "code",
      "metadata": {
        "id": "HfiSEJEpSQAz",
        "colab_type": "code",
        "colab": {
          "base_uri": "https://localhost:8080/",
          "height": 223
        },
        "outputId": "ffd9caa8-14d2-483f-a61e-cbe7296ed622"
      },
      "source": [
        "cases_by_age = ListToDf(table2, 5)\n",
        "cases_by_age"
      ],
      "execution_count": 42,
      "outputs": [
        {
          "output_type": "execute_result",
          "data": {
            "text/html": [
              "<div>\n",
              "<style scoped>\n",
              "    .dataframe tbody tr th:only-of-type {\n",
              "        vertical-align: middle;\n",
              "    }\n",
              "\n",
              "    .dataframe tbody tr th {\n",
              "        vertical-align: top;\n",
              "    }\n",
              "\n",
              "    .dataframe thead th {\n",
              "        text-align: right;\n",
              "    }\n",
              "</style>\n",
              "<table border=\"1\" class=\"dataframe\">\n",
              "  <thead>\n",
              "    <tr style=\"text-align: right;\">\n",
              "      <th></th>\n",
              "      <th>Age Range</th>\n",
              "      <th>Daily</th>\n",
              "      <th>Community</th>\n",
              "      <th>Federal Prisonin Lompoc</th>\n",
              "      <th>Total(Community&amp; Prison)</th>\n",
              "    </tr>\n",
              "  </thead>\n",
              "  <tbody>\n",
              "    <tr>\n",
              "      <th>0</th>\n",
              "      <td>0 – 17</td>\n",
              "      <td>12</td>\n",
              "      <td>204</td>\n",
              "      <td>0</td>\n",
              "      <td>204</td>\n",
              "    </tr>\n",
              "    <tr>\n",
              "      <th>1</th>\n",
              "      <td>18 – 29</td>\n",
              "      <td>30</td>\n",
              "      <td>632</td>\n",
              "      <td>134</td>\n",
              "      <td>766</td>\n",
              "    </tr>\n",
              "    <tr>\n",
              "      <th>2</th>\n",
              "      <td>30 – 49</td>\n",
              "      <td>41</td>\n",
              "      <td>837</td>\n",
              "      <td>526</td>\n",
              "      <td>1363</td>\n",
              "    </tr>\n",
              "    <tr>\n",
              "      <th>3</th>\n",
              "      <td>50 – 69</td>\n",
              "      <td>25</td>\n",
              "      <td>465</td>\n",
              "      <td>302</td>\n",
              "      <td>767</td>\n",
              "    </tr>\n",
              "    <tr>\n",
              "      <th>4</th>\n",
              "      <td>70+</td>\n",
              "      <td>3</td>\n",
              "      <td>129</td>\n",
              "      <td>32</td>\n",
              "      <td>161</td>\n",
              "    </tr>\n",
              "    <tr>\n",
              "      <th>5</th>\n",
              "      <td>Age Suppressed</td>\n",
              "      <td>0</td>\n",
              "      <td>—</td>\n",
              "      <td>—</td>\n",
              "      <td>—</td>\n",
              "    </tr>\n",
              "  </tbody>\n",
              "</table>\n",
              "</div>"
            ],
            "text/plain": [
              "        Age Range Daily  ... Federal Prisonin Lompoc Total(Community& Prison)\n",
              "0          0 – 17    12  ...                       0                      204\n",
              "1         18 – 29    30  ...                     134                      766\n",
              "2         30 – 49    41  ...                     526                     1363\n",
              "3         50 – 69    25  ...                     302                      767\n",
              "4             70+     3  ...                      32                      161\n",
              "5  Age Suppressed     0  ...                       —                        —\n",
              "\n",
              "[6 rows x 5 columns]"
            ]
          },
          "metadata": {
            "tags": []
          },
          "execution_count": 42
        }
      ]
    },
    {
      "cell_type": "code",
      "metadata": {
        "id": "SzuQu9wUUbQ7",
        "colab_type": "code",
        "colab": {}
      },
      "source": [
        "table3 = TableToList(tables[2])\n",
        "table3 = table3[1:]\n",
        "#table3"
      ],
      "execution_count": 43,
      "outputs": []
    },
    {
      "cell_type": "code",
      "metadata": {
        "id": "Q4Dc8z8qW9xd",
        "colab_type": "code",
        "colab": {
          "base_uri": "https://localhost:8080/",
          "height": 164
        },
        "outputId": "17f2f090-a288-43b2-ac61-f7c973c3f921"
      },
      "source": [
        "cases_by_sex = ListToDf(table3, 5)\n",
        "cases_by_sex.columns.values[0] = 'Sex'\n",
        "cases_by_sex"
      ],
      "execution_count": 55,
      "outputs": [
        {
          "output_type": "execute_result",
          "data": {
            "text/html": [
              "<div>\n",
              "<style scoped>\n",
              "    .dataframe tbody tr th:only-of-type {\n",
              "        vertical-align: middle;\n",
              "    }\n",
              "\n",
              "    .dataframe tbody tr th {\n",
              "        vertical-align: top;\n",
              "    }\n",
              "\n",
              "    .dataframe thead th {\n",
              "        text-align: right;\n",
              "    }\n",
              "</style>\n",
              "<table border=\"1\" class=\"dataframe\">\n",
              "  <thead>\n",
              "    <tr style=\"text-align: right;\">\n",
              "      <th></th>\n",
              "      <th>Sex</th>\n",
              "      <th>Daily</th>\n",
              "      <th>Community</th>\n",
              "      <th>Federal Prisonin Lompoc</th>\n",
              "      <th>Total(Community&amp; Prison)</th>\n",
              "    </tr>\n",
              "  </thead>\n",
              "  <tbody>\n",
              "    <tr>\n",
              "      <th>0</th>\n",
              "      <td>Female</td>\n",
              "      <td>53</td>\n",
              "      <td>1076</td>\n",
              "      <td>2</td>\n",
              "      <td>1078</td>\n",
              "    </tr>\n",
              "    <tr>\n",
              "      <th>1</th>\n",
              "      <td>Male</td>\n",
              "      <td>56</td>\n",
              "      <td>1175</td>\n",
              "      <td>979</td>\n",
              "      <td>2154</td>\n",
              "    </tr>\n",
              "    <tr>\n",
              "      <th>2</th>\n",
              "      <td>Unknown</td>\n",
              "      <td>2</td>\n",
              "      <td>16</td>\n",
              "      <td>13</td>\n",
              "      <td>29</td>\n",
              "    </tr>\n",
              "    <tr>\n",
              "      <th>3</th>\n",
              "      <td>Pending</td>\n",
              "      <td>0</td>\n",
              "      <td>0</td>\n",
              "      <td>0</td>\n",
              "      <td>0</td>\n",
              "    </tr>\n",
              "  </tbody>\n",
              "</table>\n",
              "</div>"
            ],
            "text/plain": [
              "       Sex  Daily Community Federal Prisonin Lompoc  Total(Community& Prison)\n",
              "0   Female     53      1076                       2                      1078\n",
              "1     Male     56      1175                     979                      2154\n",
              "2  Unknown      2        16                      13                        29\n",
              "3  Pending      0         0                       0                         0"
            ]
          },
          "metadata": {
            "tags": []
          },
          "execution_count": 55
        }
      ]
    },
    {
      "cell_type": "code",
      "metadata": {
        "id": "fIdreoOvXUMI",
        "colab_type": "code",
        "colab": {}
      },
      "source": [
        "table4 = TableToList(tables[3])\n",
        "#table4"
      ],
      "execution_count": 45,
      "outputs": []
    },
    {
      "cell_type": "code",
      "metadata": {
        "id": "3Y2N4-nzYF_S",
        "colab_type": "code",
        "colab": {
          "base_uri": "https://localhost:8080/",
          "height": 164
        },
        "outputId": "ce81068f-5d66-4568-e730-cab4049550ca"
      },
      "source": [
        "testing_status = ListToDf(table4, 2)\n",
        "testing_status"
      ],
      "execution_count": 46,
      "outputs": [
        {
          "output_type": "execute_result",
          "data": {
            "text/html": [
              "<div>\n",
              "<style scoped>\n",
              "    .dataframe tbody tr th:only-of-type {\n",
              "        vertical-align: middle;\n",
              "    }\n",
              "\n",
              "    .dataframe tbody tr th {\n",
              "        vertical-align: top;\n",
              "    }\n",
              "\n",
              "    .dataframe thead th {\n",
              "        text-align: right;\n",
              "    }\n",
              "</style>\n",
              "<table border=\"1\" class=\"dataframe\">\n",
              "  <thead>\n",
              "    <tr style=\"text-align: right;\">\n",
              "      <th></th>\n",
              "      <th>Testing Status</th>\n",
              "      <th>Total</th>\n",
              "    </tr>\n",
              "  </thead>\n",
              "  <tbody>\n",
              "    <tr>\n",
              "      <th>0</th>\n",
              "      <td>Positive</td>\n",
              "      <td>3261</td>\n",
              "    </tr>\n",
              "    <tr>\n",
              "      <th>1</th>\n",
              "      <td>Negative</td>\n",
              "      <td>40769</td>\n",
              "    </tr>\n",
              "    <tr>\n",
              "      <th>2</th>\n",
              "      <td>Inconclusive</td>\n",
              "      <td>134</td>\n",
              "    </tr>\n",
              "    <tr>\n",
              "      <th>3</th>\n",
              "      <td>Total Tests</td>\n",
              "      <td>44164</td>\n",
              "    </tr>\n",
              "  </tbody>\n",
              "</table>\n",
              "</div>"
            ],
            "text/plain": [
              "  Testing Status Total \n",
              "0       Positive   3261\n",
              "1       Negative  40769\n",
              "2   Inconclusive    134\n",
              "3   Total Tests   44164"
            ]
          },
          "metadata": {
            "tags": []
          },
          "execution_count": 46
        }
      ]
    },
    {
      "cell_type": "code",
      "metadata": {
        "id": "gjuCIUXBYZw8",
        "colab_type": "code",
        "colab": {}
      },
      "source": [
        "table5 = TableToList(tables[4])\n",
        "#table5"
      ],
      "execution_count": 47,
      "outputs": []
    },
    {
      "cell_type": "code",
      "metadata": {
        "id": "jdMCxlcSYuKg",
        "colab_type": "code",
        "colab": {
          "base_uri": "https://localhost:8080/",
          "height": 76
        },
        "outputId": "89f039b5-9dfa-4435-8f67-c44969ece530"
      },
      "source": [
        "high_risk = ListToDf(table5, 2)\n",
        "high_risk"
      ],
      "execution_count": 48,
      "outputs": [
        {
          "output_type": "execute_result",
          "data": {
            "text/html": [
              "<div>\n",
              "<style scoped>\n",
              "    .dataframe tbody tr th:only-of-type {\n",
              "        vertical-align: middle;\n",
              "    }\n",
              "\n",
              "    .dataframe tbody tr th {\n",
              "        vertical-align: top;\n",
              "    }\n",
              "\n",
              "    .dataframe thead th {\n",
              "        text-align: right;\n",
              "    }\n",
              "</style>\n",
              "<table border=\"1\" class=\"dataframe\">\n",
              "  <thead>\n",
              "    <tr style=\"text-align: right;\">\n",
              "      <th></th>\n",
              "      <th>High Risk</th>\n",
              "      <th>Total</th>\n",
              "    </tr>\n",
              "  </thead>\n",
              "  <tbody>\n",
              "    <tr>\n",
              "      <th>0</th>\n",
              "      <td>Health Care Workers (HCW)</td>\n",
              "      <td>157</td>\n",
              "    </tr>\n",
              "  </tbody>\n",
              "</table>\n",
              "</div>"
            ],
            "text/plain": [
              "                   High Risk Total \n",
              "0  Health Care Workers (HCW)    157"
            ]
          },
          "metadata": {
            "tags": []
          },
          "execution_count": 48
        }
      ]
    },
    {
      "cell_type": "code",
      "metadata": {
        "id": "xm1FU8Y5Yz5p",
        "colab_type": "code",
        "colab": {}
      },
      "source": [
        "table6 = TableToList(tables[5])\n",
        "#table6"
      ],
      "execution_count": 49,
      "outputs": []
    },
    {
      "cell_type": "code",
      "metadata": {
        "id": "bCpw50bVY5RQ",
        "colab_type": "code",
        "colab": {
          "base_uri": "https://localhost:8080/",
          "height": 194
        },
        "outputId": "279fce7e-a8be-4c90-c49e-64245abd8534"
      },
      "source": [
        "transmission_method = ListToDf(table6, 2)\n",
        "transmission_method"
      ],
      "execution_count": 50,
      "outputs": [
        {
          "output_type": "execute_result",
          "data": {
            "text/html": [
              "<div>\n",
              "<style scoped>\n",
              "    .dataframe tbody tr th:only-of-type {\n",
              "        vertical-align: middle;\n",
              "    }\n",
              "\n",
              "    .dataframe tbody tr th {\n",
              "        vertical-align: top;\n",
              "    }\n",
              "\n",
              "    .dataframe thead th {\n",
              "        text-align: right;\n",
              "    }\n",
              "</style>\n",
              "<table border=\"1\" class=\"dataframe\">\n",
              "  <thead>\n",
              "    <tr style=\"text-align: right;\">\n",
              "      <th></th>\n",
              "      <th>Transmission Method</th>\n",
              "      <th>Total</th>\n",
              "    </tr>\n",
              "  </thead>\n",
              "  <tbody>\n",
              "    <tr>\n",
              "      <th>0</th>\n",
              "      <td>Community Close Contact Transmission</td>\n",
              "      <td>703</td>\n",
              "    </tr>\n",
              "    <tr>\n",
              "      <th>1</th>\n",
              "      <td>Persons Incarcerated at Federal Prison in Lomp...</td>\n",
              "      <td>994</td>\n",
              "    </tr>\n",
              "    <tr>\n",
              "      <th>2</th>\n",
              "      <td>Travel Transmission</td>\n",
              "      <td>12</td>\n",
              "    </tr>\n",
              "    <tr>\n",
              "      <th>3</th>\n",
              "      <td>Community Transmission</td>\n",
              "      <td>542</td>\n",
              "    </tr>\n",
              "    <tr>\n",
              "      <th>4</th>\n",
              "      <td>Under Investigation</td>\n",
              "      <td>1010</td>\n",
              "    </tr>\n",
              "  </tbody>\n",
              "</table>\n",
              "</div>"
            ],
            "text/plain": [
              "                                 Transmission Method Total\n",
              "0               Community Close Contact Transmission   703\n",
              "1  Persons Incarcerated at Federal Prison in Lomp...   994\n",
              "2                                Travel Transmission    12\n",
              "3                             Community Transmission   542\n",
              "4                                Under Investigation  1010"
            ]
          },
          "metadata": {
            "tags": []
          },
          "execution_count": 50
        }
      ]
    },
    {
      "cell_type": "code",
      "metadata": {
        "id": "1uT_3X0iZCwF",
        "colab_type": "code",
        "colab": {}
      },
      "source": [
        "table7 = TableToList(tables[6])\n",
        "\n",
        "#ran into an issue convering list to dataframe because website had missing values after 'Recovering in Home' and 'NO LONGER REPORTING', using a rough workaround for now to add \"--\" to the places where values were missing\n",
        "table7.insert(13, '--')\n",
        "table7.insert(15, '--')\n",
        "#table7"
      ],
      "execution_count": 51,
      "outputs": []
    },
    {
      "cell_type": "code",
      "metadata": {
        "id": "jKmWG45rZKFz",
        "colab_type": "code",
        "colab": {
          "base_uri": "https://localhost:8080/",
          "height": 223
        },
        "outputId": "4c833e4f-c4f1-43ed-a277-599513a79885"
      },
      "source": [
        "recovery_status = ListToDf(table7, 4)\n",
        "recovery_status"
      ],
      "execution_count": 52,
      "outputs": [
        {
          "output_type": "execute_result",
          "data": {
            "text/html": [
              "<div>\n",
              "<style scoped>\n",
              "    .dataframe tbody tr th:only-of-type {\n",
              "        vertical-align: middle;\n",
              "    }\n",
              "\n",
              "    .dataframe tbody tr th {\n",
              "        vertical-align: top;\n",
              "    }\n",
              "\n",
              "    .dataframe thead th {\n",
              "        text-align: right;\n",
              "    }\n",
              "</style>\n",
              "<table border=\"1\" class=\"dataframe\">\n",
              "  <thead>\n",
              "    <tr style=\"text-align: right;\">\n",
              "      <th></th>\n",
              "      <th>RECOVERY STATUS</th>\n",
              "      <th>Community</th>\n",
              "      <th>Federal Prison in Lompoc</th>\n",
              "      <th>Total(Community &amp; Prison)</th>\n",
              "    </tr>\n",
              "  </thead>\n",
              "  <tbody>\n",
              "    <tr>\n",
              "      <th>0</th>\n",
              "      <td>Active Cases</td>\n",
              "      <td>374</td>\n",
              "      <td>0</td>\n",
              "      <td>374</td>\n",
              "    </tr>\n",
              "    <tr>\n",
              "      <th>1</th>\n",
              "      <td>Recovered Cases</td>\n",
              "      <td>1867</td>\n",
              "      <td>991</td>\n",
              "      <td>2858</td>\n",
              "    </tr>\n",
              "    <tr>\n",
              "      <th>2</th>\n",
              "      <td>Recovering at Home</td>\n",
              "      <td>--</td>\n",
              "      <td>NO LONGER REPORTING</td>\n",
              "      <td>--</td>\n",
              "    </tr>\n",
              "    <tr>\n",
              "      <th>3</th>\n",
              "      <td>Recovering in Hospital</td>\n",
              "      <td>—</td>\n",
              "      <td>—</td>\n",
              "      <td>64</td>\n",
              "    </tr>\n",
              "    <tr>\n",
              "      <th>4</th>\n",
              "      <td>Recovering in ICU</td>\n",
              "      <td>—</td>\n",
              "      <td>—</td>\n",
              "      <td>20</td>\n",
              "    </tr>\n",
              "    <tr>\n",
              "      <th>5</th>\n",
              "      <td>Pending Information</td>\n",
              "      <td>—</td>\n",
              "      <td>—</td>\n",
              "      <td>—</td>\n",
              "    </tr>\n",
              "  </tbody>\n",
              "</table>\n",
              "</div>"
            ],
            "text/plain": [
              "          RECOVERY STATUS  ... Total(Community & Prison)\n",
              "0            Active Cases  ...                       374\n",
              "1         Recovered Cases  ...                      2858\n",
              "2      Recovering at Home  ...                        --\n",
              "3  Recovering in Hospital  ...                        64\n",
              "4       Recovering in ICU  ...                        20\n",
              "5     Pending Information  ...                         —\n",
              "\n",
              "[6 rows x 4 columns]"
            ]
          },
          "metadata": {
            "tags": []
          },
          "execution_count": 52
        }
      ]
    },
    {
      "cell_type": "code",
      "metadata": {
        "id": "ykPSGht7ZTww",
        "colab_type": "code",
        "colab": {}
      },
      "source": [
        "table8 = TableToList(tables[7])\n",
        "#table8"
      ],
      "execution_count": 53,
      "outputs": []
    },
    {
      "cell_type": "code",
      "metadata": {
        "id": "00OQxZfkZr_D",
        "colab_type": "code",
        "colab": {
          "base_uri": "https://localhost:8080/",
          "height": 428
        },
        "outputId": "dfc5dfa7-9707-4e6f-ea1a-1912eadc3f0a"
      },
      "source": [
        "ethnicity = ListToDf(table8, 5)\n",
        "ethnicity"
      ],
      "execution_count": 54,
      "outputs": [
        {
          "output_type": "execute_result",
          "data": {
            "text/html": [
              "<div>\n",
              "<style scoped>\n",
              "    .dataframe tbody tr th:only-of-type {\n",
              "        vertical-align: middle;\n",
              "    }\n",
              "\n",
              "    .dataframe tbody tr th {\n",
              "        vertical-align: top;\n",
              "    }\n",
              "\n",
              "    .dataframe thead th {\n",
              "        text-align: right;\n",
              "    }\n",
              "</style>\n",
              "<table border=\"1\" class=\"dataframe\">\n",
              "  <thead>\n",
              "    <tr style=\"text-align: right;\">\n",
              "      <th></th>\n",
              "      <th>RACE/ETHNICITY</th>\n",
              "      <th>Daily</th>\n",
              "      <th>Community</th>\n",
              "      <th>Federal Prison in Lompoc</th>\n",
              "      <th>Total(Community &amp; Prison)</th>\n",
              "    </tr>\n",
              "  </thead>\n",
              "  <tbody>\n",
              "    <tr>\n",
              "      <th>0</th>\n",
              "      <td>Hispanic/Latino</td>\n",
              "      <td>44</td>\n",
              "      <td>1145</td>\n",
              "      <td>377</td>\n",
              "      <td>1522</td>\n",
              "    </tr>\n",
              "    <tr>\n",
              "      <th>1</th>\n",
              "      <td>White, Non-Hispanic</td>\n",
              "      <td>2</td>\n",
              "      <td>178</td>\n",
              "      <td>383</td>\n",
              "      <td>561</td>\n",
              "    </tr>\n",
              "    <tr>\n",
              "      <th>2</th>\n",
              "      <td>Asian, Non-Hispanic</td>\n",
              "      <td>0</td>\n",
              "      <td>10</td>\n",
              "      <td>51</td>\n",
              "      <td>61</td>\n",
              "    </tr>\n",
              "    <tr>\n",
              "      <th>3</th>\n",
              "      <td>Black/African American, Non-Hispanic</td>\n",
              "      <td>0</td>\n",
              "      <td>8</td>\n",
              "      <td>147</td>\n",
              "      <td>155</td>\n",
              "    </tr>\n",
              "    <tr>\n",
              "      <th>4</th>\n",
              "      <td>American Indian/Native Alaskan, Non-Hispanic</td>\n",
              "      <td>1</td>\n",
              "      <td>5</td>\n",
              "      <td>28</td>\n",
              "      <td>33</td>\n",
              "    </tr>\n",
              "    <tr>\n",
              "      <th>5</th>\n",
              "      <td>Native Hawaiian or Pacific Islander, Non-Hispanic</td>\n",
              "      <td>0</td>\n",
              "      <td>2</td>\n",
              "      <td>1</td>\n",
              "      <td>3</td>\n",
              "    </tr>\n",
              "    <tr>\n",
              "      <th>6</th>\n",
              "      <td>Multiracial, Non-Hispanic</td>\n",
              "      <td>0</td>\n",
              "      <td>5</td>\n",
              "      <td>0</td>\n",
              "      <td>5</td>\n",
              "    </tr>\n",
              "    <tr>\n",
              "      <th>7</th>\n",
              "      <td>Other, Non-Hispanic</td>\n",
              "      <td>1</td>\n",
              "      <td>15</td>\n",
              "      <td>0</td>\n",
              "      <td>15</td>\n",
              "    </tr>\n",
              "    <tr>\n",
              "      <th>8</th>\n",
              "      <td>Unknown Ethnicity</td>\n",
              "      <td>6</td>\n",
              "      <td>97</td>\n",
              "      <td>0</td>\n",
              "      <td>97</td>\n",
              "    </tr>\n",
              "    <tr>\n",
              "      <th>9</th>\n",
              "      <td>Unknown Race, Non-Hispanic</td>\n",
              "      <td>2</td>\n",
              "      <td>13</td>\n",
              "      <td>0</td>\n",
              "      <td>13</td>\n",
              "    </tr>\n",
              "    <tr>\n",
              "      <th>10</th>\n",
              "      <td>Missing</td>\n",
              "      <td>55</td>\n",
              "      <td>789</td>\n",
              "      <td>7</td>\n",
              "      <td>796</td>\n",
              "    </tr>\n",
              "    <tr>\n",
              "      <th>11</th>\n",
              "      <td>Suppressed</td>\n",
              "      <td>0</td>\n",
              "      <td>—</td>\n",
              "      <td>—</td>\n",
              "      <td>—</td>\n",
              "    </tr>\n",
              "    <tr>\n",
              "      <th>12</th>\n",
              "      <td>Totals</td>\n",
              "      <td>111</td>\n",
              "      <td>2267</td>\n",
              "      <td>994</td>\n",
              "      <td>3261</td>\n",
              "    </tr>\n",
              "  </tbody>\n",
              "</table>\n",
              "</div>"
            ],
            "text/plain": [
              "                                       RACE/ETHNICITY  ... Total(Community & Prison)\n",
              "0                                     Hispanic/Latino  ...                      1522\n",
              "1                                 White, Non-Hispanic  ...                       561\n",
              "2                                 Asian, Non-Hispanic  ...                        61\n",
              "3                Black/African American, Non-Hispanic  ...                       155\n",
              "4        American Indian/Native Alaskan, Non-Hispanic  ...                        33\n",
              "5   Native Hawaiian or Pacific Islander, Non-Hispanic  ...                         3\n",
              "6                           Multiracial, Non-Hispanic  ...                         5\n",
              "7                                 Other, Non-Hispanic  ...                        15\n",
              "8                                   Unknown Ethnicity  ...                        97\n",
              "9                          Unknown Race, Non-Hispanic  ...                        13\n",
              "10                                            Missing  ...                       796\n",
              "11                                         Suppressed  ...                         —\n",
              "12                                             Totals  ...                      3261\n",
              "\n",
              "[13 rows x 5 columns]"
            ]
          },
          "metadata": {
            "tags": []
          },
          "execution_count": 54
        }
      ]
    },
    {
      "cell_type": "code",
      "metadata": {
        "id": "wRAxuiU5Z4dO",
        "colab_type": "code",
        "colab": {}
      },
      "source": [
        ""
      ],
      "execution_count": 54,
      "outputs": []
    }
  ]
}