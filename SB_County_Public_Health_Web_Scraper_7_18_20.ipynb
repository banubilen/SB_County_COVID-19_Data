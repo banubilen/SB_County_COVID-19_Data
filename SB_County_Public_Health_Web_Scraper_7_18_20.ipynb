{
  "nbformat": 4,
  "nbformat_minor": 0,
  "metadata": {
    "colab": {
      "name": "SB_County_Public_Health_Web_Scraper_7-18-20.ipynb",
      "provenance": [],
      "collapsed_sections": [],
      "authorship_tag": "ABX9TyOYibq49wulocfqFtM5RuqZ",
      "include_colab_link": true
    },
    "kernelspec": {
      "name": "python3",
      "display_name": "Python 3"
    }
  },
  "cells": [
    {
      "cell_type": "markdown",
      "metadata": {
        "id": "view-in-github",
        "colab_type": "text"
      },
      "source": [
        "<a href=\"https://colab.research.google.com/github/bryandaetz1/SB_County_COVID-19_Data/blob/master/SB_County_Public_Health_Web_Scraper_7_18_20.ipynb\" target=\"_parent\"><img src=\"https://colab.research.google.com/assets/colab-badge.svg\" alt=\"Open In Colab\"/></a>"
      ]
    },
    {
      "cell_type": "code",
      "metadata": {
        "id": "YwEDv1lsiSRE",
        "colab_type": "code",
        "colab": {}
      },
      "source": [
        "from bs4 import BeautifulSoup\n",
        "import requests\n",
        "import pandas as pd\n",
        "import numpy as np"
      ],
      "execution_count": 1,
      "outputs": []
    },
    {
      "cell_type": "code",
      "metadata": {
        "id": "RvVOwn3oiUA8",
        "colab_type": "code",
        "colab": {}
      },
      "source": [
        "#specify URL/web page to scrape\n",
        "url = 'https://publichealthsbc.org/status-reports/'\n",
        "\n",
        "#create user-agent (Windows 10 with Google Chrome)\n",
        "user_agent = 'Mozilla/5.0 (Windows NT 10.0; Win64; x64) '\\\n",
        "'AppleWebKit/537.36 (KHTML, like Gecko) Chrome/80.03987.149 '\\\n",
        "'Safara/537.36'\n",
        "\n",
        "headers = {'User-Agent': user_agent}\n",
        "\n",
        "response = requests.get(url, headers = headers).text"
      ],
      "execution_count": 2,
      "outputs": []
    },
    {
      "cell_type": "code",
      "metadata": {
        "id": "U_Y4mRHWieSI",
        "colab_type": "code",
        "colab": {}
      },
      "source": [
        "#parse the HTML from the URL into the BeautifulSoup parse tree format\n",
        "soup = BeautifulSoup(response, 'html.parser')"
      ],
      "execution_count": 3,
      "outputs": []
    },
    {
      "cell_type": "code",
      "metadata": {
        "id": "f4d4nsmLiniy",
        "colab_type": "code",
        "colab": {
          "base_uri": "https://localhost:8080/",
          "height": 35
        },
        "outputId": "429f5f11-373f-4e36-9d7a-4cee57f612d4"
      },
      "source": [
        "#grabbing page title to verify that we were able to successfully get requests from webpage \n",
        "soup.title"
      ],
      "execution_count": 4,
      "outputs": [
        {
          "output_type": "execute_result",
          "data": {
            "text/plain": [
              "<title>Status Reports – County of Santa Barbara</title>"
            ]
          },
          "metadata": {
            "tags": []
          },
          "execution_count": 4
        }
      ]
    },
    {
      "cell_type": "code",
      "metadata": {
        "id": "8aqILRBk6xa8",
        "colab_type": "code",
        "colab": {
          "base_uri": "https://localhost:8080/",
          "height": 35
        },
        "outputId": "dffa4ea4-2a56-4c6e-9e32-f2c9228143b6"
      },
      "source": [
        "#after inspecting the page, it looks like all the tables that contain data we want have id = 'stats'\n",
        "tables = soup.find_all('div', {'class': 'elementor-text-editor elementor-clearfix'})\n",
        "len(tables)"
      ],
      "execution_count": 5,
      "outputs": [
        {
          "output_type": "execute_result",
          "data": {
            "text/plain": [
              "8"
            ]
          },
          "metadata": {
            "tags": []
          },
          "execution_count": 5
        }
      ]
    },
    {
      "cell_type": "code",
      "metadata": {
        "id": "-tbvIZqCPeG8",
        "colab_type": "code",
        "colab": {}
      },
      "source": [
        "#trying to create function to convert html table to pandas dataframe, had to break this into two functions\n",
        "\n",
        "def TableToList(table):\n",
        "  #getting contents of table and converting the text into a list\n",
        "  raw = list(table.find_all('td'))\n",
        "  text = []\n",
        "  for i in raw:\n",
        "    text.append(i.text)\n",
        "  return text\n",
        "\n",
        "def ListToDf(list, no_columns):\n",
        "  # calculating number of rows for dataframe\n",
        "  rows = int(len(list) / no_columns)\n",
        "\n",
        "  # converting list to numpy array to reshape\n",
        "  array = np.array(list)\n",
        "  array = np.reshape(array, (rows, no_columns))\n",
        "\n",
        "  #converting array to pandas dataframe\n",
        "  df = pd.DataFrame(array[1:], columns = array[0])\n",
        "  return df\n"
      ],
      "execution_count": 6,
      "outputs": []
    },
    {
      "cell_type": "code",
      "metadata": {
        "id": "3k0FWra9WL3y",
        "colab_type": "code",
        "colab": {}
      },
      "source": [
        "table1 = TableToList(tables[0])\n",
        "#table1"
      ],
      "execution_count": 7,
      "outputs": []
    },
    {
      "cell_type": "code",
      "metadata": {
        "id": "XypPdnxrWejR",
        "colab_type": "code",
        "colab": {
          "base_uri": "https://localhost:8080/",
          "height": 458
        },
        "outputId": "973eb82a-260b-4604-ce49-d90388241457"
      },
      "source": [
        "current_stats = ListToDf(table1, 6)\n",
        "current_stats"
      ],
      "execution_count": 8,
      "outputs": [
        {
          "output_type": "execute_result",
          "data": {
            "text/html": [
              "<div>\n",
              "<style scoped>\n",
              "    .dataframe tbody tr th:only-of-type {\n",
              "        vertical-align: middle;\n",
              "    }\n",
              "\n",
              "    .dataframe tbody tr th {\n",
              "        vertical-align: top;\n",
              "    }\n",
              "\n",
              "    .dataframe thead th {\n",
              "        text-align: right;\n",
              "    }\n",
              "</style>\n",
              "<table border=\"1\" class=\"dataframe\">\n",
              "  <thead>\n",
              "    <tr style=\"text-align: right;\">\n",
              "      <th></th>\n",
              "      <th>Geographic Area as of 7/17/2020</th>\n",
              "      <th>DailyCases</th>\n",
              "      <th>Total Confirmed Cases</th>\n",
              "      <th>Recovered by Region</th>\n",
              "      <th>Active Cases by Region</th>\n",
              "      <th>Number of Deaths</th>\n",
              "    </tr>\n",
              "  </thead>\n",
              "  <tbody>\n",
              "    <tr>\n",
              "      <th>0</th>\n",
              "      <td>SOUTH COUNTY UNINCORPORATED AREA includes comm...</td>\n",
              "      <td>3</td>\n",
              "      <td>88</td>\n",
              "      <td>81</td>\n",
              "      <td>6</td>\n",
              "      <td>0</td>\n",
              "    </tr>\n",
              "    <tr>\n",
              "      <th>1</th>\n",
              "      <td>CITY OF SANTA BARBARA and the unincorporated a...</td>\n",
              "      <td>19</td>\n",
              "      <td>562</td>\n",
              "      <td>509</td>\n",
              "      <td>51</td>\n",
              "      <td>3</td>\n",
              "    </tr>\n",
              "    <tr>\n",
              "      <th>2</th>\n",
              "      <td>CITY OF GOLETA</td>\n",
              "      <td>4</td>\n",
              "      <td>101</td>\n",
              "      <td>89</td>\n",
              "      <td>10</td>\n",
              "      <td>2</td>\n",
              "    </tr>\n",
              "    <tr>\n",
              "      <th>3</th>\n",
              "      <td>COMMUNITY OF ISLA VISTA</td>\n",
              "      <td>0</td>\n",
              "      <td>29</td>\n",
              "      <td>28</td>\n",
              "      <td>1</td>\n",
              "      <td>0</td>\n",
              "    </tr>\n",
              "    <tr>\n",
              "      <th>4</th>\n",
              "      <td>UNINCORPORATED AREA OF THE GOLETA VALLEY AND G...</td>\n",
              "      <td>3</td>\n",
              "      <td>77</td>\n",
              "      <td>71</td>\n",
              "      <td>5</td>\n",
              "      <td>1</td>\n",
              "    </tr>\n",
              "    <tr>\n",
              "      <th>5</th>\n",
              "      <td>SANTA YNEZ VALLEY including the Cities of Solv...</td>\n",
              "      <td>2</td>\n",
              "      <td>51</td>\n",
              "      <td>41</td>\n",
              "      <td>10</td>\n",
              "      <td>0</td>\n",
              "    </tr>\n",
              "    <tr>\n",
              "      <th>6</th>\n",
              "      <td>CITY OF LOMPOC and the communities of Mission ...</td>\n",
              "      <td>18</td>\n",
              "      <td>288</td>\n",
              "      <td>241</td>\n",
              "      <td>43</td>\n",
              "      <td>4</td>\n",
              "    </tr>\n",
              "    <tr>\n",
              "      <th>7</th>\n",
              "      <td>FEDERAL PRISON IN LOMPOC</td>\n",
              "      <td>6</td>\n",
              "      <td>1007</td>\n",
              "      <td>997</td>\n",
              "      <td>7</td>\n",
              "      <td>3</td>\n",
              "    </tr>\n",
              "    <tr>\n",
              "      <th>8</th>\n",
              "      <td>CITY OF SANTA MARIA</td>\n",
              "      <td>69</td>\n",
              "      <td>2099</td>\n",
              "      <td>1862</td>\n",
              "      <td>220</td>\n",
              "      <td>18</td>\n",
              "    </tr>\n",
              "    <tr>\n",
              "      <th>9</th>\n",
              "      <td>COMMUNITY OF ORCUTT</td>\n",
              "      <td>5</td>\n",
              "      <td>143</td>\n",
              "      <td>131</td>\n",
              "      <td>11</td>\n",
              "      <td>0</td>\n",
              "    </tr>\n",
              "    <tr>\n",
              "      <th>10</th>\n",
              "      <td>UNINCORPORATED AREAS of Sisquoc, Casmalia, Gar...</td>\n",
              "      <td>5</td>\n",
              "      <td>185</td>\n",
              "      <td>173</td>\n",
              "      <td>12</td>\n",
              "      <td>0</td>\n",
              "    </tr>\n",
              "    <tr>\n",
              "      <th>11</th>\n",
              "      <td>Out of County</td>\n",
              "      <td>—</td>\n",
              "      <td>—</td>\n",
              "      <td>0</td>\n",
              "      <td>0</td>\n",
              "      <td>1</td>\n",
              "    </tr>\n",
              "    <tr>\n",
              "      <th>12</th>\n",
              "      <td>Pending</td>\n",
              "      <td>3</td>\n",
              "      <td>129</td>\n",
              "      <td>103</td>\n",
              "      <td>25</td>\n",
              "      <td>—</td>\n",
              "    </tr>\n",
              "    <tr>\n",
              "      <th>13</th>\n",
              "      <td>Total</td>\n",
              "      <td>137</td>\n",
              "      <td>4759</td>\n",
              "      <td>4326</td>\n",
              "      <td>401</td>\n",
              "      <td>32</td>\n",
              "    </tr>\n",
              "  </tbody>\n",
              "</table>\n",
              "</div>"
            ],
            "text/plain": [
              "                      Geographic Area as of 7/17/2020  ... Number of Deaths\n",
              "0   SOUTH COUNTY UNINCORPORATED AREA includes comm...  ...                0\n",
              "1   CITY OF SANTA BARBARA and the unincorporated a...  ...                3\n",
              "2                                      CITY OF GOLETA  ...                2\n",
              "3                             COMMUNITY OF ISLA VISTA  ...                0\n",
              "4   UNINCORPORATED AREA OF THE GOLETA VALLEY AND G...  ...                1\n",
              "5   SANTA YNEZ VALLEY including the Cities of Solv...  ...                0\n",
              "6   CITY OF LOMPOC and the communities of Mission ...  ...                4\n",
              "7                            FEDERAL PRISON IN LOMPOC  ...                3\n",
              "8                                 CITY OF SANTA MARIA  ...               18\n",
              "9                                 COMMUNITY OF ORCUTT  ...                0\n",
              "10  UNINCORPORATED AREAS of Sisquoc, Casmalia, Gar...  ...                0\n",
              "11                                      Out of County  ...                1\n",
              "12                                            Pending  ...                —\n",
              "13                                              Total  ...               32\n",
              "\n",
              "[14 rows x 6 columns]"
            ]
          },
          "metadata": {
            "tags": []
          },
          "execution_count": 8
        }
      ]
    },
    {
      "cell_type": "code",
      "metadata": {
        "id": "Ajc5c7yISNBv",
        "colab_type": "code",
        "colab": {}
      },
      "source": [
        "table2 = TableToList(tables[1])\n",
        "table2 = table2[1:]\n",
        "#table2"
      ],
      "execution_count": 9,
      "outputs": []
    },
    {
      "cell_type": "code",
      "metadata": {
        "id": "HfiSEJEpSQAz",
        "colab_type": "code",
        "colab": {
          "base_uri": "https://localhost:8080/",
          "height": 252
        },
        "outputId": "c23a2653-905a-4224-bc59-3a114f9bdad4"
      },
      "source": [
        "cases_by_age = ListToDf(table2, 5)\n",
        "cases_by_age"
      ],
      "execution_count": 10,
      "outputs": [
        {
          "output_type": "execute_result",
          "data": {
            "text/html": [
              "<div>\n",
              "<style scoped>\n",
              "    .dataframe tbody tr th:only-of-type {\n",
              "        vertical-align: middle;\n",
              "    }\n",
              "\n",
              "    .dataframe tbody tr th {\n",
              "        vertical-align: top;\n",
              "    }\n",
              "\n",
              "    .dataframe thead th {\n",
              "        text-align: right;\n",
              "    }\n",
              "</style>\n",
              "<table border=\"1\" class=\"dataframe\">\n",
              "  <thead>\n",
              "    <tr style=\"text-align: right;\">\n",
              "      <th></th>\n",
              "      <th>Age Range</th>\n",
              "      <th>Daily</th>\n",
              "      <th>Community</th>\n",
              "      <th>Federal Prisonin Lompoc</th>\n",
              "      <th>Total(Community&amp; Prison)</th>\n",
              "    </tr>\n",
              "  </thead>\n",
              "  <tbody>\n",
              "    <tr>\n",
              "      <th>0</th>\n",
              "      <td>0 – 17</td>\n",
              "      <td>10</td>\n",
              "      <td>348</td>\n",
              "      <td>0</td>\n",
              "      <td>348</td>\n",
              "    </tr>\n",
              "    <tr>\n",
              "      <th>1</th>\n",
              "      <td>18 – 29</td>\n",
              "      <td>37</td>\n",
              "      <td>1077</td>\n",
              "      <td>134</td>\n",
              "      <td>1211</td>\n",
              "    </tr>\n",
              "    <tr>\n",
              "      <th>2</th>\n",
              "      <td>30 – 49</td>\n",
              "      <td>59</td>\n",
              "      <td>1389</td>\n",
              "      <td>535</td>\n",
              "      <td>1924</td>\n",
              "    </tr>\n",
              "    <tr>\n",
              "      <th>3</th>\n",
              "      <td>50 – 69</td>\n",
              "      <td>22</td>\n",
              "      <td>733</td>\n",
              "      <td>304</td>\n",
              "      <td>1037</td>\n",
              "    </tr>\n",
              "    <tr>\n",
              "      <th>4</th>\n",
              "      <td>70+</td>\n",
              "      <td>3</td>\n",
              "      <td>205</td>\n",
              "      <td>34</td>\n",
              "      <td>239</td>\n",
              "    </tr>\n",
              "    <tr>\n",
              "      <th>5</th>\n",
              "      <td>Age Suppressed</td>\n",
              "      <td>6</td>\n",
              "      <td>—</td>\n",
              "      <td>—</td>\n",
              "      <td>6</td>\n",
              "    </tr>\n",
              "    <tr>\n",
              "      <th>6</th>\n",
              "      <td>Pending</td>\n",
              "      <td>0</td>\n",
              "      <td>0</td>\n",
              "      <td>0</td>\n",
              "      <td>0</td>\n",
              "    </tr>\n",
              "  </tbody>\n",
              "</table>\n",
              "</div>"
            ],
            "text/plain": [
              "        Age Range Daily  ... Federal Prisonin Lompoc Total(Community& Prison)\n",
              "0          0 – 17    10  ...                       0                      348\n",
              "1         18 – 29    37  ...                     134                     1211\n",
              "2         30 – 49    59  ...                     535                     1924\n",
              "3         50 – 69    22  ...                     304                     1037\n",
              "4             70+     3  ...                      34                      239\n",
              "5  Age Suppressed     6  ...                       —                        6\n",
              "6         Pending     0  ...                       0                        0\n",
              "\n",
              "[7 rows x 5 columns]"
            ]
          },
          "metadata": {
            "tags": []
          },
          "execution_count": 10
        }
      ]
    },
    {
      "cell_type": "code",
      "metadata": {
        "id": "SzuQu9wUUbQ7",
        "colab_type": "code",
        "colab": {}
      },
      "source": [
        "table3 = TableToList(tables[2])\n",
        "table3 = table3[1:]\n",
        "#table3"
      ],
      "execution_count": 11,
      "outputs": []
    },
    {
      "cell_type": "code",
      "metadata": {
        "id": "Q4Dc8z8qW9xd",
        "colab_type": "code",
        "colab": {
          "base_uri": "https://localhost:8080/",
          "height": 164
        },
        "outputId": "98bafcaa-3c3f-4ed5-9e08-2fe10c68a8f6"
      },
      "source": [
        "cases_by_sex = ListToDf(table3, 5)\n",
        "cases_by_sex.columns.values[0] = 'Sex'\n",
        "cases_by_sex"
      ],
      "execution_count": 12,
      "outputs": [
        {
          "output_type": "execute_result",
          "data": {
            "text/html": [
              "<div>\n",
              "<style scoped>\n",
              "    .dataframe tbody tr th:only-of-type {\n",
              "        vertical-align: middle;\n",
              "    }\n",
              "\n",
              "    .dataframe tbody tr th {\n",
              "        vertical-align: top;\n",
              "    }\n",
              "\n",
              "    .dataframe thead th {\n",
              "        text-align: right;\n",
              "    }\n",
              "</style>\n",
              "<table border=\"1\" class=\"dataframe\">\n",
              "  <thead>\n",
              "    <tr style=\"text-align: right;\">\n",
              "      <th></th>\n",
              "      <th>Sex</th>\n",
              "      <th>Daily</th>\n",
              "      <th>Community</th>\n",
              "      <th>Federal Prisonin Lompoc</th>\n",
              "      <th>Total(Community&amp; Prison)</th>\n",
              "    </tr>\n",
              "  </thead>\n",
              "  <tbody>\n",
              "    <tr>\n",
              "      <th>0</th>\n",
              "      <td>Female</td>\n",
              "      <td>56</td>\n",
              "      <td>1821</td>\n",
              "      <td>2</td>\n",
              "      <td>1823</td>\n",
              "    </tr>\n",
              "    <tr>\n",
              "      <th>1</th>\n",
              "      <td>Male</td>\n",
              "      <td>75</td>\n",
              "      <td>1902</td>\n",
              "      <td>992</td>\n",
              "      <td>2894</td>\n",
              "    </tr>\n",
              "    <tr>\n",
              "      <th>2</th>\n",
              "      <td>Unknown</td>\n",
              "      <td>0</td>\n",
              "      <td>29</td>\n",
              "      <td>13</td>\n",
              "      <td>42</td>\n",
              "    </tr>\n",
              "    <tr>\n",
              "      <th>3</th>\n",
              "      <td>Pending</td>\n",
              "      <td>6</td>\n",
              "      <td>0</td>\n",
              "      <td>0</td>\n",
              "      <td>6</td>\n",
              "    </tr>\n",
              "  </tbody>\n",
              "</table>\n",
              "</div>"
            ],
            "text/plain": [
              "       Sex  Daily Community Federal Prisonin Lompoc  Total(Community& Prison)\n",
              "0   Female     56      1821                       2                      1823\n",
              "1     Male     75      1902                     992                      2894\n",
              "2  Unknown      0        29                      13                        42\n",
              "3  Pending      6         0                       0                         6"
            ]
          },
          "metadata": {
            "tags": []
          },
          "execution_count": 12
        }
      ]
    },
    {
      "cell_type": "code",
      "metadata": {
        "id": "fIdreoOvXUMI",
        "colab_type": "code",
        "colab": {}
      },
      "source": [
        "table4 = TableToList(tables[3])\n",
        "#table4"
      ],
      "execution_count": 13,
      "outputs": []
    },
    {
      "cell_type": "code",
      "metadata": {
        "id": "3Y2N4-nzYF_S",
        "colab_type": "code",
        "colab": {
          "base_uri": "https://localhost:8080/",
          "height": 282
        },
        "outputId": "ecc78c16-0872-4525-d57a-c399c4e401e3"
      },
      "source": [
        "testing_status = ListToDf(table4, 2)\n",
        "testing_status"
      ],
      "execution_count": 14,
      "outputs": [
        {
          "output_type": "execute_result",
          "data": {
            "text/html": [
              "<div>\n",
              "<style scoped>\n",
              "    .dataframe tbody tr th:only-of-type {\n",
              "        vertical-align: middle;\n",
              "    }\n",
              "\n",
              "    .dataframe tbody tr th {\n",
              "        vertical-align: top;\n",
              "    }\n",
              "\n",
              "    .dataframe thead th {\n",
              "        text-align: right;\n",
              "    }\n",
              "</style>\n",
              "<table border=\"1\" class=\"dataframe\">\n",
              "  <thead>\n",
              "    <tr style=\"text-align: right;\">\n",
              "      <th></th>\n",
              "      <th>Testing Status</th>\n",
              "      <th>Total</th>\n",
              "    </tr>\n",
              "  </thead>\n",
              "  <tbody>\n",
              "    <tr>\n",
              "      <th>0</th>\n",
              "      <td>Positive</td>\n",
              "      <td>4759</td>\n",
              "    </tr>\n",
              "    <tr>\n",
              "      <th>1</th>\n",
              "      <td>Negative</td>\n",
              "      <td>55997</td>\n",
              "    </tr>\n",
              "    <tr>\n",
              "      <th>2</th>\n",
              "      <td>Inconclusive</td>\n",
              "      <td>170</td>\n",
              "    </tr>\n",
              "    <tr>\n",
              "      <th>3</th>\n",
              "      <td>Total Tests</td>\n",
              "      <td>60926</td>\n",
              "    </tr>\n",
              "    <tr>\n",
              "      <th>4</th>\n",
              "      <td>Symptomatic Status</td>\n",
              "      <td>Total</td>\n",
              "    </tr>\n",
              "    <tr>\n",
              "      <th>5</th>\n",
              "      <td>Asymptomatic</td>\n",
              "      <td>113</td>\n",
              "    </tr>\n",
              "    <tr>\n",
              "      <th>6</th>\n",
              "      <td>Symptomatic</td>\n",
              "      <td>947</td>\n",
              "    </tr>\n",
              "    <tr>\n",
              "      <th>7</th>\n",
              "      <td>Pending</td>\n",
              "      <td>3699</td>\n",
              "    </tr>\n",
              "  </tbody>\n",
              "</table>\n",
              "</div>"
            ],
            "text/plain": [
              "       Testing Status  Total \n",
              "0            Positive    4759\n",
              "1            Negative   55997\n",
              "2        Inconclusive     170\n",
              "3        Total Tests    60926\n",
              "4  Symptomatic Status  Total \n",
              "5        Asymptomatic     113\n",
              "6         Symptomatic     947\n",
              "7             Pending    3699"
            ]
          },
          "metadata": {
            "tags": []
          },
          "execution_count": 14
        }
      ]
    },
    {
      "cell_type": "code",
      "metadata": {
        "id": "xm1FU8Y5Yz5p",
        "colab_type": "code",
        "colab": {}
      },
      "source": [
        "table5 = TableToList(tables[4])\n",
        "#table5"
      ],
      "execution_count": 15,
      "outputs": []
    },
    {
      "cell_type": "code",
      "metadata": {
        "id": "5m1r48rgQRZk",
        "colab_type": "code",
        "colab": {
          "base_uri": "https://localhost:8080/",
          "height": 76
        },
        "outputId": "adeaee5e-fba9-4f20-9735-3ca110e27dbd"
      },
      "source": [
        "high_risk = ListToDf(table5[:4],2)\n",
        "high_risk"
      ],
      "execution_count": 16,
      "outputs": [
        {
          "output_type": "execute_result",
          "data": {
            "text/html": [
              "<div>\n",
              "<style scoped>\n",
              "    .dataframe tbody tr th:only-of-type {\n",
              "        vertical-align: middle;\n",
              "    }\n",
              "\n",
              "    .dataframe tbody tr th {\n",
              "        vertical-align: top;\n",
              "    }\n",
              "\n",
              "    .dataframe thead th {\n",
              "        text-align: right;\n",
              "    }\n",
              "</style>\n",
              "<table border=\"1\" class=\"dataframe\">\n",
              "  <thead>\n",
              "    <tr style=\"text-align: right;\">\n",
              "      <th></th>\n",
              "      <th>High Risk</th>\n",
              "      <th>Total</th>\n",
              "    </tr>\n",
              "  </thead>\n",
              "  <tbody>\n",
              "    <tr>\n",
              "      <th>0</th>\n",
              "      <td>Health Care Workers (HCW)</td>\n",
              "      <td>193</td>\n",
              "    </tr>\n",
              "  </tbody>\n",
              "</table>\n",
              "</div>"
            ],
            "text/plain": [
              "                   High Risk Total \n",
              "0  Health Care Workers (HCW)    193"
            ]
          },
          "metadata": {
            "tags": []
          },
          "execution_count": 16
        }
      ]
    },
    {
      "cell_type": "code",
      "metadata": {
        "id": "bCpw50bVY5RQ",
        "colab_type": "code",
        "colab": {
          "base_uri": "https://localhost:8080/",
          "height": 194
        },
        "outputId": "f111f508-241e-42dd-ee8f-38f34c42aa13"
      },
      "source": [
        "transmission_method = ListToDf(table5[4:], 2)\n",
        "transmission_method"
      ],
      "execution_count": 17,
      "outputs": [
        {
          "output_type": "execute_result",
          "data": {
            "text/html": [
              "<div>\n",
              "<style scoped>\n",
              "    .dataframe tbody tr th:only-of-type {\n",
              "        vertical-align: middle;\n",
              "    }\n",
              "\n",
              "    .dataframe tbody tr th {\n",
              "        vertical-align: top;\n",
              "    }\n",
              "\n",
              "    .dataframe thead th {\n",
              "        text-align: right;\n",
              "    }\n",
              "</style>\n",
              "<table border=\"1\" class=\"dataframe\">\n",
              "  <thead>\n",
              "    <tr style=\"text-align: right;\">\n",
              "      <th></th>\n",
              "      <th>Transmission Method</th>\n",
              "      <th>Total</th>\n",
              "    </tr>\n",
              "  </thead>\n",
              "  <tbody>\n",
              "    <tr>\n",
              "      <th>0</th>\n",
              "      <td>Community Close Contact Transmission</td>\n",
              "      <td>817</td>\n",
              "    </tr>\n",
              "    <tr>\n",
              "      <th>1</th>\n",
              "      <td>Persons Incarcerated at Federal Prison in Lomp...</td>\n",
              "      <td>1007</td>\n",
              "    </tr>\n",
              "    <tr>\n",
              "      <th>2</th>\n",
              "      <td>Travel Transmission</td>\n",
              "      <td>12</td>\n",
              "    </tr>\n",
              "    <tr>\n",
              "      <th>3</th>\n",
              "      <td>Community Transmission</td>\n",
              "      <td>615</td>\n",
              "    </tr>\n",
              "    <tr>\n",
              "      <th>4</th>\n",
              "      <td>Under Investigation</td>\n",
              "      <td>2308</td>\n",
              "    </tr>\n",
              "  </tbody>\n",
              "</table>\n",
              "</div>"
            ],
            "text/plain": [
              "                                 Transmission Method Total\n",
              "0               Community Close Contact Transmission   817\n",
              "1  Persons Incarcerated at Federal Prison in Lomp...  1007\n",
              "2                                Travel Transmission    12\n",
              "3                             Community Transmission   615\n",
              "4                                Under Investigation  2308"
            ]
          },
          "metadata": {
            "tags": []
          },
          "execution_count": 17
        }
      ]
    },
    {
      "cell_type": "code",
      "metadata": {
        "id": "1uT_3X0iZCwF",
        "colab_type": "code",
        "colab": {
          "base_uri": "https://localhost:8080/",
          "height": 444
        },
        "outputId": "0c9b716c-3293-4559-cbd4-c0626bc4e27f"
      },
      "source": [
        "table6 = TableToList(tables[5])\n",
        "\n",
        "table6"
      ],
      "execution_count": 21,
      "outputs": [
        {
          "output_type": "execute_result",
          "data": {
            "text/plain": [
              "['RECOVERY STATUS',\n",
              " 'Community ',\n",
              " 'Federal Prison in Lompoc',\n",
              " 'Total(Community & Prison)',\n",
              " 'Active Cases',\n",
              " '394',\n",
              " '7',\n",
              " '401',\n",
              " 'Recovered Cases',\n",
              " '3329',\n",
              " '997',\n",
              " '4326',\n",
              " 'Recovering in Hospital',\n",
              " '—',\n",
              " '—',\n",
              " '—',\n",
              " 'Recovering in ICU',\n",
              " '—',\n",
              " '—',\n",
              " '—',\n",
              " 'Pending Information',\n",
              " '—',\n",
              " '—',\n",
              " '—']"
            ]
          },
          "metadata": {
            "tags": []
          },
          "execution_count": 21
        }
      ]
    },
    {
      "cell_type": "code",
      "metadata": {
        "id": "jKmWG45rZKFz",
        "colab_type": "code",
        "colab": {
          "base_uri": "https://localhost:8080/",
          "height": 194
        },
        "outputId": "b2a98878-f9ba-415c-f11a-870ec0e5bdc0"
      },
      "source": [
        "recovery_status = ListToDf(table6, 4)\n",
        "recovery_status"
      ],
      "execution_count": 22,
      "outputs": [
        {
          "output_type": "execute_result",
          "data": {
            "text/html": [
              "<div>\n",
              "<style scoped>\n",
              "    .dataframe tbody tr th:only-of-type {\n",
              "        vertical-align: middle;\n",
              "    }\n",
              "\n",
              "    .dataframe tbody tr th {\n",
              "        vertical-align: top;\n",
              "    }\n",
              "\n",
              "    .dataframe thead th {\n",
              "        text-align: right;\n",
              "    }\n",
              "</style>\n",
              "<table border=\"1\" class=\"dataframe\">\n",
              "  <thead>\n",
              "    <tr style=\"text-align: right;\">\n",
              "      <th></th>\n",
              "      <th>RECOVERY STATUS</th>\n",
              "      <th>Community</th>\n",
              "      <th>Federal Prison in Lompoc</th>\n",
              "      <th>Total(Community &amp; Prison)</th>\n",
              "    </tr>\n",
              "  </thead>\n",
              "  <tbody>\n",
              "    <tr>\n",
              "      <th>0</th>\n",
              "      <td>Active Cases</td>\n",
              "      <td>394</td>\n",
              "      <td>7</td>\n",
              "      <td>401</td>\n",
              "    </tr>\n",
              "    <tr>\n",
              "      <th>1</th>\n",
              "      <td>Recovered Cases</td>\n",
              "      <td>3329</td>\n",
              "      <td>997</td>\n",
              "      <td>4326</td>\n",
              "    </tr>\n",
              "    <tr>\n",
              "      <th>2</th>\n",
              "      <td>Recovering in Hospital</td>\n",
              "      <td>—</td>\n",
              "      <td>—</td>\n",
              "      <td>—</td>\n",
              "    </tr>\n",
              "    <tr>\n",
              "      <th>3</th>\n",
              "      <td>Recovering in ICU</td>\n",
              "      <td>—</td>\n",
              "      <td>—</td>\n",
              "      <td>—</td>\n",
              "    </tr>\n",
              "    <tr>\n",
              "      <th>4</th>\n",
              "      <td>Pending Information</td>\n",
              "      <td>—</td>\n",
              "      <td>—</td>\n",
              "      <td>—</td>\n",
              "    </tr>\n",
              "  </tbody>\n",
              "</table>\n",
              "</div>"
            ],
            "text/plain": [
              "          RECOVERY STATUS  ... Total(Community & Prison)\n",
              "0            Active Cases  ...                       401\n",
              "1         Recovered Cases  ...                      4326\n",
              "2  Recovering in Hospital  ...                         —\n",
              "3       Recovering in ICU  ...                         —\n",
              "4     Pending Information  ...                         —\n",
              "\n",
              "[5 rows x 4 columns]"
            ]
          },
          "metadata": {
            "tags": []
          },
          "execution_count": 22
        }
      ]
    },
    {
      "cell_type": "code",
      "metadata": {
        "id": "ykPSGht7ZTww",
        "colab_type": "code",
        "colab": {}
      },
      "source": [
        "table7 = TableToList(tables[6])\n",
        "#table7"
      ],
      "execution_count": null,
      "outputs": []
    },
    {
      "cell_type": "code",
      "metadata": {
        "id": "00OQxZfkZr_D",
        "colab_type": "code",
        "colab": {}
      },
      "source": [
        "ethnicity = ListToDf(table7, 5)\n",
        "ethnicity"
      ],
      "execution_count": null,
      "outputs": []
    },
    {
      "cell_type": "code",
      "metadata": {
        "id": "wRAxuiU5Z4dO",
        "colab_type": "code",
        "colab": {}
      },
      "source": [
        ""
      ],
      "execution_count": null,
      "outputs": []
    }
  ]
}